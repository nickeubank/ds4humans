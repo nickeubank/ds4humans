{
 "cells": [
  {
   "attachments": {},
   "cell_type": "markdown",
   "metadata": {},
   "source": [
    "# P-Values and Decisions Making"
   ]
  },
  {
   "attachments": {},
   "cell_type": "markdown",
   "metadata": {},
   "source": [
    "Of all the fallacies I see data science students make, few are as pervasive and as important as the mis-interpretation of p-values. And to be honest, I can't fault students. It is all too common for p-values to be mis-used in academic writing and textbooks. And in my own experience, the way most instructors communicate the problem with p-values leaves something to be desired. \n",
    "\n",
    "This reading is my effort to communicate the problem with p-values in a way that I have found to be effective in my own classes. If you find it resonates (and/or would resonate better with some changes!) please don't hesitate to let me know."
   ]
  },
  {
   "cell_type": "markdown",
   "metadata": {},
   "source": [
    "## A Question\n",
    "\n",
    "Below is a regression estimating the effects of a 2007 experiment in which a random sample of ultra-poor households in West Bengal were given livestock and 30 or 40 week stipend of 90 rupees a week for 18 months. Development economists then tracked these households — along with a set of control households — for many years. The code below regresses household expenditures three years after the experiment began on whether a given household was \"treated\" (received the livestock and stipend).[^sample]\n",
    "\n",
    "[^sample]: A small confession: I down-sampled the original data to get interesting p-values. The original study was very successful and the p-values on the full study were very, very small, which makes it harder to use as an example.\n",
    "\n",
    "(Development economists measure income by what people are able to buy, grow, and consume every month, since poor households often don't earn a cash wage.) "
   ]
  },
  {
   "cell_type": "code",
   "execution_count": 2,
   "metadata": {},
   "outputs": [
    {
     "data": {
      "text/html": [
       "<table class=\"simpletable\">\n",
       "<caption>OLS Regression Results</caption>\n",
       "<tr>\n",
       "  <th>Dep. Variable:</th>    <td>pc_exp_month_el2</td> <th>  R-squared:         </th> <td>   0.008</td>\n",
       "</tr>\n",
       "<tr>\n",
       "  <th>Model:</th>                   <td>OLS</td>       <th>  Adj. R-squared:    </th> <td>   0.006</td>\n",
       "</tr>\n",
       "<tr>\n",
       "  <th>Method:</th>             <td>Least Squares</td>  <th>  F-statistic:       </th> <td>   3.467</td>\n",
       "</tr>\n",
       "<tr>\n",
       "  <th>Date:</th>             <td>Wed, 05 Mar 2025</td> <th>  Prob (F-statistic):</th>  <td>0.0633</td> \n",
       "</tr>\n",
       "<tr>\n",
       "  <th>Time:</th>                 <td>13:56:34</td>     <th>  Log-Likelihood:    </th> <td> -2070.4</td>\n",
       "</tr>\n",
       "<tr>\n",
       "  <th>No. Observations:</th>      <td>   431</td>      <th>  AIC:               </th> <td>   4145.</td>\n",
       "</tr>\n",
       "<tr>\n",
       "  <th>Df Residuals:</th>          <td>   429</td>      <th>  BIC:               </th> <td>   4153.</td>\n",
       "</tr>\n",
       "<tr>\n",
       "  <th>Df Model:</th>              <td>     1</td>      <th>                     </th>     <td> </td>   \n",
       "</tr>\n",
       "<tr>\n",
       "  <th>Covariance Type:</th>      <td>nonrobust</td>    <th>                     </th>     <td> </td>   \n",
       "</tr>\n",
       "</table>\n",
       "<table class=\"simpletable\">\n",
       "<tr>\n",
       "      <td></td>         <th>coef</th>     <th>std err</th>      <th>t</th>      <th>P>|t|</th>  <th>[0.025</th>    <th>0.975]</th>  \n",
       "</tr>\n",
       "<tr>\n",
       "  <th>Intercept</th> <td>   60.6431</td> <td>    2.081</td> <td>   29.140</td> <td> 0.000</td> <td>   56.553</td> <td>   64.733</td>\n",
       "</tr>\n",
       "<tr>\n",
       "  <th>treatment</th> <td>    5.3161</td> <td>    2.855</td> <td>    1.862</td> <td> 0.063</td> <td>   -0.295</td> <td>   10.928</td>\n",
       "</tr>\n",
       "</table>\n",
       "<table class=\"simpletable\">\n",
       "<tr>\n",
       "  <th>Omnibus:</th>       <td>192.196</td> <th>  Durbin-Watson:     </th> <td>   2.066</td> \n",
       "</tr>\n",
       "<tr>\n",
       "  <th>Prob(Omnibus):</th> <td> 0.000</td>  <th>  Jarque-Bera (JB):  </th> <td>1065.859</td> \n",
       "</tr>\n",
       "<tr>\n",
       "  <th>Skew:</th>          <td> 1.866</td>  <th>  Prob(JB):          </th> <td>3.56e-232</td>\n",
       "</tr>\n",
       "<tr>\n",
       "  <th>Kurtosis:</th>      <td> 9.740</td>  <th>  Cond. No.          </th> <td>    2.70</td> \n",
       "</tr>\n",
       "</table><br/><br/>Notes:<br/>[1] Standard Errors assume that the covariance matrix of the errors is correctly specified."
      ],
      "text/latex": [
       "\\begin{center}\n",
       "\\begin{tabular}{lclc}\n",
       "\\toprule\n",
       "\\textbf{Dep. Variable:}    & pc\\_exp\\_month\\_el2 & \\textbf{  R-squared:         } &     0.008   \\\\\n",
       "\\textbf{Model:}            &         OLS         & \\textbf{  Adj. R-squared:    } &     0.006   \\\\\n",
       "\\textbf{Method:}           &    Least Squares    & \\textbf{  F-statistic:       } &     3.467   \\\\\n",
       "\\textbf{Date:}             &   Wed, 05 Mar 2025  & \\textbf{  Prob (F-statistic):} &   0.0633    \\\\\n",
       "\\textbf{Time:}             &       13:56:34      & \\textbf{  Log-Likelihood:    } &   -2070.4   \\\\\n",
       "\\textbf{No. Observations:} &           431       & \\textbf{  AIC:               } &     4145.   \\\\\n",
       "\\textbf{Df Residuals:}     &           429       & \\textbf{  BIC:               } &     4153.   \\\\\n",
       "\\textbf{Df Model:}         &             1       & \\textbf{                     } &             \\\\\n",
       "\\textbf{Covariance Type:}  &      nonrobust      & \\textbf{                     } &             \\\\\n",
       "\\bottomrule\n",
       "\\end{tabular}\n",
       "\\begin{tabular}{lcccccc}\n",
       "                   & \\textbf{coef} & \\textbf{std err} & \\textbf{t} & \\textbf{P$> |$t$|$} & \\textbf{[0.025} & \\textbf{0.975]}  \\\\\n",
       "\\midrule\n",
       "\\textbf{Intercept} &      60.6431  &        2.081     &    29.140  &         0.000        &       56.553    &       64.733     \\\\\n",
       "\\textbf{treatment} &       5.3161  &        2.855     &     1.862  &         0.063        &       -0.295    &       10.928     \\\\\n",
       "\\bottomrule\n",
       "\\end{tabular}\n",
       "\\begin{tabular}{lclc}\n",
       "\\textbf{Omnibus:}       & 192.196 & \\textbf{  Durbin-Watson:     } &     2.066  \\\\\n",
       "\\textbf{Prob(Omnibus):} &   0.000 & \\textbf{  Jarque-Bera (JB):  } &  1065.859  \\\\\n",
       "\\textbf{Skew:}          &   1.866 & \\textbf{  Prob(JB):          } & 3.56e-232  \\\\\n",
       "\\textbf{Kurtosis:}      &   9.740 & \\textbf{  Cond. No.          } &      2.70  \\\\\n",
       "\\bottomrule\n",
       "\\end{tabular}\n",
       "%\\caption{OLS Regression Results}\n",
       "\\end{center}\n",
       "\n",
       "Notes: \\newline\n",
       " [1] Standard Errors assume that the covariance matrix of the errors is correctly specified."
      ],
      "text/plain": [
       "<class 'statsmodels.iolib.summary.Summary'>\n",
       "\"\"\"\n",
       "                            OLS Regression Results                            \n",
       "==============================================================================\n",
       "Dep. Variable:       pc_exp_month_el2   R-squared:                       0.008\n",
       "Model:                            OLS   Adj. R-squared:                  0.006\n",
       "Method:                 Least Squares   F-statistic:                     3.467\n",
       "Date:                Wed, 05 Mar 2025   Prob (F-statistic):             0.0633\n",
       "Time:                        13:56:34   Log-Likelihood:                -2070.4\n",
       "No. Observations:                 431   AIC:                             4145.\n",
       "Df Residuals:                     429   BIC:                             4153.\n",
       "Df Model:                           1                                         \n",
       "Covariance Type:            nonrobust                                         \n",
       "==============================================================================\n",
       "                 coef    std err          t      P>|t|      [0.025      0.975]\n",
       "------------------------------------------------------------------------------\n",
       "Intercept     60.6431      2.081     29.140      0.000      56.553      64.733\n",
       "treatment      5.3161      2.855      1.862      0.063      -0.295      10.928\n",
       "==============================================================================\n",
       "Omnibus:                      192.196   Durbin-Watson:                   2.066\n",
       "Prob(Omnibus):                  0.000   Jarque-Bera (JB):             1065.859\n",
       "Skew:                           1.866   Prob(JB):                    3.56e-232\n",
       "Kurtosis:                       9.740   Cond. No.                         2.70\n",
       "==============================================================================\n",
       "\n",
       "Notes:\n",
       "[1] Standard Errors assume that the covariance matrix of the errors is correctly specified.\n",
       "\"\"\""
      ]
     },
     "execution_count": 2,
     "metadata": {},
     "output_type": "execute_result"
    }
   ],
   "source": [
    "import pandas as pd\n",
    "import numpy as np\n",
    "\n",
    "pd.set_option(\"mode.copy_on_write\", True)\n",
    "hh = pd.read_csv(\n",
    "    # \"https://github.com/nickeubank/MIDS_Data/raw/\"\n",
    "    # \"refs/heads/master/cash_transfers/\"\n",
    "    # \"TUP_cash_transfers_pvalue_exercise.csv\"\n",
    "    \"/users/nce8/github/MIDS_Data/\"\n",
    "    \"cash_transfers/TUP_cash_transfers_pvalue_exercise.csv\",\n",
    ")\n",
    "import statsmodels.formula.api as smf\n",
    "\n",
    "model = smf.ols(formula=\"pc_exp_month_el2 ~ treatment\", data=hh).fit()\n",
    "model.summary()"
   ]
  },
  {
   "cell_type": "markdown",
   "metadata": {},
   "source": [
    "So here is my question to you: \n",
    "\n",
    "**What is the probability that the *true* effect of this experiment was 0 and that the difference we see between the treated and control households is the result of chance variation?**\n",
    "\n",
    "In other words, what is the probability, given this result, that the experiment didn't actually do anything?\n",
    "\n",
    "Give it some thought, and once you have an answer, [follow this link to the next page.](./45_pvalues_and_decision_making_2)"
   ]
  }
 ],
 "metadata": {
  "kernelspec": {
   "display_name": "Python 3",
   "language": "python",
   "name": "python3"
  },
  "language_info": {
   "codemirror_mode": {
    "name": "ipython",
    "version": 3
   },
   "file_extension": ".py",
   "mimetype": "text/x-python",
   "name": "python",
   "nbconvert_exporter": "python",
   "pygments_lexer": "ipython3",
   "version": "3.12.8"
  },
  "orig_nbformat": 4
 },
 "nbformat": 4,
 "nbformat_minor": 2
}
