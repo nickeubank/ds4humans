{
    "cells": [
        {
            "cell_type": "markdown",
            "source": [
                "# Practicing Assignment and Data Types"
            ],
            "metadata": {}
        },
        {
            "cell_type": "markdown",
            "source": [
                "Hello and welcome to your first R exercises!\n",
                "\n",
                "To complete these, please open RSTudio and create a NEW text file. Make sure that you save it with a `.R` at the end of the file name, since that's how RStudio knows the file is for R code. \n",
                "\n",
                "Then complete the following exercises in that text file, using comments (lines that start with `#`) to explain what each line does. \n",
                "\n",
                "## Exercise 1: Assigning values\n",
                "\n",
                "1. Assign the numeric value of your age to a variable called `my_age`."
            ],
            "metadata": {}
        },
        {
            "cell_type": "code",
            "execution_count": 1,
            "source": [
                "my_age <- 35"
            ],
            "outputs": [],
            "metadata": {}
        },
        {
            "cell_type": "markdown",
            "source": [
                "2. The average life span of for a person in the world is about 72 years. Create a new variable (you can call it whatever you want) that stores what proportion of that average life span you've already lived. A little morbid, I know, sorry! Inventing exercises is hard! :)"
            ],
            "metadata": {}
        },
        {
            "cell_type": "code",
            "execution_count": 2,
            "source": [
                "avg_lifespan <- 72\n",
                "proportion_lived <- my_age / avg_lifespan\n",
                "proportion_lived"
            ],
            "outputs": [
                {
                    "output_type": "display_data",
                    "data": {
                        "text/plain": [
                            "[1] 0.4861111"
                        ],
                        "text/markdown": [
                            "0.486111111111111"
                        ],
                        "text/latex": [
                            "0.486111111111111"
                        ],
                        "text/html": [
                            "0.486111111111111"
                        ]
                    },
                    "metadata": {}
                }
            ],
            "metadata": {}
        },
        {
            "cell_type": "markdown",
            "source": [
                "\n",
                "## Exercise 2: Functions!\n",
                "\n",
                "1. Use `print()` to print out the value you calculated above."
            ],
            "metadata": {}
        },
        {
            "cell_type": "code",
            "execution_count": 3,
            "source": [
                "print(proportion_lived)"
            ],
            "outputs": [
                {
                    "output_type": "stream",
                    "name": "stdout",
                    "text": [
                        "[1] 0.4861111\n"
                    ]
                }
            ],
            "metadata": {}
        },
        {
            "cell_type": "markdown",
            "source": [
                "2. Multiple that share by 100 to get the *percentage* of the average life span you've lived. Use `print()` and `round()` to print out that percentage with no decimal places. "
            ],
            "metadata": {}
        },
        {
            "cell_type": "code",
            "execution_count": 4,
            "source": [
                "pct_lived <- proportion_lived * 100\n",
                "print(round(pct_lived))"
            ],
            "outputs": [
                {
                    "output_type": "stream",
                    "name": "stdout",
                    "text": [
                        "[1] 49\n"
                    ]
                }
            ],
            "metadata": {}
        },
        {
            "cell_type": "markdown",
            "source": [
                "\n",
                "## Exercise 3: Different types\n",
                "\n",
                "1. Create a variable called `my_name` and assign your name to it."
            ],
            "metadata": {}
        },
        {
            "cell_type": "code",
            "execution_count": 5,
            "source": [
                "my_name <- \"Nick\""
            ],
            "outputs": [],
            "metadata": {}
        },
        {
            "cell_type": "markdown",
            "source": [
                "2. Check the class of `my_name` using the `class()` function."
            ],
            "metadata": {}
        },
        {
            "cell_type": "code",
            "execution_count": 6,
            "source": [
                "class(my_name)"
            ],
            "outputs": [
                {
                    "output_type": "display_data",
                    "data": {
                        "text/plain": [
                            "[1] \"character\""
                        ],
                        "text/markdown": [
                            "'character'"
                        ],
                        "text/latex": [
                            "'character'"
                        ],
                        "text/html": [
                            "'character'"
                        ]
                    },
                    "metadata": {}
                }
            ],
            "metadata": {}
        },
        {
            "cell_type": "markdown",
            "source": [
                "3. Now a weird one. Create a variable called `ten` and assign in the value `\"10\"` in quotes. What's the class of `ten`? Why is it not numeric?"
            ],
            "metadata": {}
        },
        {
            "cell_type": "code",
            "execution_count": 7,
            "source": [
                "ten <- \"10\"\n",
                "class(10)"
            ],
            "outputs": [
                {
                    "output_type": "display_data",
                    "data": {
                        "text/plain": [
                            "[1] \"numeric\""
                        ],
                        "text/markdown": [
                            "'numeric'"
                        ],
                        "text/latex": [
                            "'numeric'"
                        ],
                        "text/html": [
                            "'numeric'"
                        ]
                    },
                    "metadata": {}
                }
            ],
            "metadata": {}
        },
        {
            "cell_type": "markdown",
            "source": [
                "4. What happens if you add `my_age` and `ten`?\n"
            ],
            "metadata": {}
        },
        {
            "cell_type": "markdown",
            "source": [
                "```r\n",
                "my_age + ten\n",
                "\n",
                "> ERROR: Error in my_age + ten: non-numeric argument to binary operator\n",
                "> Error in my_age + ten: non-numeric argument to binary operator\n",
                "> Traceback:\n",
                "```"
            ],
            "metadata": {}
        },
        {
            "cell_type": "markdown",
            "source": [
                "5. To convert `ten` to a numeric type, type `ten <- as.numeric(ten)`. Now check it's class again."
            ],
            "metadata": {}
        },
        {
            "cell_type": "code",
            "execution_count": 8,
            "source": [
                "ten <- as.numeric(ten)\n",
                "class(ten)"
            ],
            "outputs": [
                {
                    "output_type": "display_data",
                    "data": {
                        "text/plain": [
                            "[1] \"numeric\""
                        ],
                        "text/markdown": [
                            "'numeric'"
                        ],
                        "text/latex": [
                            "'numeric'"
                        ],
                        "text/html": [
                            "'numeric'"
                        ]
                    },
                    "metadata": {}
                }
            ],
            "metadata": {}
        },
        {
            "cell_type": "markdown",
            "source": [
                "6. Now can you add `my_age` to `ten`?"
            ],
            "metadata": {}
        },
        {
            "cell_type": "code",
            "execution_count": 9,
            "source": [
                "my_age + ten"
            ],
            "outputs": [
                {
                    "output_type": "display_data",
                    "data": {
                        "text/plain": [
                            "[1] 45"
                        ],
                        "text/markdown": [
                            "45"
                        ],
                        "text/latex": [
                            "45"
                        ],
                        "text/html": [
                            "45"
                        ]
                    },
                    "metadata": {}
                }
            ],
            "metadata": {}
        }
    ],
    "metadata": {
        "orig_nbformat": 4,
        "language_info": {
            "name": "R",
            "codemirror_mode": "r",
            "pygments_lexer": "r",
            "mimetype": "text/x-r-source",
            "file_extension": ".r",
            "version": "4.1.0"
        },
        "kernelspec": {
            "name": "ir",
            "display_name": "R",
            "language": "R"
        }
    },
    "nbformat": 4,
    "nbformat_minor": 2
}