{
    "cells": [
        {
            "cell_type": "markdown",
            "source": [
                "# Vector Exercises: Family and Friends"
            ],
            "metadata": {}
        },
        {
            "cell_type": "markdown",
            "source": [
                "Create a vector that represents the age of at least four different family members or friends. You can name it whatever you want."
            ],
            "metadata": {}
        },
        {
            "cell_type": "code",
            "execution_count": 1,
            "source": [
                "ages <- c(35, 34, 3, 6)"
            ],
            "outputs": [],
            "metadata": {}
        },
        {
            "cell_type": "markdown",
            "source": [
                "1. What is the mean age of the people in your vector? Find out in two ways,\n",
                "with and without using the `mean()` command."
            ],
            "metadata": {}
        },
        {
            "cell_type": "code",
            "execution_count": 2,
            "source": [
                "mean(ages)"
            ],
            "outputs": [
                {
                    "output_type": "display_data",
                    "data": {
                        "text/plain": [
                            "[1] 19.5"
                        ],
                        "text/markdown": [
                            "19.5"
                        ],
                        "text/latex": [
                            "19.5"
                        ],
                        "text/html": [
                            "19.5"
                        ]
                    },
                    "metadata": {}
                }
            ],
            "metadata": {}
        },
        {
            "cell_type": "markdown",
            "source": [
                "2. How old is the youngest person in your vector? (Use an R command to find out.)"
            ],
            "metadata": {}
        },
        {
            "cell_type": "code",
            "execution_count": 3,
            "source": [
                "min(ages)"
            ],
            "outputs": [
                {
                    "output_type": "display_data",
                    "data": {
                        "text/plain": [
                            "[1] 3"
                        ],
                        "text/markdown": [
                            "3"
                        ],
                        "text/latex": [
                            "3"
                        ],
                        "text/html": [
                            "3"
                        ]
                    },
                    "metadata": {}
                }
            ],
            "metadata": {}
        },
        {
            "cell_type": "markdown",
            "source": [
                "3. What is the age gap between the youngest person and the oldest person in your vector?\n",
                "(Again use R to find out, and try to be as general as possible in the sense that\n",
                "your code should work even if the elements in your vector, or their order, change.)"
            ],
            "metadata": {}
        },
        {
            "cell_type": "code",
            "execution_count": 4,
            "source": [
                "max(ages) - min(ages)"
            ],
            "outputs": [
                {
                    "output_type": "display_data",
                    "data": {
                        "text/plain": [
                            "[1] 32"
                        ],
                        "text/markdown": [
                            "32"
                        ],
                        "text/latex": [
                            "32"
                        ],
                        "text/html": [
                            "32"
                        ]
                    },
                    "metadata": {}
                }
            ],
            "metadata": {}
        },
        {
            "cell_type": "markdown",
            "source": [
                "4. How many people in your vector are above age 25? (Again, try to make your code\n",
                "work even in the case that your vector changes.)"
            ],
            "metadata": {}
        },
        {
            "cell_type": "code",
            "execution_count": 5,
            "source": [
                "length(ages[ages > 25])"
            ],
            "outputs": [
                {
                    "output_type": "display_data",
                    "data": {
                        "text/plain": [
                            "[1] 2"
                        ],
                        "text/markdown": [
                            "2"
                        ],
                        "text/latex": [
                            "2"
                        ],
                        "text/html": [
                            "2"
                        ]
                    },
                    "metadata": {}
                }
            ],
            "metadata": {}
        },
        {
            "cell_type": "markdown",
            "source": [
                "5. Replace the age of the oldest person in your vector with the age of someone\n",
                "else you know."
            ],
            "metadata": {}
        },
        {
            "cell_type": "code",
            "execution_count": 6,
            "source": [
                "ages[ages == max(ages)] = 73"
            ],
            "outputs": [],
            "metadata": {}
        },
        {
            "cell_type": "code",
            "execution_count": 7,
            "source": [
                "ages"
            ],
            "outputs": [
                {
                    "output_type": "display_data",
                    "data": {
                        "text/plain": [
                            "[1] 73 34  3  6"
                        ],
                        "text/markdown": [
                            "1. 73\n",
                            "2. 34\n",
                            "3. 3\n",
                            "4. 6\n",
                            "\n",
                            "\n"
                        ],
                        "text/latex": [
                            "\\begin{enumerate*}\n",
                            "\\item 73\n",
                            "\\item 34\n",
                            "\\item 3\n",
                            "\\item 6\n",
                            "\\end{enumerate*}\n"
                        ],
                        "text/html": [
                            "<style>\n",
                            ".list-inline {list-style: none; margin:0; padding: 0}\n",
                            ".list-inline>li {display: inline-block}\n",
                            ".list-inline>li:not(:last-child)::after {content: \"\\00b7\"; padding: 0 .5ex}\n",
                            "</style>\n",
                            "<ol class=list-inline><li>73</li><li>34</li><li>3</li><li>6</li></ol>\n"
                        ]
                    },
                    "metadata": {}
                }
            ],
            "metadata": {}
        },
        {
            "cell_type": "markdown",
            "source": [
                "6. Create a new vector that indicates how old each person in your vector\n",
                "will be in 10 years."
            ],
            "metadata": {}
        },
        {
            "cell_type": "code",
            "execution_count": 8,
            "source": [
                "future_ages = ages + 10"
            ],
            "outputs": [],
            "metadata": {}
        },
        {
            "cell_type": "markdown",
            "source": [
                "7. Create a new vector that indicates what year each person in your vector\n",
                "will turn 100 years old."
            ],
            "metadata": {}
        },
        {
            "cell_type": "code",
            "execution_count": 9,
            "source": [
                "years_to_100 <- 100 - ages"
            ],
            "outputs": [],
            "metadata": {}
        },
        {
            "cell_type": "markdown",
            "source": [
                "8. Create a new vector with a random sample of 3 individuals from your original vector using the `sample()` function. Use `?sample` to read more about it."
            ],
            "metadata": {}
        },
        {
            "cell_type": "code",
            "execution_count": 11,
            "source": [
                "sampled_ages <- sample(ages, 3)\n",
                "sampled_ages"
            ],
            "outputs": [
                {
                    "output_type": "display_data",
                    "data": {
                        "text/plain": [
                            "[1]  3  6 34"
                        ],
                        "text/markdown": [
                            "1. 3\n",
                            "2. 6\n",
                            "3. 34\n",
                            "\n",
                            "\n"
                        ],
                        "text/latex": [
                            "\\begin{enumerate*}\n",
                            "\\item 3\n",
                            "\\item 6\n",
                            "\\item 34\n",
                            "\\end{enumerate*}\n"
                        ],
                        "text/html": [
                            "<style>\n",
                            ".list-inline {list-style: none; margin:0; padding: 0}\n",
                            ".list-inline>li {display: inline-block}\n",
                            ".list-inline>li:not(:last-child)::after {content: \"\\00b7\"; padding: 0 .5ex}\n",
                            "</style>\n",
                            "<ol class=list-inline><li>3</li><li>6</li><li>34</li></ol>\n"
                        ]
                    },
                    "metadata": {}
                }
            ],
            "metadata": {}
        },
        {
            "cell_type": "markdown",
            "source": [
                "9. What is the mean age of the people in this new vector?"
            ],
            "metadata": {}
        },
        {
            "cell_type": "code",
            "execution_count": 12,
            "source": [
                "mean(sampled_ages)"
            ],
            "outputs": [
                {
                    "output_type": "display_data",
                    "data": {
                        "text/plain": [
                            "[1] 14.33333"
                        ],
                        "text/markdown": [
                            "14.3333333333333"
                        ],
                        "text/latex": [
                            "14.3333333333333"
                        ],
                        "text/html": [
                            "14.3333333333333"
                        ]
                    },
                    "metadata": {}
                }
            ],
            "metadata": {}
        }
    ],
    "metadata": {
        "orig_nbformat": 4,
        "language_info": {
            "name": "R",
            "codemirror_mode": "r",
            "pygments_lexer": "r",
            "mimetype": "text/x-r-source",
            "file_extension": ".r",
            "version": "4.1.0"
        },
        "kernelspec": {
            "name": "ir",
            "display_name": "R",
            "language": "R"
        }
    },
    "nbformat": 4,
    "nbformat_minor": 2
}