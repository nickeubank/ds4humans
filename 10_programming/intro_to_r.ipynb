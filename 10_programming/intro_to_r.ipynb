{
 "cells": [
  {
   "cell_type": "markdown",
   "source": [
    "# Intro to R\n",
    "\n",
    "In this first tutorial, we'll cover the very basics of R, including installation. \n",
    "\n",
    "If you've worked with R before, you will probably want to move through this quickly. With that said, I would still encourage you to read it as you may find this reading provides new ways of thinking about concepts you have seen before."
   ],
   "metadata": {}
  },
  {
   "cell_type": "markdown",
   "source": [
    "## Installing R\n",
    "\n",
    "Everything we do in this course we'll be doing using the *free!* open-source programming language R. \n",
    "\n",
    "But the way we'll mostly *use* R is with an application called [RStudio](https://www.rstudio.com/). RStudio is a \"helper\" program that makes it easier to work with R (it is what is referred to as an \"editor\" or \"integrated development environment\" (IDE)). When you're working in RStudio, all the code you run is being run by R itself, but RStudio provides tools to make it easier to see what R is doing, to organize the code your write to run in R, to look at plots R generates, and more. In other words, you don't need RStudio to use R (some people use other editors, like VS Code), but you definitely need R to run RStudio, and any code you write in RStudio will work anywhere R is available. \n",
    "\n",
    "For an installation tutorial and introduction to RStudio functionality, please [**go watch this video**](https://www.youtube.com/watch?v=ulIv0NiVTs4), then come back here."
   ],
   "metadata": {}
  },
  {
   "cell_type": "markdown",
   "source": [
    "## Code Examples On This Site\n",
    "\n",
    "On this website, you'll find that code examples don't look quite like they do when you're typing in R yourself. Instead, you'll see code appear in grey blocks with a number on the left side. Below these blocks, you will see the output R has returned after running that code. For example, here's that same `\"Hello!\"` line in the style used on this site:"
   ],
   "metadata": {}
  },
  {
   "cell_type": "code",
   "execution_count": 1,
   "source": [
    "\"Hello!\""
   ],
   "outputs": [
    {
     "output_type": "display_data",
     "data": {
      "text/plain": [
       "[1] \"Hello!\""
      ],
      "text/markdown": [
       "'Hello!'"
      ],
      "text/latex": [
       "'Hello!'"
      ],
      "text/html": [
       "'Hello!'"
      ]
     },
     "metadata": {}
    }
   ],
   "metadata": {}
  },
  {
   "cell_type": "markdown",
   "source": [
    "In addition, some code will include \"comments\". Comments are notes placed in someone's code to explain what's going on to other programmers. Comments always start with a `#` in R, which tells R that the text that follows is not something it should try and execute. Comments will always appear in italics and in a different color. "
   ],
   "metadata": {}
  },
  {
   "cell_type": "code",
   "execution_count": 2,
   "source": [
    "# This is a comment. In the next line, I'll add 2 and 3.\n",
    "2 + 3"
   ],
   "outputs": [
    {
     "output_type": "display_data",
     "data": {
      "text/plain": [
       "[1] 5"
      ],
      "text/markdown": [
       "5"
      ],
      "text/latex": [
       "5"
      ],
      "text/html": [
       "5"
      ]
     },
     "metadata": {}
    }
   ],
   "metadata": {}
  },
  {
   "cell_type": "markdown",
   "source": [
    "## Basic Math in R\n",
    "\n",
    "As you saw in the RStudio welcome video above, we can run code in R from RStudio either by:\n",
    "\n",
    "- putting our cursor on a line / highlighting a line and pressing `command-enter` (on a mac) or `control-enter` (in Windows), or\n",
    "- typing directly into the R console window and pressing return,\n",
    "\n",
    "at which point that line of code will be executed in the R console. \n",
    "\n",
    "Now that we've learned how to execute code in R, we can start asking R to do things for us. For example, R can do all the normal math operations you are familiar with:"
   ],
   "metadata": {}
  },
  {
   "cell_type": "code",
   "execution_count": 3,
   "source": [
    "# Addition\n",
    "2 + 2"
   ],
   "outputs": [
    {
     "output_type": "display_data",
     "data": {
      "text/plain": [
       "[1] 4"
      ],
      "text/markdown": [
       "4"
      ],
      "text/latex": [
       "4"
      ],
      "text/html": [
       "4"
      ]
     },
     "metadata": {}
    }
   ],
   "metadata": {}
  },
  {
   "cell_type": "code",
   "execution_count": 4,
   "source": [
    "# Multiplication\n",
    "2 * 3"
   ],
   "outputs": [
    {
     "output_type": "display_data",
     "data": {
      "text/plain": [
       "[1] 6"
      ],
      "text/markdown": [
       "6"
      ],
      "text/latex": [
       "6"
      ],
      "text/html": [
       "6"
      ]
     },
     "metadata": {}
    }
   ],
   "metadata": {}
  },
  {
   "cell_type": "code",
   "execution_count": 5,
   "source": [
    "# Division\n",
    "4 / 2"
   ],
   "outputs": [
    {
     "output_type": "display_data",
     "data": {
      "text/plain": [
       "[1] 2"
      ],
      "text/markdown": [
       "2"
      ],
      "text/latex": [
       "2"
      ],
      "text/html": [
       "2"
      ]
     },
     "metadata": {}
    }
   ],
   "metadata": {}
  },
  {
   "cell_type": "code",
   "execution_count": 6,
   "source": [
    "# And even exponentiation (e.g. 2 raised to the third power)\n",
    "2 ^ 3"
   ],
   "outputs": [
    {
     "output_type": "display_data",
     "data": {
      "text/plain": [
       "[1] 8"
      ],
      "text/markdown": [
       "8"
      ],
      "text/latex": [
       "8"
      ],
      "text/html": [
       "8"
      ]
     },
     "metadata": {}
    }
   ],
   "metadata": {}
  },
  {
   "cell_type": "code",
   "execution_count": 7,
   "source": [
    "# R can also do logical comparisons\n",
    "5 < 7"
   ],
   "outputs": [
    {
     "output_type": "display_data",
     "data": {
      "text/plain": [
       "[1] TRUE"
      ],
      "text/markdown": [
       "TRUE"
      ],
      "text/latex": [
       "TRUE"
      ],
      "text/html": [
       "TRUE"
      ]
     },
     "metadata": {}
    }
   ],
   "metadata": {}
  },
  {
   "cell_type": "code",
   "execution_count": 8,
   "source": [
    "3 >= 5"
   ],
   "outputs": [
    {
     "output_type": "display_data",
     "data": {
      "text/plain": [
       "[1] FALSE"
      ],
      "text/markdown": [
       "FALSE"
      ],
      "text/latex": [
       "FALSE"
      ],
      "text/html": [
       "FALSE"
      ]
     },
     "metadata": {}
    }
   ],
   "metadata": {}
  },
  {
   "cell_type": "markdown",
   "source": [
    "## Variables\n",
    "\n",
    "Congratulations! You now know how to do math in R!\n",
    "\n",
    "If we want to do more than use R as a calculator, though, we need to be able to store the results of our calculations. That will allow us to reuse those results in the future, or combine the results of different calculations. In the examples above, R did the math we asked it to do, and printed out the results, but it didn't store a copy of those results anywhere.\n",
    "\n",
    "In order to store the result of a calculation, we need to *assign it to a variable*. We do this with the assignment operator: `<-`. \n",
    "\n",
    "For example, if we wanted to assign the value of `6` to the variable `a`, we'd type:"
   ],
   "metadata": {}
  },
  {
   "cell_type": "code",
   "execution_count": 9,
   "source": [
    "a <- 6"
   ],
   "outputs": [],
   "metadata": {}
  },
  {
   "cell_type": "markdown",
   "source": [
    "Then if we asked R for the value of `a`, we'd get that `6` back:"
   ],
   "metadata": {}
  },
  {
   "cell_type": "code",
   "execution_count": 10,
   "source": [
    "a"
   ],
   "outputs": [
    {
     "output_type": "display_data",
     "data": {
      "text/plain": [
       "[1] 6"
      ],
      "text/markdown": [
       "6"
      ],
      "text/latex": [
       "6"
      ],
      "text/html": [
       "6"
      ]
     },
     "metadata": {}
    }
   ],
   "metadata": {}
  },
  {
   "cell_type": "markdown",
   "source": [
    "And if we tried to do math with `a`, R would treat that variable `a` as though it were `6`:"
   ],
   "metadata": {}
  },
  {
   "cell_type": "code",
   "execution_count": 11,
   "source": [
    "a * 2"
   ],
   "outputs": [
    {
     "output_type": "display_data",
     "data": {
      "text/plain": [
       "[1] 12"
      ],
      "text/markdown": [
       "12"
      ],
      "text/latex": [
       "12"
      ],
      "text/html": [
       "12"
      ]
     },
     "metadata": {}
    }
   ],
   "metadata": {}
  },
  {
   "cell_type": "markdown",
   "source": [
    "### A Variable is a Box\n",
    "\n",
    "So what is a variable? **A variable is a box that stores a value.** And assigning a value to a variable is how we put a value in the box.\n",
    "\n",
    "To illustrate, let's step through a few lines of code and illustrate what's going using this idea of a variable as a box. In particular, let's walk through the following code to see what's happening on each line:\n",
    "\n",
    "```r\n",
    "a <- 6\n",
    "b <- 7\n",
    "c <- b * a\n",
    "a <- 2\n",
    "```\n",
    "\n",
    "Here, in the first line, we're assigning the value of `6` to `a`, so as we see R is putting a `6` in the box labelled `a`. "
   ],
   "metadata": {}
  },
  {
   "cell_type": "markdown",
   "source": [
    "![reading_assignment_1](images/reading_assignment_1.png)\n",
    "\n",
    "Then R does the same thing with `b`, putting the assigned value of `7` in a box named `b`. \n",
    "\n",
    "![reading_assignment_2](images/reading_assignment_2.png)\n",
    "\n",
    "Now things get a little more interesting. Instead of a single value being assigned to a variable, we now have an *expression* on the right side of the assignment operator. The way R handles this is by first evaluating the expression on the right side of the assignment operator (`<-`), then assigning it to the variable. \n",
    "\n",
    "Note there's something a little weird about this: even though most of us are used to reading from left-to-right, R evaluates the expression on the right *first*, *then* assigning it to the variable on the left. \n",
    "\n",
    "![reading_assignment_3](images/reading_assignment_3.png)\n",
    "\n",
    "Finally, we see an example of re-assignment -- here a new value is assigned to `a` (`2`), and that value *overwrites* the old value that was in the box `a`. The old value (`6`) has been lost by this re-assignment, it's job done. \n",
    "\n",
    "![reading_assignment_4](images/reading_assignment_4.png)"
   ],
   "metadata": {}
  },
  {
   "cell_type": "markdown",
   "source": [
    "This method of reading code may seem unnecessarily complicated, but as we'll see when we return to this way of writing out code in a few lectures, it is an extremely powerful approach. \n",
    "\n",
    "Indeed, this idea of variables as boxes is so fundamental to programming that it's even embodied in RStudio. If you look at the top right corner of RStudio, you'll find a tab called \"Environment\". That tab displays all the variables defined in the current session of R. And if you run the code we just worked through, you'll see that it displays the values of `a`, `b`, and `c` basically the same way we wrote them above: as values in boxes with the variable name next to them as a label! (Don't worry if you don't have that `p` variable in your RStudio -- that's just a variable my R session loads automatically on startup.):\n",
    "\n",
    "![rstudio_variables](images/rstudio_variables.png)"
   ],
   "metadata": {}
  },
  {
   "cell_type": "markdown",
   "source": [
    "<div class=\"alert alert-info\">\n",
    "    \n",
    "<b>NOTE:</b> There are actually <b>two</b> ways to assign a value to a variable name in R.\n",
    "\n",
    "\n",
    "The first, which we will use in these tutorials, is to use a less than sign and a dash to create an arrow (`<-`): \n",
    "\n",
    "`x <- 42`\n",
    "\n",
    "and the second is to use a single equal sign (`=`):\n",
    "\n",
    "`x = 42` \n",
    "\n",
    "When R was first created it only supported the `<-` operator, but most other languages use `=` is the assignment operator, so eventually R decided to support both, so you can use them interchangeably. \n",
    "\n",
    "However, be aware that most style guides for R still suggested that the `<-` operator is the preferred choice (though I will admit that I often just use `=` in my own code... ;)).\n",
    "\n",
    "</div>"
   ],
   "metadata": {}
  },
  {
   "cell_type": "markdown",
   "source": [
    "## Checking Variable Values\n",
    "\n",
    "One way to see the value of variables is to just look at \"Environment\" tab in RStudio, as shown above. But while this is a nice feature of RStudio -- and sufficient in many cases -- it's good to know how to get the values of variables directly in the R console. \n",
    "\n",
    "There are two ways to see the value of a variable in R:\n",
    "\n",
    "1. Type in the variable name (or any other expression) without assigning it to a variable. \n",
    "2. Use the `print()` statement. \n",
    "\n",
    "The first is what we were doing at the top of this tutorial -- if you run a line of code and don't assignment to a variable, then R will evaluate the expression and print out the result. This is true whether the expression is just the name of a variable (e.g. if you run `a`, R just prints the value that's been assigned to `a`), or something more complicated (`(a * 123) / 42`)."
   ],
   "metadata": {}
  },
  {
   "cell_type": "code",
   "execution_count": 12,
   "source": [
    "z <- 42\n",
    "z"
   ],
   "outputs": [
    {
     "output_type": "display_data",
     "data": {
      "text/plain": [
       "[1] 42"
      ],
      "text/markdown": [
       "42"
      ],
      "text/latex": [
       "42"
      ],
      "text/html": [
       "42"
      ]
     },
     "metadata": {}
    }
   ],
   "metadata": {}
  },
  {
   "cell_type": "markdown",
   "source": [
    "The second option is to use the `print()` function in R. Basically, any expression you put between the two parenthesis of the print function will get printed out. For simple scripts like what we're writing now, there's rarely a reason to use `print()` instead of typing out the expression you want evaluated and printed, but it'll become really useful later when we write some fancier code!"
   ],
   "metadata": {}
  },
  {
   "cell_type": "code",
   "execution_count": 13,
   "source": [
    "print(z)"
   ],
   "outputs": [
    {
     "output_type": "stream",
     "name": "stdout",
     "text": [
      "[1] 42\n"
     ]
    }
   ],
   "metadata": {}
  },
  {
   "cell_type": "markdown",
   "source": [
    "## Order of Evaluation\n",
    "\n",
    "As noted above, the way that R evaluates a line of code is by (1) evaluating the expression on the right-hand side of the assignment operator, *then* inserting that value into the box associated with the variable on the left-hand side of the assignment operator. \n",
    "\n",
    "Given that, can you predict what the value of `a` will be after the following code is run?\n"
   ],
   "metadata": {}
  },
  {
   "cell_type": "code",
   "execution_count": 14,
   "source": [
    "a <- 4\n",
    "a <- a + 1"
   ],
   "outputs": [],
   "metadata": {}
  },
  {
   "cell_type": "markdown",
   "source": [
    "If you said `5`, you'd be right! Even though `a` is on both sides of the assignment operator, because there's a clear order-of-operations, there's no ambiguity in the result.\n",
    "\n",
    "When the expression on the right-hand side is more complex, R will evaluate it using the same order of operations you learned in high school math (parenthesis, exponents, multiplication and division, addition and subtraction, or [PEMDAS](https://www.mathsisfun.com/operation-order-pemdas.html)). So R will parse the following code: "
   ],
   "metadata": {}
  },
  {
   "cell_type": "code",
   "execution_count": 15,
   "source": [
    "5 + 2 * (20 - 2)"
   ],
   "outputs": [
    {
     "output_type": "display_data",
     "data": {
      "text/plain": [
       "[1] 41"
      ],
      "text/markdown": [
       "41"
      ],
      "text/latex": [
       "41"
      ],
      "text/html": [
       "41"
      ]
     },
     "metadata": {}
    }
   ],
   "metadata": {}
  },
  {
   "cell_type": "markdown",
   "source": [
    "By evaluating things in parentheses, then any multiplication/division operations, and then any addition, subtraction operations:\n",
    "```R\n",
    "  5 + 2 * (20 - 2)\n",
    "= 5 + 2 * 18 # Parenthesis evaluated\n",
    "= 5 + 36     # Multiplication evaluated\n",
    "= 41         # Addition evaluated. \n",
    "```\n",
    "\n",
    "**NOT** left-to-right: \n",
    "\n",
    "```R\n",
    "  5 + 2 * (20 - 2)\n",
    "= 7 * (20 - 2)\n",
    "= 7 * 18\n",
    "= 126\n",
    "```\n"
   ],
   "metadata": {}
  },
  {
   "cell_type": "markdown",
   "source": [
    "## Functions\n",
    "\n",
    "The last thing to talk about in this reading is one of the most useful concepts in computer science: the function!\n",
    "\n",
    "Functions are small packages of code that take inputs from the user, do some manipulations with those inputs, and return a result. For example, `sqrt()` is a function that calculates the square root of a number. To use it, you \"pass\" a number to the function by putting between the two parentheses that follow the function name, and it returns the square root of that number:"
   ],
   "metadata": {}
  },
  {
   "cell_type": "code",
   "execution_count": 16,
   "source": [
    "sqrt(9)"
   ],
   "outputs": [
    {
     "output_type": "display_data",
     "data": {
      "text/plain": [
       "[1] 3"
      ],
      "text/markdown": [
       "3"
      ],
      "text/latex": [
       "3"
      ],
      "text/html": [
       "3"
      ]
     },
     "metadata": {}
    }
   ],
   "metadata": {}
  },
  {
   "cell_type": "markdown",
   "source": [
    "The inputs you pass to a function are called \"arguments,\" and whatever the function returns to you is called the \"return value.\"\n",
    "\n",
    "Different functions may take different numbers of arguments. The function `choose()`, for example, calculates the number of ways that you could pull `N` items from a collection of `K` total items. \n",
    "\n",
    "To illustrate, suppose we wanted to know how many five card poker hands we could make from a deck of 52 cards (If you've taken probability, you'll recognize this as a way of doing combinatorics!)\n",
    "\n",
    "The function `choose()` takes 2 arguments: the first is the total number of items (52 cards, in our example), and the second is the number of items you want to draw (say, 5 cards). So to answer our question, we'd type:"
   ],
   "metadata": {}
  },
  {
   "cell_type": "code",
   "execution_count": 17,
   "source": [
    "choose(52, 5)"
   ],
   "outputs": [
    {
     "output_type": "display_data",
     "data": {
      "text/plain": [
       "[1] 2598960"
      ],
      "text/markdown": [
       "2598960"
      ],
      "text/latex": [
       "2598960"
      ],
      "text/html": [
       "2598960"
      ]
     },
     "metadata": {}
    }
   ],
   "metadata": {}
  },
  {
   "cell_type": "markdown",
   "source": [
    "Some functions also have optional *keyword arguments*. To use these optional arguments, you have to type the name of the argument and `=` before you put in a specific value. For example, R has a function called `round` that rounds off numeric data. By default, `round` will round numbers off to the nearest integer (i.e. no decimal places):"
   ],
   "metadata": {}
  },
  {
   "cell_type": "code",
   "execution_count": 18,
   "source": [
    "round(3.141592653589793)"
   ],
   "outputs": [
    {
     "output_type": "display_data",
     "data": {
      "text/plain": [
       "[1] 3"
      ],
      "text/markdown": [
       "3"
      ],
      "text/latex": [
       "3"
      ],
      "text/html": [
       "3"
      ]
     },
     "metadata": {}
    }
   ],
   "metadata": {}
  },
  {
   "cell_type": "markdown",
   "source": [
    "But it accepts a keyword argument called `digits` that allows you to change its behavior. For example, if I wanted pi rounded to 2 decimal places, I could type:"
   ],
   "metadata": {}
  },
  {
   "cell_type": "code",
   "execution_count": 19,
   "source": [
    "round(3.141592653589793, digits = 2)"
   ],
   "outputs": [
    {
     "output_type": "display_data",
     "data": {
      "text/plain": [
       "[1] 3.14"
      ],
      "text/markdown": [
       "3.14"
      ],
      "text/latex": [
       "3.14"
      ],
      "text/html": [
       "3.14"
      ]
     },
     "metadata": {}
    }
   ],
   "metadata": {}
  },
  {
   "cell_type": "markdown",
   "source": [
    "How do you know what arguments a function takes? Every (well-written) function comes with documentation! Just type `?function_name` in R, and you'll see it's documentation. For example, here's the (abridged) documentation for `round`, which has a section called \"arguments\" that tells you about the `digits` keyword:\n",
    "\n",
    "\n",
    "```\n",
    "> ?round\n",
    "\n",
    "Round                   package:base                   R Documentation\n",
    "\n",
    "Rounding of Numbers\n",
    "\n",
    "...\n",
    "\n",
    "Arguments:\n",
    "\n",
    "       x: a numeric vector.  Or, for ‘round’ and ‘signif’, a complex\n",
    "          vector.\n",
    "\n",
    "  digits: integer indicating the number of decimal places (‘round’) or\n",
    "          significant digits (‘signif’) to be used.  Negative values\n",
    "          are allowed (see ‘Details’).\n",
    "\n",
    "     ...: arguments to be passed to methods.\n",
    "\n",
    "```\n",
    "\n",
    "**To get out of one of these help files, type `q`**"
   ],
   "metadata": {}
  },
  {
   "cell_type": "markdown",
   "source": [
    "### Assigning Return Values \n",
    "\n",
    "Just like any other expression, if you ask R to evaluate a line of code with a function in it and don't assign that value back to a variable, that return value gets printed out and immediately forgotten. So if you want to keep the result of a function, remember you always have to assign it to a variable. e.g."
   ],
   "metadata": {}
  },
  {
   "cell_type": "code",
   "execution_count": 20,
   "source": [
    "# Let's get the value of 7!\n",
    "# (e.g. 7 x 6 x 5 x 4 x 3 x 2 x 1, also known as 7 factorial)\n",
    "\n",
    "a <- 7\n",
    "a_factorial <- factorial(a)"
   ],
   "outputs": [],
   "metadata": {}
  },
  {
   "cell_type": "code",
   "execution_count": 21,
   "source": [
    "a_factorial"
   ],
   "outputs": [
    {
     "output_type": "display_data",
     "data": {
      "text/plain": [
       "[1] 5040"
      ],
      "text/markdown": [
       "5040"
      ],
      "text/latex": [
       "5040"
      ],
      "text/html": [
       "5040"
      ]
     },
     "metadata": {}
    }
   ],
   "metadata": {}
  },
  {
   "cell_type": "markdown",
   "source": [
    "### Evaluating Nested Functions"
   ],
   "metadata": {}
  },
  {
   "cell_type": "markdown",
   "source": [
    "Functions can also be nested, in which case R just evaluates them from the inside out. For example, can you figure out what this code would return (`abs` returns the absolute value of the input)? \n",
    "\n",
    "```r\n",
    "a <- -9\n",
    "b <- sqrt(abs(a))\n",
    "```\n",
    "\n",
    "?\n",
    "\n",
    "Let's run it and find out:"
   ],
   "metadata": {}
  },
  {
   "cell_type": "code",
   "execution_count": 22,
   "source": [
    "a <- -9\n",
    "b <- sqrt(abs(a))\n",
    "b"
   ],
   "outputs": [
    {
     "output_type": "display_data",
     "data": {
      "text/plain": [
       "[1] 3"
      ],
      "text/markdown": [
       "3"
      ],
      "text/latex": [
       "3"
      ],
      "text/html": [
       "3"
      ]
     },
     "metadata": {}
    }
   ],
   "metadata": {}
  },
  {
   "cell_type": "markdown",
   "source": [
    "R evaluates the expression `sqrt(abs(a))` by starting at the innermost level and working its way out, effectively saying: \"well, `a` is `-9`, so `abs(a)` is `abs(-9)`. And that's `9`. So then `sqrt(9)` is `3`.\""
   ],
   "metadata": {}
  },
  {
   "cell_type": "markdown",
   "source": [
    "### How Do Functions Work?\n",
    "\n",
    "There's nothing magic about functions -- they're just bundles of code in a neat little package. Indeed, later in this course we'll show you how to write functions of your own!\n",
    "\n",
    "But you also shouldn't worry about the fact that you can't immediately see the code that is making a function like `sqrt()` work. In fact, this is the best thing about functions -- you don't actually need to know what's going on inside the function. You only need to know the arguments you need to pass to it to get back the thing that you want. \n",
    "\n",
    "In this sense, a function is kind of like a toaster: you put bread in, you get toast back; how the toaster is turning the bread into toast isn't really something you need to worry about. I *think* that my toaster is making toast by running electricity through metal wires until they heat up, but if it turned out that my toaster were actually capturing the energy of passing cosmic rays, it wouldn't change the way that I make my breakfast -- I would still put bread in, get toast back, and eat. And functions are the same way!"
   ],
   "metadata": {}
  },
  {
   "cell_type": "markdown",
   "source": [
    "## Recap\n",
    "\n",
    "At the end of each of these tutorials, I will write a little recap of the lessons we've covered. Part of this is to help you, the learner, remember which points are most salient. But it's also to help provide you with a summary of all the *syntax* -- the specific way we write code to do certain things -- we've learned in one place so you don't feel anxious about remembering it as we go. In general, the *least* important thing to learn in programming is the specifics of how the code is written -- that's something you can always google. What's important to learn are the concepts and the logic of how the program works. \n",
    "\n",
    "- Variables are boxes that store data.\n",
    "- To save the results of a calculation, you have to assign it to a variable. \n",
    "- Assignment in R can be done with either `<-` or `=`.\n",
    "- You can check the value assigned to a variable or result of an expression by typing it without assigning it, or using `print()`. \n",
    "- Functions are just bundles of code that take certain inputs (arguments) and give you back a result (the return value). \n",
    "- Different functions accept different numbers of arguments, and some keyword arguments are optional. \n",
    "- Function help can be found with `?function_name`. Use `q` to get out of the help file. \n"
   ],
   "metadata": {}
  },
  {
   "cell_type": "markdown",
   "source": [
    "## Next Steps\n",
    "\n",
    "Congratulations! You now know the basics of how a programming language works. In [our next reading](data_types.ipynb), we'll discuss some of the ways data can be represented within R, after which we'll do a handful of exercises so you can practice variable assignment and using functions.\n",
    "\n",
    "If you've never worked with the programming language before, this may feel like a lot -- don't worry! We will have lots of opportunities to practice what you've read, and I don't expect you to feel comfortable with any of this until you've had a chance do some exercises. Programming is a skill that you learn by doing. \n",
    "\n",
    "If you have worked with R before, I recognize that this might feel a little slow -- please bear with me! Our goal in this course is to ensure everyone has a solid foundation in R, which means the first couple readings may be review for some of you. We'll get into material I feel confident will be novel soon.\n",
    "\n",
    "### Where's the Social Science?\n",
    "\n",
    "It's normal at this point to find yourself saying \"wait... this isn't what I signed up for when I chose to pursue social science! This feels like computer science.\" Hang in there -- I promise we'll get to good, applied social science examples within a couple classes.  \n",
    "\n",
    "No discipline is changing faster than data science / computational social science. As a result, I don't want to just teach you how to chain together a handful of specific functions to do basic data manipulations. That might be the faster path to getting to work with social science datasets, but when those functions change in the future (which they inevitably will), or your research demands you move on to other tools, you won't have the understanding of how R works required to adapt. \n",
    "\n",
    "But by learning the fundamental principles of *how* programming languages work, you'll develop a more robust, less \"brittle\" skill set that will provide you with a solid foundation for learning new tools over the course of your entire social science career. It may feel a little slow at first, but I promise it'll pay off over the years. "
   ],
   "metadata": {}
  }
 ],
 "metadata": {
  "kernelspec": {
   "display_name": "R",
   "language": "R",
   "name": "ir"
  },
  "language_info": {
   "name": "R",
   "codemirror_mode": "r",
   "pygments_lexer": "r",
   "mimetype": "text/x-r-source",
   "file_extension": ".r",
   "version": "4.1.0"
  }
 },
 "nbformat": 4,
 "nbformat_minor": 2
}