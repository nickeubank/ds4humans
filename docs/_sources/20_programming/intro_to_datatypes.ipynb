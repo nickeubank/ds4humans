{
    "cells": [
        {
            "cell_type": "markdown",
            "source": [
                "# Intro to Data Types\n",
                "\n",
                "One of the features of computers than can be frustrating to new programmers is their inflexibility, and one place this inflexibility is most evident is in the fact that programs like R store data as discrete *types*. In this section, we'll go over the four data types you'll encounter most -- `numeric`, `integer`, `character`, and `logical` types -- as well as what it means for R to have these distinct data types. \n",
                "\n",
                "## Types and Their Uses\n",
                "\n",
                "The four types of data you'll encounter most in R are `numeric`, `integer`, `character`, and `logical`, and each has an important role to play in for the social science researcher. \n",
                "\n",
                "`numeric` data, as the name implies, is data that stores numbers. This may be people's ages or incomes, countries' GDPs and infant mortality rates, global temperatures, or survey responses on a scale from 1 to 7. `numeric` data supports mathematical operations, like multiplying, dividing, adding and subtracting, etc. \n",
                "\n",
                "`integer` data is just a special kind of numeric data that only contains, well... integers! (e.g. 1, 2, 3). We won't worry much about `integer` as a special type in this bootcamp -- if something can be represented as an `integer` it can be represented as a `numeric` -- but sometimes you'll see it, so it's good to be aware of.\n",
                "\n",
                "`character` data is text data. It could be something short, like a survey respondent's name, or something longer, like the content of a tweet or a politician's speech.  \n",
                "\n",
                "`logical` data takes on only two values: `TRUE` and `FALSE` (note those values have to be written in all capitals to be recognized by R!). `logical` data can store information about the world (you could have a variable called `female` that only has values of `TRUE` and `FALSE`), but more often we use it for evaluating our data. For example, suppose we wanted to test whether a survey respondent's age is over 18 to evaluate whether they are eligible to vote -- we'd probably do something like ask whether `age >= 18`, which would evaluate to `TRUE` or `FALSE`."
            ],
            "metadata": {}
        },
        {
            "cell_type": "markdown",
            "source": [
                "## Working with Data Types\n",
                "\n",
                "Unlike some programming languages, when you assign values to a variable, you don't have to tell R the type of data you're assigning in advance (this is definitely not true for all languages, and something that makes R much easier to use than many other languages!). Instead, R will make inferences based on what you've passed. Namely: \n",
                "\n",
                "- If you type out a number, R will assume it's `numeric`. \n",
                "  - (If you've worked in other programming languages, you've probably heard these referred to as `floats`.)\n",
                "- If you type out something and put it in double-quotation marks (`\"like this\"`), R will treat it as a `character`.\n",
                "  - (If you've worked in other programming languages, you've probably heard these referred to as `strings`.)\n",
                "- If R sees `TRUE` or `FALSE`, or an expression that is evaluated to `TRUE` or `FALSE` (like `7 > 3`, which is obvously `TRUE`) it will treat it as logical. \n",
                "  - (If you've worked in other programming languages, you've probably heard these referred to as `bools` or `booleans`.)\n",
                "\n",
                "To illustrate, let's play around a little. Note that we can always check the type of data by passing our data, or the variable to which the data has been assigned, to the `class()` function, which then returns the type of the input. For example:"
            ],
            "metadata": {}
        },
        {
            "cell_type": "code",
            "execution_count": 1,
            "source": [
                "pi <- 3.1416\n",
                "class(pi)"
            ],
            "outputs": [
                {
                    "output_type": "display_data",
                    "data": {
                        "text/plain": [
                            "[1] \"numeric\""
                        ],
                        "text/markdown": [
                            "'numeric'"
                        ],
                        "text/latex": [
                            "'numeric'"
                        ],
                        "text/html": [
                            "'numeric'"
                        ]
                    },
                    "metadata": {}
                }
            ],
            "metadata": {}
        },
        {
            "cell_type": "code",
            "execution_count": 2,
            "source": [
                "mystery_novel <- \"T'was a dark and stormy night\"\n",
                "class(mystery_novel)"
            ],
            "outputs": [
                {
                    "output_type": "display_data",
                    "data": {
                        "text/plain": [
                            "[1] \"character\""
                        ],
                        "text/markdown": [
                            "'character'"
                        ],
                        "text/latex": [
                            "'character'"
                        ],
                        "text/html": [
                            "'character'"
                        ]
                    },
                    "metadata": {}
                }
            ],
            "metadata": {}
        },
        {
            "cell_type": "code",
            "execution_count": 3,
            "source": [
                "my_logical <- 7 < 3\n",
                "class(my_logical)"
            ],
            "outputs": [
                {
                    "output_type": "display_data",
                    "data": {
                        "text/plain": [
                            "[1] \"logical\""
                        ],
                        "text/markdown": [
                            "'logical'"
                        ],
                        "text/latex": [
                            "'logical'"
                        ],
                        "text/html": [
                            "'logical'"
                        ]
                    },
                    "metadata": {}
                }
            ],
            "metadata": {}
        },
        {
            "cell_type": "markdown",
            "source": [
                "It's worth emphasizing here that putting a variable into a function is exactly the same as putting the value assigned to that variable into the function. This is, indeed, one of those core ideas about how most programming languages work: a variable is just a stand-in for the value that has been assigned for it, and R will treat them interchangably. e.g.:"
            ],
            "metadata": {}
        },
        {
            "cell_type": "code",
            "execution_count": 4,
            "source": [
                "# Evaluating the variable pi\n",
                "pi <- 3.1416\n",
                "class(pi)"
            ],
            "outputs": [
                {
                    "output_type": "display_data",
                    "data": {
                        "text/plain": [
                            "[1] \"numeric\""
                        ],
                        "text/markdown": [
                            "'numeric'"
                        ],
                        "text/latex": [
                            "'numeric'"
                        ],
                        "text/html": [
                            "'numeric'"
                        ]
                    },
                    "metadata": {}
                }
            ],
            "metadata": {}
        },
        {
            "cell_type": "code",
            "execution_count": 5,
            "source": [
                "# Has the same effect as just putting\n",
                "# in the value directly!\n",
                "class(3.1416)"
            ],
            "outputs": [
                {
                    "output_type": "display_data",
                    "data": {
                        "text/plain": [
                            "[1] \"numeric\""
                        ],
                        "text/markdown": [
                            "'numeric'"
                        ],
                        "text/latex": [
                            "'numeric'"
                        ],
                        "text/html": [
                            "'numeric'"
                        ]
                    },
                    "metadata": {}
                }
            ],
            "metadata": {}
        },
        {
            "cell_type": "markdown",
            "source": [
                "## Operations and Data Types\n",
                "\n",
                "Data types aren't just about helping R remember what kind of data has been assigned to a variable -- it also affects how some operators (like `+`) are interpreted. \n",
                "\n",
                "For example, if I put `+` between two numeric variables, R will do the obvious thing and add them up:"
            ],
            "metadata": {}
        },
        {
            "cell_type": "code",
            "execution_count": 6,
            "source": [
                "a <- 10\n",
                "b <- 2\n",
                "a + b"
            ],
            "outputs": [
                {
                    "output_type": "display_data",
                    "data": {
                        "text/plain": [
                            "[1] 12"
                        ],
                        "text/markdown": [
                            "12"
                        ],
                        "text/latex": [
                            "12"
                        ],
                        "text/html": [
                            "12"
                        ]
                    },
                    "metadata": {}
                }
            ],
            "metadata": {}
        },
        {
            "cell_type": "markdown",
            "source": [
                "But if I try and put a `+` between two character variables, R will stop and say \"WAIT A MINUTE! I don't know how to add two characters!\" \n",
                "\n",
                "```r \n",
                "a <- \"Lyra\"\n",
                "b <- \"Belacqua\"\n",
                "a + b \n",
                "\n",
                "> Error in a + b : non-numeric argument to binary operator\n",
                "```"
            ],
            "metadata": {}
        },
        {
            "cell_type": "markdown",
            "source": [
                "Note that one place that this behavior can be confusing is when R has stored numbers as characters -- something that happens a lot when you are importing a file. That's because, as I said before, computers are *really* inflexible. For example, suppose you had the following code:\n",
                "\n",
                "```r\n",
                "a <- \"5\"\n",
                "b <- \"4\"\n",
                "a + b\n",
                "```\n",
                "\n",
                "Now, if I asked you what that should print out, I'm sure you'd say \"9\", because you're smart and can recognize what I *want*. But R can't do that -- it sees you trying to add two character variables and says \"nope, sorry! Can't do that.\"\n",
                "\n",
                "```r\n",
                "a <- \"5\"\n",
                "b <- \"4\"\n",
                "a + b\n",
                "\n",
                "> Error in a + b : non-numeric argument to binary operator\n",
                "```\n"
            ],
            "metadata": {}
        },
        {
            "cell_type": "markdown",
            "source": [
                "\n",
                "\n",
                "Which brings us to..."
            ],
            "metadata": {}
        },
        {
            "cell_type": "markdown",
            "source": [
                "## Converting Data Types\n",
                "\n",
                "From time to time, you'll want to move between data types, and for that we have a couple special functions, all with the same naming structure: `as.numeric()`, `as.character()`, and `as.logical()`. Each of these will take a variable and *try* to convert data to the type named, and it if can't do it, it will throw up an error. \n",
                "\n",
                "So let's do our example above again using `as.numeric()`:\n"
            ],
            "metadata": {}
        },
        {
            "cell_type": "code",
            "execution_count": 7,
            "source": [
                "a <- \"5\"\n",
                "b <- \"4\"\n",
                "a <- as.numeric(a)\n",
                "b <- as.numeric(b)\n",
                "a + b"
            ],
            "outputs": [
                {
                    "output_type": "display_data",
                    "data": {
                        "text/plain": [
                            "[1] 9"
                        ],
                        "text/markdown": [
                            "9"
                        ],
                        "text/latex": [
                            "9"
                        ],
                        "text/html": [
                            "9"
                        ]
                    },
                    "metadata": {}
                }
            ],
            "metadata": {}
        },
        {
            "cell_type": "markdown",
            "source": [
                "Ta-da! "
            ],
            "metadata": {}
        },
        {
            "cell_type": "markdown",
            "source": [
                "(See how I assigned the return value of `as.numeric(a)` to the variable `a`, overwriting the old value? Remember you have to assign those return values if you want them remembered!)"
            ],
            "metadata": {}
        },
        {
            "cell_type": "markdown",
            "source": [
                "But if I were to try and convert a character like `\"Ford Prefect\"` to a numeric, it would give me a weird warning telling me it couldn't do it:\n",
                "\n",
                "```r\n",
                "as.numeric(\"Ford Prefect\")\n",
                "\n",
                "> Warning message in eval(expr, envir, enclos):\n",
                "> \"NAs introduced by coercion\"\n",
                "<NA>\n",
                "```"
            ],
            "metadata": {}
        },
        {
            "cell_type": "markdown",
            "source": [
                "(You will also notice that it returns something called an `NA`. We'll talk more about `NA`s in a later lesson, but for the moment it's efficient to know that `NA` is what R returns when it gets stuck. :))"
            ],
            "metadata": {}
        },
        {
            "cell_type": "markdown",
            "source": [
                "## More on Logical\n",
                "\n",
                "Let's talk about logical data, as their usefulness is perhaps least evident. Logical data are important because of how often we want to evaluate logical statements in data analysis, and the results of those need to take the form of `TRUE` and `FALSE`. \n",
                "\n",
                "For example:"
            ],
            "metadata": {}
        },
        {
            "cell_type": "code",
            "execution_count": 8,
            "source": [
                "# Simple math tests, like inequalities\n",
                "7 > 5"
            ],
            "outputs": [
                {
                    "output_type": "display_data",
                    "data": {
                        "text/plain": [
                            "[1] TRUE"
                        ],
                        "text/markdown": [
                            "TRUE"
                        ],
                        "text/latex": [
                            "TRUE"
                        ],
                        "text/html": [
                            "TRUE"
                        ]
                    },
                    "metadata": {}
                }
            ],
            "metadata": {}
        },
        {
            "cell_type": "code",
            "execution_count": 9,
            "source": [
                "-1 >= 10"
            ],
            "outputs": [
                {
                    "output_type": "display_data",
                    "data": {
                        "text/plain": [
                            "[1] FALSE"
                        ],
                        "text/markdown": [
                            "FALSE"
                        ],
                        "text/latex": [
                            "FALSE"
                        ],
                        "text/html": [
                            "FALSE"
                        ]
                    },
                    "metadata": {}
                }
            ],
            "metadata": {}
        },
        {
            "cell_type": "code",
            "execution_count": 10,
            "source": [
                "# Or tests of our data:\n",
                "age <- 17   # Some fake data\n",
                "age > 18"
            ],
            "outputs": [
                {
                    "output_type": "display_data",
                    "data": {
                        "text/plain": [
                            "[1] FALSE"
                        ],
                        "text/markdown": [
                            "FALSE"
                        ],
                        "text/latex": [
                            "FALSE"
                        ],
                        "text/html": [
                            "FALSE"
                        ]
                    },
                    "metadata": {}
                }
            ],
            "metadata": {}
        },
        {
            "cell_type": "markdown",
            "source": [
                "The other place logical data types come up a lot are when we want to test whether two things are the same (equal). Because we can use `=` to assign values to variables (see note on assignment operators [here](intro_to_r.ipynb)), we can't test whether two things are equal by typing the obvious `a = 5` -- if that were allowed, R wouldn't know if we were assigning 5 to `a`, or asking whether the value already assigned to `a` is equal to 5.\n",
                "\n",
                "So to evaluate whether two things are equal, we use a double-equal sign (`==`). For example:"
            ],
            "metadata": {}
        },
        {
            "cell_type": "code",
            "execution_count": 11,
            "source": [
                "a <- 5\n",
                "b <- 5\n",
                "a == b"
            ],
            "outputs": [
                {
                    "output_type": "display_data",
                    "data": {
                        "text/plain": [
                            "[1] TRUE"
                        ],
                        "text/markdown": [
                            "TRUE"
                        ],
                        "text/latex": [
                            "TRUE"
                        ],
                        "text/html": [
                            "TRUE"
                        ]
                    },
                    "metadata": {}
                }
            ],
            "metadata": {}
        },
        {
            "cell_type": "code",
            "execution_count": 12,
            "source": [
                "c <- 7\n",
                "a == c"
            ],
            "outputs": [
                {
                    "output_type": "display_data",
                    "data": {
                        "text/plain": [
                            "[1] FALSE"
                        ],
                        "text/markdown": [
                            "FALSE"
                        ],
                        "text/latex": [
                            "FALSE"
                        ],
                        "text/html": [
                            "FALSE"
                        ]
                    },
                    "metadata": {}
                }
            ],
            "metadata": {}
        },
        {
            "cell_type": "markdown",
            "source": [
                "And we can also use the `!=` to test if two things are *not* equal:"
            ],
            "metadata": {}
        },
        {
            "cell_type": "code",
            "execution_count": 13,
            "source": [
                "5 != 5"
            ],
            "outputs": [
                {
                    "output_type": "display_data",
                    "data": {
                        "text/plain": [
                            "[1] FALSE"
                        ],
                        "text/markdown": [
                            "FALSE"
                        ],
                        "text/latex": [
                            "FALSE"
                        ],
                        "text/html": [
                            "FALSE"
                        ]
                    },
                    "metadata": {}
                }
            ],
            "metadata": {}
        },
        {
            "cell_type": "code",
            "execution_count": 14,
            "source": [
                "a != c"
            ],
            "outputs": [
                {
                    "output_type": "display_data",
                    "data": {
                        "text/plain": [
                            "[1] TRUE"
                        ],
                        "text/markdown": [
                            "TRUE"
                        ],
                        "text/latex": [
                            "TRUE"
                        ],
                        "text/html": [
                            "TRUE"
                        ]
                    },
                    "metadata": {}
                }
            ],
            "metadata": {}
        },
        {
            "cell_type": "markdown",
            "source": [
                "Finally, there's one oddity of `logical` data worth mentioning, which is that if you try and convert a `logical` into a `numeric`, then `FALSE` will turn into `0` and `TRUE` will turn into `1`. \n"
            ],
            "metadata": {}
        },
        {
            "cell_type": "code",
            "execution_count": 15,
            "source": [
                "as.numeric(TRUE)"
            ],
            "outputs": [
                {
                    "output_type": "display_data",
                    "data": {
                        "text/plain": [
                            "[1] 1"
                        ],
                        "text/markdown": [
                            "1"
                        ],
                        "text/latex": [
                            "1"
                        ],
                        "text/html": [
                            "1"
                        ]
                    },
                    "metadata": {}
                }
            ],
            "metadata": {}
        },
        {
            "cell_type": "code",
            "execution_count": 16,
            "source": [
                "as.numeric(FALSE)"
            ],
            "outputs": [
                {
                    "output_type": "display_data",
                    "data": {
                        "text/plain": [
                            "[1] 0"
                        ],
                        "text/markdown": [
                            "0"
                        ],
                        "text/latex": [
                            "0"
                        ],
                        "text/html": [
                            "0"
                        ]
                    },
                    "metadata": {}
                }
            ],
            "metadata": {}
        },
        {
            "cell_type": "markdown",
            "source": [
                "\n",
                "\n",
                "Why? Well... it's a long story. :) But this isn't just an R thing, this is true in almost all programming languages."
            ],
            "metadata": {}
        },
        {
            "cell_type": "markdown",
            "source": [
                "## Recap\n",
                "\n",
                "- Data in R always has a type. \n",
                "- `numeric` stores any number. \n",
                "- `integer` only represents integers (-2, -1, 0, 1, 2...), and we won't use them much.\n",
                "- `character` stores text data\n",
                "- `logical` can only be TRUE or FALSE\n",
                "- When it makes sense, data can be converted with functions like `as.numeric()` or `as.character()`. \n",
                "- If no meaningful conversion makes sense, those functions will give you a warning. \n",
                "- For weird reasons, `as.numeric(TRUE)` is `1`, and `as.numeric(FALSE)` is `0`."
            ],
            "metadata": {}
        },
        {
            "cell_type": "markdown",
            "source": [
                "## Exercises for Now\n",
                "\n",
                "Want to practice these skills? Head on over to [this site](exercises/exercise_datatypes_now.ipynb) to find some exercises you can do right now!"
            ],
            "metadata": {}
        },
        {
            "cell_type": "markdown",
            "source": [
                "## Exercises for Class\n",
                "\n",
                "[Here are some exercises](exercises/exercise_datatypes.ipynb) we'll be doing in our synchronous class. If you are enrolled in our synchronous sessions, **please do not** do these before class! If you're reading these materials on your own or are enrolled in our asynchronous class, feel free to take a look now."
            ],
            "metadata": {}
        }
    ],
    "metadata": {
        "orig_nbformat": 4,
        "language_info": {
            "name": "R",
            "codemirror_mode": "r",
            "pygments_lexer": "r",
            "mimetype": "text/x-r-source",
            "file_extension": ".r",
            "version": "4.1.0"
        },
        "kernelspec": {
            "name": "ir",
            "display_name": "R",
            "language": "R"
        }
    },
    "nbformat": 4,
    "nbformat_minor": 2
}