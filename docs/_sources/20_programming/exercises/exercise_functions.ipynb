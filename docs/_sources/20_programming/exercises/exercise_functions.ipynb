{
    "cells": [
        {
            "cell_type": "markdown",
            "source": [
                "# Function Exercises\n",
                "\n",
                "1. Write a function called `second_largest` that finds the second largest value in a vector of numeric values. That is, the input should\n",
                "be a numeric vector and the output should be the second largest value in the vector. You can assume that the input vector has at least two values. Test your function on the following two vectors: \n",
                "\n",
                "* `v1 <- 1:10`\n",
                "* `v2 <- c(15, 1000, 2, 3, 8)`\n",
                "\n",
                "2. Modify the `second_largest` function so that it accounts for two special cases: (1) when the user inputs a numeric vector with only\n",
                "one value, the function should return the message \"Invalid input: at least two values required\"; (2) when the user inputs a vector that is **not** numeric, the function should return the message \"Invalid input: only numeric vectors accepted\". Test your new function on the following vectors:\n",
                "\n",
                "* `v1 <- 1:10`\n",
                "* `v2 <- 2`\n",
                "* `v3 <- c(\"banana\", \"apple\", \"orange\")`\n",
                "* `v4 <- as.factor(1:10)`\n"
            ],
            "metadata": {}
        }
    ],
    "metadata": {
        "orig_nbformat": 4,
        "language_info": {
            "name": "r"
        }
    },
    "nbformat": 4,
    "nbformat_minor": 2
}