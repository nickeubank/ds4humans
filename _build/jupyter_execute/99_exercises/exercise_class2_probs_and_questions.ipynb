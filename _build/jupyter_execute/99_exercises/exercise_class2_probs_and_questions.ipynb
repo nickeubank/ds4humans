{
 "cells": [
  {
   "cell_type": "markdown",
   "metadata": {},
   "source": [
    "# From Stakeholder Prompts to Problems to Questions\n",
    "\n",
    "In the reading you just completed, you read about how data science is the study of solving problems using data, and how data scientists solve problems by answering questions. \n",
    "\n",
    "Today, you're going to get an opportunity to practice this approach as a group. To make things a little more interesting, though, I'm adding a small complication: the challenge of decoding stakeholder statements! This processes — a part of *stakeholder management*, something we'll read about in detail soon — is another core part of being a data scientist, because sadly our stakeholders are very rarely able to provide clear articulations of the problems they wish to solve. Indeed, to the contrary, they will often ask you to do things that don't make sense or make suggests sure to lead you astray.\n",
    "\n",
    "So for the following exercises, don't take the prompts I provide as gospel — imagine they are coming from a real person who may or may not be giving you the best guidance."
   ]
  },
  {
   "attachments": {},
   "cell_type": "markdown",
   "metadata": {},
   "source": [
    "## Exercise 1\n",
    "\n",
    "\n",
    "Congratulations! You've been hired by International Motors Conglomerate of America, a leading car manufacturer. In your first meeting, they announced the following: \n",
    "\n",
    "> In recent years, we've found that our customers are really excited about \"driver safety enhancements\" like emergency braking, or lane departure warnings. We want to keep innovating in this area. It seems like drowsy driving would be a cool thing to address. Can you design an eye tracking system that uses machine learning to see when people are drowsy and then squirts water in their face to wake them up?\n"
   ]
  },
  {
   "cell_type": "markdown",
   "metadata": {},
   "source": [
    "Now in your group, develop answers to the following questions: \n",
    "\n",
    "1.1) **What is your stakeholder's problem?**\n",
    "\n",
    "\n",
    "```\n",
    "\n",
    "\n",
    "\n",
    "\n",
    "```"
   ]
  },
  {
   "cell_type": "markdown",
   "metadata": {},
   "source": [
    "1.2) **How would you know if you'd solved the problem?** To be clear, I don't mean \"how would you solve the problem\"; what metric could you measure that would allow you to determine if you had successfully solved the problem? (this is a very helpful way of making a problem concrete — think about exactly what you're trying to accomplish rather than jumping right to figuring out what a solution might look like).\n",
    "\n",
    "\n",
    "```\n",
    "\n",
    "\n",
    "\n",
    "\n",
    "```"
   ]
  },
  {
   "cell_type": "markdown",
   "metadata": {},
   "source": [
    "\n",
    "1.3) **What solutions has your stakeholder proposed to address their core need?**\n",
    "\n",
    "\n",
    "```\n",
    "\n",
    "\n",
    "\n",
    "\n",
    "```\n"
   ]
  },
  {
   "attachments": {},
   "cell_type": "markdown",
   "metadata": {},
   "source": [
    "\n",
    "1.4) **What Exploratory Question, if answered, would help your stakeholder solve their problem/help you solve your stakeholder's problem?**\n",
    "\n",
    "\n",
    "```\n",
    "\n",
    "\n",
    "\n",
    "\n",
    "```\n"
   ]
  },
  {
   "attachments": {},
   "cell_type": "markdown",
   "metadata": {},
   "source": [
    "1.5) **What Passive Prediction Question, if answered, would help your stakeholder solve their problem/help you solve your stakeholder's problem?**\n",
    "\n",
    "\n",
    "\n",
    "```\n",
    "\n",
    "\n",
    "\n",
    "\n",
    "\n",
    "```\n"
   ]
  },
  {
   "attachments": {},
   "cell_type": "markdown",
   "metadata": {},
   "source": [
    "\n",
    "1.6) **What Causal Question, if answered, would help your stakeholder solve their problem/help you solve your stakeholder's problem?**\n",
    "\n",
    "\n",
    "```\n",
    "\n",
    "\n",
    "\n",
    "\n",
    "\n",
    "```\n"
   ]
  },
  {
   "attachments": {},
   "cell_type": "markdown",
   "metadata": {},
   "source": [
    "## Exercise 2:\n",
    "\n",
    "You've been hired by a hospital network. They tell you the following: \n",
    "\n",
    "> Patients falls are costing us a fortune. Not only are they bad for patient outcomes—patients who fall also tend to be patients who are weaker and are more prone to serious injury when they fall—but we also keep getting sued! We've been giving our patients activity trackers for another study, and we want to use that data to identify which patients are fall risks. Can you help us?"
   ]
  },
  {
   "attachments": {},
   "cell_type": "markdown",
   "metadata": {},
   "source": [
    "Now in your group, develop answers to the following questions: \n",
    "\n",
    "2.1) **What is your stakeholder's problem?**\n",
    "\n",
    "\n",
    "```\n",
    "\n",
    "\n",
    "\n",
    "\n",
    "```"
   ]
  },
  {
   "cell_type": "markdown",
   "metadata": {
    "vscode": {
     "languageId": "plaintext"
    }
   },
   "source": [
    "2.2) **How would you know if you'd solved the problem?** \n",
    "\n",
    "\n",
    "```\n",
    "\n",
    "\n",
    "\n",
    "\n",
    "```"
   ]
  },
  {
   "attachments": {},
   "cell_type": "markdown",
   "metadata": {},
   "source": [
    "\n",
    "2.3) **What solutions have your stakeholder proposed to address their core need?**\n",
    "\n",
    "\n",
    "```\n",
    "\n",
    "\n",
    "\n",
    "\n",
    "```\n"
   ]
  },
  {
   "cell_type": "markdown",
   "metadata": {},
   "source": [
    "\n",
    "2.4) **What Exploratory Question, if answered, would help your stakeholder solve their problem/help you solve your stakeholder's problem?**\n",
    "\n",
    "\n",
    "```\n",
    "\n",
    "\n",
    "\n",
    "\n",
    "```\n"
   ]
  },
  {
   "cell_type": "markdown",
   "metadata": {},
   "source": [
    "2.5) **What Passive Prediction Question, if answered, would help your stakeholder solve their problem/help you solve your stakeholder's problem?**\n",
    "\n",
    "\n",
    "\n",
    "```\n",
    "\n",
    "\n",
    "\n",
    "\n",
    "\n",
    "```\n"
   ]
  },
  {
   "cell_type": "markdown",
   "metadata": {},
   "source": [
    "\n",
    "2.6) **What Causal Question, if answered, would help your stakeholder solve their problem/help you solve your stakeholder's problem?**\n",
    "\n",
    "\n",
    "```\n",
    "\n",
    "\n",
    "\n",
    "\n",
    "\n",
    "```\n"
   ]
  },
  {
   "cell_type": "markdown",
   "metadata": {},
   "source": [
    "## Exercise 3\n",
    "\n",
    "You have been hired by the US Bureau of Prisons. They tell you:\n",
    "\n",
    "> Our prisons are so, _so_ crowded. It's not just inhumane, it also makes the job of prison administrators harder because crowded prisons result in frayed nerves, short tempers, fights, and poor behavior. That causes sentences to be extended, increasing crowding. And a huge portion of people who are released end up being re-incarcered! But we don't control police or courts, so we can't really control how many people arriving in prison. What can we do?"
   ]
  },
  {
   "cell_type": "markdown",
   "metadata": {},
   "source": [
    "Now in your group, develop answers to the following questions: \n",
    "\n",
    "3.1) **What is your stakeholder's problem?**\n",
    "\n",
    "\n",
    "```\n",
    "\n",
    "\n",
    "\n",
    "\n",
    "```"
   ]
  },
  {
   "cell_type": "markdown",
   "metadata": {},
   "source": [
    "3.2) **How would you know if you'd solved the problem?** \n",
    "\n",
    "\n",
    "```\n",
    "\n",
    "\n",
    "\n",
    "\n",
    "```"
   ]
  },
  {
   "cell_type": "markdown",
   "metadata": {},
   "source": [
    "\n",
    "3.3) **What solutions have your stakeholder proposed to address their core need?**\n",
    "\n",
    "\n",
    "```\n",
    "\n",
    "\n",
    "\n",
    "\n",
    "```\n"
   ]
  },
  {
   "cell_type": "markdown",
   "metadata": {},
   "source": [
    "\n",
    "3.4) **What Exploratory Question, if answered, would help your stakeholder solve their problem/help you solve your stakeholder's problem?**\n",
    "\n",
    "\n",
    "```\n",
    "\n",
    "\n",
    "\n",
    "\n",
    "```\n"
   ]
  },
  {
   "cell_type": "markdown",
   "metadata": {},
   "source": [
    "3.5) **What Passive Prediction Question, if answered, would help your stakeholder solve their problem/help you solve your stakeholder's problem?**\n",
    "\n",
    "\n",
    "\n",
    "```\n",
    "\n",
    "\n",
    "\n",
    "\n",
    "\n",
    "```\n"
   ]
  },
  {
   "cell_type": "markdown",
   "metadata": {},
   "source": [
    "\n",
    "3.6) **What Causal Question, if answered, would help your stakeholder solve their problem/help you solve your stakeholder's problem?**\n",
    "\n",
    "\n",
    "```\n",
    "\n",
    "\n",
    "\n",
    "\n",
    "\n",
    "```\n"
   ]
  }
 ],
 "metadata": {
  "kernelspec": {
   "display_name": "base",
   "language": "python",
   "name": "python3"
  },
  "language_info": {
   "codemirror_mode": {
    "name": "ipython",
    "version": 3
   },
   "file_extension": ".py",
   "mimetype": "text/x-python",
   "name": "python",
   "nbconvert_exporter": "python",
   "pygments_lexer": "ipython3",
   "version": "3.12.5"
  },
  "vscode": {
   "interpreter": {
    "hash": "718fed28bf9f8c7851519acf2fb923cd655120b36de3b67253eeb0428bd33d2d"
   }
  }
 },
 "nbformat": 4,
 "nbformat_minor": 4
}