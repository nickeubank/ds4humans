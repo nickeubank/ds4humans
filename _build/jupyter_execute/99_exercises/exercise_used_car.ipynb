{
 "cells": [
  {
   "cell_type": "markdown",
   "metadata": {},
   "source": [
    "# Used Car Buying Exercise\n",
    "\n",
    "Hello! You should have been assigned to be \"Car Seller A\", \"Car Seller B\", or the \"Car Buyer\". Please follow **ONLY** the appropriate link to the information for your role below.\n",
    "\n",
    "- [Car Seller A](exercise_car_seller_A.ipynb)\n",
    "- [Car Seller B](exercise_car_seller_B.ipynb)\n",
    "- [Car Buyer](exercise_car_buyer.ipynb)"
   ]
  }
 ],
 "metadata": {
  "language_info": {
   "codemirror_mode": {
    "name": "ipython",
    "version": 3
   },
   "file_extension": ".py",
   "mimetype": "text/x-python",
   "name": "python",
   "nbconvert_exporter": "python",
   "pygments_lexer": "ipython3",
   "version": "3.12.5"
  }
 },
 "nbformat": 4,
 "nbformat_minor": 2
}