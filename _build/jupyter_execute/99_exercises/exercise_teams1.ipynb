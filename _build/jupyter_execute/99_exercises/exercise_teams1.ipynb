{
 "cells": [
  {
   "cell_type": "markdown",
   "metadata": {},
   "source": [
    "# Team Debrief: Two Sustains and One Improve\n",
    "\n",
    "Gather in your teams from last semester (from Andrea's class). \n",
    "\n",
    "## Part 1: Team Discussion\n",
    "\n",
    "Everyone on the team should identify **two** things from last semester they feel went well (*sustains*) and **one** thing they think could have been improved.\n",
    "\n",
    "Start by going around in a circle, giving everyone a chance to state their three items. Everyone should get a turn to speak as you go around before anyone speaks twice — it's important everyone gets a chance to share their thoughts before you dive into any specific points raised.\n",
    "\n",
    "While going around, you may ask *clarifying* questions of the speaker, but our goal is to ensure everyone is heard, so please do not interrupt or get into longer discussions yet.\n",
    "\n",
    "**Be constructive.** When discussing your \"improve,\" it's ok to cite how you felt about anything that may not have gone the way you wanted, but be sure to also provide a concrete suggestion for how your team's practices could be improved to address past concerns.\n",
    "\n",
    "### After Everyone Has Shared\n",
    "\n",
    "Feel free to discuss what people have brought up. What points resonate with others? Does anyone have different ways of addressing issues that came up?"
   ]
  },
  {
   "cell_type": "markdown",
   "metadata": {},
   "source": [
    "## Part 2: Whiteboard It\n",
    "\n",
    "Have your team go to a whiteboard and write down your two sustains and one improve.\n",
    "\n",
    "You don't need to limit yourself to three things since different people likely brought up different ideas, but you also don't have to write down everything that came up — what resonated most with your team?"
   ]
  }
 ],
 "metadata": {
  "language_info": {
   "codemirror_mode": {
    "name": "ipython",
    "version": 3
   },
   "file_extension": ".py",
   "mimetype": "text/x-python",
   "name": "python",
   "nbconvert_exporter": "python",
   "pygments_lexer": "ipython3",
   "version": "3.12.5"
  }
 },
 "nbformat": 4,
 "nbformat_minor": 2
}