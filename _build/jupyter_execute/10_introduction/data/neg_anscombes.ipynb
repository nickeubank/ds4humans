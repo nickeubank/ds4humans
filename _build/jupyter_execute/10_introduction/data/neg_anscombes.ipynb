{
 "cells": [
  {
   "cell_type": "code",
   "execution_count": 1,
   "metadata": {},
   "outputs": [
    {
     "data": {
      "text/html": [
       "\n",
       "<style>\n",
       "  #altair-viz-c4f08859a1e44715bac07c98adb0f2dd.vega-embed {\n",
       "    width: 100%;\n",
       "    display: flex;\n",
       "  }\n",
       "\n",
       "  #altair-viz-c4f08859a1e44715bac07c98adb0f2dd.vega-embed details,\n",
       "  #altair-viz-c4f08859a1e44715bac07c98adb0f2dd.vega-embed details summary {\n",
       "    position: relative;\n",
       "  }\n",
       "</style>\n",
       "<div id=\"altair-viz-c4f08859a1e44715bac07c98adb0f2dd\"></div>\n",
       "<script type=\"text/javascript\">\n",
       "  var VEGA_DEBUG = (typeof VEGA_DEBUG == \"undefined\") ? {} : VEGA_DEBUG;\n",
       "  (function(spec, embedOpt){\n",
       "    let outputDiv = document.currentScript.previousElementSibling;\n",
       "    if (outputDiv.id !== \"altair-viz-c4f08859a1e44715bac07c98adb0f2dd\") {\n",
       "      outputDiv = document.getElementById(\"altair-viz-c4f08859a1e44715bac07c98adb0f2dd\");\n",
       "    }\n",
       "    const paths = {\n",
       "      \"vega\": \"https://cdn.jsdelivr.net/npm/vega@5?noext\",\n",
       "      \"vega-lib\": \"https://cdn.jsdelivr.net/npm/vega-lib?noext\",\n",
       "      \"vega-lite\": \"https://cdn.jsdelivr.net/npm/vega-lite@5.17.0?noext\",\n",
       "      \"vega-embed\": \"https://cdn.jsdelivr.net/npm/vega-embed@6?noext\",\n",
       "    };\n",
       "\n",
       "    function maybeLoadScript(lib, version) {\n",
       "      var key = `${lib.replace(\"-\", \"\")}_version`;\n",
       "      return (VEGA_DEBUG[key] == version) ?\n",
       "        Promise.resolve(paths[lib]) :\n",
       "        new Promise(function(resolve, reject) {\n",
       "          var s = document.createElement('script');\n",
       "          document.getElementsByTagName(\"head\")[0].appendChild(s);\n",
       "          s.async = true;\n",
       "          s.onload = () => {\n",
       "            VEGA_DEBUG[key] = version;\n",
       "            return resolve(paths[lib]);\n",
       "          };\n",
       "          s.onerror = () => reject(`Error loading script: ${paths[lib]}`);\n",
       "          s.src = paths[lib];\n",
       "        });\n",
       "    }\n",
       "\n",
       "    function showError(err) {\n",
       "      outputDiv.innerHTML = `<div class=\"error\" style=\"color:red;\">${err}</div>`;\n",
       "      throw err;\n",
       "    }\n",
       "\n",
       "    function displayChart(vegaEmbed) {\n",
       "      vegaEmbed(outputDiv, spec, embedOpt)\n",
       "        .catch(err => showError(`Javascript Error: ${err.message}<br>This usually means there's a typo in your chart specification. See the javascript console for the full traceback.`));\n",
       "    }\n",
       "\n",
       "    if(typeof define === \"function\" && define.amd) {\n",
       "      requirejs.config({paths});\n",
       "      require([\"vega-embed\"], displayChart, err => showError(`Error loading script: ${err.message}`));\n",
       "    } else {\n",
       "      maybeLoadScript(\"vega\", \"5\")\n",
       "        .then(() => maybeLoadScript(\"vega-lite\", \"5.17.0\"))\n",
       "        .then(() => maybeLoadScript(\"vega-embed\", \"6\"))\n",
       "        .catch(showError)\n",
       "        .then(() => displayChart(vegaEmbed));\n",
       "    }\n",
       "  })({\"config\": {\"view\": {\"continuousWidth\": 300, \"continuousHeight\": 300}}, \"layer\": [{\"mark\": {\"type\": \"line\"}, \"encoding\": {\"x\": {\"field\": \"x_1\", \"scale\": {\"zero\": false}, \"type\": \"quantitative\"}, \"y\": {\"field\": \"y_1\", \"scale\": {\"zero\": false}, \"type\": \"quantitative\"}}, \"transform\": [{\"on\": \"y_1\", \"regression\": \"x_1\"}]}, {\"mark\": {\"type\": \"point\"}, \"encoding\": {\"x\": {\"field\": \"x_1\", \"scale\": {\"zero\": false}, \"type\": \"quantitative\"}, \"y\": {\"field\": \"y_1\", \"scale\": {\"zero\": false}, \"type\": \"quantitative\"}}}], \"data\": {\"name\": \"data-216bc306ead2141b515dc024bbd3da2c\"}, \"$schema\": \"https://vega.github.io/schema/vega-lite/v5.17.0.json\", \"datasets\": {\"data-216bc306ead2141b515dc024bbd3da2c\": [{\"x_1\": 10, \"y_1\": -8.04, \"x_2\": 10, \"y_2\": -9.14, \"x_3\": 10, \"y_3\": -7.46, \"x_4\": 8, \"y_4\": -6.58}, {\"x_1\": 8, \"y_1\": -6.95, \"x_2\": 8, \"y_2\": -8.14, \"x_3\": 8, \"y_3\": -6.77, \"x_4\": 8, \"y_4\": -5.76}, {\"x_1\": 13, \"y_1\": -7.58, \"x_2\": 13, \"y_2\": -8.74, \"x_3\": 13, \"y_3\": -12.74, \"x_4\": 8, \"y_4\": -7.71}, {\"x_1\": 9, \"y_1\": -8.81, \"x_2\": 9, \"y_2\": -8.77, \"x_3\": 9, \"y_3\": -7.11, \"x_4\": 8, \"y_4\": -8.84}, {\"x_1\": 11, \"y_1\": -8.33, \"x_2\": 11, \"y_2\": -9.26, \"x_3\": 11, \"y_3\": -7.81, \"x_4\": 8, \"y_4\": -8.47}, {\"x_1\": 14, \"y_1\": -9.96, \"x_2\": 14, \"y_2\": -8.1, \"x_3\": 14, \"y_3\": -8.84, \"x_4\": 8, \"y_4\": -7.04}, {\"x_1\": 6, \"y_1\": -7.24, \"x_2\": 6, \"y_2\": -6.13, \"x_3\": 6, \"y_3\": -6.08, \"x_4\": 8, \"y_4\": -5.25}, {\"x_1\": 4, \"y_1\": -4.26, \"x_2\": 4, \"y_2\": -3.1, \"x_3\": 4, \"y_3\": -5.39, \"x_4\": 19, \"y_4\": -12.5}, {\"x_1\": 12, \"y_1\": -10.84, \"x_2\": 12, \"y_2\": -9.13, \"x_3\": 12, \"y_3\": -8.15, \"x_4\": 8, \"y_4\": -5.56}, {\"x_1\": 7, \"y_1\": -4.82, \"x_2\": 7, \"y_2\": -7.26, \"x_3\": 7, \"y_3\": -6.42, \"x_4\": 8, \"y_4\": -7.91}, {\"x_1\": 5, \"y_1\": -5.68, \"x_2\": 5, \"y_2\": -4.74, \"x_3\": 5, \"y_3\": -5.73, \"x_4\": 8, \"y_4\": -6.89}]}}, {\"mode\": \"vega-lite\"});\n",
       "</script>"
      ],
      "text/plain": [
       "alt.LayerChart(...)"
      ]
     },
     "metadata": {},
     "output_type": "display_data"
    },
    {
     "ename": "NoMatchingVersions",
     "evalue": "No matches for version='5.17.0' among ['4.0.2', '4.8.1', '4.17.0'].\nOften this can be fixed by updating altair_viewer:\n    pip install -U altair_viewer",
     "output_type": "error",
     "traceback": [
      "\u001b[0;31m---------------------------------------------------------------------------\u001b[0m",
      "\u001b[0;31mNoMatchingVersions\u001b[0m                        Traceback (most recent call last)",
      "Cell \u001b[0;32mIn[1], line 16\u001b[0m\n\u001b[1;32m     14\u001b[0m o \u001b[38;5;241m=\u001b[39m fit \u001b[38;5;241m+\u001b[39m c\n\u001b[1;32m     15\u001b[0m o\u001b[38;5;241m.\u001b[39mshow()\n\u001b[0;32m---> 16\u001b[0m \u001b[43maltair_saver\u001b[49m\u001b[38;5;241;43m.\u001b[39;49m\u001b[43msave\u001b[49m\u001b[43m(\u001b[49m\u001b[43mo\u001b[49m\u001b[43m,\u001b[49m\u001b[43m \u001b[49m\u001b[38;5;124;43mf\u001b[39;49m\u001b[38;5;124;43m\"\u001b[39;49m\u001b[38;5;124;43m../images/anscombes_\u001b[39;49m\u001b[38;5;132;43;01m{\u001b[39;49;00m\u001b[43mi\u001b[49m\u001b[38;5;132;43;01m}\u001b[39;49;00m\u001b[38;5;124;43m.png\u001b[39;49m\u001b[38;5;124;43m\"\u001b[39;49m\u001b[43m)\u001b[49m\n",
      "File \u001b[0;32m~/opt/miniconda3/lib/python3.11/site-packages/altair_saver/_core.py:172\u001b[0m, in \u001b[0;36msave\u001b[0;34m(chart, fp, fmt, mode, embed_options, method, suppress_data_warning, **kwargs)\u001b[0m\n\u001b[1;32m    169\u001b[0m Saver \u001b[38;5;241m=\u001b[39m _select_saver(method, mode\u001b[38;5;241m=\u001b[39mmode, fmt\u001b[38;5;241m=\u001b[39mfmt, fp\u001b[38;5;241m=\u001b[39mfp)\n\u001b[1;32m    170\u001b[0m saver \u001b[38;5;241m=\u001b[39m Saver(spec, mode\u001b[38;5;241m=\u001b[39mmode, embed_options\u001b[38;5;241m=\u001b[39membed_options, \u001b[38;5;241m*\u001b[39m\u001b[38;5;241m*\u001b[39mkwargs)\n\u001b[0;32m--> 172\u001b[0m \u001b[38;5;28;01mreturn\u001b[39;00m \u001b[43msaver\u001b[49m\u001b[38;5;241;43m.\u001b[39;49m\u001b[43msave\u001b[49m\u001b[43m(\u001b[49m\u001b[43mfp\u001b[49m\u001b[38;5;241;43m=\u001b[39;49m\u001b[43mfp\u001b[49m\u001b[43m,\u001b[49m\u001b[43m \u001b[49m\u001b[43mfmt\u001b[49m\u001b[38;5;241;43m=\u001b[39;49m\u001b[43mfmt\u001b[49m\u001b[43m)\u001b[49m\n",
      "File \u001b[0;32m~/opt/miniconda3/lib/python3.11/site-packages/altair_saver/savers/_saver.py:121\u001b[0m, in \u001b[0;36mSaver.save\u001b[0;34m(self, fp, fmt)\u001b[0m\n\u001b[1;32m    118\u001b[0m \u001b[38;5;28;01mif\u001b[39;00m fmt \u001b[38;5;129;01mnot\u001b[39;00m \u001b[38;5;129;01min\u001b[39;00m \u001b[38;5;28mself\u001b[39m\u001b[38;5;241m.\u001b[39mvalid_formats[\u001b[38;5;28mself\u001b[39m\u001b[38;5;241m.\u001b[39m_mode]:\n\u001b[1;32m    119\u001b[0m     \u001b[38;5;28;01mraise\u001b[39;00m \u001b[38;5;167;01mValueError\u001b[39;00m(\u001b[38;5;124mf\u001b[39m\u001b[38;5;124m\"\u001b[39m\u001b[38;5;124mGot fmt=\u001b[39m\u001b[38;5;132;01m{\u001b[39;00mfmt\u001b[38;5;132;01m}\u001b[39;00m\u001b[38;5;124m; expected one of \u001b[39m\u001b[38;5;132;01m{\u001b[39;00m\u001b[38;5;28mself\u001b[39m\u001b[38;5;241m.\u001b[39mvalid_formats\u001b[38;5;132;01m}\u001b[39;00m\u001b[38;5;124m\"\u001b[39m)\n\u001b[0;32m--> 121\u001b[0m content \u001b[38;5;241m=\u001b[39m \u001b[38;5;28;43mself\u001b[39;49m\u001b[38;5;241;43m.\u001b[39;49m\u001b[43m_serialize\u001b[49m\u001b[43m(\u001b[49m\u001b[43mfmt\u001b[49m\u001b[43m,\u001b[49m\u001b[43m \u001b[49m\u001b[38;5;124;43m\"\u001b[39;49m\u001b[38;5;124;43msave\u001b[39;49m\u001b[38;5;124;43m\"\u001b[39;49m\u001b[43m)\u001b[49m\n\u001b[1;32m    122\u001b[0m \u001b[38;5;28;01mif\u001b[39;00m fp \u001b[38;5;129;01mis\u001b[39;00m \u001b[38;5;28;01mNone\u001b[39;00m:\n\u001b[1;32m    123\u001b[0m     \u001b[38;5;28;01mif\u001b[39;00m \u001b[38;5;28misinstance\u001b[39m(content, \u001b[38;5;28mdict\u001b[39m):\n",
      "File \u001b[0;32m~/opt/miniconda3/lib/python3.11/site-packages/altair_saver/savers/_selenium.py:284\u001b[0m, in \u001b[0;36mSeleniumSaver._serialize\u001b[0;34m(self, fmt, content_type)\u001b[0m\n\u001b[1;32m    283\u001b[0m \u001b[38;5;28;01mdef\u001b[39;00m \u001b[38;5;21m_serialize\u001b[39m(\u001b[38;5;28mself\u001b[39m, fmt: \u001b[38;5;28mstr\u001b[39m, content_type: \u001b[38;5;28mstr\u001b[39m) \u001b[38;5;241m-\u001b[39m\u001b[38;5;241m>\u001b[39m MimebundleContent:\n\u001b[0;32m--> 284\u001b[0m     out \u001b[38;5;241m=\u001b[39m \u001b[38;5;28;43mself\u001b[39;49m\u001b[38;5;241;43m.\u001b[39;49m\u001b[43m_extract\u001b[49m\u001b[43m(\u001b[49m\u001b[43mfmt\u001b[49m\u001b[43m)\u001b[49m\n\u001b[1;32m    285\u001b[0m     \u001b[38;5;28;01mif\u001b[39;00m fmt \u001b[38;5;241m==\u001b[39m \u001b[38;5;124m\"\u001b[39m\u001b[38;5;124mpng\u001b[39m\u001b[38;5;124m\"\u001b[39m:\n\u001b[1;32m    286\u001b[0m         \u001b[38;5;28;01massert\u001b[39;00m \u001b[38;5;28misinstance\u001b[39m(out, \u001b[38;5;28mstr\u001b[39m)\n",
      "File \u001b[0;32m~/opt/miniconda3/lib/python3.11/site-packages/altair_saver/savers/_selenium.py:237\u001b[0m, in \u001b[0;36mSeleniumSaver._extract\u001b[0;34m(self, fmt)\u001b[0m\n\u001b[1;32m    232\u001b[0m driver \u001b[38;5;241m=\u001b[39m \u001b[38;5;28mself\u001b[39m\u001b[38;5;241m.\u001b[39m_registry\u001b[38;5;241m.\u001b[39mget(\u001b[38;5;28mself\u001b[39m\u001b[38;5;241m.\u001b[39m_webdriver, \u001b[38;5;28mself\u001b[39m\u001b[38;5;241m.\u001b[39m_driver_timeout)\n\u001b[1;32m    234\u001b[0m \u001b[38;5;28;01mif\u001b[39;00m \u001b[38;5;28mself\u001b[39m\u001b[38;5;241m.\u001b[39m_offline:\n\u001b[1;32m    235\u001b[0m     js_resources \u001b[38;5;241m=\u001b[39m {\n\u001b[1;32m    236\u001b[0m         \u001b[38;5;124m\"\u001b[39m\u001b[38;5;124mvega.js\u001b[39m\u001b[38;5;124m\"\u001b[39m: get_bundled_script(\u001b[38;5;124m\"\u001b[39m\u001b[38;5;124mvega\u001b[39m\u001b[38;5;124m\"\u001b[39m, \u001b[38;5;28mself\u001b[39m\u001b[38;5;241m.\u001b[39m_package_versions[\u001b[38;5;124m\"\u001b[39m\u001b[38;5;124mvega\u001b[39m\u001b[38;5;124m\"\u001b[39m]),\n\u001b[0;32m--> 237\u001b[0m         \u001b[38;5;124m\"\u001b[39m\u001b[38;5;124mvega-lite.js\u001b[39m\u001b[38;5;124m\"\u001b[39m: \u001b[43mget_bundled_script\u001b[49m\u001b[43m(\u001b[49m\n\u001b[1;32m    238\u001b[0m \u001b[43m            \u001b[49m\u001b[38;5;124;43m\"\u001b[39;49m\u001b[38;5;124;43mvega-lite\u001b[39;49m\u001b[38;5;124;43m\"\u001b[39;49m\u001b[43m,\u001b[49m\u001b[43m \u001b[49m\u001b[38;5;28;43mself\u001b[39;49m\u001b[38;5;241;43m.\u001b[39;49m\u001b[43m_package_versions\u001b[49m\u001b[43m[\u001b[49m\u001b[38;5;124;43m\"\u001b[39;49m\u001b[38;5;124;43mvega-lite\u001b[39;49m\u001b[38;5;124;43m\"\u001b[39;49m\u001b[43m]\u001b[49m\n\u001b[1;32m    239\u001b[0m \u001b[43m        \u001b[49m\u001b[43m)\u001b[49m,\n\u001b[1;32m    240\u001b[0m         \u001b[38;5;124m\"\u001b[39m\u001b[38;5;124mvega-embed.js\u001b[39m\u001b[38;5;124m\"\u001b[39m: get_bundled_script(\n\u001b[1;32m    241\u001b[0m             \u001b[38;5;124m\"\u001b[39m\u001b[38;5;124mvega-embed\u001b[39m\u001b[38;5;124m\"\u001b[39m, \u001b[38;5;28mself\u001b[39m\u001b[38;5;241m.\u001b[39m_package_versions[\u001b[38;5;124m\"\u001b[39m\u001b[38;5;124mvega-embed\u001b[39m\u001b[38;5;124m\"\u001b[39m]\n\u001b[1;32m    242\u001b[0m         ),\n\u001b[1;32m    243\u001b[0m     }\n\u001b[1;32m    244\u001b[0m     html \u001b[38;5;241m=\u001b[39m HTML_TEMPLATE\u001b[38;5;241m.\u001b[39mformat(\n\u001b[1;32m    245\u001b[0m         vega_url\u001b[38;5;241m=\u001b[39m\u001b[38;5;124m\"\u001b[39m\u001b[38;5;124m/vega.js\u001b[39m\u001b[38;5;124m\"\u001b[39m,\n\u001b[1;32m    246\u001b[0m         vegalite_url\u001b[38;5;241m=\u001b[39m\u001b[38;5;124m\"\u001b[39m\u001b[38;5;124m/vega-lite.js\u001b[39m\u001b[38;5;124m\"\u001b[39m,\n\u001b[1;32m    247\u001b[0m         vegaembed_url\u001b[38;5;241m=\u001b[39m\u001b[38;5;124m\"\u001b[39m\u001b[38;5;124m/vega-embed.js\u001b[39m\u001b[38;5;124m\"\u001b[39m,\n\u001b[1;32m    248\u001b[0m     )\n\u001b[1;32m    249\u001b[0m \u001b[38;5;28;01melse\u001b[39;00m:\n",
      "File \u001b[0;32m~/opt/miniconda3/lib/python3.11/site-packages/altair_viewer/_scripts.py:40\u001b[0m, in \u001b[0;36mget_bundled_script\u001b[0;34m(package, version)\u001b[0m\n\u001b[1;32m     36\u001b[0m \u001b[38;5;28;01mif\u001b[39;00m package \u001b[38;5;129;01mnot\u001b[39;00m \u001b[38;5;129;01min\u001b[39;00m listing:\n\u001b[1;32m     37\u001b[0m     \u001b[38;5;28;01mraise\u001b[39;00m \u001b[38;5;167;01mValueError\u001b[39;00m(\n\u001b[1;32m     38\u001b[0m         \u001b[38;5;124mf\u001b[39m\u001b[38;5;124m\"\u001b[39m\u001b[38;5;124mpackage \u001b[39m\u001b[38;5;132;01m{\u001b[39;00mpackage\u001b[38;5;132;01m!r}\u001b[39;00m\u001b[38;5;124m not recognized. Available: \u001b[39m\u001b[38;5;132;01m{\u001b[39;00m\u001b[38;5;28mlist\u001b[39m(listing)\u001b[38;5;132;01m}\u001b[39;00m\u001b[38;5;124m\"\u001b[39m\n\u001b[1;32m     39\u001b[0m     )\n\u001b[0;32m---> 40\u001b[0m version_str \u001b[38;5;241m=\u001b[39m \u001b[43mfind_version\u001b[49m\u001b[43m(\u001b[49m\u001b[43mversion\u001b[49m\u001b[43m,\u001b[49m\u001b[43m \u001b[49m\u001b[43mlisting\u001b[49m\u001b[43m[\u001b[49m\u001b[43mpackage\u001b[49m\u001b[43m]\u001b[49m\u001b[43m)\u001b[49m\n\u001b[1;32m     41\u001b[0m path \u001b[38;5;241m=\u001b[39m \u001b[38;5;124mf\u001b[39m\u001b[38;5;124m\"\u001b[39m\u001b[38;5;124mscripts/\u001b[39m\u001b[38;5;132;01m{\u001b[39;00mpackage\u001b[38;5;132;01m}\u001b[39;00m\u001b[38;5;124m-\u001b[39m\u001b[38;5;132;01m{\u001b[39;00mversion_str\u001b[38;5;132;01m}\u001b[39;00m\u001b[38;5;124m.js\u001b[39m\u001b[38;5;124m\"\u001b[39m\n\u001b[1;32m     42\u001b[0m content \u001b[38;5;241m=\u001b[39m pkgutil\u001b[38;5;241m.\u001b[39mget_data(\u001b[38;5;124m\"\u001b[39m\u001b[38;5;124maltair_viewer\u001b[39m\u001b[38;5;124m\"\u001b[39m, path)\n",
      "File \u001b[0;32m~/opt/miniconda3/lib/python3.11/site-packages/altair_viewer/_utils.py:212\u001b[0m, in \u001b[0;36mfind_version\u001b[0;34m(version, candidates, strict_micro)\u001b[0m\n\u001b[1;32m    210\u001b[0m matches \u001b[38;5;241m=\u001b[39m [c \u001b[38;5;28;01mfor\u001b[39;00m c \u001b[38;5;129;01min\u001b[39;00m cand \u001b[38;5;28;01mif\u001b[39;00m v\u001b[38;5;241m.\u001b[39mmatches(c)]\n\u001b[1;32m    211\u001b[0m \u001b[38;5;28;01mif\u001b[39;00m \u001b[38;5;129;01mnot\u001b[39;00m matches:\n\u001b[0;32m--> 212\u001b[0m     \u001b[38;5;28;01mraise\u001b[39;00m NoMatchingVersions(\n\u001b[1;32m    213\u001b[0m         \u001b[38;5;124mf\u001b[39m\u001b[38;5;124m\"\u001b[39m\u001b[38;5;124mNo matches for version=\u001b[39m\u001b[38;5;132;01m{\u001b[39;00mversion\u001b[38;5;132;01m!r}\u001b[39;00m\u001b[38;5;124m among \u001b[39m\u001b[38;5;132;01m{\u001b[39;00mcandidates\u001b[38;5;132;01m}\u001b[39;00m\u001b[38;5;124m.\u001b[39m\u001b[38;5;130;01m\\n\u001b[39;00m\u001b[38;5;124m\"\u001b[39m\n\u001b[1;32m    214\u001b[0m         \u001b[38;5;124m\"\u001b[39m\u001b[38;5;124mOften this can be fixed by updating altair_viewer:\u001b[39m\u001b[38;5;130;01m\\n\u001b[39;00m\u001b[38;5;124m\"\u001b[39m\n\u001b[1;32m    215\u001b[0m         \u001b[38;5;124m\"\u001b[39m\u001b[38;5;124m    pip install -U altair_viewer\u001b[39m\u001b[38;5;124m\"\u001b[39m\n\u001b[1;32m    216\u001b[0m     )\n\u001b[1;32m    217\u001b[0m \u001b[38;5;28;01mreturn\u001b[39;00m \u001b[38;5;28mstr\u001b[39m(matches[\u001b[38;5;241m-\u001b[39m\u001b[38;5;241m1\u001b[39m])\n",
      "\u001b[0;31mNoMatchingVersions\u001b[0m: No matches for version='5.17.0' among ['4.0.2', '4.8.1', '4.17.0'].\nOften this can be fixed by updating altair_viewer:\n    pip install -U altair_viewer"
     ]
    }
   ],
   "source": [
    "import altair as alt\n",
    "import altair_saver\n",
    "import pandas as pd\n",
    "data = pd.read_csv(\"neg_anscombes.csv\")\n",
    "for i in range(1, 5):\n",
    "    c = (alt.Chart(data).mark_point()\n",
    "    .encode(\n",
    "        x=alt.X(f\"x_{i}\", scale=alt.Scale(zero=False)),\n",
    "        y=alt.Y(f\"y_{i}\", scale=alt.Scale(zero=False))\n",
    "    ))\n",
    "    fit = c.transform_regression(\n",
    "        f\"y_{i}\", f\"x_{i}\"\n",
    "    ).mark_line()\n",
    "    o = fit + c\n",
    "    o.show()\n",
    "    altair_saver.save(o, f\"../images/anscombes_{i}.png\")"
   ]
  }
 ],
 "metadata": {
  "kernelspec": {
   "display_name": "base",
   "language": "python",
   "name": "python3"
  },
  "language_info": {
   "codemirror_mode": {
    "name": "ipython",
    "version": 3
   },
   "file_extension": ".py",
   "mimetype": "text/x-python",
   "name": "python",
   "nbconvert_exporter": "python",
   "pygments_lexer": "ipython3",
   "version": "3.11.8"
  },
  "vscode": {
   "interpreter": {
    "hash": "718fed28bf9f8c7851519acf2fb923cd655120b36de3b67253eeb0428bd33d2d"
   }
  }
 },
 "nbformat": 4,
 "nbformat_minor": 2
}