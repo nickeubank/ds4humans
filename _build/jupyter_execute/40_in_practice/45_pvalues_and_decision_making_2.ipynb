{
 "cells": [
  {
   "cell_type": "markdown",
   "metadata": {},
   "source": [
    "# P-Values and Decision Making, Part 2"
   ]
  },
  {
   "cell_type": "markdown",
   "metadata": {},
   "source": [
    "If you are like most people, you probably answered \"6.3\\%,\" the value of the p-value associated with `treatment`. Given the setup of this reading, you may also be thinking that's probably not the right answer, but you may not have a great sense for why it is not. So let's dive into it. \n",
    "\n",
    "## The Standard Response\n",
    "\n",
    "First, your intuition is correct: the correct answer is not 6.3\\%. But why?\n",
    "\n",
    "If you make the mistake of interpreting a p-value as the probability that the true value of a coefficient in a regression is 0, you've probably been told \"no, the p-value is the probability that you would get a coefficient at least as large as the one observed *under the null hypothesis.*\" But let's be honest, do you really understand what that means? Probably not. \n",
    "\n",
    "## A Different Approach to a Response\n",
    "\n",
    "What we usually want to know when we look at this type of regression is the probability that the true value of the coefficient — in this case, the effect of the experiment — is non-zero. To answer this question, we often ask \"what is the probability that the true effect *is* zero\", since the probability the effect is non-zero is just $1 - Pr(\\text{effect is zero})$.\n",
    "\n",
    "In other words, what we want to know is $Pr(H_0 \\text{ is true})$, where $H_0$ is our Null Hypothesis of zero effect. Or, to be more precise, given we are interested in that probability in light of the data we have just observed, we want to know:\n",
    "\n",
    "$$\\text{what we want to know: } Pr(H_0 \\text{ is true}|\\text{Observed Data})$$\n",
    "\n",
    "And doesn't that *feel* like what a p-value is?\n",
    "\n",
    "But it's not. A p-value is actually the probability we would observe a coefficient at least this large *in a world where the Null Hypothesis is true*. In other words:\n",
    "\n",
    "$$\\text{p-value} \\equiv Pr(\\text{Observed Data}| H_0 \\text{ is true})$$\n",
    "\n",
    "Note that because Observed Data is now on the left hand side of the equation, we aren't talking about \"the specific data we actually observed in the study,\" but rather the random variable \"the data you might get if you re-ran the study\" (often written $X$).\n",
    "\n",
    "So how do these two quantities — $Pr(\\text{Observed Data}| H_0 \\text{ is true})$ and $Pr(H_0 \\text{ is true}|\\text{Observed Data})$ — relate to one another? The answer is given by [Bayes Rule](https://en.wikipedia.org/wiki/Bayes%27_theorem#Statement_of_theorem).\n",
    "\n",
    "As you may recall, Bayes Rule is:\n",
    "\n",
    "$$Pr(A|B) = \\frac{Pr(B|A)Pr(A)}{Pr(B)}$$\n",
    "\n",
    "\n",
    "So if we substitute $H_0 \\text{is true}$ for $A$ and Observed Data for $B$, we can see how these two quantities relate:\n",
    "\n",
    "$$Pr(H_0 \\text{ is true}|\\text{Observed Data}) = \\frac{Pr(\\text{Observed Data}| H_0 \\text{is true}) * Pr(H_0 \\text{is true})}{Pr(\\text{Observed Data})}$$\n",
    "\n",
    "Or\n",
    "\n",
    "\n",
    "$$Pr(H_0 \\text{ is true}|\\text{Observed Data}) = \\frac{\\text{p-value} * Pr(H_0 \\text{is true})}{Pr(\\text{Observed Data})}$$\n",
    "\n"
   ]
  },
  {
   "cell_type": "markdown",
   "metadata": {},
   "source": [
    "## How these relate\n",
    "\n",
    "- $Pr(H_0 \\text{ is true})$: This is what's called our \"prior\" for $H_0$ — that is, our belief about the likelihood $H_0$ was true *before* we saw this data. \n",
    "- $Pr(\\text{Observed Data})$: This term is a constant whose value is really hard to calculate. However, because we know that we are working with a probability distribution on the lefthand side, "
   ]
  }
 ],
 "metadata": {
  "language_info": {
   "codemirror_mode": {
    "name": "ipython",
    "version": 3
   },
   "file_extension": ".py",
   "mimetype": "text/x-python",
   "name": "python",
   "nbconvert_exporter": "python",
   "pygments_lexer": "ipython3",
   "version": "3.12.8"
  }
 },
 "nbformat": 4,
 "nbformat_minor": 2
}