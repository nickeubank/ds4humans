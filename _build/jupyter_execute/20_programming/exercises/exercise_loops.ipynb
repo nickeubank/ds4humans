{
 "cells": [
  {
   "cell_type": "markdown",
   "metadata": {},
   "source": [
    "# Plotting Exercises, Part 1"
   ]
  },
  {
   "cell_type": "markdown",
   "metadata": {},
   "source": [
    "### Exercise 1\n",
    "\n",
    "Create a dataframe from the \"Datasaurus.tsv\" file with the following code:"
   ]
  },
  {
   "cell_type": "code",
   "execution_count": 1,
   "metadata": {},
   "outputs": [],
   "source": [
    "data <- read.csv(\"https://raw.githubusercontent.com/nickeubank/computational_methods_boot_camp/main/source/data/Datasaurus.tsv\", sep=\"\\t\")\n"
   ]
  },
  {
   "cell_type": "markdown",
   "metadata": {},
   "source": [
    "`Datasaurus.tsv` is a tab-separated-value file, so it's like a CSV, but it uses tabs not commas to separate columns. We can read this with `read.csv`, but we have to tell it that the column separator is a tab with the argument `sep=\"\\t\"`. Take a look at a few of the top rows: "
   ]
  },
  {
   "cell_type": "code",
   "execution_count": 2,
   "metadata": {},
   "outputs": [
    {
     "data": {
      "text/html": [
       "<table class=\"dataframe\">\n",
       "<caption>A data.frame: 6 × 26</caption>\n",
       "<thead>\n",
       "\t<tr><th></th><th scope=col>example1_x</th><th scope=col>example1_y</th><th scope=col>example2_x</th><th scope=col>example2_y</th><th scope=col>example3_x</th><th scope=col>example3_y</th><th scope=col>example4_x</th><th scope=col>example4_y</th><th scope=col>example5_x</th><th scope=col>example5_y</th><th scope=col>⋯</th><th scope=col>example9_x</th><th scope=col>example9_y</th><th scope=col>example10_x</th><th scope=col>example10_y</th><th scope=col>example11_x</th><th scope=col>example11_y</th><th scope=col>example12_x</th><th scope=col>example12_y</th><th scope=col>example13_x</th><th scope=col>example13_y</th></tr>\n",
       "\t<tr><th></th><th scope=col>&lt;dbl&gt;</th><th scope=col>&lt;dbl&gt;</th><th scope=col>&lt;dbl&gt;</th><th scope=col>&lt;dbl&gt;</th><th scope=col>&lt;dbl&gt;</th><th scope=col>&lt;dbl&gt;</th><th scope=col>&lt;dbl&gt;</th><th scope=col>&lt;dbl&gt;</th><th scope=col>&lt;dbl&gt;</th><th scope=col>&lt;dbl&gt;</th><th scope=col>⋯</th><th scope=col>&lt;dbl&gt;</th><th scope=col>&lt;dbl&gt;</th><th scope=col>&lt;dbl&gt;</th><th scope=col>&lt;dbl&gt;</th><th scope=col>&lt;dbl&gt;</th><th scope=col>&lt;dbl&gt;</th><th scope=col>&lt;dbl&gt;</th><th scope=col>&lt;dbl&gt;</th><th scope=col>&lt;dbl&gt;</th><th scope=col>&lt;dbl&gt;</th></tr>\n",
       "</thead>\n",
       "<tbody>\n",
       "\t<tr><th scope=row>1</th><td>32.33111</td><td>61.41110</td><td>51.20389</td><td>83.33978</td><td>55.99303</td><td>79.27726</td><td>55.3846</td><td>97.1795</td><td>51.14792</td><td>90.86741</td><td>⋯</td><td>47.69520</td><td>95.24119</td><td>58.21361</td><td>91.88189</td><td>50.48151</td><td>93.22270</td><td>65.81554</td><td>95.58837</td><td>38.33776</td><td>92.47272</td></tr>\n",
       "\t<tr><th scope=row>2</th><td>53.42146</td><td>26.18688</td><td>58.97447</td><td>85.49982</td><td>50.03225</td><td>79.01307</td><td>51.5385</td><td>96.0256</td><td>50.51713</td><td>89.10239</td><td>⋯</td><td>44.60998</td><td>93.07584</td><td>58.19605</td><td>92.21499</td><td>50.28241</td><td>97.60998</td><td>65.67227</td><td>91.93340</td><td>35.75187</td><td>94.11677</td></tr>\n",
       "\t<tr><th scope=row>3</th><td>63.92020</td><td>30.83219</td><td>51.87207</td><td>85.82974</td><td>51.28846</td><td>82.43594</td><td>46.1538</td><td>94.4872</td><td>50.20748</td><td>85.46005</td><td>⋯</td><td>43.85638</td><td>94.08587</td><td>58.71823</td><td>90.31053</td><td>50.18670</td><td>99.69468</td><td>39.00272</td><td>92.26184</td><td>32.76722</td><td>88.51829</td></tr>\n",
       "\t<tr><th scope=row>4</th><td>70.28951</td><td>82.53365</td><td>48.17993</td><td>85.04512</td><td>51.17054</td><td>79.16529</td><td>42.8205</td><td>91.4103</td><td>50.06948</td><td>83.05767</td><td>⋯</td><td>41.57893</td><td>90.30357</td><td>57.27837</td><td>89.90761</td><td>50.32691</td><td>90.02205</td><td>37.79530</td><td>93.53246</td><td>33.72961</td><td>88.62227</td></tr>\n",
       "\t<tr><th scope=row>5</th><td>34.11883</td><td>45.73455</td><td>41.68320</td><td>84.01794</td><td>44.37791</td><td>78.16463</td><td>40.7692</td><td>88.3333</td><td>50.56285</td><td>82.93782</td><td>⋯</td><td>49.17742</td><td>96.61053</td><td>58.08202</td><td>92.00815</td><td>50.45621</td><td>89.98741</td><td>35.51390</td><td>89.59919</td><td>37.23825</td><td>83.72493</td></tr>\n",
       "\t<tr><th scope=row>6</th><td>67.67072</td><td>37.11095</td><td>37.89042</td><td>82.56749</td><td>45.01027</td><td>77.88086</td><td>38.7179</td><td>84.8718</td><td>50.28853</td><td>82.97525</td><td>⋯</td><td>42.65225</td><td>90.56064</td><td>57.48945</td><td>88.08529</td><td>30.46485</td><td>82.08923</td><td>39.21945</td><td>83.54348</td><td>36.02720</td><td>82.04078</td></tr>\n",
       "</tbody>\n",
       "</table>\n"
      ],
      "text/latex": [
       "A data.frame: 6 × 26\n",
       "\\begin{tabular}{r|lllllllllllllllllllll}\n",
       "  & example1\\_x & example1\\_y & example2\\_x & example2\\_y & example3\\_x & example3\\_y & example4\\_x & example4\\_y & example5\\_x & example5\\_y & ⋯ & example9\\_x & example9\\_y & example10\\_x & example10\\_y & example11\\_x & example11\\_y & example12\\_x & example12\\_y & example13\\_x & example13\\_y\\\\\n",
       "  & <dbl> & <dbl> & <dbl> & <dbl> & <dbl> & <dbl> & <dbl> & <dbl> & <dbl> & <dbl> & ⋯ & <dbl> & <dbl> & <dbl> & <dbl> & <dbl> & <dbl> & <dbl> & <dbl> & <dbl> & <dbl>\\\\\n",
       "\\hline\n",
       "\t1 & 32.33111 & 61.41110 & 51.20389 & 83.33978 & 55.99303 & 79.27726 & 55.3846 & 97.1795 & 51.14792 & 90.86741 & ⋯ & 47.69520 & 95.24119 & 58.21361 & 91.88189 & 50.48151 & 93.22270 & 65.81554 & 95.58837 & 38.33776 & 92.47272\\\\\n",
       "\t2 & 53.42146 & 26.18688 & 58.97447 & 85.49982 & 50.03225 & 79.01307 & 51.5385 & 96.0256 & 50.51713 & 89.10239 & ⋯ & 44.60998 & 93.07584 & 58.19605 & 92.21499 & 50.28241 & 97.60998 & 65.67227 & 91.93340 & 35.75187 & 94.11677\\\\\n",
       "\t3 & 63.92020 & 30.83219 & 51.87207 & 85.82974 & 51.28846 & 82.43594 & 46.1538 & 94.4872 & 50.20748 & 85.46005 & ⋯ & 43.85638 & 94.08587 & 58.71823 & 90.31053 & 50.18670 & 99.69468 & 39.00272 & 92.26184 & 32.76722 & 88.51829\\\\\n",
       "\t4 & 70.28951 & 82.53365 & 48.17993 & 85.04512 & 51.17054 & 79.16529 & 42.8205 & 91.4103 & 50.06948 & 83.05767 & ⋯ & 41.57893 & 90.30357 & 57.27837 & 89.90761 & 50.32691 & 90.02205 & 37.79530 & 93.53246 & 33.72961 & 88.62227\\\\\n",
       "\t5 & 34.11883 & 45.73455 & 41.68320 & 84.01794 & 44.37791 & 78.16463 & 40.7692 & 88.3333 & 50.56285 & 82.93782 & ⋯ & 49.17742 & 96.61053 & 58.08202 & 92.00815 & 50.45621 & 89.98741 & 35.51390 & 89.59919 & 37.23825 & 83.72493\\\\\n",
       "\t6 & 67.67072 & 37.11095 & 37.89042 & 82.56749 & 45.01027 & 77.88086 & 38.7179 & 84.8718 & 50.28853 & 82.97525 & ⋯ & 42.65225 & 90.56064 & 57.48945 & 88.08529 & 30.46485 & 82.08923 & 39.21945 & 83.54348 & 36.02720 & 82.04078\\\\\n",
       "\\end{tabular}\n"
      ],
      "text/markdown": [
       "\n",
       "A data.frame: 6 × 26\n",
       "\n",
       "| <!--/--> | example1_x &lt;dbl&gt; | example1_y &lt;dbl&gt; | example2_x &lt;dbl&gt; | example2_y &lt;dbl&gt; | example3_x &lt;dbl&gt; | example3_y &lt;dbl&gt; | example4_x &lt;dbl&gt; | example4_y &lt;dbl&gt; | example5_x &lt;dbl&gt; | example5_y &lt;dbl&gt; | ⋯ ⋯ | example9_x &lt;dbl&gt; | example9_y &lt;dbl&gt; | example10_x &lt;dbl&gt; | example10_y &lt;dbl&gt; | example11_x &lt;dbl&gt; | example11_y &lt;dbl&gt; | example12_x &lt;dbl&gt; | example12_y &lt;dbl&gt; | example13_x &lt;dbl&gt; | example13_y &lt;dbl&gt; |\n",
       "|---|---|---|---|---|---|---|---|---|---|---|---|---|---|---|---|---|---|---|---|---|---|\n",
       "| 1 | 32.33111 | 61.41110 | 51.20389 | 83.33978 | 55.99303 | 79.27726 | 55.3846 | 97.1795 | 51.14792 | 90.86741 | ⋯ | 47.69520 | 95.24119 | 58.21361 | 91.88189 | 50.48151 | 93.22270 | 65.81554 | 95.58837 | 38.33776 | 92.47272 |\n",
       "| 2 | 53.42146 | 26.18688 | 58.97447 | 85.49982 | 50.03225 | 79.01307 | 51.5385 | 96.0256 | 50.51713 | 89.10239 | ⋯ | 44.60998 | 93.07584 | 58.19605 | 92.21499 | 50.28241 | 97.60998 | 65.67227 | 91.93340 | 35.75187 | 94.11677 |\n",
       "| 3 | 63.92020 | 30.83219 | 51.87207 | 85.82974 | 51.28846 | 82.43594 | 46.1538 | 94.4872 | 50.20748 | 85.46005 | ⋯ | 43.85638 | 94.08587 | 58.71823 | 90.31053 | 50.18670 | 99.69468 | 39.00272 | 92.26184 | 32.76722 | 88.51829 |\n",
       "| 4 | 70.28951 | 82.53365 | 48.17993 | 85.04512 | 51.17054 | 79.16529 | 42.8205 | 91.4103 | 50.06948 | 83.05767 | ⋯ | 41.57893 | 90.30357 | 57.27837 | 89.90761 | 50.32691 | 90.02205 | 37.79530 | 93.53246 | 33.72961 | 88.62227 |\n",
       "| 5 | 34.11883 | 45.73455 | 41.68320 | 84.01794 | 44.37791 | 78.16463 | 40.7692 | 88.3333 | 50.56285 | 82.93782 | ⋯ | 49.17742 | 96.61053 | 58.08202 | 92.00815 | 50.45621 | 89.98741 | 35.51390 | 89.59919 | 37.23825 | 83.72493 |\n",
       "| 6 | 67.67072 | 37.11095 | 37.89042 | 82.56749 | 45.01027 | 77.88086 | 38.7179 | 84.8718 | 50.28853 | 82.97525 | ⋯ | 42.65225 | 90.56064 | 57.48945 | 88.08529 | 30.46485 | 82.08923 | 39.21945 | 83.54348 | 36.02720 | 82.04078 |\n",
       "\n"
      ],
      "text/plain": [
       "  example1_x example1_y example2_x example2_y example3_x example3_y example4_x\n",
       "1 32.33111   61.41110   51.20389   83.33978   55.99303   79.27726   55.3846   \n",
       "2 53.42146   26.18688   58.97447   85.49982   50.03225   79.01307   51.5385   \n",
       "3 63.92020   30.83219   51.87207   85.82974   51.28846   82.43594   46.1538   \n",
       "4 70.28951   82.53365   48.17993   85.04512   51.17054   79.16529   42.8205   \n",
       "5 34.11883   45.73455   41.68320   84.01794   44.37791   78.16463   40.7692   \n",
       "6 67.67072   37.11095   37.89042   82.56749   45.01027   77.88086   38.7179   \n",
       "  example4_y example5_x example5_y ⋯ example9_x example9_y example10_x\n",
       "1 97.1795    51.14792   90.86741   ⋯ 47.69520   95.24119   58.21361   \n",
       "2 96.0256    50.51713   89.10239   ⋯ 44.60998   93.07584   58.19605   \n",
       "3 94.4872    50.20748   85.46005   ⋯ 43.85638   94.08587   58.71823   \n",
       "4 91.4103    50.06948   83.05767   ⋯ 41.57893   90.30357   57.27837   \n",
       "5 88.3333    50.56285   82.93782   ⋯ 49.17742   96.61053   58.08202   \n",
       "6 84.8718    50.28853   82.97525   ⋯ 42.65225   90.56064   57.48945   \n",
       "  example10_y example11_x example11_y example12_x example12_y example13_x\n",
       "1 91.88189    50.48151    93.22270    65.81554    95.58837    38.33776   \n",
       "2 92.21499    50.28241    97.60998    65.67227    91.93340    35.75187   \n",
       "3 90.31053    50.18670    99.69468    39.00272    92.26184    32.76722   \n",
       "4 89.90761    50.32691    90.02205    37.79530    93.53246    33.72961   \n",
       "5 92.00815    50.45621    89.98741    35.51390    89.59919    37.23825   \n",
       "6 88.08529    30.46485    82.08923    39.21945    83.54348    36.02720   \n",
       "  example13_y\n",
       "1 92.47272   \n",
       "2 94.11677   \n",
       "3 88.51829   \n",
       "4 88.62227   \n",
       "5 83.72493   \n",
       "6 82.04078   "
      ]
     },
     "metadata": {},
     "output_type": "display_data"
    }
   ],
   "source": [
    "head(data)"
   ]
  },
  {
   "cell_type": "markdown",
   "metadata": {},
   "source": [
    "## Exercise 2\n",
    "\n",
    "This dataset actually contains 13 separate example datasets, each with two variables named `example[number]_x` and `example[number]_y`. \n",
    "\n",
    "In order to get a better sense of what these datasets look like, our first goal will be to write a loop that iterates over each example dataset (numbered 1 to 13) and prints out the mean and standard deviation for `example[number]_x` and `example[number]_y` for each dataset. \n",
    "\n",
    "For example, the first iteration of this loop might return something like (note I'm also rounding my answers for readability):\n",
    "\n",
    "```\n",
    "Example Dataset 1: \n",
    "Mean x: 23.12, \n",
    "Mean y: 98.24, \n",
    "Std Dev x: 21.24, \n",
    "Std Dev y: 32.24,\n",
    "Correlation: 0.74\n",
    "```\n",
    "\n",
    "(Though you shouldn't get those specific values)\n",
    "\n",
    "But as we discussed in our reading, we want to approach this in stages. So first, write out the skeleton of your loop. Don't put anything in it except to print out the value of the variable that is iterating in the loop for now. "
   ]
  },
  {
   "cell_type": "markdown",
   "metadata": {},
   "source": [
    "## Exercise 3\n",
    "\n",
    "Now sketch out what the inside of your loop will look like. As discussed in the readings, begin by creating a variable that takes on the first value you'll loop over, then, using that variable, write code that does what you want your first pass of the loop to do. \n",
    "\n",
    "You'll probably need to make use of `print()`, `paste0()`, and `round()`."
   ]
  },
  {
   "cell_type": "markdown",
   "metadata": {},
   "source": [
    "## Exercise 4\n",
    "\n",
    "Now put them together! Can you print out these summary statistics for all 13 pairs of variables? "
   ]
  },
  {
   "cell_type": "markdown",
   "metadata": {},
   "source": [
    "## Exercise 5\n",
    "\n",
    "Based only on these results, discuss what might you conclude about these example datasets with your partner. Write down your thoughts."
   ]
  },
  {
   "cell_type": "markdown",
   "metadata": {},
   "source": [
    "## Exercise 6\n",
    "\n",
    "Now we're going to write a loop that plots these datasets out in a scatter plot. To do this, we'll be using the library `ggplot2`, a libraries from the tidyverse the is unequivocally the best tool for plotting in R.\n",
    "\n",
    "We aren't going to do a full lesson on ggplot because you're sure to encounter it in the future, but the basic syntax to plot the first dataset would look like this:"
   ]
  },
  {
   "cell_type": "code",
   "execution_count": 3,
   "metadata": {},
   "outputs": [
    {
     "ename": "ERROR",
     "evalue": "Error in library(ggplot2): there is no package called ‘ggplot2’\n",
     "output_type": "error",
     "traceback": [
      "Error in library(ggplot2): there is no package called ‘ggplot2’\nTraceback:\n",
      "1. library(ggplot2)"
     ]
    }
   ],
   "source": [
    "library(ggplot2)\n",
    "\n",
    "# First is the dataset, then within `aes()` you specify\n",
    "# which column from the data is the x-axis and which column is the y-axis,\n",
    "# then `+ geom_point()` tells ggplot to plot points for each line of the data.\n",
    "\n",
    "ggplot(data, aes(x = example1_x, y = example1_y)) + geom_point()"
   ]
  },
  {
   "cell_type": "markdown",
   "metadata": {},
   "source": [
    "Now build a loop that plots a scatter plot of all 13 of these data pairs. As before, approach it first by writing a skeleton loop that specifies how the loop will work, then write the inside separately, then integrate the two. \n",
    "\n",
    "Note that because ggplot is from the tidyverse, it interprets column names using non-standard evaluation, so you'll need to use the `.data[[]]` trick from the \n",
    "reading to write a loop!"
   ]
  },
  {
   "cell_type": "markdown",
   "metadata": {},
   "source": [
    "### Exercise 7\n",
    "\n",
    "Review you plots. How does your impression of how these datasets differ from what you wrote down in Exercise 3?"
   ]
  }
 ],
 "metadata": {
  "kernelspec": {
   "display_name": "R",
   "language": "R",
   "name": "ir"
  },
  "language_info": {
   "codemirror_mode": "r",
   "file_extension": ".r",
   "mimetype": "text/x-r-source",
   "name": "R",
   "pygments_lexer": "r",
   "version": "4.2.3"
  }
 },
 "nbformat": 4,
 "nbformat_minor": 4
}