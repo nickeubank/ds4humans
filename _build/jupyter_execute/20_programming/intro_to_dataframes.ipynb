{
 "cells": [
  {
   "cell_type": "markdown",
   "id": "3f4b3c5f",
   "metadata": {},
   "source": [
    "# Intro to Dataframes\n",
    "\n",
    "In our previous lessons, we've talked about how vectors are often used to store lots of different observations of a given measurement (e.g. the answers of different survey respondents to a given question), and how matrices can be used to collect lots of different measurements in columns (e.g. each column can be answers to different questions). \n",
    "\n",
    "But matrices have one major limitation when it comes to social science workflows, which is that all the entries in a matrix have to be of the same type. In reality, however, we often have datasets with lots of *different* data types. For example, we might have numeric data on age and income, but character data for people's names, preferred political candidate, etc. Or we might have data on power plants across the US that includes numeric data on capacity, age, and pollution alongside character data on the power plant's fuel and the company that owns the plant. \n",
    "\n",
    "To deal with this kind of *heterogeneous tabular data*, we turn to the `data.frame`. \n",
    "\n",
    "Dataframes are basically just a collection of vectors, where each vector corresponds to a different column, and each column has a single type. Since they're two-dimensional data structures like matrices, we can actually subset them in the same way as matrices, but they are more flexible in terms of the types of data they can store. \n",
    "\n",
    "In this reading, we'll discussing how to create dataframes from vectors and how to load dataframes from files. Then in our next reading we will discuss how to manipulate dataframes (which, as we will discover, is very similar to how we learn to manipulate matrices).\n"
   ]
  },
  {
   "cell_type": "markdown",
   "id": "d10657e0",
   "metadata": {},
   "source": [
    "## Creating Dataframes for Vectors\n",
    "\n",
    "Let's start by learning how to create a dataframe from vectors in R. This turns out to be very simple --- just combine a set of vectors of the same length using the `data.frame()` command. "
   ]
  },
  {
   "cell_type": "code",
   "execution_count": 1,
   "id": "d83c3c0c",
   "metadata": {},
   "outputs": [
    {
     "data": {
      "text/html": [
       "<table class=\"dataframe\">\n",
       "<caption>A data.frame: 3 × 3</caption>\n",
       "<thead>\n",
       "\t<tr><th scope=col>name</th><th scope=col>age</th><th scope=col>hair</th></tr>\n",
       "\t<tr><th scope=col>&lt;chr&gt;</th><th scope=col>&lt;dbl&gt;</th><th scope=col>&lt;chr&gt;</th></tr>\n",
       "</thead>\n",
       "<tbody>\n",
       "\t<tr><td>al   </td><td>6</td><td>brown</td></tr>\n",
       "\t<tr><td>bea  </td><td>7</td><td>green</td></tr>\n",
       "\t<tr><td>carol</td><td>4</td><td>blond</td></tr>\n",
       "</tbody>\n",
       "</table>\n"
      ],
      "text/latex": [
       "A data.frame: 3 × 3\n",
       "\\begin{tabular}{lll}\n",
       " name & age & hair\\\\\n",
       " <chr> & <dbl> & <chr>\\\\\n",
       "\\hline\n",
       "\t al    & 6 & brown\\\\\n",
       "\t bea   & 7 & green\\\\\n",
       "\t carol & 4 & blond\\\\\n",
       "\\end{tabular}\n"
      ],
      "text/markdown": [
       "\n",
       "A data.frame: 3 × 3\n",
       "\n",
       "| name &lt;chr&gt; | age &lt;dbl&gt; | hair &lt;chr&gt; |\n",
       "|---|---|---|\n",
       "| al    | 6 | brown |\n",
       "| bea   | 7 | green |\n",
       "| carol | 4 | blond |\n",
       "\n"
      ],
      "text/plain": [
       "  name  age hair \n",
       "1 al    6   brown\n",
       "2 bea   7   green\n",
       "3 carol 4   blond"
      ]
     },
     "metadata": {},
     "output_type": "display_data"
    }
   ],
   "source": [
    "# Create three vectors \n",
    "name <- c(\"al\", \"bea\", \"carol\")\n",
    "age <- c(6, 7, 4)\n",
    "hair <- c(\"brown\", \"green\", \"blond\")\n",
    "\n",
    "# Create data frame \n",
    "children <- data.frame(name, age, hair)\n",
    "children"
   ]
  },
  {
   "cell_type": "markdown",
   "id": "97a5c7df",
   "metadata": {},
   "source": [
    "Or we can create our data frame by inserting our vectors as keyword arguments:"
   ]
  },
  {
   "cell_type": "code",
   "execution_count": 2,
   "id": "1a8a1f69",
   "metadata": {},
   "outputs": [
    {
     "data": {
      "text/html": [
       "<table class=\"dataframe\">\n",
       "<caption>A data.frame: 3 × 3</caption>\n",
       "<thead>\n",
       "\t<tr><th scope=col>name</th><th scope=col>age</th><th scope=col>hair</th></tr>\n",
       "\t<tr><th scope=col>&lt;chr&gt;</th><th scope=col>&lt;dbl&gt;</th><th scope=col>&lt;chr&gt;</th></tr>\n",
       "</thead>\n",
       "<tbody>\n",
       "\t<tr><td>al   </td><td>6</td><td>brown</td></tr>\n",
       "\t<tr><td>bea  </td><td>7</td><td>green</td></tr>\n",
       "\t<tr><td>carol</td><td>4</td><td>blond</td></tr>\n",
       "</tbody>\n",
       "</table>\n"
      ],
      "text/latex": [
       "A data.frame: 3 × 3\n",
       "\\begin{tabular}{lll}\n",
       " name & age & hair\\\\\n",
       " <chr> & <dbl> & <chr>\\\\\n",
       "\\hline\n",
       "\t al    & 6 & brown\\\\\n",
       "\t bea   & 7 & green\\\\\n",
       "\t carol & 4 & blond\\\\\n",
       "\\end{tabular}\n"
      ],
      "text/markdown": [
       "\n",
       "A data.frame: 3 × 3\n",
       "\n",
       "| name &lt;chr&gt; | age &lt;dbl&gt; | hair &lt;chr&gt; |\n",
       "|---|---|---|\n",
       "| al    | 6 | brown |\n",
       "| bea   | 7 | green |\n",
       "| carol | 4 | blond |\n",
       "\n"
      ],
      "text/plain": [
       "  name  age hair \n",
       "1 al    6   brown\n",
       "2 bea   7   green\n",
       "3 carol 4   blond"
      ]
     },
     "metadata": {},
     "output_type": "display_data"
    }
   ],
   "source": [
    "# Create data frame \n",
    "children <- data.frame(\n",
    "    name = c(\"al\", \"bea\", \"carol\"),\n",
    "    age = c(6, 7, 4),\n",
    "    hair = c(\"brown\", \"green\", \"blond\")\n",
    ")\n",
    "children"
   ]
  },
  {
   "cell_type": "markdown",
   "id": "bc66904e",
   "metadata": {},
   "source": [
    "Note that unlike matrices and vectors -- which *can* have names -- dataframe columns **always** have names, and you'll usually see columns accessed by name for reasons we'll discuss below:"
   ]
  },
  {
   "cell_type": "code",
   "execution_count": 3,
   "id": "947cae87",
   "metadata": {},
   "outputs": [
    {
     "data": {
      "text/html": [
       "<style>\n",
       ".list-inline {list-style: none; margin:0; padding: 0}\n",
       ".list-inline>li {display: inline-block}\n",
       ".list-inline>li:not(:last-child)::after {content: \"\\00b7\"; padding: 0 .5ex}\n",
       "</style>\n",
       "<ol class=list-inline><li>'brown'</li><li>'green'</li><li>'blond'</li></ol>\n"
      ],
      "text/latex": [
       "\\begin{enumerate*}\n",
       "\\item 'brown'\n",
       "\\item 'green'\n",
       "\\item 'blond'\n",
       "\\end{enumerate*}\n"
      ],
      "text/markdown": [
       "1. 'brown'\n",
       "2. 'green'\n",
       "3. 'blond'\n",
       "\n",
       "\n"
      ],
      "text/plain": [
       "[1] \"brown\" \"green\" \"blond\""
      ]
     },
     "metadata": {},
     "output_type": "display_data"
    }
   ],
   "source": [
    "children[, \"hair\"]"
   ]
  },
  {
   "cell_type": "markdown",
   "id": "158063cb",
   "metadata": {},
   "source": [
    "And as we discussed before, the columns of a dataframe are just our old friends, the vector!"
   ]
  },
  {
   "cell_type": "code",
   "execution_count": 4,
   "id": "cfba9757",
   "metadata": {},
   "outputs": [
    {
     "data": {
      "text/html": [
       "'character'"
      ],
      "text/latex": [
       "'character'"
      ],
      "text/markdown": [
       "'character'"
      ],
      "text/plain": [
       "[1] \"character\""
      ]
     },
     "metadata": {},
     "output_type": "display_data"
    }
   ],
   "source": [
    "class(children[, \"hair\"])"
   ]
  },
  {
   "cell_type": "markdown",
   "id": "8e134b27",
   "metadata": {},
   "source": [
    "## Getting to Know Your Dataframe\n",
    "\n",
    "To better understand the proper structure of datasets, let's create a second data frame that has a more realistic data structure:"
   ]
  },
  {
   "cell_type": "code",
   "execution_count": 5,
   "id": "1ba1a303",
   "metadata": {},
   "outputs": [
    {
     "data": {
      "text/html": [
       "<table class=\"dataframe\">\n",
       "<caption>A data.frame: 9 × 3</caption>\n",
       "<thead>\n",
       "\t<tr><th scope=col>country</th><th scope=col>year</th><th scope=col>gdp_pc</th></tr>\n",
       "\t<tr><th scope=col>&lt;chr&gt;</th><th scope=col>&lt;dbl&gt;</th><th scope=col>&lt;dbl&gt;</th></tr>\n",
       "</thead>\n",
       "<tbody>\n",
       "\t<tr><td>USA  </td><td>1994</td><td>12409</td></tr>\n",
       "\t<tr><td>China</td><td>1994</td><td>15023</td></tr>\n",
       "\t<tr><td>Sudan</td><td>1994</td><td> 8515</td></tr>\n",
       "\t<tr><td>USA  </td><td>1995</td><td>17710</td></tr>\n",
       "\t<tr><td>China</td><td>1995</td><td> 8364</td></tr>\n",
       "\t<tr><td>Sudan</td><td>1995</td><td> 2130</td></tr>\n",
       "\t<tr><td>USA  </td><td>1996</td><td> 9730</td></tr>\n",
       "\t<tr><td>China</td><td>1996</td><td>18022</td></tr>\n",
       "\t<tr><td>Sudan</td><td>1996</td><td>18039</td></tr>\n",
       "</tbody>\n",
       "</table>\n"
      ],
      "text/latex": [
       "A data.frame: 9 × 3\n",
       "\\begin{tabular}{lll}\n",
       " country & year & gdp\\_pc\\\\\n",
       " <chr> & <dbl> & <dbl>\\\\\n",
       "\\hline\n",
       "\t USA   & 1994 & 12409\\\\\n",
       "\t China & 1994 & 15023\\\\\n",
       "\t Sudan & 1994 &  8515\\\\\n",
       "\t USA   & 1995 & 17710\\\\\n",
       "\t China & 1995 &  8364\\\\\n",
       "\t Sudan & 1995 &  2130\\\\\n",
       "\t USA   & 1996 &  9730\\\\\n",
       "\t China & 1996 & 18022\\\\\n",
       "\t Sudan & 1996 & 18039\\\\\n",
       "\\end{tabular}\n"
      ],
      "text/markdown": [
       "\n",
       "A data.frame: 9 × 3\n",
       "\n",
       "| country &lt;chr&gt; | year &lt;dbl&gt; | gdp_pc &lt;dbl&gt; |\n",
       "|---|---|---|\n",
       "| USA   | 1994 | 12409 |\n",
       "| China | 1994 | 15023 |\n",
       "| Sudan | 1994 |  8515 |\n",
       "| USA   | 1995 | 17710 |\n",
       "| China | 1995 |  8364 |\n",
       "| Sudan | 1995 |  2130 |\n",
       "| USA   | 1996 |  9730 |\n",
       "| China | 1996 | 18022 |\n",
       "| Sudan | 1996 | 18039 |\n",
       "\n"
      ],
      "text/plain": [
       "  country year gdp_pc\n",
       "1 USA     1994 12409 \n",
       "2 China   1994 15023 \n",
       "3 Sudan   1994  8515 \n",
       "4 USA     1995 17710 \n",
       "5 China   1995  8364 \n",
       "6 Sudan   1995  2130 \n",
       "7 USA     1996  9730 \n",
       "8 China   1996 18022 \n",
       "9 Sudan   1996 18039 "
      ]
     },
     "metadata": {},
     "output_type": "display_data"
    }
   ],
   "source": [
    "country <- rep(c(\"USA\", \"China\", \"Sudan\"), 3)\n",
    "year <- c(1994, 1994, 1994, 1995, 1995, 1995, 1996, 1996, 1996)\n",
    "gdp_pc <- round(runif(9, 1000, 20000))\n",
    "\n",
    "countries <- data.frame(country, year, gdp_pc)\n",
    "countries"
   ]
  },
  {
   "cell_type": "markdown",
   "id": "57506f8f",
   "metadata": {},
   "source": [
    "Where we can pretend that `gdp_pc` is a measure of a country's GDP per capita in a given year. \n",
    " \n",
    "(A quick aside: `rep()`, as you may recall, creates a vector that repeats the first input the number of times specified by the second input. `runif()` creates, in this case, 9 random values uniformly distributed between 1000 and 20000.)\n"
   ]
  },
  {
   "cell_type": "markdown",
   "id": "2fc0a658",
   "metadata": {},
   "source": [
    "Now let's explore some common functions for getting to know your dataframe!"
   ]
  },
  {
   "cell_type": "markdown",
   "id": "468de55a",
   "metadata": {},
   "source": [
    "Use `nrow()` and `ncol()` to get the number of rows (observations) and columns (variables):"
   ]
  },
  {
   "cell_type": "code",
   "execution_count": 6,
   "id": "be366f6e",
   "metadata": {},
   "outputs": [
    {
     "data": {
      "text/html": [
       "9"
      ],
      "text/latex": [
       "9"
      ],
      "text/markdown": [
       "9"
      ],
      "text/plain": [
       "[1] 9"
      ]
     },
     "metadata": {},
     "output_type": "display_data"
    }
   ],
   "source": [
    "# Num rows (e.g. observations)\n",
    "nrow(countries)"
   ]
  },
  {
   "cell_type": "code",
   "execution_count": 7,
   "id": "d650c42a",
   "metadata": {},
   "outputs": [
    {
     "data": {
      "text/html": [
       "3"
      ],
      "text/latex": [
       "3"
      ],
      "text/markdown": [
       "3"
      ],
      "text/plain": [
       "[1] 3"
      ]
     },
     "metadata": {},
     "output_type": "display_data"
    }
   ],
   "source": [
    "# Num columns (e.g. variables)\n",
    "ncol(countries)"
   ]
  },
  {
   "cell_type": "markdown",
   "id": "17edf8a2",
   "metadata": {},
   "source": [
    "\n",
    "Use `head()` and `tail()` to look at the first and last few rows of a dataset, respectively. Obviously this is more useful when we have datasets with hundreds or thousands of observations you can't just look at the whole thing at once! :)"
   ]
  },
  {
   "cell_type": "code",
   "execution_count": 8,
   "id": "23f5f7e9",
   "metadata": {},
   "outputs": [
    {
     "data": {
      "text/html": [
       "<table class=\"dataframe\">\n",
       "<caption>A data.frame: 6 × 3</caption>\n",
       "<thead>\n",
       "\t<tr><th></th><th scope=col>country</th><th scope=col>year</th><th scope=col>gdp_pc</th></tr>\n",
       "\t<tr><th></th><th scope=col>&lt;chr&gt;</th><th scope=col>&lt;dbl&gt;</th><th scope=col>&lt;dbl&gt;</th></tr>\n",
       "</thead>\n",
       "<tbody>\n",
       "\t<tr><th scope=row>1</th><td>USA  </td><td>1994</td><td>12409</td></tr>\n",
       "\t<tr><th scope=row>2</th><td>China</td><td>1994</td><td>15023</td></tr>\n",
       "\t<tr><th scope=row>3</th><td>Sudan</td><td>1994</td><td> 8515</td></tr>\n",
       "\t<tr><th scope=row>4</th><td>USA  </td><td>1995</td><td>17710</td></tr>\n",
       "\t<tr><th scope=row>5</th><td>China</td><td>1995</td><td> 8364</td></tr>\n",
       "\t<tr><th scope=row>6</th><td>Sudan</td><td>1995</td><td> 2130</td></tr>\n",
       "</tbody>\n",
       "</table>\n"
      ],
      "text/latex": [
       "A data.frame: 6 × 3\n",
       "\\begin{tabular}{r|lll}\n",
       "  & country & year & gdp\\_pc\\\\\n",
       "  & <chr> & <dbl> & <dbl>\\\\\n",
       "\\hline\n",
       "\t1 & USA   & 1994 & 12409\\\\\n",
       "\t2 & China & 1994 & 15023\\\\\n",
       "\t3 & Sudan & 1994 &  8515\\\\\n",
       "\t4 & USA   & 1995 & 17710\\\\\n",
       "\t5 & China & 1995 &  8364\\\\\n",
       "\t6 & Sudan & 1995 &  2130\\\\\n",
       "\\end{tabular}\n"
      ],
      "text/markdown": [
       "\n",
       "A data.frame: 6 × 3\n",
       "\n",
       "| <!--/--> | country &lt;chr&gt; | year &lt;dbl&gt; | gdp_pc &lt;dbl&gt; |\n",
       "|---|---|---|---|\n",
       "| 1 | USA   | 1994 | 12409 |\n",
       "| 2 | China | 1994 | 15023 |\n",
       "| 3 | Sudan | 1994 |  8515 |\n",
       "| 4 | USA   | 1995 | 17710 |\n",
       "| 5 | China | 1995 |  8364 |\n",
       "| 6 | Sudan | 1995 |  2130 |\n",
       "\n"
      ],
      "text/plain": [
       "  country year gdp_pc\n",
       "1 USA     1994 12409 \n",
       "2 China   1994 15023 \n",
       "3 Sudan   1994  8515 \n",
       "4 USA     1995 17710 \n",
       "5 China   1995  8364 \n",
       "6 Sudan   1995  2130 "
      ]
     },
     "metadata": {},
     "output_type": "display_data"
    }
   ],
   "source": [
    "head(countries)"
   ]
  },
  {
   "cell_type": "code",
   "execution_count": 9,
   "id": "e126ffe1",
   "metadata": {},
   "outputs": [
    {
     "data": {
      "text/html": [
       "<table class=\"dataframe\">\n",
       "<caption>A data.frame: 6 × 3</caption>\n",
       "<thead>\n",
       "\t<tr><th></th><th scope=col>country</th><th scope=col>year</th><th scope=col>gdp_pc</th></tr>\n",
       "\t<tr><th></th><th scope=col>&lt;chr&gt;</th><th scope=col>&lt;dbl&gt;</th><th scope=col>&lt;dbl&gt;</th></tr>\n",
       "</thead>\n",
       "<tbody>\n",
       "\t<tr><th scope=row>4</th><td>USA  </td><td>1995</td><td>17710</td></tr>\n",
       "\t<tr><th scope=row>5</th><td>China</td><td>1995</td><td> 8364</td></tr>\n",
       "\t<tr><th scope=row>6</th><td>Sudan</td><td>1995</td><td> 2130</td></tr>\n",
       "\t<tr><th scope=row>7</th><td>USA  </td><td>1996</td><td> 9730</td></tr>\n",
       "\t<tr><th scope=row>8</th><td>China</td><td>1996</td><td>18022</td></tr>\n",
       "\t<tr><th scope=row>9</th><td>Sudan</td><td>1996</td><td>18039</td></tr>\n",
       "</tbody>\n",
       "</table>\n"
      ],
      "text/latex": [
       "A data.frame: 6 × 3\n",
       "\\begin{tabular}{r|lll}\n",
       "  & country & year & gdp\\_pc\\\\\n",
       "  & <chr> & <dbl> & <dbl>\\\\\n",
       "\\hline\n",
       "\t4 & USA   & 1995 & 17710\\\\\n",
       "\t5 & China & 1995 &  8364\\\\\n",
       "\t6 & Sudan & 1995 &  2130\\\\\n",
       "\t7 & USA   & 1996 &  9730\\\\\n",
       "\t8 & China & 1996 & 18022\\\\\n",
       "\t9 & Sudan & 1996 & 18039\\\\\n",
       "\\end{tabular}\n"
      ],
      "text/markdown": [
       "\n",
       "A data.frame: 6 × 3\n",
       "\n",
       "| <!--/--> | country &lt;chr&gt; | year &lt;dbl&gt; | gdp_pc &lt;dbl&gt; |\n",
       "|---|---|---|---|\n",
       "| 4 | USA   | 1995 | 17710 |\n",
       "| 5 | China | 1995 |  8364 |\n",
       "| 6 | Sudan | 1995 |  2130 |\n",
       "| 7 | USA   | 1996 |  9730 |\n",
       "| 8 | China | 1996 | 18022 |\n",
       "| 9 | Sudan | 1996 | 18039 |\n",
       "\n"
      ],
      "text/plain": [
       "  country year gdp_pc\n",
       "4 USA     1995 17710 \n",
       "5 China   1995  8364 \n",
       "6 Sudan   1995  2130 \n",
       "7 USA     1996  9730 \n",
       "8 China   1996 18022 \n",
       "9 Sudan   1996 18039 "
      ]
     },
     "metadata": {},
     "output_type": "display_data"
    }
   ],
   "source": [
    "tail(countries)"
   ]
  },
  {
   "cell_type": "markdown",
   "id": "ab27840f",
   "metadata": {},
   "source": [
    "Finally, `summary()` is a great tool for getting a quick sense of the variables in the data:"
   ]
  },
  {
   "cell_type": "code",
   "execution_count": 10,
   "id": "e8d5bb7c",
   "metadata": {},
   "outputs": [
    {
     "data": {
      "text/plain": [
       "   country               year          gdp_pc     \n",
       " Length:9           Min.   :1994   Min.   : 2130  \n",
       " Class :character   1st Qu.:1994   1st Qu.: 8515  \n",
       " Mode  :character   Median :1995   Median :12409  \n",
       "                    Mean   :1995   Mean   :12216  \n",
       "                    3rd Qu.:1996   3rd Qu.:17710  \n",
       "                    Max.   :1996   Max.   :18039  "
      ]
     },
     "metadata": {},
     "output_type": "display_data"
    }
   ],
   "source": [
    "# Get some summary information about each variable\n",
    "summary(countries)"
   ]
  },
  {
   "cell_type": "markdown",
   "id": "10b25068",
   "metadata": {},
   "source": [
    "## Reading Data from Files\n",
    "\n",
    "Yup, it's finally time for REAL DATA! HOORAY!\n",
    "\n",
    "Well it's often useful to construct a dataframe manually from vectors for illustrative purposes, in reality the dataframes that you work with will almost always be coming from a file that somebody has provided you (an Excel spreadsheet, a csv spreadsheet, a Stata data set, etc.). To read these kinds of files, you need to:\n",
    "\n",
    "1. Tell R where to find the file you want to read by setting your working directory.\n",
    "2. Execute a command that will read the file from the specified location."
   ]
  },
  {
   "cell_type": "markdown",
   "id": "7e569d6a",
   "metadata": {},
   "source": [
    "### Working Directory\n",
    "\n",
    "The first step to loading a file is to understand the concept of a *working directory*.\n",
    "\n",
    "The working directory is the location on your file system that R thinks of as being \"open\" in your current session of R. The working directory specifies where R will do things like save or look for files by default. For example, if you're working directly is currently set to your desktop and you save a file using a command like `write.csv(\"my_data.csv\")`, the file `my_data.csv` will be saved to your desktop. Similarly, if you try to open a file with a command like `read.csv(\"my_data.csv\")`, R will look for a file called \"my_data.csv\" on your desktop and try to load it, and if it can't find that file on your desktop, it will say that it was unable to find the file you asked for.\n",
    "\n",
    "You can see the current working directory of your R session with the command `getwd()`. On my system (macOS), the output will look something like this:"
   ]
  },
  {
   "cell_type": "code",
   "execution_count": 11,
   "id": "8a6ef7c3",
   "metadata": {},
   "outputs": [
    {
     "data": {
      "text/html": [
       "'/Users/nce8/github/ds4humans/20_programming'"
      ],
      "text/latex": [
       "'/Users/nce8/github/ds4humans/20\\_programming'"
      ],
      "text/markdown": [
       "'/Users/nce8/github/ds4humans/20_programming'"
      ],
      "text/plain": [
       "[1] \"/Users/nce8/github/ds4humans/20_programming\""
      ]
     },
     "metadata": {},
     "output_type": "display_data"
    }
   ],
   "source": [
    "getwd()"
   ]
  },
  {
   "cell_type": "markdown",
   "id": "b8777e81",
   "metadata": {},
   "source": [
    "What that is saying is that my current working directory is the folder `source` in the folder `computational_methods_boot_camp` in the folder `github` located in my user directory. The exact result you see will vary depending on how you opened R on your own computer, and if you're working on a Windows computer you can expect that your working directory will start `C:/` instead of a simple `/`.\n",
    "\n",
    "To change your working directory, you can use the command `setwd(\"[new working directory]\")`. For example, if I wanted to move my working directory to my desktop, I'd type:"
   ]
  },
  {
   "cell_type": "code",
   "execution_count": 12,
   "id": "ffc361c8",
   "metadata": {},
   "outputs": [
    {
     "ename": "ERROR",
     "evalue": "Error in setwd(\"/users/nick/downloads\"): cannot change working directory\n",
     "output_type": "error",
     "traceback": [
      "Error in setwd(\"/users/nick/downloads\"): cannot change working directory\nTraceback:\n",
      "1. setwd(\"/users/nick/downloads\")"
     ]
    }
   ],
   "source": [
    "setwd(\"/users/nick/downloads\")"
   ]
  },
  {
   "cell_type": "markdown",
   "id": "db3b1afb",
   "metadata": {},
   "source": [
    "And if you want to see what's in your working directory (as a sanity check to ensure you're in the right place), run `dir()`:"
   ]
  },
  {
   "cell_type": "code",
   "execution_count": 13,
   "id": "ac43b048",
   "metadata": {},
   "outputs": [
    {
     "data": {
      "text/html": [
       "<style>\n",
       ".list-inline {list-style: none; margin:0; padding: 0}\n",
       ".list-inline>li {display: inline-block}\n",
       ".list-inline>li:not(:last-child)::after {content: \"\\00b7\"; padding: 0 .5ex}\n",
       "</style>\n",
       "<ol class=list-inline><li>'Datasaurus.tsv'</li><li>'Frank_All_v97.csv'</li><li>'RatesDeaths_AllIndicators.xlsx'</li><li>'State_FIPS.csv'</li><li>'anes-1948-2012.zip'</li><li>'democracy.csv'</li><li>'gdp.csv'</li><li>'nyc-311-sample'</li><li>'nyc-311-sample.zip'</li><li>'region.csv'</li><li>'states.csv'</li><li>'states_codebook.csv'</li><li>'trump_tweets.json'</li><li>'unicef-all.csv'</li><li>'unicef-u5mr.csv'</li><li>'world-small.csv'</li></ol>\n"
      ],
      "text/latex": [
       "\\begin{enumerate*}\n",
       "\\item 'Datasaurus.tsv'\n",
       "\\item 'Frank\\_All\\_v97.csv'\n",
       "\\item 'RatesDeaths\\_AllIndicators.xlsx'\n",
       "\\item 'State\\_FIPS.csv'\n",
       "\\item 'anes-1948-2012.zip'\n",
       "\\item 'democracy.csv'\n",
       "\\item 'gdp.csv'\n",
       "\\item 'nyc-311-sample'\n",
       "\\item 'nyc-311-sample.zip'\n",
       "\\item 'region.csv'\n",
       "\\item 'states.csv'\n",
       "\\item 'states\\_codebook.csv'\n",
       "\\item 'trump\\_tweets.json'\n",
       "\\item 'unicef-all.csv'\n",
       "\\item 'unicef-u5mr.csv'\n",
       "\\item 'world-small.csv'\n",
       "\\end{enumerate*}\n"
      ],
      "text/markdown": [
       "1. 'Datasaurus.tsv'\n",
       "2. 'Frank_All_v97.csv'\n",
       "3. 'RatesDeaths_AllIndicators.xlsx'\n",
       "4. 'State_FIPS.csv'\n",
       "5. 'anes-1948-2012.zip'\n",
       "6. 'democracy.csv'\n",
       "7. 'gdp.csv'\n",
       "8. 'nyc-311-sample'\n",
       "9. 'nyc-311-sample.zip'\n",
       "10. 'region.csv'\n",
       "11. 'states.csv'\n",
       "12. 'states_codebook.csv'\n",
       "13. 'trump_tweets.json'\n",
       "14. 'unicef-all.csv'\n",
       "15. 'unicef-u5mr.csv'\n",
       "16. 'world-small.csv'\n",
       "\n",
       "\n"
      ],
      "text/plain": [
       " [1] \"Datasaurus.tsv\"                 \"Frank_All_v97.csv\"             \n",
       " [3] \"RatesDeaths_AllIndicators.xlsx\" \"State_FIPS.csv\"                \n",
       " [5] \"anes-1948-2012.zip\"             \"democracy.csv\"                 \n",
       " [7] \"gdp.csv\"                        \"nyc-311-sample\"                \n",
       " [9] \"nyc-311-sample.zip\"             \"region.csv\"                    \n",
       "[11] \"states.csv\"                     \"states_codebook.csv\"           \n",
       "[13] \"trump_tweets.json\"              \"unicef-all.csv\"                \n",
       "[15] \"unicef-u5mr.csv\"                \"world-small.csv\"               "
      ]
     },
     "metadata": {},
     "output_type": "display_data"
    }
   ],
   "source": [
    "setwd(\"/Users/Nick/github/computational_methods_boot_camp/source/data\")\n",
    "dir()"
   ]
  },
  {
   "cell_type": "markdown",
   "id": "a3cb898f",
   "metadata": {},
   "source": [
    "**NOTE: Setting Working Directory in RStudio**\n",
    "\n",
    "There are a few different ways to specify file paths, and they can get a little tricky. In the long run learning how file paths work is an important skill, but for the moment, if you are ever unable to set your working directory to the folder you want, in RStudio you can set the working directory by going to the `Session` menu, going to `Set Working Directory`, and `Choose Directory...`. \n",
    "\n",
    "Once you pick a folder, you will see RStudio insert the correct path into the `setwd()` function in your console, changing your working directory *and* showing you what the filepath actually is. \n",
    "\n",
    "(Note that on macOS, RStudio will often insert a path that starts with `~/`. That's just a shorthand on macs for the current user's user directory, and is the same as typing out `/users/[your user name]/`).\n",
    "\n",
    "If you want to learn more about file paths, you can read about them here."
   ]
  },
  {
   "cell_type": "markdown",
   "id": "5e2e0dec",
   "metadata": {},
   "source": [
    "### Reading the File \n",
    "\n",
    "Now that we've told R where to look for our file, it's time to read it in. \n",
    "\n",
    "Datasets come in many formats, usually identified by their file suffix. A file ending in `.csv`, for example (e.g. `file.csv`) is a kind of spreadsheet with data stored as comma-separated values. A file ending in `.dta` (e.g. `file.dta`) is a dataset created by the program Stata, and so on. Thankfully, R can read almost any standard data format you may get. \n",
    "\n",
    "To illustrate, here are a handful of commands for reading different types of files. Don't try to memorize these! I'm only providing you with this list so that you understand that these commands exist so that if you ever need them in the future it will occur to you to google them. "
   ]
  },
  {
   "cell_type": "markdown",
   "id": "617182e0",
   "metadata": {},
   "source": [
    "**Note:** The ability to load some formats requires third party packages.\n",
    "\n",
    "The ability to load some data formats requires installing third party packages. You can install a third party package onto your computer using the command `install.packages()` (e.g. `install.packages(\"foreign\")`), after which you load it into any R session where you want to use the package with the `library()` command (e.g. `library(foreign)`). Note the use of quotes around the package name in `install.packages()`, but not `library()`. Not sure why..."
   ]
  },
  {
   "cell_type": "markdown",
   "id": "d8e2aae9",
   "metadata": {},
   "source": [
    "```r\n",
    "# Available by default\n",
    "df <- read.csv(\"file.csv\")           # Comma separated values\n",
    "df <- read.csv(\"file.txt\", sep=\"\\t\") # tab separated values\n",
    "\n",
    "# Using the `foreign` library\n",
    "library(foreign) #load foreign\n",
    "df <- read.dta(\"file.dta\")   # Stata data\n",
    "df <- read.spss(\"file.spss\") # SPSS data\n",
    "\n",
    "# Using the `readxl` library\n",
    "library(readxl)\n",
    "df <- read_excel(\"file.xls\")  # Excel xls spreadsheet\n",
    "df <- read_excel(\"file.xlsx\") # Excel xlsx spreadsheet\n",
    "```\n",
    "\n",
    "For the exercises we'll be doing next, we'll work with the `world-small.csv` dataset, which you can download [here](https://github.com/nickeubank/computational_methods_boot_camp/blob/main/source/data/world-small.csv) by clicking the `raw` button, then right-clicking, selecting \"Save As...\", and saving the file as `world-small.csv`.).\n",
    "\n",
    "As noted, different commands are used to read different types of files. This is the syntax used for reading a .csv file:"
   ]
  },
  {
   "cell_type": "code",
   "execution_count": 14,
   "id": "b0394f63",
   "metadata": {
    "tags": [
     "remove_input"
    ]
   },
   "outputs": [],
   "source": [
    "# Set working directory to this file's directory \n",
    "# (this will be different for you!)\n",
    "setwd(\"/Users/Nick/github/computational_methods_boot_camp/source/data\")\n",
    "\n",
    "# Read in the data and assign to a variable.\n",
    "world <- read.csv(\"world-small.csv\")"
   ]
  },
  {
   "cell_type": "markdown",
   "id": "3f0c001f",
   "metadata": {},
   "source": [
    "As we can see, the return value from `read.csv` is a `data.frame`!"
   ]
  },
  {
   "cell_type": "code",
   "execution_count": 15,
   "id": "76e73cad",
   "metadata": {},
   "outputs": [
    {
     "data": {
      "text/html": [
       "'data.frame'"
      ],
      "text/latex": [
       "'data.frame'"
      ],
      "text/markdown": [
       "'data.frame'"
      ],
      "text/plain": [
       "[1] \"data.frame\""
      ]
     },
     "metadata": {},
     "output_type": "display_data"
    }
   ],
   "source": [
    "class(world)"
   ]
  },
  {
   "cell_type": "markdown",
   "id": "4ecf3cc7",
   "metadata": {},
   "source": [
    "Using some of the tools we saw above, let's take a quick look at our dataset!"
   ]
  },
  {
   "cell_type": "code",
   "execution_count": 16,
   "id": "103bb950",
   "metadata": {},
   "outputs": [
    {
     "data": {
      "text/html": [
       "145"
      ],
      "text/latex": [
       "145"
      ],
      "text/markdown": [
       "145"
      ],
      "text/plain": [
       "[1] 145"
      ]
     },
     "metadata": {},
     "output_type": "display_data"
    }
   ],
   "source": [
    "# Number of observations:\n",
    "nrow(world)"
   ]
  },
  {
   "cell_type": "code",
   "execution_count": 17,
   "id": "6ff5ab71",
   "metadata": {},
   "outputs": [
    {
     "data": {
      "text/html": [
       "4"
      ],
      "text/latex": [
       "4"
      ],
      "text/markdown": [
       "4"
      ],
      "text/plain": [
       "[1] 4"
      ]
     },
     "metadata": {},
     "output_type": "display_data"
    }
   ],
   "source": [
    "# Number of observations\n",
    "ncol(world)"
   ]
  },
  {
   "cell_type": "code",
   "execution_count": 18,
   "id": "f341c15a",
   "metadata": {},
   "outputs": [
    {
     "data": {
      "text/html": [
       "<table class=\"dataframe\">\n",
       "<caption>A data.frame: 6 × 4</caption>\n",
       "<thead>\n",
       "\t<tr><th></th><th scope=col>country</th><th scope=col>region</th><th scope=col>gdppcap08</th><th scope=col>polityIV</th></tr>\n",
       "\t<tr><th></th><th scope=col>&lt;chr&gt;</th><th scope=col>&lt;chr&gt;</th><th scope=col>&lt;int&gt;</th><th scope=col>&lt;dbl&gt;</th></tr>\n",
       "</thead>\n",
       "<tbody>\n",
       "\t<tr><th scope=row>1</th><td><span style=white-space:pre-wrap>Albania  </span></td><td><span style=white-space:pre-wrap>C&amp;E Europe  </span></td><td> 7715</td><td>17.8</td></tr>\n",
       "\t<tr><th scope=row>2</th><td>Algeria  </td><td>Africa      </td><td> 8033</td><td>10.0</td></tr>\n",
       "\t<tr><th scope=row>3</th><td>Angola   </td><td>Africa      </td><td> 5899</td><td> 8.0</td></tr>\n",
       "\t<tr><th scope=row>4</th><td>Argentina</td><td>S. America  </td><td>14333</td><td>18.0</td></tr>\n",
       "\t<tr><th scope=row>5</th><td><span style=white-space:pre-wrap>Armenia  </span></td><td><span style=white-space:pre-wrap>C&amp;E Europe  </span></td><td> 6070</td><td>15.0</td></tr>\n",
       "\t<tr><th scope=row>6</th><td>Australia</td><td>Asia-Pacific</td><td>35677</td><td>20.0</td></tr>\n",
       "</tbody>\n",
       "</table>\n"
      ],
      "text/latex": [
       "A data.frame: 6 × 4\n",
       "\\begin{tabular}{r|llll}\n",
       "  & country & region & gdppcap08 & polityIV\\\\\n",
       "  & <chr> & <chr> & <int> & <dbl>\\\\\n",
       "\\hline\n",
       "\t1 & Albania   & C\\&E Europe   &  7715 & 17.8\\\\\n",
       "\t2 & Algeria   & Africa       &  8033 & 10.0\\\\\n",
       "\t3 & Angola    & Africa       &  5899 &  8.0\\\\\n",
       "\t4 & Argentina & S. America   & 14333 & 18.0\\\\\n",
       "\t5 & Armenia   & C\\&E Europe   &  6070 & 15.0\\\\\n",
       "\t6 & Australia & Asia-Pacific & 35677 & 20.0\\\\\n",
       "\\end{tabular}\n"
      ],
      "text/markdown": [
       "\n",
       "A data.frame: 6 × 4\n",
       "\n",
       "| <!--/--> | country &lt;chr&gt; | region &lt;chr&gt; | gdppcap08 &lt;int&gt; | polityIV &lt;dbl&gt; |\n",
       "|---|---|---|---|---|\n",
       "| 1 | Albania   | C&amp;E Europe   |  7715 | 17.8 |\n",
       "| 2 | Algeria   | Africa       |  8033 | 10.0 |\n",
       "| 3 | Angola    | Africa       |  5899 |  8.0 |\n",
       "| 4 | Argentina | S. America   | 14333 | 18.0 |\n",
       "| 5 | Armenia   | C&amp;E Europe   |  6070 | 15.0 |\n",
       "| 6 | Australia | Asia-Pacific | 35677 | 20.0 |\n",
       "\n"
      ],
      "text/plain": [
       "  country   region       gdppcap08 polityIV\n",
       "1 Albania   C&E Europe    7715     17.8    \n",
       "2 Algeria   Africa        8033     10.0    \n",
       "3 Angola    Africa        5899      8.0    \n",
       "4 Argentina S. America   14333     18.0    \n",
       "5 Armenia   C&E Europe    6070     15.0    \n",
       "6 Australia Asia-Pacific 35677     20.0    "
      ]
     },
     "metadata": {},
     "output_type": "display_data"
    }
   ],
   "source": [
    "# Let's look at the first few rows\n",
    "head(world) "
   ]
  },
  {
   "cell_type": "code",
   "execution_count": 19,
   "id": "d132d169",
   "metadata": {},
   "outputs": [
    {
     "data": {
      "text/plain": [
       "   country             region            gdppcap08        polityIV     \n",
       " Length:145         Length:145         Min.   :  188   Min.   : 0.000  \n",
       " Class :character   Class :character   1st Qu.: 2153   1st Qu.: 7.667  \n",
       " Mode  :character   Mode  :character   Median : 7271   Median :16.000  \n",
       "                                       Mean   :13252   Mean   :13.408  \n",
       "                                       3rd Qu.:19330   3rd Qu.:19.000  \n",
       "                                       Max.   :85868   Max.   :20.000  "
      ]
     },
     "metadata": {},
     "output_type": "display_data"
    }
   ],
   "source": [
    "# And get a sense of the variables in the data\n",
    "summary(world) "
   ]
  },
  {
   "cell_type": "markdown",
   "id": "8f11b7ee",
   "metadata": {},
   "source": [
    "## Next Steps\n",
    "\n",
    "Now that we know how to create or load dataframes, now we can [turn to learning how we can work with them](manipulating_dataframes.ipynb)!"
   ]
  }
 ],
 "metadata": {
  "jupytext": {
   "cell_metadata_filter": "tags,eval,-all",
   "main_language": "R",
   "notebook_metadata_filter": "-all"
  },
  "kernelspec": {
   "display_name": "R",
   "language": "R",
   "name": "ir"
  },
  "language_info": {
   "codemirror_mode": "r",
   "file_extension": ".r",
   "mimetype": "text/x-r-source",
   "name": "R",
   "pygments_lexer": "r",
   "version": "4.2.3"
  }
 },
 "nbformat": 4,
 "nbformat_minor": 5
}