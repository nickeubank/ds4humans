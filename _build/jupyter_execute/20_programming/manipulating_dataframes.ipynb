{
 "cells": [
  {
   "cell_type": "markdown",
   "id": "53e103cd",
   "metadata": {},
   "source": [
    "# Manipulating Dataframes\n",
    "\n",
    "In our previous lessons, we learn how to create dataframes from vectors, and how to load them from files. In this lesson, we will learn how to work with our dataframe once we have it loaded up!\n",
    "\n",
    "Being able to quickly modify datasets -- often referred to as \"data wrangling\" -- is critical to being a social scientist. Indeed, most social scientists and data scientists spend a huge proportion of their time of their time cleaning and organizing their data. ([about 80 percent in surveys](https://www.forbes.com/sites/gilpress/2016/03/23/data-preparation-most-time-consuming-least-enjoyable-data-science-task-survey-says/?sh=44a70ffb6f63)). So this is probably one of the most important readings of the course!\n",
    "\n",
    "Be aware that there will be a **lot** of syntax in this reading. However, the goal of the reading is **not** to have you memorize all the syntax, but rather to understand the *logic* of how dataframes work. To help with that, I've provided a recap section at the end of the reading with examples of all the commands we cover in one place. \n",
    "\n",
    "So as you read, try and focus on the logic of how dataframes work, not the exact syntax. Syntax is something you can always look up later so long as you understand enough about the logic of what's going on to realize what you need to look up!"
   ]
  },
  {
   "cell_type": "markdown",
   "id": "f6831d26",
   "metadata": {},
   "source": [
    "To begin, let's start by recreating the dataframe we had in our last exercise as an example to work with:"
   ]
  },
  {
   "cell_type": "code",
   "execution_count": 1,
   "id": "54337f51",
   "metadata": {},
   "outputs": [
    {
     "data": {
      "text/html": [
       "<table class=\"dataframe\">\n",
       "<caption>A data.frame: 9 × 3</caption>\n",
       "<thead>\n",
       "\t<tr><th scope=col>country</th><th scope=col>year</th><th scope=col>gdp_pc</th></tr>\n",
       "\t<tr><th scope=col>&lt;chr&gt;</th><th scope=col>&lt;dbl&gt;</th><th scope=col>&lt;dbl&gt;</th></tr>\n",
       "</thead>\n",
       "<tbody>\n",
       "\t<tr><td>USA  </td><td>1994</td><td> 9690</td></tr>\n",
       "\t<tr><td>China</td><td>1994</td><td> 5416</td></tr>\n",
       "\t<tr><td>Sudan</td><td>1994</td><td> 4940</td></tr>\n",
       "\t<tr><td>USA  </td><td>1995</td><td> 6138</td></tr>\n",
       "\t<tr><td>China</td><td>1995</td><td> 9953</td></tr>\n",
       "\t<tr><td>Sudan</td><td>1995</td><td> 8880</td></tr>\n",
       "\t<tr><td>USA  </td><td>1996</td><td> 1202</td></tr>\n",
       "\t<tr><td>China</td><td>1996</td><td>12429</td></tr>\n",
       "\t<tr><td>Sudan</td><td>1996</td><td>11158</td></tr>\n",
       "</tbody>\n",
       "</table>\n"
      ],
      "text/latex": [
       "A data.frame: 9 × 3\n",
       "\\begin{tabular}{lll}\n",
       " country & year & gdp\\_pc\\\\\n",
       " <chr> & <dbl> & <dbl>\\\\\n",
       "\\hline\n",
       "\t USA   & 1994 &  9690\\\\\n",
       "\t China & 1994 &  5416\\\\\n",
       "\t Sudan & 1994 &  4940\\\\\n",
       "\t USA   & 1995 &  6138\\\\\n",
       "\t China & 1995 &  9953\\\\\n",
       "\t Sudan & 1995 &  8880\\\\\n",
       "\t USA   & 1996 &  1202\\\\\n",
       "\t China & 1996 & 12429\\\\\n",
       "\t Sudan & 1996 & 11158\\\\\n",
       "\\end{tabular}\n"
      ],
      "text/markdown": [
       "\n",
       "A data.frame: 9 × 3\n",
       "\n",
       "| country &lt;chr&gt; | year &lt;dbl&gt; | gdp_pc &lt;dbl&gt; |\n",
       "|---|---|---|\n",
       "| USA   | 1994 |  9690 |\n",
       "| China | 1994 |  5416 |\n",
       "| Sudan | 1994 |  4940 |\n",
       "| USA   | 1995 |  6138 |\n",
       "| China | 1995 |  9953 |\n",
       "| Sudan | 1995 |  8880 |\n",
       "| USA   | 1996 |  1202 |\n",
       "| China | 1996 | 12429 |\n",
       "| Sudan | 1996 | 11158 |\n",
       "\n"
      ],
      "text/plain": [
       "  country year gdp_pc\n",
       "1 USA     1994  9690 \n",
       "2 China   1994  5416 \n",
       "3 Sudan   1994  4940 \n",
       "4 USA     1995  6138 \n",
       "5 China   1995  9953 \n",
       "6 Sudan   1995  8880 \n",
       "7 USA     1996  1202 \n",
       "8 China   1996 12429 \n",
       "9 Sudan   1996 11158 "
      ]
     },
     "metadata": {},
     "output_type": "display_data"
    }
   ],
   "source": [
    "country <- rep(c(\"USA\", \"China\", \"Sudan\"), 3)\n",
    "year <- c(1994, 1994, 1994, 1995, 1995, 1995, 1996, 1996, 1996)\n",
    "gdp_pc <- round(runif(9, 1000, 20000))\n",
    "\n",
    "countries <- data.frame(country, year, gdp_pc)\n",
    "countries"
   ]
  },
  {
   "cell_type": "markdown",
   "id": "ccefe056",
   "metadata": {},
   "source": [
    "## Dataframes Are Like Matrices-Plus\n",
    "\n",
    "Dataframes, like matrices, are just two dimensional grids of data. And so everything we learned about matrices also applies to dataframes (hooray!).\n",
    "\n",
    "For example, if we want to get the GDP of China in 1994 from our dataframe, we can subset our dataframe using square brackets and logical / name vectors, just like named matrices:"
   ]
  },
  {
   "cell_type": "code",
   "execution_count": 2,
   "id": "707611dc",
   "metadata": {
    "lines_to_next_cell": 0
   },
   "outputs": [
    {
     "data": {
      "text/html": [
       "<style>\n",
       ".list-inline {list-style: none; margin:0; padding: 0}\n",
       ".list-inline>li {display: inline-block}\n",
       ".list-inline>li:not(:last-child)::after {content: \"\\00b7\"; padding: 0 .5ex}\n",
       "</style>\n",
       "<ol class=list-inline><li>1994</li><li>1994</li><li>1994</li><li>1995</li><li>1995</li><li>1995</li><li>1996</li></ol>\n"
      ],
      "text/latex": [
       "\\begin{enumerate*}\n",
       "\\item 1994\n",
       "\\item 1994\n",
       "\\item 1994\n",
       "\\item 1995\n",
       "\\item 1995\n",
       "\\item 1995\n",
       "\\item 1996\n",
       "\\end{enumerate*}\n"
      ],
      "text/markdown": [
       "1. 1994\n",
       "2. 1994\n",
       "3. 1994\n",
       "4. 1995\n",
       "5. 1995\n",
       "6. 1995\n",
       "7. 1996\n",
       "\n",
       "\n"
      ],
      "text/plain": [
       "[1] 1994 1994 1994 1995 1995 1995 1996"
      ]
     },
     "metadata": {},
     "output_type": "display_data"
    }
   ],
   "source": [
    "countries[countries[, \"gdp_pc\"] < 10000, \"year\"]"
   ]
  },
  {
   "cell_type": "markdown",
   "id": "9b2f52a5",
   "metadata": {},
   "source": [
    "So remember that: if you could do it with a matrix, you can do it with a dataframe!\n",
    "\n",
    "As we'll see, though, dataframes *do* have few augmentations designed to make the life of the R users a little easier, and so can kinda be thought of as being like matrices+."
   ]
  },
  {
   "cell_type": "markdown",
   "id": "c5991af6",
   "metadata": {},
   "source": [
    "## Columns Operations\n",
    "\n",
    "Unlike matrices, which could have column names, dataframe columns **always** have names. As a result, we will basically always address columns using their names for reasons will discuss in more detail below.\n",
    "\n",
    "It is also convention that columns in most datasets correspond to variables, so you we'll often want to do things like take the average of a single column (e.g. the average of a single variable), or edit the values in a single column.\n",
    "\n",
    "In fact, accessing a single column is so common with dataframes that there are **two** exactly-identical ways to get a single column, and **one nearly** equivalent way. The equivalent ways are:"
   ]
  },
  {
   "cell_type": "code",
   "execution_count": 3,
   "id": "4af32adf",
   "metadata": {},
   "outputs": [
    {
     "data": {
      "text/html": [
       "<style>\n",
       ".list-inline {list-style: none; margin:0; padding: 0}\n",
       ".list-inline>li {display: inline-block}\n",
       ".list-inline>li:not(:last-child)::after {content: \"\\00b7\"; padding: 0 .5ex}\n",
       "</style>\n",
       "<ol class=list-inline><li>9690</li><li>5416</li><li>4940</li><li>6138</li><li>9953</li><li>8880</li><li>1202</li><li>12429</li><li>11158</li></ol>\n"
      ],
      "text/latex": [
       "\\begin{enumerate*}\n",
       "\\item 9690\n",
       "\\item 5416\n",
       "\\item 4940\n",
       "\\item 6138\n",
       "\\item 9953\n",
       "\\item 8880\n",
       "\\item 1202\n",
       "\\item 12429\n",
       "\\item 11158\n",
       "\\end{enumerate*}\n"
      ],
      "text/markdown": [
       "1. 9690\n",
       "2. 5416\n",
       "3. 4940\n",
       "4. 6138\n",
       "5. 9953\n",
       "6. 8880\n",
       "7. 1202\n",
       "8. 12429\n",
       "9. 11158\n",
       "\n",
       "\n"
      ],
      "text/plain": [
       "[1]  9690  5416  4940  6138  9953  8880  1202 12429 11158"
      ]
     },
     "metadata": {},
     "output_type": "display_data"
    }
   ],
   "source": [
    "# What we're used to from matrices\n",
    "countries[, \"gdp_pc\"]"
   ]
  },
  {
   "cell_type": "code",
   "execution_count": 4,
   "id": "effa5fe7",
   "metadata": {},
   "outputs": [
    {
     "data": {
      "text/html": [
       "<style>\n",
       ".list-inline {list-style: none; margin:0; padding: 0}\n",
       ".list-inline>li {display: inline-block}\n",
       ".list-inline>li:not(:last-child)::after {content: \"\\00b7\"; padding: 0 .5ex}\n",
       "</style>\n",
       "<ol class=list-inline><li>9690</li><li>5416</li><li>4940</li><li>6138</li><li>9953</li><li>8880</li><li>1202</li><li>12429</li><li>11158</li></ol>\n"
      ],
      "text/latex": [
       "\\begin{enumerate*}\n",
       "\\item 9690\n",
       "\\item 5416\n",
       "\\item 4940\n",
       "\\item 6138\n",
       "\\item 9953\n",
       "\\item 8880\n",
       "\\item 1202\n",
       "\\item 12429\n",
       "\\item 11158\n",
       "\\end{enumerate*}\n"
      ],
      "text/markdown": [
       "1. 9690\n",
       "2. 5416\n",
       "3. 4940\n",
       "4. 6138\n",
       "5. 9953\n",
       "6. 8880\n",
       "7. 1202\n",
       "8. 12429\n",
       "9. 11158\n",
       "\n",
       "\n"
      ],
      "text/plain": [
       "[1]  9690  5416  4940  6138  9953  8880  1202 12429 11158"
      ]
     },
     "metadata": {},
     "output_type": "display_data"
    }
   ],
   "source": [
    "# The shortcut for a single dataframe column\n",
    "countries$gdp_pc"
   ]
  },
  {
   "cell_type": "markdown",
   "id": "27b8171d",
   "metadata": {},
   "source": [
    "These are exactly equivalent for single columns! But note that you can't always use this trick -- for example, it doesn't work for trying to get several columns from a dataframe. Most of the time, though, it's a very convenient shorthand for single-column manipulations.\n",
    "\n",
    "And the *nearly* equivalent way is the following, which is slightly different from those above in that instead of returning a vector, it returns a dataframe with one column:"
   ]
  },
  {
   "cell_type": "code",
   "execution_count": 5,
   "id": "2b40d662",
   "metadata": {},
   "outputs": [
    {
     "data": {
      "text/html": [
       "<table class=\"dataframe\">\n",
       "<caption>A data.frame: 9 × 1</caption>\n",
       "<thead>\n",
       "\t<tr><th scope=col>gdp_pc</th></tr>\n",
       "\t<tr><th scope=col>&lt;dbl&gt;</th></tr>\n",
       "</thead>\n",
       "<tbody>\n",
       "\t<tr><td> 9690</td></tr>\n",
       "\t<tr><td> 5416</td></tr>\n",
       "\t<tr><td> 4940</td></tr>\n",
       "\t<tr><td> 6138</td></tr>\n",
       "\t<tr><td> 9953</td></tr>\n",
       "\t<tr><td> 8880</td></tr>\n",
       "\t<tr><td> 1202</td></tr>\n",
       "\t<tr><td>12429</td></tr>\n",
       "\t<tr><td>11158</td></tr>\n",
       "</tbody>\n",
       "</table>\n"
      ],
      "text/latex": [
       "A data.frame: 9 × 1\n",
       "\\begin{tabular}{l}\n",
       " gdp\\_pc\\\\\n",
       " <dbl>\\\\\n",
       "\\hline\n",
       "\t  9690\\\\\n",
       "\t  5416\\\\\n",
       "\t  4940\\\\\n",
       "\t  6138\\\\\n",
       "\t  9953\\\\\n",
       "\t  8880\\\\\n",
       "\t  1202\\\\\n",
       "\t 12429\\\\\n",
       "\t 11158\\\\\n",
       "\\end{tabular}\n"
      ],
      "text/markdown": [
       "\n",
       "A data.frame: 9 × 1\n",
       "\n",
       "| gdp_pc &lt;dbl&gt; |\n",
       "|---|\n",
       "|  9690 |\n",
       "|  5416 |\n",
       "|  4940 |\n",
       "|  6138 |\n",
       "|  9953 |\n",
       "|  8880 |\n",
       "|  1202 |\n",
       "| 12429 |\n",
       "| 11158 |\n",
       "\n"
      ],
      "text/plain": [
       "  gdp_pc\n",
       "1  9690 \n",
       "2  5416 \n",
       "3  4940 \n",
       "4  6138 \n",
       "5  9953 \n",
       "6  8880 \n",
       "7  1202 \n",
       "8 12429 \n",
       "9 11158 "
      ]
     },
     "metadata": {},
     "output_type": "display_data"
    }
   ],
   "source": [
    "# And if you don't have a comma, R assumes you're accessing columns\n",
    "countries[\"gdp_pc\"]"
   ]
  },
  {
   "cell_type": "markdown",
   "id": "2f4fbd10",
   "metadata": {},
   "source": [
    "### Modifying Columns\n",
    "\n",
    "As with matrices, we can use subsetting to make modifications to columns. For example, suppose, as with our matrix version, we wanted to multiple GDP per capita by 1.02 to adjust for inflation. We could either do:"
   ]
  },
  {
   "cell_type": "code",
   "execution_count": 6,
   "id": "ac82ecf3",
   "metadata": {},
   "outputs": [
    {
     "data": {
      "text/html": [
       "<table class=\"dataframe\">\n",
       "<caption>A data.frame: 9 × 3</caption>\n",
       "<thead>\n",
       "\t<tr><th scope=col>country</th><th scope=col>year</th><th scope=col>gdp_pc</th></tr>\n",
       "\t<tr><th scope=col>&lt;chr&gt;</th><th scope=col>&lt;dbl&gt;</th><th scope=col>&lt;dbl&gt;</th></tr>\n",
       "</thead>\n",
       "<tbody>\n",
       "\t<tr><td>USA  </td><td>1994</td><td> 9690</td></tr>\n",
       "\t<tr><td>China</td><td>1994</td><td> 5416</td></tr>\n",
       "\t<tr><td>Sudan</td><td>1994</td><td> 4940</td></tr>\n",
       "\t<tr><td>USA  </td><td>1995</td><td> 6138</td></tr>\n",
       "\t<tr><td>China</td><td>1995</td><td> 9953</td></tr>\n",
       "\t<tr><td>Sudan</td><td>1995</td><td> 8880</td></tr>\n",
       "\t<tr><td>USA  </td><td>1996</td><td> 1202</td></tr>\n",
       "\t<tr><td>China</td><td>1996</td><td>12429</td></tr>\n",
       "\t<tr><td>Sudan</td><td>1996</td><td>11158</td></tr>\n",
       "</tbody>\n",
       "</table>\n"
      ],
      "text/latex": [
       "A data.frame: 9 × 3\n",
       "\\begin{tabular}{lll}\n",
       " country & year & gdp\\_pc\\\\\n",
       " <chr> & <dbl> & <dbl>\\\\\n",
       "\\hline\n",
       "\t USA   & 1994 &  9690\\\\\n",
       "\t China & 1994 &  5416\\\\\n",
       "\t Sudan & 1994 &  4940\\\\\n",
       "\t USA   & 1995 &  6138\\\\\n",
       "\t China & 1995 &  9953\\\\\n",
       "\t Sudan & 1995 &  8880\\\\\n",
       "\t USA   & 1996 &  1202\\\\\n",
       "\t China & 1996 & 12429\\\\\n",
       "\t Sudan & 1996 & 11158\\\\\n",
       "\\end{tabular}\n"
      ],
      "text/markdown": [
       "\n",
       "A data.frame: 9 × 3\n",
       "\n",
       "| country &lt;chr&gt; | year &lt;dbl&gt; | gdp_pc &lt;dbl&gt; |\n",
       "|---|---|---|\n",
       "| USA   | 1994 |  9690 |\n",
       "| China | 1994 |  5416 |\n",
       "| Sudan | 1994 |  4940 |\n",
       "| USA   | 1995 |  6138 |\n",
       "| China | 1995 |  9953 |\n",
       "| Sudan | 1995 |  8880 |\n",
       "| USA   | 1996 |  1202 |\n",
       "| China | 1996 | 12429 |\n",
       "| Sudan | 1996 | 11158 |\n",
       "\n"
      ],
      "text/plain": [
       "  country year gdp_pc\n",
       "1 USA     1994  9690 \n",
       "2 China   1994  5416 \n",
       "3 Sudan   1994  4940 \n",
       "4 USA     1995  6138 \n",
       "5 China   1995  9953 \n",
       "6 Sudan   1995  8880 \n",
       "7 USA     1996  1202 \n",
       "8 China   1996 12429 \n",
       "9 Sudan   1996 11158 "
      ]
     },
     "metadata": {},
     "output_type": "display_data"
    }
   ],
   "source": [
    "# re-create with original gdp_pc \n",
    "countries <- data.frame(country, year, gdp_pc)\n",
    "countries"
   ]
  },
  {
   "cell_type": "code",
   "execution_count": 7,
   "id": "2ea2a0fd",
   "metadata": {},
   "outputs": [],
   "source": [
    "countries[, \"gdp_pc\"] <- countries[,\"gdp_pc\"] * 1.02"
   ]
  },
  {
   "cell_type": "markdown",
   "id": "a0f0d378",
   "metadata": {},
   "source": [
    "Or"
   ]
  },
  {
   "cell_type": "code",
   "execution_count": 8,
   "id": "10f134e6",
   "metadata": {},
   "outputs": [],
   "source": [
    "countries$gdp_pc <- countries$gdp_pc * 1.02"
   ]
  },
  {
   "cell_type": "markdown",
   "id": "0960a514",
   "metadata": {},
   "source": [
    "### Creating New Columns \n",
    "\n",
    "If we wanted to keep both the original `gdp_pc` column and add a *new* column with the inflation adjusted values, we can do so just by using a *new* column name when we assign our values back into the dataframe:"
   ]
  },
  {
   "cell_type": "code",
   "execution_count": 9,
   "id": "129e643c",
   "metadata": {},
   "outputs": [],
   "source": [
    "# re-create with original gdp_pc \n",
    "countries <- data.frame(country, year, gdp_pc)"
   ]
  },
  {
   "cell_type": "code",
   "execution_count": 10,
   "id": "b69ad618",
   "metadata": {},
   "outputs": [
    {
     "data": {
      "text/html": [
       "<table class=\"dataframe\">\n",
       "<caption>A data.frame: 9 × 4</caption>\n",
       "<thead>\n",
       "\t<tr><th scope=col>country</th><th scope=col>year</th><th scope=col>gdp_pc</th><th scope=col>adjusted_gdp_pc</th></tr>\n",
       "\t<tr><th scope=col>&lt;chr&gt;</th><th scope=col>&lt;dbl&gt;</th><th scope=col>&lt;dbl&gt;</th><th scope=col>&lt;dbl&gt;</th></tr>\n",
       "</thead>\n",
       "<tbody>\n",
       "\t<tr><td>USA  </td><td>1994</td><td> 9690</td><td> 9883.80</td></tr>\n",
       "\t<tr><td>China</td><td>1994</td><td> 5416</td><td> 5524.32</td></tr>\n",
       "\t<tr><td>Sudan</td><td>1994</td><td> 4940</td><td> 5038.80</td></tr>\n",
       "\t<tr><td>USA  </td><td>1995</td><td> 6138</td><td> 6260.76</td></tr>\n",
       "\t<tr><td>China</td><td>1995</td><td> 9953</td><td>10152.06</td></tr>\n",
       "\t<tr><td>Sudan</td><td>1995</td><td> 8880</td><td> 9057.60</td></tr>\n",
       "\t<tr><td>USA  </td><td>1996</td><td> 1202</td><td> 1226.04</td></tr>\n",
       "\t<tr><td>China</td><td>1996</td><td>12429</td><td>12677.58</td></tr>\n",
       "\t<tr><td>Sudan</td><td>1996</td><td>11158</td><td>11381.16</td></tr>\n",
       "</tbody>\n",
       "</table>\n"
      ],
      "text/latex": [
       "A data.frame: 9 × 4\n",
       "\\begin{tabular}{llll}\n",
       " country & year & gdp\\_pc & adjusted\\_gdp\\_pc\\\\\n",
       " <chr> & <dbl> & <dbl> & <dbl>\\\\\n",
       "\\hline\n",
       "\t USA   & 1994 &  9690 &  9883.80\\\\\n",
       "\t China & 1994 &  5416 &  5524.32\\\\\n",
       "\t Sudan & 1994 &  4940 &  5038.80\\\\\n",
       "\t USA   & 1995 &  6138 &  6260.76\\\\\n",
       "\t China & 1995 &  9953 & 10152.06\\\\\n",
       "\t Sudan & 1995 &  8880 &  9057.60\\\\\n",
       "\t USA   & 1996 &  1202 &  1226.04\\\\\n",
       "\t China & 1996 & 12429 & 12677.58\\\\\n",
       "\t Sudan & 1996 & 11158 & 11381.16\\\\\n",
       "\\end{tabular}\n"
      ],
      "text/markdown": [
       "\n",
       "A data.frame: 9 × 4\n",
       "\n",
       "| country &lt;chr&gt; | year &lt;dbl&gt; | gdp_pc &lt;dbl&gt; | adjusted_gdp_pc &lt;dbl&gt; |\n",
       "|---|---|---|---|\n",
       "| USA   | 1994 |  9690 |  9883.80 |\n",
       "| China | 1994 |  5416 |  5524.32 |\n",
       "| Sudan | 1994 |  4940 |  5038.80 |\n",
       "| USA   | 1995 |  6138 |  6260.76 |\n",
       "| China | 1995 |  9953 | 10152.06 |\n",
       "| Sudan | 1995 |  8880 |  9057.60 |\n",
       "| USA   | 1996 |  1202 |  1226.04 |\n",
       "| China | 1996 | 12429 | 12677.58 |\n",
       "| Sudan | 1996 | 11158 | 11381.16 |\n",
       "\n"
      ],
      "text/plain": [
       "  country year gdp_pc adjusted_gdp_pc\n",
       "1 USA     1994  9690   9883.80       \n",
       "2 China   1994  5416   5524.32       \n",
       "3 Sudan   1994  4940   5038.80       \n",
       "4 USA     1995  6138   6260.76       \n",
       "5 China   1995  9953  10152.06       \n",
       "6 Sudan   1995  8880   9057.60       \n",
       "7 USA     1996  1202   1226.04       \n",
       "8 China   1996 12429  12677.58       \n",
       "9 Sudan   1996 11158  11381.16       "
      ]
     },
     "metadata": {},
     "output_type": "display_data"
    }
   ],
   "source": [
    "# Add new column\n",
    "countries$adjusted_gdp_pc <- countries$gdp_pc * 1.02\n",
    "countries"
   ]
  },
  {
   "cell_type": "markdown",
   "id": "04c798f1",
   "metadata": {},
   "source": [
    "### Analyzing Columns \n",
    "\n",
    "Finally, as long as we're talking about columns, it's worth emphasizing that once you pull a column out of your dataframe, you can analyze it like any other vector (since it is just a vector!). For example: "
   ]
  },
  {
   "cell_type": "code",
   "execution_count": 11,
   "id": "98dd43fd",
   "metadata": {},
   "outputs": [
    {
     "data": {
      "text/html": [
       "7756.22222222222"
      ],
      "text/latex": [
       "7756.22222222222"
      ],
      "text/markdown": [
       "7756.22222222222"
      ],
      "text/plain": [
       "[1] 7756.222"
      ]
     },
     "metadata": {},
     "output_type": "display_data"
    }
   ],
   "source": [
    "mean(countries$gdp_pc)"
   ]
  },
  {
   "cell_type": "markdown",
   "id": "070dc4cc",
   "metadata": {},
   "source": [
    "But two summary functions are worth noting here: `table()`, to get the number of observations that have a given value in a vector, and the combination `prop.table(table())`, to get the share of observations with a given value in a vector:"
   ]
  },
  {
   "cell_type": "code",
   "execution_count": 12,
   "id": "b2fd3fae",
   "metadata": {},
   "outputs": [
    {
     "data": {
      "text/plain": [
       "\n",
       "China Sudan   USA \n",
       "    3     3     3 "
      ]
     },
     "metadata": {},
     "output_type": "display_data"
    }
   ],
   "source": [
    "# Number of observations by country \n",
    "table(countries$country)"
   ]
  },
  {
   "cell_type": "code",
   "execution_count": 13,
   "id": "2accc157",
   "metadata": {},
   "outputs": [
    {
     "data": {
      "text/plain": [
       "\n",
       "    China     Sudan       USA \n",
       "0.3333333 0.3333333 0.3333333 "
      ]
     },
     "metadata": {},
     "output_type": "display_data"
    }
   ],
   "source": [
    "# Proportion of observations by country \n",
    "prop.table(table(countries$country))"
   ]
  },
  {
   "cell_type": "markdown",
   "id": "cd79f262",
   "metadata": {},
   "source": [
    "### Dropping Columns\n",
    "\n",
    "Dropping columns can be done in a couple ways. The easiest is to just list the columns one wishes to keep:"
   ]
  },
  {
   "cell_type": "code",
   "execution_count": 14,
   "id": "28bad39d",
   "metadata": {},
   "outputs": [
    {
     "data": {
      "text/html": [
       "<table class=\"dataframe\">\n",
       "<caption>A data.frame: 9 × 2</caption>\n",
       "<thead>\n",
       "\t<tr><th scope=col>gdp_pc</th><th scope=col>year</th></tr>\n",
       "\t<tr><th scope=col>&lt;dbl&gt;</th><th scope=col>&lt;dbl&gt;</th></tr>\n",
       "</thead>\n",
       "<tbody>\n",
       "\t<tr><td> 9690</td><td>1994</td></tr>\n",
       "\t<tr><td> 5416</td><td>1994</td></tr>\n",
       "\t<tr><td> 4940</td><td>1994</td></tr>\n",
       "\t<tr><td> 6138</td><td>1995</td></tr>\n",
       "\t<tr><td> 9953</td><td>1995</td></tr>\n",
       "\t<tr><td> 8880</td><td>1995</td></tr>\n",
       "\t<tr><td> 1202</td><td>1996</td></tr>\n",
       "\t<tr><td>12429</td><td>1996</td></tr>\n",
       "\t<tr><td>11158</td><td>1996</td></tr>\n",
       "</tbody>\n",
       "</table>\n"
      ],
      "text/latex": [
       "A data.frame: 9 × 2\n",
       "\\begin{tabular}{ll}\n",
       " gdp\\_pc & year\\\\\n",
       " <dbl> & <dbl>\\\\\n",
       "\\hline\n",
       "\t  9690 & 1994\\\\\n",
       "\t  5416 & 1994\\\\\n",
       "\t  4940 & 1994\\\\\n",
       "\t  6138 & 1995\\\\\n",
       "\t  9953 & 1995\\\\\n",
       "\t  8880 & 1995\\\\\n",
       "\t  1202 & 1996\\\\\n",
       "\t 12429 & 1996\\\\\n",
       "\t 11158 & 1996\\\\\n",
       "\\end{tabular}\n"
      ],
      "text/markdown": [
       "\n",
       "A data.frame: 9 × 2\n",
       "\n",
       "| gdp_pc &lt;dbl&gt; | year &lt;dbl&gt; |\n",
       "|---|---|\n",
       "|  9690 | 1994 |\n",
       "|  5416 | 1994 |\n",
       "|  4940 | 1994 |\n",
       "|  6138 | 1995 |\n",
       "|  9953 | 1995 |\n",
       "|  8880 | 1995 |\n",
       "|  1202 | 1996 |\n",
       "| 12429 | 1996 |\n",
       "| 11158 | 1996 |\n",
       "\n"
      ],
      "text/plain": [
       "  gdp_pc year\n",
       "1  9690  1994\n",
       "2  5416  1994\n",
       "3  4940  1994\n",
       "4  6138  1995\n",
       "5  9953  1995\n",
       "6  8880  1995\n",
       "7  1202  1996\n",
       "8 12429  1996\n",
       "9 11158  1996"
      ]
     },
     "metadata": {},
     "output_type": "display_data"
    }
   ],
   "source": [
    "countries[, c(\"gdp_pc\", \"year\")]"
   ]
  },
  {
   "cell_type": "markdown",
   "id": "335d3d97",
   "metadata": {},
   "source": [
    "But in big dataframes, we sometimes have lots of columns, and don't want to list all the columns *except* the one we want to drop. For that there are two solutions. The first is like this:"
   ]
  },
  {
   "cell_type": "code",
   "execution_count": 15,
   "id": "a8e3d8f4",
   "metadata": {},
   "outputs": [
    {
     "data": {
      "text/html": [
       "<table class=\"dataframe\">\n",
       "<caption>A data.frame: 9 × 2</caption>\n",
       "<thead>\n",
       "\t<tr><th scope=col>country</th><th scope=col>adjusted_gdp_pc</th></tr>\n",
       "\t<tr><th scope=col>&lt;chr&gt;</th><th scope=col>&lt;dbl&gt;</th></tr>\n",
       "</thead>\n",
       "<tbody>\n",
       "\t<tr><td>USA  </td><td> 9883.80</td></tr>\n",
       "\t<tr><td>China</td><td> 5524.32</td></tr>\n",
       "\t<tr><td>Sudan</td><td> 5038.80</td></tr>\n",
       "\t<tr><td>USA  </td><td> 6260.76</td></tr>\n",
       "\t<tr><td>China</td><td>10152.06</td></tr>\n",
       "\t<tr><td>Sudan</td><td> 9057.60</td></tr>\n",
       "\t<tr><td>USA  </td><td> 1226.04</td></tr>\n",
       "\t<tr><td>China</td><td>12677.58</td></tr>\n",
       "\t<tr><td>Sudan</td><td>11381.16</td></tr>\n",
       "</tbody>\n",
       "</table>\n"
      ],
      "text/latex": [
       "A data.frame: 9 × 2\n",
       "\\begin{tabular}{ll}\n",
       " country & adjusted\\_gdp\\_pc\\\\\n",
       " <chr> & <dbl>\\\\\n",
       "\\hline\n",
       "\t USA   &  9883.80\\\\\n",
       "\t China &  5524.32\\\\\n",
       "\t Sudan &  5038.80\\\\\n",
       "\t USA   &  6260.76\\\\\n",
       "\t China & 10152.06\\\\\n",
       "\t Sudan &  9057.60\\\\\n",
       "\t USA   &  1226.04\\\\\n",
       "\t China & 12677.58\\\\\n",
       "\t Sudan & 11381.16\\\\\n",
       "\\end{tabular}\n"
      ],
      "text/markdown": [
       "\n",
       "A data.frame: 9 × 2\n",
       "\n",
       "| country &lt;chr&gt; | adjusted_gdp_pc &lt;dbl&gt; |\n",
       "|---|---|\n",
       "| USA   |  9883.80 |\n",
       "| China |  5524.32 |\n",
       "| Sudan |  5038.80 |\n",
       "| USA   |  6260.76 |\n",
       "| China | 10152.06 |\n",
       "| Sudan |  9057.60 |\n",
       "| USA   |  1226.04 |\n",
       "| China | 12677.58 |\n",
       "| Sudan | 11381.16 |\n",
       "\n"
      ],
      "text/plain": [
       "  country adjusted_gdp_pc\n",
       "1 USA      9883.80       \n",
       "2 China    5524.32       \n",
       "3 Sudan    5038.80       \n",
       "4 USA      6260.76       \n",
       "5 China   10152.06       \n",
       "6 Sudan    9057.60       \n",
       "7 USA      1226.04       \n",
       "8 China   12677.58       \n",
       "9 Sudan   11381.16       "
      ]
     },
     "metadata": {},
     "output_type": "display_data"
    }
   ],
   "source": [
    "# Drop columns gdp_pc and year\n",
    "countries[, !(names(countries) %in% c(\"gdp_pc\", \"year\"))]\n"
   ]
  },
  {
   "cell_type": "markdown",
   "id": "3997ba30",
   "metadata": {},
   "source": [
    "This is a little weird looking, so it's worth breaking down. \n",
    "\n",
    "First, `names(countries)` returns all the column names of `countries`. "
   ]
  },
  {
   "cell_type": "code",
   "execution_count": 16,
   "id": "7ec74b7f",
   "metadata": {},
   "outputs": [
    {
     "data": {
      "text/html": [
       "<style>\n",
       ".list-inline {list-style: none; margin:0; padding: 0}\n",
       ".list-inline>li {display: inline-block}\n",
       ".list-inline>li:not(:last-child)::after {content: \"\\00b7\"; padding: 0 .5ex}\n",
       "</style>\n",
       "<ol class=list-inline><li>'country'</li><li>'year'</li><li>'gdp_pc'</li><li>'adjusted_gdp_pc'</li></ol>\n"
      ],
      "text/latex": [
       "\\begin{enumerate*}\n",
       "\\item 'country'\n",
       "\\item 'year'\n",
       "\\item 'gdp\\_pc'\n",
       "\\item 'adjusted\\_gdp\\_pc'\n",
       "\\end{enumerate*}\n"
      ],
      "text/markdown": [
       "1. 'country'\n",
       "2. 'year'\n",
       "3. 'gdp_pc'\n",
       "4. 'adjusted_gdp_pc'\n",
       "\n",
       "\n"
      ],
      "text/plain": [
       "[1] \"country\"         \"year\"            \"gdp_pc\"          \"adjusted_gdp_pc\""
      ]
     },
     "metadata": {},
     "output_type": "display_data"
    }
   ],
   "source": [
    "names(countries)"
   ]
  },
  {
   "cell_type": "markdown",
   "id": "36ef050c",
   "metadata": {},
   "source": [
    "Then `names(countries) %in% c(\"gdp_pc\", \"year\")` returns a logical vector the length of the column names of `countries` that's `TRUE` if the name is in the list, and `FALSE` otherwise:"
   ]
  },
  {
   "cell_type": "code",
   "execution_count": 17,
   "id": "dacb1e6c",
   "metadata": {},
   "outputs": [
    {
     "data": {
      "text/html": [
       "<style>\n",
       ".list-inline {list-style: none; margin:0; padding: 0}\n",
       ".list-inline>li {display: inline-block}\n",
       ".list-inline>li:not(:last-child)::after {content: \"\\00b7\"; padding: 0 .5ex}\n",
       "</style>\n",
       "<ol class=list-inline><li>FALSE</li><li>TRUE</li><li>TRUE</li><li>FALSE</li></ol>\n"
      ],
      "text/latex": [
       "\\begin{enumerate*}\n",
       "\\item FALSE\n",
       "\\item TRUE\n",
       "\\item TRUE\n",
       "\\item FALSE\n",
       "\\end{enumerate*}\n"
      ],
      "text/markdown": [
       "1. FALSE\n",
       "2. TRUE\n",
       "3. TRUE\n",
       "4. FALSE\n",
       "\n",
       "\n"
      ],
      "text/plain": [
       "[1] FALSE  TRUE  TRUE FALSE"
      ]
     },
     "metadata": {},
     "output_type": "display_data"
    }
   ],
   "source": [
    "names(countries) %in% c(\"gdp_pc\", \"year\")"
   ]
  },
  {
   "cell_type": "markdown",
   "id": "86930ceb",
   "metadata": {},
   "source": [
    "Then finally the `!` before that expression is the logical `NOT`, meaning that it makes all `TRUE` values into `FALSE` and vice-versa. So in the end `!(names(countries) %in% c(\"gdp_pc\", \"year\"))` returns a logical vector that is `TRUE` for all values *not* in the list, and `FALSE` for those in the list. That is then interpreted as a logical subsetting vector, and all columns not in the list are kept, and those not in the list are dropped. \n",
    "\n",
    "I know, it's kinda a lot... but it is a good example of how you can compose simple building blocks to do complicated things in R!\n",
    "\n",
    "Finally, if you're dropping a single columns, you can also assign the value of `NULL` to the column:"
   ]
  },
  {
   "cell_type": "code",
   "execution_count": 18,
   "id": "13ff5ce0",
   "metadata": {},
   "outputs": [
    {
     "data": {
      "text/html": [
       "<table class=\"dataframe\">\n",
       "<caption>A data.frame: 9 × 3</caption>\n",
       "<thead>\n",
       "\t<tr><th scope=col>country</th><th scope=col>year</th><th scope=col>adjusted_gdp_pc</th></tr>\n",
       "\t<tr><th scope=col>&lt;chr&gt;</th><th scope=col>&lt;dbl&gt;</th><th scope=col>&lt;dbl&gt;</th></tr>\n",
       "</thead>\n",
       "<tbody>\n",
       "\t<tr><td>USA  </td><td>1994</td><td> 9883.80</td></tr>\n",
       "\t<tr><td>China</td><td>1994</td><td> 5524.32</td></tr>\n",
       "\t<tr><td>Sudan</td><td>1994</td><td> 5038.80</td></tr>\n",
       "\t<tr><td>USA  </td><td>1995</td><td> 6260.76</td></tr>\n",
       "\t<tr><td>China</td><td>1995</td><td>10152.06</td></tr>\n",
       "\t<tr><td>Sudan</td><td>1995</td><td> 9057.60</td></tr>\n",
       "\t<tr><td>USA  </td><td>1996</td><td> 1226.04</td></tr>\n",
       "\t<tr><td>China</td><td>1996</td><td>12677.58</td></tr>\n",
       "\t<tr><td>Sudan</td><td>1996</td><td>11381.16</td></tr>\n",
       "</tbody>\n",
       "</table>\n"
      ],
      "text/latex": [
       "A data.frame: 9 × 3\n",
       "\\begin{tabular}{lll}\n",
       " country & year & adjusted\\_gdp\\_pc\\\\\n",
       " <chr> & <dbl> & <dbl>\\\\\n",
       "\\hline\n",
       "\t USA   & 1994 &  9883.80\\\\\n",
       "\t China & 1994 &  5524.32\\\\\n",
       "\t Sudan & 1994 &  5038.80\\\\\n",
       "\t USA   & 1995 &  6260.76\\\\\n",
       "\t China & 1995 & 10152.06\\\\\n",
       "\t Sudan & 1995 &  9057.60\\\\\n",
       "\t USA   & 1996 &  1226.04\\\\\n",
       "\t China & 1996 & 12677.58\\\\\n",
       "\t Sudan & 1996 & 11381.16\\\\\n",
       "\\end{tabular}\n"
      ],
      "text/markdown": [
       "\n",
       "A data.frame: 9 × 3\n",
       "\n",
       "| country &lt;chr&gt; | year &lt;dbl&gt; | adjusted_gdp_pc &lt;dbl&gt; |\n",
       "|---|---|---|\n",
       "| USA   | 1994 |  9883.80 |\n",
       "| China | 1994 |  5524.32 |\n",
       "| Sudan | 1994 |  5038.80 |\n",
       "| USA   | 1995 |  6260.76 |\n",
       "| China | 1995 | 10152.06 |\n",
       "| Sudan | 1995 |  9057.60 |\n",
       "| USA   | 1996 |  1226.04 |\n",
       "| China | 1996 | 12677.58 |\n",
       "| Sudan | 1996 | 11381.16 |\n",
       "\n"
      ],
      "text/plain": [
       "  country year adjusted_gdp_pc\n",
       "1 USA     1994  9883.80       \n",
       "2 China   1994  5524.32       \n",
       "3 Sudan   1994  5038.80       \n",
       "4 USA     1995  6260.76       \n",
       "5 China   1995 10152.06       \n",
       "6 Sudan   1995  9057.60       \n",
       "7 USA     1996  1226.04       \n",
       "8 China   1996 12677.58       \n",
       "9 Sudan   1996 11381.16       "
      ]
     },
     "metadata": {},
     "output_type": "display_data"
    }
   ],
   "source": [
    "countries$gdp_pc <- NULL\n",
    "countries"
   ]
  },
  {
   "cell_type": "markdown",
   "id": "195a7d41",
   "metadata": {},
   "source": [
    "Which... well, just works! :)"
   ]
  },
  {
   "cell_type": "markdown",
   "id": "15214c81",
   "metadata": {},
   "source": [
    "## Row Operations\n",
    "\n",
    "In most datasets you work with, each row will correspond to a single observation in your data. Given that, we often manipulate rows as a way of manipulating the sample in our analyses. \n",
    "\n",
    "### Subsetting\n",
    "\n",
    "Subsetting with logicals is exactly the same with dataframes as it was with matrices, except that we can access column names with the `$` notation:"
   ]
  },
  {
   "cell_type": "code",
   "execution_count": 19,
   "id": "0822f8c8",
   "metadata": {
    "lines_to_next_cell": 0
   },
   "outputs": [
    {
     "data": {
      "text/html": [
       "<table class=\"dataframe\">\n",
       "<caption>A data.frame: 1 × 3</caption>\n",
       "<thead>\n",
       "\t<tr><th></th><th scope=col>country</th><th scope=col>year</th><th scope=col>adjusted_gdp_pc</th></tr>\n",
       "\t<tr><th></th><th scope=col>&lt;chr&gt;</th><th scope=col>&lt;dbl&gt;</th><th scope=col>&lt;dbl&gt;</th></tr>\n",
       "</thead>\n",
       "<tbody>\n",
       "\t<tr><th scope=row>4</th><td>USA</td><td>1995</td><td>6260.76</td></tr>\n",
       "</tbody>\n",
       "</table>\n"
      ],
      "text/latex": [
       "A data.frame: 1 × 3\n",
       "\\begin{tabular}{r|lll}\n",
       "  & country & year & adjusted\\_gdp\\_pc\\\\\n",
       "  & <chr> & <dbl> & <dbl>\\\\\n",
       "\\hline\n",
       "\t4 & USA & 1995 & 6260.76\\\\\n",
       "\\end{tabular}\n"
      ],
      "text/markdown": [
       "\n",
       "A data.frame: 1 × 3\n",
       "\n",
       "| <!--/--> | country &lt;chr&gt; | year &lt;dbl&gt; | adjusted_gdp_pc &lt;dbl&gt; |\n",
       "|---|---|---|---|\n",
       "| 4 | USA | 1995 | 6260.76 |\n",
       "\n"
      ],
      "text/plain": [
       "  country year adjusted_gdp_pc\n",
       "4 USA     1995 6260.76        "
      ]
     },
     "metadata": {},
     "output_type": "display_data"
    }
   ],
   "source": [
    "countries[countries$year == 1995 & countries$country == \"USA\", ]"
   ]
  },
  {
   "cell_type": "markdown",
   "id": "e7372978",
   "metadata": {},
   "source": [
    "### Sorting Dataframes\n",
    "\n",
    "Often, we'll want to sort the rows of our dataframe by the values in one of our columns. To do so, we use the `order` command:"
   ]
  },
  {
   "cell_type": "code",
   "execution_count": 20,
   "id": "7ee2c737",
   "metadata": {},
   "outputs": [
    {
     "data": {
      "text/html": [
       "<table class=\"dataframe\">\n",
       "<caption>A data.frame: 9 × 3</caption>\n",
       "<thead>\n",
       "\t<tr><th></th><th scope=col>country</th><th scope=col>year</th><th scope=col>adjusted_gdp_pc</th></tr>\n",
       "\t<tr><th></th><th scope=col>&lt;chr&gt;</th><th scope=col>&lt;dbl&gt;</th><th scope=col>&lt;dbl&gt;</th></tr>\n",
       "</thead>\n",
       "<tbody>\n",
       "\t<tr><th scope=row>7</th><td>USA  </td><td>1996</td><td> 1226.04</td></tr>\n",
       "\t<tr><th scope=row>3</th><td>Sudan</td><td>1994</td><td> 5038.80</td></tr>\n",
       "\t<tr><th scope=row>2</th><td>China</td><td>1994</td><td> 5524.32</td></tr>\n",
       "\t<tr><th scope=row>4</th><td>USA  </td><td>1995</td><td> 6260.76</td></tr>\n",
       "\t<tr><th scope=row>6</th><td>Sudan</td><td>1995</td><td> 9057.60</td></tr>\n",
       "\t<tr><th scope=row>1</th><td>USA  </td><td>1994</td><td> 9883.80</td></tr>\n",
       "\t<tr><th scope=row>5</th><td>China</td><td>1995</td><td>10152.06</td></tr>\n",
       "\t<tr><th scope=row>9</th><td>Sudan</td><td>1996</td><td>11381.16</td></tr>\n",
       "\t<tr><th scope=row>8</th><td>China</td><td>1996</td><td>12677.58</td></tr>\n",
       "</tbody>\n",
       "</table>\n"
      ],
      "text/latex": [
       "A data.frame: 9 × 3\n",
       "\\begin{tabular}{r|lll}\n",
       "  & country & year & adjusted\\_gdp\\_pc\\\\\n",
       "  & <chr> & <dbl> & <dbl>\\\\\n",
       "\\hline\n",
       "\t7 & USA   & 1996 &  1226.04\\\\\n",
       "\t3 & Sudan & 1994 &  5038.80\\\\\n",
       "\t2 & China & 1994 &  5524.32\\\\\n",
       "\t4 & USA   & 1995 &  6260.76\\\\\n",
       "\t6 & Sudan & 1995 &  9057.60\\\\\n",
       "\t1 & USA   & 1994 &  9883.80\\\\\n",
       "\t5 & China & 1995 & 10152.06\\\\\n",
       "\t9 & Sudan & 1996 & 11381.16\\\\\n",
       "\t8 & China & 1996 & 12677.58\\\\\n",
       "\\end{tabular}\n"
      ],
      "text/markdown": [
       "\n",
       "A data.frame: 9 × 3\n",
       "\n",
       "| <!--/--> | country &lt;chr&gt; | year &lt;dbl&gt; | adjusted_gdp_pc &lt;dbl&gt; |\n",
       "|---|---|---|---|\n",
       "| 7 | USA   | 1996 |  1226.04 |\n",
       "| 3 | Sudan | 1994 |  5038.80 |\n",
       "| 2 | China | 1994 |  5524.32 |\n",
       "| 4 | USA   | 1995 |  6260.76 |\n",
       "| 6 | Sudan | 1995 |  9057.60 |\n",
       "| 1 | USA   | 1994 |  9883.80 |\n",
       "| 5 | China | 1995 | 10152.06 |\n",
       "| 9 | Sudan | 1996 | 11381.16 |\n",
       "| 8 | China | 1996 | 12677.58 |\n",
       "\n"
      ],
      "text/plain": [
       "  country year adjusted_gdp_pc\n",
       "7 USA     1996  1226.04       \n",
       "3 Sudan   1994  5038.80       \n",
       "2 China   1994  5524.32       \n",
       "4 USA     1995  6260.76       \n",
       "6 Sudan   1995  9057.60       \n",
       "1 USA     1994  9883.80       \n",
       "5 China   1995 10152.06       \n",
       "9 Sudan   1996 11381.16       \n",
       "8 China   1996 12677.58       "
      ]
     },
     "metadata": {},
     "output_type": "display_data"
    }
   ],
   "source": [
    "# Sort by GDP\n",
    "countries[order(countries$adjusted_gdp_pc),]"
   ]
  },
  {
   "cell_type": "markdown",
   "id": "d82f9916",
   "metadata": {},
   "source": [
    "What's happening? `order()` returns a vector with the indices of the rows of the dataset in sorted order:"
   ]
  },
  {
   "cell_type": "code",
   "execution_count": 21,
   "id": "bac615b5",
   "metadata": {},
   "outputs": [
    {
     "data": {
      "text/html": [
       "<style>\n",
       ".list-inline {list-style: none; margin:0; padding: 0}\n",
       ".list-inline>li {display: inline-block}\n",
       ".list-inline>li:not(:last-child)::after {content: \"\\00b7\"; padding: 0 .5ex}\n",
       "</style>\n",
       "<ol class=list-inline><li>7</li><li>3</li><li>2</li><li>4</li><li>6</li><li>1</li><li>5</li><li>9</li><li>8</li></ol>\n"
      ],
      "text/latex": [
       "\\begin{enumerate*}\n",
       "\\item 7\n",
       "\\item 3\n",
       "\\item 2\n",
       "\\item 4\n",
       "\\item 6\n",
       "\\item 1\n",
       "\\item 5\n",
       "\\item 9\n",
       "\\item 8\n",
       "\\end{enumerate*}\n"
      ],
      "text/markdown": [
       "1. 7\n",
       "2. 3\n",
       "3. 2\n",
       "4. 4\n",
       "5. 6\n",
       "6. 1\n",
       "7. 5\n",
       "8. 9\n",
       "9. 8\n",
       "\n",
       "\n"
      ],
      "text/plain": [
       "[1] 7 3 2 4 6 1 5 9 8"
      ]
     },
     "metadata": {},
     "output_type": "display_data"
    }
   ],
   "source": [
    "order(countries$adjusted_gdp_pc)"
   ]
  },
  {
   "cell_type": "markdown",
   "id": "54cffc8b",
   "metadata": {},
   "source": [
    "And then, because it's a vector of indices being passed in the first position of our square brackets, we get all the rows of `countries` \"subset\" by index (though obviously it's not really a subset, since all row indices appear in the vector -- just a re-ordering)!"
   ]
  },
  {
   "cell_type": "markdown",
   "id": "e104d3a6",
   "metadata": {},
   "source": [
    "We can also sort by multiple columns:"
   ]
  },
  {
   "cell_type": "code",
   "execution_count": 22,
   "id": "ff9e00d7",
   "metadata": {},
   "outputs": [
    {
     "data": {
      "text/html": [
       "<table class=\"dataframe\">\n",
       "<caption>A data.frame: 9 × 3</caption>\n",
       "<thead>\n",
       "\t<tr><th></th><th scope=col>country</th><th scope=col>year</th><th scope=col>adjusted_gdp_pc</th></tr>\n",
       "\t<tr><th></th><th scope=col>&lt;chr&gt;</th><th scope=col>&lt;dbl&gt;</th><th scope=col>&lt;dbl&gt;</th></tr>\n",
       "</thead>\n",
       "<tbody>\n",
       "\t<tr><th scope=row>2</th><td>China</td><td>1994</td><td> 5524.32</td></tr>\n",
       "\t<tr><th scope=row>3</th><td>Sudan</td><td>1994</td><td> 5038.80</td></tr>\n",
       "\t<tr><th scope=row>1</th><td>USA  </td><td>1994</td><td> 9883.80</td></tr>\n",
       "\t<tr><th scope=row>5</th><td>China</td><td>1995</td><td>10152.06</td></tr>\n",
       "\t<tr><th scope=row>6</th><td>Sudan</td><td>1995</td><td> 9057.60</td></tr>\n",
       "\t<tr><th scope=row>4</th><td>USA  </td><td>1995</td><td> 6260.76</td></tr>\n",
       "\t<tr><th scope=row>8</th><td>China</td><td>1996</td><td>12677.58</td></tr>\n",
       "\t<tr><th scope=row>9</th><td>Sudan</td><td>1996</td><td>11381.16</td></tr>\n",
       "\t<tr><th scope=row>7</th><td>USA  </td><td>1996</td><td> 1226.04</td></tr>\n",
       "</tbody>\n",
       "</table>\n"
      ],
      "text/latex": [
       "A data.frame: 9 × 3\n",
       "\\begin{tabular}{r|lll}\n",
       "  & country & year & adjusted\\_gdp\\_pc\\\\\n",
       "  & <chr> & <dbl> & <dbl>\\\\\n",
       "\\hline\n",
       "\t2 & China & 1994 &  5524.32\\\\\n",
       "\t3 & Sudan & 1994 &  5038.80\\\\\n",
       "\t1 & USA   & 1994 &  9883.80\\\\\n",
       "\t5 & China & 1995 & 10152.06\\\\\n",
       "\t6 & Sudan & 1995 &  9057.60\\\\\n",
       "\t4 & USA   & 1995 &  6260.76\\\\\n",
       "\t8 & China & 1996 & 12677.58\\\\\n",
       "\t9 & Sudan & 1996 & 11381.16\\\\\n",
       "\t7 & USA   & 1996 &  1226.04\\\\\n",
       "\\end{tabular}\n"
      ],
      "text/markdown": [
       "\n",
       "A data.frame: 9 × 3\n",
       "\n",
       "| <!--/--> | country &lt;chr&gt; | year &lt;dbl&gt; | adjusted_gdp_pc &lt;dbl&gt; |\n",
       "|---|---|---|---|\n",
       "| 2 | China | 1994 |  5524.32 |\n",
       "| 3 | Sudan | 1994 |  5038.80 |\n",
       "| 1 | USA   | 1994 |  9883.80 |\n",
       "| 5 | China | 1995 | 10152.06 |\n",
       "| 6 | Sudan | 1995 |  9057.60 |\n",
       "| 4 | USA   | 1995 |  6260.76 |\n",
       "| 8 | China | 1996 | 12677.58 |\n",
       "| 9 | Sudan | 1996 | 11381.16 |\n",
       "| 7 | USA   | 1996 |  1226.04 |\n",
       "\n"
      ],
      "text/plain": [
       "  country year adjusted_gdp_pc\n",
       "2 China   1994  5524.32       \n",
       "3 Sudan   1994  5038.80       \n",
       "1 USA     1994  9883.80       \n",
       "5 China   1995 10152.06       \n",
       "6 Sudan   1995  9057.60       \n",
       "4 USA     1995  6260.76       \n",
       "8 China   1996 12677.58       \n",
       "9 Sudan   1996 11381.16       \n",
       "7 USA     1996  1226.04       "
      ]
     },
     "metadata": {},
     "output_type": "display_data"
    }
   ],
   "source": [
    "countries[order(countries$year, countries$country),]"
   ]
  },
  {
   "cell_type": "markdown",
   "id": "3e59b4a8",
   "metadata": {},
   "source": [
    "And we can use `-` to sort any variable in descending order rather than ascending order:"
   ]
  },
  {
   "cell_type": "code",
   "execution_count": 23,
   "id": "a3f9b3ef",
   "metadata": {},
   "outputs": [
    {
     "data": {
      "text/html": [
       "<table class=\"dataframe\">\n",
       "<caption>A data.frame: 9 × 3</caption>\n",
       "<thead>\n",
       "\t<tr><th></th><th scope=col>country</th><th scope=col>year</th><th scope=col>adjusted_gdp_pc</th></tr>\n",
       "\t<tr><th></th><th scope=col>&lt;chr&gt;</th><th scope=col>&lt;dbl&gt;</th><th scope=col>&lt;dbl&gt;</th></tr>\n",
       "</thead>\n",
       "<tbody>\n",
       "\t<tr><th scope=row>8</th><td>China</td><td>1996</td><td>12677.58</td></tr>\n",
       "\t<tr><th scope=row>9</th><td>Sudan</td><td>1996</td><td>11381.16</td></tr>\n",
       "\t<tr><th scope=row>5</th><td>China</td><td>1995</td><td>10152.06</td></tr>\n",
       "\t<tr><th scope=row>1</th><td>USA  </td><td>1994</td><td> 9883.80</td></tr>\n",
       "\t<tr><th scope=row>6</th><td>Sudan</td><td>1995</td><td> 9057.60</td></tr>\n",
       "\t<tr><th scope=row>4</th><td>USA  </td><td>1995</td><td> 6260.76</td></tr>\n",
       "\t<tr><th scope=row>2</th><td>China</td><td>1994</td><td> 5524.32</td></tr>\n",
       "\t<tr><th scope=row>3</th><td>Sudan</td><td>1994</td><td> 5038.80</td></tr>\n",
       "\t<tr><th scope=row>7</th><td>USA  </td><td>1996</td><td> 1226.04</td></tr>\n",
       "</tbody>\n",
       "</table>\n"
      ],
      "text/latex": [
       "A data.frame: 9 × 3\n",
       "\\begin{tabular}{r|lll}\n",
       "  & country & year & adjusted\\_gdp\\_pc\\\\\n",
       "  & <chr> & <dbl> & <dbl>\\\\\n",
       "\\hline\n",
       "\t8 & China & 1996 & 12677.58\\\\\n",
       "\t9 & Sudan & 1996 & 11381.16\\\\\n",
       "\t5 & China & 1995 & 10152.06\\\\\n",
       "\t1 & USA   & 1994 &  9883.80\\\\\n",
       "\t6 & Sudan & 1995 &  9057.60\\\\\n",
       "\t4 & USA   & 1995 &  6260.76\\\\\n",
       "\t2 & China & 1994 &  5524.32\\\\\n",
       "\t3 & Sudan & 1994 &  5038.80\\\\\n",
       "\t7 & USA   & 1996 &  1226.04\\\\\n",
       "\\end{tabular}\n"
      ],
      "text/markdown": [
       "\n",
       "A data.frame: 9 × 3\n",
       "\n",
       "| <!--/--> | country &lt;chr&gt; | year &lt;dbl&gt; | adjusted_gdp_pc &lt;dbl&gt; |\n",
       "|---|---|---|---|\n",
       "| 8 | China | 1996 | 12677.58 |\n",
       "| 9 | Sudan | 1996 | 11381.16 |\n",
       "| 5 | China | 1995 | 10152.06 |\n",
       "| 1 | USA   | 1994 |  9883.80 |\n",
       "| 6 | Sudan | 1995 |  9057.60 |\n",
       "| 4 | USA   | 1995 |  6260.76 |\n",
       "| 2 | China | 1994 |  5524.32 |\n",
       "| 3 | Sudan | 1994 |  5038.80 |\n",
       "| 7 | USA   | 1996 |  1226.04 |\n",
       "\n"
      ],
      "text/plain": [
       "  country year adjusted_gdp_pc\n",
       "8 China   1996 12677.58       \n",
       "9 Sudan   1996 11381.16       \n",
       "5 China   1995 10152.06       \n",
       "1 USA     1994  9883.80       \n",
       "6 Sudan   1995  9057.60       \n",
       "4 USA     1995  6260.76       \n",
       "2 China   1994  5524.32       \n",
       "3 Sudan   1994  5038.80       \n",
       "7 USA     1996  1226.04       "
      ]
     },
     "metadata": {},
     "output_type": "display_data"
    }
   ],
   "source": [
    "countries[order(-countries$adjusted_gdp_pc), ]"
   ]
  },
  {
   "cell_type": "markdown",
   "id": "8cc28c9f",
   "metadata": {},
   "source": [
    "## Avoiding Subsetting by Index\n",
    "\n",
    "As you've seen, we almost always access columns by name rather than by using their index numbers. That's because when working with real data, there's always a possibility that the order of columns gets jumbled up -- maybe you get an updated version of the data set you're working with that has the columns in different orders, or maybe in a large research project one of your collaborators has modified the order of columns in some of the code that runs before your code.\n",
    "\n",
    "In these situations, trying to extract a column using its index may give you the wrong answer, while pulling out a column by name will and sure you're always getting the variable that you intended!"
   ]
  },
  {
   "cell_type": "markdown",
   "id": "d64ce6bc",
   "metadata": {},
   "source": [
    "The same logic also applies to subsetting by rows. While subsetting by row index *works*, we generally avoid using indices for the same reason we avoid subsetting columns by index -- if the order or our data changes (say, it gets sorted unexpectedly), we can't predict how our index subsets will change! That's why in nearly all the examples above we subset with a logical vector. \n",
    "\n",
    "Obviously there are exceptions to this rule -- `order()` and `sample()` are both implicitly subsetting by index. But those functions generate the indices they use from the values of row immediately before they use them, so there is no opportunity for the order of row to change between when those indices are generated and when they are used."
   ]
  },
  {
   "cell_type": "markdown",
   "id": "bb5a854d",
   "metadata": {},
   "source": [
    "## Recap\n",
    "\n",
    "Phew. OK, I know this reading covered *a lot*, so here's a quick recap and a summary table for reference. \n",
    "\n",
    "- Dataframes really are just like matrices. The main difference is that each column can be a different type, and dataframes always have column names.\n",
    "- We subset single dataframe columns using `$`, but that's just a shorthand for the syntax we learned before (`df[, \"colname\"]`).\n",
    "- The columns of a dataframe are just vectors.\n",
    "- We usually subset dataframes with logicals (for rows) or by name (columns) for safety. \n",
    "\n",
    "And now a reference table, written with a toy dataset called `df` with columns `col1`, `col2`, and `col3` in mind: "
   ]
  },
  {
   "cell_type": "markdown",
   "id": "717762bb",
   "metadata": {},
   "source": [
    "**Looking at your dataframe:**\n",
    "\n",
    "- Number of rows: `nrow(df)`\n",
    "- Number of columns: `ncol(df)`\n",
    "- First six rows: `head(df)`\n",
    "- Last six rows: `tail(df)`\n",
    "- Quick summary of all data: `summary(df)`\n",
    "\n",
    "**Row Operations**\n",
    "\n",
    "- Subset rows by logical: `df[df$col1 < 42, ]` or `df[df[, col1] < 42, ]`\n",
    "- Random sample of N rows: `df[sample(nrow(df), N), ]`\n",
    "- Sort rows (ascending, one column): `df[order(df$col1), ]`\n",
    "- Sort rows (descending, one column): `df[order(-df$col1), ]`\n",
    "- Sort rows (multiple columns): `df[order(df$col1, df$col2), ]`\n",
    "\n",
    "**Column Operations**\n",
    "\n",
    "- Subset one column by name: `df$col1` or `df[, \"col1\"]`\n",
    "- Subset multiple columns by name: `df[ , c(\"col1\", \"col2\")]`\n",
    "- Drop one column: `df$col1 <- NULL`\n",
    "- Drop set of columns: `df[ , !(names(df) %in% c(\"col1\", \"col2\"))]`\n",
    "- Editing a single column: `df$col1 <- df$col1 * 42` or `df[, \"col1\"] <- df[, \"col1\"] * 42`\n",
    "- Create new column: `df$newcol <- df$col1 * 42` or `df[, \"newcol\"] <- df[, \"col1\"] * 42`\n",
    "\n",
    "**Learn About a Column:**\n",
    "\n",
    "- Tabulate number of observations of each value: `table(df$col1)`\n",
    "- Share of observations of each value: `prop.table(table(df$col1))`\n",
    "- Quick summary of one column: `summary(df$col1)`\n"
   ]
  },
  {
   "cell_type": "markdown",
   "id": "92b7011d",
   "metadata": {},
   "source": [
    "## Exercises for Class\n",
    "\n",
    "And now it's time to put these new [skills into action with some exercises!](exercises/exercise_dataframe.ipynb) As usual, if you are a synchronous student, **please don't start these before class!**"
   ]
  }
 ],
 "metadata": {
  "jupytext": {
   "cell_metadata_filter": "tags,eval,-all",
   "main_language": "R",
   "notebook_metadata_filter": "-all"
  },
  "kernelspec": {
   "display_name": "R",
   "language": "R",
   "name": "ir"
  },
  "language_info": {
   "codemirror_mode": "r",
   "file_extension": ".r",
   "mimetype": "text/x-r-source",
   "name": "R",
   "pygments_lexer": "r",
   "version": "4.2.2"
  }
 },
 "nbformat": 4,
 "nbformat_minor": 5
}