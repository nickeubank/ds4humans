{
 "cells": [
  {
   "cell_type": "markdown",
   "id": "f47542e5",
   "metadata": {},
   "source": [
    "# Manipulating Dataframes\n",
    "\n",
    "In our previous lessons, we learn how to create dataframes from vectors, and how to load them from files. In this lesson, we will learn how to work with our dataframe once we have it loaded up!\n",
    "\n",
    "Being able to quickly modify datasets -- often referred to as \"data wrangling\" -- is critical to being a social scientist. Indeed, most social scientists and data scientists spend a huge proportion of their time of their time cleaning and organizing their data. ([about 80 percent in surveys](https://www.forbes.com/sites/gilpress/2016/03/23/data-preparation-most-time-consuming-least-enjoyable-data-science-task-survey-says/?sh=44a70ffb6f63)). So this is probably one of the most important readings of the course!\n",
    "\n",
    "Be aware that there will be a **lot** of syntax in this reading. However, the goal of the reading is **not** to have you memorize all the syntax, but rather to understand the *logic* of how dataframes work. To help with that, I've provided a recap section at the end of the reading with examples of all the commands we cover in one place. \n",
    "\n",
    "So as you read, try and focus on the logic of how dataframes work, not the exact syntax. Syntax is something you can always look up later so long as you understand enough about the logic of what's going on to realize what you need to look up!"
   ]
  },
  {
   "cell_type": "markdown",
   "id": "d3b45747",
   "metadata": {},
   "source": [
    "To begin, let's start by recreating the dataframe we had in our last exercise as an example to work with:"
   ]
  },
  {
   "cell_type": "code",
   "execution_count": 1,
   "id": "b3266635",
   "metadata": {},
   "outputs": [
    {
     "data": {
      "text/html": [
       "<table class=\"dataframe\">\n",
       "<caption>A data.frame: 9 × 3</caption>\n",
       "<thead>\n",
       "\t<tr><th scope=col>country</th><th scope=col>year</th><th scope=col>gdp_pc</th></tr>\n",
       "\t<tr><th scope=col>&lt;chr&gt;</th><th scope=col>&lt;dbl&gt;</th><th scope=col>&lt;dbl&gt;</th></tr>\n",
       "</thead>\n",
       "<tbody>\n",
       "\t<tr><td>USA  </td><td>1994</td><td> 4489</td></tr>\n",
       "\t<tr><td>China</td><td>1994</td><td> 1097</td></tr>\n",
       "\t<tr><td>Sudan</td><td>1994</td><td>18507</td></tr>\n",
       "\t<tr><td>USA  </td><td>1995</td><td> 8928</td></tr>\n",
       "\t<tr><td>China</td><td>1995</td><td>17076</td></tr>\n",
       "\t<tr><td>Sudan</td><td>1995</td><td>15468</td></tr>\n",
       "\t<tr><td>USA  </td><td>1996</td><td> 8156</td></tr>\n",
       "\t<tr><td>China</td><td>1996</td><td>18543</td></tr>\n",
       "\t<tr><td>Sudan</td><td>1996</td><td>12230</td></tr>\n",
       "</tbody>\n",
       "</table>\n"
      ],
      "text/latex": [
       "A data.frame: 9 × 3\n",
       "\\begin{tabular}{lll}\n",
       " country & year & gdp\\_pc\\\\\n",
       " <chr> & <dbl> & <dbl>\\\\\n",
       "\\hline\n",
       "\t USA   & 1994 &  4489\\\\\n",
       "\t China & 1994 &  1097\\\\\n",
       "\t Sudan & 1994 & 18507\\\\\n",
       "\t USA   & 1995 &  8928\\\\\n",
       "\t China & 1995 & 17076\\\\\n",
       "\t Sudan & 1995 & 15468\\\\\n",
       "\t USA   & 1996 &  8156\\\\\n",
       "\t China & 1996 & 18543\\\\\n",
       "\t Sudan & 1996 & 12230\\\\\n",
       "\\end{tabular}\n"
      ],
      "text/markdown": [
       "\n",
       "A data.frame: 9 × 3\n",
       "\n",
       "| country &lt;chr&gt; | year &lt;dbl&gt; | gdp_pc &lt;dbl&gt; |\n",
       "|---|---|---|\n",
       "| USA   | 1994 |  4489 |\n",
       "| China | 1994 |  1097 |\n",
       "| Sudan | 1994 | 18507 |\n",
       "| USA   | 1995 |  8928 |\n",
       "| China | 1995 | 17076 |\n",
       "| Sudan | 1995 | 15468 |\n",
       "| USA   | 1996 |  8156 |\n",
       "| China | 1996 | 18543 |\n",
       "| Sudan | 1996 | 12230 |\n",
       "\n"
      ],
      "text/plain": [
       "  country year gdp_pc\n",
       "1 USA     1994  4489 \n",
       "2 China   1994  1097 \n",
       "3 Sudan   1994 18507 \n",
       "4 USA     1995  8928 \n",
       "5 China   1995 17076 \n",
       "6 Sudan   1995 15468 \n",
       "7 USA     1996  8156 \n",
       "8 China   1996 18543 \n",
       "9 Sudan   1996 12230 "
      ]
     },
     "metadata": {},
     "output_type": "display_data"
    }
   ],
   "source": [
    "country <- rep(c(\"USA\", \"China\", \"Sudan\"), 3)\n",
    "year <- c(1994, 1994, 1994, 1995, 1995, 1995, 1996, 1996, 1996)\n",
    "gdp_pc <- round(runif(9, 1000, 20000))\n",
    "\n",
    "countries <- data.frame(country, year, gdp_pc)\n",
    "countries"
   ]
  },
  {
   "cell_type": "markdown",
   "id": "baffefc8",
   "metadata": {},
   "source": [
    "## Dataframes Are Like Matrices-Plus\n",
    "\n",
    "Dataframes, like matrices, are just two dimensional grids of data. And so everything we learned about matrices also applies to dataframes (hooray!).\n",
    "\n",
    "For example, if we want to get the GDP of China in 1994 from our dataframe, we can subset our dataframe using square brackets and logical / name vectors, just like named matrices:"
   ]
  },
  {
   "cell_type": "code",
   "execution_count": 2,
   "id": "03ba8425",
   "metadata": {
    "lines_to_next_cell": 0
   },
   "outputs": [
    {
     "data": {
      "text/html": [
       "<style>\n",
       ".list-inline {list-style: none; margin:0; padding: 0}\n",
       ".list-inline>li {display: inline-block}\n",
       ".list-inline>li:not(:last-child)::after {content: \"\\00b7\"; padding: 0 .5ex}\n",
       "</style>\n",
       "<ol class=list-inline><li>1994</li><li>1994</li><li>1995</li><li>1996</li></ol>\n"
      ],
      "text/latex": [
       "\\begin{enumerate*}\n",
       "\\item 1994\n",
       "\\item 1994\n",
       "\\item 1995\n",
       "\\item 1996\n",
       "\\end{enumerate*}\n"
      ],
      "text/markdown": [
       "1. 1994\n",
       "2. 1994\n",
       "3. 1995\n",
       "4. 1996\n",
       "\n",
       "\n"
      ],
      "text/plain": [
       "[1] 1994 1994 1995 1996"
      ]
     },
     "metadata": {},
     "output_type": "display_data"
    }
   ],
   "source": [
    "countries[countries[, \"gdp_pc\"] < 10000, \"year\"]"
   ]
  },
  {
   "cell_type": "markdown",
   "id": "d8bab3b4",
   "metadata": {},
   "source": [
    "So remember that: if you could do it with a matrix, you can do it with a dataframe!\n",
    "\n",
    "As we'll see, though, dataframes *do* have few augmentations designed to make the life of the R users a little easier, and so can kinda be thought of as being like matrices+."
   ]
  },
  {
   "cell_type": "markdown",
   "id": "37fdf0de",
   "metadata": {},
   "source": [
    "## Columns Operations\n",
    "\n",
    "Unlike matrices, which could have column names, dataframe columns **always** have names. As a result, we will basically always address columns using their names for reasons will discuss in more detail below.\n",
    "\n",
    "It is also convention that columns in most datasets correspond to variables, so you we'll often want to do things like take the average of a single column (e.g. the average of a single variable), or edit the values in a single column.\n",
    "\n",
    "In fact, accessing a single column is so common with dataframes that there are **two** exactly-identical ways to get a single column, and **one nearly** equivalent way. The equivalent ways are:"
   ]
  },
  {
   "cell_type": "code",
   "execution_count": 3,
   "id": "d044b6c7",
   "metadata": {},
   "outputs": [
    {
     "data": {
      "text/html": [
       "<style>\n",
       ".list-inline {list-style: none; margin:0; padding: 0}\n",
       ".list-inline>li {display: inline-block}\n",
       ".list-inline>li:not(:last-child)::after {content: \"\\00b7\"; padding: 0 .5ex}\n",
       "</style>\n",
       "<ol class=list-inline><li>4489</li><li>1097</li><li>18507</li><li>8928</li><li>17076</li><li>15468</li><li>8156</li><li>18543</li><li>12230</li></ol>\n"
      ],
      "text/latex": [
       "\\begin{enumerate*}\n",
       "\\item 4489\n",
       "\\item 1097\n",
       "\\item 18507\n",
       "\\item 8928\n",
       "\\item 17076\n",
       "\\item 15468\n",
       "\\item 8156\n",
       "\\item 18543\n",
       "\\item 12230\n",
       "\\end{enumerate*}\n"
      ],
      "text/markdown": [
       "1. 4489\n",
       "2. 1097\n",
       "3. 18507\n",
       "4. 8928\n",
       "5. 17076\n",
       "6. 15468\n",
       "7. 8156\n",
       "8. 18543\n",
       "9. 12230\n",
       "\n",
       "\n"
      ],
      "text/plain": [
       "[1]  4489  1097 18507  8928 17076 15468  8156 18543 12230"
      ]
     },
     "metadata": {},
     "output_type": "display_data"
    }
   ],
   "source": [
    "# What we're used to from matrices\n",
    "countries[, \"gdp_pc\"]"
   ]
  },
  {
   "cell_type": "code",
   "execution_count": 4,
   "id": "8aa48804",
   "metadata": {},
   "outputs": [
    {
     "data": {
      "text/html": [
       "<style>\n",
       ".list-inline {list-style: none; margin:0; padding: 0}\n",
       ".list-inline>li {display: inline-block}\n",
       ".list-inline>li:not(:last-child)::after {content: \"\\00b7\"; padding: 0 .5ex}\n",
       "</style>\n",
       "<ol class=list-inline><li>4489</li><li>1097</li><li>18507</li><li>8928</li><li>17076</li><li>15468</li><li>8156</li><li>18543</li><li>12230</li></ol>\n"
      ],
      "text/latex": [
       "\\begin{enumerate*}\n",
       "\\item 4489\n",
       "\\item 1097\n",
       "\\item 18507\n",
       "\\item 8928\n",
       "\\item 17076\n",
       "\\item 15468\n",
       "\\item 8156\n",
       "\\item 18543\n",
       "\\item 12230\n",
       "\\end{enumerate*}\n"
      ],
      "text/markdown": [
       "1. 4489\n",
       "2. 1097\n",
       "3. 18507\n",
       "4. 8928\n",
       "5. 17076\n",
       "6. 15468\n",
       "7. 8156\n",
       "8. 18543\n",
       "9. 12230\n",
       "\n",
       "\n"
      ],
      "text/plain": [
       "[1]  4489  1097 18507  8928 17076 15468  8156 18543 12230"
      ]
     },
     "metadata": {},
     "output_type": "display_data"
    }
   ],
   "source": [
    "# The shortcut for a single dataframe column\n",
    "countries$gdp_pc"
   ]
  },
  {
   "cell_type": "markdown",
   "id": "be709c33",
   "metadata": {},
   "source": [
    "These are exactly equivalent for single columns! But note that you can't always use this trick -- for example, it doesn't work for trying to get several columns from a dataframe. Most of the time, though, it's a very convenient shorthand for single-column manipulations.\n",
    "\n",
    "And the *nearly* equivalent way is the following, which is slightly different from those above in that instead of returning a vector, it returns a dataframe with one column:"
   ]
  },
  {
   "cell_type": "code",
   "execution_count": 5,
   "id": "b8d88177",
   "metadata": {},
   "outputs": [
    {
     "data": {
      "text/html": [
       "<table class=\"dataframe\">\n",
       "<caption>A data.frame: 9 × 1</caption>\n",
       "<thead>\n",
       "\t<tr><th scope=col>gdp_pc</th></tr>\n",
       "\t<tr><th scope=col>&lt;dbl&gt;</th></tr>\n",
       "</thead>\n",
       "<tbody>\n",
       "\t<tr><td> 4489</td></tr>\n",
       "\t<tr><td> 1097</td></tr>\n",
       "\t<tr><td>18507</td></tr>\n",
       "\t<tr><td> 8928</td></tr>\n",
       "\t<tr><td>17076</td></tr>\n",
       "\t<tr><td>15468</td></tr>\n",
       "\t<tr><td> 8156</td></tr>\n",
       "\t<tr><td>18543</td></tr>\n",
       "\t<tr><td>12230</td></tr>\n",
       "</tbody>\n",
       "</table>\n"
      ],
      "text/latex": [
       "A data.frame: 9 × 1\n",
       "\\begin{tabular}{l}\n",
       " gdp\\_pc\\\\\n",
       " <dbl>\\\\\n",
       "\\hline\n",
       "\t  4489\\\\\n",
       "\t  1097\\\\\n",
       "\t 18507\\\\\n",
       "\t  8928\\\\\n",
       "\t 17076\\\\\n",
       "\t 15468\\\\\n",
       "\t  8156\\\\\n",
       "\t 18543\\\\\n",
       "\t 12230\\\\\n",
       "\\end{tabular}\n"
      ],
      "text/markdown": [
       "\n",
       "A data.frame: 9 × 1\n",
       "\n",
       "| gdp_pc &lt;dbl&gt; |\n",
       "|---|\n",
       "|  4489 |\n",
       "|  1097 |\n",
       "| 18507 |\n",
       "|  8928 |\n",
       "| 17076 |\n",
       "| 15468 |\n",
       "|  8156 |\n",
       "| 18543 |\n",
       "| 12230 |\n",
       "\n"
      ],
      "text/plain": [
       "  gdp_pc\n",
       "1  4489 \n",
       "2  1097 \n",
       "3 18507 \n",
       "4  8928 \n",
       "5 17076 \n",
       "6 15468 \n",
       "7  8156 \n",
       "8 18543 \n",
       "9 12230 "
      ]
     },
     "metadata": {},
     "output_type": "display_data"
    }
   ],
   "source": [
    "# And if you don't have a comma, R assumes you're accessing columns\n",
    "countries[\"gdp_pc\"]"
   ]
  },
  {
   "cell_type": "markdown",
   "id": "f274628e",
   "metadata": {},
   "source": [
    "### Modifying Columns\n",
    "\n",
    "As with matrices, we can use subsetting to make modifications to columns. For example, suppose, as with our matrix version, we wanted to multiple GDP per capita by 1.02 to adjust for inflation. We could either do:"
   ]
  },
  {
   "cell_type": "code",
   "execution_count": 6,
   "id": "02ed715f",
   "metadata": {},
   "outputs": [
    {
     "data": {
      "text/html": [
       "<table class=\"dataframe\">\n",
       "<caption>A data.frame: 9 × 3</caption>\n",
       "<thead>\n",
       "\t<tr><th scope=col>country</th><th scope=col>year</th><th scope=col>gdp_pc</th></tr>\n",
       "\t<tr><th scope=col>&lt;chr&gt;</th><th scope=col>&lt;dbl&gt;</th><th scope=col>&lt;dbl&gt;</th></tr>\n",
       "</thead>\n",
       "<tbody>\n",
       "\t<tr><td>USA  </td><td>1994</td><td> 4489</td></tr>\n",
       "\t<tr><td>China</td><td>1994</td><td> 1097</td></tr>\n",
       "\t<tr><td>Sudan</td><td>1994</td><td>18507</td></tr>\n",
       "\t<tr><td>USA  </td><td>1995</td><td> 8928</td></tr>\n",
       "\t<tr><td>China</td><td>1995</td><td>17076</td></tr>\n",
       "\t<tr><td>Sudan</td><td>1995</td><td>15468</td></tr>\n",
       "\t<tr><td>USA  </td><td>1996</td><td> 8156</td></tr>\n",
       "\t<tr><td>China</td><td>1996</td><td>18543</td></tr>\n",
       "\t<tr><td>Sudan</td><td>1996</td><td>12230</td></tr>\n",
       "</tbody>\n",
       "</table>\n"
      ],
      "text/latex": [
       "A data.frame: 9 × 3\n",
       "\\begin{tabular}{lll}\n",
       " country & year & gdp\\_pc\\\\\n",
       " <chr> & <dbl> & <dbl>\\\\\n",
       "\\hline\n",
       "\t USA   & 1994 &  4489\\\\\n",
       "\t China & 1994 &  1097\\\\\n",
       "\t Sudan & 1994 & 18507\\\\\n",
       "\t USA   & 1995 &  8928\\\\\n",
       "\t China & 1995 & 17076\\\\\n",
       "\t Sudan & 1995 & 15468\\\\\n",
       "\t USA   & 1996 &  8156\\\\\n",
       "\t China & 1996 & 18543\\\\\n",
       "\t Sudan & 1996 & 12230\\\\\n",
       "\\end{tabular}\n"
      ],
      "text/markdown": [
       "\n",
       "A data.frame: 9 × 3\n",
       "\n",
       "| country &lt;chr&gt; | year &lt;dbl&gt; | gdp_pc &lt;dbl&gt; |\n",
       "|---|---|---|\n",
       "| USA   | 1994 |  4489 |\n",
       "| China | 1994 |  1097 |\n",
       "| Sudan | 1994 | 18507 |\n",
       "| USA   | 1995 |  8928 |\n",
       "| China | 1995 | 17076 |\n",
       "| Sudan | 1995 | 15468 |\n",
       "| USA   | 1996 |  8156 |\n",
       "| China | 1996 | 18543 |\n",
       "| Sudan | 1996 | 12230 |\n",
       "\n"
      ],
      "text/plain": [
       "  country year gdp_pc\n",
       "1 USA     1994  4489 \n",
       "2 China   1994  1097 \n",
       "3 Sudan   1994 18507 \n",
       "4 USA     1995  8928 \n",
       "5 China   1995 17076 \n",
       "6 Sudan   1995 15468 \n",
       "7 USA     1996  8156 \n",
       "8 China   1996 18543 \n",
       "9 Sudan   1996 12230 "
      ]
     },
     "metadata": {},
     "output_type": "display_data"
    }
   ],
   "source": [
    "# re-create with original gdp_pc \n",
    "countries <- data.frame(country, year, gdp_pc)\n",
    "countries"
   ]
  },
  {
   "cell_type": "code",
   "execution_count": 7,
   "id": "9b0a0422",
   "metadata": {},
   "outputs": [],
   "source": [
    "countries[, \"gdp_pc\"] <- countries[,\"gdp_pc\"] * 1.02"
   ]
  },
  {
   "cell_type": "markdown",
   "id": "02f2ff97",
   "metadata": {},
   "source": [
    "Or"
   ]
  },
  {
   "cell_type": "code",
   "execution_count": 8,
   "id": "a689f052",
   "metadata": {},
   "outputs": [],
   "source": [
    "countries$gdp_pc <- countries$gdp_pc * 1.02"
   ]
  },
  {
   "cell_type": "markdown",
   "id": "580927d3",
   "metadata": {},
   "source": [
    "### Creating New Columns \n",
    "\n",
    "If we wanted to keep both the original `gdp_pc` column and add a *new* column with the inflation adjusted values, we can do so just by using a *new* column name when we assign our values back into the dataframe:"
   ]
  },
  {
   "cell_type": "code",
   "execution_count": 9,
   "id": "8663f23a",
   "metadata": {},
   "outputs": [],
   "source": [
    "# re-create with original gdp_pc \n",
    "countries <- data.frame(country, year, gdp_pc)"
   ]
  },
  {
   "cell_type": "code",
   "execution_count": 10,
   "id": "f65ca1f3",
   "metadata": {},
   "outputs": [
    {
     "data": {
      "text/html": [
       "<table class=\"dataframe\">\n",
       "<caption>A data.frame: 9 × 4</caption>\n",
       "<thead>\n",
       "\t<tr><th scope=col>country</th><th scope=col>year</th><th scope=col>gdp_pc</th><th scope=col>adjusted_gdp_pc</th></tr>\n",
       "\t<tr><th scope=col>&lt;chr&gt;</th><th scope=col>&lt;dbl&gt;</th><th scope=col>&lt;dbl&gt;</th><th scope=col>&lt;dbl&gt;</th></tr>\n",
       "</thead>\n",
       "<tbody>\n",
       "\t<tr><td>USA  </td><td>1994</td><td> 4489</td><td> 4578.78</td></tr>\n",
       "\t<tr><td>China</td><td>1994</td><td> 1097</td><td> 1118.94</td></tr>\n",
       "\t<tr><td>Sudan</td><td>1994</td><td>18507</td><td>18877.14</td></tr>\n",
       "\t<tr><td>USA  </td><td>1995</td><td> 8928</td><td> 9106.56</td></tr>\n",
       "\t<tr><td>China</td><td>1995</td><td>17076</td><td>17417.52</td></tr>\n",
       "\t<tr><td>Sudan</td><td>1995</td><td>15468</td><td>15777.36</td></tr>\n",
       "\t<tr><td>USA  </td><td>1996</td><td> 8156</td><td> 8319.12</td></tr>\n",
       "\t<tr><td>China</td><td>1996</td><td>18543</td><td>18913.86</td></tr>\n",
       "\t<tr><td>Sudan</td><td>1996</td><td>12230</td><td>12474.60</td></tr>\n",
       "</tbody>\n",
       "</table>\n"
      ],
      "text/latex": [
       "A data.frame: 9 × 4\n",
       "\\begin{tabular}{llll}\n",
       " country & year & gdp\\_pc & adjusted\\_gdp\\_pc\\\\\n",
       " <chr> & <dbl> & <dbl> & <dbl>\\\\\n",
       "\\hline\n",
       "\t USA   & 1994 &  4489 &  4578.78\\\\\n",
       "\t China & 1994 &  1097 &  1118.94\\\\\n",
       "\t Sudan & 1994 & 18507 & 18877.14\\\\\n",
       "\t USA   & 1995 &  8928 &  9106.56\\\\\n",
       "\t China & 1995 & 17076 & 17417.52\\\\\n",
       "\t Sudan & 1995 & 15468 & 15777.36\\\\\n",
       "\t USA   & 1996 &  8156 &  8319.12\\\\\n",
       "\t China & 1996 & 18543 & 18913.86\\\\\n",
       "\t Sudan & 1996 & 12230 & 12474.60\\\\\n",
       "\\end{tabular}\n"
      ],
      "text/markdown": [
       "\n",
       "A data.frame: 9 × 4\n",
       "\n",
       "| country &lt;chr&gt; | year &lt;dbl&gt; | gdp_pc &lt;dbl&gt; | adjusted_gdp_pc &lt;dbl&gt; |\n",
       "|---|---|---|---|\n",
       "| USA   | 1994 |  4489 |  4578.78 |\n",
       "| China | 1994 |  1097 |  1118.94 |\n",
       "| Sudan | 1994 | 18507 | 18877.14 |\n",
       "| USA   | 1995 |  8928 |  9106.56 |\n",
       "| China | 1995 | 17076 | 17417.52 |\n",
       "| Sudan | 1995 | 15468 | 15777.36 |\n",
       "| USA   | 1996 |  8156 |  8319.12 |\n",
       "| China | 1996 | 18543 | 18913.86 |\n",
       "| Sudan | 1996 | 12230 | 12474.60 |\n",
       "\n"
      ],
      "text/plain": [
       "  country year gdp_pc adjusted_gdp_pc\n",
       "1 USA     1994  4489   4578.78       \n",
       "2 China   1994  1097   1118.94       \n",
       "3 Sudan   1994 18507  18877.14       \n",
       "4 USA     1995  8928   9106.56       \n",
       "5 China   1995 17076  17417.52       \n",
       "6 Sudan   1995 15468  15777.36       \n",
       "7 USA     1996  8156   8319.12       \n",
       "8 China   1996 18543  18913.86       \n",
       "9 Sudan   1996 12230  12474.60       "
      ]
     },
     "metadata": {},
     "output_type": "display_data"
    }
   ],
   "source": [
    "# Add new column\n",
    "countries$adjusted_gdp_pc <- countries$gdp_pc * 1.02\n",
    "countries"
   ]
  },
  {
   "cell_type": "markdown",
   "id": "a0803199",
   "metadata": {},
   "source": [
    "### Analyzing Columns \n",
    "\n",
    "Finally, as long as we're talking about columns, it's worth emphasizing that once you pull a column out of your dataframe, you can analyze it like any other vector (since it is just a vector!). For example: "
   ]
  },
  {
   "cell_type": "code",
   "execution_count": 11,
   "id": "dddee1ee",
   "metadata": {},
   "outputs": [
    {
     "data": {
      "text/html": [
       "11610.4444444444"
      ],
      "text/latex": [
       "11610.4444444444"
      ],
      "text/markdown": [
       "11610.4444444444"
      ],
      "text/plain": [
       "[1] 11610.44"
      ]
     },
     "metadata": {},
     "output_type": "display_data"
    }
   ],
   "source": [
    "mean(countries$gdp_pc)"
   ]
  },
  {
   "cell_type": "markdown",
   "id": "80990c77",
   "metadata": {},
   "source": [
    "But two summary functions are worth noting here: `table()`, to get the number of observations that have a given value in a vector, and the combination `prop.table(table())`, to get the share of observations with a given value in a vector:"
   ]
  },
  {
   "cell_type": "code",
   "execution_count": 12,
   "id": "7761cece",
   "metadata": {},
   "outputs": [
    {
     "data": {
      "text/plain": [
       "\n",
       "China Sudan   USA \n",
       "    3     3     3 "
      ]
     },
     "metadata": {},
     "output_type": "display_data"
    }
   ],
   "source": [
    "# Number of observations by country \n",
    "table(countries$country)"
   ]
  },
  {
   "cell_type": "code",
   "execution_count": 13,
   "id": "171a5296",
   "metadata": {},
   "outputs": [
    {
     "data": {
      "text/plain": [
       "\n",
       "    China     Sudan       USA \n",
       "0.3333333 0.3333333 0.3333333 "
      ]
     },
     "metadata": {},
     "output_type": "display_data"
    }
   ],
   "source": [
    "# Proportion of observations by country \n",
    "prop.table(table(countries$country))"
   ]
  },
  {
   "cell_type": "markdown",
   "id": "c9ce01bb",
   "metadata": {},
   "source": [
    "### Dropping Columns\n",
    "\n",
    "Dropping columns can be done in a couple ways. The easiest is to just list the columns one wishes to keep:"
   ]
  },
  {
   "cell_type": "code",
   "execution_count": 14,
   "id": "811b8fd6",
   "metadata": {},
   "outputs": [
    {
     "data": {
      "text/html": [
       "<table class=\"dataframe\">\n",
       "<caption>A data.frame: 9 × 2</caption>\n",
       "<thead>\n",
       "\t<tr><th scope=col>gdp_pc</th><th scope=col>year</th></tr>\n",
       "\t<tr><th scope=col>&lt;dbl&gt;</th><th scope=col>&lt;dbl&gt;</th></tr>\n",
       "</thead>\n",
       "<tbody>\n",
       "\t<tr><td> 4489</td><td>1994</td></tr>\n",
       "\t<tr><td> 1097</td><td>1994</td></tr>\n",
       "\t<tr><td>18507</td><td>1994</td></tr>\n",
       "\t<tr><td> 8928</td><td>1995</td></tr>\n",
       "\t<tr><td>17076</td><td>1995</td></tr>\n",
       "\t<tr><td>15468</td><td>1995</td></tr>\n",
       "\t<tr><td> 8156</td><td>1996</td></tr>\n",
       "\t<tr><td>18543</td><td>1996</td></tr>\n",
       "\t<tr><td>12230</td><td>1996</td></tr>\n",
       "</tbody>\n",
       "</table>\n"
      ],
      "text/latex": [
       "A data.frame: 9 × 2\n",
       "\\begin{tabular}{ll}\n",
       " gdp\\_pc & year\\\\\n",
       " <dbl> & <dbl>\\\\\n",
       "\\hline\n",
       "\t  4489 & 1994\\\\\n",
       "\t  1097 & 1994\\\\\n",
       "\t 18507 & 1994\\\\\n",
       "\t  8928 & 1995\\\\\n",
       "\t 17076 & 1995\\\\\n",
       "\t 15468 & 1995\\\\\n",
       "\t  8156 & 1996\\\\\n",
       "\t 18543 & 1996\\\\\n",
       "\t 12230 & 1996\\\\\n",
       "\\end{tabular}\n"
      ],
      "text/markdown": [
       "\n",
       "A data.frame: 9 × 2\n",
       "\n",
       "| gdp_pc &lt;dbl&gt; | year &lt;dbl&gt; |\n",
       "|---|---|\n",
       "|  4489 | 1994 |\n",
       "|  1097 | 1994 |\n",
       "| 18507 | 1994 |\n",
       "|  8928 | 1995 |\n",
       "| 17076 | 1995 |\n",
       "| 15468 | 1995 |\n",
       "|  8156 | 1996 |\n",
       "| 18543 | 1996 |\n",
       "| 12230 | 1996 |\n",
       "\n"
      ],
      "text/plain": [
       "  gdp_pc year\n",
       "1  4489  1994\n",
       "2  1097  1994\n",
       "3 18507  1994\n",
       "4  8928  1995\n",
       "5 17076  1995\n",
       "6 15468  1995\n",
       "7  8156  1996\n",
       "8 18543  1996\n",
       "9 12230  1996"
      ]
     },
     "metadata": {},
     "output_type": "display_data"
    }
   ],
   "source": [
    "countries[, c(\"gdp_pc\", \"year\")]"
   ]
  },
  {
   "cell_type": "markdown",
   "id": "8b45fa0f",
   "metadata": {},
   "source": [
    "But in big dataframes, we sometimes have lots of columns, and don't want to list all the columns *except* the one we want to drop. For that there are two solutions. The first is like this:"
   ]
  },
  {
   "cell_type": "code",
   "execution_count": 15,
   "id": "7e2c9518",
   "metadata": {},
   "outputs": [
    {
     "data": {
      "text/html": [
       "<table class=\"dataframe\">\n",
       "<caption>A data.frame: 9 × 2</caption>\n",
       "<thead>\n",
       "\t<tr><th scope=col>country</th><th scope=col>adjusted_gdp_pc</th></tr>\n",
       "\t<tr><th scope=col>&lt;chr&gt;</th><th scope=col>&lt;dbl&gt;</th></tr>\n",
       "</thead>\n",
       "<tbody>\n",
       "\t<tr><td>USA  </td><td> 4578.78</td></tr>\n",
       "\t<tr><td>China</td><td> 1118.94</td></tr>\n",
       "\t<tr><td>Sudan</td><td>18877.14</td></tr>\n",
       "\t<tr><td>USA  </td><td> 9106.56</td></tr>\n",
       "\t<tr><td>China</td><td>17417.52</td></tr>\n",
       "\t<tr><td>Sudan</td><td>15777.36</td></tr>\n",
       "\t<tr><td>USA  </td><td> 8319.12</td></tr>\n",
       "\t<tr><td>China</td><td>18913.86</td></tr>\n",
       "\t<tr><td>Sudan</td><td>12474.60</td></tr>\n",
       "</tbody>\n",
       "</table>\n"
      ],
      "text/latex": [
       "A data.frame: 9 × 2\n",
       "\\begin{tabular}{ll}\n",
       " country & adjusted\\_gdp\\_pc\\\\\n",
       " <chr> & <dbl>\\\\\n",
       "\\hline\n",
       "\t USA   &  4578.78\\\\\n",
       "\t China &  1118.94\\\\\n",
       "\t Sudan & 18877.14\\\\\n",
       "\t USA   &  9106.56\\\\\n",
       "\t China & 17417.52\\\\\n",
       "\t Sudan & 15777.36\\\\\n",
       "\t USA   &  8319.12\\\\\n",
       "\t China & 18913.86\\\\\n",
       "\t Sudan & 12474.60\\\\\n",
       "\\end{tabular}\n"
      ],
      "text/markdown": [
       "\n",
       "A data.frame: 9 × 2\n",
       "\n",
       "| country &lt;chr&gt; | adjusted_gdp_pc &lt;dbl&gt; |\n",
       "|---|---|\n",
       "| USA   |  4578.78 |\n",
       "| China |  1118.94 |\n",
       "| Sudan | 18877.14 |\n",
       "| USA   |  9106.56 |\n",
       "| China | 17417.52 |\n",
       "| Sudan | 15777.36 |\n",
       "| USA   |  8319.12 |\n",
       "| China | 18913.86 |\n",
       "| Sudan | 12474.60 |\n",
       "\n"
      ],
      "text/plain": [
       "  country adjusted_gdp_pc\n",
       "1 USA      4578.78       \n",
       "2 China    1118.94       \n",
       "3 Sudan   18877.14       \n",
       "4 USA      9106.56       \n",
       "5 China   17417.52       \n",
       "6 Sudan   15777.36       \n",
       "7 USA      8319.12       \n",
       "8 China   18913.86       \n",
       "9 Sudan   12474.60       "
      ]
     },
     "metadata": {},
     "output_type": "display_data"
    }
   ],
   "source": [
    "# Drop columns gdp_pc and year\n",
    "countries[, !(names(countries) %in% c(\"gdp_pc\", \"year\"))]\n"
   ]
  },
  {
   "cell_type": "markdown",
   "id": "57fb7900",
   "metadata": {},
   "source": [
    "This is a little weird looking, so it's worth breaking down. \n",
    "\n",
    "First, `names(countries)` returns all the column names of `countries`. "
   ]
  },
  {
   "cell_type": "code",
   "execution_count": 16,
   "id": "d46d543d",
   "metadata": {},
   "outputs": [
    {
     "data": {
      "text/html": [
       "<style>\n",
       ".list-inline {list-style: none; margin:0; padding: 0}\n",
       ".list-inline>li {display: inline-block}\n",
       ".list-inline>li:not(:last-child)::after {content: \"\\00b7\"; padding: 0 .5ex}\n",
       "</style>\n",
       "<ol class=list-inline><li>'country'</li><li>'year'</li><li>'gdp_pc'</li><li>'adjusted_gdp_pc'</li></ol>\n"
      ],
      "text/latex": [
       "\\begin{enumerate*}\n",
       "\\item 'country'\n",
       "\\item 'year'\n",
       "\\item 'gdp\\_pc'\n",
       "\\item 'adjusted\\_gdp\\_pc'\n",
       "\\end{enumerate*}\n"
      ],
      "text/markdown": [
       "1. 'country'\n",
       "2. 'year'\n",
       "3. 'gdp_pc'\n",
       "4. 'adjusted_gdp_pc'\n",
       "\n",
       "\n"
      ],
      "text/plain": [
       "[1] \"country\"         \"year\"            \"gdp_pc\"          \"adjusted_gdp_pc\""
      ]
     },
     "metadata": {},
     "output_type": "display_data"
    }
   ],
   "source": [
    "names(countries)"
   ]
  },
  {
   "cell_type": "markdown",
   "id": "f45e4156",
   "metadata": {},
   "source": [
    "Then `names(countries) %in% c(\"gdp_pc\", \"year\")` returns a logical vector the length of the column names of `countries` that's `TRUE` if the name is in the list, and `FALSE` otherwise:"
   ]
  },
  {
   "cell_type": "code",
   "execution_count": 17,
   "id": "e26b0201",
   "metadata": {},
   "outputs": [
    {
     "data": {
      "text/html": [
       "<style>\n",
       ".list-inline {list-style: none; margin:0; padding: 0}\n",
       ".list-inline>li {display: inline-block}\n",
       ".list-inline>li:not(:last-child)::after {content: \"\\00b7\"; padding: 0 .5ex}\n",
       "</style>\n",
       "<ol class=list-inline><li>FALSE</li><li>TRUE</li><li>TRUE</li><li>FALSE</li></ol>\n"
      ],
      "text/latex": [
       "\\begin{enumerate*}\n",
       "\\item FALSE\n",
       "\\item TRUE\n",
       "\\item TRUE\n",
       "\\item FALSE\n",
       "\\end{enumerate*}\n"
      ],
      "text/markdown": [
       "1. FALSE\n",
       "2. TRUE\n",
       "3. TRUE\n",
       "4. FALSE\n",
       "\n",
       "\n"
      ],
      "text/plain": [
       "[1] FALSE  TRUE  TRUE FALSE"
      ]
     },
     "metadata": {},
     "output_type": "display_data"
    }
   ],
   "source": [
    "names(countries) %in% c(\"gdp_pc\", \"year\")"
   ]
  },
  {
   "cell_type": "markdown",
   "id": "904e460c",
   "metadata": {},
   "source": [
    "Then finally the `!` before that expression is the logical `NOT`, meaning that it makes all `TRUE` values into `FALSE` and vice-versa. So in the end `!(names(countries) %in% c(\"gdp_pc\", \"year\"))` returns a logical vector that is `TRUE` for all values *not* in the list, and `FALSE` for those in the list. That is then interpreted as a logical subsetting vector, and all columns not in the list are kept, and those not in the list are dropped. \n",
    "\n",
    "I know, it's kinda a lot... but it is a good example of how you can compose simple building blocks to do complicated things in R!\n",
    "\n",
    "Finally, if you're dropping a single columns, you can also assign the value of `NULL` to the column:"
   ]
  },
  {
   "cell_type": "code",
   "execution_count": 18,
   "id": "eb54c832",
   "metadata": {},
   "outputs": [
    {
     "data": {
      "text/html": [
       "<table class=\"dataframe\">\n",
       "<caption>A data.frame: 9 × 3</caption>\n",
       "<thead>\n",
       "\t<tr><th scope=col>country</th><th scope=col>year</th><th scope=col>adjusted_gdp_pc</th></tr>\n",
       "\t<tr><th scope=col>&lt;chr&gt;</th><th scope=col>&lt;dbl&gt;</th><th scope=col>&lt;dbl&gt;</th></tr>\n",
       "</thead>\n",
       "<tbody>\n",
       "\t<tr><td>USA  </td><td>1994</td><td> 4578.78</td></tr>\n",
       "\t<tr><td>China</td><td>1994</td><td> 1118.94</td></tr>\n",
       "\t<tr><td>Sudan</td><td>1994</td><td>18877.14</td></tr>\n",
       "\t<tr><td>USA  </td><td>1995</td><td> 9106.56</td></tr>\n",
       "\t<tr><td>China</td><td>1995</td><td>17417.52</td></tr>\n",
       "\t<tr><td>Sudan</td><td>1995</td><td>15777.36</td></tr>\n",
       "\t<tr><td>USA  </td><td>1996</td><td> 8319.12</td></tr>\n",
       "\t<tr><td>China</td><td>1996</td><td>18913.86</td></tr>\n",
       "\t<tr><td>Sudan</td><td>1996</td><td>12474.60</td></tr>\n",
       "</tbody>\n",
       "</table>\n"
      ],
      "text/latex": [
       "A data.frame: 9 × 3\n",
       "\\begin{tabular}{lll}\n",
       " country & year & adjusted\\_gdp\\_pc\\\\\n",
       " <chr> & <dbl> & <dbl>\\\\\n",
       "\\hline\n",
       "\t USA   & 1994 &  4578.78\\\\\n",
       "\t China & 1994 &  1118.94\\\\\n",
       "\t Sudan & 1994 & 18877.14\\\\\n",
       "\t USA   & 1995 &  9106.56\\\\\n",
       "\t China & 1995 & 17417.52\\\\\n",
       "\t Sudan & 1995 & 15777.36\\\\\n",
       "\t USA   & 1996 &  8319.12\\\\\n",
       "\t China & 1996 & 18913.86\\\\\n",
       "\t Sudan & 1996 & 12474.60\\\\\n",
       "\\end{tabular}\n"
      ],
      "text/markdown": [
       "\n",
       "A data.frame: 9 × 3\n",
       "\n",
       "| country &lt;chr&gt; | year &lt;dbl&gt; | adjusted_gdp_pc &lt;dbl&gt; |\n",
       "|---|---|---|\n",
       "| USA   | 1994 |  4578.78 |\n",
       "| China | 1994 |  1118.94 |\n",
       "| Sudan | 1994 | 18877.14 |\n",
       "| USA   | 1995 |  9106.56 |\n",
       "| China | 1995 | 17417.52 |\n",
       "| Sudan | 1995 | 15777.36 |\n",
       "| USA   | 1996 |  8319.12 |\n",
       "| China | 1996 | 18913.86 |\n",
       "| Sudan | 1996 | 12474.60 |\n",
       "\n"
      ],
      "text/plain": [
       "  country year adjusted_gdp_pc\n",
       "1 USA     1994  4578.78       \n",
       "2 China   1994  1118.94       \n",
       "3 Sudan   1994 18877.14       \n",
       "4 USA     1995  9106.56       \n",
       "5 China   1995 17417.52       \n",
       "6 Sudan   1995 15777.36       \n",
       "7 USA     1996  8319.12       \n",
       "8 China   1996 18913.86       \n",
       "9 Sudan   1996 12474.60       "
      ]
     },
     "metadata": {},
     "output_type": "display_data"
    }
   ],
   "source": [
    "countries$gdp_pc <- NULL\n",
    "countries"
   ]
  },
  {
   "cell_type": "markdown",
   "id": "6dc1c553",
   "metadata": {},
   "source": [
    "Which... well, just works! :)"
   ]
  },
  {
   "cell_type": "markdown",
   "id": "92cf2a3d",
   "metadata": {},
   "source": [
    "## Row Operations\n",
    "\n",
    "In most datasets you work with, each row will correspond to a single observation in your data. Given that, we often manipulate rows as a way of manipulating the sample in our analyses. \n",
    "\n",
    "### Subsetting\n",
    "\n",
    "Subsetting with logicals is exactly the same with dataframes as it was with matrices, except that we can access column names with the `$` notation:"
   ]
  },
  {
   "cell_type": "code",
   "execution_count": 19,
   "id": "65079bb2",
   "metadata": {
    "lines_to_next_cell": 0
   },
   "outputs": [
    {
     "data": {
      "text/html": [
       "<table class=\"dataframe\">\n",
       "<caption>A data.frame: 1 × 3</caption>\n",
       "<thead>\n",
       "\t<tr><th></th><th scope=col>country</th><th scope=col>year</th><th scope=col>adjusted_gdp_pc</th></tr>\n",
       "\t<tr><th></th><th scope=col>&lt;chr&gt;</th><th scope=col>&lt;dbl&gt;</th><th scope=col>&lt;dbl&gt;</th></tr>\n",
       "</thead>\n",
       "<tbody>\n",
       "\t<tr><th scope=row>4</th><td>USA</td><td>1995</td><td>9106.56</td></tr>\n",
       "</tbody>\n",
       "</table>\n"
      ],
      "text/latex": [
       "A data.frame: 1 × 3\n",
       "\\begin{tabular}{r|lll}\n",
       "  & country & year & adjusted\\_gdp\\_pc\\\\\n",
       "  & <chr> & <dbl> & <dbl>\\\\\n",
       "\\hline\n",
       "\t4 & USA & 1995 & 9106.56\\\\\n",
       "\\end{tabular}\n"
      ],
      "text/markdown": [
       "\n",
       "A data.frame: 1 × 3\n",
       "\n",
       "| <!--/--> | country &lt;chr&gt; | year &lt;dbl&gt; | adjusted_gdp_pc &lt;dbl&gt; |\n",
       "|---|---|---|---|\n",
       "| 4 | USA | 1995 | 9106.56 |\n",
       "\n"
      ],
      "text/plain": [
       "  country year adjusted_gdp_pc\n",
       "4 USA     1995 9106.56        "
      ]
     },
     "metadata": {},
     "output_type": "display_data"
    }
   ],
   "source": [
    "countries[countries$year == 1995 & countries$country == \"USA\", ]"
   ]
  },
  {
   "cell_type": "markdown",
   "id": "c68498f8",
   "metadata": {},
   "source": [
    "### Sorting Dataframes\n",
    "\n",
    "Often, we'll want to sort the rows of our dataframe by the values in one of our columns. To do so, we use the `order` command:"
   ]
  },
  {
   "cell_type": "code",
   "execution_count": 20,
   "id": "cf63ea22",
   "metadata": {},
   "outputs": [
    {
     "data": {
      "text/html": [
       "<table class=\"dataframe\">\n",
       "<caption>A data.frame: 9 × 3</caption>\n",
       "<thead>\n",
       "\t<tr><th></th><th scope=col>country</th><th scope=col>year</th><th scope=col>adjusted_gdp_pc</th></tr>\n",
       "\t<tr><th></th><th scope=col>&lt;chr&gt;</th><th scope=col>&lt;dbl&gt;</th><th scope=col>&lt;dbl&gt;</th></tr>\n",
       "</thead>\n",
       "<tbody>\n",
       "\t<tr><th scope=row>2</th><td>China</td><td>1994</td><td> 1118.94</td></tr>\n",
       "\t<tr><th scope=row>1</th><td>USA  </td><td>1994</td><td> 4578.78</td></tr>\n",
       "\t<tr><th scope=row>7</th><td>USA  </td><td>1996</td><td> 8319.12</td></tr>\n",
       "\t<tr><th scope=row>4</th><td>USA  </td><td>1995</td><td> 9106.56</td></tr>\n",
       "\t<tr><th scope=row>9</th><td>Sudan</td><td>1996</td><td>12474.60</td></tr>\n",
       "\t<tr><th scope=row>6</th><td>Sudan</td><td>1995</td><td>15777.36</td></tr>\n",
       "\t<tr><th scope=row>5</th><td>China</td><td>1995</td><td>17417.52</td></tr>\n",
       "\t<tr><th scope=row>3</th><td>Sudan</td><td>1994</td><td>18877.14</td></tr>\n",
       "\t<tr><th scope=row>8</th><td>China</td><td>1996</td><td>18913.86</td></tr>\n",
       "</tbody>\n",
       "</table>\n"
      ],
      "text/latex": [
       "A data.frame: 9 × 3\n",
       "\\begin{tabular}{r|lll}\n",
       "  & country & year & adjusted\\_gdp\\_pc\\\\\n",
       "  & <chr> & <dbl> & <dbl>\\\\\n",
       "\\hline\n",
       "\t2 & China & 1994 &  1118.94\\\\\n",
       "\t1 & USA   & 1994 &  4578.78\\\\\n",
       "\t7 & USA   & 1996 &  8319.12\\\\\n",
       "\t4 & USA   & 1995 &  9106.56\\\\\n",
       "\t9 & Sudan & 1996 & 12474.60\\\\\n",
       "\t6 & Sudan & 1995 & 15777.36\\\\\n",
       "\t5 & China & 1995 & 17417.52\\\\\n",
       "\t3 & Sudan & 1994 & 18877.14\\\\\n",
       "\t8 & China & 1996 & 18913.86\\\\\n",
       "\\end{tabular}\n"
      ],
      "text/markdown": [
       "\n",
       "A data.frame: 9 × 3\n",
       "\n",
       "| <!--/--> | country &lt;chr&gt; | year &lt;dbl&gt; | adjusted_gdp_pc &lt;dbl&gt; |\n",
       "|---|---|---|---|\n",
       "| 2 | China | 1994 |  1118.94 |\n",
       "| 1 | USA   | 1994 |  4578.78 |\n",
       "| 7 | USA   | 1996 |  8319.12 |\n",
       "| 4 | USA   | 1995 |  9106.56 |\n",
       "| 9 | Sudan | 1996 | 12474.60 |\n",
       "| 6 | Sudan | 1995 | 15777.36 |\n",
       "| 5 | China | 1995 | 17417.52 |\n",
       "| 3 | Sudan | 1994 | 18877.14 |\n",
       "| 8 | China | 1996 | 18913.86 |\n",
       "\n"
      ],
      "text/plain": [
       "  country year adjusted_gdp_pc\n",
       "2 China   1994  1118.94       \n",
       "1 USA     1994  4578.78       \n",
       "7 USA     1996  8319.12       \n",
       "4 USA     1995  9106.56       \n",
       "9 Sudan   1996 12474.60       \n",
       "6 Sudan   1995 15777.36       \n",
       "5 China   1995 17417.52       \n",
       "3 Sudan   1994 18877.14       \n",
       "8 China   1996 18913.86       "
      ]
     },
     "metadata": {},
     "output_type": "display_data"
    }
   ],
   "source": [
    "# Sort by GDP\n",
    "countries[order(countries$adjusted_gdp_pc),]"
   ]
  },
  {
   "cell_type": "markdown",
   "id": "c13cd2ab",
   "metadata": {},
   "source": [
    "What's happening? `order()` returns a vector with the indices of the rows of the dataset in sorted order:"
   ]
  },
  {
   "cell_type": "code",
   "execution_count": 21,
   "id": "80ec9bea",
   "metadata": {},
   "outputs": [
    {
     "data": {
      "text/html": [
       "<style>\n",
       ".list-inline {list-style: none; margin:0; padding: 0}\n",
       ".list-inline>li {display: inline-block}\n",
       ".list-inline>li:not(:last-child)::after {content: \"\\00b7\"; padding: 0 .5ex}\n",
       "</style>\n",
       "<ol class=list-inline><li>2</li><li>1</li><li>7</li><li>4</li><li>9</li><li>6</li><li>5</li><li>3</li><li>8</li></ol>\n"
      ],
      "text/latex": [
       "\\begin{enumerate*}\n",
       "\\item 2\n",
       "\\item 1\n",
       "\\item 7\n",
       "\\item 4\n",
       "\\item 9\n",
       "\\item 6\n",
       "\\item 5\n",
       "\\item 3\n",
       "\\item 8\n",
       "\\end{enumerate*}\n"
      ],
      "text/markdown": [
       "1. 2\n",
       "2. 1\n",
       "3. 7\n",
       "4. 4\n",
       "5. 9\n",
       "6. 6\n",
       "7. 5\n",
       "8. 3\n",
       "9. 8\n",
       "\n",
       "\n"
      ],
      "text/plain": [
       "[1] 2 1 7 4 9 6 5 3 8"
      ]
     },
     "metadata": {},
     "output_type": "display_data"
    }
   ],
   "source": [
    "order(countries$adjusted_gdp_pc)"
   ]
  },
  {
   "cell_type": "markdown",
   "id": "72bd2a16",
   "metadata": {},
   "source": [
    "And then, because it's a vector of indices being passed in the first position of our square brackets, we get all the rows of `countries` \"subset\" by index (though obviously it's not really a subset, since all row indices appear in the vector -- just a re-ordering)!"
   ]
  },
  {
   "cell_type": "markdown",
   "id": "fb213d8c",
   "metadata": {},
   "source": [
    "We can also sort by multiple columns:"
   ]
  },
  {
   "cell_type": "code",
   "execution_count": 22,
   "id": "487ba3e4",
   "metadata": {},
   "outputs": [
    {
     "data": {
      "text/html": [
       "<table class=\"dataframe\">\n",
       "<caption>A data.frame: 9 × 3</caption>\n",
       "<thead>\n",
       "\t<tr><th></th><th scope=col>country</th><th scope=col>year</th><th scope=col>adjusted_gdp_pc</th></tr>\n",
       "\t<tr><th></th><th scope=col>&lt;chr&gt;</th><th scope=col>&lt;dbl&gt;</th><th scope=col>&lt;dbl&gt;</th></tr>\n",
       "</thead>\n",
       "<tbody>\n",
       "\t<tr><th scope=row>2</th><td>China</td><td>1994</td><td> 1118.94</td></tr>\n",
       "\t<tr><th scope=row>3</th><td>Sudan</td><td>1994</td><td>18877.14</td></tr>\n",
       "\t<tr><th scope=row>1</th><td>USA  </td><td>1994</td><td> 4578.78</td></tr>\n",
       "\t<tr><th scope=row>5</th><td>China</td><td>1995</td><td>17417.52</td></tr>\n",
       "\t<tr><th scope=row>6</th><td>Sudan</td><td>1995</td><td>15777.36</td></tr>\n",
       "\t<tr><th scope=row>4</th><td>USA  </td><td>1995</td><td> 9106.56</td></tr>\n",
       "\t<tr><th scope=row>8</th><td>China</td><td>1996</td><td>18913.86</td></tr>\n",
       "\t<tr><th scope=row>9</th><td>Sudan</td><td>1996</td><td>12474.60</td></tr>\n",
       "\t<tr><th scope=row>7</th><td>USA  </td><td>1996</td><td> 8319.12</td></tr>\n",
       "</tbody>\n",
       "</table>\n"
      ],
      "text/latex": [
       "A data.frame: 9 × 3\n",
       "\\begin{tabular}{r|lll}\n",
       "  & country & year & adjusted\\_gdp\\_pc\\\\\n",
       "  & <chr> & <dbl> & <dbl>\\\\\n",
       "\\hline\n",
       "\t2 & China & 1994 &  1118.94\\\\\n",
       "\t3 & Sudan & 1994 & 18877.14\\\\\n",
       "\t1 & USA   & 1994 &  4578.78\\\\\n",
       "\t5 & China & 1995 & 17417.52\\\\\n",
       "\t6 & Sudan & 1995 & 15777.36\\\\\n",
       "\t4 & USA   & 1995 &  9106.56\\\\\n",
       "\t8 & China & 1996 & 18913.86\\\\\n",
       "\t9 & Sudan & 1996 & 12474.60\\\\\n",
       "\t7 & USA   & 1996 &  8319.12\\\\\n",
       "\\end{tabular}\n"
      ],
      "text/markdown": [
       "\n",
       "A data.frame: 9 × 3\n",
       "\n",
       "| <!--/--> | country &lt;chr&gt; | year &lt;dbl&gt; | adjusted_gdp_pc &lt;dbl&gt; |\n",
       "|---|---|---|---|\n",
       "| 2 | China | 1994 |  1118.94 |\n",
       "| 3 | Sudan | 1994 | 18877.14 |\n",
       "| 1 | USA   | 1994 |  4578.78 |\n",
       "| 5 | China | 1995 | 17417.52 |\n",
       "| 6 | Sudan | 1995 | 15777.36 |\n",
       "| 4 | USA   | 1995 |  9106.56 |\n",
       "| 8 | China | 1996 | 18913.86 |\n",
       "| 9 | Sudan | 1996 | 12474.60 |\n",
       "| 7 | USA   | 1996 |  8319.12 |\n",
       "\n"
      ],
      "text/plain": [
       "  country year adjusted_gdp_pc\n",
       "2 China   1994  1118.94       \n",
       "3 Sudan   1994 18877.14       \n",
       "1 USA     1994  4578.78       \n",
       "5 China   1995 17417.52       \n",
       "6 Sudan   1995 15777.36       \n",
       "4 USA     1995  9106.56       \n",
       "8 China   1996 18913.86       \n",
       "9 Sudan   1996 12474.60       \n",
       "7 USA     1996  8319.12       "
      ]
     },
     "metadata": {},
     "output_type": "display_data"
    }
   ],
   "source": [
    "countries[order(countries$year, countries$country),]"
   ]
  },
  {
   "cell_type": "markdown",
   "id": "963f182e",
   "metadata": {},
   "source": [
    "And we can use `-` to sort any variable in descending order rather than ascending order:"
   ]
  },
  {
   "cell_type": "code",
   "execution_count": 23,
   "id": "a1b6222d",
   "metadata": {},
   "outputs": [
    {
     "data": {
      "text/html": [
       "<table class=\"dataframe\">\n",
       "<caption>A data.frame: 9 × 3</caption>\n",
       "<thead>\n",
       "\t<tr><th></th><th scope=col>country</th><th scope=col>year</th><th scope=col>adjusted_gdp_pc</th></tr>\n",
       "\t<tr><th></th><th scope=col>&lt;chr&gt;</th><th scope=col>&lt;dbl&gt;</th><th scope=col>&lt;dbl&gt;</th></tr>\n",
       "</thead>\n",
       "<tbody>\n",
       "\t<tr><th scope=row>8</th><td>China</td><td>1996</td><td>18913.86</td></tr>\n",
       "\t<tr><th scope=row>3</th><td>Sudan</td><td>1994</td><td>18877.14</td></tr>\n",
       "\t<tr><th scope=row>5</th><td>China</td><td>1995</td><td>17417.52</td></tr>\n",
       "\t<tr><th scope=row>6</th><td>Sudan</td><td>1995</td><td>15777.36</td></tr>\n",
       "\t<tr><th scope=row>9</th><td>Sudan</td><td>1996</td><td>12474.60</td></tr>\n",
       "\t<tr><th scope=row>4</th><td>USA  </td><td>1995</td><td> 9106.56</td></tr>\n",
       "\t<tr><th scope=row>7</th><td>USA  </td><td>1996</td><td> 8319.12</td></tr>\n",
       "\t<tr><th scope=row>1</th><td>USA  </td><td>1994</td><td> 4578.78</td></tr>\n",
       "\t<tr><th scope=row>2</th><td>China</td><td>1994</td><td> 1118.94</td></tr>\n",
       "</tbody>\n",
       "</table>\n"
      ],
      "text/latex": [
       "A data.frame: 9 × 3\n",
       "\\begin{tabular}{r|lll}\n",
       "  & country & year & adjusted\\_gdp\\_pc\\\\\n",
       "  & <chr> & <dbl> & <dbl>\\\\\n",
       "\\hline\n",
       "\t8 & China & 1996 & 18913.86\\\\\n",
       "\t3 & Sudan & 1994 & 18877.14\\\\\n",
       "\t5 & China & 1995 & 17417.52\\\\\n",
       "\t6 & Sudan & 1995 & 15777.36\\\\\n",
       "\t9 & Sudan & 1996 & 12474.60\\\\\n",
       "\t4 & USA   & 1995 &  9106.56\\\\\n",
       "\t7 & USA   & 1996 &  8319.12\\\\\n",
       "\t1 & USA   & 1994 &  4578.78\\\\\n",
       "\t2 & China & 1994 &  1118.94\\\\\n",
       "\\end{tabular}\n"
      ],
      "text/markdown": [
       "\n",
       "A data.frame: 9 × 3\n",
       "\n",
       "| <!--/--> | country &lt;chr&gt; | year &lt;dbl&gt; | adjusted_gdp_pc &lt;dbl&gt; |\n",
       "|---|---|---|---|\n",
       "| 8 | China | 1996 | 18913.86 |\n",
       "| 3 | Sudan | 1994 | 18877.14 |\n",
       "| 5 | China | 1995 | 17417.52 |\n",
       "| 6 | Sudan | 1995 | 15777.36 |\n",
       "| 9 | Sudan | 1996 | 12474.60 |\n",
       "| 4 | USA   | 1995 |  9106.56 |\n",
       "| 7 | USA   | 1996 |  8319.12 |\n",
       "| 1 | USA   | 1994 |  4578.78 |\n",
       "| 2 | China | 1994 |  1118.94 |\n",
       "\n"
      ],
      "text/plain": [
       "  country year adjusted_gdp_pc\n",
       "8 China   1996 18913.86       \n",
       "3 Sudan   1994 18877.14       \n",
       "5 China   1995 17417.52       \n",
       "6 Sudan   1995 15777.36       \n",
       "9 Sudan   1996 12474.60       \n",
       "4 USA     1995  9106.56       \n",
       "7 USA     1996  8319.12       \n",
       "1 USA     1994  4578.78       \n",
       "2 China   1994  1118.94       "
      ]
     },
     "metadata": {},
     "output_type": "display_data"
    }
   ],
   "source": [
    "countries[order(-countries$adjusted_gdp_pc), ]"
   ]
  },
  {
   "cell_type": "markdown",
   "id": "1fe45734",
   "metadata": {},
   "source": [
    "## Avoiding Subsetting by Index\n",
    "\n",
    "As you've seen, we almost always access columns by name rather than by using their index numbers. That's because when working with real data, there's always a possibility that the order of columns gets jumbled up -- maybe you get an updated version of the data set you're working with that has the columns in different orders, or maybe in a large research project one of your collaborators has modified the order of columns in some of the code that runs before your code.\n",
    "\n",
    "In these situations, trying to extract a column using its index may give you the wrong answer, while pulling out a column by name will and sure you're always getting the variable that you intended!"
   ]
  },
  {
   "cell_type": "markdown",
   "id": "b79fcda7",
   "metadata": {},
   "source": [
    "The same logic also applies to subsetting by rows. While subsetting by row index *works*, we generally avoid using indices for the same reason we avoid subsetting columns by index -- if the order or our data changes (say, it gets sorted unexpectedly), we can't predict how our index subsets will change! That's why in nearly all the examples above we subset with a logical vector. \n",
    "\n",
    "Obviously there are exceptions to this rule -- `order()` and `sample()` are both implicitly subsetting by index. But those functions generate the indices they use from the values of row immediately before they use them, so there is no opportunity for the order of row to change between when those indices are generated and when they are used."
   ]
  },
  {
   "cell_type": "markdown",
   "id": "cfb02451",
   "metadata": {},
   "source": [
    "## Recap\n",
    "\n",
    "Phew. OK, I know this reading covered *a lot*, so here's a quick recap and a summary table for reference. \n",
    "\n",
    "- Dataframes really are just like matrices. The main difference is that each column can be a different type, and dataframes always have column names.\n",
    "- We subset single dataframe columns using `$`, but that's just a shorthand for the syntax we learned before (`df[, \"colname\"]`).\n",
    "- The columns of a dataframe are just vectors.\n",
    "- We usually subset dataframes with logicals (for rows) or by name (columns) for safety. \n",
    "\n",
    "And now a reference table, written with a toy dataset called `df` with columns `col1`, `col2`, and `col3` in mind: "
   ]
  },
  {
   "cell_type": "markdown",
   "id": "182abd1b",
   "metadata": {},
   "source": [
    "**Looking at your dataframe:**\n",
    "\n",
    "- Number of rows: `nrow(df)`\n",
    "- Number of columns: `ncol(df)`\n",
    "- First six rows: `head(df)`\n",
    "- Last six rows: `tail(df)`\n",
    "- Quick summary of all data: `summary(df)`\n",
    "\n",
    "**Row Operations**\n",
    "\n",
    "- Subset rows by logical: `df[df$col1 < 42, ]` or `df[df[, col1] < 42, ]`\n",
    "- Random sample of N rows: `df[sample(nrow(df), N), ]`\n",
    "- Sort rows (ascending, one column): `df[order(df$col1), ]`\n",
    "- Sort rows (descending, one column): `df[order(-df$col1), ]`\n",
    "- Sort rows (multiple columns): `df[order(df$col1, df$col2), ]`\n",
    "\n",
    "**Column Operations**\n",
    "\n",
    "- Subset one column by name: `df$col1` or `df[, \"col1\"]`\n",
    "- Subset multiple columns by name: `df[ , c(\"col1\", \"col2\")]`\n",
    "- Drop one column: `df$col1 <- NULL`\n",
    "- Drop set of columns: `df[ , !(names(df) %in% c(\"col1\", \"col2\"))]`\n",
    "- Editing a single column: `df$col1 <- df$col1 * 42` or `df[, \"col1\"] <- df[, \"col1\"] * 42`\n",
    "- Create new column: `df$newcol <- df$col1 * 42` or `df[, \"newcol\"] <- df[, \"col1\"] * 42`\n",
    "\n",
    "**Learn About a Column:**\n",
    "\n",
    "- Tabulate number of observations of each value: `table(df$col1)`\n",
    "- Share of observations of each value: `prop.table(table(df$col1))`\n",
    "- Quick summary of one column: `summary(df$col1)`\n"
   ]
  },
  {
   "cell_type": "markdown",
   "id": "06b653f6",
   "metadata": {},
   "source": [
    "## Exercises for Class\n",
    "\n",
    "And now it's time to put these new [skills into action with some exercises!](exercises/exercise_dataframe.ipynb) As usual, if you are a synchronous student, **please don't start these before class!**"
   ]
  }
 ],
 "metadata": {
  "jupytext": {
   "cell_metadata_filter": "tags,eval,-all",
   "main_language": "R",
   "notebook_metadata_filter": "-all"
  },
  "kernelspec": {
   "display_name": "R",
   "language": "R",
   "name": "ir"
  },
  "language_info": {
   "codemirror_mode": "r",
   "file_extension": ".r",
   "mimetype": "text/x-r-source",
   "name": "R",
   "pygments_lexer": "r",
   "version": "4.2.3"
  }
 },
 "nbformat": 4,
 "nbformat_minor": 5
}