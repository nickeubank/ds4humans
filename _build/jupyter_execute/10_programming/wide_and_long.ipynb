{
 "cells": [
  {
   "cell_type": "markdown",
   "id": "7cf8cf80",
   "metadata": {},
   "source": [
    "# Wide & Long Data\n",
    "\n",
    "**PRELIMINARY SITE DRAFT. MUCH WORK TO BE DONE!**\n",
    "\n",
    "\n",
    "This tutorial has three purposes&#58; to explain the difference between long and wide form datasets, to show why it's generally preferable to use long form datasets, and to go over how to convert datasets from wide to long form.\n"
   ]
  },
  {
   "cell_type": "markdown",
   "id": "9d3cfd3d",
   "metadata": {},
   "source": [
    "## Wide versus long data\n",
    "\n",
    "\n",
    "Illustrating the difference between wide and long datasets is easiest\n",
    "using an example. Here are two datasets with the exact same information\n",
    "represented in wide and long form respectively (imagine that `avgtemp`\n",
    "represents average temperature in Celsius):  \n"
   ]
  },
  {
   "cell_type": "code",
   "execution_count": 1,
   "id": "0c665928",
   "metadata": {
    "lines_to_next_cell": 2
   },
   "outputs": [
    {
     "data": {
      "text/html": [
       "<table class=\"dataframe\">\n",
       "<caption>A data.frame: 9 × 3</caption>\n",
       "<thead>\n",
       "\t<tr><th scope=col>country</th><th scope=col>year</th><th scope=col>avgtemp</th></tr>\n",
       "\t<tr><th scope=col>&lt;fct&gt;</th><th scope=col>&lt;int&gt;</th><th scope=col>&lt;dbl&gt;</th></tr>\n",
       "</thead>\n",
       "<tbody>\n",
       "\t<tr><td>Sweden </td><td>1994</td><td>11</td></tr>\n",
       "\t<tr><td>Denmark</td><td>1994</td><td> 4</td></tr>\n",
       "\t<tr><td>Norway </td><td>1994</td><td> 5</td></tr>\n",
       "\t<tr><td>Sweden </td><td>1995</td><td> 3</td></tr>\n",
       "\t<tr><td>Denmark</td><td>1995</td><td> 7</td></tr>\n",
       "\t<tr><td>Norway </td><td>1995</td><td> 6</td></tr>\n",
       "\t<tr><td>Sweden </td><td>1996</td><td> 8</td></tr>\n",
       "\t<tr><td>Denmark</td><td>1996</td><td> 6</td></tr>\n",
       "\t<tr><td>Norway </td><td>1996</td><td> 6</td></tr>\n",
       "</tbody>\n",
       "</table>\n"
      ],
      "text/latex": [
       "A data.frame: 9 × 3\n",
       "\\begin{tabular}{lll}\n",
       " country & year & avgtemp\\\\\n",
       " <fct> & <int> & <dbl>\\\\\n",
       "\\hline\n",
       "\t Sweden  & 1994 & 11\\\\\n",
       "\t Denmark & 1994 &  4\\\\\n",
       "\t Norway  & 1994 &  5\\\\\n",
       "\t Sweden  & 1995 &  3\\\\\n",
       "\t Denmark & 1995 &  7\\\\\n",
       "\t Norway  & 1995 &  6\\\\\n",
       "\t Sweden  & 1996 &  8\\\\\n",
       "\t Denmark & 1996 &  6\\\\\n",
       "\t Norway  & 1996 &  6\\\\\n",
       "\\end{tabular}\n"
      ],
      "text/markdown": [
       "\n",
       "A data.frame: 9 × 3\n",
       "\n",
       "| country &lt;fct&gt; | year &lt;int&gt; | avgtemp &lt;dbl&gt; |\n",
       "|---|---|---|\n",
       "| Sweden  | 1994 | 11 |\n",
       "| Denmark | 1994 |  4 |\n",
       "| Norway  | 1994 |  5 |\n",
       "| Sweden  | 1995 |  3 |\n",
       "| Denmark | 1995 |  7 |\n",
       "| Norway  | 1995 |  6 |\n",
       "| Sweden  | 1996 |  8 |\n",
       "| Denmark | 1996 |  6 |\n",
       "| Norway  | 1996 |  6 |\n",
       "\n"
      ],
      "text/plain": [
       "  country year avgtemp\n",
       "1 Sweden  1994 11     \n",
       "2 Denmark 1994  4     \n",
       "3 Norway  1994  5     \n",
       "4 Sweden  1995  3     \n",
       "5 Denmark 1995  7     \n",
       "6 Norway  1995  6     \n",
       "7 Sweden  1996  8     \n",
       "8 Denmark 1996  6     \n",
       "9 Norway  1996  6     "
      ]
     },
     "metadata": {},
     "output_type": "display_data"
    },
    {
     "data": {
      "text/html": [
       "<table class=\"dataframe\">\n",
       "<caption>A data.frame: 3 × 4</caption>\n",
       "<thead>\n",
       "\t<tr><th scope=col>country</th><th scope=col>avgtemp.1994</th><th scope=col>avgtemp.1995</th><th scope=col>avgtemp.1996</th></tr>\n",
       "\t<tr><th scope=col>&lt;chr&gt;</th><th scope=col>&lt;dbl&gt;</th><th scope=col>&lt;dbl&gt;</th><th scope=col>&lt;dbl&gt;</th></tr>\n",
       "</thead>\n",
       "<tbody>\n",
       "\t<tr><td>Sweden </td><td>11</td><td>3</td><td>8</td></tr>\n",
       "\t<tr><td>Denmark</td><td> 4</td><td>7</td><td>6</td></tr>\n",
       "\t<tr><td>Norway </td><td> 5</td><td>6</td><td>6</td></tr>\n",
       "</tbody>\n",
       "</table>\n"
      ],
      "text/latex": [
       "A data.frame: 3 × 4\n",
       "\\begin{tabular}{llll}\n",
       " country & avgtemp.1994 & avgtemp.1995 & avgtemp.1996\\\\\n",
       " <chr> & <dbl> & <dbl> & <dbl>\\\\\n",
       "\\hline\n",
       "\t Sweden  & 11 & 3 & 8\\\\\n",
       "\t Denmark &  4 & 7 & 6\\\\\n",
       "\t Norway  &  5 & 6 & 6\\\\\n",
       "\\end{tabular}\n"
      ],
      "text/markdown": [
       "\n",
       "A data.frame: 3 × 4\n",
       "\n",
       "| country &lt;chr&gt; | avgtemp.1994 &lt;dbl&gt; | avgtemp.1995 &lt;dbl&gt; | avgtemp.1996 &lt;dbl&gt; |\n",
       "|---|---|---|---|\n",
       "| Sweden  | 11 | 3 | 8 |\n",
       "| Denmark |  4 | 7 | 6 |\n",
       "| Norway  |  5 | 6 | 6 |\n",
       "\n"
      ],
      "text/plain": [
       "  country avgtemp.1994 avgtemp.1995 avgtemp.1996\n",
       "1 Sweden  11           3            8           \n",
       "2 Denmark  4           7            6           \n",
       "3 Norway   5           6            6           "
      ]
     },
     "metadata": {},
     "output_type": "display_data"
    }
   ],
   "source": [
    "# Create long dataset\n",
    "country_long <- data.frame(\n",
    "    expand.grid(country = c(\"Sweden\", \"Denmark\", \"Norway\"), year = 1994:1996),\n",
    "    avgtemp = round(runif(9, 3, 12), 0)\n",
    "    )\n",
    "country_long\n",
    "\n",
    "# Create wide dataset\n",
    "country_wide <- data.frame(\n",
    "    country = c(\"Sweden\", \"Denmark\", \"Norway\"),\n",
    "    avgtemp.1994 = country_long$avgtemp[1:3],\n",
    "    avgtemp.1995 = country_long$avgtemp[4:6],\n",
    "    avgtemp.1996 = country_long$avgtemp[7:9])\n",
    "country_wide "
   ]
  },
  {
   "cell_type": "markdown",
   "id": "d97ec829",
   "metadata": {},
   "source": [
    "As is obvious, the long dataset separates the unit of analysis (country-year)\n",
    "into two separate variables. The wide dataset combines one of the keys (`year`)\n",
    "with the value variable (`avgtemp`)."
   ]
  },
  {
   "cell_type": "markdown",
   "id": "bc343165",
   "metadata": {},
   "source": [
    "## A case for long data\n",
    "\n",
    "\n",
    "There are many reasons to prefer datasets structured in long\n",
    "form. Repeating some of the points made in Hadley Wickham's\n",
    "[excellent paper on the topic](http://vita.had.co.nz/papers/tidy-data.html),\n",
    "here are three reasons why you should attempt to structure your data\n",
    "in long form:\n",
    "\n",
    "1. If you have many value variables, it is difficult to summarize\n",
    "wide-form datasets at a glance (which in turn makes it hard to identify\n",
    "mistakes in the data). For example, imagine we have a dataset with 50 years\n",
    "and 10 value variables of interest --- this would result in 500 columns in wide form.\n",
    "Summarizing each column to look for strange observations, or simply understanding\n",
    "which variables are included in the dataset, becomes difficult in this case.\n",
    "\n",
    "2. Structuring data as key-value pairs --- as is done in long-form\n",
    "datasets --- facilitates conceptual clarity. For example, in\n",
    "`country_long` above, it is clear that the unit of analysis is\n",
    "country-year --- or, put differently, that the variables `country` and\n",
    "`year` jointly constitute the key in the dataset. In wide-form datasets,\n",
    "one of the variables that constitutes the unit of analysis is mixed with\n",
    "a variable that holds values. (Read more about this in Hadley's paper referenced\n",
    "above.)\n",
    "\n",
    "3. Long-form datasets are often required for advanced statistical\n",
    "analysis and graphing. For example, if you wanted to run a regression with\n",
    "year and/or country fixed effects, you would have to structure your data\n",
    "in long form. Furthermore, many graphing packages, including `ggplot`,\n",
    "rely on your data being in long form. \n"
   ]
  },
  {
   "cell_type": "markdown",
   "id": "c16fc6e9",
   "metadata": {},
   "source": [
    "## Wide-to-long conversion\n",
    "\n",
    "\n",
    "To illustrate how to convert a dataset from wide to long format, we'll\n",
    "use a UNICEF dataset on under-five child mortality across 196\n",
    "countries. Download the dataset [here](../data/unicef-u5mr.csv); it is\n",
    "based on data that can be found at\n",
    "[www.childmortality.org](http://www.childmortality.org/). The under-five mortality\n",
    "rate is expressed as the number of under-five deaths per 1,000 live births.\n",
    "\n",
    "Set your working directory and read the file: "
   ]
  },
  {
   "cell_type": "code",
   "execution_count": 2,
   "id": "b65b4872",
   "metadata": {
    "tags": [
     "remove_input"
    ]
   },
   "outputs": [],
   "source": [
    "u5mr <- read.csv(\"data/unicef-u5mr.csv\")"
   ]
  },
  {
   "cell_type": "markdown",
   "id": "1d08abe6",
   "metadata": {},
   "source": [
    "This dataset has 196 rows, one for each country, and 67 variables:  "
   ]
  },
  {
   "cell_type": "code",
   "execution_count": 3,
   "id": "4a238e12",
   "metadata": {},
   "outputs": [
    {
     "data": {
      "text/html": [
       "<style>\n",
       ".list-inline {list-style: none; margin:0; padding: 0}\n",
       ".list-inline>li {display: inline-block}\n",
       ".list-inline>li:not(:last-child)::after {content: \"\\00b7\"; padding: 0 .5ex}\n",
       "</style>\n",
       "<ol class=list-inline><li>196</li><li>67</li></ol>\n"
      ],
      "text/latex": [
       "\\begin{enumerate*}\n",
       "\\item 196\n",
       "\\item 67\n",
       "\\end{enumerate*}\n"
      ],
      "text/markdown": [
       "1. 196\n",
       "2. 67\n",
       "\n",
       "\n"
      ],
      "text/plain": [
       "[1] 196  67"
      ]
     },
     "metadata": {},
     "output_type": "display_data"
    },
    {
     "data": {
      "text/html": [
       "<style>\n",
       ".list-inline {list-style: none; margin:0; padding: 0}\n",
       ".list-inline>li {display: inline-block}\n",
       ".list-inline>li:not(:last-child)::after {content: \"\\00b7\"; padding: 0 .5ex}\n",
       "</style>\n",
       "<ol class=list-inline><li>'CountryName'</li><li>'U5MR.1950'</li><li>'U5MR.1951'</li><li>'U5MR.1952'</li><li>'U5MR.1953'</li><li>'U5MR.1954'</li><li>'U5MR.1955'</li><li>'U5MR.1956'</li><li>'U5MR.1957'</li><li>'U5MR.1958'</li><li>'U5MR.1959'</li><li>'U5MR.1960'</li><li>'U5MR.1961'</li><li>'U5MR.1962'</li><li>'U5MR.1963'</li><li>'U5MR.1964'</li><li>'U5MR.1965'</li><li>'U5MR.1966'</li><li>'U5MR.1967'</li><li>'U5MR.1968'</li><li>'U5MR.1969'</li><li>'U5MR.1970'</li><li>'U5MR.1971'</li><li>'U5MR.1972'</li><li>'U5MR.1973'</li><li>'U5MR.1974'</li><li>'U5MR.1975'</li><li>'U5MR.1976'</li><li>'U5MR.1977'</li><li>'U5MR.1978'</li><li>'U5MR.1979'</li><li>'U5MR.1980'</li><li>'U5MR.1981'</li><li>'U5MR.1982'</li><li>'U5MR.1983'</li><li>'U5MR.1984'</li><li>'U5MR.1985'</li><li>'U5MR.1986'</li><li>'U5MR.1987'</li><li>'U5MR.1988'</li><li>'U5MR.1989'</li><li>'U5MR.1990'</li><li>'U5MR.1991'</li><li>'U5MR.1992'</li><li>'U5MR.1993'</li><li>'U5MR.1994'</li><li>'U5MR.1995'</li><li>'U5MR.1996'</li><li>'U5MR.1997'</li><li>'U5MR.1998'</li><li>'U5MR.1999'</li><li>'U5MR.2000'</li><li>'U5MR.2001'</li><li>'U5MR.2002'</li><li>'U5MR.2003'</li><li>'U5MR.2004'</li><li>'U5MR.2005'</li><li>'U5MR.2006'</li><li>'U5MR.2007'</li><li>'U5MR.2008'</li><li>'U5MR.2009'</li><li>'U5MR.2010'</li><li>'U5MR.2011'</li><li>'U5MR.2012'</li><li>'U5MR.2013'</li><li>'U5MR.2014'</li><li>'U5MR.2015'</li></ol>\n"
      ],
      "text/latex": [
       "\\begin{enumerate*}\n",
       "\\item 'CountryName'\n",
       "\\item 'U5MR.1950'\n",
       "\\item 'U5MR.1951'\n",
       "\\item 'U5MR.1952'\n",
       "\\item 'U5MR.1953'\n",
       "\\item 'U5MR.1954'\n",
       "\\item 'U5MR.1955'\n",
       "\\item 'U5MR.1956'\n",
       "\\item 'U5MR.1957'\n",
       "\\item 'U5MR.1958'\n",
       "\\item 'U5MR.1959'\n",
       "\\item 'U5MR.1960'\n",
       "\\item 'U5MR.1961'\n",
       "\\item 'U5MR.1962'\n",
       "\\item 'U5MR.1963'\n",
       "\\item 'U5MR.1964'\n",
       "\\item 'U5MR.1965'\n",
       "\\item 'U5MR.1966'\n",
       "\\item 'U5MR.1967'\n",
       "\\item 'U5MR.1968'\n",
       "\\item 'U5MR.1969'\n",
       "\\item 'U5MR.1970'\n",
       "\\item 'U5MR.1971'\n",
       "\\item 'U5MR.1972'\n",
       "\\item 'U5MR.1973'\n",
       "\\item 'U5MR.1974'\n",
       "\\item 'U5MR.1975'\n",
       "\\item 'U5MR.1976'\n",
       "\\item 'U5MR.1977'\n",
       "\\item 'U5MR.1978'\n",
       "\\item 'U5MR.1979'\n",
       "\\item 'U5MR.1980'\n",
       "\\item 'U5MR.1981'\n",
       "\\item 'U5MR.1982'\n",
       "\\item 'U5MR.1983'\n",
       "\\item 'U5MR.1984'\n",
       "\\item 'U5MR.1985'\n",
       "\\item 'U5MR.1986'\n",
       "\\item 'U5MR.1987'\n",
       "\\item 'U5MR.1988'\n",
       "\\item 'U5MR.1989'\n",
       "\\item 'U5MR.1990'\n",
       "\\item 'U5MR.1991'\n",
       "\\item 'U5MR.1992'\n",
       "\\item 'U5MR.1993'\n",
       "\\item 'U5MR.1994'\n",
       "\\item 'U5MR.1995'\n",
       "\\item 'U5MR.1996'\n",
       "\\item 'U5MR.1997'\n",
       "\\item 'U5MR.1998'\n",
       "\\item 'U5MR.1999'\n",
       "\\item 'U5MR.2000'\n",
       "\\item 'U5MR.2001'\n",
       "\\item 'U5MR.2002'\n",
       "\\item 'U5MR.2003'\n",
       "\\item 'U5MR.2004'\n",
       "\\item 'U5MR.2005'\n",
       "\\item 'U5MR.2006'\n",
       "\\item 'U5MR.2007'\n",
       "\\item 'U5MR.2008'\n",
       "\\item 'U5MR.2009'\n",
       "\\item 'U5MR.2010'\n",
       "\\item 'U5MR.2011'\n",
       "\\item 'U5MR.2012'\n",
       "\\item 'U5MR.2013'\n",
       "\\item 'U5MR.2014'\n",
       "\\item 'U5MR.2015'\n",
       "\\end{enumerate*}\n"
      ],
      "text/markdown": [
       "1. 'CountryName'\n",
       "2. 'U5MR.1950'\n",
       "3. 'U5MR.1951'\n",
       "4. 'U5MR.1952'\n",
       "5. 'U5MR.1953'\n",
       "6. 'U5MR.1954'\n",
       "7. 'U5MR.1955'\n",
       "8. 'U5MR.1956'\n",
       "9. 'U5MR.1957'\n",
       "10. 'U5MR.1958'\n",
       "11. 'U5MR.1959'\n",
       "12. 'U5MR.1960'\n",
       "13. 'U5MR.1961'\n",
       "14. 'U5MR.1962'\n",
       "15. 'U5MR.1963'\n",
       "16. 'U5MR.1964'\n",
       "17. 'U5MR.1965'\n",
       "18. 'U5MR.1966'\n",
       "19. 'U5MR.1967'\n",
       "20. 'U5MR.1968'\n",
       "21. 'U5MR.1969'\n",
       "22. 'U5MR.1970'\n",
       "23. 'U5MR.1971'\n",
       "24. 'U5MR.1972'\n",
       "25. 'U5MR.1973'\n",
       "26. 'U5MR.1974'\n",
       "27. 'U5MR.1975'\n",
       "28. 'U5MR.1976'\n",
       "29. 'U5MR.1977'\n",
       "30. 'U5MR.1978'\n",
       "31. 'U5MR.1979'\n",
       "32. 'U5MR.1980'\n",
       "33. 'U5MR.1981'\n",
       "34. 'U5MR.1982'\n",
       "35. 'U5MR.1983'\n",
       "36. 'U5MR.1984'\n",
       "37. 'U5MR.1985'\n",
       "38. 'U5MR.1986'\n",
       "39. 'U5MR.1987'\n",
       "40. 'U5MR.1988'\n",
       "41. 'U5MR.1989'\n",
       "42. 'U5MR.1990'\n",
       "43. 'U5MR.1991'\n",
       "44. 'U5MR.1992'\n",
       "45. 'U5MR.1993'\n",
       "46. 'U5MR.1994'\n",
       "47. 'U5MR.1995'\n",
       "48. 'U5MR.1996'\n",
       "49. 'U5MR.1997'\n",
       "50. 'U5MR.1998'\n",
       "51. 'U5MR.1999'\n",
       "52. 'U5MR.2000'\n",
       "53. 'U5MR.2001'\n",
       "54. 'U5MR.2002'\n",
       "55. 'U5MR.2003'\n",
       "56. 'U5MR.2004'\n",
       "57. 'U5MR.2005'\n",
       "58. 'U5MR.2006'\n",
       "59. 'U5MR.2007'\n",
       "60. 'U5MR.2008'\n",
       "61. 'U5MR.2009'\n",
       "62. 'U5MR.2010'\n",
       "63. 'U5MR.2011'\n",
       "64. 'U5MR.2012'\n",
       "65. 'U5MR.2013'\n",
       "66. 'U5MR.2014'\n",
       "67. 'U5MR.2015'\n",
       "\n",
       "\n"
      ],
      "text/plain": [
       " [1] \"CountryName\" \"U5MR.1950\"   \"U5MR.1951\"   \"U5MR.1952\"   \"U5MR.1953\"  \n",
       " [6] \"U5MR.1954\"   \"U5MR.1955\"   \"U5MR.1956\"   \"U5MR.1957\"   \"U5MR.1958\"  \n",
       "[11] \"U5MR.1959\"   \"U5MR.1960\"   \"U5MR.1961\"   \"U5MR.1962\"   \"U5MR.1963\"  \n",
       "[16] \"U5MR.1964\"   \"U5MR.1965\"   \"U5MR.1966\"   \"U5MR.1967\"   \"U5MR.1968\"  \n",
       "[21] \"U5MR.1969\"   \"U5MR.1970\"   \"U5MR.1971\"   \"U5MR.1972\"   \"U5MR.1973\"  \n",
       "[26] \"U5MR.1974\"   \"U5MR.1975\"   \"U5MR.1976\"   \"U5MR.1977\"   \"U5MR.1978\"  \n",
       "[31] \"U5MR.1979\"   \"U5MR.1980\"   \"U5MR.1981\"   \"U5MR.1982\"   \"U5MR.1983\"  \n",
       "[36] \"U5MR.1984\"   \"U5MR.1985\"   \"U5MR.1986\"   \"U5MR.1987\"   \"U5MR.1988\"  \n",
       "[41] \"U5MR.1989\"   \"U5MR.1990\"   \"U5MR.1991\"   \"U5MR.1992\"   \"U5MR.1993\"  \n",
       "[46] \"U5MR.1994\"   \"U5MR.1995\"   \"U5MR.1996\"   \"U5MR.1997\"   \"U5MR.1998\"  \n",
       "[51] \"U5MR.1999\"   \"U5MR.2000\"   \"U5MR.2001\"   \"U5MR.2002\"   \"U5MR.2003\"  \n",
       "[56] \"U5MR.2004\"   \"U5MR.2005\"   \"U5MR.2006\"   \"U5MR.2007\"   \"U5MR.2008\"  \n",
       "[61] \"U5MR.2009\"   \"U5MR.2010\"   \"U5MR.2011\"   \"U5MR.2012\"   \"U5MR.2013\"  \n",
       "[66] \"U5MR.2014\"   \"U5MR.2015\"  "
      ]
     },
     "metadata": {},
     "output_type": "display_data"
    }
   ],
   "source": [
    "dim(u5mr) #dimensions of the data frame\n",
    "names(u5mr) #the variable names"
   ]
  },
  {
   "cell_type": "markdown",
   "id": "3e1fcf81",
   "metadata": {},
   "source": [
    "Let's convert it to long format, where the unit of analysis is\n",
    "country-year. That is, we'll have three variables indicating country,\n",
    "year, and U5MR. This can be done using `gather()` in the `tidyr`\n",
    "package. "
   ]
  },
  {
   "cell_type": "code",
   "execution_count": 4,
   "id": "25dee686",
   "metadata": {},
   "outputs": [
    {
     "name": "stderr",
     "output_type": "stream",
     "text": [
      "Loading required package: tidyr\n",
      "\n"
     ]
    },
    {
     "data": {
      "text/html": [
       "<table class=\"dataframe\">\n",
       "<caption>A data.frame: 6 × 3</caption>\n",
       "<thead>\n",
       "\t<tr><th></th><th scope=col>CountryName</th><th scope=col>year</th><th scope=col>u5mr</th></tr>\n",
       "\t<tr><th></th><th scope=col>&lt;chr&gt;</th><th scope=col>&lt;chr&gt;</th><th scope=col>&lt;dbl&gt;</th></tr>\n",
       "</thead>\n",
       "<tbody>\n",
       "\t<tr><th scope=row>12931</th><td>Uruguay   </td><td>U5MR.2015</td><td>10.1</td></tr>\n",
       "\t<tr><th scope=row>12932</th><td>Uzbekistan</td><td>U5MR.2015</td><td>39.1</td></tr>\n",
       "\t<tr><th scope=row>12933</th><td>Venezuela </td><td>U5MR.2015</td><td>14.9</td></tr>\n",
       "\t<tr><th scope=row>12934</th><td>Samoa     </td><td>U5MR.2015</td><td>17.5</td></tr>\n",
       "\t<tr><th scope=row>12935</th><td>Yemen     </td><td>U5MR.2015</td><td>41.9</td></tr>\n",
       "\t<tr><th scope=row>12936</th><td>Zambia    </td><td>U5MR.2015</td><td>64.0</td></tr>\n",
       "</tbody>\n",
       "</table>\n"
      ],
      "text/latex": [
       "A data.frame: 6 × 3\n",
       "\\begin{tabular}{r|lll}\n",
       "  & CountryName & year & u5mr\\\\\n",
       "  & <chr> & <chr> & <dbl>\\\\\n",
       "\\hline\n",
       "\t12931 & Uruguay    & U5MR.2015 & 10.1\\\\\n",
       "\t12932 & Uzbekistan & U5MR.2015 & 39.1\\\\\n",
       "\t12933 & Venezuela  & U5MR.2015 & 14.9\\\\\n",
       "\t12934 & Samoa      & U5MR.2015 & 17.5\\\\\n",
       "\t12935 & Yemen      & U5MR.2015 & 41.9\\\\\n",
       "\t12936 & Zambia     & U5MR.2015 & 64.0\\\\\n",
       "\\end{tabular}\n"
      ],
      "text/markdown": [
       "\n",
       "A data.frame: 6 × 3\n",
       "\n",
       "| <!--/--> | CountryName &lt;chr&gt; | year &lt;chr&gt; | u5mr &lt;dbl&gt; |\n",
       "|---|---|---|---|\n",
       "| 12931 | Uruguay    | U5MR.2015 | 10.1 |\n",
       "| 12932 | Uzbekistan | U5MR.2015 | 39.1 |\n",
       "| 12933 | Venezuela  | U5MR.2015 | 14.9 |\n",
       "| 12934 | Samoa      | U5MR.2015 | 17.5 |\n",
       "| 12935 | Yemen      | U5MR.2015 | 41.9 |\n",
       "| 12936 | Zambia     | U5MR.2015 | 64.0 |\n",
       "\n"
      ],
      "text/plain": [
       "      CountryName year      u5mr\n",
       "12931 Uruguay     U5MR.2015 10.1\n",
       "12932 Uzbekistan  U5MR.2015 39.1\n",
       "12933 Venezuela   U5MR.2015 14.9\n",
       "12934 Samoa       U5MR.2015 17.5\n",
       "12935 Yemen       U5MR.2015 41.9\n",
       "12936 Zambia      U5MR.2015 64.0"
      ]
     },
     "metadata": {},
     "output_type": "display_data"
    }
   ],
   "source": [
    "require(tidyr)\n",
    "u5mr_long <- u5mr %>% gather(year, u5mr, U5MR.1950:U5MR.2015)\n",
    "tail(u5mr_long)"
   ]
  },
  {
   "cell_type": "markdown",
   "id": "ed6a12a4",
   "metadata": {},
   "source": [
    "`gather()` takes three arguments. The first two specify a key-value\n",
    "pair: year is the key and u5mr the value. The third argument specifies\n",
    "which variables in the original data to convert into the key-value\n",
    "combination (in this case, all variables from `U5MR.1950` to\n",
    "`U5MR.2015`).\n",
    "\n",
    "Note that it would be better if `year` indicated years as numeric\n",
    "values. This only requires one more line of code, which uses\n",
    "`mutate()` from the `dplyr` package, `gsub()` to remove instances of\n",
    "\"`U5MR.`\", and `as.numeric()` to convert the variable from character\n",
    "to numeric."
   ]
  },
  {
   "cell_type": "code",
   "execution_count": 5,
   "id": "e70edf1a",
   "metadata": {},
   "outputs": [
    {
     "name": "stderr",
     "output_type": "stream",
     "text": [
      "Loading required package: dplyr\n",
      "\n"
     ]
    },
    {
     "name": "stderr",
     "output_type": "stream",
     "text": [
      "\n",
      "Attaching package: ‘dplyr’\n",
      "\n",
      "\n"
     ]
    },
    {
     "name": "stderr",
     "output_type": "stream",
     "text": [
      "The following objects are masked from ‘package:stats’:\n",
      "\n",
      "    filter, lag\n",
      "\n",
      "\n"
     ]
    },
    {
     "name": "stderr",
     "output_type": "stream",
     "text": [
      "The following objects are masked from ‘package:base’:\n",
      "\n",
      "    intersect, setdiff, setequal, union\n",
      "\n",
      "\n"
     ]
    },
    {
     "data": {
      "text/html": [
       "<table class=\"dataframe\">\n",
       "<caption>A data.frame: 6 × 3</caption>\n",
       "<thead>\n",
       "\t<tr><th></th><th scope=col>CountryName</th><th scope=col>year</th><th scope=col>u5mr</th></tr>\n",
       "\t<tr><th></th><th scope=col>&lt;chr&gt;</th><th scope=col>&lt;dbl&gt;</th><th scope=col>&lt;dbl&gt;</th></tr>\n",
       "</thead>\n",
       "<tbody>\n",
       "\t<tr><th scope=row>12931</th><td>Uruguay   </td><td>2015</td><td>10.1</td></tr>\n",
       "\t<tr><th scope=row>12932</th><td>Uzbekistan</td><td>2015</td><td>39.1</td></tr>\n",
       "\t<tr><th scope=row>12933</th><td>Venezuela </td><td>2015</td><td>14.9</td></tr>\n",
       "\t<tr><th scope=row>12934</th><td>Samoa     </td><td>2015</td><td>17.5</td></tr>\n",
       "\t<tr><th scope=row>12935</th><td>Yemen     </td><td>2015</td><td>41.9</td></tr>\n",
       "\t<tr><th scope=row>12936</th><td>Zambia    </td><td>2015</td><td>64.0</td></tr>\n",
       "</tbody>\n",
       "</table>\n"
      ],
      "text/latex": [
       "A data.frame: 6 × 3\n",
       "\\begin{tabular}{r|lll}\n",
       "  & CountryName & year & u5mr\\\\\n",
       "  & <chr> & <dbl> & <dbl>\\\\\n",
       "\\hline\n",
       "\t12931 & Uruguay    & 2015 & 10.1\\\\\n",
       "\t12932 & Uzbekistan & 2015 & 39.1\\\\\n",
       "\t12933 & Venezuela  & 2015 & 14.9\\\\\n",
       "\t12934 & Samoa      & 2015 & 17.5\\\\\n",
       "\t12935 & Yemen      & 2015 & 41.9\\\\\n",
       "\t12936 & Zambia     & 2015 & 64.0\\\\\n",
       "\\end{tabular}\n"
      ],
      "text/markdown": [
       "\n",
       "A data.frame: 6 × 3\n",
       "\n",
       "| <!--/--> | CountryName &lt;chr&gt; | year &lt;dbl&gt; | u5mr &lt;dbl&gt; |\n",
       "|---|---|---|---|\n",
       "| 12931 | Uruguay    | 2015 | 10.1 |\n",
       "| 12932 | Uzbekistan | 2015 | 39.1 |\n",
       "| 12933 | Venezuela  | 2015 | 14.9 |\n",
       "| 12934 | Samoa      | 2015 | 17.5 |\n",
       "| 12935 | Yemen      | 2015 | 41.9 |\n",
       "| 12936 | Zambia     | 2015 | 64.0 |\n",
       "\n"
      ],
      "text/plain": [
       "      CountryName year u5mr\n",
       "12931 Uruguay     2015 10.1\n",
       "12932 Uzbekistan  2015 39.1\n",
       "12933 Venezuela   2015 14.9\n",
       "12934 Samoa       2015 17.5\n",
       "12935 Yemen       2015 41.9\n",
       "12936 Zambia      2015 64.0"
      ]
     },
     "metadata": {},
     "output_type": "display_data"
    }
   ],
   "source": [
    "require(dplyr)\n",
    "u5mr_long <- u5mr %>%\n",
    "    gather(year, u5mr, U5MR.1950:U5MR.2015) %>%\n",
    "    mutate(year = as.numeric(gsub(\"U5MR.\", \"\", year)))\n",
    "tail(u5mr_long)"
   ]
  },
  {
   "cell_type": "markdown",
   "id": "b538b9bb",
   "metadata": {},
   "source": [
    "Learn more about `gather()` and other excellent `tidyr` functions that\n",
    "facilitate tidy data\n",
    "[here](http://blog.rstudio.org/2014/07/22/introducing-tidyr/) and\n",
    "[here](http://blog.rstudio.org/2015/09/13/tidyr-0-3-0/)."
   ]
  },
  {
   "cell_type": "markdown",
   "id": "0f9bef2f",
   "metadata": {},
   "source": [
    "## Exercises\n",
    "\n",
    "\n",
    "Go to [www.childmortality.org](http://www.childmortality.org/) and\n",
    "download the dataset under \"Estimates for under-five, infant and\n",
    "neonatal mortality\".  (You can also download it\n",
    "[here](../data/RatesDeaths_AllIndicators.xlsx).)  The dataset is in\n",
    "wide form and contains six value variables of interest: under-five\n",
    "(0-4 years) mortality, infant (0-1 years) mortality, neonatal (0-1\n",
    "month) mortality, as well as the number of under-five, infant, and\n",
    "neonatal deaths. "
   ]
  },
  {
   "cell_type": "markdown",
   "id": "5da3156b",
   "metadata": {},
   "source": [
    "1. Read the dataset into R. Note that it is in .xlsx format --- there\n",
    "are R packages that will allow you to read such files, or you can\n",
    "convert it to .csv using software such as Excel and then use\n",
    "`read.csv()`. Note that you don't need the first few rows of the\n",
    "dataset.\n",
    "\n",
    "2. Subset the dataset to the median estimate for each country (i.e.,\n",
    "drop rows representing lower and upper uncertainty bounds).\n",
    "\n",
    "3. Convert the dataset to long form. The final dataset should have\n",
    "four variables:\n",
    "* `country` (a character variable with the country name)\n",
    "* `year` (a numeric variable with the year)\n",
    "* `type` (a character or factor variable with six categories: \"U5MR\", \"IMR\", \"NMR\",\n",
    "\"Under five deaths\", \"Infant deaths\", and \"Neonatal deaths\").\n",
    "* `value` (a numeric variable with the value for the given country, year, and type)\n",
    "\n",
    "<div class=\"indent\">\n",
    "\n",
    "For example, here are what 12 observations for Afghanistan (displaying\n",
    "only years 1990-91) should look like:"
   ]
  },
  {
   "cell_type": "markdown",
   "id": "6b7a4802",
   "metadata": {
    "tags": [
     "remove_input"
    ]
   },
   "source": [
    "\n",
    "read.csv(\"data/unicef-all.csv\") %>%\n",
    "    filter(CountryName == \"Afghanistan\", Uncertainty.bounds == \"Median\") %>%\n",
    "    select(CountryName, contains(\"1990\"), contains(\"1991\")) %>%\n",
    "    gather(type, value, U5MR.1990:Neonatal.Deaths.1991) %>%\n",
    "    mutate(year = c(rep(1990, 6), rep(1991, 6)),\n",
    "           type = rep(c(\"U5MR\", \"IMR\", \"NMR\",\n",
    "               \"Under five deaths\", \"Infant deaths\", \"Neonatal deaths\"), 2)) %>%\n",
    "    select(country = CountryName, year, type, value)\n"
   ]
  },
  {
   "cell_type": "markdown",
   "id": "22f0fb3b",
   "metadata": {},
   "source": [
    "</div>\n",
    "\n",
    "4. How many under-five, infant, and neonatal deaths occurred in total in the world\n",
    "in years 1990, 1995, 2000, 2005, and 2015? (Hint: see the tutorial on [collapsing data](../collapsing-data).)\n",
    "\n"
   ]
  }
 ],
 "metadata": {
  "jupytext": {
   "cell_metadata_filter": "tags,eval,-all",
   "main_language": "R",
   "notebook_metadata_filter": "-all"
  },
  "kernelspec": {
   "display_name": "R",
   "language": "R",
   "name": "ir"
  },
  "language_info": {
   "codemirror_mode": "r",
   "file_extension": ".r",
   "mimetype": "text/x-r-source",
   "name": "R",
   "pygments_lexer": "r",
   "version": "4.1.0"
  }
 },
 "nbformat": 4,
 "nbformat_minor": 5
}