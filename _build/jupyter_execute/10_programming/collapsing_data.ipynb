{
 "cells": [
  {
   "cell_type": "markdown",
   "id": "233a62f3",
   "metadata": {},
   "source": [
    "# Collapsing Data \n",
    "\n",
    "**PRELIMINARY SITE DRAFT. MUCH WORK TO BE DONE!**\n",
    "\n",
    "This tutorial explains how to collapse data in R. Collapsing means using one or several *grouping variables* to find summary statistics --- mean, median, etc. --- for different categories in your data. For example, if you have yearly income data for the 50 U.S. states over a 10-year period (i.e., you have 500 data points), you may want to know what the mean income was in each state (collapsing the data to 50 data points) or in each year (10 data points). Or you may want to collapse the data by year *and* U.S. region, say, South v. non-South (20 data points). Like the [tutorial on modifying data](modifying-data.ipynb) this tutorial draws on a set of intuitive and elegant functions from the `dplyr` package.\n"
   ]
  },
  {
   "cell_type": "markdown",
   "id": "d9d4bcec",
   "metadata": {},
   "source": [
    "\n",
    "Before we begin, let's load the `dplyr` package. We'll make particular\n",
    "use of two functions from this package: `group_by` and\n",
    "`summarize`. We'll also make use of chaining, which you can read more\n",
    "about in the tutorial on\n",
    "[modifying data](../modifying-data/#chaining)."
   ]
  },
  {
   "cell_type": "code",
   "execution_count": 1,
   "id": "cb79be2c",
   "metadata": {},
   "outputs": [
    {
     "name": "stderr",
     "output_type": "stream",
     "text": [
      "Loading required package: dplyr\n",
      "\n"
     ]
    },
    {
     "name": "stderr",
     "output_type": "stream",
     "text": [
      "Warning message:\n",
      "“replacing previous import ‘lifecycle::last_warnings’ by ‘rlang::last_warnings’ when loading ‘tibble’”\n"
     ]
    },
    {
     "name": "stderr",
     "output_type": "stream",
     "text": [
      "\n",
      "Attaching package: ‘dplyr’\n",
      "\n",
      "\n"
     ]
    },
    {
     "name": "stderr",
     "output_type": "stream",
     "text": [
      "The following objects are masked from ‘package:stats’:\n",
      "\n",
      "    filter, lag\n",
      "\n",
      "\n"
     ]
    },
    {
     "name": "stderr",
     "output_type": "stream",
     "text": [
      "The following objects are masked from ‘package:base’:\n",
      "\n",
      "    intersect, setdiff, setequal, union\n",
      "\n",
      "\n"
     ]
    }
   ],
   "source": [
    "require(dplyr)"
   ]
  },
  {
   "cell_type": "markdown",
   "id": "70e53471",
   "metadata": {},
   "source": [
    "## One grouping variable\n",
    "\n",
    "To illustrate how collapsing works, let's create a data frame with\n",
    "three variables: `student` (an id variable that uniquely\n",
    "identifies each row); `school` (a grouping variable indicating the\n",
    "student's school); and `sat_score` (the student's SAT score). "
   ]
  },
  {
   "cell_type": "code",
   "execution_count": 2,
   "id": "3c539f41",
   "metadata": {},
   "outputs": [],
   "source": [
    "grades <- data.frame(\n",
    "    student = c(\"al\", \"bo\", \"cindy\", \"dan\", \"ella\", \"frank\", \"gina\", \"henry\"), \n",
    "    school = c(rep(\"stanford\", 4), rep(\"berkley\", 4)),\n",
    "    sat_score = c(750, 730, 690, 800, 780, 720, 730, 700)\n",
    "    )"
   ]
  },
  {
   "cell_type": "markdown",
   "id": "c94533a6",
   "metadata": {},
   "source": [
    "Which school --- Stanford or Berkley --- attracts students with\n",
    "a higher SAT score? Based on my (in reality-not-so-random) random\n",
    "assignment of scores, it appears to be Stanford: "
   ]
  },
  {
   "cell_type": "code",
   "execution_count": 3,
   "id": "60feea9a",
   "metadata": {},
   "outputs": [
    {
     "data": {
      "text/html": [
       "<table class=\"dataframe\">\n",
       "<caption>A tibble: 2 × 2</caption>\n",
       "<thead>\n",
       "\t<tr><th scope=col>school</th><th scope=col>mean(sat_score)</th></tr>\n",
       "\t<tr><th scope=col>&lt;chr&gt;</th><th scope=col>&lt;dbl&gt;</th></tr>\n",
       "</thead>\n",
       "<tbody>\n",
       "\t<tr><td>berkley </td><td>732.5</td></tr>\n",
       "\t<tr><td>stanford</td><td>742.5</td></tr>\n",
       "</tbody>\n",
       "</table>\n"
      ],
      "text/latex": [
       "A tibble: 2 × 2\n",
       "\\begin{tabular}{ll}\n",
       " school & mean(sat\\_score)\\\\\n",
       " <chr> & <dbl>\\\\\n",
       "\\hline\n",
       "\t berkley  & 732.5\\\\\n",
       "\t stanford & 742.5\\\\\n",
       "\\end{tabular}\n"
      ],
      "text/markdown": [
       "\n",
       "A tibble: 2 × 2\n",
       "\n",
       "| school &lt;chr&gt; | mean(sat_score) &lt;dbl&gt; |\n",
       "|---|---|\n",
       "| berkley  | 732.5 |\n",
       "| stanford | 742.5 |\n",
       "\n"
      ],
      "text/plain": [
       "  school   mean(sat_score)\n",
       "1 berkley  732.5          \n",
       "2 stanford 742.5          "
      ]
     },
     "metadata": {},
     "output_type": "display_data"
    }
   ],
   "source": [
    "grades %>%\n",
    "    group_by(school) %>%\n",
    "    summarize(mean(sat_score))"
   ]
  },
  {
   "cell_type": "markdown",
   "id": "09f072a5",
   "metadata": {},
   "source": [
    "In words, the mean SAT score for Berkley students is 732.5, and the mean\n",
    "for Stanford students is 742.5. (`dplyr` also outputs some information about\n",
    "the new data frame for us, such as its dimensions and the class of each\n",
    "of its variables.)\n",
    "\n",
    "To be clear, here's how `group_by()` and `summarize()` work. First,\n",
    "`group_by()` specifies the grouping variable, i.e., the variable that\n",
    "classifies observations into different clusters. In this case, we're\n",
    "classifying students by the school they attend. Second, `summarize()`\n",
    "specifies what to do with the data points within each cluster.  In\n",
    "this case, we're finding the mean SAT score in each cluster.\n",
    "\n",
    "It's often useful to assign a name to the collapsed variable:"
   ]
  },
  {
   "cell_type": "code",
   "execution_count": 4,
   "id": "9d28747e",
   "metadata": {},
   "outputs": [
    {
     "data": {
      "text/html": [
       "<table class=\"dataframe\">\n",
       "<caption>A tibble: 2 × 2</caption>\n",
       "<thead>\n",
       "\t<tr><th scope=col>school</th><th scope=col>mean_sat</th></tr>\n",
       "\t<tr><th scope=col>&lt;chr&gt;</th><th scope=col>&lt;dbl&gt;</th></tr>\n",
       "</thead>\n",
       "<tbody>\n",
       "\t<tr><td>berkley </td><td>732.5</td></tr>\n",
       "\t<tr><td>stanford</td><td>742.5</td></tr>\n",
       "</tbody>\n",
       "</table>\n"
      ],
      "text/latex": [
       "A tibble: 2 × 2\n",
       "\\begin{tabular}{ll}\n",
       " school & mean\\_sat\\\\\n",
       " <chr> & <dbl>\\\\\n",
       "\\hline\n",
       "\t berkley  & 732.5\\\\\n",
       "\t stanford & 742.5\\\\\n",
       "\\end{tabular}\n"
      ],
      "text/markdown": [
       "\n",
       "A tibble: 2 × 2\n",
       "\n",
       "| school &lt;chr&gt; | mean_sat &lt;dbl&gt; |\n",
       "|---|---|\n",
       "| berkley  | 732.5 |\n",
       "| stanford | 742.5 |\n",
       "\n"
      ],
      "text/plain": [
       "  school   mean_sat\n",
       "1 berkley  732.5   \n",
       "2 stanford 742.5   "
      ]
     },
     "metadata": {},
     "output_type": "display_data"
    }
   ],
   "source": [
    "grades %>%\n",
    "    group_by(school) %>%\n",
    "    summarize(mean_sat = mean(sat_score))"
   ]
  },
  {
   "cell_type": "markdown",
   "id": "2c88c5fa",
   "metadata": {},
   "source": [
    "Also note that you'd often want to save the resulting collapsed\n",
    "data frame to R's memory. Here's how to do this, creating a new\n",
    "object called `grades_clps` with the collapsed data: \n"
   ]
  },
  {
   "cell_type": "code",
   "execution_count": 5,
   "id": "75e0f111",
   "metadata": {
    "lines_to_next_cell": 2
   },
   "outputs": [
    {
     "data": {
      "text/html": [
       "<table class=\"dataframe\">\n",
       "<caption>A tibble: 2 × 2</caption>\n",
       "<thead>\n",
       "\t<tr><th scope=col>school</th><th scope=col>mean_sat</th></tr>\n",
       "\t<tr><th scope=col>&lt;chr&gt;</th><th scope=col>&lt;dbl&gt;</th></tr>\n",
       "</thead>\n",
       "<tbody>\n",
       "\t<tr><td>berkley </td><td>732.5</td></tr>\n",
       "\t<tr><td>stanford</td><td>742.5</td></tr>\n",
       "</tbody>\n",
       "</table>\n"
      ],
      "text/latex": [
       "A tibble: 2 × 2\n",
       "\\begin{tabular}{ll}\n",
       " school & mean\\_sat\\\\\n",
       " <chr> & <dbl>\\\\\n",
       "\\hline\n",
       "\t berkley  & 732.5\\\\\n",
       "\t stanford & 742.5\\\\\n",
       "\\end{tabular}\n"
      ],
      "text/markdown": [
       "\n",
       "A tibble: 2 × 2\n",
       "\n",
       "| school &lt;chr&gt; | mean_sat &lt;dbl&gt; |\n",
       "|---|---|\n",
       "| berkley  | 732.5 |\n",
       "| stanford | 742.5 |\n",
       "\n"
      ],
      "text/plain": [
       "  school   mean_sat\n",
       "1 berkley  732.5   \n",
       "2 stanford 742.5   "
      ]
     },
     "metadata": {},
     "output_type": "display_data"
    }
   ],
   "source": [
    "grades_clps <- grades %>%\n",
    "    group_by(school) %>%\n",
    "    summarize(mean_sat = mean(sat_score))\n",
    "grades_clps"
   ]
  },
  {
   "cell_type": "markdown",
   "id": "ea5a0cfc",
   "metadata": {},
   "source": [
    "## Several grouping variables\n",
    "\n",
    "In the previous example we collapsed the data using only one grouping\n",
    "variable. Collapsing can also be done using several grouping\n",
    "variables. Let's modify the `grades` data frame to illustrate:"
   ]
  },
  {
   "cell_type": "code",
   "execution_count": 6,
   "id": "cb1d35a0",
   "metadata": {},
   "outputs": [
    {
     "data": {
      "text/html": [
       "<table class=\"dataframe\">\n",
       "<caption>A data.frame: 8 × 4</caption>\n",
       "<thead>\n",
       "\t<tr><th scope=col>student</th><th scope=col>school</th><th scope=col>classof</th><th scope=col>sat_score</th></tr>\n",
       "\t<tr><th scope=col>&lt;chr&gt;</th><th scope=col>&lt;chr&gt;</th><th scope=col>&lt;dbl&gt;</th><th scope=col>&lt;dbl&gt;</th></tr>\n",
       "</thead>\n",
       "<tbody>\n",
       "\t<tr><td>al   </td><td>stanford</td><td>2017</td><td>750</td></tr>\n",
       "\t<tr><td>bo   </td><td>stanford</td><td>2017</td><td>730</td></tr>\n",
       "\t<tr><td>cindy</td><td>stanford</td><td>2018</td><td>690</td></tr>\n",
       "\t<tr><td>dan  </td><td>stanford</td><td>2018</td><td>800</td></tr>\n",
       "\t<tr><td>ella </td><td>berkley </td><td>2017</td><td>780</td></tr>\n",
       "\t<tr><td>frank</td><td>berkley </td><td>2017</td><td>720</td></tr>\n",
       "\t<tr><td>gina </td><td>berkley </td><td>2018</td><td>730</td></tr>\n",
       "\t<tr><td>henry</td><td>berkley </td><td>2018</td><td>700</td></tr>\n",
       "</tbody>\n",
       "</table>\n"
      ],
      "text/latex": [
       "A data.frame: 8 × 4\n",
       "\\begin{tabular}{llll}\n",
       " student & school & classof & sat\\_score\\\\\n",
       " <chr> & <chr> & <dbl> & <dbl>\\\\\n",
       "\\hline\n",
       "\t al    & stanford & 2017 & 750\\\\\n",
       "\t bo    & stanford & 2017 & 730\\\\\n",
       "\t cindy & stanford & 2018 & 690\\\\\n",
       "\t dan   & stanford & 2018 & 800\\\\\n",
       "\t ella  & berkley  & 2017 & 780\\\\\n",
       "\t frank & berkley  & 2017 & 720\\\\\n",
       "\t gina  & berkley  & 2018 & 730\\\\\n",
       "\t henry & berkley  & 2018 & 700\\\\\n",
       "\\end{tabular}\n"
      ],
      "text/markdown": [
       "\n",
       "A data.frame: 8 × 4\n",
       "\n",
       "| student &lt;chr&gt; | school &lt;chr&gt; | classof &lt;dbl&gt; | sat_score &lt;dbl&gt; |\n",
       "|---|---|---|---|\n",
       "| al    | stanford | 2017 | 750 |\n",
       "| bo    | stanford | 2017 | 730 |\n",
       "| cindy | stanford | 2018 | 690 |\n",
       "| dan   | stanford | 2018 | 800 |\n",
       "| ella  | berkley  | 2017 | 780 |\n",
       "| frank | berkley  | 2017 | 720 |\n",
       "| gina  | berkley  | 2018 | 730 |\n",
       "| henry | berkley  | 2018 | 700 |\n",
       "\n"
      ],
      "text/plain": [
       "  student school   classof sat_score\n",
       "1 al      stanford 2017    750      \n",
       "2 bo      stanford 2017    730      \n",
       "3 cindy   stanford 2018    690      \n",
       "4 dan     stanford 2018    800      \n",
       "5 ella    berkley  2017    780      \n",
       "6 frank   berkley  2017    720      \n",
       "7 gina    berkley  2018    730      \n",
       "8 henry   berkley  2018    700      "
      ]
     },
     "metadata": {},
     "output_type": "display_data"
    }
   ],
   "source": [
    "grades <- data.frame(\n",
    "    student = c(\"al\", \"bo\", \"cindy\", \"dan\", \"ella\", \"frank\", \"gina\", \"henry\"), \n",
    "    school = c(rep(\"stanford\", 4), rep(\"berkley\", 4)),\n",
    "    classof = rep(c(2017, 2017, 2018, 2018), 2), \n",
    "    sat_score = c(750, 730, 690, 800, 780, 720, 730, 700)\n",
    "    )\n",
    "grades"
   ]
  },
  {
   "cell_type": "markdown",
   "id": "b0bb9616",
   "metadata": {},
   "source": [
    "We now have two grouping variables: `school` and `classof`. The latter specifies\n",
    "the expected graduation year for each student.\n",
    "\n",
    "Collapsing by these two grouping variables follows the same logic as above. Just\n",
    "specify the variables to collapse by inside `group_by()`. "
   ]
  },
  {
   "cell_type": "code",
   "execution_count": 7,
   "id": "5aa07f31",
   "metadata": {
    "lines_to_next_cell": 2
   },
   "outputs": [
    {
     "name": "stderr",
     "output_type": "stream",
     "text": [
      "`summarise()` has grouped output by 'school'. You can override using the `.groups` argument.\n"
     ]
    },
    {
     "data": {
      "text/html": [
       "<table class=\"dataframe\">\n",
       "<caption>A grouped_df: 4 × 3</caption>\n",
       "<thead>\n",
       "\t<tr><th scope=col>school</th><th scope=col>classof</th><th scope=col>mean_sat</th></tr>\n",
       "\t<tr><th scope=col>&lt;chr&gt;</th><th scope=col>&lt;dbl&gt;</th><th scope=col>&lt;dbl&gt;</th></tr>\n",
       "</thead>\n",
       "<tbody>\n",
       "\t<tr><td>berkley </td><td>2017</td><td>750</td></tr>\n",
       "\t<tr><td>berkley </td><td>2018</td><td>715</td></tr>\n",
       "\t<tr><td>stanford</td><td>2017</td><td>740</td></tr>\n",
       "\t<tr><td>stanford</td><td>2018</td><td>745</td></tr>\n",
       "</tbody>\n",
       "</table>\n"
      ],
      "text/latex": [
       "A grouped\\_df: 4 × 3\n",
       "\\begin{tabular}{lll}\n",
       " school & classof & mean\\_sat\\\\\n",
       " <chr> & <dbl> & <dbl>\\\\\n",
       "\\hline\n",
       "\t berkley  & 2017 & 750\\\\\n",
       "\t berkley  & 2018 & 715\\\\\n",
       "\t stanford & 2017 & 740\\\\\n",
       "\t stanford & 2018 & 745\\\\\n",
       "\\end{tabular}\n"
      ],
      "text/markdown": [
       "\n",
       "A grouped_df: 4 × 3\n",
       "\n",
       "| school &lt;chr&gt; | classof &lt;dbl&gt; | mean_sat &lt;dbl&gt; |\n",
       "|---|---|---|\n",
       "| berkley  | 2017 | 750 |\n",
       "| berkley  | 2018 | 715 |\n",
       "| stanford | 2017 | 740 |\n",
       "| stanford | 2018 | 745 |\n",
       "\n"
      ],
      "text/plain": [
       "  school   classof mean_sat\n",
       "1 berkley  2017    750     \n",
       "2 berkley  2018    715     \n",
       "3 stanford 2017    740     \n",
       "4 stanford 2018    745     "
      ]
     },
     "metadata": {},
     "output_type": "display_data"
    }
   ],
   "source": [
    "grades %>%\n",
    "    group_by(school, classof) %>%\n",
    "    summarize(mean_sat = mean(sat_score))"
   ]
  },
  {
   "cell_type": "markdown",
   "id": "45cc1fb7",
   "metadata": {},
   "source": [
    "## Additional manipulation\n",
    "\n",
    "One nice thing about using `dplyr` functions for collapsing data is\n",
    "that you can combine them with other data manipulation functions, many\n",
    "of which are covered in a separate tutorial on\n",
    "[modifying data](../modifying-data). The result is elegant code that\n",
    "is easy to debug and relatively quick to execute. Here's an example in\n",
    "which I'm filtering the `grades` data frame to class of 2017 and then\n",
    "collapsing:"
   ]
  },
  {
   "cell_type": "code",
   "execution_count": 8,
   "id": "81c15341",
   "metadata": {},
   "outputs": [
    {
     "data": {
      "text/html": [
       "<table class=\"dataframe\">\n",
       "<caption>A tibble: 2 × 2</caption>\n",
       "<thead>\n",
       "\t<tr><th scope=col>school</th><th scope=col>mean_sat</th></tr>\n",
       "\t<tr><th scope=col>&lt;chr&gt;</th><th scope=col>&lt;dbl&gt;</th></tr>\n",
       "</thead>\n",
       "<tbody>\n",
       "\t<tr><td>berkley </td><td>750</td></tr>\n",
       "\t<tr><td>stanford</td><td>740</td></tr>\n",
       "</tbody>\n",
       "</table>\n"
      ],
      "text/latex": [
       "A tibble: 2 × 2\n",
       "\\begin{tabular}{ll}\n",
       " school & mean\\_sat\\\\\n",
       " <chr> & <dbl>\\\\\n",
       "\\hline\n",
       "\t berkley  & 750\\\\\n",
       "\t stanford & 740\\\\\n",
       "\\end{tabular}\n"
      ],
      "text/markdown": [
       "\n",
       "A tibble: 2 × 2\n",
       "\n",
       "| school &lt;chr&gt; | mean_sat &lt;dbl&gt; |\n",
       "|---|---|\n",
       "| berkley  | 750 |\n",
       "| stanford | 740 |\n",
       "\n"
      ],
      "text/plain": [
       "  school   mean_sat\n",
       "1 berkley  750     \n",
       "2 stanford 740     "
      ]
     },
     "metadata": {},
     "output_type": "display_data"
    }
   ],
   "source": [
    "grades %>%\n",
    "    filter(classof == 2017) %>%\n",
    "    group_by(school) %>%\n",
    "    summarize(mean_sat = mean(sat_score))"
   ]
  },
  {
   "cell_type": "markdown",
   "id": "273a3e87",
   "metadata": {},
   "source": [
    "Here's an example that adds a variable after the collapse (rescaling\n",
    "the mean SAT scores to be between 0 and 100, assuming 800 is the maximum\n",
    "possible score):"
   ]
  },
  {
   "cell_type": "code",
   "execution_count": 9,
   "id": "6650bbfb",
   "metadata": {
    "lines_to_next_cell": 2
   },
   "outputs": [
    {
     "data": {
      "text/html": [
       "<table class=\"dataframe\">\n",
       "<caption>A tibble: 2 × 3</caption>\n",
       "<thead>\n",
       "\t<tr><th scope=col>school</th><th scope=col>mean_sat</th><th scope=col>mean_sat_strd</th></tr>\n",
       "\t<tr><th scope=col>&lt;chr&gt;</th><th scope=col>&lt;dbl&gt;</th><th scope=col>&lt;dbl&gt;</th></tr>\n",
       "</thead>\n",
       "<tbody>\n",
       "\t<tr><td>berkley </td><td>732.5</td><td>91.5625</td></tr>\n",
       "\t<tr><td>stanford</td><td>742.5</td><td>92.8125</td></tr>\n",
       "</tbody>\n",
       "</table>\n"
      ],
      "text/latex": [
       "A tibble: 2 × 3\n",
       "\\begin{tabular}{lll}\n",
       " school & mean\\_sat & mean\\_sat\\_strd\\\\\n",
       " <chr> & <dbl> & <dbl>\\\\\n",
       "\\hline\n",
       "\t berkley  & 732.5 & 91.5625\\\\\n",
       "\t stanford & 742.5 & 92.8125\\\\\n",
       "\\end{tabular}\n"
      ],
      "text/markdown": [
       "\n",
       "A tibble: 2 × 3\n",
       "\n",
       "| school &lt;chr&gt; | mean_sat &lt;dbl&gt; | mean_sat_strd &lt;dbl&gt; |\n",
       "|---|---|---|\n",
       "| berkley  | 732.5 | 91.5625 |\n",
       "| stanford | 742.5 | 92.8125 |\n",
       "\n"
      ],
      "text/plain": [
       "  school   mean_sat mean_sat_strd\n",
       "1 berkley  732.5    91.5625      \n",
       "2 stanford 742.5    92.8125      "
      ]
     },
     "metadata": {},
     "output_type": "display_data"
    }
   ],
   "source": [
    "grades %>%\n",
    "    group_by(school) %>%\n",
    "    summarize(mean_sat = mean(sat_score)) %>%\n",
    "    mutate(mean_sat_strd = (mean_sat / 800) * 100)"
   ]
  },
  {
   "cell_type": "markdown",
   "id": "02b6a572",
   "metadata": {},
   "source": [
    "## Different functions\n",
    "\n",
    "In all the examples above I've used `mean()` inside `summarize()`. Of\n",
    "course you're by no means limited to finding the mean. You can use all of\n",
    "R's built-in functions or write your own function. Here are examples that\n",
    "make use of other common functions:"
   ]
  },
  {
   "cell_type": "code",
   "execution_count": 10,
   "id": "71df919d",
   "metadata": {},
   "outputs": [
    {
     "data": {
      "text/html": [
       "<table class=\"dataframe\">\n",
       "<caption>A tibble: 2 × 6</caption>\n",
       "<thead>\n",
       "\t<tr><th scope=col>school</th><th scope=col>median_sat</th><th scope=col>sd_sat</th><th scope=col>min_sat</th><th scope=col>max_sat</th><th scope=col>dif_maxmin</th></tr>\n",
       "\t<tr><th scope=col>&lt;chr&gt;</th><th scope=col>&lt;dbl&gt;</th><th scope=col>&lt;dbl&gt;</th><th scope=col>&lt;dbl&gt;</th><th scope=col>&lt;dbl&gt;</th><th scope=col>&lt;dbl&gt;</th></tr>\n",
       "</thead>\n",
       "<tbody>\n",
       "\t<tr><td>berkley </td><td>725</td><td>34.03430</td><td>700</td><td>780</td><td> 80</td></tr>\n",
       "\t<tr><td>stanford</td><td>740</td><td>45.73474</td><td>690</td><td>800</td><td>110</td></tr>\n",
       "</tbody>\n",
       "</table>\n"
      ],
      "text/latex": [
       "A tibble: 2 × 6\n",
       "\\begin{tabular}{llllll}\n",
       " school & median\\_sat & sd\\_sat & min\\_sat & max\\_sat & dif\\_maxmin\\\\\n",
       " <chr> & <dbl> & <dbl> & <dbl> & <dbl> & <dbl>\\\\\n",
       "\\hline\n",
       "\t berkley  & 725 & 34.03430 & 700 & 780 &  80\\\\\n",
       "\t stanford & 740 & 45.73474 & 690 & 800 & 110\\\\\n",
       "\\end{tabular}\n"
      ],
      "text/markdown": [
       "\n",
       "A tibble: 2 × 6\n",
       "\n",
       "| school &lt;chr&gt; | median_sat &lt;dbl&gt; | sd_sat &lt;dbl&gt; | min_sat &lt;dbl&gt; | max_sat &lt;dbl&gt; | dif_maxmin &lt;dbl&gt; |\n",
       "|---|---|---|---|---|---|\n",
       "| berkley  | 725 | 34.03430 | 700 | 780 |  80 |\n",
       "| stanford | 740 | 45.73474 | 690 | 800 | 110 |\n",
       "\n"
      ],
      "text/plain": [
       "  school   median_sat sd_sat   min_sat max_sat dif_maxmin\n",
       "1 berkley  725        34.03430 700     780      80       \n",
       "2 stanford 740        45.73474 690     800     110       "
      ]
     },
     "metadata": {},
     "output_type": "display_data"
    }
   ],
   "source": [
    "grades %>%\n",
    "    group_by(school) %>%\n",
    "    summarize(median_sat = median(sat_score),\n",
    "              sd_sat = sd(sat_score), \n",
    "              min_sat = min(sat_score),\n",
    "              max_sat = max(sat_score),\n",
    "              dif_maxmin = max_sat - min_sat)"
   ]
  },
  {
   "cell_type": "markdown",
   "id": "9034cfe5",
   "metadata": {},
   "source": [
    "Here's an example of using your own function:"
   ]
  },
  {
   "cell_type": "code",
   "execution_count": 11,
   "id": "ee97adf1",
   "metadata": {},
   "outputs": [
    {
     "data": {
      "text/html": [
       "<table class=\"dataframe\">\n",
       "<caption>A tibble: 2 × 2</caption>\n",
       "<thead>\n",
       "\t<tr><th scope=col>school</th><th scope=col>dif_maxmin</th></tr>\n",
       "\t<tr><th scope=col>&lt;chr&gt;</th><th scope=col>&lt;dbl&gt;</th></tr>\n",
       "</thead>\n",
       "<tbody>\n",
       "\t<tr><td>berkley </td><td> 80</td></tr>\n",
       "\t<tr><td>stanford</td><td>110</td></tr>\n",
       "</tbody>\n",
       "</table>\n"
      ],
      "text/latex": [
       "A tibble: 2 × 2\n",
       "\\begin{tabular}{ll}\n",
       " school & dif\\_maxmin\\\\\n",
       " <chr> & <dbl>\\\\\n",
       "\\hline\n",
       "\t berkley  &  80\\\\\n",
       "\t stanford & 110\\\\\n",
       "\\end{tabular}\n"
      ],
      "text/markdown": [
       "\n",
       "A tibble: 2 × 2\n",
       "\n",
       "| school &lt;chr&gt; | dif_maxmin &lt;dbl&gt; |\n",
       "|---|---|\n",
       "| berkley  |  80 |\n",
       "| stanford | 110 |\n",
       "\n"
      ],
      "text/plain": [
       "  school   dif_maxmin\n",
       "1 berkley   80       \n",
       "2 stanford 110       "
      ]
     },
     "metadata": {},
     "output_type": "display_data"
    }
   ],
   "source": [
    "maxmindif <- function(x) max(x) - min(x)\n",
    "\n",
    "grades %>%\n",
    "    group_by(school) %>%\n",
    "    summarize(dif_maxmin = maxmindif(sat_score))"
   ]
  },
  {
   "cell_type": "markdown",
   "id": "3763cad1",
   "metadata": {},
   "source": [
    "Lastly, `dplyr` provides a few special functions that can be used\n",
    "within `summarize()`. One very useful special function is `n()`, which\n",
    "provides the number of observations in each cluster:"
   ]
  },
  {
   "cell_type": "code",
   "execution_count": 12,
   "id": "2971250d",
   "metadata": {
    "lines_to_next_cell": 2
   },
   "outputs": [
    {
     "data": {
      "text/html": [
       "<table class=\"dataframe\">\n",
       "<caption>A tibble: 2 × 2</caption>\n",
       "<thead>\n",
       "\t<tr><th scope=col>school</th><th scope=col>no_obs</th></tr>\n",
       "\t<tr><th scope=col>&lt;chr&gt;</th><th scope=col>&lt;int&gt;</th></tr>\n",
       "</thead>\n",
       "<tbody>\n",
       "\t<tr><td>berkley </td><td>4</td></tr>\n",
       "\t<tr><td>stanford</td><td>4</td></tr>\n",
       "</tbody>\n",
       "</table>\n"
      ],
      "text/latex": [
       "A tibble: 2 × 2\n",
       "\\begin{tabular}{ll}\n",
       " school & no\\_obs\\\\\n",
       " <chr> & <int>\\\\\n",
       "\\hline\n",
       "\t berkley  & 4\\\\\n",
       "\t stanford & 4\\\\\n",
       "\\end{tabular}\n"
      ],
      "text/markdown": [
       "\n",
       "A tibble: 2 × 2\n",
       "\n",
       "| school &lt;chr&gt; | no_obs &lt;int&gt; |\n",
       "|---|---|\n",
       "| berkley  | 4 |\n",
       "| stanford | 4 |\n",
       "\n"
      ],
      "text/plain": [
       "  school   no_obs\n",
       "1 berkley  4     \n",
       "2 stanford 4     "
      ]
     },
     "metadata": {},
     "output_type": "display_data"
    }
   ],
   "source": [
    "grades %>%\n",
    "    group_by(school) %>%\n",
    "    summarize(no_obs = n())"
   ]
  },
  {
   "cell_type": "markdown",
   "id": "fe641982",
   "metadata": {},
   "source": [
    "## Exercises\n",
    "\n",
    "\n",
    "1. Read the `world-small.csv` dataset (available\n",
    "[here](../data/world-small.csv)) into R. Get to know the structure of\n",
    "this dataset using functions like `dim()`, `head()`, and `summary()`.\n",
    "\n",
    "2. Find the mean and median GDP per capita and Polity IV score, by\n",
    "region (that is, for each region in the dataset). Also find the number\n",
    "of countries by region.\n",
    "\n",
    "3. Find the mean and median GDP per capita, by region and whether a country\n",
    "is a \"democracy\" or not. For the purpose of this exercise, a country is a\n",
    "\"democracy\" if it has a Polity IV score of 15 or higher.\n",
    "\n",
    "\n",
    "\n",
    "\n",
    "\n",
    "\n",
    "\n",
    "\n",
    "\n",
    "\n",
    "\n",
    "\n",
    "\n",
    "\n"
   ]
  }
 ],
 "metadata": {
  "jupytext": {
   "cell_metadata_filter": "-all",
   "main_language": "R",
   "notebook_metadata_filter": "-all"
  },
  "kernelspec": {
   "display_name": "R",
   "language": "R",
   "name": "ir"
  },
  "language_info": {
   "codemirror_mode": "r",
   "file_extension": ".r",
   "mimetype": "text/x-r-source",
   "name": "R",
   "pygments_lexer": "r",
   "version": "4.1.1"
  }
 },
 "nbformat": 4,
 "nbformat_minor": 5
}