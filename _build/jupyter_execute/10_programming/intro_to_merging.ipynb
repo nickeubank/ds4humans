{
 "cells": [
  {
   "cell_type": "markdown",
   "id": "03468d01",
   "metadata": {},
   "source": [
    "# Intro to Merging\n",
    "\n",
    "This tutorial explains how to combine different datasets through merging. Merging is basically a way of combining the *columns* from one dataset with those of another. \n",
    "\n",
    "To illustrate the kind of situation where you may end up wanting to merge data, suppose that you are interested in how economic development affects democracy across countries, but all you have are two separate datasets, each with data on one of these two outcomes -- say, economic data from the World Bank and political data from the Polity Project. In order to study how these things relate to one another, we need to combine these two data sets.\n",
    "\n",
    "(If you don't care about democracy, just imagine we're talking about something you care about, like urban pollution levels instead of democracy scores! The logic is the same.)\n",
    "\n",
    "In a previous reading, I argued that subsiding data is probably the most important skill you will learn as a data scientist. Being able to subset data carefully makes it possible to study how all sorts of outcomes vary across different groups.\n",
    "\n",
    "Merging, I would argue, is the second most important skill for generating insights in data science. It is hard to overstate the value that comes from bringing together two disparate sources of information and studying how they relate to one another. This may surprise you coming from someone who teaches data science -- most people would assume a data scientist believes value comes from fancy models -- but in my experience, most insights come from documenting simple empirical regularities about the world that nobody has noticed before. We often use more sophisticated statistical modeling in order to evaluate the strength of relationships, and to help us understand what is driving those empirical regularities, but all of that work is secondary to just being able to measure basic features of the world. And merging is key to that process."
   ]
  },
  {
   "cell_type": "markdown",
   "id": "1780111a",
   "metadata": {},
   "source": [
    "## A Merging Example\n",
    "\n",
    "\n",
    "To illustrate merging, let's suppose that we want to do the analysis of the relationship between political outcomes and economic development we described above. Below we create to toy data sets, one with democracy scores (analogous to those you might get from a group like the [Polity Project](http://www.systemicpeace.org/polityproject.html)), and one with economic information (like the type of information you might get from the [World Developing Indicators](https://datatopics.worldbank.org/world-development-indicators/)):"
   ]
  },
  {
   "cell_type": "code",
   "execution_count": 1,
   "id": "19ea59fc",
   "metadata": {},
   "outputs": [
    {
     "data": {
      "text/html": [
       "<table class=\"dataframe\">\n",
       "<caption>A data.frame: 5 × 2</caption>\n",
       "<thead>\n",
       "\t<tr><th scope=col>country</th><th scope=col>democracy_score</th></tr>\n",
       "\t<tr><th scope=col>&lt;chr&gt;</th><th scope=col>&lt;dbl&gt;</th></tr>\n",
       "</thead>\n",
       "<tbody>\n",
       "\t<tr><td>USA    </td><td>19</td></tr>\n",
       "\t<tr><td>Albania</td><td>16</td></tr>\n",
       "\t<tr><td>Turkey </td><td>16</td></tr>\n",
       "\t<tr><td>China  </td><td> 5</td></tr>\n",
       "\t<tr><td>Sudan  </td><td>10</td></tr>\n",
       "</tbody>\n",
       "</table>\n"
      ],
      "text/latex": [
       "A data.frame: 5 × 2\n",
       "\\begin{tabular}{ll}\n",
       " country & democracy\\_score\\\\\n",
       " <chr> & <dbl>\\\\\n",
       "\\hline\n",
       "\t USA     & 19\\\\\n",
       "\t Albania & 16\\\\\n",
       "\t Turkey  & 16\\\\\n",
       "\t China   &  5\\\\\n",
       "\t Sudan   & 10\\\\\n",
       "\\end{tabular}\n"
      ],
      "text/markdown": [
       "\n",
       "A data.frame: 5 × 2\n",
       "\n",
       "| country &lt;chr&gt; | democracy_score &lt;dbl&gt; |\n",
       "|---|---|\n",
       "| USA     | 19 |\n",
       "| Albania | 16 |\n",
       "| Turkey  | 16 |\n",
       "| China   |  5 |\n",
       "| Sudan   | 10 |\n",
       "\n"
      ],
      "text/plain": [
       "  country democracy_score\n",
       "1 USA     19             \n",
       "2 Albania 16             \n",
       "3 Turkey  16             \n",
       "4 China    5             \n",
       "5 Sudan   10             "
      ]
     },
     "metadata": {},
     "output_type": "display_data"
    }
   ],
   "source": [
    "# Generate toy dataset 1:\n",
    "demo <- data.frame(\n",
    "    country = c(\"USA\", \"Albania\", \"Turkey\", \"China\", \"Sudan\"),\n",
    "    democracy_score = c(19, 16, 16, 5, 10)\n",
    "    )\n",
    "demo"
   ]
  },
  {
   "cell_type": "code",
   "execution_count": 2,
   "id": "55d0a5be",
   "metadata": {},
   "outputs": [
    {
     "data": {
      "text/html": [
       "<table class=\"dataframe\">\n",
       "<caption>A data.frame: 5 × 2</caption>\n",
       "<thead>\n",
       "\t<tr><th scope=col>country</th><th scope=col>gdp_pc</th></tr>\n",
       "\t<tr><th scope=col>&lt;chr&gt;</th><th scope=col>&lt;dbl&gt;</th></tr>\n",
       "</thead>\n",
       "<tbody>\n",
       "\t<tr><td>China  </td><td>12000</td></tr>\n",
       "\t<tr><td>Albania</td><td>10000</td></tr>\n",
       "\t<tr><td>Turkey </td><td> 9000</td></tr>\n",
       "\t<tr><td>USA    </td><td>20000</td></tr>\n",
       "\t<tr><td>Sudan  </td><td>  500</td></tr>\n",
       "</tbody>\n",
       "</table>\n"
      ],
      "text/latex": [
       "A data.frame: 5 × 2\n",
       "\\begin{tabular}{ll}\n",
       " country & gdp\\_pc\\\\\n",
       " <chr> & <dbl>\\\\\n",
       "\\hline\n",
       "\t China   & 12000\\\\\n",
       "\t Albania & 10000\\\\\n",
       "\t Turkey  &  9000\\\\\n",
       "\t USA     & 20000\\\\\n",
       "\t Sudan   &   500\\\\\n",
       "\\end{tabular}\n"
      ],
      "text/markdown": [
       "\n",
       "A data.frame: 5 × 2\n",
       "\n",
       "| country &lt;chr&gt; | gdp_pc &lt;dbl&gt; |\n",
       "|---|---|\n",
       "| China   | 12000 |\n",
       "| Albania | 10000 |\n",
       "| Turkey  |  9000 |\n",
       "| USA     | 20000 |\n",
       "| Sudan   |   500 |\n",
       "\n"
      ],
      "text/plain": [
       "  country gdp_pc\n",
       "1 China   12000 \n",
       "2 Albania 10000 \n",
       "3 Turkey   9000 \n",
       "4 USA     20000 \n",
       "5 Sudan     500 "
      ]
     },
     "metadata": {},
     "output_type": "display_data"
    }
   ],
   "source": [
    "# Generate toy dataset 2:\n",
    "econ <- data.frame(\n",
    "    country = c(\"China\", \"Albania\", \"Turkey\", \"USA\", \"Sudan\"),\n",
    "    gdp_pc = c(12000, 10000, 9000, 20000, 500)\n",
    "    )\n",
    "econ"
   ]
  },
  {
   "cell_type": "markdown",
   "id": "060166d3",
   "metadata": {},
   "source": [
    "To merge two data sets, they must have an identifier in common -- one or more columns whose values allow us to understand which rows are identifying the same entities in the two datasets. In the case of these two datasets, the common identifier is country name, stored in the column `\"country\"` in both datasets. "
   ]
  },
  {
   "cell_type": "markdown",
   "id": "e0d03be8",
   "metadata": {
    "lines_to_next_cell": 0
   },
   "source": [
    "To do the actual merge, we will use the `join()` command from a package called `statar`. This isn't the most popular package for merging and R, but for reasons we'll discuss enter next reading, I definitely think it's the best.\n",
    "\n",
    "`join()` requires at least four arguments: the two datasets you want to merge, and the name of the column(s) containing the common identifier, and the type of merge (which, for now, we'll just specify as `\"inner\"`, but we'll talk more about what that means below). In this case, our call to `join` would look like this:"
   ]
  },
  {
   "cell_type": "code",
   "execution_count": 3,
   "id": "ba1478ec",
   "metadata": {},
   "outputs": [
    {
     "name": "stderr",
     "output_type": "stream",
     "text": [
      "Joining, by = \"country\"\n",
      "\n"
     ]
    },
    {
     "data": {
      "text/html": [
       "<table class=\"dataframe\">\n",
       "<caption>A data.frame: 5 × 3</caption>\n",
       "<thead>\n",
       "\t<tr><th scope=col>country</th><th scope=col>democracy_score</th><th scope=col>gdp_pc</th></tr>\n",
       "\t<tr><th scope=col>&lt;chr&gt;</th><th scope=col>&lt;dbl&gt;</th><th scope=col>&lt;dbl&gt;</th></tr>\n",
       "</thead>\n",
       "<tbody>\n",
       "\t<tr><td>USA    </td><td>19</td><td>20000</td></tr>\n",
       "\t<tr><td>Albania</td><td>16</td><td>10000</td></tr>\n",
       "\t<tr><td>Turkey </td><td>16</td><td> 9000</td></tr>\n",
       "\t<tr><td>China  </td><td> 5</td><td>12000</td></tr>\n",
       "\t<tr><td>Sudan  </td><td>10</td><td>  500</td></tr>\n",
       "</tbody>\n",
       "</table>\n"
      ],
      "text/latex": [
       "A data.frame: 5 × 3\n",
       "\\begin{tabular}{lll}\n",
       " country & democracy\\_score & gdp\\_pc\\\\\n",
       " <chr> & <dbl> & <dbl>\\\\\n",
       "\\hline\n",
       "\t USA     & 19 & 20000\\\\\n",
       "\t Albania & 16 & 10000\\\\\n",
       "\t Turkey  & 16 &  9000\\\\\n",
       "\t China   &  5 & 12000\\\\\n",
       "\t Sudan   & 10 &   500\\\\\n",
       "\\end{tabular}\n"
      ],
      "text/markdown": [
       "\n",
       "A data.frame: 5 × 3\n",
       "\n",
       "| country &lt;chr&gt; | democracy_score &lt;dbl&gt; | gdp_pc &lt;dbl&gt; |\n",
       "|---|---|---|\n",
       "| USA     | 19 | 20000 |\n",
       "| Albania | 16 | 10000 |\n",
       "| Turkey  | 16 |  9000 |\n",
       "| China   |  5 | 12000 |\n",
       "| Sudan   | 10 |   500 |\n",
       "\n"
      ],
      "text/plain": [
       "  country democracy_score gdp_pc\n",
       "1 USA     19              20000 \n",
       "2 Albania 16              10000 \n",
       "3 Turkey  16               9000 \n",
       "4 China    5              12000 \n",
       "5 Sudan   10                500 "
      ]
     },
     "metadata": {},
     "output_type": "display_data"
    }
   ],
   "source": [
    "library(statar)\n",
    "df <- join(demo, econ, on = \"country\", kind = \"inner\")\n",
    "df"
   ]
  },
  {
   "cell_type": "markdown",
   "id": "c1f2bf80",
   "metadata": {},
   "source": [
    "This is called a 1-to-1 merge because each row in the first dataset matches up to exactly one row in the second dataset -- i.e. each country appears only once in the first dataset, and matches up to a single row in the second dataset (the row with the same country identifier). "
   ]
  },
  {
   "cell_type": "markdown",
   "id": "99572384",
   "metadata": {},
   "source": [
    "Your common identifier may be spread across multiple columns. Consider the following example:"
   ]
  },
  {
   "cell_type": "code",
   "execution_count": 4,
   "id": "d87c4947",
   "metadata": {},
   "outputs": [
    {
     "data": {
      "text/html": [
       "<table class=\"dataframe\">\n",
       "<caption>A data.frame: 8 × 3</caption>\n",
       "<thead>\n",
       "\t<tr><th scope=col>country</th><th scope=col>year</th><th scope=col>democracy</th></tr>\n",
       "\t<tr><th scope=col>&lt;chr&gt;</th><th scope=col>&lt;dbl&gt;</th><th scope=col>&lt;dbl&gt;</th></tr>\n",
       "</thead>\n",
       "<tbody>\n",
       "\t<tr><td>USA  </td><td>1994</td><td>14</td></tr>\n",
       "\t<tr><td>China</td><td>1994</td><td>13</td></tr>\n",
       "\t<tr><td>Sudan</td><td>1994</td><td> 0</td></tr>\n",
       "\t<tr><td>India</td><td>1994</td><td> 9</td></tr>\n",
       "\t<tr><td>USA  </td><td>1995</td><td>15</td></tr>\n",
       "\t<tr><td>China</td><td>1995</td><td>20</td></tr>\n",
       "\t<tr><td>Sudan</td><td>1995</td><td>14</td></tr>\n",
       "\t<tr><td>India</td><td>1995</td><td>15</td></tr>\n",
       "</tbody>\n",
       "</table>\n"
      ],
      "text/latex": [
       "A data.frame: 8 × 3\n",
       "\\begin{tabular}{lll}\n",
       " country & year & democracy\\\\\n",
       " <chr> & <dbl> & <dbl>\\\\\n",
       "\\hline\n",
       "\t USA   & 1994 & 14\\\\\n",
       "\t China & 1994 & 13\\\\\n",
       "\t Sudan & 1994 &  0\\\\\n",
       "\t India & 1994 &  9\\\\\n",
       "\t USA   & 1995 & 15\\\\\n",
       "\t China & 1995 & 20\\\\\n",
       "\t Sudan & 1995 & 14\\\\\n",
       "\t India & 1995 & 15\\\\\n",
       "\\end{tabular}\n"
      ],
      "text/markdown": [
       "\n",
       "A data.frame: 8 × 3\n",
       "\n",
       "| country &lt;chr&gt; | year &lt;dbl&gt; | democracy &lt;dbl&gt; |\n",
       "|---|---|---|\n",
       "| USA   | 1994 | 14 |\n",
       "| China | 1994 | 13 |\n",
       "| Sudan | 1994 |  0 |\n",
       "| India | 1994 |  9 |\n",
       "| USA   | 1995 | 15 |\n",
       "| China | 1995 | 20 |\n",
       "| Sudan | 1995 | 14 |\n",
       "| India | 1995 | 15 |\n",
       "\n"
      ],
      "text/plain": [
       "  country year democracy\n",
       "1 USA     1994 14       \n",
       "2 China   1994 13       \n",
       "3 Sudan   1994  0       \n",
       "4 India   1994  9       \n",
       "5 USA     1995 15       \n",
       "6 China   1995 20       \n",
       "7 Sudan   1995 14       \n",
       "8 India   1995 15       "
      ]
     },
     "metadata": {},
     "output_type": "display_data"
    }
   ],
   "source": [
    "# Generate toy dataset 1:\n",
    "country <- rep(c(\"USA\", \"China\", \"Sudan\", \"India\"), 2)\n",
    "year <- c(1994, 1994, 1994, 1994, 1995, 1995, 1995, 1995)\n",
    "democracy <- round(runif(8, 0, 20), 0)\n",
    "\n",
    "demo <- data.frame(country, year, democracy)\n",
    "demo"
   ]
  },
  {
   "cell_type": "code",
   "execution_count": 5,
   "id": "20d0eb16",
   "metadata": {},
   "outputs": [
    {
     "data": {
      "text/html": [
       "<table class=\"dataframe\">\n",
       "<caption>A data.frame: 9 × 3</caption>\n",
       "<thead>\n",
       "\t<tr><th scope=col>year</th><th scope=col>country</th><th scope=col>gdp_pc</th></tr>\n",
       "\t<tr><th scope=col>&lt;int&gt;</th><th scope=col>&lt;fct&gt;</th><th scope=col>&lt;dbl&gt;</th></tr>\n",
       "</thead>\n",
       "<tbody>\n",
       "\t<tr><td>1994</td><td>USA  </td><td>11048</td></tr>\n",
       "\t<tr><td>1995</td><td>USA  </td><td>12286</td></tr>\n",
       "\t<tr><td>1996</td><td>USA  </td><td> 1833</td></tr>\n",
       "\t<tr><td>1994</td><td>China</td><td>16713</td></tr>\n",
       "\t<tr><td>1995</td><td>China</td><td> 7931</td></tr>\n",
       "\t<tr><td>1996</td><td>China</td><td>17065</td></tr>\n",
       "\t<tr><td>1994</td><td>Sudan</td><td>12802</td></tr>\n",
       "\t<tr><td>1995</td><td>Sudan</td><td>13996</td></tr>\n",
       "\t<tr><td>1996</td><td>Sudan</td><td>12812</td></tr>\n",
       "</tbody>\n",
       "</table>\n"
      ],
      "text/latex": [
       "A data.frame: 9 × 3\n",
       "\\begin{tabular}{lll}\n",
       " year & country & gdp\\_pc\\\\\n",
       " <int> & <fct> & <dbl>\\\\\n",
       "\\hline\n",
       "\t 1994 & USA   & 11048\\\\\n",
       "\t 1995 & USA   & 12286\\\\\n",
       "\t 1996 & USA   &  1833\\\\\n",
       "\t 1994 & China & 16713\\\\\n",
       "\t 1995 & China &  7931\\\\\n",
       "\t 1996 & China & 17065\\\\\n",
       "\t 1994 & Sudan & 12802\\\\\n",
       "\t 1995 & Sudan & 13996\\\\\n",
       "\t 1996 & Sudan & 12812\\\\\n",
       "\\end{tabular}\n"
      ],
      "text/markdown": [
       "\n",
       "A data.frame: 9 × 3\n",
       "\n",
       "| year &lt;int&gt; | country &lt;fct&gt; | gdp_pc &lt;dbl&gt; |\n",
       "|---|---|---|\n",
       "| 1994 | USA   | 11048 |\n",
       "| 1995 | USA   | 12286 |\n",
       "| 1996 | USA   |  1833 |\n",
       "| 1994 | China | 16713 |\n",
       "| 1995 | China |  7931 |\n",
       "| 1996 | China | 17065 |\n",
       "| 1994 | Sudan | 12802 |\n",
       "| 1995 | Sudan | 13996 |\n",
       "| 1996 | Sudan | 12812 |\n",
       "\n"
      ],
      "text/plain": [
       "  year country gdp_pc\n",
       "1 1994 USA     11048 \n",
       "2 1995 USA     12286 \n",
       "3 1996 USA      1833 \n",
       "4 1994 China   16713 \n",
       "5 1995 China    7931 \n",
       "6 1996 China   17065 \n",
       "7 1994 Sudan   12802 \n",
       "8 1995 Sudan   13996 \n",
       "9 1996 Sudan   12812 "
      ]
     },
     "metadata": {},
     "output_type": "display_data"
    }
   ],
   "source": [
    "# Generate toy dataset 2:\n",
    "econ <- data.frame(\n",
    "    expand.grid(year = 1994:1996, country = c(\"USA\", \"China\", \"Sudan\")),\n",
    "    gdp_pc = round(runif(9, 1000, 20000), 0)\n",
    "    )\n",
    "econ"
   ]
  },
  {
   "cell_type": "markdown",
   "id": "070ac7c0",
   "metadata": {},
   "source": [
    "In this situation, `\"country\"` does not fully identify which row is supposed to match up with which row across the two datasets, since we clearly want to match up the row for `USA` in `1994` in `demo` with the same row in `econ`. \n",
    "\n",
    "To accommodate that, you can pass multiple columns to `join`'s `on` argument. e.g.:"
   ]
  },
  {
   "cell_type": "code",
   "execution_count": 6,
   "id": "38c5b067",
   "metadata": {},
   "outputs": [
    {
     "name": "stderr",
     "output_type": "stream",
     "text": [
      "Joining, by = c(\"country\", \"year\")\n",
      "\n"
     ]
    },
    {
     "data": {
      "text/html": [
       "<table class=\"dataframe\">\n",
       "<caption>A data.frame: 6 × 4</caption>\n",
       "<thead>\n",
       "\t<tr><th scope=col>country</th><th scope=col>year</th><th scope=col>democracy</th><th scope=col>gdp_pc</th></tr>\n",
       "\t<tr><th scope=col>&lt;chr&gt;</th><th scope=col>&lt;dbl&gt;</th><th scope=col>&lt;dbl&gt;</th><th scope=col>&lt;dbl&gt;</th></tr>\n",
       "</thead>\n",
       "<tbody>\n",
       "\t<tr><td>USA  </td><td>1994</td><td>14</td><td>11048</td></tr>\n",
       "\t<tr><td>China</td><td>1994</td><td>13</td><td>16713</td></tr>\n",
       "\t<tr><td>Sudan</td><td>1994</td><td> 0</td><td>12802</td></tr>\n",
       "\t<tr><td>USA  </td><td>1995</td><td>15</td><td>12286</td></tr>\n",
       "\t<tr><td>China</td><td>1995</td><td>20</td><td> 7931</td></tr>\n",
       "\t<tr><td>Sudan</td><td>1995</td><td>14</td><td>13996</td></tr>\n",
       "</tbody>\n",
       "</table>\n"
      ],
      "text/latex": [
       "A data.frame: 6 × 4\n",
       "\\begin{tabular}{llll}\n",
       " country & year & democracy & gdp\\_pc\\\\\n",
       " <chr> & <dbl> & <dbl> & <dbl>\\\\\n",
       "\\hline\n",
       "\t USA   & 1994 & 14 & 11048\\\\\n",
       "\t China & 1994 & 13 & 16713\\\\\n",
       "\t Sudan & 1994 &  0 & 12802\\\\\n",
       "\t USA   & 1995 & 15 & 12286\\\\\n",
       "\t China & 1995 & 20 &  7931\\\\\n",
       "\t Sudan & 1995 & 14 & 13996\\\\\n",
       "\\end{tabular}\n"
      ],
      "text/markdown": [
       "\n",
       "A data.frame: 6 × 4\n",
       "\n",
       "| country &lt;chr&gt; | year &lt;dbl&gt; | democracy &lt;dbl&gt; | gdp_pc &lt;dbl&gt; |\n",
       "|---|---|---|---|\n",
       "| USA   | 1994 | 14 | 11048 |\n",
       "| China | 1994 | 13 | 16713 |\n",
       "| Sudan | 1994 |  0 | 12802 |\n",
       "| USA   | 1995 | 15 | 12286 |\n",
       "| China | 1995 | 20 |  7931 |\n",
       "| Sudan | 1995 | 14 | 13996 |\n",
       "\n"
      ],
      "text/plain": [
       "  country year democracy gdp_pc\n",
       "1 USA     1994 14        11048 \n",
       "2 China   1994 13        16713 \n",
       "3 Sudan   1994  0        12802 \n",
       "4 USA     1995 15        12286 \n",
       "5 China   1995 20         7931 \n",
       "6 Sudan   1995 14        13996 "
      ]
     },
     "metadata": {},
     "output_type": "display_data"
    }
   ],
   "source": [
    "join(demo, econ, on = c(\"country\", \"year\"), kind = \"inner\")"
   ]
  },
  {
   "cell_type": "markdown",
   "id": "b5d84954",
   "metadata": {},
   "source": [
    "### What Rows Do You Keep?"
   ]
  },
  {
   "cell_type": "markdown",
   "id": "50f9261a",
   "metadata": {},
   "source": [
    "As you may have noticed in the example above, our `demo` dataset had more countries than our `econ` dataset (it included India, while `econ` did not), and `econ` included more years than `demo` (namely: 1996). And when we merged the two datasets, only the country-year pairs that were common to both data sets were kept.\n",
    "\n",
    "This is what's referred to is an *inner join*. In an inner join, only rows whose identifiers are present in both datasets are kept in the final dataset. But inner is just one of four types of merges:\n",
    "\n",
    "- keep all rows (whether the match or not): **full join** (also sometimes called an outer join)\n",
    "- keep matching rows + unmatched rows from your \"left\" dataset (the first dataframe you pass to `join`): **left join**\n",
    "- keep matching rows + unmatched rows from your \"right\" dataset (the second dataframe you pass to `join`): **right join**\n",
    "- keep only matching rows: **inner join**\n",
    "\n",
    "These four types of merges are nicely illustrated in this figure from [datacomy:](https://datacomy.com/data_analysis/pandas/merge/)\n",
    "\n",
    "![types-of-joins](images/types_of_joins.png)\n"
   ]
  },
  {
   "cell_type": "markdown",
   "id": "3529b0b9",
   "metadata": {},
   "source": [
    "We can specify the type of join we want with the `kind` argument:"
   ]
  },
  {
   "cell_type": "code",
   "execution_count": 7,
   "id": "5f5776d9",
   "metadata": {},
   "outputs": [
    {
     "name": "stderr",
     "output_type": "stream",
     "text": [
      "Joining, by = c(\"country\", \"year\")\n",
      "\n"
     ]
    },
    {
     "data": {
      "text/html": [
       "<table class=\"dataframe\">\n",
       "<caption>A data.frame: 11 × 4</caption>\n",
       "<thead>\n",
       "\t<tr><th scope=col>country</th><th scope=col>year</th><th scope=col>democracy</th><th scope=col>gdp_pc</th></tr>\n",
       "\t<tr><th scope=col>&lt;chr&gt;</th><th scope=col>&lt;dbl&gt;</th><th scope=col>&lt;dbl&gt;</th><th scope=col>&lt;dbl&gt;</th></tr>\n",
       "</thead>\n",
       "<tbody>\n",
       "\t<tr><td>USA  </td><td>1994</td><td>14</td><td>11048</td></tr>\n",
       "\t<tr><td>China</td><td>1994</td><td>13</td><td>16713</td></tr>\n",
       "\t<tr><td>Sudan</td><td>1994</td><td> 0</td><td>12802</td></tr>\n",
       "\t<tr><td>India</td><td>1994</td><td> 9</td><td>   NA</td></tr>\n",
       "\t<tr><td>USA  </td><td>1995</td><td>15</td><td>12286</td></tr>\n",
       "\t<tr><td>China</td><td>1995</td><td>20</td><td> 7931</td></tr>\n",
       "\t<tr><td>Sudan</td><td>1995</td><td>14</td><td>13996</td></tr>\n",
       "\t<tr><td>India</td><td>1995</td><td>15</td><td>   NA</td></tr>\n",
       "\t<tr><td>USA  </td><td>1996</td><td>NA</td><td> 1833</td></tr>\n",
       "\t<tr><td>China</td><td>1996</td><td>NA</td><td>17065</td></tr>\n",
       "\t<tr><td>Sudan</td><td>1996</td><td>NA</td><td>12812</td></tr>\n",
       "</tbody>\n",
       "</table>\n"
      ],
      "text/latex": [
       "A data.frame: 11 × 4\n",
       "\\begin{tabular}{llll}\n",
       " country & year & democracy & gdp\\_pc\\\\\n",
       " <chr> & <dbl> & <dbl> & <dbl>\\\\\n",
       "\\hline\n",
       "\t USA   & 1994 & 14 & 11048\\\\\n",
       "\t China & 1994 & 13 & 16713\\\\\n",
       "\t Sudan & 1994 &  0 & 12802\\\\\n",
       "\t India & 1994 &  9 &    NA\\\\\n",
       "\t USA   & 1995 & 15 & 12286\\\\\n",
       "\t China & 1995 & 20 &  7931\\\\\n",
       "\t Sudan & 1995 & 14 & 13996\\\\\n",
       "\t India & 1995 & 15 &    NA\\\\\n",
       "\t USA   & 1996 & NA &  1833\\\\\n",
       "\t China & 1996 & NA & 17065\\\\\n",
       "\t Sudan & 1996 & NA & 12812\\\\\n",
       "\\end{tabular}\n"
      ],
      "text/markdown": [
       "\n",
       "A data.frame: 11 × 4\n",
       "\n",
       "| country &lt;chr&gt; | year &lt;dbl&gt; | democracy &lt;dbl&gt; | gdp_pc &lt;dbl&gt; |\n",
       "|---|---|---|---|\n",
       "| USA   | 1994 | 14 | 11048 |\n",
       "| China | 1994 | 13 | 16713 |\n",
       "| Sudan | 1994 |  0 | 12802 |\n",
       "| India | 1994 |  9 |    NA |\n",
       "| USA   | 1995 | 15 | 12286 |\n",
       "| China | 1995 | 20 |  7931 |\n",
       "| Sudan | 1995 | 14 | 13996 |\n",
       "| India | 1995 | 15 |    NA |\n",
       "| USA   | 1996 | NA |  1833 |\n",
       "| China | 1996 | NA | 17065 |\n",
       "| Sudan | 1996 | NA | 12812 |\n",
       "\n"
      ],
      "text/plain": [
       "   country year democracy gdp_pc\n",
       "1  USA     1994 14        11048 \n",
       "2  China   1994 13        16713 \n",
       "3  Sudan   1994  0        12802 \n",
       "4  India   1994  9           NA \n",
       "5  USA     1995 15        12286 \n",
       "6  China   1995 20         7931 \n",
       "7  Sudan   1995 14        13996 \n",
       "8  India   1995 15           NA \n",
       "9  USA     1996 NA         1833 \n",
       "10 China   1996 NA        17065 \n",
       "11 Sudan   1996 NA        12812 "
      ]
     },
     "metadata": {},
     "output_type": "display_data"
    }
   ],
   "source": [
    "# keep all rows, matching or not\n",
    "\n",
    "join(demo, econ, on = c(\"country\", \"year\"), kind = \"full\")"
   ]
  },
  {
   "cell_type": "code",
   "execution_count": 8,
   "id": "3d0074d5",
   "metadata": {},
   "outputs": [
    {
     "name": "stderr",
     "output_type": "stream",
     "text": [
      "Joining, by = c(\"country\", \"year\")\n",
      "\n"
     ]
    },
    {
     "data": {
      "text/html": [
       "<table class=\"dataframe\">\n",
       "<caption>A data.frame: 8 × 4</caption>\n",
       "<thead>\n",
       "\t<tr><th scope=col>country</th><th scope=col>year</th><th scope=col>democracy</th><th scope=col>gdp_pc</th></tr>\n",
       "\t<tr><th scope=col>&lt;chr&gt;</th><th scope=col>&lt;dbl&gt;</th><th scope=col>&lt;dbl&gt;</th><th scope=col>&lt;dbl&gt;</th></tr>\n",
       "</thead>\n",
       "<tbody>\n",
       "\t<tr><td>USA  </td><td>1994</td><td>14</td><td>11048</td></tr>\n",
       "\t<tr><td>China</td><td>1994</td><td>13</td><td>16713</td></tr>\n",
       "\t<tr><td>Sudan</td><td>1994</td><td> 0</td><td>12802</td></tr>\n",
       "\t<tr><td>India</td><td>1994</td><td> 9</td><td>   NA</td></tr>\n",
       "\t<tr><td>USA  </td><td>1995</td><td>15</td><td>12286</td></tr>\n",
       "\t<tr><td>China</td><td>1995</td><td>20</td><td> 7931</td></tr>\n",
       "\t<tr><td>Sudan</td><td>1995</td><td>14</td><td>13996</td></tr>\n",
       "\t<tr><td>India</td><td>1995</td><td>15</td><td>   NA</td></tr>\n",
       "</tbody>\n",
       "</table>\n"
      ],
      "text/latex": [
       "A data.frame: 8 × 4\n",
       "\\begin{tabular}{llll}\n",
       " country & year & democracy & gdp\\_pc\\\\\n",
       " <chr> & <dbl> & <dbl> & <dbl>\\\\\n",
       "\\hline\n",
       "\t USA   & 1994 & 14 & 11048\\\\\n",
       "\t China & 1994 & 13 & 16713\\\\\n",
       "\t Sudan & 1994 &  0 & 12802\\\\\n",
       "\t India & 1994 &  9 &    NA\\\\\n",
       "\t USA   & 1995 & 15 & 12286\\\\\n",
       "\t China & 1995 & 20 &  7931\\\\\n",
       "\t Sudan & 1995 & 14 & 13996\\\\\n",
       "\t India & 1995 & 15 &    NA\\\\\n",
       "\\end{tabular}\n"
      ],
      "text/markdown": [
       "\n",
       "A data.frame: 8 × 4\n",
       "\n",
       "| country &lt;chr&gt; | year &lt;dbl&gt; | democracy &lt;dbl&gt; | gdp_pc &lt;dbl&gt; |\n",
       "|---|---|---|---|\n",
       "| USA   | 1994 | 14 | 11048 |\n",
       "| China | 1994 | 13 | 16713 |\n",
       "| Sudan | 1994 |  0 | 12802 |\n",
       "| India | 1994 |  9 |    NA |\n",
       "| USA   | 1995 | 15 | 12286 |\n",
       "| China | 1995 | 20 |  7931 |\n",
       "| Sudan | 1995 | 14 | 13996 |\n",
       "| India | 1995 | 15 |    NA |\n",
       "\n"
      ],
      "text/plain": [
       "  country year democracy gdp_pc\n",
       "1 USA     1994 14        11048 \n",
       "2 China   1994 13        16713 \n",
       "3 Sudan   1994  0        12802 \n",
       "4 India   1994  9           NA \n",
       "5 USA     1995 15        12286 \n",
       "6 China   1995 20         7931 \n",
       "7 Sudan   1995 14        13996 \n",
       "8 India   1995 15           NA "
      ]
     },
     "metadata": {},
     "output_type": "display_data"
    }
   ],
   "source": [
    "# keep matching + unmatched in demo observations\n",
    "# (Left join)\n",
    "join(demo, econ, on = c(\"country\", \"year\"), kind = \"left\")\n"
   ]
  },
  {
   "cell_type": "markdown",
   "id": "54293d48",
   "metadata": {},
   "source": [
    "As you can see, when you keep unmatched rows, R places `NA` values in entries that didn't match, and so don't have data for certain columns. We'll talk about `NA`s in our [missing data](missing_data.ipynb) reading."
   ]
  },
  {
   "cell_type": "markdown",
   "id": "3eaecc6f",
   "metadata": {},
   "source": [
    "## 1-to-Many / Many-to-1 Merging\n",
    "\n",
    "\n",
    "In our previous examples, the identifier we used clearly told R how to match each row of one dataset to exactly one row of the other dataset. We call this a 1-to-1 merge. \n",
    "\n",
    "Sometimes, though, each row from one dataset may match up to *multiple* rows of the other. In these situations, we do a 1-to-many merge. Say, for example, we have the following two data frames:"
   ]
  },
  {
   "cell_type": "code",
   "execution_count": 9,
   "id": "a73e186b",
   "metadata": {},
   "outputs": [
    {
     "data": {
      "text/html": [
       "<table class=\"dataframe\">\n",
       "<caption>A data.frame: 9 × 3</caption>\n",
       "<thead>\n",
       "\t<tr><th scope=col>country</th><th scope=col>year</th><th scope=col>democracy_score</th></tr>\n",
       "\t<tr><th scope=col>&lt;fct&gt;</th><th scope=col>&lt;int&gt;</th><th scope=col>&lt;dbl&gt;</th></tr>\n",
       "</thead>\n",
       "<tbody>\n",
       "\t<tr><td>USA  </td><td>1994</td><td> 9</td></tr>\n",
       "\t<tr><td>China</td><td>1994</td><td>19</td></tr>\n",
       "\t<tr><td>Sudan</td><td>1994</td><td>12</td></tr>\n",
       "\t<tr><td>USA  </td><td>1995</td><td>11</td></tr>\n",
       "\t<tr><td>China</td><td>1995</td><td> 3</td></tr>\n",
       "\t<tr><td>Sudan</td><td>1995</td><td> 6</td></tr>\n",
       "\t<tr><td>USA  </td><td>1996</td><td>18</td></tr>\n",
       "\t<tr><td>China</td><td>1996</td><td>17</td></tr>\n",
       "\t<tr><td>Sudan</td><td>1996</td><td>14</td></tr>\n",
       "</tbody>\n",
       "</table>\n"
      ],
      "text/latex": [
       "A data.frame: 9 × 3\n",
       "\\begin{tabular}{lll}\n",
       " country & year & democracy\\_score\\\\\n",
       " <fct> & <int> & <dbl>\\\\\n",
       "\\hline\n",
       "\t USA   & 1994 &  9\\\\\n",
       "\t China & 1994 & 19\\\\\n",
       "\t Sudan & 1994 & 12\\\\\n",
       "\t USA   & 1995 & 11\\\\\n",
       "\t China & 1995 &  3\\\\\n",
       "\t Sudan & 1995 &  6\\\\\n",
       "\t USA   & 1996 & 18\\\\\n",
       "\t China & 1996 & 17\\\\\n",
       "\t Sudan & 1996 & 14\\\\\n",
       "\\end{tabular}\n"
      ],
      "text/markdown": [
       "\n",
       "A data.frame: 9 × 3\n",
       "\n",
       "| country &lt;fct&gt; | year &lt;int&gt; | democracy_score &lt;dbl&gt; |\n",
       "|---|---|---|\n",
       "| USA   | 1994 |  9 |\n",
       "| China | 1994 | 19 |\n",
       "| Sudan | 1994 | 12 |\n",
       "| USA   | 1995 | 11 |\n",
       "| China | 1995 |  3 |\n",
       "| Sudan | 1995 |  6 |\n",
       "| USA   | 1996 | 18 |\n",
       "| China | 1996 | 17 |\n",
       "| Sudan | 1996 | 14 |\n",
       "\n"
      ],
      "text/plain": [
       "  country year democracy_score\n",
       "1 USA     1994  9             \n",
       "2 China   1994 19             \n",
       "3 Sudan   1994 12             \n",
       "4 USA     1995 11             \n",
       "5 China   1995  3             \n",
       "6 Sudan   1995  6             \n",
       "7 USA     1996 18             \n",
       "8 China   1996 17             \n",
       "9 Sudan   1996 14             "
      ]
     },
     "metadata": {},
     "output_type": "display_data"
    }
   ],
   "source": [
    "demo <- data.frame(\n",
    "    expand.grid(country = c(\"USA\", \"China\", \"Sudan\"), year = 1994:1996),\n",
    "    democracy_score = round(runif(9, 0, 20), 0)\n",
    "    )\n",
    "demo"
   ]
  },
  {
   "cell_type": "code",
   "execution_count": 10,
   "id": "ee27844a",
   "metadata": {},
   "outputs": [
    {
     "data": {
      "text/html": [
       "<table class=\"dataframe\">\n",
       "<caption>A data.frame: 3 × 2</caption>\n",
       "<thead>\n",
       "\t<tr><th scope=col>country</th><th scope=col>region</th></tr>\n",
       "\t<tr><th scope=col>&lt;chr&gt;</th><th scope=col>&lt;chr&gt;</th></tr>\n",
       "</thead>\n",
       "<tbody>\n",
       "\t<tr><td>USA  </td><td>America</td></tr>\n",
       "\t<tr><td>China</td><td>Asia   </td></tr>\n",
       "\t<tr><td>Sudan</td><td>Africa </td></tr>\n",
       "</tbody>\n",
       "</table>\n"
      ],
      "text/latex": [
       "A data.frame: 3 × 2\n",
       "\\begin{tabular}{ll}\n",
       " country & region\\\\\n",
       " <chr> & <chr>\\\\\n",
       "\\hline\n",
       "\t USA   & America\\\\\n",
       "\t China & Asia   \\\\\n",
       "\t Sudan & Africa \\\\\n",
       "\\end{tabular}\n"
      ],
      "text/markdown": [
       "\n",
       "A data.frame: 3 × 2\n",
       "\n",
       "| country &lt;chr&gt; | region &lt;chr&gt; |\n",
       "|---|---|\n",
       "| USA   | America |\n",
       "| China | Asia    |\n",
       "| Sudan | Africa  |\n",
       "\n"
      ],
      "text/plain": [
       "  country region \n",
       "1 USA     America\n",
       "2 China   Asia   \n",
       "3 Sudan   Africa "
      ]
     },
     "metadata": {},
     "output_type": "display_data"
    }
   ],
   "source": [
    "region <- data.frame(\n",
    "    country = c(\"USA\", \"China\", \"Sudan\"),\n",
    "    region = c(\"America\", \"Asia\", \"Africa\")\n",
    "    )\n",
    "region"
   ]
  },
  {
   "cell_type": "markdown",
   "id": "459e8803",
   "metadata": {},
   "source": [
    "Because region doesn't vary over time, we have only 1 entry per country in the `region` dataset, while we have many entries for each county in `demo` (one per country-year pair). And when we merge the datasets, we want *all* the rows in `demo` to get copies of the matching row in `region`. \n",
    "\n",
    "This can be done with `join` with no actual modifications to our code:"
   ]
  },
  {
   "cell_type": "code",
   "execution_count": 11,
   "id": "e62a51b5",
   "metadata": {
    "lines_to_next_cell": 2
   },
   "outputs": [
    {
     "name": "stderr",
     "output_type": "stream",
     "text": [
      "Joining, by = \"country\"\n",
      "\n"
     ]
    },
    {
     "data": {
      "text/html": [
       "<table class=\"dataframe\">\n",
       "<caption>A data.frame: 9 × 4</caption>\n",
       "<thead>\n",
       "\t<tr><th scope=col>country</th><th scope=col>year</th><th scope=col>democracy_score</th><th scope=col>region</th></tr>\n",
       "\t<tr><th scope=col>&lt;chr&gt;</th><th scope=col>&lt;int&gt;</th><th scope=col>&lt;dbl&gt;</th><th scope=col>&lt;chr&gt;</th></tr>\n",
       "</thead>\n",
       "<tbody>\n",
       "\t<tr><td>USA  </td><td>1994</td><td> 9</td><td>America</td></tr>\n",
       "\t<tr><td>China</td><td>1994</td><td>19</td><td>Asia   </td></tr>\n",
       "\t<tr><td>Sudan</td><td>1994</td><td>12</td><td>Africa </td></tr>\n",
       "\t<tr><td>USA  </td><td>1995</td><td>11</td><td>America</td></tr>\n",
       "\t<tr><td>China</td><td>1995</td><td> 3</td><td>Asia   </td></tr>\n",
       "\t<tr><td>Sudan</td><td>1995</td><td> 6</td><td>Africa </td></tr>\n",
       "\t<tr><td>USA  </td><td>1996</td><td>18</td><td>America</td></tr>\n",
       "\t<tr><td>China</td><td>1996</td><td>17</td><td>Asia   </td></tr>\n",
       "\t<tr><td>Sudan</td><td>1996</td><td>14</td><td>Africa </td></tr>\n",
       "</tbody>\n",
       "</table>\n"
      ],
      "text/latex": [
       "A data.frame: 9 × 4\n",
       "\\begin{tabular}{llll}\n",
       " country & year & democracy\\_score & region\\\\\n",
       " <chr> & <int> & <dbl> & <chr>\\\\\n",
       "\\hline\n",
       "\t USA   & 1994 &  9 & America\\\\\n",
       "\t China & 1994 & 19 & Asia   \\\\\n",
       "\t Sudan & 1994 & 12 & Africa \\\\\n",
       "\t USA   & 1995 & 11 & America\\\\\n",
       "\t China & 1995 &  3 & Asia   \\\\\n",
       "\t Sudan & 1995 &  6 & Africa \\\\\n",
       "\t USA   & 1996 & 18 & America\\\\\n",
       "\t China & 1996 & 17 & Asia   \\\\\n",
       "\t Sudan & 1996 & 14 & Africa \\\\\n",
       "\\end{tabular}\n"
      ],
      "text/markdown": [
       "\n",
       "A data.frame: 9 × 4\n",
       "\n",
       "| country &lt;chr&gt; | year &lt;int&gt; | democracy_score &lt;dbl&gt; | region &lt;chr&gt; |\n",
       "|---|---|---|---|\n",
       "| USA   | 1994 |  9 | America |\n",
       "| China | 1994 | 19 | Asia    |\n",
       "| Sudan | 1994 | 12 | Africa  |\n",
       "| USA   | 1995 | 11 | America |\n",
       "| China | 1995 |  3 | Asia    |\n",
       "| Sudan | 1995 |  6 | Africa  |\n",
       "| USA   | 1996 | 18 | America |\n",
       "| China | 1996 | 17 | Asia    |\n",
       "| Sudan | 1996 | 14 | Africa  |\n",
       "\n"
      ],
      "text/plain": [
       "  country year democracy_score region \n",
       "1 USA     1994  9              America\n",
       "2 China   1994 19              Asia   \n",
       "3 Sudan   1994 12              Africa \n",
       "4 USA     1995 11              America\n",
       "5 China   1995  3              Asia   \n",
       "6 Sudan   1995  6              Africa \n",
       "7 USA     1996 18              America\n",
       "8 China   1996 17              Asia   \n",
       "9 Sudan   1996 14              Africa "
      ]
     },
     "metadata": {},
     "output_type": "display_data"
    }
   ],
   "source": [
    "join(demo, region, on = \"country\", kind = \"inner\")"
   ]
  },
  {
   "cell_type": "markdown",
   "id": "28f89c4b",
   "metadata": {},
   "source": [
    "## Many-to-Many Merges\n",
    "\n",
    "There is such thing as a many-to-many merge, but it is incredibly rare you would ever want to do it. It results in the new dataset having all possible combinations of matching rows, which (if done incorrectly) can lead to a combinatorial explosion. So... I'd say don't worry about it? :)"
   ]
  },
  {
   "cell_type": "markdown",
   "id": "60387e6e",
   "metadata": {},
   "source": [
    "## Recap\n",
    "\n",
    "- Merging is a method of bringing information from different datasets together. \n",
    "- Merging requires specifying the column(s) whose values tell R which rows to match up. \n",
    "- There are four types of merge, each of which will keep different data: \n",
    "  - **Full Join:** Keep all rows.\n",
    "  - **Left Join:** Keep rows that match + unmatched rows from the left (first) data set\n",
    "  - **Right Join:** Keep rows that match + unmatched rows from the right (second) data set\n",
    "  - **Inner Join:** Keep only rows that match."
   ]
  },
  {
   "cell_type": "markdown",
   "id": "7d8d19a2",
   "metadata": {},
   "source": [
    "## Next Up\n",
    "\n",
    "Let's read more about the problems that can occur in merging, and [how to address them!](defensive_merging.ipynb)"
   ]
  }
 ],
 "metadata": {
  "jupytext": {
   "cell_metadata_filter": "-all",
   "main_language": "R",
   "notebook_metadata_filter": "-all"
  },
  "kernelspec": {
   "display_name": "R",
   "language": "R",
   "name": "ir"
  },
  "language_info": {
   "codemirror_mode": "r",
   "file_extension": ".r",
   "mimetype": "text/x-r-source",
   "name": "R",
   "pygments_lexer": "r",
   "version": "4.1.0"
  }
 },
 "nbformat": 4,
 "nbformat_minor": 5
}