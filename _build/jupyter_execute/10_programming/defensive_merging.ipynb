{
 "cells": [
  {
   "cell_type": "markdown",
   "id": "54fc2f7f",
   "metadata": {},
   "source": [
    "# Defensive Merging\n"
   ]
  },
  {
   "cell_type": "markdown",
   "id": "6c6f025c",
   "metadata": {},
   "source": [
    "As you saw in the [last reading](intro_to_merging.ipynb), merging is a little tricky to think about, by very straightforward to implement -- specify your `on` columns and you're off to the races. But, in my view, the fact that merging data is so easy is actually horrifyingly dangerous. \n",
    "\n",
    "As discussed in our [defensive programming](defensive_programming.ipynb) reading, when working with real datasets we always have a model in our head about how our data is structured.\n",
    "\n",
    "(Remember that in these exercises we play with little toy datasets that you can print out in their entirety to make it easy to understand what's going on, but you can never actually look at all of your data we are working with thousands or hundreds of thousands of observations and tens or hundreds of variables.)\n",
    "\n",
    "But it's important always bear in mind that what we have in our heads is just that: *a model*, which may or may not be accurate. \n",
    "\n",
    "I bring this up because merging is a great opportunity to test your model, and also a place where, if your model is wrong, you can get into a lot of trouble. \n",
    "\n",
    "Suppose, for example, that we're working with the `econ` and `demo` datasets from the last reading, and we want to merge on country. As before we're *assuming* that `country` is a common identifier. But now let's add a small problem -- in `demo` we'll denote the US as `\"USA\"`, and in `econ` we're write it as `\"United States\"` (this is not an uncommon happening). Suppose we don't notice, and merge our data on `country`:"
   ]
  },
  {
   "cell_type": "code",
   "execution_count": 1,
   "id": "a362939c",
   "metadata": {},
   "outputs": [
    {
     "data": {
      "text/html": [
       "<table class=\"dataframe\">\n",
       "<caption>A data.frame: 5 × 2</caption>\n",
       "<thead>\n",
       "\t<tr><th scope=col>country</th><th scope=col>democracy_score</th></tr>\n",
       "\t<tr><th scope=col>&lt;chr&gt;</th><th scope=col>&lt;dbl&gt;</th></tr>\n",
       "</thead>\n",
       "<tbody>\n",
       "\t<tr><td>USA    </td><td>19</td></tr>\n",
       "\t<tr><td>Albania</td><td>16</td></tr>\n",
       "\t<tr><td>Turkey </td><td>16</td></tr>\n",
       "\t<tr><td>China  </td><td> 5</td></tr>\n",
       "\t<tr><td>Sudan  </td><td>10</td></tr>\n",
       "</tbody>\n",
       "</table>\n"
      ],
      "text/latex": [
       "A data.frame: 5 × 2\n",
       "\\begin{tabular}{ll}\n",
       " country & democracy\\_score\\\\\n",
       " <chr> & <dbl>\\\\\n",
       "\\hline\n",
       "\t USA     & 19\\\\\n",
       "\t Albania & 16\\\\\n",
       "\t Turkey  & 16\\\\\n",
       "\t China   &  5\\\\\n",
       "\t Sudan   & 10\\\\\n",
       "\\end{tabular}\n"
      ],
      "text/markdown": [
       "\n",
       "A data.frame: 5 × 2\n",
       "\n",
       "| country &lt;chr&gt; | democracy_score &lt;dbl&gt; |\n",
       "|---|---|\n",
       "| USA     | 19 |\n",
       "| Albania | 16 |\n",
       "| Turkey  | 16 |\n",
       "| China   |  5 |\n",
       "| Sudan   | 10 |\n",
       "\n"
      ],
      "text/plain": [
       "  country democracy_score\n",
       "1 USA     19             \n",
       "2 Albania 16             \n",
       "3 Turkey  16             \n",
       "4 China    5             \n",
       "5 Sudan   10             "
      ]
     },
     "metadata": {},
     "output_type": "display_data"
    }
   ],
   "source": [
    "# Generate toy dataset 1:\n",
    "demo <- data.frame(\n",
    "    country = c(\"USA\", \"Albania\", \"Turkey\", \"China\", \"Sudan\"),\n",
    "    democracy_score = c(19, 16, 16, 5, 10)\n",
    "    )\n",
    "demo"
   ]
  },
  {
   "cell_type": "code",
   "execution_count": 2,
   "id": "d893abe2",
   "metadata": {},
   "outputs": [
    {
     "data": {
      "text/html": [
       "<table class=\"dataframe\">\n",
       "<caption>A data.frame: 9 × 3</caption>\n",
       "<thead>\n",
       "\t<tr><th scope=col>year</th><th scope=col>country</th><th scope=col>gdp_pc</th></tr>\n",
       "\t<tr><th scope=col>&lt;int&gt;</th><th scope=col>&lt;fct&gt;</th><th scope=col>&lt;dbl&gt;</th></tr>\n",
       "</thead>\n",
       "<tbody>\n",
       "\t<tr><td>1994</td><td>United States</td><td>17207</td></tr>\n",
       "\t<tr><td>1995</td><td>United States</td><td>17452</td></tr>\n",
       "\t<tr><td>1996</td><td>United States</td><td>15535</td></tr>\n",
       "\t<tr><td>1994</td><td>China        </td><td> 6393</td></tr>\n",
       "\t<tr><td>1995</td><td>China        </td><td>17644</td></tr>\n",
       "\t<tr><td>1996</td><td>China        </td><td> 4306</td></tr>\n",
       "\t<tr><td>1994</td><td>Sudan        </td><td>19115</td></tr>\n",
       "\t<tr><td>1995</td><td>Sudan        </td><td> 8380</td></tr>\n",
       "\t<tr><td>1996</td><td>Sudan        </td><td> 6835</td></tr>\n",
       "</tbody>\n",
       "</table>\n"
      ],
      "text/latex": [
       "A data.frame: 9 × 3\n",
       "\\begin{tabular}{lll}\n",
       " year & country & gdp\\_pc\\\\\n",
       " <int> & <fct> & <dbl>\\\\\n",
       "\\hline\n",
       "\t 1994 & United States & 17207\\\\\n",
       "\t 1995 & United States & 17452\\\\\n",
       "\t 1996 & United States & 15535\\\\\n",
       "\t 1994 & China         &  6393\\\\\n",
       "\t 1995 & China         & 17644\\\\\n",
       "\t 1996 & China         &  4306\\\\\n",
       "\t 1994 & Sudan         & 19115\\\\\n",
       "\t 1995 & Sudan         &  8380\\\\\n",
       "\t 1996 & Sudan         &  6835\\\\\n",
       "\\end{tabular}\n"
      ],
      "text/markdown": [
       "\n",
       "A data.frame: 9 × 3\n",
       "\n",
       "| year &lt;int&gt; | country &lt;fct&gt; | gdp_pc &lt;dbl&gt; |\n",
       "|---|---|---|\n",
       "| 1994 | United States | 17207 |\n",
       "| 1995 | United States | 17452 |\n",
       "| 1996 | United States | 15535 |\n",
       "| 1994 | China         |  6393 |\n",
       "| 1995 | China         | 17644 |\n",
       "| 1996 | China         |  4306 |\n",
       "| 1994 | Sudan         | 19115 |\n",
       "| 1995 | Sudan         |  8380 |\n",
       "| 1996 | Sudan         |  6835 |\n",
       "\n"
      ],
      "text/plain": [
       "  year country       gdp_pc\n",
       "1 1994 United States 17207 \n",
       "2 1995 United States 17452 \n",
       "3 1996 United States 15535 \n",
       "4 1994 China          6393 \n",
       "5 1995 China         17644 \n",
       "6 1996 China          4306 \n",
       "7 1994 Sudan         19115 \n",
       "8 1995 Sudan          8380 \n",
       "9 1996 Sudan          6835 "
      ]
     },
     "metadata": {},
     "output_type": "display_data"
    }
   ],
   "source": [
    "# Generate toy dataset 2:\n",
    "econ <- data.frame(\n",
    "    expand.grid(year = 1994:1996, country = c(\"United States\", \"China\", \"Sudan\")),\n",
    "    gdp_pc = round(runif(9, 1000, 20000), 0)\n",
    "    )\n",
    "econ"
   ]
  },
  {
   "cell_type": "code",
   "execution_count": 3,
   "id": "213a8405",
   "metadata": {},
   "outputs": [
    {
     "name": "stderr",
     "output_type": "stream",
     "text": [
      "Joining, by = \"country\"\n",
      "\n"
     ]
    },
    {
     "data": {
      "text/html": [
       "<table class=\"dataframe\">\n",
       "<caption>A data.frame: 6 × 4</caption>\n",
       "<thead>\n",
       "\t<tr><th scope=col>year</th><th scope=col>country</th><th scope=col>gdp_pc</th><th scope=col>democracy_score</th></tr>\n",
       "\t<tr><th scope=col>&lt;int&gt;</th><th scope=col>&lt;chr&gt;</th><th scope=col>&lt;dbl&gt;</th><th scope=col>&lt;dbl&gt;</th></tr>\n",
       "</thead>\n",
       "<tbody>\n",
       "\t<tr><td>1994</td><td>China</td><td> 6393</td><td> 5</td></tr>\n",
       "\t<tr><td>1995</td><td>China</td><td>17644</td><td> 5</td></tr>\n",
       "\t<tr><td>1996</td><td>China</td><td> 4306</td><td> 5</td></tr>\n",
       "\t<tr><td>1994</td><td>Sudan</td><td>19115</td><td>10</td></tr>\n",
       "\t<tr><td>1995</td><td>Sudan</td><td> 8380</td><td>10</td></tr>\n",
       "\t<tr><td>1996</td><td>Sudan</td><td> 6835</td><td>10</td></tr>\n",
       "</tbody>\n",
       "</table>\n"
      ],
      "text/latex": [
       "A data.frame: 6 × 4\n",
       "\\begin{tabular}{llll}\n",
       " year & country & gdp\\_pc & democracy\\_score\\\\\n",
       " <int> & <chr> & <dbl> & <dbl>\\\\\n",
       "\\hline\n",
       "\t 1994 & China &  6393 &  5\\\\\n",
       "\t 1995 & China & 17644 &  5\\\\\n",
       "\t 1996 & China &  4306 &  5\\\\\n",
       "\t 1994 & Sudan & 19115 & 10\\\\\n",
       "\t 1995 & Sudan &  8380 & 10\\\\\n",
       "\t 1996 & Sudan &  6835 & 10\\\\\n",
       "\\end{tabular}\n"
      ],
      "text/markdown": [
       "\n",
       "A data.frame: 6 × 4\n",
       "\n",
       "| year &lt;int&gt; | country &lt;chr&gt; | gdp_pc &lt;dbl&gt; | democracy_score &lt;dbl&gt; |\n",
       "|---|---|---|---|\n",
       "| 1994 | China |  6393 |  5 |\n",
       "| 1995 | China | 17644 |  5 |\n",
       "| 1996 | China |  4306 |  5 |\n",
       "| 1994 | Sudan | 19115 | 10 |\n",
       "| 1995 | Sudan |  8380 | 10 |\n",
       "| 1996 | Sudan |  6835 | 10 |\n",
       "\n"
      ],
      "text/plain": [
       "  year country gdp_pc democracy_score\n",
       "1 1994 China    6393   5             \n",
       "2 1995 China   17644   5             \n",
       "3 1996 China    4306   5             \n",
       "4 1994 Sudan   19115  10             \n",
       "5 1995 Sudan    8380  10             \n",
       "6 1996 Sudan    6835  10             "
      ]
     },
     "metadata": {},
     "output_type": "display_data"
    }
   ],
   "source": [
    "library(statar)\n",
    "join(econ, demo, on = c(\"country\", \"year\"), kind = \"inner\")"
   ]
  },
  {
   "cell_type": "markdown",
   "id": "a7dc6b56",
   "metadata": {},
   "source": [
    "... oops. We just dropped the US from our analysis. No error messages, no warnings; it's just gone. \n",
    "\n",
    "Again, this is obvious here, but what if you had 180 countries in your data, and 10 years instead of 3 -- that'd be 1,800 observations. You wouldn't just *see* it. "
   ]
  },
  {
   "cell_type": "markdown",
   "id": "7235bdc7",
   "metadata": {},
   "source": [
    "Similarly, because it doesn't seem like regions would change over time, you assume that your `region` dataset has one observation per country, but in actuality at some point in the past the United Nations changed region designations, and so the dataset includes one entry per country-year:"
   ]
  },
  {
   "cell_type": "code",
   "execution_count": 4,
   "id": "465e70c8",
   "metadata": {},
   "outputs": [
    {
     "data": {
      "text/html": [
       "<table class=\"dataframe\">\n",
       "<caption>A data.frame: 9 × 3</caption>\n",
       "<thead>\n",
       "\t<tr><th scope=col>country</th><th scope=col>region</th><th scope=col>year</th></tr>\n",
       "\t<tr><th scope=col>&lt;chr&gt;</th><th scope=col>&lt;chr&gt;</th><th scope=col>&lt;dbl&gt;</th></tr>\n",
       "</thead>\n",
       "<tbody>\n",
       "\t<tr><td>USA  </td><td>America</td><td>1994</td></tr>\n",
       "\t<tr><td>China</td><td>Asia   </td><td>1994</td></tr>\n",
       "\t<tr><td>Sudan</td><td>Africa </td><td>1994</td></tr>\n",
       "\t<tr><td>USA  </td><td>America</td><td>1995</td></tr>\n",
       "\t<tr><td>China</td><td>Asia   </td><td>1995</td></tr>\n",
       "\t<tr><td>Sudan</td><td>Africa </td><td>1995</td></tr>\n",
       "\t<tr><td>USA  </td><td>America</td><td>1996</td></tr>\n",
       "\t<tr><td>China</td><td>Asia   </td><td>1996</td></tr>\n",
       "\t<tr><td>Sudan</td><td>Africa </td><td>1996</td></tr>\n",
       "</tbody>\n",
       "</table>\n"
      ],
      "text/latex": [
       "A data.frame: 9 × 3\n",
       "\\begin{tabular}{lll}\n",
       " country & region & year\\\\\n",
       " <chr> & <chr> & <dbl>\\\\\n",
       "\\hline\n",
       "\t USA   & America & 1994\\\\\n",
       "\t China & Asia    & 1994\\\\\n",
       "\t Sudan & Africa  & 1994\\\\\n",
       "\t USA   & America & 1995\\\\\n",
       "\t China & Asia    & 1995\\\\\n",
       "\t Sudan & Africa  & 1995\\\\\n",
       "\t USA   & America & 1996\\\\\n",
       "\t China & Asia    & 1996\\\\\n",
       "\t Sudan & Africa  & 1996\\\\\n",
       "\\end{tabular}\n"
      ],
      "text/markdown": [
       "\n",
       "A data.frame: 9 × 3\n",
       "\n",
       "| country &lt;chr&gt; | region &lt;chr&gt; | year &lt;dbl&gt; |\n",
       "|---|---|---|\n",
       "| USA   | America | 1994 |\n",
       "| China | Asia    | 1994 |\n",
       "| Sudan | Africa  | 1994 |\n",
       "| USA   | America | 1995 |\n",
       "| China | Asia    | 1995 |\n",
       "| Sudan | Africa  | 1995 |\n",
       "| USA   | America | 1996 |\n",
       "| China | Asia    | 1996 |\n",
       "| Sudan | Africa  | 1996 |\n",
       "\n"
      ],
      "text/plain": [
       "  country region  year\n",
       "1 USA     America 1994\n",
       "2 China   Asia    1994\n",
       "3 Sudan   Africa  1994\n",
       "4 USA     America 1995\n",
       "5 China   Asia    1995\n",
       "6 Sudan   Africa  1995\n",
       "7 USA     America 1996\n",
       "8 China   Asia    1996\n",
       "9 Sudan   Africa  1996"
      ]
     },
     "metadata": {},
     "output_type": "display_data"
    }
   ],
   "source": [
    "region <- data.frame(\n",
    "    country = c(\"USA\", \"China\", \"Sudan\"),\n",
    "    region = c(\"America\", \"Asia\", \"Africa\"),\n",
    "    year = c(1994, 1994, 1994, 1995, 1995, 1995, 1996, 1996, 1996)\n",
    "    )\n",
    "region"
   ]
  },
  {
   "cell_type": "markdown",
   "id": "dfa3c806",
   "metadata": {},
   "source": [
    "Now if you merged this dataset with `demo` on `\"country\"` like we did above, this is what would happen:"
   ]
  },
  {
   "cell_type": "code",
   "execution_count": 5,
   "id": "e52cae6b",
   "metadata": {},
   "outputs": [
    {
     "name": "stderr",
     "output_type": "stream",
     "text": [
      "Joining, by = \"country\"\n",
      "\n"
     ]
    },
    {
     "data": {
      "text/html": [
       "<table class=\"dataframe\">\n",
       "<caption>A data.frame: 9 × 4</caption>\n",
       "<thead>\n",
       "\t<tr><th scope=col>country</th><th scope=col>democracy_score</th><th scope=col>region</th><th scope=col>year</th></tr>\n",
       "\t<tr><th scope=col>&lt;chr&gt;</th><th scope=col>&lt;dbl&gt;</th><th scope=col>&lt;chr&gt;</th><th scope=col>&lt;dbl&gt;</th></tr>\n",
       "</thead>\n",
       "<tbody>\n",
       "\t<tr><td>USA  </td><td>19</td><td>America</td><td>1994</td></tr>\n",
       "\t<tr><td>USA  </td><td>19</td><td>America</td><td>1995</td></tr>\n",
       "\t<tr><td>USA  </td><td>19</td><td>America</td><td>1996</td></tr>\n",
       "\t<tr><td>China</td><td> 5</td><td>Asia   </td><td>1994</td></tr>\n",
       "\t<tr><td>China</td><td> 5</td><td>Asia   </td><td>1995</td></tr>\n",
       "\t<tr><td>China</td><td> 5</td><td>Asia   </td><td>1996</td></tr>\n",
       "\t<tr><td>Sudan</td><td>10</td><td>Africa </td><td>1994</td></tr>\n",
       "\t<tr><td>Sudan</td><td>10</td><td>Africa </td><td>1995</td></tr>\n",
       "\t<tr><td>Sudan</td><td>10</td><td>Africa </td><td>1996</td></tr>\n",
       "</tbody>\n",
       "</table>\n"
      ],
      "text/latex": [
       "A data.frame: 9 × 4\n",
       "\\begin{tabular}{llll}\n",
       " country & democracy\\_score & region & year\\\\\n",
       " <chr> & <dbl> & <chr> & <dbl>\\\\\n",
       "\\hline\n",
       "\t USA   & 19 & America & 1994\\\\\n",
       "\t USA   & 19 & America & 1995\\\\\n",
       "\t USA   & 19 & America & 1996\\\\\n",
       "\t China &  5 & Asia    & 1994\\\\\n",
       "\t China &  5 & Asia    & 1995\\\\\n",
       "\t China &  5 & Asia    & 1996\\\\\n",
       "\t Sudan & 10 & Africa  & 1994\\\\\n",
       "\t Sudan & 10 & Africa  & 1995\\\\\n",
       "\t Sudan & 10 & Africa  & 1996\\\\\n",
       "\\end{tabular}\n"
      ],
      "text/markdown": [
       "\n",
       "A data.frame: 9 × 4\n",
       "\n",
       "| country &lt;chr&gt; | democracy_score &lt;dbl&gt; | region &lt;chr&gt; | year &lt;dbl&gt; |\n",
       "|---|---|---|---|\n",
       "| USA   | 19 | America | 1994 |\n",
       "| USA   | 19 | America | 1995 |\n",
       "| USA   | 19 | America | 1996 |\n",
       "| China |  5 | Asia    | 1994 |\n",
       "| China |  5 | Asia    | 1995 |\n",
       "| China |  5 | Asia    | 1996 |\n",
       "| Sudan | 10 | Africa  | 1994 |\n",
       "| Sudan | 10 | Africa  | 1995 |\n",
       "| Sudan | 10 | Africa  | 1996 |\n",
       "\n"
      ],
      "text/plain": [
       "  country democracy_score region  year\n",
       "1 USA     19              America 1994\n",
       "2 USA     19              America 1995\n",
       "3 USA     19              America 1996\n",
       "4 China    5              Asia    1994\n",
       "5 China    5              Asia    1995\n",
       "6 China    5              Asia    1996\n",
       "7 Sudan   10              Africa  1994\n",
       "8 Sudan   10              Africa  1995\n",
       "9 Sudan   10              Africa  1996"
      ]
     },
     "metadata": {},
     "output_type": "display_data"
    }
   ],
   "source": [
    "join(demo, region, on = \"country\", kind = \"inner\")"
   ]
  },
  {
   "cell_type": "markdown",
   "id": "72cfa033",
   "metadata": {},
   "source": [
    "...oops.  Now each country-year appears three times in our data! If we try to analyze this statistically, these repeat observations would make our results meaningless.\n",
    "\n",
    "And again, no warnings, no error messages."
   ]
  },
  {
   "cell_type": "markdown",
   "id": "7ce5e22b",
   "metadata": {},
   "source": [
    "## Merging with Checks\n",
    "\n",
    "And now we get to the reason that I am a big advocate of using the [statar](https://github.com/matthieugomez/statar) package for merging: unlike other R packages, statar implements a number of safety features that are default in most other languages (in this case, the author is inspired by Stata, thus the name):\n",
    "\n",
    "- **Check Merge Type:** If you specify whether you you're doing a 1-to-1, many-to-1, 1-to-many, or many-to-many merge, statar will check the data to see if you are correct. If not, it will raise an error. \n",
    "- **Provide Merge Diagnostics:** statar provides a diagnostic tool for evaluating whether your merges were successful to catch situations like the `USA` / `United States` situation described above.\n",
    "\n",
    "### Checking Merge Type\n",
    "\n",
    "To illustrate, let's try our region merge again with statar. We *think* we're doing a many-to-1 merge (we expect several country-year pairs in `demo` to each match to one row in `region`), so we use the argument `check = m~1`:"
   ]
  },
  {
   "cell_type": "markdown",
   "id": "a7ae4d7f",
   "metadata": {},
   "source": [
    "\n",
    "```R\n",
    "join(demo, region, kind = \"inner\", on = \"country\", check = m~1)\n",
    "\n",
    "> ERROR: Error: Variable(s) country don't uniquely identify observations in y\n",
    "> Error: Variable(s) country don't uniquely identify observations in y\n",
    "> Traceback:\n",
    "> \n",
    "> 1. join(demo, region, kind = \"inner\", on = \"country\", check = m ~ \n",
    "> .     1)\n",
    "> 2. stop(paste0(\"Variable(s) \", paste(vars, collapse = \" \"), \" don't uniquely identify observations in y\"), \n",
    "> .     call. = FALSE)\n",
    "```"
   ]
  },
  {
   "cell_type": "markdown",
   "id": "fe6f7fa4",
   "metadata": {},
   "source": [
    "Ta-da! It points out that `country` doesn't uniquely identify rows in our `region` dataset! Now we know we have a problem, and we won't make a dataset full of duplicate entries. "
   ]
  },
  {
   "cell_type": "markdown",
   "id": "63676526",
   "metadata": {},
   "source": [
    "### Providing Merge Diagnostics"
   ]
  },
  {
   "cell_type": "markdown",
   "id": "a4add8b5",
   "metadata": {},
   "source": [
    "statar provides merge diagnostic information when you use the `gen` argument -- you pass it a character, and it creates a new column with that name that tells you about whether each row is the result of a successful merge:"
   ]
  },
  {
   "cell_type": "code",
   "execution_count": 6,
   "id": "5afa0646",
   "metadata": {},
   "outputs": [
    {
     "data": {
      "text/html": [
       "<table class=\"dataframe\">\n",
       "<caption>A data.frame: 9 × 3</caption>\n",
       "<thead>\n",
       "\t<tr><th scope=col>country</th><th scope=col>year</th><th scope=col>democracy_score</th></tr>\n",
       "\t<tr><th scope=col>&lt;fct&gt;</th><th scope=col>&lt;int&gt;</th><th scope=col>&lt;dbl&gt;</th></tr>\n",
       "</thead>\n",
       "<tbody>\n",
       "\t<tr><td>USA  </td><td>1994</td><td>18</td></tr>\n",
       "\t<tr><td>China</td><td>1994</td><td>13</td></tr>\n",
       "\t<tr><td>Sudan</td><td>1994</td><td> 5</td></tr>\n",
       "\t<tr><td>USA  </td><td>1995</td><td>12</td></tr>\n",
       "\t<tr><td>China</td><td>1995</td><td> 3</td></tr>\n",
       "\t<tr><td>Sudan</td><td>1995</td><td>10</td></tr>\n",
       "\t<tr><td>USA  </td><td>1996</td><td> 1</td></tr>\n",
       "\t<tr><td>China</td><td>1996</td><td>11</td></tr>\n",
       "\t<tr><td>Sudan</td><td>1996</td><td> 9</td></tr>\n",
       "</tbody>\n",
       "</table>\n"
      ],
      "text/latex": [
       "A data.frame: 9 × 3\n",
       "\\begin{tabular}{lll}\n",
       " country & year & democracy\\_score\\\\\n",
       " <fct> & <int> & <dbl>\\\\\n",
       "\\hline\n",
       "\t USA   & 1994 & 18\\\\\n",
       "\t China & 1994 & 13\\\\\n",
       "\t Sudan & 1994 &  5\\\\\n",
       "\t USA   & 1995 & 12\\\\\n",
       "\t China & 1995 &  3\\\\\n",
       "\t Sudan & 1995 & 10\\\\\n",
       "\t USA   & 1996 &  1\\\\\n",
       "\t China & 1996 & 11\\\\\n",
       "\t Sudan & 1996 &  9\\\\\n",
       "\\end{tabular}\n"
      ],
      "text/markdown": [
       "\n",
       "A data.frame: 9 × 3\n",
       "\n",
       "| country &lt;fct&gt; | year &lt;int&gt; | democracy_score &lt;dbl&gt; |\n",
       "|---|---|---|\n",
       "| USA   | 1994 | 18 |\n",
       "| China | 1994 | 13 |\n",
       "| Sudan | 1994 |  5 |\n",
       "| USA   | 1995 | 12 |\n",
       "| China | 1995 |  3 |\n",
       "| Sudan | 1995 | 10 |\n",
       "| USA   | 1996 |  1 |\n",
       "| China | 1996 | 11 |\n",
       "| Sudan | 1996 |  9 |\n",
       "\n"
      ],
      "text/plain": [
       "  country year democracy_score\n",
       "1 USA     1994 18             \n",
       "2 China   1994 13             \n",
       "3 Sudan   1994  5             \n",
       "4 USA     1995 12             \n",
       "5 China   1995  3             \n",
       "6 Sudan   1995 10             \n",
       "7 USA     1996  1             \n",
       "8 China   1996 11             \n",
       "9 Sudan   1996  9             "
      ]
     },
     "metadata": {},
     "output_type": "display_data"
    },
    {
     "name": "stderr",
     "output_type": "stream",
     "text": [
      "Joining, by = c(\"year\", \"country\")\n",
      "\n"
     ]
    },
    {
     "data": {
      "text/html": [
       "<table class=\"dataframe\">\n",
       "<caption>A data.frame: 12 × 5</caption>\n",
       "<thead>\n",
       "\t<tr><th scope=col>year</th><th scope=col>country</th><th scope=col>gdp_pc</th><th scope=col>democracy_score</th><th scope=col>merge_check</th></tr>\n",
       "\t<tr><th scope=col>&lt;int&gt;</th><th scope=col>&lt;fct&gt;</th><th scope=col>&lt;dbl&gt;</th><th scope=col>&lt;dbl&gt;</th><th scope=col>&lt;int&gt;</th></tr>\n",
       "</thead>\n",
       "<tbody>\n",
       "\t<tr><td>1994</td><td>United States</td><td>17207</td><td>NA</td><td>1</td></tr>\n",
       "\t<tr><td>1995</td><td>United States</td><td>17452</td><td>NA</td><td>1</td></tr>\n",
       "\t<tr><td>1996</td><td>United States</td><td>15535</td><td>NA</td><td>1</td></tr>\n",
       "\t<tr><td>1994</td><td>China        </td><td> 6393</td><td>13</td><td>3</td></tr>\n",
       "\t<tr><td>1995</td><td>China        </td><td>17644</td><td> 3</td><td>3</td></tr>\n",
       "\t<tr><td>1996</td><td>China        </td><td> 4306</td><td>11</td><td>3</td></tr>\n",
       "\t<tr><td>1994</td><td>Sudan        </td><td>19115</td><td> 5</td><td>3</td></tr>\n",
       "\t<tr><td>1995</td><td>Sudan        </td><td> 8380</td><td>10</td><td>3</td></tr>\n",
       "\t<tr><td>1996</td><td>Sudan        </td><td> 6835</td><td> 9</td><td>3</td></tr>\n",
       "\t<tr><td>1994</td><td>USA          </td><td>   NA</td><td>18</td><td>2</td></tr>\n",
       "\t<tr><td>1995</td><td>USA          </td><td>   NA</td><td>12</td><td>2</td></tr>\n",
       "\t<tr><td>1996</td><td>USA          </td><td>   NA</td><td> 1</td><td>2</td></tr>\n",
       "</tbody>\n",
       "</table>\n"
      ],
      "text/latex": [
       "A data.frame: 12 × 5\n",
       "\\begin{tabular}{lllll}\n",
       " year & country & gdp\\_pc & democracy\\_score & merge\\_check\\\\\n",
       " <int> & <fct> & <dbl> & <dbl> & <int>\\\\\n",
       "\\hline\n",
       "\t 1994 & United States & 17207 & NA & 1\\\\\n",
       "\t 1995 & United States & 17452 & NA & 1\\\\\n",
       "\t 1996 & United States & 15535 & NA & 1\\\\\n",
       "\t 1994 & China         &  6393 & 13 & 3\\\\\n",
       "\t 1995 & China         & 17644 &  3 & 3\\\\\n",
       "\t 1996 & China         &  4306 & 11 & 3\\\\\n",
       "\t 1994 & Sudan         & 19115 &  5 & 3\\\\\n",
       "\t 1995 & Sudan         &  8380 & 10 & 3\\\\\n",
       "\t 1996 & Sudan         &  6835 &  9 & 3\\\\\n",
       "\t 1994 & USA           &    NA & 18 & 2\\\\\n",
       "\t 1995 & USA           &    NA & 12 & 2\\\\\n",
       "\t 1996 & USA           &    NA &  1 & 2\\\\\n",
       "\\end{tabular}\n"
      ],
      "text/markdown": [
       "\n",
       "A data.frame: 12 × 5\n",
       "\n",
       "| year &lt;int&gt; | country &lt;fct&gt; | gdp_pc &lt;dbl&gt; | democracy_score &lt;dbl&gt; | merge_check &lt;int&gt; |\n",
       "|---|---|---|---|---|\n",
       "| 1994 | United States | 17207 | NA | 1 |\n",
       "| 1995 | United States | 17452 | NA | 1 |\n",
       "| 1996 | United States | 15535 | NA | 1 |\n",
       "| 1994 | China         |  6393 | 13 | 3 |\n",
       "| 1995 | China         | 17644 |  3 | 3 |\n",
       "| 1996 | China         |  4306 | 11 | 3 |\n",
       "| 1994 | Sudan         | 19115 |  5 | 3 |\n",
       "| 1995 | Sudan         |  8380 | 10 | 3 |\n",
       "| 1996 | Sudan         |  6835 |  9 | 3 |\n",
       "| 1994 | USA           |    NA | 18 | 2 |\n",
       "| 1995 | USA           |    NA | 12 | 2 |\n",
       "| 1996 | USA           |    NA |  1 | 2 |\n",
       "\n"
      ],
      "text/plain": [
       "   year country       gdp_pc democracy_score merge_check\n",
       "1  1994 United States 17207  NA              1          \n",
       "2  1995 United States 17452  NA              1          \n",
       "3  1996 United States 15535  NA              1          \n",
       "4  1994 China          6393  13              3          \n",
       "5  1995 China         17644   3              3          \n",
       "6  1996 China          4306  11              3          \n",
       "7  1994 Sudan         19115   5              3          \n",
       "8  1995 Sudan          8380  10              3          \n",
       "9  1996 Sudan          6835   9              3          \n",
       "10 1994 USA              NA  18              2          \n",
       "11 1995 USA              NA  12              2          \n",
       "12 1996 USA              NA   1              2          "
      ]
     },
     "metadata": {},
     "output_type": "display_data"
    }
   ],
   "source": [
    "# Do our merge with US problem\n",
    "# as an outer (\"full\") merge. \n",
    "# `gen=\"_merge\"` will now add a column\n",
    "# to our data with diagnostic info. \n",
    "\n",
    "# Update demo to have year again. \n",
    "demo <- data.frame(\n",
    "    expand.grid(country = c(\"USA\", \"China\", \"Sudan\"), year = 1994:1996),\n",
    "    democracy_score = round(runif(9, 0, 20), 0)\n",
    "    )\n",
    "demo\n",
    "\n",
    "merged_data <- join(econ, demo, on = c(\"country\", \"year\"),\n",
    "                    kind = \"full\", gen = \"merge_check\",\n",
    "                    check = 1~1)\n",
    "merged_data"
   ]
  },
  {
   "cell_type": "markdown",
   "id": "735a5508",
   "metadata": {},
   "source": [
    "As you can see, `join` has added a column called `merge_check` with values of 1, 2, and 3. The meaning of these is:\n",
    "\n",
    "- `1`: Row in left dataset, no match in right dataset. \n",
    "- `2`: Row in right dataset, no match in left dataset. \n",
    "- `3`: Row merged successfully. \n",
    "\n",
    "We can now check these values with `table()`:"
   ]
  },
  {
   "cell_type": "code",
   "execution_count": 7,
   "id": "eaaebbdd",
   "metadata": {},
   "outputs": [
    {
     "data": {
      "text/plain": [
       "\n",
       "1 2 3 \n",
       "3 3 6 "
      ]
     },
     "metadata": {},
     "output_type": "display_data"
    }
   ],
   "source": [
    "table(merged_data$merge_check)"
   ]
  },
  {
   "cell_type": "markdown",
   "id": "fa531751",
   "metadata": {},
   "source": [
    "And we can add tests here too! For example, if we expected everything to merge correctly, we can add the following test (again, see [defensive programming reading](defensive_programming.ipynb) for discussion of tests):"
   ]
  },
  {
   "cell_type": "code",
   "execution_count": 8,
   "id": "92ce97f2",
   "metadata": {},
   "outputs": [],
   "source": [
    "library(assertthat)"
   ]
  },
  {
   "cell_type": "markdown",
   "id": "1a36bbd2",
   "metadata": {},
   "source": [
    "```R\n",
    "assert_that(all(merged_data$merge_check == 3))\n",
    "\n",
    "> ERROR: Error: Elements 1, 2, 3, 10, 11, 12 of merged_data$merge_check == 3 are not true\n",
    "> Error: Elements 1, 2, 3, 10, 11, 12 of merged_data$merge_check == 3 are not true\n",
    "> Traceback:\n",
    "> \n",
    "> 1. assert_that(all(merged_data$merge_check == 3))\n",
    "```"
   ]
  },
  {
   "cell_type": "markdown",
   "id": "8f9bd22f",
   "metadata": {},
   "source": [
    "And now we know something went wrong. What went wrong? Let's look at the rows that didn't merge!"
   ]
  },
  {
   "cell_type": "code",
   "execution_count": 9,
   "id": "e6e635da",
   "metadata": {},
   "outputs": [
    {
     "data": {
      "text/html": [
       "<table class=\"dataframe\">\n",
       "<caption>A data.frame: 6 × 5</caption>\n",
       "<thead>\n",
       "\t<tr><th></th><th scope=col>year</th><th scope=col>country</th><th scope=col>gdp_pc</th><th scope=col>democracy_score</th><th scope=col>merge_check</th></tr>\n",
       "\t<tr><th></th><th scope=col>&lt;int&gt;</th><th scope=col>&lt;fct&gt;</th><th scope=col>&lt;dbl&gt;</th><th scope=col>&lt;dbl&gt;</th><th scope=col>&lt;int&gt;</th></tr>\n",
       "</thead>\n",
       "<tbody>\n",
       "\t<tr><th scope=row>1</th><td>1994</td><td>United States</td><td>17207</td><td>NA</td><td>1</td></tr>\n",
       "\t<tr><th scope=row>2</th><td>1995</td><td>United States</td><td>17452</td><td>NA</td><td>1</td></tr>\n",
       "\t<tr><th scope=row>3</th><td>1996</td><td>United States</td><td>15535</td><td>NA</td><td>1</td></tr>\n",
       "\t<tr><th scope=row>10</th><td>1994</td><td>USA          </td><td>   NA</td><td>18</td><td>2</td></tr>\n",
       "\t<tr><th scope=row>11</th><td>1995</td><td>USA          </td><td>   NA</td><td>12</td><td>2</td></tr>\n",
       "\t<tr><th scope=row>12</th><td>1996</td><td>USA          </td><td>   NA</td><td> 1</td><td>2</td></tr>\n",
       "</tbody>\n",
       "</table>\n"
      ],
      "text/latex": [
       "A data.frame: 6 × 5\n",
       "\\begin{tabular}{r|lllll}\n",
       "  & year & country & gdp\\_pc & democracy\\_score & merge\\_check\\\\\n",
       "  & <int> & <fct> & <dbl> & <dbl> & <int>\\\\\n",
       "\\hline\n",
       "\t1 & 1994 & United States & 17207 & NA & 1\\\\\n",
       "\t2 & 1995 & United States & 17452 & NA & 1\\\\\n",
       "\t3 & 1996 & United States & 15535 & NA & 1\\\\\n",
       "\t10 & 1994 & USA           &    NA & 18 & 2\\\\\n",
       "\t11 & 1995 & USA           &    NA & 12 & 2\\\\\n",
       "\t12 & 1996 & USA           &    NA &  1 & 2\\\\\n",
       "\\end{tabular}\n"
      ],
      "text/markdown": [
       "\n",
       "A data.frame: 6 × 5\n",
       "\n",
       "| <!--/--> | year &lt;int&gt; | country &lt;fct&gt; | gdp_pc &lt;dbl&gt; | democracy_score &lt;dbl&gt; | merge_check &lt;int&gt; |\n",
       "|---|---|---|---|---|---|\n",
       "| 1 | 1994 | United States | 17207 | NA | 1 |\n",
       "| 2 | 1995 | United States | 17452 | NA | 1 |\n",
       "| 3 | 1996 | United States | 15535 | NA | 1 |\n",
       "| 10 | 1994 | USA           |    NA | 18 | 2 |\n",
       "| 11 | 1995 | USA           |    NA | 12 | 2 |\n",
       "| 12 | 1996 | USA           |    NA |  1 | 2 |\n",
       "\n"
      ],
      "text/plain": [
       "   year country       gdp_pc democracy_score merge_check\n",
       "1  1994 United States 17207  NA              1          \n",
       "2  1995 United States 17452  NA              1          \n",
       "3  1996 United States 15535  NA              1          \n",
       "10 1994 USA              NA  18              2          \n",
       "11 1995 USA              NA  12              2          \n",
       "12 1996 USA              NA   1              2          "
      ]
     },
     "metadata": {},
     "output_type": "display_data"
    }
   ],
   "source": [
    "merged_data[merged_data$merge_check != 3, ]"
   ]
  },
  {
   "cell_type": "markdown",
   "id": "43aeba61",
   "metadata": {},
   "source": [
    "Well there you go then! We can immediately see the problem.\n",
    "\n",
    "As a rule, I basically *never* do inner joins, because with an inner join any problems with the merge -- e.g. rows you expected to merge that didn't -- get dropped, masking any problems. \n",
    "\n",
    "Instead, I strongly recommend always doing a *full join*, checking the diagnostic information provided by `join`, and then dropping any rows you no longer want."
   ]
  },
  {
   "cell_type": "markdown",
   "id": "cd7c99f8",
   "metadata": {},
   "source": [
    "**But what if I *want* to do an inner, left, or right join?** \n",
    "\n",
    "Simple! Do the outer join, then drop the rows you don't want using your `merge_check` variable. e.g. for an inner join, you can do `merged_data = merged_data[merged_data$merge_check == 3,]`, for a left join you can do `merged_data = merged_data[merged_data$merge_check != 2,]`, etc. But crucially, you can now do these *after* you've made sure nothing crazy happened in your merge by looking at the `merge_check` values. "
   ]
  },
  {
   "cell_type": "markdown",
   "id": "f1399689",
   "metadata": {},
   "source": [
    "## Exercises for Now\n",
    "\n",
    "Merge the three data frames defined below. Your final data frame should have 9 rows and 5 columns. Hint: merge only two data frames at a time."
   ]
  },
  {
   "cell_type": "code",
   "execution_count": 10,
   "id": "2f9a2d95",
   "metadata": {
    "lines_to_next_cell": 2
   },
   "outputs": [],
   "source": [
    "df1 <- data.frame(\n",
    "    name = c(\"Mary\", \"Thor\", \"Sven\", \"Jane\", \"Ake\", \"Stephan\",\n",
    "             \"Bjorn\", \"Oden\", \"Dennis\"),\n",
    "    treatment_gr = c(rep(c(1, 2, 3), each = 3)),\n",
    "    weight_p1 = round(runif(9, 100, 200), 0)\n",
    "    )\n",
    "df2 <- data.frame(\n",
    "    name = c(\"Sven\", \"Jane\", \"Ake\", \"Mary\", \"Thor\", \"Stephan\",\n",
    "             \"Oden\", \"Bjorn\"),\n",
    "    weight_p2 = round(runif(8, 100, 200), 0)\n",
    "    )\n",
    "df3 <- data.frame(\n",
    "    treatment_gr = c(1, 2, 3),\n",
    "    type = c(\"dog-lovers\", \"cat-lovers\", \"all-lovers\")\n",
    "    )"
   ]
  }
 ],
 "metadata": {
  "jupytext": {
   "cell_metadata_filter": "-all",
   "main_language": "R",
   "notebook_metadata_filter": "-all"
  },
  "kernelspec": {
   "display_name": "R",
   "language": "R",
   "name": "ir"
  },
  "language_info": {
   "codemirror_mode": "r",
   "file_extension": ".r",
   "mimetype": "text/x-r-source",
   "name": "R",
   "pygments_lexer": "r",
   "version": "4.1.0"
  }
 },
 "nbformat": 4,
 "nbformat_minor": 5
}