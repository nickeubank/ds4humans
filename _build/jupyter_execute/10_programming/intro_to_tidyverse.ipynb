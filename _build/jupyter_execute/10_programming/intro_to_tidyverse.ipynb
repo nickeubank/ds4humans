{
 "cells": [
  {
   "cell_type": "markdown",
   "id": "77f1f20d",
   "metadata": {},
   "source": [
    "# dplyr and the Tidyverse\n",
    "\n",
    "In our previous readings, we learned how to accomplish tasks like subsetting and modifying variables using what's called \"array indexing\" (using those `[]` square brackets). \n",
    "\n",
    "There is, however, another approach to manipulating dataframes in R that is very popular: using a set of functions provided by the `dplyr` package. \n",
    "\n",
    "dplyr is one of a collection of libraries known collectively as the [tidyverse](https://www.tidyverse.org/) designed to essentially provide a way of working with data in R that's a little different from the array-indexing approach we've been focused on up to this point. \n",
    "\n",
    "To be clear *dplyr doesn't allow you to do anything you couldn't do with array indexing, it just provides different ways to write your commands.* But the way it allows you to write commands is something that many people find quite compelling. \n",
    "\n",
    "## The Philosophy of dplyr\n",
    "\n",
    "Before we get into dplyr, however, a quick word on the philosophy of dplyr and the tidyverse more generally. The tidyverse is *very* popular, but it also has some detractors. The basic concern people have with dplyr is that it provides a big library specialized commands for doing specific dataframe manipulations. *But*...\n",
    "\n",
    "As a result, learning the tidyverse amounts to learning lots of specific functions rather than generalized concepts. In most cases, tidyverse packages don't embrace *generalized abstractions*, like array indexing. \n",
    "\n",
    "As we've seen in our past readings, in regular R the logic that dictates how vectors work informs how matrices work, which in turn informs how dataframes work. And if you move into three or four dimensional arrays for modeling time series or real world volumes at some point, what you know about vectors and matrices will also apply there. Indeed, the concept of an array and the idea of array indexing is such a fundamental abstraction in data science that you'll also find it in languages like Python, Matlab, and Julia you may sometime end up using.\n",
    "\n",
    "As such, over-reliance on the tidyverse may limit students' opportunity to learn to combine basic building blocks to accomplish sophisticated tasks. If you only want to do things for which the tidyverse provides an explicit function, that's not a problem, but it limits ones' understanding of how to get R to do things that *aren't* covered by a specific function in R, which is often what is required when doing social science research.\n",
    "\n",
    "(If you want to read a more eloquent version of this critique, [you can find one here](https://towardsdatascience.com/a-thousand-gadgets-my-thoughts-on-the-r-tidyverse-2441d8504433).)\n",
    "\n",
    "None of that is to suggest you should avoid dplyr or the rest of the tidyverse entirely. To the contrary, I think the tidyverse plotting library (`ggplot`) is the best plotting library around, and I'm a fan of several dplyr functions (especially `rename`, which makes an otherwise tedious task quite simple). \n",
    "\n",
    "But as you use it, be mindful of its different philosophy of programming it embodies, and how using it shapes the way you think about using R."
   ]
  },
  {
   "cell_type": "markdown",
   "id": "8c34b2a1",
   "metadata": {},
   "source": [
    "## Mapping Array Indexing onto dplyr\n",
    "\n",
    "The easiest way to introduce dplyr, I think, is just to show how the things we did in our last reading are done in dplyr:"
   ]
  },
  {
   "cell_type": "markdown",
   "id": "c29bcae0",
   "metadata": {},
   "source": [
    "**Row Operations**\n",
    "\n",
    "- Subset rows by logical: \n",
    "  - Base R: `df[df$col1 < 42, ]` or `df[df[, col1] < 42, ]`\n",
    "  - dplyr: `filter(df, col1 < 42)`\n",
    "- Random sample of N rows: \n",
    "  - Base R: `df[sample(nrow(df), N), ]`\n",
    "  - dplyr: `slice_sample(df, N)`\n",
    "- Sort rows (ascending, one column): \n",
    "  - Base R: `df[order(df$col1), ]`\n",
    "  - dplyr: `arrange(df, col1)`\n",
    "- Sort rows (descending, one column): \n",
    "  - Base R: `df[order(-df$col1), ]`\n",
    "  - dplyr: `arrange(df, desc(col1))`\n",
    "- Sort rows (multiple columns): \n",
    "  - Base R: `df[order(df$col1, df$col2), ]`\n",
    "  - dplyr: `arrange(df, col1, col2)`\n",
    "\n",
    "**Column Operations**\n",
    "\n",
    "- Subset one column by name: \n",
    "  - Base R: `df$col1` or `df[, \"col1\"]`\n",
    "  - dplyr: `select(countries, country, gdp_pc)`\n",
    "- Subset multiple columns by name: \n",
    "  - Base R: `df[ , c(\"col1\", \"col2\")]`\n",
    "  - dplyr: `select(df, col1, col2)`\n",
    "- Drop one column: \n",
    "  - Base R: `df$col1 <- NULL`\n",
    "  - dplyr: `select(df, -col1)`\n",
    "- Drop set of columns: \n",
    "  - Base R: `df[ , !(names(df) %in% c(\"col1\", \"col2\"))]`\n",
    "  - dplyr: `select(df, -col1, -col2)`\n",
    "- Editing a single column: \n",
    "  - Base R: `df$col1 <- df$col1 * 42` or `df[, \"col1\"] <- df[, \"col1\"] * 42`\n",
    "  - dplyr: `mutate(countries, gdp_pc = gdp_pc / 1000)`\n",
    "- Create new column: \n",
    "  - Base R: `df$newcol <- df$col1 * 42` or `df[, \"newcol\"] <- df[, \"col1\"] * 42`\n",
    "  - dplyr: `mutate(countries, gdppc_1k = gdp_pc / 1000)`"
   ]
  },
  {
   "cell_type": "markdown",
   "id": "fd4bec52",
   "metadata": {},
   "source": [
    "## Installing dplyr\n",
    "\n",
    "If you want to play with dplyr, you need to:\n",
    "\n",
    "- Install dplyr with the command `install.packages(\"dplyr\")`. You only have to do this once on a given computer.\n",
    "- Load it into your R session with `library(dplyr)`. This you have to run every time you open R and want to use dplyr. "
   ]
  },
  {
   "cell_type": "markdown",
   "id": "e6ab91cc",
   "metadata": {},
   "source": [
    "## Chaining\n",
    "\n",
    "The last feature of dplyr to be aware of is *chaining*. Chaining is a way of combining commands to make code more concise. Basically, you use the command `%>%` to tell R to take the result of one function and make it the first argument in the next. "
   ]
  },
  {
   "cell_type": "markdown",
   "id": "71028b59",
   "metadata": {},
   "source": [
    "In dplyr, if we wanted to change `country` into all lower case text, we could do:\n",
    "\n",
    "```r\n",
    "mutate(countries, country = tolower(country))\n",
    "```\n",
    "\n",
    "But alternatively, we could use chaining to do:\n",
    "\n",
    "```r\n",
    "countries %>% mutate(country = tolower(country))\n",
    "```\n",
    "\n",
    "Where `countries` is understood to be the first argument for `mutate`. \n",
    "\n",
    "Obviously this isn't very efficient with only one command, but it can be used with a long series of commands. To illustrate, let's return to our old `countries` example dataset:"
   ]
  },
  {
   "cell_type": "markdown",
   "id": "6e5d037e",
   "metadata": {},
   "source": [
    "Suppose we wanted to use `countries` to create a new data frame called `countries_new`, which should have observations from years 1995 and 1996 (dropping 1994), should be sorted by country name (in lower case), and should have a new variable equal to GDP per capita in 1000s.\n",
    "\n",
    "Here's how we could do this with dplyr commands, but without chaining: "
   ]
  },
  {
   "cell_type": "code",
   "execution_count": 1,
   "id": "db72bd0b",
   "metadata": {},
   "outputs": [
    {
     "name": "stderr",
     "output_type": "stream",
     "text": [
      "\n",
      "Attaching package: ‘dplyr’\n",
      "\n",
      "\n"
     ]
    },
    {
     "name": "stderr",
     "output_type": "stream",
     "text": [
      "The following objects are masked from ‘package:stats’:\n",
      "\n",
      "    filter, lag\n",
      "\n",
      "\n"
     ]
    },
    {
     "name": "stderr",
     "output_type": "stream",
     "text": [
      "The following objects are masked from ‘package:base’:\n",
      "\n",
      "    intersect, setdiff, setequal, union\n",
      "\n",
      "\n"
     ]
    },
    {
     "data": {
      "text/html": [
       "<table class=\"dataframe\">\n",
       "<caption>A data.frame: 9 × 3</caption>\n",
       "<thead>\n",
       "\t<tr><th scope=col>country</th><th scope=col>year</th><th scope=col>gdp_pc</th></tr>\n",
       "\t<tr><th scope=col>&lt;chr&gt;</th><th scope=col>&lt;dbl&gt;</th><th scope=col>&lt;dbl&gt;</th></tr>\n",
       "</thead>\n",
       "<tbody>\n",
       "\t<tr><td>USA  </td><td>1994</td><td>11467</td></tr>\n",
       "\t<tr><td>China</td><td>1994</td><td>18406</td></tr>\n",
       "\t<tr><td>Sudan</td><td>1994</td><td> 6410</td></tr>\n",
       "\t<tr><td>USA  </td><td>1995</td><td>13599</td></tr>\n",
       "\t<tr><td>China</td><td>1995</td><td> 9530</td></tr>\n",
       "\t<tr><td>Sudan</td><td>1995</td><td> 1334</td></tr>\n",
       "\t<tr><td>USA  </td><td>1996</td><td>11208</td></tr>\n",
       "\t<tr><td>China</td><td>1996</td><td> 7057</td></tr>\n",
       "\t<tr><td>Sudan</td><td>1996</td><td>15406</td></tr>\n",
       "</tbody>\n",
       "</table>\n"
      ],
      "text/latex": [
       "A data.frame: 9 × 3\n",
       "\\begin{tabular}{lll}\n",
       " country & year & gdp\\_pc\\\\\n",
       " <chr> & <dbl> & <dbl>\\\\\n",
       "\\hline\n",
       "\t USA   & 1994 & 11467\\\\\n",
       "\t China & 1994 & 18406\\\\\n",
       "\t Sudan & 1994 &  6410\\\\\n",
       "\t USA   & 1995 & 13599\\\\\n",
       "\t China & 1995 &  9530\\\\\n",
       "\t Sudan & 1995 &  1334\\\\\n",
       "\t USA   & 1996 & 11208\\\\\n",
       "\t China & 1996 &  7057\\\\\n",
       "\t Sudan & 1996 & 15406\\\\\n",
       "\\end{tabular}\n"
      ],
      "text/markdown": [
       "\n",
       "A data.frame: 9 × 3\n",
       "\n",
       "| country &lt;chr&gt; | year &lt;dbl&gt; | gdp_pc &lt;dbl&gt; |\n",
       "|---|---|---|\n",
       "| USA   | 1994 | 11467 |\n",
       "| China | 1994 | 18406 |\n",
       "| Sudan | 1994 |  6410 |\n",
       "| USA   | 1995 | 13599 |\n",
       "| China | 1995 |  9530 |\n",
       "| Sudan | 1995 |  1334 |\n",
       "| USA   | 1996 | 11208 |\n",
       "| China | 1996 |  7057 |\n",
       "| Sudan | 1996 | 15406 |\n",
       "\n"
      ],
      "text/plain": [
       "  country year gdp_pc\n",
       "1 USA     1994 11467 \n",
       "2 China   1994 18406 \n",
       "3 Sudan   1994  6410 \n",
       "4 USA     1995 13599 \n",
       "5 China   1995  9530 \n",
       "6 Sudan   1995  1334 \n",
       "7 USA     1996 11208 \n",
       "8 China   1996  7057 \n",
       "9 Sudan   1996 15406 "
      ]
     },
     "metadata": {},
     "output_type": "display_data"
    }
   ],
   "source": [
    "library(dplyr)\n",
    "country <- rep(c(\"USA\", \"China\", \"Sudan\"), 3)\n",
    "year <- c(1994, 1994, 1994, 1995, 1995, 1995, 1996, 1996, 1996)\n",
    "gdp_pc <- round(runif(9, 1000, 20000))\n",
    "\n",
    "countries <- data.frame(country, year, gdp_pc)\n",
    "countries"
   ]
  },
  {
   "cell_type": "code",
   "execution_count": 2,
   "id": "84beb030",
   "metadata": {},
   "outputs": [
    {
     "data": {
      "text/html": [
       "<table class=\"dataframe\">\n",
       "<caption>A data.frame: 6 × 4</caption>\n",
       "<thead>\n",
       "\t<tr><th scope=col>country</th><th scope=col>year</th><th scope=col>gdp_pc</th><th scope=col>gdppc_1k</th></tr>\n",
       "\t<tr><th scope=col>&lt;chr&gt;</th><th scope=col>&lt;dbl&gt;</th><th scope=col>&lt;dbl&gt;</th><th scope=col>&lt;dbl&gt;</th></tr>\n",
       "</thead>\n",
       "<tbody>\n",
       "\t<tr><td>china</td><td>1995</td><td> 9530</td><td> 9.530</td></tr>\n",
       "\t<tr><td>china</td><td>1996</td><td> 7057</td><td> 7.057</td></tr>\n",
       "\t<tr><td>sudan</td><td>1995</td><td> 1334</td><td> 1.334</td></tr>\n",
       "\t<tr><td>sudan</td><td>1996</td><td>15406</td><td>15.406</td></tr>\n",
       "\t<tr><td>usa  </td><td>1995</td><td>13599</td><td>13.599</td></tr>\n",
       "\t<tr><td>usa  </td><td>1996</td><td>11208</td><td>11.208</td></tr>\n",
       "</tbody>\n",
       "</table>\n"
      ],
      "text/latex": [
       "A data.frame: 6 × 4\n",
       "\\begin{tabular}{llll}\n",
       " country & year & gdp\\_pc & gdppc\\_1k\\\\\n",
       " <chr> & <dbl> & <dbl> & <dbl>\\\\\n",
       "\\hline\n",
       "\t china & 1995 &  9530 &  9.530\\\\\n",
       "\t china & 1996 &  7057 &  7.057\\\\\n",
       "\t sudan & 1995 &  1334 &  1.334\\\\\n",
       "\t sudan & 1996 & 15406 & 15.406\\\\\n",
       "\t usa   & 1995 & 13599 & 13.599\\\\\n",
       "\t usa   & 1996 & 11208 & 11.208\\\\\n",
       "\\end{tabular}\n"
      ],
      "text/markdown": [
       "\n",
       "A data.frame: 6 × 4\n",
       "\n",
       "| country &lt;chr&gt; | year &lt;dbl&gt; | gdp_pc &lt;dbl&gt; | gdppc_1k &lt;dbl&gt; |\n",
       "|---|---|---|---|\n",
       "| china | 1995 |  9530 |  9.530 |\n",
       "| china | 1996 |  7057 |  7.057 |\n",
       "| sudan | 1995 |  1334 |  1.334 |\n",
       "| sudan | 1996 | 15406 | 15.406 |\n",
       "| usa   | 1995 | 13599 | 13.599 |\n",
       "| usa   | 1996 | 11208 | 11.208 |\n",
       "\n"
      ],
      "text/plain": [
       "  country year gdp_pc gdppc_1k\n",
       "1 china   1995  9530   9.530  \n",
       "2 china   1996  7057   7.057  \n",
       "3 sudan   1995  1334   1.334  \n",
       "4 sudan   1996 15406  15.406  \n",
       "5 usa     1995 13599  13.599  \n",
       "6 usa     1996 11208  11.208  "
      ]
     },
     "metadata": {},
     "output_type": "display_data"
    }
   ],
   "source": [
    "countries_new <- filter(countries, year != 1994) #drop year 1994\n",
    "countries_new <- arrange(countries_new, country) #sort by country names\n",
    "countries_new <- mutate(countries_new, country = tolower(country), #convert name to lower-case\n",
    "                        gdppc_1k = gdp_pc / 1000) #create GDP pc in 1000s\n",
    "countries_new"
   ]
  },
  {
   "cell_type": "markdown",
   "id": "6dbdadd3",
   "metadata": {},
   "source": [
    "And now here's the same thing using chaining: "
   ]
  },
  {
   "cell_type": "code",
   "execution_count": 3,
   "id": "759a60e0",
   "metadata": {},
   "outputs": [
    {
     "data": {
      "text/html": [
       "<table class=\"dataframe\">\n",
       "<caption>A data.frame: 6 × 4</caption>\n",
       "<thead>\n",
       "\t<tr><th scope=col>country</th><th scope=col>year</th><th scope=col>gdp_pc</th><th scope=col>gdppc_1k</th></tr>\n",
       "\t<tr><th scope=col>&lt;chr&gt;</th><th scope=col>&lt;dbl&gt;</th><th scope=col>&lt;dbl&gt;</th><th scope=col>&lt;dbl&gt;</th></tr>\n",
       "</thead>\n",
       "<tbody>\n",
       "\t<tr><td>china</td><td>1995</td><td> 9530</td><td> 9.530</td></tr>\n",
       "\t<tr><td>china</td><td>1996</td><td> 7057</td><td> 7.057</td></tr>\n",
       "\t<tr><td>sudan</td><td>1995</td><td> 1334</td><td> 1.334</td></tr>\n",
       "\t<tr><td>sudan</td><td>1996</td><td>15406</td><td>15.406</td></tr>\n",
       "\t<tr><td>usa  </td><td>1995</td><td>13599</td><td>13.599</td></tr>\n",
       "\t<tr><td>usa  </td><td>1996</td><td>11208</td><td>11.208</td></tr>\n",
       "</tbody>\n",
       "</table>\n"
      ],
      "text/latex": [
       "A data.frame: 6 × 4\n",
       "\\begin{tabular}{llll}\n",
       " country & year & gdp\\_pc & gdppc\\_1k\\\\\n",
       " <chr> & <dbl> & <dbl> & <dbl>\\\\\n",
       "\\hline\n",
       "\t china & 1995 &  9530 &  9.530\\\\\n",
       "\t china & 1996 &  7057 &  7.057\\\\\n",
       "\t sudan & 1995 &  1334 &  1.334\\\\\n",
       "\t sudan & 1996 & 15406 & 15.406\\\\\n",
       "\t usa   & 1995 & 13599 & 13.599\\\\\n",
       "\t usa   & 1996 & 11208 & 11.208\\\\\n",
       "\\end{tabular}\n"
      ],
      "text/markdown": [
       "\n",
       "A data.frame: 6 × 4\n",
       "\n",
       "| country &lt;chr&gt; | year &lt;dbl&gt; | gdp_pc &lt;dbl&gt; | gdppc_1k &lt;dbl&gt; |\n",
       "|---|---|---|---|\n",
       "| china | 1995 |  9530 |  9.530 |\n",
       "| china | 1996 |  7057 |  7.057 |\n",
       "| sudan | 1995 |  1334 |  1.334 |\n",
       "| sudan | 1996 | 15406 | 15.406 |\n",
       "| usa   | 1995 | 13599 | 13.599 |\n",
       "| usa   | 1996 | 11208 | 11.208 |\n",
       "\n"
      ],
      "text/plain": [
       "  country year gdp_pc gdppc_1k\n",
       "1 china   1995  9530   9.530  \n",
       "2 china   1996  7057   7.057  \n",
       "3 sudan   1995  1334   1.334  \n",
       "4 sudan   1996 15406  15.406  \n",
       "5 usa     1995 13599  13.599  \n",
       "6 usa     1996 11208  11.208  "
      ]
     },
     "metadata": {},
     "output_type": "display_data"
    }
   ],
   "source": [
    "countries_new <- countries %>%\n",
    "    filter(year != 1994) %>%\n",
    "    arrange(country) %>%\n",
    "    mutate(country = tolower(country), gdppc_1k = gdp_pc / 1000)\n",
    "countries_new"
   ]
  },
  {
   "cell_type": "markdown",
   "id": "4e3e69b6",
   "metadata": {},
   "source": [
    "Chaining always begins with specifying the data frame we want to operate on (e.g.,\n",
    "`countries`).  Every subsequent statement will then operate on this data frame, starting with the function that comes right after the data frame and working its way down.  In our case, the first thing we'll do to `countries` is to subset it. We'll then sort it by country name. Lastly, we'll overwrite the country name to be lower-case and create a new variable representing GDP per capita in 1000s.\n",
    "\n",
    "Is chaining *better*? Some people find chaining makes code more readable. It certainly makes it more concise. \n",
    "\n",
    "Personally, my preference is actually to break down long chains of manipulations into a series of distinct commands. Why? Because it allows me to look at each intermediate step and make sure I didn't mess something up. And as we'll discuss in a later reading, I think you should *always* assume you've messed something up, because humans are bad at programming! And if you chain a bunch of manipulations, there's no way to look at the intermediate outputs to check for errors. \n",
    "\n",
    "But again, chaining is definitely the more popular approach to R these days, so it's important to introduce!"
   ]
  },
  {
   "cell_type": "markdown",
   "id": "53a8ad56",
   "metadata": {},
   "source": [
    "## WARNING: Non-standard Evaluation in the Tidyverse\n",
    "\n",
    "One feature of the tidyverse syntax that may not immediately jump out at you but which is important to bear in mind is that when you type column names in tidyverse functions, you don't have to put them in double-quotes:\n",
    "\n",
    "```R\n",
    "# To select the column named country:\n",
    "select(countries, country) \n",
    "```\n",
    "\n",
    "Whereas that is something you have to do with array indexing:\n",
    "\n",
    "```R\n",
    "countries[, \"country\"]\n",
    "```\n",
    "\n",
    "That's because dplyr and other tidyverse functions make use of something called \"non-standard evaluation.\"\n",
    "\n",
    "Normally in a programming language like R, text sitting on its own is interpreted as a variable, and the first thing the language does is replace the variable with the data assigned to that variable. For example, in the second line of the code below, R sees `a`, interprets it as a variable, and so replaces it with `7` when evaluating the expression. "
   ]
  },
  {
   "cell_type": "code",
   "execution_count": 4,
   "id": "11b60694",
   "metadata": {},
   "outputs": [
    {
     "data": {
      "text/html": [
       "42"
      ],
      "text/latex": [
       "42"
      ],
      "text/markdown": [
       "42"
      ],
      "text/plain": [
       "[1] 42"
      ]
     },
     "metadata": {},
     "output_type": "display_data"
    }
   ],
   "source": [
    "a <- 7\n",
    "6 * a"
   ]
  },
  {
   "cell_type": "markdown",
   "id": "e56ce22f",
   "metadata": {},
   "source": [
    "When you have text you want the computer to think of as *data* and not as a variable, you normally have to put it in quotes. e.g.:"
   ]
  },
  {
   "cell_type": "code",
   "execution_count": 5,
   "id": "bc4da48b",
   "metadata": {},
   "outputs": [
    {
     "name": "stdout",
     "output_type": "stream",
     "text": [
      "[1] 7\n"
     ]
    }
   ],
   "source": [
    "a <- 7\n",
    "\n",
    "# a without quotes interpreted as a variable:\n",
    "print(a)"
   ]
  },
  {
   "cell_type": "code",
   "execution_count": 6,
   "id": "7ad74cb9",
   "metadata": {},
   "outputs": [
    {
     "name": "stdout",
     "output_type": "stream",
     "text": [
      "[1] \"a\"\n"
     ]
    }
   ],
   "source": [
    "# a with double quotes interpreted\n",
    "# as data -- namely, the character a\n",
    "print(\"a\")"
   ]
  },
  {
   "cell_type": "markdown",
   "id": "165ff24d",
   "metadata": {},
   "source": [
    "\n",
    "\n",
    "\n",
    "\n",
    "But tidyverse functions interpret text on its own as *data*, not as variables."
   ]
  },
  {
   "cell_type": "markdown",
   "id": "34527caf",
   "metadata": {},
   "source": [
    "We'll talk later about some of the reasons that this can cause problems, but for the moment I just want to emphasize this because **\"When do I use double quotes?\"** is a common question from students, and the fact that the rules change between array indexing and tidyverse functions is a common source of confusion. \n",
    "\n",
    "So:\n",
    "\n",
    "- Normally, text without quotes is interpreted as the name of a variable, *but*\n",
    "- In tidyverse functions, text without quotes is interpreted as data."
   ]
  },
  {
   "cell_type": "markdown",
   "id": "0d348210",
   "metadata": {},
   "source": [
    "## Summing Up\n",
    "\n",
    "In conclusion, dplyr allows you to write more concise commands with more familiar terminology -- `select` and `filter` rather than array notation. Chaining, similarly, can definitely make code more concise. As a result, many people are drawn to dplyr, and you may be too!\n",
    "\n",
    "So should you use it? Well, first of all, this isn't a yes or no question -- you may decide there are a couple `dplyr` functions you really love, but that you don't like all of them. And more generally, at this point you know a lot about these different approaches to dataframe manipulation, and how tidyverse modifies how R works. That means you can make *your own* educated decision based on your *own* preferences.\n",
    "\n",
    "As for me, I use elements of the tidyverse -- especially `ggplot` for plotting, which we'll cover in a later lesson -- with some frequency. But I'm comfortable doing so because I know that anytime I need to do something that doesn't feel natural within the tidyverse framework, or where I run into problems (we'll discuss how easily that happens when you're writing loops in a later lesson), I know I'm not reliant on the tidyverse and can turn to other tools when necessary.\n",
    "\n",
    "### Want to Learn More?\n",
    "\n",
    "If there's anything the tidyverse is good at, it's documentation! [Here are the docs for dplyr.](https://dplyr.tidyverse.org/)"
   ]
  }
 ],
 "metadata": {
  "jupytext": {
   "cell_metadata_filter": "tags,eval,-all",
   "main_language": "R",
   "notebook_metadata_filter": "-all"
  },
  "kernelspec": {
   "display_name": "R",
   "language": "R",
   "name": "ir"
  },
  "language_info": {
   "codemirror_mode": "r",
   "file_extension": ".r",
   "mimetype": "text/x-r-source",
   "name": "R",
   "pygments_lexer": "r",
   "version": "4.1.0"
  }
 },
 "nbformat": 4,
 "nbformat_minor": 5
}