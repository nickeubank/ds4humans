{
 "cells": [
  {
   "cell_type": "markdown",
   "id": "b632b548",
   "metadata": {},
   "source": [
    "# Function Example\n",
    "\n",
    "Functions are nice tools both for creating generalizable code, and also just for organizing your work. Because a function is a bundle of code that does one thing, putting parts of your work in functions can be helpful in defining the goal of that chunk of code. \n",
    "\n",
    "To illustrate one use of a function, we'll write a function that reads and manipulates a .csv file. We can then put this in a for loop to iterate over several files with a similar structure and combine the resulting data frames into one data frame.\n",
    "\n",
    "As you'll see, one *could* cram all the code we're gonna write directly into the for-loop at the end, but by breaking out part of it into a function, the problem is more easily broken into smaller parts. \n",
    "\n",
    "What follows is an example of how you might use functions in a real data science workflow. The goal is not for you to be comfortable with everything that you see -- for example, the code uses a couple of tricks for manipulating data on dates -- but rather just to get to see what some of this stuff looks like!"
   ]
  },
  {
   "cell_type": "markdown",
   "id": "8c730b93",
   "metadata": {},
   "source": [
    "### Reading several files\n",
    "\n",
    "\n",
    "Begin by downloading a [.zip file with service request data from NYC](https://github.com/nickeubank/computational_methods_boot_camp/blob/main/source/data/nyc-311-sample.zip). The zip file contains six files for years 2004-2009, each with 10,000 observations. The data are originally from [NYC's Open Data portal](https://nycopendata.socrata.com/data?cat=social%20services), which hosts datasets with millions of service requests filed by residents through the city's 311 program. For the purpose of this example, I have taken a random sample of 10,000 for each year.\n",
    "\n",
    "Here's what the 2004 file looks like (the other years have the same structure)."
   ]
  },
  {
   "cell_type": "code",
   "execution_count": 1,
   "id": "c204e4a5",
   "metadata": {
    "tags": [
     "remove_input"
    ]
   },
   "outputs": [
    {
     "data": {
      "text/html": [
       "<table class=\"dataframe\">\n",
       "<caption>A data.frame: 6 × 5</caption>\n",
       "<thead>\n",
       "\t<tr><th></th><th scope=col>Unique.Key</th><th scope=col>Created.Date</th><th scope=col>Closed.Date</th><th scope=col>Complaint.Type</th><th scope=col>Location</th></tr>\n",
       "\t<tr><th></th><th scope=col>&lt;int&gt;</th><th scope=col>&lt;chr&gt;</th><th scope=col>&lt;chr&gt;</th><th scope=col>&lt;chr&gt;</th><th scope=col>&lt;chr&gt;</th></tr>\n",
       "</thead>\n",
       "<tbody>\n",
       "\t<tr><th scope=row>1</th><td>4735434</td><td>01/23/2004 12:00 AM</td><td>02/02/2004 12:00 AM</td><td>Boilers                      </td><td>(40.71511134258793, -73.98998982667266) </td></tr>\n",
       "\t<tr><th scope=row>2</th><td>7547062</td><td>06/04/2004 12:00 AM</td><td>06/09/2004 12:00 AM</td><td>HEATING                      </td><td>(40.871781348425515, -73.88238262118011)</td></tr>\n",
       "\t<tr><th scope=row>3</th><td>5050661</td><td>08/04/2004 12:00 AM</td><td>08/06/2004 12:00 AM</td><td>General Construction/Plumbing</td><td>(40.59418801428136, -73.80082145383885) </td></tr>\n",
       "\t<tr><th scope=row>4</th><td>7281795</td><td>11/26/2004 12:00 AM</td><td>12/10/2004 12:00 AM</td><td>PLUMBING                     </td><td>(40.85911979460089, -73.90605127158484) </td></tr>\n",
       "\t<tr><th scope=row>5</th><td>1443894</td><td>08/22/2004 12:00 AM</td><td>08/22/2004 12:00 AM</td><td>Noise - Street/Sidewalk      </td><td>(40.54800892371052, -74.17041676351323) </td></tr>\n",
       "\t<tr><th scope=row>6</th><td>3244577</td><td>12/02/2004 12:00 AM</td><td>12/15/2004 12:00 AM</td><td>Noise                        </td><td>                                        </td></tr>\n",
       "</tbody>\n",
       "</table>\n"
      ],
      "text/latex": [
       "A data.frame: 6 × 5\n",
       "\\begin{tabular}{r|lllll}\n",
       "  & Unique.Key & Created.Date & Closed.Date & Complaint.Type & Location\\\\\n",
       "  & <int> & <chr> & <chr> & <chr> & <chr>\\\\\n",
       "\\hline\n",
       "\t1 & 4735434 & 01/23/2004 12:00 AM & 02/02/2004 12:00 AM & Boilers                       & (40.71511134258793, -73.98998982667266) \\\\\n",
       "\t2 & 7547062 & 06/04/2004 12:00 AM & 06/09/2004 12:00 AM & HEATING                       & (40.871781348425515, -73.88238262118011)\\\\\n",
       "\t3 & 5050661 & 08/04/2004 12:00 AM & 08/06/2004 12:00 AM & General Construction/Plumbing & (40.59418801428136, -73.80082145383885) \\\\\n",
       "\t4 & 7281795 & 11/26/2004 12:00 AM & 12/10/2004 12:00 AM & PLUMBING                      & (40.85911979460089, -73.90605127158484) \\\\\n",
       "\t5 & 1443894 & 08/22/2004 12:00 AM & 08/22/2004 12:00 AM & Noise - Street/Sidewalk       & (40.54800892371052, -74.17041676351323) \\\\\n",
       "\t6 & 3244577 & 12/02/2004 12:00 AM & 12/15/2004 12:00 AM & Noise                         &                                         \\\\\n",
       "\\end{tabular}\n"
      ],
      "text/markdown": [
       "\n",
       "A data.frame: 6 × 5\n",
       "\n",
       "| <!--/--> | Unique.Key &lt;int&gt; | Created.Date &lt;chr&gt; | Closed.Date &lt;chr&gt; | Complaint.Type &lt;chr&gt; | Location &lt;chr&gt; |\n",
       "|---|---|---|---|---|---|\n",
       "| 1 | 4735434 | 01/23/2004 12:00 AM | 02/02/2004 12:00 AM | Boilers                       | (40.71511134258793, -73.98998982667266)  |\n",
       "| 2 | 7547062 | 06/04/2004 12:00 AM | 06/09/2004 12:00 AM | HEATING                       | (40.871781348425515, -73.88238262118011) |\n",
       "| 3 | 5050661 | 08/04/2004 12:00 AM | 08/06/2004 12:00 AM | General Construction/Plumbing | (40.59418801428136, -73.80082145383885)  |\n",
       "| 4 | 7281795 | 11/26/2004 12:00 AM | 12/10/2004 12:00 AM | PLUMBING                      | (40.85911979460089, -73.90605127158484)  |\n",
       "| 5 | 1443894 | 08/22/2004 12:00 AM | 08/22/2004 12:00 AM | Noise - Street/Sidewalk       | (40.54800892371052, -74.17041676351323)  |\n",
       "| 6 | 3244577 | 12/02/2004 12:00 AM | 12/15/2004 12:00 AM | Noise                         | <!----> |\n",
       "\n"
      ],
      "text/plain": [
       "  Unique.Key Created.Date        Closed.Date        \n",
       "1 4735434    01/23/2004 12:00 AM 02/02/2004 12:00 AM\n",
       "2 7547062    06/04/2004 12:00 AM 06/09/2004 12:00 AM\n",
       "3 5050661    08/04/2004 12:00 AM 08/06/2004 12:00 AM\n",
       "4 7281795    11/26/2004 12:00 AM 12/10/2004 12:00 AM\n",
       "5 1443894    08/22/2004 12:00 AM 08/22/2004 12:00 AM\n",
       "6 3244577    12/02/2004 12:00 AM 12/15/2004 12:00 AM\n",
       "  Complaint.Type                Location                                \n",
       "1 Boilers                       (40.71511134258793, -73.98998982667266) \n",
       "2 HEATING                       (40.871781348425515, -73.88238262118011)\n",
       "3 General Construction/Plumbing (40.59418801428136, -73.80082145383885) \n",
       "4 PLUMBING                      (40.85911979460089, -73.90605127158484) \n",
       "5 Noise - Street/Sidewalk       (40.54800892371052, -74.17041676351323) \n",
       "6 Noise                                                                 "
      ]
     },
     "metadata": {},
     "output_type": "display_data"
    }
   ],
   "source": [
    "url2004 <- \"https://raw.githubusercontent.com/nickeubank/computational_methods_boot_camp/main/source/data/nyc-311-sample/nyc-311-2004-sample.csv\"\n",
    "nyc04 <- read.csv(url2004)\n",
    "head(nyc04)"
   ]
  },
  {
   "cell_type": "markdown",
   "id": "2d1a18d1",
   "metadata": {},
   "source": [
    "The variables in the data are as follows: \n",
    "\n",
    "* `Unique.Key`: An id number unique to each request.\n",
    "* `Created.Date`: The date the request was filed in the 311 system.\n",
    "* `Closed.Date`: The date the request was resolved by city workers (`NA`\n",
    "implies that it was never resolved).\n",
    "* `Complaint.Type`: The subject of the complaint.\n",
    "* `Location`: Coordinates that give the location of the service issue."
   ]
  },
  {
   "cell_type": "markdown",
   "id": "5a032579",
   "metadata": {},
   "source": [
    "Our goal with the function is to read the file and clean it. In particular,\n",
    "we want to convert the `Created.Date` and `Closed.Date` variables so that\n",
    "R recognizes them as dates. From these variables, we can then calculate\n",
    "measures of *government responsiveness*: (1) how many days it took city\n",
    "workers to resolve a request, and (2) whether or not a request was resolved\n",
    "within a week. "
   ]
  },
  {
   "cell_type": "code",
   "execution_count": 2,
   "id": "07260f38",
   "metadata": {},
   "outputs": [
    {
     "name": "stderr",
     "output_type": "stream",
     "text": [
      "\n",
      "Attaching package: ‘lubridate’\n",
      "\n",
      "\n"
     ]
    },
    {
     "name": "stderr",
     "output_type": "stream",
     "text": [
      "The following objects are masked from ‘package:base’:\n",
      "\n",
      "    date, intersect, setdiff, union\n",
      "\n",
      "\n"
     ]
    }
   ],
   "source": [
    "library(lubridate) # to work with dates"
   ]
  },
  {
   "cell_type": "code",
   "execution_count": 3,
   "id": "19385704",
   "metadata": {},
   "outputs": [],
   "source": [
    "# Load required packages\n",
    "\n",
    "# Create a function that reads and cleans a service request file.\n",
    "# The input is the name of a service request file and the\n",
    "# output is a data frame with cleaned variables.\n",
    "clean_dta <- function(file_name) {\n",
    "\n",
    "    # Read the file and save it to an object called 'dta'\n",
    "    dta <- read.csv(file_name)\n",
    "\n",
    "    # Clean the dates in the dta file and generate responsiveness measures\n",
    "    # mdy(substring(dta$Created.Date, 1, 10)) pulls just the month-day-year\n",
    "    # from our columns with dates, then `mdy` tells R to read it as a date\n",
    "    # in month-day-year format.\n",
    "\n",
    "    dta$opened <- mdy(substring(dta$Created.Date, 1, 10))\n",
    "    dta$closed <- mdy(substring(dta$Closed.Date, 1, 10))\n",
    "\n",
    "    # Number of days between an issue opens and is resolved.\n",
    "    dta$resptime <- as.numeric(difftime(dta$closed, dta$opened, units = \"days\"))\n",
    "\n",
    "    # Create indicator of whether solved within 7 days.\n",
    "    # responses in less than 0 is bad data.\n",
    "    dta[dta$resptime < 0 | is.na(dta$resptime), \"resptime\"] <- NA\n",
    "    dta$solvedin7 <- as.numeric(dta$resptime <= 7)\n",
    "\n",
    "    # Return the cleaned data\n",
    "    return(dta)\n",
    "}"
   ]
  },
  {
   "cell_type": "markdown",
   "id": "39e480e6",
   "metadata": {},
   "source": [
    "Let's test the function on the 2004 data:"
   ]
  },
  {
   "cell_type": "code",
   "execution_count": 4,
   "id": "e1b8ea6b",
   "metadata": {
    "eval": false
   },
   "outputs": [
    {
     "data": {
      "text/html": [
       "<table class=\"dataframe\">\n",
       "<caption>A data.frame: 6 × 9</caption>\n",
       "<thead>\n",
       "\t<tr><th></th><th scope=col>Unique.Key</th><th scope=col>Created.Date</th><th scope=col>Closed.Date</th><th scope=col>Complaint.Type</th><th scope=col>Location</th><th scope=col>opened</th><th scope=col>closed</th><th scope=col>resptime</th><th scope=col>solvedin7</th></tr>\n",
       "\t<tr><th></th><th scope=col>&lt;int&gt;</th><th scope=col>&lt;chr&gt;</th><th scope=col>&lt;chr&gt;</th><th scope=col>&lt;chr&gt;</th><th scope=col>&lt;chr&gt;</th><th scope=col>&lt;date&gt;</th><th scope=col>&lt;date&gt;</th><th scope=col>&lt;dbl&gt;</th><th scope=col>&lt;dbl&gt;</th></tr>\n",
       "</thead>\n",
       "<tbody>\n",
       "\t<tr><th scope=row>1</th><td>4735434</td><td>01/23/2004 12:00 AM</td><td>02/02/2004 12:00 AM</td><td>Boilers                      </td><td>(40.71511134258793, -73.98998982667266) </td><td>2004-01-23</td><td>2004-02-02</td><td>10</td><td>0</td></tr>\n",
       "\t<tr><th scope=row>2</th><td>7547062</td><td>06/04/2004 12:00 AM</td><td>06/09/2004 12:00 AM</td><td>HEATING                      </td><td>(40.871781348425515, -73.88238262118011)</td><td>2004-06-04</td><td>2004-06-09</td><td> 5</td><td>1</td></tr>\n",
       "\t<tr><th scope=row>3</th><td>5050661</td><td>08/04/2004 12:00 AM</td><td>08/06/2004 12:00 AM</td><td>General Construction/Plumbing</td><td>(40.59418801428136, -73.80082145383885) </td><td>2004-08-04</td><td>2004-08-06</td><td> 2</td><td>1</td></tr>\n",
       "\t<tr><th scope=row>4</th><td>7281795</td><td>11/26/2004 12:00 AM</td><td>12/10/2004 12:00 AM</td><td>PLUMBING                     </td><td>(40.85911979460089, -73.90605127158484) </td><td>2004-11-26</td><td>2004-12-10</td><td>14</td><td>0</td></tr>\n",
       "\t<tr><th scope=row>5</th><td>1443894</td><td>08/22/2004 12:00 AM</td><td>08/22/2004 12:00 AM</td><td>Noise - Street/Sidewalk      </td><td>(40.54800892371052, -74.17041676351323) </td><td>2004-08-22</td><td>2004-08-22</td><td> 0</td><td>1</td></tr>\n",
       "\t<tr><th scope=row>6</th><td>3244577</td><td>12/02/2004 12:00 AM</td><td>12/15/2004 12:00 AM</td><td>Noise                        </td><td>                                        </td><td>2004-12-02</td><td>2004-12-15</td><td>13</td><td>0</td></tr>\n",
       "</tbody>\n",
       "</table>\n"
      ],
      "text/latex": [
       "A data.frame: 6 × 9\n",
       "\\begin{tabular}{r|lllllllll}\n",
       "  & Unique.Key & Created.Date & Closed.Date & Complaint.Type & Location & opened & closed & resptime & solvedin7\\\\\n",
       "  & <int> & <chr> & <chr> & <chr> & <chr> & <date> & <date> & <dbl> & <dbl>\\\\\n",
       "\\hline\n",
       "\t1 & 4735434 & 01/23/2004 12:00 AM & 02/02/2004 12:00 AM & Boilers                       & (40.71511134258793, -73.98998982667266)  & 2004-01-23 & 2004-02-02 & 10 & 0\\\\\n",
       "\t2 & 7547062 & 06/04/2004 12:00 AM & 06/09/2004 12:00 AM & HEATING                       & (40.871781348425515, -73.88238262118011) & 2004-06-04 & 2004-06-09 &  5 & 1\\\\\n",
       "\t3 & 5050661 & 08/04/2004 12:00 AM & 08/06/2004 12:00 AM & General Construction/Plumbing & (40.59418801428136, -73.80082145383885)  & 2004-08-04 & 2004-08-06 &  2 & 1\\\\\n",
       "\t4 & 7281795 & 11/26/2004 12:00 AM & 12/10/2004 12:00 AM & PLUMBING                      & (40.85911979460089, -73.90605127158484)  & 2004-11-26 & 2004-12-10 & 14 & 0\\\\\n",
       "\t5 & 1443894 & 08/22/2004 12:00 AM & 08/22/2004 12:00 AM & Noise - Street/Sidewalk       & (40.54800892371052, -74.17041676351323)  & 2004-08-22 & 2004-08-22 &  0 & 1\\\\\n",
       "\t6 & 3244577 & 12/02/2004 12:00 AM & 12/15/2004 12:00 AM & Noise                         &                                          & 2004-12-02 & 2004-12-15 & 13 & 0\\\\\n",
       "\\end{tabular}\n"
      ],
      "text/markdown": [
       "\n",
       "A data.frame: 6 × 9\n",
       "\n",
       "| <!--/--> | Unique.Key &lt;int&gt; | Created.Date &lt;chr&gt; | Closed.Date &lt;chr&gt; | Complaint.Type &lt;chr&gt; | Location &lt;chr&gt; | opened &lt;date&gt; | closed &lt;date&gt; | resptime &lt;dbl&gt; | solvedin7 &lt;dbl&gt; |\n",
       "|---|---|---|---|---|---|---|---|---|---|\n",
       "| 1 | 4735434 | 01/23/2004 12:00 AM | 02/02/2004 12:00 AM | Boilers                       | (40.71511134258793, -73.98998982667266)  | 2004-01-23 | 2004-02-02 | 10 | 0 |\n",
       "| 2 | 7547062 | 06/04/2004 12:00 AM | 06/09/2004 12:00 AM | HEATING                       | (40.871781348425515, -73.88238262118011) | 2004-06-04 | 2004-06-09 |  5 | 1 |\n",
       "| 3 | 5050661 | 08/04/2004 12:00 AM | 08/06/2004 12:00 AM | General Construction/Plumbing | (40.59418801428136, -73.80082145383885)  | 2004-08-04 | 2004-08-06 |  2 | 1 |\n",
       "| 4 | 7281795 | 11/26/2004 12:00 AM | 12/10/2004 12:00 AM | PLUMBING                      | (40.85911979460089, -73.90605127158484)  | 2004-11-26 | 2004-12-10 | 14 | 0 |\n",
       "| 5 | 1443894 | 08/22/2004 12:00 AM | 08/22/2004 12:00 AM | Noise - Street/Sidewalk       | (40.54800892371052, -74.17041676351323)  | 2004-08-22 | 2004-08-22 |  0 | 1 |\n",
       "| 6 | 3244577 | 12/02/2004 12:00 AM | 12/15/2004 12:00 AM | Noise                         | <!----> | 2004-12-02 | 2004-12-15 | 13 | 0 |\n",
       "\n"
      ],
      "text/plain": [
       "  Unique.Key Created.Date        Closed.Date        \n",
       "1 4735434    01/23/2004 12:00 AM 02/02/2004 12:00 AM\n",
       "2 7547062    06/04/2004 12:00 AM 06/09/2004 12:00 AM\n",
       "3 5050661    08/04/2004 12:00 AM 08/06/2004 12:00 AM\n",
       "4 7281795    11/26/2004 12:00 AM 12/10/2004 12:00 AM\n",
       "5 1443894    08/22/2004 12:00 AM 08/22/2004 12:00 AM\n",
       "6 3244577    12/02/2004 12:00 AM 12/15/2004 12:00 AM\n",
       "  Complaint.Type                Location                                \n",
       "1 Boilers                       (40.71511134258793, -73.98998982667266) \n",
       "2 HEATING                       (40.871781348425515, -73.88238262118011)\n",
       "3 General Construction/Plumbing (40.59418801428136, -73.80082145383885) \n",
       "4 PLUMBING                      (40.85911979460089, -73.90605127158484) \n",
       "5 Noise - Street/Sidewalk       (40.54800892371052, -74.17041676351323) \n",
       "6 Noise                                                                 \n",
       "  opened     closed     resptime solvedin7\n",
       "1 2004-01-23 2004-02-02 10       0        \n",
       "2 2004-06-04 2004-06-09  5       1        \n",
       "3 2004-08-04 2004-08-06  2       1        \n",
       "4 2004-11-26 2004-12-10 14       0        \n",
       "5 2004-08-22 2004-08-22  0       1        \n",
       "6 2004-12-02 2004-12-15 13       0        "
      ]
     },
     "metadata": {},
     "output_type": "display_data"
    }
   ],
   "source": [
    "# Execute function on the 2004 data\n",
    "nyc04 <- clean_dta(url2004)\n",
    "head(nyc04)"
   ]
  },
  {
   "cell_type": "markdown",
   "id": "a456bbb3",
   "metadata": {},
   "source": [
    "The cleaned dataset has four new variables:\n",
    "\n",
    "* `opened`: The date the request was filed in date format. \n",
    "* `closed`: The date the request was resolved in date format. \n",
    "* `resptime`: The number of days it took to resolve the request (`closed` - `opened`).\n",
    "* `solvedin7`: A dummy variable equal to 1 if the request was solved within a week\n",
    "  and 0 otherwise. \n",
    "\n",
    "We can now use this function on all the six files using a for loop, or something called lapply() (Read more about `lapply()`\n",
    "[here](http://www.r-bloggers.com/using-apply-sapply-lapply-in-r/))."
   ]
  },
  {
   "cell_type": "code",
   "execution_count": 5,
   "id": "e7097505",
   "metadata": {},
   "outputs": [],
   "source": [
    "# loop over and collect in a list!\n",
    "\n",
    "url_stem <- \"https://raw.githubusercontent.com/nickeubank/computational_methods_boot_camp/main/source/data/nyc-311-sample/nyc-311-\"\n",
    "url_suffix <- \"-sample.csv\"\n",
    "\n",
    "# Get first one so we can append others to the bottom\n",
    "nyc_all <- clean_dta(paste0(url_stem, 2004, url_suffix))\n",
    "\n",
    "for (year in 2005:2009) {\n",
    "    url <- paste0(url_stem, year, url_suffix)\n",
    "    new_data <- clean_dta(url)\n",
    "    nyc_all <- rbind(nyc_all, new_data)\n",
    "}"
   ]
  },
  {
   "cell_type": "code",
   "execution_count": 6,
   "id": "6e78c92a",
   "metadata": {},
   "outputs": [
    {
     "data": {
      "text/html": [
       "<table class=\"dataframe\">\n",
       "<caption>A data.frame: 10 × 9</caption>\n",
       "<thead>\n",
       "\t<tr><th></th><th scope=col>Unique.Key</th><th scope=col>Created.Date</th><th scope=col>Closed.Date</th><th scope=col>Complaint.Type</th><th scope=col>Location</th><th scope=col>opened</th><th scope=col>closed</th><th scope=col>resptime</th><th scope=col>solvedin7</th></tr>\n",
       "\t<tr><th></th><th scope=col>&lt;int&gt;</th><th scope=col>&lt;chr&gt;</th><th scope=col>&lt;chr&gt;</th><th scope=col>&lt;chr&gt;</th><th scope=col>&lt;chr&gt;</th><th scope=col>&lt;date&gt;</th><th scope=col>&lt;date&gt;</th><th scope=col>&lt;dbl&gt;</th><th scope=col>&lt;dbl&gt;</th></tr>\n",
       "</thead>\n",
       "<tbody>\n",
       "\t<tr><th scope=row>47610</th><td>10534075</td><td>02/15/2008 12:00:00 AM</td><td>02/15/2008 12:00:00 AM</td><td>Street Light Condition </td><td>                                        </td><td>2008-02-15</td><td>2008-02-15</td><td>  0</td><td> 1</td></tr>\n",
       "\t<tr><th scope=row>55940</th><td>14159031</td><td>06/11/2009 12:00:00 AM</td><td>07/06/2009 12:00:00 AM</td><td>NONCONST               </td><td>(40.80362587765516, -73.95351270174837) </td><td>2009-06-11</td><td>2009-07-06</td><td> 25</td><td> 0</td></tr>\n",
       "\t<tr><th scope=row>19349</th><td> 8641144</td><td>10/25/2005 12:00 AM   </td><td>10/31/2005 12:00 AM   </td><td>HEATING                </td><td>(40.746848991250026, -73.9905408420637) </td><td>2005-10-25</td><td>2005-10-31</td><td>  6</td><td> 1</td></tr>\n",
       "\t<tr><th scope=row>33128</th><td> 7974827</td><td>02/09/2007 12:00:00 AM</td><td>05/29/2007 12:00:00 AM</td><td>PLUMBING               </td><td>(40.75447146564592, -73.93333435494856) </td><td>2007-02-09</td><td>2007-05-29</td><td>109</td><td> 0</td></tr>\n",
       "\t<tr><th scope=row>39401</th><td> 9751168</td><td>11/03/2007 12:00:00 AM</td><td>11/14/2007 12:00:00 AM</td><td>HEATING                </td><td>(40.886383760684275, -73.91066002823293)</td><td>2007-11-03</td><td>2007-11-14</td><td> 11</td><td> 0</td></tr>\n",
       "\t<tr><th scope=row>41988</th><td>10997116</td><td>04/23/2008 12:00:00 AM</td><td>04/27/2008 12:00:00 AM</td><td>HEATING                </td><td>(40.807353671821666, -73.94236985912137)</td><td>2008-04-23</td><td>2008-04-27</td><td>  4</td><td> 1</td></tr>\n",
       "\t<tr><th scope=row>45031</th><td>11377107</td><td>06/12/2008 12:00:00 AM</td><td>09/02/2008 12:00:00 AM</td><td>Noise                  </td><td>(40.7334958937171, -74.00788405885584)  </td><td>2008-06-12</td><td>2008-09-02</td><td> 82</td><td> 0</td></tr>\n",
       "\t<tr><th scope=row>59148</th><td>15253874</td><td>11/09/2009 12:00:00 AM</td><td>11/09/2009 12:00:00 AM</td><td>Noise - Street/Sidewalk</td><td>(40.6299313034894, -74.13686171825081)  </td><td>2009-11-09</td><td>2009-11-09</td><td>  0</td><td> 1</td></tr>\n",
       "\t<tr><th scope=row>54523</th><td>14467277</td><td>07/25/2009 12:00:00 AM</td><td>07/25/2009 12:00:00 AM</td><td>Derelict Vehicles      </td><td>                                        </td><td>2009-07-25</td><td>2009-07-25</td><td>  0</td><td> 1</td></tr>\n",
       "\t<tr><th scope=row>26562</th><td>  128904</td><td>07/18/2006 12:00 AM   </td><td>                      </td><td>Rodent                 </td><td>(40.725347095007834, -73.83909818770928)</td><td>2006-07-18</td><td>NA</td><td> NA</td><td>NA</td></tr>\n",
       "</tbody>\n",
       "</table>\n"
      ],
      "text/latex": [
       "A data.frame: 10 × 9\n",
       "\\begin{tabular}{r|lllllllll}\n",
       "  & Unique.Key & Created.Date & Closed.Date & Complaint.Type & Location & opened & closed & resptime & solvedin7\\\\\n",
       "  & <int> & <chr> & <chr> & <chr> & <chr> & <date> & <date> & <dbl> & <dbl>\\\\\n",
       "\\hline\n",
       "\t47610 & 10534075 & 02/15/2008 12:00:00 AM & 02/15/2008 12:00:00 AM & Street Light Condition  &                                          & 2008-02-15 & 2008-02-15 &   0 &  1\\\\\n",
       "\t55940 & 14159031 & 06/11/2009 12:00:00 AM & 07/06/2009 12:00:00 AM & NONCONST                & (40.80362587765516, -73.95351270174837)  & 2009-06-11 & 2009-07-06 &  25 &  0\\\\\n",
       "\t19349 &  8641144 & 10/25/2005 12:00 AM    & 10/31/2005 12:00 AM    & HEATING                 & (40.746848991250026, -73.9905408420637)  & 2005-10-25 & 2005-10-31 &   6 &  1\\\\\n",
       "\t33128 &  7974827 & 02/09/2007 12:00:00 AM & 05/29/2007 12:00:00 AM & PLUMBING                & (40.75447146564592, -73.93333435494856)  & 2007-02-09 & 2007-05-29 & 109 &  0\\\\\n",
       "\t39401 &  9751168 & 11/03/2007 12:00:00 AM & 11/14/2007 12:00:00 AM & HEATING                 & (40.886383760684275, -73.91066002823293) & 2007-11-03 & 2007-11-14 &  11 &  0\\\\\n",
       "\t41988 & 10997116 & 04/23/2008 12:00:00 AM & 04/27/2008 12:00:00 AM & HEATING                 & (40.807353671821666, -73.94236985912137) & 2008-04-23 & 2008-04-27 &   4 &  1\\\\\n",
       "\t45031 & 11377107 & 06/12/2008 12:00:00 AM & 09/02/2008 12:00:00 AM & Noise                   & (40.7334958937171, -74.00788405885584)   & 2008-06-12 & 2008-09-02 &  82 &  0\\\\\n",
       "\t59148 & 15253874 & 11/09/2009 12:00:00 AM & 11/09/2009 12:00:00 AM & Noise - Street/Sidewalk & (40.6299313034894, -74.13686171825081)   & 2009-11-09 & 2009-11-09 &   0 &  1\\\\\n",
       "\t54523 & 14467277 & 07/25/2009 12:00:00 AM & 07/25/2009 12:00:00 AM & Derelict Vehicles       &                                          & 2009-07-25 & 2009-07-25 &   0 &  1\\\\\n",
       "\t26562 &   128904 & 07/18/2006 12:00 AM    &                        & Rodent                  & (40.725347095007834, -73.83909818770928) & 2006-07-18 & NA &  NA & NA\\\\\n",
       "\\end{tabular}\n"
      ],
      "text/markdown": [
       "\n",
       "A data.frame: 10 × 9\n",
       "\n",
       "| <!--/--> | Unique.Key &lt;int&gt; | Created.Date &lt;chr&gt; | Closed.Date &lt;chr&gt; | Complaint.Type &lt;chr&gt; | Location &lt;chr&gt; | opened &lt;date&gt; | closed &lt;date&gt; | resptime &lt;dbl&gt; | solvedin7 &lt;dbl&gt; |\n",
       "|---|---|---|---|---|---|---|---|---|---|\n",
       "| 47610 | 10534075 | 02/15/2008 12:00:00 AM | 02/15/2008 12:00:00 AM | Street Light Condition  | <!----> | 2008-02-15 | 2008-02-15 |   0 |  1 |\n",
       "| 55940 | 14159031 | 06/11/2009 12:00:00 AM | 07/06/2009 12:00:00 AM | NONCONST                | (40.80362587765516, -73.95351270174837)  | 2009-06-11 | 2009-07-06 |  25 |  0 |\n",
       "| 19349 |  8641144 | 10/25/2005 12:00 AM    | 10/31/2005 12:00 AM    | HEATING                 | (40.746848991250026, -73.9905408420637)  | 2005-10-25 | 2005-10-31 |   6 |  1 |\n",
       "| 33128 |  7974827 | 02/09/2007 12:00:00 AM | 05/29/2007 12:00:00 AM | PLUMBING                | (40.75447146564592, -73.93333435494856)  | 2007-02-09 | 2007-05-29 | 109 |  0 |\n",
       "| 39401 |  9751168 | 11/03/2007 12:00:00 AM | 11/14/2007 12:00:00 AM | HEATING                 | (40.886383760684275, -73.91066002823293) | 2007-11-03 | 2007-11-14 |  11 |  0 |\n",
       "| 41988 | 10997116 | 04/23/2008 12:00:00 AM | 04/27/2008 12:00:00 AM | HEATING                 | (40.807353671821666, -73.94236985912137) | 2008-04-23 | 2008-04-27 |   4 |  1 |\n",
       "| 45031 | 11377107 | 06/12/2008 12:00:00 AM | 09/02/2008 12:00:00 AM | Noise                   | (40.7334958937171, -74.00788405885584)   | 2008-06-12 | 2008-09-02 |  82 |  0 |\n",
       "| 59148 | 15253874 | 11/09/2009 12:00:00 AM | 11/09/2009 12:00:00 AM | Noise - Street/Sidewalk | (40.6299313034894, -74.13686171825081)   | 2009-11-09 | 2009-11-09 |   0 |  1 |\n",
       "| 54523 | 14467277 | 07/25/2009 12:00:00 AM | 07/25/2009 12:00:00 AM | Derelict Vehicles       | <!----> | 2009-07-25 | 2009-07-25 |   0 |  1 |\n",
       "| 26562 |   128904 | 07/18/2006 12:00 AM    | <!----> | Rodent                  | (40.725347095007834, -73.83909818770928) | 2006-07-18 | NA |  NA | NA |\n",
       "\n"
      ],
      "text/plain": [
       "      Unique.Key Created.Date           Closed.Date           \n",
       "47610 10534075   02/15/2008 12:00:00 AM 02/15/2008 12:00:00 AM\n",
       "55940 14159031   06/11/2009 12:00:00 AM 07/06/2009 12:00:00 AM\n",
       "19349  8641144   10/25/2005 12:00 AM    10/31/2005 12:00 AM   \n",
       "33128  7974827   02/09/2007 12:00:00 AM 05/29/2007 12:00:00 AM\n",
       "39401  9751168   11/03/2007 12:00:00 AM 11/14/2007 12:00:00 AM\n",
       "41988 10997116   04/23/2008 12:00:00 AM 04/27/2008 12:00:00 AM\n",
       "45031 11377107   06/12/2008 12:00:00 AM 09/02/2008 12:00:00 AM\n",
       "59148 15253874   11/09/2009 12:00:00 AM 11/09/2009 12:00:00 AM\n",
       "54523 14467277   07/25/2009 12:00:00 AM 07/25/2009 12:00:00 AM\n",
       "26562   128904   07/18/2006 12:00 AM                          \n",
       "      Complaint.Type          Location                                \n",
       "47610 Street Light Condition                                          \n",
       "55940 NONCONST                (40.80362587765516, -73.95351270174837) \n",
       "19349 HEATING                 (40.746848991250026, -73.9905408420637) \n",
       "33128 PLUMBING                (40.75447146564592, -73.93333435494856) \n",
       "39401 HEATING                 (40.886383760684275, -73.91066002823293)\n",
       "41988 HEATING                 (40.807353671821666, -73.94236985912137)\n",
       "45031 Noise                   (40.7334958937171, -74.00788405885584)  \n",
       "59148 Noise - Street/Sidewalk (40.6299313034894, -74.13686171825081)  \n",
       "54523 Derelict Vehicles                                               \n",
       "26562 Rodent                  (40.725347095007834, -73.83909818770928)\n",
       "      opened     closed     resptime solvedin7\n",
       "47610 2008-02-15 2008-02-15   0       1       \n",
       "55940 2009-06-11 2009-07-06  25       0       \n",
       "19349 2005-10-25 2005-10-31   6       1       \n",
       "33128 2007-02-09 2007-05-29 109       0       \n",
       "39401 2007-11-03 2007-11-14  11       0       \n",
       "41988 2008-04-23 2008-04-27   4       1       \n",
       "45031 2008-06-12 2008-09-02  82       0       \n",
       "59148 2009-11-09 2009-11-09   0       1       \n",
       "54523 2009-07-25 2009-07-25   0       1       \n",
       "26562 2006-07-18 <NA>        NA      NA       "
      ]
     },
     "metadata": {},
     "output_type": "display_data"
    }
   ],
   "source": [
    "# 10 random rows\n",
    "nyc_all[sample(nrow(nyc_all), 10), ]"
   ]
  },
  {
   "cell_type": "markdown",
   "id": "09def00c",
   "metadata": {},
   "source": [
    "Ta-da! We cleaned a whole bunch of different datasets and merged them all together in only handful of lines of code!"
   ]
  },
  {
   "cell_type": "markdown",
   "id": "6e716119",
   "metadata": {},
   "source": [
    "</div>\n",
    "\n",
    "\n"
   ]
  }
 ],
 "metadata": {
  "jupytext": {
   "cell_metadata_filter": "tags,eval,-all",
   "main_language": "R",
   "notebook_metadata_filter": "-all"
  },
  "kernelspec": {
   "display_name": "R",
   "language": "R",
   "name": "ir"
  },
  "language_info": {
   "codemirror_mode": "r",
   "file_extension": ".r",
   "mimetype": "text/x-r-source",
   "name": "R",
   "pygments_lexer": "r",
   "version": "4.1.1"
  }
 },
 "nbformat": 4,
 "nbformat_minor": 5
}