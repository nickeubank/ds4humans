{
    "cells": [
        {
            "cell_type": "markdown",
            "source": [
                "# Intro to Matrices\n",
                "\n",
                "Matrices are a natural extension of the vectors that we have been working with in the last couple reading; where a vector is a collection of data of the same type ordered along a *single* dimension, a matrix is a collection of data of the same type ordered along *two* dimensions.\n",
                "\n",
                "If you've taken a linear algebra course before, the idea of a matrix will be very familiar, but if you haven't,  you can think of a matrix as a collection of vectors lined up side-by-side. For example a 3x3 matrix might look something like:\n",
                "\n",
                "$$\n",
                "\\begin{bmatrix} \n",
                "1 & 2 & 3 \\\\\n",
                "4 & 5 & 6 \\\\\n",
                "7 & 8 & 9 \\\\\n",
                "\\end{bmatrix}\n",
                "\\quad\n",
                "$$\n",
                "\n",
                "Just as vectors are commonly used in social science because we usually don't just have a single observation of data, but instead lots of observations (different survey respondents) that we might want to put into vector, so too do we often have information not just on one type of measurement (age), but lots of different measurements about each observation (age, income, years of education, etc.). Matrices are commonly used to represent this type of data by using each row for an observation (an  survey respondent), and each column for a different thing were measuring.\n",
                "\n",
                "For example, suppose we surveyed three people, and the first one was twenty years old, had an income of 22,000 dollars, and twelve years of education, the second one was thirty five years old, had an income of 65,000 dollars, and sixteen years of education, and the third was fifty five years old, had an income of 19,000 dollars, and had eleven years of education. We could represent that information in a matrix that looks like:\n",
                "\n",
                "$$\n",
                "\\begin{bmatrix} \n",
                "20 & 22000 & 12 \\\\\n",
                "35 & 65000 & 16 \\\\\n",
                "55 & 19000 & 11 \\\\\n",
                "\\end{bmatrix}\n",
                "\\quad\n",
                "$$\n",
                "\n",
                "And while it may not be immediately obvious why, this way of representing our data will turn out to not only be a useful organizational scheme, but it will be incredibly valuable for statistical analyses.\n",
                "\n",
                "## Why Learn About Matrices?\n",
                "\n",
                "There are three reasons to learn about matrices as a social scientist.\n",
                "\n",
                "The first is that matrices underlie nearly all of the statistical models that we use as social scientists, like linear regression, probits models, GMM, etc. And while the average social scientist may not interact with matrices directly on a day to day basis -- most social scientists use convenient packages for fitting these models (like `lm` in R, or `reg` in Stata) -- in order to ensure social science graduate students understand what these models are doing, most graduate statistical methods courses will require students to work directly with matrices to implement these models before they are allowed to move on to just using these convenient packages.\n",
                "\n",
                "The second reason is that matrices are a natural steppingstone from vectors to the data structure that we'll talk about next -- `data.frames`. So everything we learn here will be immediately applicable in our next lesson.\n",
                "\n",
                "In the final reason is that while many social scientists don't work with matrices on a day-to-day basis, you may end up being one of the social scientist who does, so I think it's helpful to make sure you're familiar with what matrices can do said that if you run into a situation where matrices are the right tool for the job, you'll recognize it."
            ],
            "metadata": {}
        },
        {
            "cell_type": "markdown",
            "source": [
                "## Constructing Matrices\n",
                "\n",
                "As with vectors, there are a couple ways of constructing matrices. The first is just by combining a handful of vectors with either the `cbind()` (which will make input vector into a column of the matrix) or `rbind()` (which will make input vector into a row of the matrix):"
            ],
            "metadata": {}
        },
        {
            "cell_type": "code",
            "execution_count": 1,
            "source": [
                "income <- c(22000, 65000, 19000)\n",
                "age <- c(20, 35, 55)\n",
                "education <- c(12, 16, 11)\n",
                "\n",
                "cbind(income, age, education)"
            ],
            "outputs": [
                {
                    "output_type": "display_data",
                    "data": {
                        "text/plain": [
                            "     income age education\n",
                            "[1,] 22000  20  12       \n",
                            "[2,] 65000  35  16       \n",
                            "[3,] 19000  55  11       "
                        ],
                        "text/markdown": [
                            "\n",
                            "A matrix: 3 × 3 of type dbl\n",
                            "\n",
                            "| income | age | education |\n",
                            "|---|---|---|\n",
                            "| 22000 | 20 | 12 |\n",
                            "| 65000 | 35 | 16 |\n",
                            "| 19000 | 55 | 11 |\n",
                            "\n"
                        ],
                        "text/latex": [
                            "A matrix: 3 × 3 of type dbl\n",
                            "\\begin{tabular}{lll}\n",
                            " income & age & education\\\\\n",
                            "\\hline\n",
                            "\t 22000 & 20 & 12\\\\\n",
                            "\t 65000 & 35 & 16\\\\\n",
                            "\t 19000 & 55 & 11\\\\\n",
                            "\\end{tabular}\n"
                        ],
                        "text/html": [
                            "<table class=\"dataframe\">\n",
                            "<caption>A matrix: 3 × 3 of type dbl</caption>\n",
                            "<thead>\n",
                            "\t<tr><th scope=col>income</th><th scope=col>age</th><th scope=col>education</th></tr>\n",
                            "</thead>\n",
                            "<tbody>\n",
                            "\t<tr><td>22000</td><td>20</td><td>12</td></tr>\n",
                            "\t<tr><td>65000</td><td>35</td><td>16</td></tr>\n",
                            "\t<tr><td>19000</td><td>55</td><td>11</td></tr>\n",
                            "</tbody>\n",
                            "</table>\n"
                        ]
                    },
                    "metadata": {}
                }
            ],
            "metadata": {}
        },
        {
            "cell_type": "code",
            "execution_count": 2,
            "source": [
                "respondent1 <- c(20, 22000, 12)\n",
                "respondent2 <- c(35, 65000, 16)\n",
                "respondent3 <- c(55, 19000, 11)\n",
                "\n",
                "rbind(respondent1, respondent2, respondent3)"
            ],
            "outputs": [
                {
                    "output_type": "display_data",
                    "data": {
                        "text/plain": [
                            "            [,1] [,2]  [,3]\n",
                            "respondent1 20   22000 12  \n",
                            "respondent2 35   65000 16  \n",
                            "respondent3 55   19000 11  "
                        ],
                        "text/markdown": [
                            "\n",
                            "A matrix: 3 × 3 of type dbl\n",
                            "\n",
                            "| respondent1 | 20 | 22000 | 12 |\n",
                            "| respondent2 | 35 | 65000 | 16 |\n",
                            "| respondent3 | 55 | 19000 | 11 |\n",
                            "\n"
                        ],
                        "text/latex": [
                            "A matrix: 3 × 3 of type dbl\n",
                            "\\begin{tabular}{r|lll}\n",
                            "\trespondent1 & 20 & 22000 & 12\\\\\n",
                            "\trespondent2 & 35 & 65000 & 16\\\\\n",
                            "\trespondent3 & 55 & 19000 & 11\\\\\n",
                            "\\end{tabular}\n"
                        ],
                        "text/html": [
                            "<table class=\"dataframe\">\n",
                            "<caption>A matrix: 3 × 3 of type dbl</caption>\n",
                            "<tbody>\n",
                            "\t<tr><th scope=row>respondent1</th><td>20</td><td>22000</td><td>12</td></tr>\n",
                            "\t<tr><th scope=row>respondent2</th><td>35</td><td>65000</td><td>16</td></tr>\n",
                            "\t<tr><th scope=row>respondent3</th><td>55</td><td>19000</td><td>11</td></tr>\n",
                            "</tbody>\n",
                            "</table>\n"
                        ]
                    },
                    "metadata": {}
                }
            ],
            "metadata": {}
        },
        {
            "cell_type": "markdown",
            "source": [
                "In addition, you can also construct a matrix by giving it along vector and telling it how to \"fold\" the entries. This is an approach that is actually not super useful in the real world, but is very convenient for making examples, so... I'll use it a little here. "
            ],
            "metadata": {}
        },
        {
            "cell_type": "code",
            "execution_count": 3,
            "source": [
                "matrix(1:9, nrow = 3, ncol = 3)"
            ],
            "outputs": [
                {
                    "output_type": "display_data",
                    "data": {
                        "text/plain": [
                            "     [,1] [,2] [,3]\n",
                            "[1,] 1    4    7   \n",
                            "[2,] 2    5    8   \n",
                            "[3,] 3    6    9   "
                        ],
                        "text/markdown": [
                            "\n",
                            "A matrix: 3 × 3 of type int\n",
                            "\n",
                            "| 1 | 4 | 7 |\n",
                            "| 2 | 5 | 8 |\n",
                            "| 3 | 6 | 9 |\n",
                            "\n"
                        ],
                        "text/latex": [
                            "A matrix: 3 × 3 of type int\n",
                            "\\begin{tabular}{lll}\n",
                            "\t 1 & 4 & 7\\\\\n",
                            "\t 2 & 5 & 8\\\\\n",
                            "\t 3 & 6 & 9\\\\\n",
                            "\\end{tabular}\n"
                        ],
                        "text/html": [
                            "<table class=\"dataframe\">\n",
                            "<caption>A matrix: 3 × 3 of type int</caption>\n",
                            "<tbody>\n",
                            "\t<tr><td>1</td><td>4</td><td>7</td></tr>\n",
                            "\t<tr><td>2</td><td>5</td><td>8</td></tr>\n",
                            "\t<tr><td>3</td><td>6</td><td>9</td></tr>\n",
                            "</tbody>\n",
                            "</table>\n"
                        ]
                    },
                    "metadata": {}
                }
            ],
            "metadata": {}
        },
        {
            "cell_type": "markdown",
            "source": [
                "## Matrix Math\n",
                "\n",
                "As with vectors, matrices provide a extremely efficient way of doing a lot of mathematical operation. Suppose that we had a matrix that had information on survey respondents and their incomes at different periods of time:"
            ],
            "metadata": {}
        },
        {
            "cell_type": "code",
            "execution_count": 4,
            "source": [
                "salary_1980 <- c(30000, 45000, 22000)\n",
                "salary_1990 <- c(37000, 42000, 29000)\n",
                "salary_2000 <- c(49000, 47000, 33000)\n",
                "\n",
                "salaries = cbind(salary_1980, salary_1990, salary_2000)\n",
                "salaries"
            ],
            "outputs": [
                {
                    "output_type": "display_data",
                    "data": {
                        "text/plain": [
                            "     salary_1980 salary_1990 salary_2000\n",
                            "[1,] 30000       37000       49000      \n",
                            "[2,] 45000       42000       47000      \n",
                            "[3,] 22000       29000       33000      "
                        ],
                        "text/markdown": [
                            "\n",
                            "A matrix: 3 × 3 of type dbl\n",
                            "\n",
                            "| salary_1980 | salary_1990 | salary_2000 |\n",
                            "|---|---|---|\n",
                            "| 30000 | 37000 | 49000 |\n",
                            "| 45000 | 42000 | 47000 |\n",
                            "| 22000 | 29000 | 33000 |\n",
                            "\n"
                        ],
                        "text/latex": [
                            "A matrix: 3 × 3 of type dbl\n",
                            "\\begin{tabular}{lll}\n",
                            " salary\\_1980 & salary\\_1990 & salary\\_2000\\\\\n",
                            "\\hline\n",
                            "\t 30000 & 37000 & 49000\\\\\n",
                            "\t 45000 & 42000 & 47000\\\\\n",
                            "\t 22000 & 29000 & 33000\\\\\n",
                            "\\end{tabular}\n"
                        ],
                        "text/html": [
                            "<table class=\"dataframe\">\n",
                            "<caption>A matrix: 3 × 3 of type dbl</caption>\n",
                            "<thead>\n",
                            "\t<tr><th scope=col>salary_1980</th><th scope=col>salary_1990</th><th scope=col>salary_2000</th></tr>\n",
                            "</thead>\n",
                            "<tbody>\n",
                            "\t<tr><td>30000</td><td>37000</td><td>49000</td></tr>\n",
                            "\t<tr><td>45000</td><td>42000</td><td>47000</td></tr>\n",
                            "\t<tr><td>22000</td><td>29000</td><td>33000</td></tr>\n",
                            "</tbody>\n",
                            "</table>\n"
                        ]
                    },
                    "metadata": {}
                }
            ],
            "metadata": {}
        },
        {
            "cell_type": "markdown",
            "source": [
                "And instead of writing them out in dollars, I wanted to convert them out to thousands of dollars to make the table easier to fit on a graph. I can just do:"
            ],
            "metadata": {}
        },
        {
            "cell_type": "code",
            "execution_count": 5,
            "source": [
                "salaries_in_thousands <- salaries / 1000\n",
                "salaries_in_thousands"
            ],
            "outputs": [
                {
                    "output_type": "display_data",
                    "data": {
                        "text/plain": [
                            "     salary_1980 salary_1990 salary_2000\n",
                            "[1,] 30          37          49         \n",
                            "[2,] 45          42          47         \n",
                            "[3,] 22          29          33         "
                        ],
                        "text/markdown": [
                            "\n",
                            "A matrix: 3 × 3 of type dbl\n",
                            "\n",
                            "| salary_1980 | salary_1990 | salary_2000 |\n",
                            "|---|---|---|\n",
                            "| 30 | 37 | 49 |\n",
                            "| 45 | 42 | 47 |\n",
                            "| 22 | 29 | 33 |\n",
                            "\n"
                        ],
                        "text/latex": [
                            "A matrix: 3 × 3 of type dbl\n",
                            "\\begin{tabular}{lll}\n",
                            " salary\\_1980 & salary\\_1990 & salary\\_2000\\\\\n",
                            "\\hline\n",
                            "\t 30 & 37 & 49\\\\\n",
                            "\t 45 & 42 & 47\\\\\n",
                            "\t 22 & 29 & 33\\\\\n",
                            "\\end{tabular}\n"
                        ],
                        "text/html": [
                            "<table class=\"dataframe\">\n",
                            "<caption>A matrix: 3 × 3 of type dbl</caption>\n",
                            "<thead>\n",
                            "\t<tr><th scope=col>salary_1980</th><th scope=col>salary_1990</th><th scope=col>salary_2000</th></tr>\n",
                            "</thead>\n",
                            "<tbody>\n",
                            "\t<tr><td>30</td><td>37</td><td>49</td></tr>\n",
                            "\t<tr><td>45</td><td>42</td><td>47</td></tr>\n",
                            "\t<tr><td>22</td><td>29</td><td>33</td></tr>\n",
                            "</tbody>\n",
                            "</table>\n"
                        ]
                    },
                    "metadata": {}
                }
            ],
            "metadata": {}
        },
        {
            "cell_type": "markdown",
            "source": [
                "Similarly, matrices can be added if they have the same size. If we also had a matrix of tax refunds, and we wanted to calculate everyone's total income, we could just add the matrices:"
            ],
            "metadata": {}
        },
        {
            "cell_type": "code",
            "execution_count": 6,
            "source": [
                "tax_refunds_1980 <- c(10000, 2000, 15000)\n",
                "tax_refunds_1990 <- c(0, 0, 14000)\n",
                "tax_refunds_2000 <- c(0, 0, 7000)\n",
                "\n",
                "refunds <- cbind(tax_refunds_1980, tax_refunds_1990, tax_refunds_2000)\n",
                "refunds\n"
            ],
            "outputs": [
                {
                    "output_type": "display_data",
                    "data": {
                        "text/plain": [
                            "     tax_refunds_1980 tax_refunds_1990 tax_refunds_2000\n",
                            "[1,] 10000                0               0            \n",
                            "[2,]  2000                0               0            \n",
                            "[3,] 15000            14000            7000            "
                        ],
                        "text/markdown": [
                            "\n",
                            "A matrix: 3 × 3 of type dbl\n",
                            "\n",
                            "| tax_refunds_1980 | tax_refunds_1990 | tax_refunds_2000 |\n",
                            "|---|---|---|\n",
                            "| 10000 |     0 |    0 |\n",
                            "|  2000 |     0 |    0 |\n",
                            "| 15000 | 14000 | 7000 |\n",
                            "\n"
                        ],
                        "text/latex": [
                            "A matrix: 3 × 3 of type dbl\n",
                            "\\begin{tabular}{lll}\n",
                            " tax\\_refunds\\_1980 & tax\\_refunds\\_1990 & tax\\_refunds\\_2000\\\\\n",
                            "\\hline\n",
                            "\t 10000 &     0 &    0\\\\\n",
                            "\t  2000 &     0 &    0\\\\\n",
                            "\t 15000 & 14000 & 7000\\\\\n",
                            "\\end{tabular}\n"
                        ],
                        "text/html": [
                            "<table class=\"dataframe\">\n",
                            "<caption>A matrix: 3 × 3 of type dbl</caption>\n",
                            "<thead>\n",
                            "\t<tr><th scope=col>tax_refunds_1980</th><th scope=col>tax_refunds_1990</th><th scope=col>tax_refunds_2000</th></tr>\n",
                            "</thead>\n",
                            "<tbody>\n",
                            "\t<tr><td>10000</td><td>    0</td><td>   0</td></tr>\n",
                            "\t<tr><td> 2000</td><td>    0</td><td>   0</td></tr>\n",
                            "\t<tr><td>15000</td><td>14000</td><td>7000</td></tr>\n",
                            "</tbody>\n",
                            "</table>\n"
                        ]
                    },
                    "metadata": {}
                }
            ],
            "metadata": {}
        },
        {
            "cell_type": "code",
            "execution_count": 7,
            "source": [
                "total_income <- salaries + refunds \n",
                "total_income"
            ],
            "outputs": [
                {
                    "output_type": "display_data",
                    "data": {
                        "text/plain": [
                            "     salary_1980 salary_1990 salary_2000\n",
                            "[1,] 40000       37000       49000      \n",
                            "[2,] 47000       42000       47000      \n",
                            "[3,] 37000       43000       40000      "
                        ],
                        "text/markdown": [
                            "\n",
                            "A matrix: 3 × 3 of type dbl\n",
                            "\n",
                            "| salary_1980 | salary_1990 | salary_2000 |\n",
                            "|---|---|---|\n",
                            "| 40000 | 37000 | 49000 |\n",
                            "| 47000 | 42000 | 47000 |\n",
                            "| 37000 | 43000 | 40000 |\n",
                            "\n"
                        ],
                        "text/latex": [
                            "A matrix: 3 × 3 of type dbl\n",
                            "\\begin{tabular}{lll}\n",
                            " salary\\_1980 & salary\\_1990 & salary\\_2000\\\\\n",
                            "\\hline\n",
                            "\t 40000 & 37000 & 49000\\\\\n",
                            "\t 47000 & 42000 & 47000\\\\\n",
                            "\t 37000 & 43000 & 40000\\\\\n",
                            "\\end{tabular}\n"
                        ],
                        "text/html": [
                            "<table class=\"dataframe\">\n",
                            "<caption>A matrix: 3 × 3 of type dbl</caption>\n",
                            "<thead>\n",
                            "\t<tr><th scope=col>salary_1980</th><th scope=col>salary_1990</th><th scope=col>salary_2000</th></tr>\n",
                            "</thead>\n",
                            "<tbody>\n",
                            "\t<tr><td>40000</td><td>37000</td><td>49000</td></tr>\n",
                            "\t<tr><td>47000</td><td>42000</td><td>47000</td></tr>\n",
                            "\t<tr><td>37000</td><td>43000</td><td>40000</td></tr>\n",
                            "</tbody>\n",
                            "</table>\n"
                        ]
                    },
                    "metadata": {}
                }
            ],
            "metadata": {}
        },
        {
            "cell_type": "markdown",
            "source": [
                "## Summarizing Matrices\n",
                "\n",
                "Just as vectors had lots of tools for summarizing their properties, so too do matrices. For example:"
            ],
            "metadata": {}
        },
        {
            "cell_type": "code",
            "execution_count": 8,
            "source": [
                "# Num rows\n",
                "nrow(total_income)"
            ],
            "outputs": [
                {
                    "output_type": "display_data",
                    "data": {
                        "text/plain": [
                            "[1] 3"
                        ],
                        "text/markdown": [
                            "3"
                        ],
                        "text/latex": [
                            "3"
                        ],
                        "text/html": [
                            "3"
                        ]
                    },
                    "metadata": {}
                }
            ],
            "metadata": {}
        },
        {
            "cell_type": "code",
            "execution_count": 9,
            "source": [
                "# Num cols\n",
                "ncol(total_income)"
            ],
            "outputs": [
                {
                    "output_type": "display_data",
                    "data": {
                        "text/plain": [
                            "[1] 3"
                        ],
                        "text/markdown": [
                            "3"
                        ],
                        "text/latex": [
                            "3"
                        ],
                        "text/html": [
                            "3"
                        ]
                    },
                    "metadata": {}
                }
            ],
            "metadata": {}
        },
        {
            "cell_type": "code",
            "execution_count": 10,
            "source": [
                "# Overall statistics\n",
                "mean(total_income)"
            ],
            "outputs": [
                {
                    "output_type": "display_data",
                    "data": {
                        "text/plain": [
                            "[1] 42444.44"
                        ],
                        "text/markdown": [
                            "42444.4444444444"
                        ],
                        "text/latex": [
                            "42444.4444444444"
                        ],
                        "text/html": [
                            "42444.4444444444"
                        ]
                    },
                    "metadata": {}
                }
            ],
            "metadata": {}
        },
        {
            "cell_type": "code",
            "execution_count": 11,
            "source": [
                "# And statistics calculated for each columns\n",
                "colMeans(total_income)"
            ],
            "outputs": [
                {
                    "output_type": "display_data",
                    "data": {
                        "text/plain": [
                            "salary_1980 salary_1990 salary_2000 \n",
                            "   41333.33    40666.67    45333.33 "
                        ],
                        "text/markdown": [
                            "salary_1980\n",
                            ":   41333.3333333333salary_1990\n",
                            ":   40666.6666666667salary_2000\n",
                            ":   45333.3333333333\n",
                            "\n"
                        ],
                        "text/latex": [
                            "\\begin{description*}\n",
                            "\\item[salary\\textbackslash{}\\_1980] 41333.3333333333\n",
                            "\\item[salary\\textbackslash{}\\_1990] 40666.6666666667\n",
                            "\\item[salary\\textbackslash{}\\_2000] 45333.3333333333\n",
                            "\\end{description*}\n"
                        ],
                        "text/html": [
                            "<style>\n",
                            ".dl-inline {width: auto; margin:0; padding: 0}\n",
                            ".dl-inline>dt, .dl-inline>dd {float: none; width: auto; display: inline-block}\n",
                            ".dl-inline>dt::after {content: \":\\0020\"; padding-right: .5ex}\n",
                            ".dl-inline>dt:not(:first-of-type) {padding-left: .5ex}\n",
                            "</style><dl class=dl-inline><dt>salary_1980</dt><dd>41333.3333333333</dd><dt>salary_1990</dt><dd>40666.6666666667</dd><dt>salary_2000</dt><dd>45333.3333333333</dd></dl>\n"
                        ]
                    },
                    "metadata": {}
                }
            ],
            "metadata": {}
        },
        {
            "cell_type": "code",
            "execution_count": 12,
            "source": [
                "# Or for each row!\n",
                "rowMeans(total_income)"
            ],
            "outputs": [
                {
                    "output_type": "display_data",
                    "data": {
                        "text/plain": [
                            "[1] 42000.00 45333.33 40000.00"
                        ],
                        "text/markdown": [
                            "1. 42000\n",
                            "2. 45333.3333333333\n",
                            "3. 40000\n",
                            "\n",
                            "\n"
                        ],
                        "text/latex": [
                            "\\begin{enumerate*}\n",
                            "\\item 42000\n",
                            "\\item 45333.3333333333\n",
                            "\\item 40000\n",
                            "\\end{enumerate*}\n"
                        ],
                        "text/html": [
                            "<style>\n",
                            ".list-inline {list-style: none; margin:0; padding: 0}\n",
                            ".list-inline>li {display: inline-block}\n",
                            ".list-inline>li:not(:last-child)::after {content: \"\\00b7\"; padding: 0 .5ex}\n",
                            "</style>\n",
                            "<ol class=list-inline><li>42000</li><li>45333.3333333333</li><li>40000</li></ol>\n"
                        ]
                    },
                    "metadata": {}
                }
            ],
            "metadata": {}
        },
        {
            "cell_type": "markdown",
            "source": [
                "## Linear Algebra\n",
                "\n",
                "In addition to being able to do element-wise operations like those illustrated above, R also supports an array of linear algebra operations for matrices. If you haven't taken a linear algebra course before don't worry too much about what's in the section!\n",
                "\n",
                "For example, matrix multiplication:"
            ],
            "metadata": {}
        },
        {
            "cell_type": "code",
            "execution_count": 13,
            "source": [
                "matrix_1 <- matrix(1:9, nrow = 3)\n",
                "matrix_1"
            ],
            "outputs": [
                {
                    "output_type": "display_data",
                    "data": {
                        "text/plain": [
                            "     [,1] [,2] [,3]\n",
                            "[1,] 1    4    7   \n",
                            "[2,] 2    5    8   \n",
                            "[3,] 3    6    9   "
                        ],
                        "text/markdown": [
                            "\n",
                            "A matrix: 3 × 3 of type int\n",
                            "\n",
                            "| 1 | 4 | 7 |\n",
                            "| 2 | 5 | 8 |\n",
                            "| 3 | 6 | 9 |\n",
                            "\n"
                        ],
                        "text/latex": [
                            "A matrix: 3 × 3 of type int\n",
                            "\\begin{tabular}{lll}\n",
                            "\t 1 & 4 & 7\\\\\n",
                            "\t 2 & 5 & 8\\\\\n",
                            "\t 3 & 6 & 9\\\\\n",
                            "\\end{tabular}\n"
                        ],
                        "text/html": [
                            "<table class=\"dataframe\">\n",
                            "<caption>A matrix: 3 × 3 of type int</caption>\n",
                            "<tbody>\n",
                            "\t<tr><td>1</td><td>4</td><td>7</td></tr>\n",
                            "\t<tr><td>2</td><td>5</td><td>8</td></tr>\n",
                            "\t<tr><td>3</td><td>6</td><td>9</td></tr>\n",
                            "</tbody>\n",
                            "</table>\n"
                        ]
                    },
                    "metadata": {}
                }
            ],
            "metadata": {}
        },
        {
            "cell_type": "code",
            "execution_count": 14,
            "source": [
                "matrix_2 <- matrix(9:17, nrow = 3)\n",
                "matrix_2\n"
            ],
            "outputs": [
                {
                    "output_type": "display_data",
                    "data": {
                        "text/plain": [
                            "     [,1] [,2] [,3]\n",
                            "[1,]  9   12   15  \n",
                            "[2,] 10   13   16  \n",
                            "[3,] 11   14   17  "
                        ],
                        "text/markdown": [
                            "\n",
                            "A matrix: 3 × 3 of type int\n",
                            "\n",
                            "|  9 | 12 | 15 |\n",
                            "| 10 | 13 | 16 |\n",
                            "| 11 | 14 | 17 |\n",
                            "\n"
                        ],
                        "text/latex": [
                            "A matrix: 3 × 3 of type int\n",
                            "\\begin{tabular}{lll}\n",
                            "\t  9 & 12 & 15\\\\\n",
                            "\t 10 & 13 & 16\\\\\n",
                            "\t 11 & 14 & 17\\\\\n",
                            "\\end{tabular}\n"
                        ],
                        "text/html": [
                            "<table class=\"dataframe\">\n",
                            "<caption>A matrix: 3 × 3 of type int</caption>\n",
                            "<tbody>\n",
                            "\t<tr><td> 9</td><td>12</td><td>15</td></tr>\n",
                            "\t<tr><td>10</td><td>13</td><td>16</td></tr>\n",
                            "\t<tr><td>11</td><td>14</td><td>17</td></tr>\n",
                            "</tbody>\n",
                            "</table>\n"
                        ]
                    },
                    "metadata": {}
                }
            ],
            "metadata": {}
        },
        {
            "cell_type": "code",
            "execution_count": 15,
            "source": [
                "# Matrix multiplication \n",
                "matrix_1 %*% matrix_2"
            ],
            "outputs": [
                {
                    "output_type": "display_data",
                    "data": {
                        "text/plain": [
                            "     [,1] [,2] [,3]\n",
                            "[1,] 126  162  198 \n",
                            "[2,] 156  201  246 \n",
                            "[3,] 186  240  294 "
                        ],
                        "text/markdown": [
                            "\n",
                            "A matrix: 3 × 3 of type dbl\n",
                            "\n",
                            "| 126 | 162 | 198 |\n",
                            "| 156 | 201 | 246 |\n",
                            "| 186 | 240 | 294 |\n",
                            "\n"
                        ],
                        "text/latex": [
                            "A matrix: 3 × 3 of type dbl\n",
                            "\\begin{tabular}{lll}\n",
                            "\t 126 & 162 & 198\\\\\n",
                            "\t 156 & 201 & 246\\\\\n",
                            "\t 186 & 240 & 294\\\\\n",
                            "\\end{tabular}\n"
                        ],
                        "text/html": [
                            "<table class=\"dataframe\">\n",
                            "<caption>A matrix: 3 × 3 of type dbl</caption>\n",
                            "<tbody>\n",
                            "\t<tr><td>126</td><td>162</td><td>198</td></tr>\n",
                            "\t<tr><td>156</td><td>201</td><td>246</td></tr>\n",
                            "\t<tr><td>186</td><td>240</td><td>294</td></tr>\n",
                            "</tbody>\n",
                            "</table>\n"
                        ]
                    },
                    "metadata": {}
                }
            ],
            "metadata": {}
        },
        {
            "cell_type": "code",
            "execution_count": 16,
            "source": [
                "# Transpose matrix\n",
                "t(matrix_1)"
            ],
            "outputs": [
                {
                    "output_type": "display_data",
                    "data": {
                        "text/plain": [
                            "     [,1] [,2] [,3]\n",
                            "[1,] 1    2    3   \n",
                            "[2,] 4    5    6   \n",
                            "[3,] 7    8    9   "
                        ],
                        "text/markdown": [
                            "\n",
                            "A matrix: 3 × 3 of type int\n",
                            "\n",
                            "| 1 | 2 | 3 |\n",
                            "| 4 | 5 | 6 |\n",
                            "| 7 | 8 | 9 |\n",
                            "\n"
                        ],
                        "text/latex": [
                            "A matrix: 3 × 3 of type int\n",
                            "\\begin{tabular}{lll}\n",
                            "\t 1 & 2 & 3\\\\\n",
                            "\t 4 & 5 & 6\\\\\n",
                            "\t 7 & 8 & 9\\\\\n",
                            "\\end{tabular}\n"
                        ],
                        "text/html": [
                            "<table class=\"dataframe\">\n",
                            "<caption>A matrix: 3 × 3 of type int</caption>\n",
                            "<tbody>\n",
                            "\t<tr><td>1</td><td>2</td><td>3</td></tr>\n",
                            "\t<tr><td>4</td><td>5</td><td>6</td></tr>\n",
                            "\t<tr><td>7</td><td>8</td><td>9</td></tr>\n",
                            "</tbody>\n",
                            "</table>\n"
                        ]
                    },
                    "metadata": {}
                }
            ],
            "metadata": {}
        },
        {
            "cell_type": "code",
            "execution_count": 17,
            "source": [
                "# Eigen vector of matrix\n",
                "eigen(matrix_1)"
            ],
            "outputs": [
                {
                    "output_type": "display_data",
                    "data": {
                        "text/plain": [
                            "eigen() decomposition\n",
                            "$values\n",
                            "[1]  1.611684e+01 -1.116844e+00 -5.700691e-16\n",
                            "\n",
                            "$vectors\n",
                            "           [,1]       [,2]       [,3]\n",
                            "[1,] -0.4645473 -0.8829060  0.4082483\n",
                            "[2,] -0.5707955 -0.2395204 -0.8164966\n",
                            "[3,] -0.6770438  0.4038651  0.4082483\n"
                        ]
                    },
                    "metadata": {}
                }
            ],
            "metadata": {}
        },
        {
            "cell_type": "code",
            "execution_count": 18,
            "source": [
                "# Inverse of a Matrix -- called solve.\n",
                "\n",
                "# Note I have to do this with a different matrix, since \n",
                "# `matrix_1` isn't invertable! :)\n",
                "\n",
                "solve(salaries)"
            ],
            "outputs": [
                {
                    "output_type": "display_data",
                    "data": {
                        "text/plain": [
                            "            [,1]          [,2]          [,3]         \n",
                            "salary_1980  8.607784e-06  7.485030e-05 -0.0001193862\n",
                            "salary_1990 -1.687874e-04 -3.293413e-05  0.0002975299\n",
                            "salary_2000  1.425898e-04 -2.095808e-05 -0.0001515719"
                        ],
                        "text/markdown": [
                            "\n",
                            "A matrix: 3 × 3 of type dbl\n",
                            "\n",
                            "| salary_1980 |  8.607784e-06 |  7.485030e-05 | -0.0001193862 |\n",
                            "| salary_1990 | -1.687874e-04 | -3.293413e-05 |  0.0002975299 |\n",
                            "| salary_2000 |  1.425898e-04 | -2.095808e-05 | -0.0001515719 |\n",
                            "\n"
                        ],
                        "text/latex": [
                            "A matrix: 3 × 3 of type dbl\n",
                            "\\begin{tabular}{r|lll}\n",
                            "\tsalary\\_1980 &  8.607784e-06 &  7.485030e-05 & -0.0001193862\\\\\n",
                            "\tsalary\\_1990 & -1.687874e-04 & -3.293413e-05 &  0.0002975299\\\\\n",
                            "\tsalary\\_2000 &  1.425898e-04 & -2.095808e-05 & -0.0001515719\\\\\n",
                            "\\end{tabular}\n"
                        ],
                        "text/html": [
                            "<table class=\"dataframe\">\n",
                            "<caption>A matrix: 3 × 3 of type dbl</caption>\n",
                            "<tbody>\n",
                            "\t<tr><th scope=row>salary_1980</th><td> 8.607784e-06</td><td> 7.485030e-05</td><td>-0.0001193862</td></tr>\n",
                            "\t<tr><th scope=row>salary_1990</th><td>-1.687874e-04</td><td>-3.293413e-05</td><td> 0.0002975299</td></tr>\n",
                            "\t<tr><th scope=row>salary_2000</th><td> 1.425898e-04</td><td>-2.095808e-05</td><td>-0.0001515719</td></tr>\n",
                            "</tbody>\n",
                            "</table>\n"
                        ]
                    },
                    "metadata": {}
                }
            ],
            "metadata": {}
        },
        {
            "cell_type": "markdown",
            "source": [
                "## Linear Regression with Matrices\n",
                "\n",
                "To illustrate how matrices relate to the type of statistics that we do on a daily basis as social scientists, let's quickly illustrate how linear regressions actually work!\n",
                "\n",
                "(If you've never seen linear regression before, feel free to skip the section)\n",
                "\n",
                "Suppose that we wanted to regress income on age and education using the toy data set we made above. The easy way to do this in R is by using the `lm` package as follows (don't worry about the details of how I do this, I just want to quickly illustrate the way most people have probably seen linear regression done if they've worked with R before):"
            ],
            "metadata": {}
        },
        {
            "cell_type": "code",
            "execution_count": 19,
            "source": [
                "lm(income ~ age + education)"
            ],
            "outputs": [
                {
                    "output_type": "display_data",
                    "data": {
                        "text/plain": [
                            "\n",
                            "Call:\n",
                            "lm(formula = income ~ age + education)\n",
                            "\n",
                            "Coefficients:\n",
                            "(Intercept)          age    education  \n",
                            "    -102000          200        10000  \n"
                        ]
                    },
                    "metadata": {}
                }
            ],
            "metadata": {}
        },
        {
            "cell_type": "markdown",
            "source": [
                "Now as you'll learn in your statistics courses, linear algebra can actually be expressed in terms of matrices as $$(X'X)^{-1}X'Y$$ (The inverse of the transverse of X matrix multiplied by X times the transpose of X times Y, where X is a matrix of predictors, and Y is the variable we're trying to predict). So we can write this directly as:"
            ],
            "metadata": {}
        },
        {
            "cell_type": "code",
            "execution_count": 20,
            "source": [
                "# Make X. note we need a vector of 1s for our intercept.\n",
                "X <- cbind(age, education, rep(1, 3))\n",
                "X"
            ],
            "outputs": [
                {
                    "output_type": "display_data",
                    "data": {
                        "text/plain": [
                            "     age education  \n",
                            "[1,] 20  12        1\n",
                            "[2,] 35  16        1\n",
                            "[3,] 55  11        1"
                        ],
                        "text/markdown": [
                            "\n",
                            "A matrix: 3 × 3 of type dbl\n",
                            "\n",
                            "| age | education | <!----> |\n",
                            "|---|---|---|\n",
                            "| 20 | 12 | 1 |\n",
                            "| 35 | 16 | 1 |\n",
                            "| 55 | 11 | 1 |\n",
                            "\n"
                        ],
                        "text/latex": [
                            "A matrix: 3 × 3 of type dbl\n",
                            "\\begin{tabular}{lll}\n",
                            " age & education & \\\\\n",
                            "\\hline\n",
                            "\t 20 & 12 & 1\\\\\n",
                            "\t 35 & 16 & 1\\\\\n",
                            "\t 55 & 11 & 1\\\\\n",
                            "\\end{tabular}\n"
                        ],
                        "text/html": [
                            "<table class=\"dataframe\">\n",
                            "<caption>A matrix: 3 × 3 of type dbl</caption>\n",
                            "<thead>\n",
                            "\t<tr><th scope=col>age</th><th scope=col>education</th><th scope=col></th></tr>\n",
                            "</thead>\n",
                            "<tbody>\n",
                            "\t<tr><td>20</td><td>12</td><td>1</td></tr>\n",
                            "\t<tr><td>35</td><td>16</td><td>1</td></tr>\n",
                            "\t<tr><td>55</td><td>11</td><td>1</td></tr>\n",
                            "</tbody>\n",
                            "</table>\n"
                        ]
                    },
                    "metadata": {}
                }
            ],
            "metadata": {}
        },
        {
            "cell_type": "code",
            "execution_count": 21,
            "source": [
                "# Then we can calculate the components separately\n",
                "# to make the mapping to the formula clear. \n",
                "# Here's X' (i.e. X transpose)\n",
                "\n",
                "X_transpose <- t(X)\n",
                "X_transpose"
            ],
            "outputs": [
                {
                    "output_type": "display_data",
                    "data": {
                        "text/plain": [
                            "          [,1] [,2] [,3]\n",
                            "age       20   35   55  \n",
                            "education 12   16   11  \n",
                            "           1    1    1  "
                        ],
                        "text/markdown": [
                            "\n",
                            "A matrix: 3 × 3 of type dbl\n",
                            "\n",
                            "| age | 20 | 35 | 55 |\n",
                            "| education | 12 | 16 | 11 |\n",
                            "| <!----> |  1 |  1 |  1 |\n",
                            "\n"
                        ],
                        "text/latex": [
                            "A matrix: 3 × 3 of type dbl\n",
                            "\\begin{tabular}{r|lll}\n",
                            "\tage & 20 & 35 & 55\\\\\n",
                            "\teducation & 12 & 16 & 11\\\\\n",
                            "\t &  1 &  1 &  1\\\\\n",
                            "\\end{tabular}\n"
                        ],
                        "text/html": [
                            "<table class=\"dataframe\">\n",
                            "<caption>A matrix: 3 × 3 of type dbl</caption>\n",
                            "<tbody>\n",
                            "\t<tr><th scope=row>age</th><td>20</td><td>35</td><td>55</td></tr>\n",
                            "\t<tr><th scope=row>education</th><td>12</td><td>16</td><td>11</td></tr>\n",
                            "\t<tr><th scope=row></th><td> 1</td><td> 1</td><td> 1</td></tr>\n",
                            "</tbody>\n",
                            "</table>\n"
                        ]
                    },
                    "metadata": {}
                }
            ],
            "metadata": {}
        },
        {
            "cell_type": "code",
            "execution_count": 22,
            "source": [
                "# And now the block on the left: (X'X)^-1\n",
                "inverse_of_X_transpose_times_X <- solve(X_transpose %*% X)"
            ],
            "outputs": [],
            "metadata": {}
        },
        {
            "cell_type": "code",
            "execution_count": 23,
            "source": [
                "# And the block on the right: X'Y\n",
                "X_transpose_y <- X_transpose %*% income\n"
            ],
            "outputs": [],
            "metadata": {}
        },
        {
            "cell_type": "code",
            "execution_count": 24,
            "source": [
                "# And putting it all together we get:\n",
                "inverse_of_X_transpose_times_X %*% X_transpose_y"
            ],
            "outputs": [
                {
                    "output_type": "display_data",
                    "data": {
                        "text/plain": [
                            "          [,1]   \n",
                            "age           200\n",
                            "education   10000\n",
                            "          -102000"
                        ],
                        "text/markdown": [
                            "\n",
                            "A matrix: 3 × 1 of type dbl\n",
                            "\n",
                            "| age |     200 |\n",
                            "| education |   10000 |\n",
                            "| <!----> | -102000 |\n",
                            "\n"
                        ],
                        "text/latex": [
                            "A matrix: 3 × 1 of type dbl\n",
                            "\\begin{tabular}{r|l}\n",
                            "\tage &     200\\\\\n",
                            "\teducation &   10000\\\\\n",
                            "\t & -102000\\\\\n",
                            "\\end{tabular}\n"
                        ],
                        "text/html": [
                            "<table class=\"dataframe\">\n",
                            "<caption>A matrix: 3 × 1 of type dbl</caption>\n",
                            "<tbody>\n",
                            "\t<tr><th scope=row>age</th><td>    200</td></tr>\n",
                            "\t<tr><th scope=row>education</th><td>  10000</td></tr>\n",
                            "\t<tr><th scope=row></th><td>-102000</td></tr>\n",
                            "</tbody>\n",
                            "</table>\n"
                        ]
                    },
                    "metadata": {}
                }
            ],
            "metadata": {}
        },
        {
            "cell_type": "markdown",
            "source": [
                "Ta-da! That final matrix gives us our regression coefficients, which are identical to those from `lm`! Now you know how to do linear regression using matrices in R!"
            ],
            "metadata": {}
        },
        {
            "cell_type": "markdown",
            "source": [
                "(Note we broke out all the terms to make it easier to map the R code onto the equation for linear regression -- you can of course just run this in one line if you want:"
            ],
            "metadata": {}
        },
        {
            "cell_type": "code",
            "execution_count": 25,
            "source": [
                "solve(t(X) %*% X) %*% (t(X) %*% income)"
            ],
            "outputs": [
                {
                    "output_type": "display_data",
                    "data": {
                        "text/plain": [
                            "          [,1]   \n",
                            "age           200\n",
                            "education   10000\n",
                            "          -102000"
                        ],
                        "text/markdown": [
                            "\n",
                            "A matrix: 3 × 1 of type dbl\n",
                            "\n",
                            "| age |     200 |\n",
                            "| education |   10000 |\n",
                            "| <!----> | -102000 |\n",
                            "\n"
                        ],
                        "text/latex": [
                            "A matrix: 3 × 1 of type dbl\n",
                            "\\begin{tabular}{r|l}\n",
                            "\tage &     200\\\\\n",
                            "\teducation &   10000\\\\\n",
                            "\t & -102000\\\\\n",
                            "\\end{tabular}\n"
                        ],
                        "text/html": [
                            "<table class=\"dataframe\">\n",
                            "<caption>A matrix: 3 × 1 of type dbl</caption>\n",
                            "<tbody>\n",
                            "\t<tr><th scope=row>age</th><td>    200</td></tr>\n",
                            "\t<tr><th scope=row>education</th><td>  10000</td></tr>\n",
                            "\t<tr><th scope=row></th><td>-102000</td></tr>\n",
                            "</tbody>\n",
                            "</table>\n"
                        ]
                    },
                    "metadata": {}
                }
            ],
            "metadata": {}
        },
        {
            "cell_type": "markdown",
            "source": [
                "## Recap\n",
                "\n",
                "- Matrices are a natural extension of vectors from one dimension into two dimensions. \n",
                "- You can think of a matrix as a collection of vectors of the same length side by side.\n",
                "- Like vectors, we can do math using full matrices, as well as get summary statistics on both matrices as a whole and their rows/columns\n",
                "- R implements lots of linear algebra-specific mathematical operations for matrices, like matrix multiplication and inverses. "
            ],
            "metadata": {}
        },
        {
            "cell_type": "markdown",
            "source": [
                "## Next Steps\n",
                "\n",
                "Now that we're familiar with matrices, [time to learn to manipulate them!](manipulating_matrices.ipynb)"
            ],
            "metadata": {}
        }
    ],
    "metadata": {
        "orig_nbformat": 4,
        "language_info": {
            "name": "R",
            "codemirror_mode": "r",
            "pygments_lexer": "r",
            "mimetype": "text/x-r-source",
            "file_extension": ".r",
            "version": "4.1.0"
        },
        "kernelspec": {
            "name": "ir",
            "display_name": "R",
            "language": "R"
        }
    },
    "nbformat": 4,
    "nbformat_minor": 2
}