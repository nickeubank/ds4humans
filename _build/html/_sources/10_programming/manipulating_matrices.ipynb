{
    "cells": [
        {
            "cell_type": "markdown",
            "source": [
                "# Manipulating Matrices"
            ],
            "metadata": {}
        },
        {
            "cell_type": "markdown",
            "source": [
                "The great thing about matrices is that since they are just generalizations of vectors from one dimension to two, subsetting matrices works *almost* the same way it works with vectors. Basically, instead of subsetting by passing an index or a logical array into a set of square brackets (e.g. `[1]`), we just put a comma in those square brackets and specify a location with *two* indices / logical arrays (e.g. `[1,1]`)."
            ],
            "metadata": {}
        },
        {
            "cell_type": "markdown",
            "source": [
                "## Subsetting by Index\n",
                "\n",
                "Suppose we have the following matrix:"
            ],
            "metadata": {}
        },
        {
            "cell_type": "code",
            "execution_count": 4,
            "source": [
                "our_matrix <- matrix(1:12, nrow = 3, ncol = 4)\n",
                "our_matrix"
            ],
            "outputs": [
                {
                    "output_type": "display_data",
                    "data": {
                        "text/plain": [
                            "     [,1] [,2] [,3] [,4]\n",
                            "[1,] 1    4    7    10  \n",
                            "[2,] 2    5    8    11  \n",
                            "[3,] 3    6    9    12  "
                        ],
                        "text/markdown": [
                            "\n",
                            "A matrix: 3 × 4 of type int\n",
                            "\n",
                            "| 1 | 4 | 7 | 10 |\n",
                            "| 2 | 5 | 8 | 11 |\n",
                            "| 3 | 6 | 9 | 12 |\n",
                            "\n"
                        ],
                        "text/latex": [
                            "A matrix: 3 × 4 of type int\n",
                            "\\begin{tabular}{llll}\n",
                            "\t 1 & 4 & 7 & 10\\\\\n",
                            "\t 2 & 5 & 8 & 11\\\\\n",
                            "\t 3 & 6 & 9 & 12\\\\\n",
                            "\\end{tabular}\n"
                        ],
                        "text/html": [
                            "<table class=\"dataframe\">\n",
                            "<caption>A matrix: 3 × 4 of type int</caption>\n",
                            "<tbody>\n",
                            "\t<tr><td>1</td><td>4</td><td>7</td><td>10</td></tr>\n",
                            "\t<tr><td>2</td><td>5</td><td>8</td><td>11</td></tr>\n",
                            "\t<tr><td>3</td><td>6</td><td>9</td><td>12</td></tr>\n",
                            "</tbody>\n",
                            "</table>\n"
                        ]
                    },
                    "metadata": {}
                }
            ],
            "metadata": {}
        },
        {
            "cell_type": "markdown",
            "source": [
                "To subset, we just pass a location along the x-axis (rows) and a location along the y-axis (columns). For example, if we wanted the entry from the second row and third column, we'd type:"
            ],
            "metadata": {}
        },
        {
            "cell_type": "code",
            "execution_count": 5,
            "source": [
                "our_matrix[2, 3]"
            ],
            "outputs": [
                {
                    "output_type": "display_data",
                    "data": {
                        "text/plain": [
                            "[1] 8"
                        ],
                        "text/markdown": [
                            "8"
                        ],
                        "text/latex": [
                            "8"
                        ],
                        "text/html": [
                            "8"
                        ]
                    },
                    "metadata": {}
                }
            ],
            "metadata": {}
        },
        {
            "cell_type": "markdown",
            "source": [
                "The one new thing is that if you want ALL entries along a specific dimension, you still put in a comma, but you leave the entry blank for the dimension on which you want all observations. So if I wanted to second row, I'd just type:"
            ],
            "metadata": {}
        },
        {
            "cell_type": "code",
            "execution_count": 6,
            "source": [
                "our_matrix[2, ]"
            ],
            "outputs": [
                {
                    "output_type": "display_data",
                    "data": {
                        "text/plain": [
                            "[1]  2  5  8 11"
                        ],
                        "text/markdown": [
                            "1. 2\n",
                            "2. 5\n",
                            "3. 8\n",
                            "4. 11\n",
                            "\n",
                            "\n"
                        ],
                        "text/latex": [
                            "\\begin{enumerate*}\n",
                            "\\item 2\n",
                            "\\item 5\n",
                            "\\item 8\n",
                            "\\item 11\n",
                            "\\end{enumerate*}\n"
                        ],
                        "text/html": [
                            "<style>\n",
                            ".list-inline {list-style: none; margin:0; padding: 0}\n",
                            ".list-inline>li {display: inline-block}\n",
                            ".list-inline>li:not(:last-child)::after {content: \"\\00b7\"; padding: 0 .5ex}\n",
                            "</style>\n",
                            "<ol class=list-inline><li>2</li><li>5</li><li>8</li><li>11</li></ol>\n"
                        ]
                    },
                    "metadata": {}
                }
            ],
            "metadata": {}
        },
        {
            "cell_type": "markdown",
            "source": [
                "Or if I wanted the third column, I'd type:"
            ],
            "metadata": {}
        },
        {
            "cell_type": "code",
            "execution_count": 7,
            "source": [
                "our_matrix[, 3]"
            ],
            "outputs": [
                {
                    "output_type": "display_data",
                    "data": {
                        "text/plain": [
                            "[1] 7 8 9"
                        ],
                        "text/markdown": [
                            "1. 7\n",
                            "2. 8\n",
                            "3. 9\n",
                            "\n",
                            "\n"
                        ],
                        "text/latex": [
                            "\\begin{enumerate*}\n",
                            "\\item 7\n",
                            "\\item 8\n",
                            "\\item 9\n",
                            "\\end{enumerate*}\n"
                        ],
                        "text/html": [
                            "<style>\n",
                            ".list-inline {list-style: none; margin:0; padding: 0}\n",
                            ".list-inline>li {display: inline-block}\n",
                            ".list-inline>li:not(:last-child)::after {content: \"\\00b7\"; padding: 0 .5ex}\n",
                            "</style>\n",
                            "<ol class=list-inline><li>7</li><li>8</li><li>9</li></ol>\n"
                        ]
                    },
                    "metadata": {}
                }
            ],
            "metadata": {}
        },
        {
            "cell_type": "markdown",
            "source": [
                "Note that if you pull out a subset of your matrix that is one dimensional, it just becomes a vector!"
            ],
            "metadata": {}
        },
        {
            "cell_type": "code",
            "execution_count": 8,
            "source": [
                "class(our_matrix)"
            ],
            "outputs": [
                {
                    "output_type": "display_data",
                    "data": {
                        "text/plain": [
                            "[1] \"matrix\" \"array\" "
                        ],
                        "text/markdown": [
                            "1. 'matrix'\n",
                            "2. 'array'\n",
                            "\n",
                            "\n"
                        ],
                        "text/latex": [
                            "\\begin{enumerate*}\n",
                            "\\item 'matrix'\n",
                            "\\item 'array'\n",
                            "\\end{enumerate*}\n"
                        ],
                        "text/html": [
                            "<style>\n",
                            ".list-inline {list-style: none; margin:0; padding: 0}\n",
                            ".list-inline>li {display: inline-block}\n",
                            ".list-inline>li:not(:last-child)::after {content: \"\\00b7\"; padding: 0 .5ex}\n",
                            "</style>\n",
                            "<ol class=list-inline><li>'matrix'</li><li>'array'</li></ol>\n"
                        ]
                    },
                    "metadata": {}
                }
            ],
            "metadata": {}
        },
        {
            "cell_type": "code",
            "execution_count": 9,
            "source": [
                "class(our_matrix[1, ])"
            ],
            "outputs": [
                {
                    "output_type": "display_data",
                    "data": {
                        "text/plain": [
                            "[1] \"integer\""
                        ],
                        "text/markdown": [
                            "'integer'"
                        ],
                        "text/latex": [
                            "'integer'"
                        ],
                        "text/html": [
                            "'integer'"
                        ]
                    },
                    "metadata": {}
                }
            ],
            "metadata": {}
        },
        {
            "cell_type": "markdown",
            "source": [
                "Finally, just like with vectors, we can subset with vectors if we want:"
            ],
            "metadata": {}
        },
        {
            "cell_type": "code",
            "execution_count": 10,
            "source": [
                "our_matrix[1:2, 3:4]"
            ],
            "outputs": [
                {
                    "output_type": "display_data",
                    "data": {
                        "text/plain": [
                            "     [,1] [,2]\n",
                            "[1,] 7    10  \n",
                            "[2,] 8    11  "
                        ],
                        "text/markdown": [
                            "\n",
                            "A matrix: 2 × 2 of type int\n",
                            "\n",
                            "| 7 | 10 |\n",
                            "| 8 | 11 |\n",
                            "\n"
                        ],
                        "text/latex": [
                            "A matrix: 2 × 2 of type int\n",
                            "\\begin{tabular}{ll}\n",
                            "\t 7 & 10\\\\\n",
                            "\t 8 & 11\\\\\n",
                            "\\end{tabular}\n"
                        ],
                        "text/html": [
                            "<table class=\"dataframe\">\n",
                            "<caption>A matrix: 2 × 2 of type int</caption>\n",
                            "<tbody>\n",
                            "\t<tr><td>7</td><td>10</td></tr>\n",
                            "\t<tr><td>8</td><td>11</td></tr>\n",
                            "</tbody>\n",
                            "</table>\n"
                        ]
                    },
                    "metadata": {}
                }
            ],
            "metadata": {}
        },
        {
            "cell_type": "markdown",
            "source": [
                "## Subsetting with Logicals\n",
                "\n",
                "Subsetting with logical vectors also generalizes from vectors to matrices in the same way. To illustrate, let's go back to our toy matrix of survey respondenses:"
            ],
            "metadata": {}
        },
        {
            "cell_type": "code",
            "execution_count": 11,
            "source": [
                "income <- c(22000, 75000, 19000)\n",
                "age <- c(20, 35, 55)\n",
                "education <- c(12, 16, 11)\n",
                "\n",
                "survey <- cbind(income, age, education)\n",
                "survey"
            ],
            "outputs": [
                {
                    "output_type": "display_data",
                    "data": {
                        "text/plain": [
                            "     income age education\n",
                            "[1,] 22000  20  12       \n",
                            "[2,] 75000  35  16       \n",
                            "[3,] 19000  55  11       "
                        ],
                        "text/markdown": [
                            "\n",
                            "A matrix: 3 × 3 of type dbl\n",
                            "\n",
                            "| income | age | education |\n",
                            "|---|---|---|\n",
                            "| 22000 | 20 | 12 |\n",
                            "| 75000 | 35 | 16 |\n",
                            "| 19000 | 55 | 11 |\n",
                            "\n"
                        ],
                        "text/latex": [
                            "A matrix: 3 × 3 of type dbl\n",
                            "\\begin{tabular}{lll}\n",
                            " income & age & education\\\\\n",
                            "\\hline\n",
                            "\t 22000 & 20 & 12\\\\\n",
                            "\t 75000 & 35 & 16\\\\\n",
                            "\t 19000 & 55 & 11\\\\\n",
                            "\\end{tabular}\n"
                        ],
                        "text/html": [
                            "<table class=\"dataframe\">\n",
                            "<caption>A matrix: 3 × 3 of type dbl</caption>\n",
                            "<thead>\n",
                            "\t<tr><th scope=col>income</th><th scope=col>age</th><th scope=col>education</th></tr>\n",
                            "</thead>\n",
                            "<tbody>\n",
                            "\t<tr><td>22000</td><td>20</td><td>12</td></tr>\n",
                            "\t<tr><td>75000</td><td>35</td><td>16</td></tr>\n",
                            "\t<tr><td>19000</td><td>55</td><td>11</td></tr>\n",
                            "</tbody>\n",
                            "</table>\n"
                        ]
                    },
                    "metadata": {}
                }
            ],
            "metadata": {}
        },
        {
            "cell_type": "markdown",
            "source": [
                "If we wanted to select all the rows where income was less than the US median income (about 65,000), we would first extract the income column, then create a logical column that's `TRUE` if income is below 65,000, then put that in the first position of our square brackets:"
            ],
            "metadata": {}
        },
        {
            "cell_type": "code",
            "execution_count": 12,
            "source": [
                "income <- survey[, 1]\n",
                "income"
            ],
            "outputs": [
                {
                    "output_type": "display_data",
                    "data": {
                        "text/plain": [
                            "[1] 22000 75000 19000"
                        ],
                        "text/markdown": [
                            "1. 22000\n",
                            "2. 75000\n",
                            "3. 19000\n",
                            "\n",
                            "\n"
                        ],
                        "text/latex": [
                            "\\begin{enumerate*}\n",
                            "\\item 22000\n",
                            "\\item 75000\n",
                            "\\item 19000\n",
                            "\\end{enumerate*}\n"
                        ],
                        "text/html": [
                            "<style>\n",
                            ".list-inline {list-style: none; margin:0; padding: 0}\n",
                            ".list-inline>li {display: inline-block}\n",
                            ".list-inline>li:not(:last-child)::after {content: \"\\00b7\"; padding: 0 .5ex}\n",
                            "</style>\n",
                            "<ol class=list-inline><li>22000</li><li>75000</li><li>19000</li></ol>\n"
                        ]
                    },
                    "metadata": {}
                }
            ],
            "metadata": {}
        },
        {
            "cell_type": "code",
            "execution_count": 13,
            "source": [
                "below_median = income < 65000\n",
                "below_median"
            ],
            "outputs": [
                {
                    "output_type": "display_data",
                    "data": {
                        "text/plain": [
                            "[1]  TRUE FALSE  TRUE"
                        ],
                        "text/markdown": [
                            "1. TRUE\n",
                            "2. FALSE\n",
                            "3. TRUE\n",
                            "\n",
                            "\n"
                        ],
                        "text/latex": [
                            "\\begin{enumerate*}\n",
                            "\\item TRUE\n",
                            "\\item FALSE\n",
                            "\\item TRUE\n",
                            "\\end{enumerate*}\n"
                        ],
                        "text/html": [
                            "<style>\n",
                            ".list-inline {list-style: none; margin:0; padding: 0}\n",
                            ".list-inline>li {display: inline-block}\n",
                            ".list-inline>li:not(:last-child)::after {content: \"\\00b7\"; padding: 0 .5ex}\n",
                            "</style>\n",
                            "<ol class=list-inline><li>TRUE</li><li>FALSE</li><li>TRUE</li></ol>\n"
                        ]
                    },
                    "metadata": {}
                }
            ],
            "metadata": {}
        },
        {
            "cell_type": "code",
            "execution_count": 14,
            "source": [
                "survey[below_median, ]"
            ],
            "outputs": [
                {
                    "output_type": "display_data",
                    "data": {
                        "text/plain": [
                            "     income age education\n",
                            "[1,] 22000  20  12       \n",
                            "[2,] 19000  55  11       "
                        ],
                        "text/markdown": [
                            "\n",
                            "A matrix: 2 × 3 of type dbl\n",
                            "\n",
                            "| income | age | education |\n",
                            "|---|---|---|\n",
                            "| 22000 | 20 | 12 |\n",
                            "| 19000 | 55 | 11 |\n",
                            "\n"
                        ],
                        "text/latex": [
                            "A matrix: 2 × 3 of type dbl\n",
                            "\\begin{tabular}{lll}\n",
                            " income & age & education\\\\\n",
                            "\\hline\n",
                            "\t 22000 & 20 & 12\\\\\n",
                            "\t 19000 & 55 & 11\\\\\n",
                            "\\end{tabular}\n"
                        ],
                        "text/html": [
                            "<table class=\"dataframe\">\n",
                            "<caption>A matrix: 2 × 3 of type dbl</caption>\n",
                            "<thead>\n",
                            "\t<tr><th scope=col>income</th><th scope=col>age</th><th scope=col>education</th></tr>\n",
                            "</thead>\n",
                            "<tbody>\n",
                            "\t<tr><td>22000</td><td>20</td><td>12</td></tr>\n",
                            "\t<tr><td>19000</td><td>55</td><td>11</td></tr>\n",
                            "</tbody>\n",
                            "</table>\n"
                        ]
                    },
                    "metadata": {}
                }
            ],
            "metadata": {}
        },
        {
            "cell_type": "markdown",
            "source": [
                "Or, of course, we could do that all in one line instead of breaking out the steps:"
            ],
            "metadata": {}
        },
        {
            "cell_type": "code",
            "execution_count": 15,
            "source": [
                "survey[survey[, 1] < 65000, ]"
            ],
            "outputs": [
                {
                    "output_type": "display_data",
                    "data": {
                        "text/plain": [
                            "     income age education\n",
                            "[1,] 22000  20  12       \n",
                            "[2,] 19000  55  11       "
                        ],
                        "text/markdown": [
                            "\n",
                            "A matrix: 2 × 3 of type dbl\n",
                            "\n",
                            "| income | age | education |\n",
                            "|---|---|---|\n",
                            "| 22000 | 20 | 12 |\n",
                            "| 19000 | 55 | 11 |\n",
                            "\n"
                        ],
                        "text/latex": [
                            "A matrix: 2 × 3 of type dbl\n",
                            "\\begin{tabular}{lll}\n",
                            " income & age & education\\\\\n",
                            "\\hline\n",
                            "\t 22000 & 20 & 12\\\\\n",
                            "\t 19000 & 55 & 11\\\\\n",
                            "\\end{tabular}\n"
                        ],
                        "text/html": [
                            "<table class=\"dataframe\">\n",
                            "<caption>A matrix: 2 × 3 of type dbl</caption>\n",
                            "<thead>\n",
                            "\t<tr><th scope=col>income</th><th scope=col>age</th><th scope=col>education</th></tr>\n",
                            "</thead>\n",
                            "<tbody>\n",
                            "\t<tr><td>22000</td><td>20</td><td>12</td></tr>\n",
                            "\t<tr><td>19000</td><td>55</td><td>11</td></tr>\n",
                            "</tbody>\n",
                            "</table>\n"
                        ]
                    },
                    "metadata": {}
                }
            ],
            "metadata": {}
        },
        {
            "cell_type": "markdown",
            "source": [
                "Or, since R used the names of vectors we passed to `cbind()` as column names, we could also subset our columns by name, which makes our code a lot easier to understand:"
            ],
            "metadata": {}
        },
        {
            "cell_type": "code",
            "execution_count": 16,
            "source": [
                "survey[survey[, \"income\"] < 65000, ]"
            ],
            "outputs": [
                {
                    "output_type": "display_data",
                    "data": {
                        "text/plain": [
                            "     income age education\n",
                            "[1,] 22000  20  12       \n",
                            "[2,] 19000  55  11       "
                        ],
                        "text/markdown": [
                            "\n",
                            "A matrix: 2 × 3 of type dbl\n",
                            "\n",
                            "| income | age | education |\n",
                            "|---|---|---|\n",
                            "| 22000 | 20 | 12 |\n",
                            "| 19000 | 55 | 11 |\n",
                            "\n"
                        ],
                        "text/latex": [
                            "A matrix: 2 × 3 of type dbl\n",
                            "\\begin{tabular}{lll}\n",
                            " income & age & education\\\\\n",
                            "\\hline\n",
                            "\t 22000 & 20 & 12\\\\\n",
                            "\t 19000 & 55 & 11\\\\\n",
                            "\\end{tabular}\n"
                        ],
                        "text/html": [
                            "<table class=\"dataframe\">\n",
                            "<caption>A matrix: 2 × 3 of type dbl</caption>\n",
                            "<thead>\n",
                            "\t<tr><th scope=col>income</th><th scope=col>age</th><th scope=col>education</th></tr>\n",
                            "</thead>\n",
                            "<tbody>\n",
                            "\t<tr><td>22000</td><td>20</td><td>12</td></tr>\n",
                            "\t<tr><td>19000</td><td>55</td><td>11</td></tr>\n",
                            "</tbody>\n",
                            "</table>\n"
                        ]
                    },
                    "metadata": {}
                }
            ],
            "metadata": {}
        },
        {
            "cell_type": "markdown",
            "source": [
                "## Subsetting by Names\n",
                "\n",
                "As we just saw, while not all matrices have names, if you they do you can subset using them. For example, our `survey` matrix has column names, but no row names, so we can only subset columns by name:"
            ],
            "metadata": {}
        },
        {
            "cell_type": "code",
            "execution_count": 17,
            "source": [
                "survey[, \"education\"]"
            ],
            "outputs": [
                {
                    "output_type": "display_data",
                    "data": {
                        "text/plain": [
                            "[1] 12 16 11"
                        ],
                        "text/markdown": [
                            "1. 12\n",
                            "2. 16\n",
                            "3. 11\n",
                            "\n",
                            "\n"
                        ],
                        "text/latex": [
                            "\\begin{enumerate*}\n",
                            "\\item 12\n",
                            "\\item 16\n",
                            "\\item 11\n",
                            "\\end{enumerate*}\n"
                        ],
                        "text/html": [
                            "<style>\n",
                            ".list-inline {list-style: none; margin:0; padding: 0}\n",
                            ".list-inline>li {display: inline-block}\n",
                            ".list-inline>li:not(:last-child)::after {content: \"\\00b7\"; padding: 0 .5ex}\n",
                            "</style>\n",
                            "<ol class=list-inline><li>12</li><li>16</li><li>11</li></ol>\n"
                        ]
                    },
                    "metadata": {}
                }
            ],
            "metadata": {}
        },
        {
            "cell_type": "markdown",
            "source": [
                "Names are accessible through the `colnames()` and `rownames()` functions:"
            ],
            "metadata": {}
        },
        {
            "cell_type": "code",
            "execution_count": 32,
            "source": [
                "colnames(survey)"
            ],
            "outputs": [
                {
                    "output_type": "display_data",
                    "data": {
                        "text/plain": [
                            "[1] \"income\"    \"age\"       \"education\""
                        ],
                        "text/markdown": [
                            "1. 'income'\n",
                            "2. 'age'\n",
                            "3. 'education'\n",
                            "\n",
                            "\n"
                        ],
                        "text/latex": [
                            "\\begin{enumerate*}\n",
                            "\\item 'income'\n",
                            "\\item 'age'\n",
                            "\\item 'education'\n",
                            "\\end{enumerate*}\n"
                        ],
                        "text/html": [
                            "<style>\n",
                            ".list-inline {list-style: none; margin:0; padding: 0}\n",
                            ".list-inline>li {display: inline-block}\n",
                            ".list-inline>li:not(:last-child)::after {content: \"\\00b7\"; padding: 0 .5ex}\n",
                            "</style>\n",
                            "<ol class=list-inline><li>'income'</li><li>'age'</li><li>'education'</li></ol>\n"
                        ]
                    },
                    "metadata": {}
                }
            ],
            "metadata": {}
        },
        {
            "cell_type": "code",
            "execution_count": 33,
            "source": [
                "rownames(survey)"
            ],
            "outputs": [
                {
                    "output_type": "display_data",
                    "data": {
                        "text/plain": [
                            "NULL"
                        ]
                    },
                    "metadata": {}
                }
            ],
            "metadata": {}
        },
        {
            "cell_type": "markdown",
            "source": [
                "Oddly, R also allows you to assign to these functions to change the names on a matrix. For example, to add row names we could do:"
            ],
            "metadata": {}
        },
        {
            "cell_type": "code",
            "execution_count": 37,
            "source": [
                "rownames(survey) <- c(\"row1\", \"row2\", \"row3\")\n",
                "survey"
            ],
            "outputs": [
                {
                    "output_type": "display_data",
                    "data": {
                        "text/plain": [
                            "     income age education\n",
                            "row1 22440  20  12       \n",
                            "row2 76500  35  16       \n",
                            "row3 19380  55  11       "
                        ],
                        "text/markdown": [
                            "\n",
                            "A matrix: 3 × 3 of type dbl\n",
                            "\n",
                            "| <!--/--> | income | age | education |\n",
                            "|---|---|---|---|\n",
                            "| row1 | 22440 | 20 | 12 |\n",
                            "| row2 | 76500 | 35 | 16 |\n",
                            "| row3 | 19380 | 55 | 11 |\n",
                            "\n"
                        ],
                        "text/latex": [
                            "A matrix: 3 × 3 of type dbl\n",
                            "\\begin{tabular}{r|lll}\n",
                            "  & income & age & education\\\\\n",
                            "\\hline\n",
                            "\trow1 & 22440 & 20 & 12\\\\\n",
                            "\trow2 & 76500 & 35 & 16\\\\\n",
                            "\trow3 & 19380 & 55 & 11\\\\\n",
                            "\\end{tabular}\n"
                        ],
                        "text/html": [
                            "<table class=\"dataframe\">\n",
                            "<caption>A matrix: 3 × 3 of type dbl</caption>\n",
                            "<thead>\n",
                            "\t<tr><th></th><th scope=col>income</th><th scope=col>age</th><th scope=col>education</th></tr>\n",
                            "</thead>\n",
                            "<tbody>\n",
                            "\t<tr><th scope=row>row1</th><td>22440</td><td>20</td><td>12</td></tr>\n",
                            "\t<tr><th scope=row>row2</th><td>76500</td><td>35</td><td>16</td></tr>\n",
                            "\t<tr><th scope=row>row3</th><td>19380</td><td>55</td><td>11</td></tr>\n",
                            "</tbody>\n",
                            "</table>\n"
                        ]
                    },
                    "metadata": {}
                }
            ],
            "metadata": {}
        },
        {
            "cell_type": "markdown",
            "source": [
                "And we can delete them too!"
            ],
            "metadata": {}
        },
        {
            "cell_type": "code",
            "execution_count": 38,
            "source": [
                "rownames(survey) <- NULL"
            ],
            "outputs": [],
            "metadata": {}
        },
        {
            "cell_type": "markdown",
            "source": [
                "## Subsetting by Row and Column Simultaneously"
            ],
            "metadata": {}
        },
        {
            "cell_type": "markdown",
            "source": [
                "Often, we don't just want to subset rows or columns, but both at once. For example, suppose I wanted the education levels of everyone with incomes below the US median. I could do this in two steps by subsetting rows and then subsetting columns:"
            ],
            "metadata": {}
        },
        {
            "cell_type": "code",
            "execution_count": 39,
            "source": [
                "below_median <- survey[survey[, \"income\"] < 65000, ]\n",
                "below_median[, \"education\"]"
            ],
            "outputs": [
                {
                    "output_type": "display_data",
                    "data": {
                        "text/plain": [
                            "[1] 12 11"
                        ],
                        "text/markdown": [
                            "1. 12\n",
                            "2. 11\n",
                            "\n",
                            "\n"
                        ],
                        "text/latex": [
                            "\\begin{enumerate*}\n",
                            "\\item 12\n",
                            "\\item 11\n",
                            "\\end{enumerate*}\n"
                        ],
                        "text/html": [
                            "<style>\n",
                            ".list-inline {list-style: none; margin:0; padding: 0}\n",
                            ".list-inline>li {display: inline-block}\n",
                            ".list-inline>li:not(:last-child)::after {content: \"\\00b7\"; padding: 0 .5ex}\n",
                            "</style>\n",
                            "<ol class=list-inline><li>12</li><li>11</li></ol>\n"
                        ]
                    },
                    "metadata": {}
                }
            ],
            "metadata": {}
        },
        {
            "cell_type": "markdown",
            "source": [
                "Or I can do it all in one command!"
            ],
            "metadata": {}
        },
        {
            "cell_type": "code",
            "execution_count": 40,
            "source": [
                "survey[survey[,\"income\"] < 65000, \"education\"]"
            ],
            "outputs": [
                {
                    "output_type": "display_data",
                    "data": {
                        "text/plain": [
                            "[1] 12 11"
                        ],
                        "text/markdown": [
                            "1. 12\n",
                            "2. 11\n",
                            "\n",
                            "\n"
                        ],
                        "text/latex": [
                            "\\begin{enumerate*}\n",
                            "\\item 12\n",
                            "\\item 11\n",
                            "\\end{enumerate*}\n"
                        ],
                        "text/html": [
                            "<style>\n",
                            ".list-inline {list-style: none; margin:0; padding: 0}\n",
                            ".list-inline>li {display: inline-block}\n",
                            ".list-inline>li:not(:last-child)::after {content: \"\\00b7\"; padding: 0 .5ex}\n",
                            "</style>\n",
                            "<ol class=list-inline><li>12</li><li>11</li></ol>\n"
                        ]
                    },
                    "metadata": {}
                }
            ],
            "metadata": {}
        },
        {
            "cell_type": "markdown",
            "source": [
                "So what is the average education of people earning less than the median income in the US in our toy data?"
            ],
            "metadata": {}
        },
        {
            "cell_type": "code",
            "execution_count": 41,
            "source": [
                "mean(survey[survey[,\"income\"] < 65000, \"education\"])"
            ],
            "outputs": [
                {
                    "output_type": "display_data",
                    "data": {
                        "text/plain": [
                            "[1] 11.5"
                        ],
                        "text/markdown": [
                            "11.5"
                        ],
                        "text/latex": [
                            "11.5"
                        ],
                        "text/html": [
                            "11.5"
                        ]
                    },
                    "metadata": {}
                }
            ],
            "metadata": {}
        },
        {
            "cell_type": "markdown",
            "source": [
                "OK -- I know we've just covered a lot, but hopefully that example makes clear how quickly we can start doing really, really powerful analyses and answering substantive questions *just by subsetting our data carefully.*"
            ],
            "metadata": {}
        },
        {
            "cell_type": "markdown",
            "source": [
                "## Using Subsets to Modify Data\n",
                "\n",
                "Sometimes we want to modify a *part* of a matrix. For example, suppose we were working with our survey data, and we want to multiple all the income values by `1.02` to adjust for inflation that has occurred since the survey. Obviously, if we just multiplied the matrix by `1.02`, we'd also modify things like education and age:"
            ],
            "metadata": {}
        },
        {
            "cell_type": "code",
            "execution_count": 42,
            "source": [
                "survey * 1.02"
            ],
            "outputs": [
                {
                    "output_type": "display_data",
                    "data": {
                        "text/plain": [
                            "     income  age  education\n",
                            "[1,] 22888.8 20.4 12.24    \n",
                            "[2,] 78030.0 35.7 16.32    \n",
                            "[3,] 19767.6 56.1 11.22    "
                        ],
                        "text/markdown": [
                            "\n",
                            "A matrix: 3 × 3 of type dbl\n",
                            "\n",
                            "| income | age | education |\n",
                            "|---|---|---|\n",
                            "| 22888.8 | 20.4 | 12.24 |\n",
                            "| 78030.0 | 35.7 | 16.32 |\n",
                            "| 19767.6 | 56.1 | 11.22 |\n",
                            "\n"
                        ],
                        "text/latex": [
                            "A matrix: 3 × 3 of type dbl\n",
                            "\\begin{tabular}{lll}\n",
                            " income & age & education\\\\\n",
                            "\\hline\n",
                            "\t 22888.8 & 20.4 & 12.24\\\\\n",
                            "\t 78030.0 & 35.7 & 16.32\\\\\n",
                            "\t 19767.6 & 56.1 & 11.22\\\\\n",
                            "\\end{tabular}\n"
                        ],
                        "text/html": [
                            "<table class=\"dataframe\">\n",
                            "<caption>A matrix: 3 × 3 of type dbl</caption>\n",
                            "<thead>\n",
                            "\t<tr><th scope=col>income</th><th scope=col>age</th><th scope=col>education</th></tr>\n",
                            "</thead>\n",
                            "<tbody>\n",
                            "\t<tr><td>22888.8</td><td>20.4</td><td>12.24</td></tr>\n",
                            "\t<tr><td>78030.0</td><td>35.7</td><td>16.32</td></tr>\n",
                            "\t<tr><td>19767.6</td><td>56.1</td><td>11.22</td></tr>\n",
                            "</tbody>\n",
                            "</table>\n"
                        ]
                    },
                    "metadata": {}
                }
            ],
            "metadata": {}
        },
        {
            "cell_type": "markdown",
            "source": [
                "What we can do instead is extract the column with income, modify it, then replace the old income column with our updated column:"
            ],
            "metadata": {}
        },
        {
            "cell_type": "code",
            "execution_count": 43,
            "source": [
                "income_column <- survey[, \"income\"] # Extract income\n",
                "adjusted_income <- income_column * 1.02 # Adjust income\n",
                "survey[, \"income\"] <- adjusted_income # Replace income with new values!\n",
                "survey"
            ],
            "outputs": [
                {
                    "output_type": "display_data",
                    "data": {
                        "text/plain": [
                            "     income  age education\n",
                            "[1,] 22888.8 20  12       \n",
                            "[2,] 78030.0 35  16       \n",
                            "[3,] 19767.6 55  11       "
                        ],
                        "text/markdown": [
                            "\n",
                            "A matrix: 3 × 3 of type dbl\n",
                            "\n",
                            "| income | age | education |\n",
                            "|---|---|---|\n",
                            "| 22888.8 | 20 | 12 |\n",
                            "| 78030.0 | 35 | 16 |\n",
                            "| 19767.6 | 55 | 11 |\n",
                            "\n"
                        ],
                        "text/latex": [
                            "A matrix: 3 × 3 of type dbl\n",
                            "\\begin{tabular}{lll}\n",
                            " income & age & education\\\\\n",
                            "\\hline\n",
                            "\t 22888.8 & 20 & 12\\\\\n",
                            "\t 78030.0 & 35 & 16\\\\\n",
                            "\t 19767.6 & 55 & 11\\\\\n",
                            "\\end{tabular}\n"
                        ],
                        "text/html": [
                            "<table class=\"dataframe\">\n",
                            "<caption>A matrix: 3 × 3 of type dbl</caption>\n",
                            "<thead>\n",
                            "\t<tr><th scope=col>income</th><th scope=col>age</th><th scope=col>education</th></tr>\n",
                            "</thead>\n",
                            "<tbody>\n",
                            "\t<tr><td>22888.8</td><td>20</td><td>12</td></tr>\n",
                            "\t<tr><td>78030.0</td><td>35</td><td>16</td></tr>\n",
                            "\t<tr><td>19767.6</td><td>55</td><td>11</td></tr>\n",
                            "</tbody>\n",
                            "</table>\n"
                        ]
                    },
                    "metadata": {}
                }
            ],
            "metadata": {}
        },
        {
            "cell_type": "markdown",
            "source": [
                "Or, if we wanted, we could actually do all this in one step:"
            ],
            "metadata": {}
        },
        {
            "cell_type": "code",
            "execution_count": 44,
            "source": [
                "# Re-make survey so it hasn't been adjusted for inflation\n",
                "income <- c(22000, 75000, 19000)\n",
                "age <- c(20, 35, 55)\n",
                "education <- c(12, 16, 11)\n",
                "survey <- cbind(income, age, education)\n",
                "survey"
            ],
            "outputs": [
                {
                    "output_type": "display_data",
                    "data": {
                        "text/plain": [
                            "     income age education\n",
                            "[1,] 22000  20  12       \n",
                            "[2,] 75000  35  16       \n",
                            "[3,] 19000  55  11       "
                        ],
                        "text/markdown": [
                            "\n",
                            "A matrix: 3 × 3 of type dbl\n",
                            "\n",
                            "| income | age | education |\n",
                            "|---|---|---|\n",
                            "| 22000 | 20 | 12 |\n",
                            "| 75000 | 35 | 16 |\n",
                            "| 19000 | 55 | 11 |\n",
                            "\n"
                        ],
                        "text/latex": [
                            "A matrix: 3 × 3 of type dbl\n",
                            "\\begin{tabular}{lll}\n",
                            " income & age & education\\\\\n",
                            "\\hline\n",
                            "\t 22000 & 20 & 12\\\\\n",
                            "\t 75000 & 35 & 16\\\\\n",
                            "\t 19000 & 55 & 11\\\\\n",
                            "\\end{tabular}\n"
                        ],
                        "text/html": [
                            "<table class=\"dataframe\">\n",
                            "<caption>A matrix: 3 × 3 of type dbl</caption>\n",
                            "<thead>\n",
                            "\t<tr><th scope=col>income</th><th scope=col>age</th><th scope=col>education</th></tr>\n",
                            "</thead>\n",
                            "<tbody>\n",
                            "\t<tr><td>22000</td><td>20</td><td>12</td></tr>\n",
                            "\t<tr><td>75000</td><td>35</td><td>16</td></tr>\n",
                            "\t<tr><td>19000</td><td>55</td><td>11</td></tr>\n",
                            "</tbody>\n",
                            "</table>\n"
                        ]
                    },
                    "metadata": {}
                }
            ],
            "metadata": {}
        },
        {
            "cell_type": "code",
            "execution_count": 45,
            "source": [
                "# Now adjust income in one step!\n",
                "survey[, \"income\"] <- survey[, \"income\"] * 1.02\n",
                "survey"
            ],
            "outputs": [
                {
                    "output_type": "display_data",
                    "data": {
                        "text/plain": [
                            "     income age education\n",
                            "[1,] 22440  20  12       \n",
                            "[2,] 76500  35  16       \n",
                            "[3,] 19380  55  11       "
                        ],
                        "text/markdown": [
                            "\n",
                            "A matrix: 3 × 3 of type dbl\n",
                            "\n",
                            "| income | age | education |\n",
                            "|---|---|---|\n",
                            "| 22440 | 20 | 12 |\n",
                            "| 76500 | 35 | 16 |\n",
                            "| 19380 | 55 | 11 |\n",
                            "\n"
                        ],
                        "text/latex": [
                            "A matrix: 3 × 3 of type dbl\n",
                            "\\begin{tabular}{lll}\n",
                            " income & age & education\\\\\n",
                            "\\hline\n",
                            "\t 22440 & 20 & 12\\\\\n",
                            "\t 76500 & 35 & 16\\\\\n",
                            "\t 19380 & 55 & 11\\\\\n",
                            "\\end{tabular}\n"
                        ],
                        "text/html": [
                            "<table class=\"dataframe\">\n",
                            "<caption>A matrix: 3 × 3 of type dbl</caption>\n",
                            "<thead>\n",
                            "\t<tr><th scope=col>income</th><th scope=col>age</th><th scope=col>education</th></tr>\n",
                            "</thead>\n",
                            "<tbody>\n",
                            "\t<tr><td>22440</td><td>20</td><td>12</td></tr>\n",
                            "\t<tr><td>76500</td><td>35</td><td>16</td></tr>\n",
                            "\t<tr><td>19380</td><td>55</td><td>11</td></tr>\n",
                            "</tbody>\n",
                            "</table>\n"
                        ]
                    },
                    "metadata": {}
                }
            ],
            "metadata": {}
        },
        {
            "cell_type": "markdown",
            "source": [
                "And this is *especially* powerful if we subset on BOTH rows and columns. Suppose, for example, we wanted to see what people's incomes would look like if anyone who didn't finish high school (`education < 12`) got a tax credit of 10,000 dollars?"
            ],
            "metadata": {}
        },
        {
            "cell_type": "code",
            "execution_count": 46,
            "source": [
                "survey[survey[, \"education\"] < 12, \"income\"] = survey[survey[, \"education\"] < 12, \"income\"] + 10000"
            ],
            "outputs": [],
            "metadata": {}
        },
        {
            "cell_type": "code",
            "execution_count": 47,
            "source": [
                "survey"
            ],
            "outputs": [
                {
                    "output_type": "display_data",
                    "data": {
                        "text/plain": [
                            "     income age education\n",
                            "[1,] 22440  20  12       \n",
                            "[2,] 76500  35  16       \n",
                            "[3,] 29380  55  11       "
                        ],
                        "text/markdown": [
                            "\n",
                            "A matrix: 3 × 3 of type dbl\n",
                            "\n",
                            "| income | age | education |\n",
                            "|---|---|---|\n",
                            "| 22440 | 20 | 12 |\n",
                            "| 76500 | 35 | 16 |\n",
                            "| 29380 | 55 | 11 |\n",
                            "\n"
                        ],
                        "text/latex": [
                            "A matrix: 3 × 3 of type dbl\n",
                            "\\begin{tabular}{lll}\n",
                            " income & age & education\\\\\n",
                            "\\hline\n",
                            "\t 22440 & 20 & 12\\\\\n",
                            "\t 76500 & 35 & 16\\\\\n",
                            "\t 29380 & 55 & 11\\\\\n",
                            "\\end{tabular}\n"
                        ],
                        "text/html": [
                            "<table class=\"dataframe\">\n",
                            "<caption>A matrix: 3 × 3 of type dbl</caption>\n",
                            "<thead>\n",
                            "\t<tr><th scope=col>income</th><th scope=col>age</th><th scope=col>education</th></tr>\n",
                            "</thead>\n",
                            "<tbody>\n",
                            "\t<tr><td>22440</td><td>20</td><td>12</td></tr>\n",
                            "\t<tr><td>76500</td><td>35</td><td>16</td></tr>\n",
                            "\t<tr><td>29380</td><td>55</td><td>11</td></tr>\n",
                            "</tbody>\n",
                            "</table>\n"
                        ]
                    },
                    "metadata": {}
                }
            ],
            "metadata": {}
        },
        {
            "cell_type": "markdown",
            "source": [
                "And that's it! Now you're a matrix pro. "
            ],
            "metadata": {}
        },
        {
            "cell_type": "markdown",
            "source": [
                "## Arrays\n",
                "\n",
                "As we saw above, generalizing the way we subset vectors to subsetting matrices was quite easy -- we just subset our matrices by doing what we did with vectors, but with two terms in in our square brackets separated by a comma (e.g. `[1, 1]` instead of just `[1]`). \n",
                "\n",
                "But guess what? Just as it was easy to generalize from one dimension to two, it turns out that we can also generalize from two dimensions to N dimensions the same way! In fact, rather than thinking of vectors and matrices as to different thing, we can think of them as special cases (the case of N=1 and N=2) of a more general data structure: **Arrays**. \n",
                "\n",
                "Arrays are collections of data of the same type with a regular structure organized into N dimensions. When N=1, an array is the equivalent of a vector:"
            ],
            "metadata": {}
        },
        {
            "cell_type": "code",
            "execution_count": 25,
            "source": [
                "array(1:9)"
            ],
            "outputs": [
                {
                    "output_type": "display_data",
                    "data": {
                        "text/plain": [
                            "[1] 1 2 3 4 5 6 7 8 9"
                        ],
                        "text/markdown": [
                            "1. 1\n",
                            "2. 2\n",
                            "3. 3\n",
                            "4. 4\n",
                            "5. 5\n",
                            "6. 6\n",
                            "7. 7\n",
                            "8. 8\n",
                            "9. 9\n",
                            "\n",
                            "\n"
                        ],
                        "text/latex": [
                            "\\begin{enumerate*}\n",
                            "\\item 1\n",
                            "\\item 2\n",
                            "\\item 3\n",
                            "\\item 4\n",
                            "\\item 5\n",
                            "\\item 6\n",
                            "\\item 7\n",
                            "\\item 8\n",
                            "\\item 9\n",
                            "\\end{enumerate*}\n"
                        ],
                        "text/html": [
                            "<style>\n",
                            ".list-inline {list-style: none; margin:0; padding: 0}\n",
                            ".list-inline>li {display: inline-block}\n",
                            ".list-inline>li:not(:last-child)::after {content: \"\\00b7\"; padding: 0 .5ex}\n",
                            "</style>\n",
                            "<ol class=list-inline><li>1</li><li>2</li><li>3</li><li>4</li><li>5</li><li>6</li><li>7</li><li>8</li><li>9</li></ol>\n"
                        ]
                    },
                    "metadata": {}
                }
            ],
            "metadata": {}
        },
        {
            "cell_type": "markdown",
            "source": [
                "And when N=2, an array is just a matrix:"
            ],
            "metadata": {}
        },
        {
            "cell_type": "code",
            "execution_count": 26,
            "source": [
                "array(1:6, dim = c(2, 3))"
            ],
            "outputs": [
                {
                    "output_type": "display_data",
                    "data": {
                        "text/plain": [
                            "     [,1] [,2] [,3]\n",
                            "[1,] 1    3    5   \n",
                            "[2,] 2    4    6   "
                        ],
                        "text/markdown": [
                            "\n",
                            "A matrix: 2 × 3 of type int\n",
                            "\n",
                            "| 1 | 3 | 5 |\n",
                            "| 2 | 4 | 6 |\n",
                            "\n"
                        ],
                        "text/latex": [
                            "A matrix: 2 × 3 of type int\n",
                            "\\begin{tabular}{lll}\n",
                            "\t 1 & 3 & 5\\\\\n",
                            "\t 2 & 4 & 6\\\\\n",
                            "\\end{tabular}\n"
                        ],
                        "text/html": [
                            "<table class=\"dataframe\">\n",
                            "<caption>A matrix: 2 × 3 of type int</caption>\n",
                            "<tbody>\n",
                            "\t<tr><td>1</td><td>3</td><td>5</td></tr>\n",
                            "\t<tr><td>2</td><td>4</td><td>6</td></tr>\n",
                            "</tbody>\n",
                            "</table>\n"
                        ]
                    },
                    "metadata": {}
                }
            ],
            "metadata": {}
        },
        {
            "cell_type": "markdown",
            "source": [
                "But when N > 2, things start to get a little harder to visualize, but also a lot more powerful. \n",
                "\n",
                "*But WHY*, I hear you asking, *would I ever want more than two dimensions?!* \n",
                "\n",
                "Well, let's start with use-cases for N=3. Suppose that you wanted to build a climate model. One thing that you would have to do is come up with a way to store the temperature at different points within a 3D space! And you could do that with a three-dimensional array where the first two dimensions are used to store the x and y coordinates of a point on the ground, the third could represent an elevation above that point, and the value in that entry would be the temperature. \n",
                "\n",
                "For example, let's create a 3 x 3 x 10 array filled with random temperatures generated with `rnorm()`, where we're imagining the first dimension to be, say, number of kilometers North of a reference point (say, the center of Duke's campus), the second dimension is the number of kilometers East of the center of Duke's campus, and the third dimension is kilometers elevation:"
            ],
            "metadata": {}
        },
        {
            "cell_type": "code",
            "execution_count": 27,
            "source": [
                "# Make random temperatures.\n",
                "# In a real world application\n",
                "# you'd have measured these or\n",
                "# started with seed values based on\n",
                "# measured values.\n",
                "\n",
                " # using a reasonable farenheit mean and sd\n",
                "rand_temps <- rnorm(3 * 3 * 10, mean = 70, sd = 10)\n",
                "temperatures <- array(rand_temps, dim = c(3, 3, 10))"
            ],
            "outputs": [],
            "metadata": {}
        },
        {
            "cell_type": "markdown",
            "source": [
                "Now because `temperatures` has three dimensions, it's hard to print out, but it's easy to extract values. Suppose wanted to know the temperature 1 km North of Duke, 2km East, and at an elevation of 10km:"
            ],
            "metadata": {}
        },
        {
            "cell_type": "code",
            "execution_count": 28,
            "source": [
                "temperatures[1, 2, 10]"
            ],
            "outputs": [
                {
                    "output_type": "display_data",
                    "data": {
                        "text/plain": [
                            "[1] 77.25078"
                        ],
                        "text/markdown": [
                            "77.2507797172668"
                        ],
                        "text/latex": [
                            "77.2507797172668"
                        ],
                        "text/html": [
                            "77.2507797172668"
                        ]
                    },
                    "metadata": {}
                }
            ],
            "metadata": {}
        },
        {
            "cell_type": "markdown",
            "source": [
                "Ta-Da! I could also get the temperature at all elevations at the point 1km North and 2km East:"
            ],
            "metadata": {}
        },
        {
            "cell_type": "code",
            "execution_count": 29,
            "source": [
                "temperatures[1, 2, ]"
            ],
            "outputs": [
                {
                    "output_type": "display_data",
                    "data": {
                        "text/plain": [
                            " [1] 65.85079 65.00432 75.04100 74.07322 61.41821 72.17590 74.78367 65.24595\n",
                            " [9] 71.86098 77.25078"
                        ],
                        "text/markdown": [
                            "1. 65.8507907096104\n",
                            "2. 65.0043237897181\n",
                            "3. 75.0409994751575\n",
                            "4. 74.0732227357422\n",
                            "5. 61.4182052327438\n",
                            "6. 72.1759026721441\n",
                            "7. 74.7836672484131\n",
                            "8. 65.2459498945216\n",
                            "9. 71.8609790453352\n",
                            "10. 77.2507797172668\n",
                            "\n",
                            "\n"
                        ],
                        "text/latex": [
                            "\\begin{enumerate*}\n",
                            "\\item 65.8507907096104\n",
                            "\\item 65.0043237897181\n",
                            "\\item 75.0409994751575\n",
                            "\\item 74.0732227357422\n",
                            "\\item 61.4182052327438\n",
                            "\\item 72.1759026721441\n",
                            "\\item 74.7836672484131\n",
                            "\\item 65.2459498945216\n",
                            "\\item 71.8609790453352\n",
                            "\\item 77.2507797172668\n",
                            "\\end{enumerate*}\n"
                        ],
                        "text/html": [
                            "<style>\n",
                            ".list-inline {list-style: none; margin:0; padding: 0}\n",
                            ".list-inline>li {display: inline-block}\n",
                            ".list-inline>li:not(:last-child)::after {content: \"\\00b7\"; padding: 0 .5ex}\n",
                            "</style>\n",
                            "<ol class=list-inline><li>65.8507907096104</li><li>65.0043237897181</li><li>75.0409994751575</li><li>74.0732227357422</li><li>61.4182052327438</li><li>72.1759026721441</li><li>74.7836672484131</li><li>65.2459498945216</li><li>71.8609790453352</li><li>77.2507797172668</li></ol>\n"
                        ]
                    },
                    "metadata": {}
                }
            ],
            "metadata": {}
        },
        {
            "cell_type": "markdown",
            "source": [
                "Or the temperature at 5km elevation across all ground locations: "
            ],
            "metadata": {}
        },
        {
            "cell_type": "code",
            "execution_count": 30,
            "source": [
                "temperatures[, , 5]"
            ],
            "outputs": [
                {
                    "output_type": "display_data",
                    "data": {
                        "text/plain": [
                            "     [,1]     [,2]     [,3]    \n",
                            "[1,] 60.51195 61.41821 68.70549\n",
                            "[2,] 62.99944 63.63582 71.50434\n",
                            "[3,] 69.85861 67.75613 82.65490"
                        ],
                        "text/markdown": [
                            "\n",
                            "A matrix: 3 × 3 of type dbl\n",
                            "\n",
                            "| 60.51195 | 61.41821 | 68.70549 |\n",
                            "| 62.99944 | 63.63582 | 71.50434 |\n",
                            "| 69.85861 | 67.75613 | 82.65490 |\n",
                            "\n"
                        ],
                        "text/latex": [
                            "A matrix: 3 × 3 of type dbl\n",
                            "\\begin{tabular}{lll}\n",
                            "\t 60.51195 & 61.41821 & 68.70549\\\\\n",
                            "\t 62.99944 & 63.63582 & 71.50434\\\\\n",
                            "\t 69.85861 & 67.75613 & 82.65490\\\\\n",
                            "\\end{tabular}\n"
                        ],
                        "text/html": [
                            "<table class=\"dataframe\">\n",
                            "<caption>A matrix: 3 × 3 of type dbl</caption>\n",
                            "<tbody>\n",
                            "\t<tr><td>60.51195</td><td>61.41821</td><td>68.70549</td></tr>\n",
                            "\t<tr><td>62.99944</td><td>63.63582</td><td>71.50434</td></tr>\n",
                            "\t<tr><td>69.85861</td><td>67.75613</td><td>82.65490</td></tr>\n",
                            "</tbody>\n",
                            "</table>\n"
                        ]
                    },
                    "metadata": {}
                }
            ],
            "metadata": {}
        },
        {
            "cell_type": "markdown",
            "source": [
                "As you can see, this is a *really* powerful idea, and honestly arrays are probably the most fundamental data structure in data science. \n",
                "\n",
                "### Other Uses for Arrays\n",
                "\n",
                "Not into climate modeling? OK, here are some other uses of arrays with more than 2 dimensions:\n",
                "\n",
                "- **Repeated measurements over time:** Just as a single survey is easily represented as a matrix, so too can repeated surveys be easily represented by making time a third dimension. This makes it easy to pull out a single wave of the survey, or to pick out all the responses for a given person over time. \n",
                "- **Brain Scans:** fMRI scan the entire volume of the brain, and that volumetric data is most naturally stored in the three-dimensional array, just like the temperature data above. Obviously not all social scientists will end up working with brain scans, but there's certainly a lot of cutting-edge work in this area!\n",
                "- **3D measurements that evolve over time:** just as we can model survey data that evolves over time in three dimensions, we can also model three-dimensional volumetric data that evolves over time (e.g. not just a slice of a climate model, but its evoluation) in a four-dimensional array!\n",
                "- **Satellite Data:** Satellite image data usually comes in the form of sets of 2-dimensional images, where each image includes information about light intensity at a given wavelength. When these images are stacked to, say, generate a color image, or identify wavelength combinations common to certain types of pollution, flood waters, or specific crops, you get a three-dimensional array.\n",
                "\n",
                "So yeah, high dimensional arrays are a SUPER powerful data structure, and one you shouldn't shy away."
            ],
            "metadata": {}
        },
        {
            "cell_type": "markdown",
            "source": [
                "## Recap\n",
                "\n",
                "- Subsetting matrices is just like subsetting vectors, except with two entries between the square brackets: `[ , ]`.\n",
                "- The first entry in the square brackets relates to rows, the second to columns.\n",
                "- Like vectors, you can subset by index, by logical vector, or by name. \n",
                "- You can mix how you subset, and use a logical for rows and a name for columns. \n",
                "- If you subset a row, or subset a column you get back a vector.\n",
                "- Subsetting on both rows and column allows you to edit matrices in very powerful ways. \n",
                "- Vectors and matrices are actually just special cases of \"arrays\" where N=1 and N=2. Arrays can have as many dimensions as you want, and are very powerful abstractions. "
            ],
            "metadata": {}
        },
        {
            "cell_type": "markdown",
            "source": [
                "## Exercises\n",
                "\n",
                "Now that we've familiarized ourselves with matrices and matrix manipulation, [it's time to do some exercises!](./exercises/exercise_matrices.ipynb)"
            ],
            "metadata": {}
        }
    ],
    "metadata": {
        "orig_nbformat": 4,
        "language_info": {
            "name": "R",
            "codemirror_mode": "r",
            "pygments_lexer": "r",
            "mimetype": "text/x-r-source",
            "file_extension": ".r",
            "version": "4.1.0"
        },
        "kernelspec": {
            "name": "ir",
            "display_name": "R",
            "language": "R"
        }
    },
    "nbformat": 4,
    "nbformat_minor": 2
}