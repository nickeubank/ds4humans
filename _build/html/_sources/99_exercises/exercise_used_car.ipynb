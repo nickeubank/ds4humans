{
 "cells": [
  {
   "cell_type": "markdown",
   "metadata": {},
   "source": [
    "# Used Car Buying Exercise\n",
    "\n",
    "Hello! You should have been assigned to be \"Car Seller A\", \"Car Seller B\", or the \"Car Buyer\". Please follow **ONLY** the appropriate link to the information for your role below.\n",
    "\n",
    "- [Car Seller A](exercise_car_seller_A.ipynb)\n",
    "- [Car Seller B](exercise_car_seller_B.ipynb)\n",
    "- [Car Buyer](exercise_car_buyer.ipynb)"
   ]
  }
 ],
 "metadata": {
  "language_info": {
   "name": "python"
  }
 },
 "nbformat": 4,
 "nbformat_minor": 2
}
