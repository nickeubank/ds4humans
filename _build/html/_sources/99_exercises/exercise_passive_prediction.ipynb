{
 "cells": [
  {
   "cell_type": "markdown",
   "metadata": {},
   "source": [
    "# Predicting Mortgage Delinquency Risk\n",
    "\n",
    "You have been hired by a mortgage servicing firm (a company that buys mortgages and then collects mortgage payments from homeowners) to build a model to answer the question: \n",
    "\n",
    "**Given all available information about a newly issued mortgage, what is the likelihood that the mortgage will enter delinquency (the homeowner will be at least 30 days late on a mortgage payment) during the first two years of the mortgage?**\n",
    "\n",
    "The servicer's hope, obviously, is to differentiate between mortgages to try and purchase (those that will be consistently paid) and mortgages they wish to avoid.\n",
    "\n",
    "For this task, you have been given [REAL data on a sample of all US Standard single family home mortgages purchased or insured by Freddie Mac](https://www.freddiemac.com/research/datasets/sf-loanlevel-dataset) in a single calendar year along with payment data from that and two subsequent years.\n",
    "\n",
    "## WARNING\n",
    "\n",
    "**This is a longer assignment than many you are accustomed to if you were in IDS 720. Please start early!**"
   ]
  },
  {
   "cell_type": "markdown",
   "metadata": {},
   "source": [
    "\n",
    "## Gradescope Autograding\n",
    "\n",
    "Please follow [all standard guidance](https://www.practicaldatascience.org/ids720_specific/autograder_guidelines.html) for submitting this assignment to the Gradescope autograder, including storing your solutions in a dictionary called `results` and ensuring your notebook runs from the start to completion without any errors.\n",
    "\n",
    "For this assignment, please name your file `exercise_passive_prediction.ipynb` before uploading.\n",
    "\n",
    "You can check that you have answers for all questions in your `results` dictionary with this code:\n",
    "\n",
    "```python\n",
    "assert set(results.keys()) == {\n",
    "    \"ex2_merge_type\",\n",
    "    \"ex5_num_mortgages\",\n",
    "    \"ex5_share_delinquent\",\n",
    "    \"ex7_num_obs\",\n",
    "    \"ex10_predicted_delinquent\",\n",
    "    \"ex11_share_delinquent_weighted\",\n",
    "    \"ex13_optimal_threshold\",\n",
    "    \"ex14_normalized_value\",\n",
    "    \"ex15_num_obs\",\n",
    "    \"ex15_share_delinquent\",\n",
    "    \"ex16_final_return_pct\",\n",
    "    \"ex16_normalized_value_2007\",\n",
    "}\n",
    "```\n",
    "\n",
    "\n",
    "### Submission Limits\n",
    "\n",
    "Please remember that you are **only allowed THREE submissions to the autograder.** Your last submission (if you submit 3 or fewer times), or your third submission (if you submit more than 3 times) will determine your grade Submissions that error out will **not** count against this total.\n"
   ]
  },
  {
   "cell_type": "markdown",
   "metadata": {},
   "source": [
    "### Good Notebook Practices\n",
    "\n",
    "Please also review and follow all [Good Jupyter Notebook Practices](https://www.practicaldatascience.org/notebooks/PDS_not_yet_in_coursera/20_programming_concepts/writing_good_jupyter_notebooks.html) guidelines. They ARE grade relevant."
   ]
  },
  {
   "cell_type": "markdown",
   "metadata": {},
   "source": [
    "## Data Cleaning and Organization\n",
    "\n",
    "Data for this exercise can be [found here](https://github.com/nickeubank/MIDS_Data/tree/master/mortgages/2004). This folder includes both the data to be used and documentation, though you can find [supplemental documentation here](https://www.freddiemac.com/research/datasets/sf-loanlevel-dataset).\n",
    "\n",
    "The only modifications I've made to this data are:\n",
    "\n",
    "- Subset to mortgages taken out for purchase of a property,\n",
    "- With first payments due in the quarter of origination or the first quarter after origination (the vast majority of loans have first payments due the month after origination, so this just gets rid of some very weird mortgages).\n",
    "- I have also excluded mortgages for which origination data is available but servicing data is not available in the two years following the year of origination.\n",
    "- I also subset the data on servicing to the first 24 months after the mortgages first payment is due, so for each mortgage you will only have data on what happened in the first 24 months of its life.\n",
    "\n",
    "However, post-subsetting I have done my best to convert the data back to the original format to make your experience working with the data as authentic as possible."
   ]
  },
  {
   "cell_type": "markdown",
   "metadata": {},
   "source": [
    "### Exercise 1\n",
    "\n",
    "Begin by loading both: \n",
    "\n",
    "- the mortgage origination file (`sample_orig_2004_standard_mortgages.txt.zip`). This *should* contain information on all mortgages issued in 2004, along with non-time varying features of these mortgages (the initial amount, the credit score of the applicant, etc.), and \n",
    "- the servicing data (`sample_svcg_2004_threeyears_standard_mortgages.txt.zip`). This contains monthly records of all recorded payments (or non-payments) for all mortgages issued in 2004 during the calendar years of 2004, 2005, and 2006. As noted above, this has also been subset to only include the first 24 months after the first payment was due (though Freddie Mac has some data cleanliness issues, so sometimes there will be less than 24 records covering that first 24 months).\n",
    "\n",
    "So the autograder can see the data, be sure to load it directly from a URL (don't download and load from your own system).\n",
    "\n",
    "Because this is **real** data, it has some issues (even beyond what I've cleaned above). While I generally love to leave students to work through this stuff, this is a long exercise, so here are a couple tips:\n",
    "\n",
    "- The data is zip compressed. When you gives pandas a zip file that has only one thing in the zip archive, it will *usually* infer what's going on and decompress it without help. However, if the file name or URL you pass to pandas does not end in `.zip`, this automatic inference will fail and you will need to use the `compression` keyword to explicitly tell pandas the file is zip compressed.\n",
    "- When you load the data, you will see it does not have column names. You will likely need to reference the documentation to figure out appropriate column names.\n",
    "  - pandas will automatically treat the first row of a dataset as column names, not data. When working with a dataset that lacks column names, not only do you have to set the column names (so you know the meaning of each column), you also have to make sure pandas doesn't treat the first row as labels and not data (effectively dropping it)."
   ]
  },
  {
   "cell_type": "markdown",
   "metadata": {},
   "source": [
    "### Exercise 2\n",
    "\n",
    "What is the unit of observation in `sample_orig_2004_standard_mortgages.txt` and in `sample_svcg_2004_threeyears_standard_mortgages.txt`?"
   ]
  },
  {
   "cell_type": "markdown",
   "metadata": {},
   "source": [
    "### Exercise 3\n",
    "\n",
    "Merge your two datasets. Be sure to use the `validate` keyword argument in `merge`.\n",
    "\n",
    "You will find some records in the origination files not in the servicing file. We need data from both files, so just do an `inner` join.\n",
    "\n",
    "Assuming that you list the data associated with `sample_orig_2004_standard_mortgages.txt` first and `sample_svcg_2004_threeyears_standard_mortgages.txt` second, what keyword are you passing to `validate`? Store your answer as a string (use one of: `\"1:1\"`, `\"m:1\"`, `\"1:m\"`, `\"m:m\"`) in a dictionary called `results` under the key `ex2_merge_type`."
   ]
  },
  {
   "cell_type": "markdown",
   "metadata": {},
   "source": [
    "### Exercise 4\n",
    "\n",
    "For each unique mortgage in your dataset, create an indicator variable that takes on a value of 1 if, at any time during this period, the mortgage has been delinquent.\n",
    "\n",
    "Delinquency status is stored in the variable `CURRENT LOAN DELINQUENCY STATUS`, and is coded as:\n",
    "\n",
    "> CURRENT LOAN DELINQUENCY STATUS – A value corresponding to the number of days the borrower is delinquent, based on the due date of last paid installment (“DDLPI”) reported by servicers to Freddie Mac, and is calculated under the Mortgage Bankers Association (MBA) method.\n",
    "If a loan has been acquired by REO, then the Current Loan Delinquency Status will reflect the value corresponding to that status (instead of the value corresponding to the number of days the borrower is delinquent).\n",
    ">\n",
    "> 0 = Current, or less than 30 days delinquent\n",
    "> \n",
    "> 1 = 30-59 days delinquent\n",
    "> \n",
    "> 2=60–89days delinquent\n",
    "> \n",
    "> 3=90–119days delinquent\n",
    "> \n",
    "> And so on...\n",
    "> \n",
    "> RA = REO Acquisition\n"
   ]
  },
  {
   "cell_type": "markdown",
   "metadata": {},
   "source": [
    "### Exercise 5\n",
    "\n",
    "At this point, you should be able to drop all servicing variables reported on a monthly basis and just keep information about the original mortgage issuance (and still keep an indicator for whether the mortgage has ever been delinquent).\n",
    "\n",
    "Store the final number of mortgages in your data under `ex5_num_mortgages` and the share (between 0 and 1) of mortgages that have been delinquent under `ex5_share_delinquent`. **Please round the share delinquent to 3 decimal places.**"
   ]
  },
  {
   "cell_type": "markdown",
   "metadata": {},
   "source": [
    "## Modeling Delinquency Risk\n",
    "\n",
    "Your data should now be relatively [tidy](https://vita.had.co.nz/papers/tidy-data.pdf), in the technical sense of the term. And that means it should be relatively straightforward for you to build a model that answers the question \"Given the features of a newly originated mortgage, how likely is the mortgage holder to fall into delinquency within the first two years after origination?\" to help your stakeholder decide which mortgages to purchase."
   ]
  },
  {
   "cell_type": "markdown",
   "metadata": {},
   "source": [
    "### Exercise 6\n",
    "\n",
    "For your analysis, include the following variables: \n",
    "\n",
    "```\n",
    "Credit Score\n",
    "First Time Homebuyer Flag\n",
    "Number of Units\n",
    "Mortgage Insurance Percentage (MI %)\n",
    "Occupancy Status\n",
    "Original Debt-to-Income (DTI) Ratio\n",
    "Original UPB\n",
    "Original Loan-to-Value (LTV)\n",
    "Original Interest Rate\n",
    "Channel\n",
    "Prepayment Penalty Mortgage (PPM) Flag\n",
    "Amortization Type (Formerly Product Type)\n",
    "Property State\n",
    "Property Type\n",
    "Original Loan Term\n",
    "Number of Borrowers\n",
    "```\n",
    "\n",
    "Be sure to clean these variables. When doing so, please treat missing data as missing (e.g., `np.nan`, not as a distinct category). You will probably want to consult the documentation on the data for guidance on missing values.\n"
   ]
  },
  {
   "cell_type": "markdown",
   "metadata": {},
   "source": [
    "### Why Aren't We Using Metropolitan Statistical Area (MSA)?\n",
    "\n",
    "Metropolitan Statistical Area (MSA) is what the US Census Bureau calls what most people would think of as a city. Durham *plus* Chapel Hill are considered a single MSA, for example.\n",
    "\n",
    "So looking at this list, you may be wondering why we aren't using the MSA variable in the data. After all, real estate is all about location, location, location, right? \n",
    "\n",
    "Well, the problem is the data is too sparse — it's missing for a substantial number of observations, and more importantly there are lots of MSAs with only a couple of observations that are delinquent (about 40% of MSAs have less than 4 mortgages that are delinquent in their first two years). That's just too sparse for modelling — when coefficients are being estimated for those categories, they're bound to over-fit.\n",
    "\n",
    "Put differently: would you be comfortable estimating the delinquency rate for, say, the city of Denver, CO with three or fewer delinquent observations? Of course not, but when you try and predict values to new data, that's precisely what you're doing — applying an estimate of delinquency from a few delinquent observations to any new observations in that MSA.\n",
    "\n",
    "If you were working with longer time periods or the dataset with *all* Freddie Mac mortgages (not a sample), you could probably use MSA."
   ]
  },
  {
   "cell_type": "markdown",
   "metadata": {},
   "source": [
    "### Exercise 7\n",
    "\n",
    "The next step in our analysis is to convert our categorical variables to one-hot-encodings and use `train_test_split` to split our data.\n",
    "\n",
    "To ensure replicability, **before** you `train_test_split` your data, please sort your data by `Loan Sequence Number`. This will ensure when we split the data with a random seed below, everyone will get the same split and the autograder will function.\n",
    "\n",
    "You may create your one-hot-encodings however you wish, but I'm a fan of the [patsy library's](https://patsy.readthedocs.io/en/latest/overview.html) `dmatrices` function.\n",
    "\n",
    "**Hint:** You should end up with 8 categorical variables, including some binary flags and `Number_of_Borrowers`, `Number_of_Units` (which you could argue should be continuous, but I think are better treated as categorical).\n",
    "\n",
    "**Hint 2:** To use `patsy`, you will probably need to make some changes to the names of your variables. To make your life easier, you may wish to use a little snippet like this:\n",
    "\n",
    "```python\n",
    "import re\n",
    "mortgages_2004.columns = [re.sub(\" \", \"_\", c) for c in mortgages_2004.columns]\n",
    "mortgages_2004.columns = [re.sub(\"[%/()-]\", \"\", c) for c in mortgages_2004.columns]\n",
    "```\n",
    "\n",
    "**Hint 3:** your final `X` matrix should have 76 columns, including intercept.\n",
    "\n",
    "Store the number of observations in your final dataset in `ex7_num_obs`. "
   ]
  },
  {
   "cell_type": "markdown",
   "metadata": {},
   "source": [
    "### Exercise 8\n",
    "\n",
    "Use `train_test_split` from `sklearn.model_selection` to split the data. \n",
    "\n",
    "Before you do, Use `0.2` as the `test_size` and use `random_state=42`."
   ]
  },
  {
   "cell_type": "markdown",
   "metadata": {},
   "source": [
    "### Exercise 9\n",
    "\n",
    "Now fit a `GradientBoostingClassifier` to the data (from `sklearn.ensemble`). Set `random_state=42` when instantiating your `GradientBoostingClassifier`.\n"
   ]
  },
  {
   "cell_type": "markdown",
   "metadata": {},
   "source": [
    "### Exercise 10\n",
    "\n",
    "Use the `predict` method and your test data to generate a confusion matrix. \n",
    "\n",
    "What problem do you see with the result? Round the share of observations predicted to be delinquent to three decimal places and store them under `ex10_predicted_delinquent` in `results`."
   ]
  },
  {
   "cell_type": "markdown",
   "metadata": {},
   "source": [
    "### Exercise 11\n",
    "\n",
    "With imbalanced data, it's not uncommon for classification algorithms to maximize performance by basically just predicting everything is the dominant class.\n",
    "\n",
    "One way to help reduce this behavior is to re-weight the data so that each observation of the dominant class gets less weight and each observation in the minority class gets more. A common default approach is to weigh each class with the reciprocal of its share of the data (so if delinquencies were 5% of our observations, we would give each delinquent observation a weight of 1/0.05 = 20, and each non-delinquent observation a weight of 1/0.95 = 1.0526...).\n",
    "\n",
    "To accomplish this, create an array with sample weights using this reciprocal rule for each observation and pass it to the `sample_weight` argument of `.fit()` and refit your model.\n",
    "\n",
    "To help the autograder, please:\n",
    "\n",
    "- Recalculate the share of observations that are delinquent and use the full calculated value to calculate weights, and\n",
    "- Re-instantiate your `GradientBoostingClassifier` with `random_state=42`.\n",
    "\n",
    "What share of observations are now predicted to be delinquent? Store the share under `ex11_share_delinquent_weighted` in `results`. **Round your answer to three decimal places.**"
   ]
  },
  {
   "cell_type": "markdown",
   "metadata": {},
   "source": [
    "### Exercise 12\n",
    "\n",
    "As you can tell, these weights are obviously parameters than can be tuned, but for the moment let's stick with the results of our model fit with reciprocal weights.\n",
    "\n",
    "A classification model like this will provide a default classification threshold, but we can also use `.predict_proba()` to get *probabilities* the model assigns to whether each observation is a `1`. This is helpful, because one thing we can do as data scientists is play with the probability threshold at which we call an observation a `1`. \n",
    "\n",
    "In other words, you can vary the threshold value `t` at which you say \"for any observation with `.predict_proba()` above a value `t` is a 1, and any observation with a value below `t` is a 0.\" Then for each `t`, you will get a set of predicted classes for which you can calculate the resulting number of true and false positives and negatives.\n",
    "\n",
    "(If you think in these terms, changing the sample weights we give the model will impact the orientation of the separating hyperplane the model creates to split the data; changing the classification threshold at which an observation is considered a `1` basically constitutes a simple shifting the hyperplane.)\n",
    "\n",
    "Using the results of our `GradientBoostingClassifier` fit with reciprocal sample weights, get the predicted probabilities for each observation in our test data. \n",
    "\n",
    "Plot the share of observations classified as delinquent against classification thresholds from 0 to 1."
   ]
  },
  {
   "cell_type": "markdown",
   "metadata": {},
   "source": [
    "### Exercise 13\n",
    "\n",
    "From this visualization, you should be able to see that by changing our classification threshold, we can change the share of mortgages predicted to be delinquent (e.g., classified as dangerous to buy). If we *really* wanted to avoid risk, we could use a threshold like 0.2, and our client would basically not buy any mortgages. Or we could choose a threshold like 0.8 and our client would buy almost all the mortgages available!\n",
    "\n",
    "So what threshold *should* we use? \n",
    "\n",
    "Assume that, for your client, a good mortgage has a value of 1. (We can think of this as a normalization of any actual financial value). A delinquent mortgage the client has purchased has a value of -20 — that is, if the client bought 21 mortgages and 1 turned out to be delinquent, they would break even. \n",
    "\n",
    "A good mortgage they fail to purchase they think is costing them about -0.05 times the value of a good mortgage. We can think of this as the \"opportunity cost\" of failing to buy a good mortgage and instead having to put their money somewhere else with a lower return.\n",
    "\n",
    "This is the same as saying, when we think about our classification matrix, that the relative value of an observation in each cell is (normalized to the value of a True Negative (a safe mortgage predicted to be safe) being 1):\n",
    "\n",
    "- True Positive: 0 (a mortgage correctly predicted to be delinquent our stakeholder didn't buy).\n",
    "- True Negative: 1 (a mortgage correctly predicted to be safe our stakeholder did buy).\n",
    "- False Negative: -20 (a mortgage incorrectly predicted to be safe our stakeholder did buy and that turned out to be delinquent).\n",
    "- False Positive: -0.05 (a mortgage incorrectly predicted to be delinquent our stakeholder didn't buy but which turned out to be safe).\n",
    "\n",
    "Again, without tuning our `sample_weights` (which you might do in a real analysis), what classification threshold would you choose? \n",
    "\n",
    "Do a grid search with ~1,000 grid steps. Find the threshold with the highest expected value and store it under the key `\"ex13_optimal_threshold\"`. **Round your answer to the nearest half tenth (0.05).** \n",
    "\n",
    "I know, I know — this is a _very_ weird rounding, but grid search is lumpy, so people will likely get slightly different answers, and rounding to two decimals isn't quite stable enough for an autograder. So your answer should be something like `0.15`, `0.20`, `0.25`, `0.30`, `0.35`, `0.40`, `0.45`, etc.\n",
    "\n",
    "Please also plot your threshold against value calculations."
   ]
  },
  {
   "cell_type": "markdown",
   "metadata": {},
   "source": [
    "### Exercise 14\n",
    "\n",
    "What is the value your customer will get at that (rounded-to-nearest-half-tenth) threshold per mortgage available (i.e., assume a True Negative yields a value of 1, calculate the value generated by your test data at your rounded optimal threshold, then normalize by the number of observations in the test data). Store this normalized value in `ex14_normalized_value`. **Round your answer to two decimal places.**"
   ]
  },
  {
   "cell_type": "markdown",
   "metadata": {},
   "source": [
    "## Now To The Future\n",
    "\n",
    "Most of the time, at least as students, we never get to see how well our predictions do. We fit our models on our training data, then evaluate their performance against our test data, and because we're evaluating our model against data it hadn't seen during training, we act as if we're really evaluating how well our predictions would fair if deployed in the real world.\n",
    "\n",
    "But our mortgage data is from 2004, and as you may have noticed, 2004 was actually a while ago, which means we can now see how the model we trained on the first 24 months of payments on mortgages that originated in 2004 would do if we actually deployed it. To have our 24 months of payments, of course, the soonest we could have done the analysis above would have been in late 2006. So let's assume that your boss *immediately* deploys your model and starts buying up all the mortgages your model says should be purchased starting on January 1st 2007 and continued through December 31st 2007. \n",
    "\n",
    "Would you have gotten the average value per mortgage your model predicted? \n"
   ]
  },
  {
   "cell_type": "markdown",
   "metadata": {},
   "source": [
    "\n",
    "### Exercise 15\n",
    "\n",
    "In this [folder](https://github.com/nickeubank/MIDS_Data/tree/master/mortgages/2007) you will find data on mortgages originated in 2007 along with servicing data from 2007, 2008, and 2009.\n",
    "\n",
    "Please:\n",
    "\n",
    "- load this data (again, from a URL to help the autograder). \n",
    "- clean up your data as you did the data from the earlier period, \n",
    "- use patsy to prepare the data so you can use the model **from above** (the model that used the reciprocal weights on data from mortgages originating in 2004) with this data. \n",
    "\n",
    "In other words, we're using the model you trained on 2004 data to predict credit risk for these new mortgages. We're doing this to simulate what you would do if you were to actually put the model you fit in Exercise 11 \"into production\" to model the risk of new mortgages. So you won't use the `.fit()` method again, just the `.predict()` method with the new data.\n"
   ]
  },
  {
   "cell_type": "markdown",
   "metadata": {},
   "source": [
    "**Warning**: Because you are asking sklearn to use a model trained on one dataset to predict values using predictors from a second dataset, any difference in the structure of the second dataset will cause problems. For example, if `num_of_units` is an integer in the 2007 data when you try and run your predictions, but it was a float in the 2004 data, patsy will give the columns slightly different names and you'll get an error like this:\n",
    "\n",
    "```python\n",
    "ValueError: The feature names should match those that were passed during fit.\n",
    "Feature names unseen at fit time:\n",
    "- C(num_of_units)[T.2]\n",
    "- C(num_of_units)[T.3]\n",
    "- C(num_of_units)[T.4]\n",
    "Feature names seen at fit time, yet now missing:\n",
    "- C(num_of_units)[T.2.0]\n",
    "- C(num_of_units)[T.3.0]\n",
    "- C(num_of_units)[T.4.0]\n",
    "```\n",
    "\n",
    "This can be corrected by ensuring that `num_of_units` is of the same type when you run `dmatrices` for both datasets. "
   ]
  },
  {
   "cell_type": "markdown",
   "metadata": {},
   "source": [
    "Your final X matrix should still have 76 columns. As sanity checks, store the final number of observations in your data after using patsy to make a design matrix in `\"ex15_num_obs\"` and the share of mortgages in your design matrix that are actually delinquent in `\"ex15_share_delinquent\"`. **Round the share delinquent to three decimal places.**\n",
    "\n",
    "**Hint:** The 2007 delinquency rate should be higher than the 2004 delinquency rate for reasons you can probably figure out if you google it. Something happened with mortgages between 2007 and 2009..."
   ]
  },
  {
   "cell_type": "markdown",
   "metadata": {},
   "source": [
    "### Exercise 16\n",
    "\n",
    "\n"
   ]
  },
  {
   "cell_type": "markdown",
   "metadata": {},
   "source": [
    "Had your stakeholder purchased all the mortgages originating in 2007 using your model trained on 2004 mortgages, what would the average normalized value of those mortgages be?\n",
    "\n",
    "Store your result under the key `\"ex16_normalized_value_2007\"`. **Round your answer to 2 decimal places.**\n",
    "\n",
    "Calculate the actual return your model provided as a percentage of the predicted return (e.g., `100 * results[\"ex16_normalized_value_2007\"] / results[\"ex14_normalized_value\"]`, so 1 is one percent, 100 is 100 percent). \n",
    "\n",
    "To be clear, you should do this calculation with the *rounded* values you stored in `results` (again, for the autograder — in general you should never round until the end of calculations, but we're trying to smooth little differences).\n",
    "\n",
    "Store this result as `\"ex16_final_return_pct\"`. **Round this calculated percentage one decimal place.**\n",
    "\n"
   ]
  },
  {
   "cell_type": "markdown",
   "metadata": {},
   "source": [
    "### Exercise 17\n",
    "\n",
    "How did the performance of your model against your test data (from 2004) compare to your model's actual performance in later years (the 2007 data)? What lesson from our class readings does this illustrate, and how does it relate to internal and external validity?\n",
    "\n",
    "The question is worth several points, and is meant to be the place where you reflect on why I made you do all this. Your answer should not be a couple sentences."
   ]
  }
 ],
 "metadata": {
  "kernelspec": {
   "display_name": "Python 3",
   "language": "python",
   "name": "python3"
  },
  "language_info": {
   "codemirror_mode": {
    "name": "ipython",
    "version": 3
   },
   "file_extension": ".py",
   "mimetype": "text/x-python",
   "name": "python",
   "nbconvert_exporter": "python",
   "pygments_lexer": "ipython3",
   "version": "3.12.5"
  }
 },
 "nbformat": 4,
 "nbformat_minor": 2
}
