{
 "cells": [
  {
   "cell_type": "markdown",
   "source": [
    "# Function Example\n",
    "\n",
    "Functions are nice tools both for creating generalizable code, and also just for organizing your work. Because a function is a bundle of code that does one thing, putting parts of your work in functions can be helpful in defining the goal of that chunk of code. \n",
    "\n",
    "To illustrate one use of a function, we'll write a function that reads and manipulates a .csv file. We can then put this in a for loop to iterate over several files with a similar structure and combine the resulting data frames into one data frame.\n",
    "\n",
    "As you'll see, one *could* cram all the code we're gonna write directly into the for-loop at the end, but by breaking out part of it into a function, the problem is more easily broken into smaller parts. \n",
    "\n",
    "What follows is an example of how you might use functions in a real data science workflow. The goal is not for you to be comfortable with everything that you see -- for example, the code uses a couple of tricks for manipulating data on dates -- but rather just to get to see what some of this stuff looks like!"
   ],
   "metadata": {}
  },
  {
   "cell_type": "markdown",
   "source": [
    "### Reading several files\n",
    "\n",
    "\n",
    "Begin by downloading a [.zip file with service request data from NYC](https://github.com/nickeubank/computational_methods_boot_camp/blob/main/source/data/nyc-311-sample.zip). The zip file contains six files for years 2004-2009, each with 10,000 observations. The data are originally from [NYC's Open Data portal](https://nycopendata.socrata.com/data?cat=social%20services), which hosts datasets with millions of service requests filed by residents through the city's 311 program. For the purpose of this example, I have taken a random sample of 10,000 for each year.\n",
    "\n",
    "Here's what the 2004 file looks like (the other years have the same structure)."
   ],
   "metadata": {}
  },
  {
   "cell_type": "code",
   "execution_count": 1,
   "source": [
    "url2004 <- \"https://raw.githubusercontent.com/nickeubank/computational_methods_boot_camp/main/source/data/nyc-311-sample/nyc-311-2004-sample.csv\"\n",
    "nyc04 <- read.csv(url2004)\n",
    "head(nyc04)"
   ],
   "outputs": [
    {
     "output_type": "display_data",
     "data": {
      "text/plain": [
       "  Unique.Key Created.Date        Closed.Date        \n",
       "1 4735434    01/23/2004 12:00 AM 02/02/2004 12:00 AM\n",
       "2 7547062    06/04/2004 12:00 AM 06/09/2004 12:00 AM\n",
       "3 5050661    08/04/2004 12:00 AM 08/06/2004 12:00 AM\n",
       "4 7281795    11/26/2004 12:00 AM 12/10/2004 12:00 AM\n",
       "5 1443894    08/22/2004 12:00 AM 08/22/2004 12:00 AM\n",
       "6 3244577    12/02/2004 12:00 AM 12/15/2004 12:00 AM\n",
       "  Complaint.Type                Location                                \n",
       "1 Boilers                       (40.71511134258793, -73.98998982667266) \n",
       "2 HEATING                       (40.871781348425515, -73.88238262118011)\n",
       "3 General Construction/Plumbing (40.59418801428136, -73.80082145383885) \n",
       "4 PLUMBING                      (40.85911979460089, -73.90605127158484) \n",
       "5 Noise - Street/Sidewalk       (40.54800892371052, -74.17041676351323) \n",
       "6 Noise                                                                 "
      ],
      "text/markdown": [
       "\n",
       "A data.frame: 6 × 5\n",
       "\n",
       "| <!--/--> | Unique.Key &lt;int&gt; | Created.Date &lt;chr&gt; | Closed.Date &lt;chr&gt; | Complaint.Type &lt;chr&gt; | Location &lt;chr&gt; |\n",
       "|---|---|---|---|---|---|\n",
       "| 1 | 4735434 | 01/23/2004 12:00 AM | 02/02/2004 12:00 AM | Boilers                       | (40.71511134258793, -73.98998982667266)  |\n",
       "| 2 | 7547062 | 06/04/2004 12:00 AM | 06/09/2004 12:00 AM | HEATING                       | (40.871781348425515, -73.88238262118011) |\n",
       "| 3 | 5050661 | 08/04/2004 12:00 AM | 08/06/2004 12:00 AM | General Construction/Plumbing | (40.59418801428136, -73.80082145383885)  |\n",
       "| 4 | 7281795 | 11/26/2004 12:00 AM | 12/10/2004 12:00 AM | PLUMBING                      | (40.85911979460089, -73.90605127158484)  |\n",
       "| 5 | 1443894 | 08/22/2004 12:00 AM | 08/22/2004 12:00 AM | Noise - Street/Sidewalk       | (40.54800892371052, -74.17041676351323)  |\n",
       "| 6 | 3244577 | 12/02/2004 12:00 AM | 12/15/2004 12:00 AM | Noise                         | <!----> |\n",
       "\n"
      ],
      "text/latex": [
       "A data.frame: 6 × 5\n",
       "\\begin{tabular}{r|lllll}\n",
       "  & Unique.Key & Created.Date & Closed.Date & Complaint.Type & Location\\\\\n",
       "  & <int> & <chr> & <chr> & <chr> & <chr>\\\\\n",
       "\\hline\n",
       "\t1 & 4735434 & 01/23/2004 12:00 AM & 02/02/2004 12:00 AM & Boilers                       & (40.71511134258793, -73.98998982667266) \\\\\n",
       "\t2 & 7547062 & 06/04/2004 12:00 AM & 06/09/2004 12:00 AM & HEATING                       & (40.871781348425515, -73.88238262118011)\\\\\n",
       "\t3 & 5050661 & 08/04/2004 12:00 AM & 08/06/2004 12:00 AM & General Construction/Plumbing & (40.59418801428136, -73.80082145383885) \\\\\n",
       "\t4 & 7281795 & 11/26/2004 12:00 AM & 12/10/2004 12:00 AM & PLUMBING                      & (40.85911979460089, -73.90605127158484) \\\\\n",
       "\t5 & 1443894 & 08/22/2004 12:00 AM & 08/22/2004 12:00 AM & Noise - Street/Sidewalk       & (40.54800892371052, -74.17041676351323) \\\\\n",
       "\t6 & 3244577 & 12/02/2004 12:00 AM & 12/15/2004 12:00 AM & Noise                         &                                         \\\\\n",
       "\\end{tabular}\n"
      ],
      "text/html": [
       "<table class=\"dataframe\">\n",
       "<caption>A data.frame: 6 × 5</caption>\n",
       "<thead>\n",
       "\t<tr><th></th><th scope=col>Unique.Key</th><th scope=col>Created.Date</th><th scope=col>Closed.Date</th><th scope=col>Complaint.Type</th><th scope=col>Location</th></tr>\n",
       "\t<tr><th></th><th scope=col>&lt;int&gt;</th><th scope=col>&lt;chr&gt;</th><th scope=col>&lt;chr&gt;</th><th scope=col>&lt;chr&gt;</th><th scope=col>&lt;chr&gt;</th></tr>\n",
       "</thead>\n",
       "<tbody>\n",
       "\t<tr><th scope=row>1</th><td>4735434</td><td>01/23/2004 12:00 AM</td><td>02/02/2004 12:00 AM</td><td>Boilers                      </td><td>(40.71511134258793, -73.98998982667266) </td></tr>\n",
       "\t<tr><th scope=row>2</th><td>7547062</td><td>06/04/2004 12:00 AM</td><td>06/09/2004 12:00 AM</td><td>HEATING                      </td><td>(40.871781348425515, -73.88238262118011)</td></tr>\n",
       "\t<tr><th scope=row>3</th><td>5050661</td><td>08/04/2004 12:00 AM</td><td>08/06/2004 12:00 AM</td><td>General Construction/Plumbing</td><td>(40.59418801428136, -73.80082145383885) </td></tr>\n",
       "\t<tr><th scope=row>4</th><td>7281795</td><td>11/26/2004 12:00 AM</td><td>12/10/2004 12:00 AM</td><td>PLUMBING                     </td><td>(40.85911979460089, -73.90605127158484) </td></tr>\n",
       "\t<tr><th scope=row>5</th><td>1443894</td><td>08/22/2004 12:00 AM</td><td>08/22/2004 12:00 AM</td><td>Noise - Street/Sidewalk      </td><td>(40.54800892371052, -74.17041676351323) </td></tr>\n",
       "\t<tr><th scope=row>6</th><td>3244577</td><td>12/02/2004 12:00 AM</td><td>12/15/2004 12:00 AM</td><td>Noise                        </td><td>                                        </td></tr>\n",
       "</tbody>\n",
       "</table>\n"
      ]
     },
     "metadata": {}
    }
   ],
   "metadata": {
    "tags": [
     "remove_input"
    ]
   }
  },
  {
   "cell_type": "markdown",
   "source": [
    "The variables in the data are as follows: \n",
    "\n",
    "* `Unique.Key`: An id number unique to each request.\n",
    "* `Created.Date`: The date the request was filed in the 311 system.\n",
    "* `Closed.Date`: The date the request was resolved by city workers (`NA`\n",
    "implies that it was never resolved).\n",
    "* `Complaint.Type`: The subject of the complaint.\n",
    "* `Location`: Coordinates that give the location of the service issue."
   ],
   "metadata": {}
  },
  {
   "cell_type": "markdown",
   "source": [
    "Our goal with the function is to read the file and clean it. In particular,\n",
    "we want to convert the `Created.Date` and `Closed.Date` variables so that\n",
    "R recognizes them as dates. From these variables, we can then calculate\n",
    "measures of *government responsiveness*: (1) how many days it took city\n",
    "workers to resolve a request, and (2) whether or not a request was resolved\n",
    "within a week. "
   ],
   "metadata": {}
  },
  {
   "cell_type": "code",
   "execution_count": 2,
   "source": [
    "library(lubridate) # to work with dates"
   ],
   "outputs": [
    {
     "output_type": "stream",
     "name": "stderr",
     "text": [
      "\n",
      "Attaching package: 'lubridate'\n",
      "\n",
      "\n",
      "The following objects are masked from 'package:base':\n",
      "\n",
      "    date, intersect, setdiff, union\n",
      "\n",
      "\n"
     ]
    }
   ],
   "metadata": {}
  },
  {
   "cell_type": "code",
   "execution_count": 3,
   "source": [
    "# Load required packages\n",
    "\n",
    "# Create a function that reads and cleans a service request file.\n",
    "# The input is the name of a service request file and the\n",
    "# output is a data frame with cleaned variables.\n",
    "clean_dta <- function(file_name) {\n",
    "\n",
    "    # Read the file and save it to an object called 'dta'\n",
    "    dta <- read.csv(file_name)\n",
    "\n",
    "    # Clean the dates in the dta file and generate responsiveness measures\n",
    "    # mdy(substring(dta$Created.Date, 1, 10)) pulls just the month-day-year\n",
    "    # from our columns with dates, then `mdy` tells R to read it as a date\n",
    "    # in month-day-year format.\n",
    "\n",
    "    dta$opened <- mdy(substring(dta$Created.Date, 1, 10))\n",
    "    dta$closed <- mdy(substring(dta$Closed.Date, 1, 10))\n",
    "\n",
    "    # Number of days between an issue opens and is resolved.\n",
    "    dta$resptime <- as.numeric(difftime(dta$closed, dta$opened, units = \"days\"))\n",
    "\n",
    "    # Create indicator of whether solved within 7 days.\n",
    "    # responses in less than 0 is bad data.\n",
    "    dta[dta$resptime < 0 | is.na(dta$resptime), \"resptime\"] <- NA\n",
    "    dta$solvedin7 <- as.numeric(dta$resptime <= 7)\n",
    "\n",
    "    # Return the cleaned data\n",
    "    return(dta)\n",
    "}"
   ],
   "outputs": [],
   "metadata": {}
  },
  {
   "cell_type": "markdown",
   "source": [
    "Let's test the function on the 2004 data:"
   ],
   "metadata": {}
  },
  {
   "cell_type": "code",
   "execution_count": 4,
   "source": [
    "# Execute function on the 2004 data\n",
    "nyc04 <- clean_dta(url2004)\n",
    "head(nyc04)"
   ],
   "outputs": [
    {
     "output_type": "display_data",
     "data": {
      "text/plain": [
       "  Unique.Key Created.Date        Closed.Date        \n",
       "1 4735434    01/23/2004 12:00 AM 02/02/2004 12:00 AM\n",
       "2 7547062    06/04/2004 12:00 AM 06/09/2004 12:00 AM\n",
       "3 5050661    08/04/2004 12:00 AM 08/06/2004 12:00 AM\n",
       "4 7281795    11/26/2004 12:00 AM 12/10/2004 12:00 AM\n",
       "5 1443894    08/22/2004 12:00 AM 08/22/2004 12:00 AM\n",
       "6 3244577    12/02/2004 12:00 AM 12/15/2004 12:00 AM\n",
       "  Complaint.Type                Location                                \n",
       "1 Boilers                       (40.71511134258793, -73.98998982667266) \n",
       "2 HEATING                       (40.871781348425515, -73.88238262118011)\n",
       "3 General Construction/Plumbing (40.59418801428136, -73.80082145383885) \n",
       "4 PLUMBING                      (40.85911979460089, -73.90605127158484) \n",
       "5 Noise - Street/Sidewalk       (40.54800892371052, -74.17041676351323) \n",
       "6 Noise                                                                 \n",
       "  opened     closed     resptime solvedin7\n",
       "1 2004-01-23 2004-02-02 10       0        \n",
       "2 2004-06-04 2004-06-09  5       1        \n",
       "3 2004-08-04 2004-08-06  2       1        \n",
       "4 2004-11-26 2004-12-10 14       0        \n",
       "5 2004-08-22 2004-08-22  0       1        \n",
       "6 2004-12-02 2004-12-15 13       0        "
      ],
      "text/markdown": [
       "\n",
       "A data.frame: 6 × 9\n",
       "\n",
       "| <!--/--> | Unique.Key &lt;int&gt; | Created.Date &lt;chr&gt; | Closed.Date &lt;chr&gt; | Complaint.Type &lt;chr&gt; | Location &lt;chr&gt; | opened &lt;date&gt; | closed &lt;date&gt; | resptime &lt;dbl&gt; | solvedin7 &lt;dbl&gt; |\n",
       "|---|---|---|---|---|---|---|---|---|---|\n",
       "| 1 | 4735434 | 01/23/2004 12:00 AM | 02/02/2004 12:00 AM | Boilers                       | (40.71511134258793, -73.98998982667266)  | 2004-01-23 | 2004-02-02 | 10 | 0 |\n",
       "| 2 | 7547062 | 06/04/2004 12:00 AM | 06/09/2004 12:00 AM | HEATING                       | (40.871781348425515, -73.88238262118011) | 2004-06-04 | 2004-06-09 |  5 | 1 |\n",
       "| 3 | 5050661 | 08/04/2004 12:00 AM | 08/06/2004 12:00 AM | General Construction/Plumbing | (40.59418801428136, -73.80082145383885)  | 2004-08-04 | 2004-08-06 |  2 | 1 |\n",
       "| 4 | 7281795 | 11/26/2004 12:00 AM | 12/10/2004 12:00 AM | PLUMBING                      | (40.85911979460089, -73.90605127158484)  | 2004-11-26 | 2004-12-10 | 14 | 0 |\n",
       "| 5 | 1443894 | 08/22/2004 12:00 AM | 08/22/2004 12:00 AM | Noise - Street/Sidewalk       | (40.54800892371052, -74.17041676351323)  | 2004-08-22 | 2004-08-22 |  0 | 1 |\n",
       "| 6 | 3244577 | 12/02/2004 12:00 AM | 12/15/2004 12:00 AM | Noise                         | <!----> | 2004-12-02 | 2004-12-15 | 13 | 0 |\n",
       "\n"
      ],
      "text/latex": [
       "A data.frame: 6 × 9\n",
       "\\begin{tabular}{r|lllllllll}\n",
       "  & Unique.Key & Created.Date & Closed.Date & Complaint.Type & Location & opened & closed & resptime & solvedin7\\\\\n",
       "  & <int> & <chr> & <chr> & <chr> & <chr> & <date> & <date> & <dbl> & <dbl>\\\\\n",
       "\\hline\n",
       "\t1 & 4735434 & 01/23/2004 12:00 AM & 02/02/2004 12:00 AM & Boilers                       & (40.71511134258793, -73.98998982667266)  & 2004-01-23 & 2004-02-02 & 10 & 0\\\\\n",
       "\t2 & 7547062 & 06/04/2004 12:00 AM & 06/09/2004 12:00 AM & HEATING                       & (40.871781348425515, -73.88238262118011) & 2004-06-04 & 2004-06-09 &  5 & 1\\\\\n",
       "\t3 & 5050661 & 08/04/2004 12:00 AM & 08/06/2004 12:00 AM & General Construction/Plumbing & (40.59418801428136, -73.80082145383885)  & 2004-08-04 & 2004-08-06 &  2 & 1\\\\\n",
       "\t4 & 7281795 & 11/26/2004 12:00 AM & 12/10/2004 12:00 AM & PLUMBING                      & (40.85911979460089, -73.90605127158484)  & 2004-11-26 & 2004-12-10 & 14 & 0\\\\\n",
       "\t5 & 1443894 & 08/22/2004 12:00 AM & 08/22/2004 12:00 AM & Noise - Street/Sidewalk       & (40.54800892371052, -74.17041676351323)  & 2004-08-22 & 2004-08-22 &  0 & 1\\\\\n",
       "\t6 & 3244577 & 12/02/2004 12:00 AM & 12/15/2004 12:00 AM & Noise                         &                                          & 2004-12-02 & 2004-12-15 & 13 & 0\\\\\n",
       "\\end{tabular}\n"
      ],
      "text/html": [
       "<table class=\"dataframe\">\n",
       "<caption>A data.frame: 6 × 9</caption>\n",
       "<thead>\n",
       "\t<tr><th></th><th scope=col>Unique.Key</th><th scope=col>Created.Date</th><th scope=col>Closed.Date</th><th scope=col>Complaint.Type</th><th scope=col>Location</th><th scope=col>opened</th><th scope=col>closed</th><th scope=col>resptime</th><th scope=col>solvedin7</th></tr>\n",
       "\t<tr><th></th><th scope=col>&lt;int&gt;</th><th scope=col>&lt;chr&gt;</th><th scope=col>&lt;chr&gt;</th><th scope=col>&lt;chr&gt;</th><th scope=col>&lt;chr&gt;</th><th scope=col>&lt;date&gt;</th><th scope=col>&lt;date&gt;</th><th scope=col>&lt;dbl&gt;</th><th scope=col>&lt;dbl&gt;</th></tr>\n",
       "</thead>\n",
       "<tbody>\n",
       "\t<tr><th scope=row>1</th><td>4735434</td><td>01/23/2004 12:00 AM</td><td>02/02/2004 12:00 AM</td><td>Boilers                      </td><td>(40.71511134258793, -73.98998982667266) </td><td>2004-01-23</td><td>2004-02-02</td><td>10</td><td>0</td></tr>\n",
       "\t<tr><th scope=row>2</th><td>7547062</td><td>06/04/2004 12:00 AM</td><td>06/09/2004 12:00 AM</td><td>HEATING                      </td><td>(40.871781348425515, -73.88238262118011)</td><td>2004-06-04</td><td>2004-06-09</td><td> 5</td><td>1</td></tr>\n",
       "\t<tr><th scope=row>3</th><td>5050661</td><td>08/04/2004 12:00 AM</td><td>08/06/2004 12:00 AM</td><td>General Construction/Plumbing</td><td>(40.59418801428136, -73.80082145383885) </td><td>2004-08-04</td><td>2004-08-06</td><td> 2</td><td>1</td></tr>\n",
       "\t<tr><th scope=row>4</th><td>7281795</td><td>11/26/2004 12:00 AM</td><td>12/10/2004 12:00 AM</td><td>PLUMBING                     </td><td>(40.85911979460089, -73.90605127158484) </td><td>2004-11-26</td><td>2004-12-10</td><td>14</td><td>0</td></tr>\n",
       "\t<tr><th scope=row>5</th><td>1443894</td><td>08/22/2004 12:00 AM</td><td>08/22/2004 12:00 AM</td><td>Noise - Street/Sidewalk      </td><td>(40.54800892371052, -74.17041676351323) </td><td>2004-08-22</td><td>2004-08-22</td><td> 0</td><td>1</td></tr>\n",
       "\t<tr><th scope=row>6</th><td>3244577</td><td>12/02/2004 12:00 AM</td><td>12/15/2004 12:00 AM</td><td>Noise                        </td><td>                                        </td><td>2004-12-02</td><td>2004-12-15</td><td>13</td><td>0</td></tr>\n",
       "</tbody>\n",
       "</table>\n"
      ]
     },
     "metadata": {}
    }
   ],
   "metadata": {
    "eval": false
   }
  },
  {
   "cell_type": "markdown",
   "source": [
    "The cleaned dataset has four new variables:\n",
    "\n",
    "* `opened`: The date the request was filed in date format. \n",
    "* `closed`: The date the request was resolved in date format. \n",
    "* `resptime`: The number of days it took to resolve the request (`closed` - `opened`).\n",
    "* `solvedin7`: A dummy variable equal to 1 if the request was solved within a week\n",
    "  and 0 otherwise. \n",
    "\n",
    "We can now use this function on all the six files using a for loop, or something called lapply() (Read more about `lapply()`\n",
    "[here](http://www.r-bloggers.com/using-apply-sapply-lapply-in-r/))."
   ],
   "metadata": {}
  },
  {
   "cell_type": "code",
   "execution_count": 5,
   "source": [
    "# loop over and collect in a list!\n",
    "\n",
    "url_stem <- \"https://raw.githubusercontent.com/nickeubank/computational_methods_boot_camp/main/source/data/nyc-311-sample/nyc-311-\"\n",
    "url_suffix <- \"-sample.csv\"\n",
    "\n",
    "# Get first one so we can append others to the bottom\n",
    "nyc_all <- clean_dta(paste0(url_stem, 2004, url_suffix))\n",
    "\n",
    "for (year in 2005:2009) {\n",
    "    url <- paste0(url_stem, year, url_suffix)\n",
    "    new_data <- clean_dta(url)\n",
    "    nyc_all <- rbind(nyc_all, new_data)\n",
    "}"
   ],
   "outputs": [],
   "metadata": {}
  },
  {
   "cell_type": "code",
   "execution_count": 6,
   "source": [
    "# 10 random rows\n",
    "nyc_all[sample(nrow(nyc_all), 10), ]"
   ],
   "outputs": [
    {
     "output_type": "display_data",
     "data": {
      "text/plain": [
       "      Unique.Key Created.Date           Closed.Date           \n",
       "30235  9119502   08/16/2007 12:00:00 AM 08/18/2007 12:00:00 AM\n",
       "35420 10017391   12/07/2007 12:00:00 AM 12/13/2007 12:00:00 AM\n",
       "57117 14167032   06/12/2009 12:00:00 AM 07/09/2009 12:00:00 AM\n",
       "21730  7708695   10/22/2006 12:00 AM    10/23/2006 12:00 AM   \n",
       "15500  8649578   12/04/2005 12:00 AM    01/05/2007 12:00 AM   \n",
       "12478   347498   08/18/2005 12:00 AM    08/18/2005 12:00 AM   \n",
       "32767  8706092   01/31/2007 12:00:00 AM 02/08/2007 12:00:00 AM\n",
       "39613  3834490   03/23/2007 12:00:00 AM                       \n",
       "57025 14331411   07/06/2009 12:00:00 AM 07/29/2009 12:00:00 AM\n",
       "3339   7550682   05/29/2004 12:00 AM                          \n",
       "      Complaint.Type       Location                                 opened    \n",
       "30235 Industrial Waste     (40.6924338169897, -73.76791481654355)   2007-08-16\n",
       "35420 HEATING              (40.691388690509996, -73.93827993449325) 2007-12-07\n",
       "57117 GENERAL CONSTRUCTION (40.59682173951916, -73.74713511250768)  2009-06-12\n",
       "21730 HEATING              (40.68886730172827, -73.82833980080076)  2006-10-22\n",
       "15500 GENERAL CONSTRUCTION (40.82673859886853, -73.94034406281531)  2005-12-04\n",
       "12478 Derelict Vehicle     (40.614853534290404, -73.91703853432448) 2005-08-18\n",
       "32767 HEATING              (40.83353655524185, -73.91701881580157)  2007-01-31\n",
       "39613 Rodent               (40.825096598119764, -73.91334384257658) 2007-03-23\n",
       "57025 Air Quality          (40.825431183120024, -73.89044261279176) 2009-07-06\n",
       "3339  PAINT - PLASTER      (40.63718891788018, -73.90757435445164)  2004-05-29\n",
       "      closed     resptime solvedin7\n",
       "30235 2007-08-18   2       1       \n",
       "35420 2007-12-13   6       1       \n",
       "57117 2009-07-09  27       0       \n",
       "21730 2006-10-23   1       1       \n",
       "15500 2007-01-05 397       0       \n",
       "12478 2005-08-18   0       1       \n",
       "32767 2007-02-08   8       0       \n",
       "39613 <NA>        NA      NA       \n",
       "57025 2009-07-29  23       0       \n",
       "3339  <NA>        NA      NA       "
      ],
      "text/markdown": [
       "\n",
       "A data.frame: 10 × 9\n",
       "\n",
       "| <!--/--> | Unique.Key &lt;int&gt; | Created.Date &lt;chr&gt; | Closed.Date &lt;chr&gt; | Complaint.Type &lt;chr&gt; | Location &lt;chr&gt; | opened &lt;date&gt; | closed &lt;date&gt; | resptime &lt;dbl&gt; | solvedin7 &lt;dbl&gt; |\n",
       "|---|---|---|---|---|---|---|---|---|---|\n",
       "| 30235 |  9119502 | 08/16/2007 12:00:00 AM | 08/18/2007 12:00:00 AM | Industrial Waste     | (40.6924338169897, -73.76791481654355)   | 2007-08-16 | 2007-08-18 |   2 |  1 |\n",
       "| 35420 | 10017391 | 12/07/2007 12:00:00 AM | 12/13/2007 12:00:00 AM | HEATING              | (40.691388690509996, -73.93827993449325) | 2007-12-07 | 2007-12-13 |   6 |  1 |\n",
       "| 57117 | 14167032 | 06/12/2009 12:00:00 AM | 07/09/2009 12:00:00 AM | GENERAL CONSTRUCTION | (40.59682173951916, -73.74713511250768)  | 2009-06-12 | 2009-07-09 |  27 |  0 |\n",
       "| 21730 |  7708695 | 10/22/2006 12:00 AM    | 10/23/2006 12:00 AM    | HEATING              | (40.68886730172827, -73.82833980080076)  | 2006-10-22 | 2006-10-23 |   1 |  1 |\n",
       "| 15500 |  8649578 | 12/04/2005 12:00 AM    | 01/05/2007 12:00 AM    | GENERAL CONSTRUCTION | (40.82673859886853, -73.94034406281531)  | 2005-12-04 | 2007-01-05 | 397 |  0 |\n",
       "| 12478 |   347498 | 08/18/2005 12:00 AM    | 08/18/2005 12:00 AM    | Derelict Vehicle     | (40.614853534290404, -73.91703853432448) | 2005-08-18 | 2005-08-18 |   0 |  1 |\n",
       "| 32767 |  8706092 | 01/31/2007 12:00:00 AM | 02/08/2007 12:00:00 AM | HEATING              | (40.83353655524185, -73.91701881580157)  | 2007-01-31 | 2007-02-08 |   8 |  0 |\n",
       "| 39613 |  3834490 | 03/23/2007 12:00:00 AM | <!----> | Rodent               | (40.825096598119764, -73.91334384257658) | 2007-03-23 | NA |  NA | NA |\n",
       "| 57025 | 14331411 | 07/06/2009 12:00:00 AM | 07/29/2009 12:00:00 AM | Air Quality          | (40.825431183120024, -73.89044261279176) | 2009-07-06 | 2009-07-29 |  23 |  0 |\n",
       "| 3339 |  7550682 | 05/29/2004 12:00 AM    | <!----> | PAINT - PLASTER      | (40.63718891788018, -73.90757435445164)  | 2004-05-29 | NA |  NA | NA |\n",
       "\n"
      ],
      "text/latex": [
       "A data.frame: 10 × 9\n",
       "\\begin{tabular}{r|lllllllll}\n",
       "  & Unique.Key & Created.Date & Closed.Date & Complaint.Type & Location & opened & closed & resptime & solvedin7\\\\\n",
       "  & <int> & <chr> & <chr> & <chr> & <chr> & <date> & <date> & <dbl> & <dbl>\\\\\n",
       "\\hline\n",
       "\t30235 &  9119502 & 08/16/2007 12:00:00 AM & 08/18/2007 12:00:00 AM & Industrial Waste     & (40.6924338169897, -73.76791481654355)   & 2007-08-16 & 2007-08-18 &   2 &  1\\\\\n",
       "\t35420 & 10017391 & 12/07/2007 12:00:00 AM & 12/13/2007 12:00:00 AM & HEATING              & (40.691388690509996, -73.93827993449325) & 2007-12-07 & 2007-12-13 &   6 &  1\\\\\n",
       "\t57117 & 14167032 & 06/12/2009 12:00:00 AM & 07/09/2009 12:00:00 AM & GENERAL CONSTRUCTION & (40.59682173951916, -73.74713511250768)  & 2009-06-12 & 2009-07-09 &  27 &  0\\\\\n",
       "\t21730 &  7708695 & 10/22/2006 12:00 AM    & 10/23/2006 12:00 AM    & HEATING              & (40.68886730172827, -73.82833980080076)  & 2006-10-22 & 2006-10-23 &   1 &  1\\\\\n",
       "\t15500 &  8649578 & 12/04/2005 12:00 AM    & 01/05/2007 12:00 AM    & GENERAL CONSTRUCTION & (40.82673859886853, -73.94034406281531)  & 2005-12-04 & 2007-01-05 & 397 &  0\\\\\n",
       "\t12478 &   347498 & 08/18/2005 12:00 AM    & 08/18/2005 12:00 AM    & Derelict Vehicle     & (40.614853534290404, -73.91703853432448) & 2005-08-18 & 2005-08-18 &   0 &  1\\\\\n",
       "\t32767 &  8706092 & 01/31/2007 12:00:00 AM & 02/08/2007 12:00:00 AM & HEATING              & (40.83353655524185, -73.91701881580157)  & 2007-01-31 & 2007-02-08 &   8 &  0\\\\\n",
       "\t39613 &  3834490 & 03/23/2007 12:00:00 AM &                        & Rodent               & (40.825096598119764, -73.91334384257658) & 2007-03-23 & NA &  NA & NA\\\\\n",
       "\t57025 & 14331411 & 07/06/2009 12:00:00 AM & 07/29/2009 12:00:00 AM & Air Quality          & (40.825431183120024, -73.89044261279176) & 2009-07-06 & 2009-07-29 &  23 &  0\\\\\n",
       "\t3339 &  7550682 & 05/29/2004 12:00 AM    &                        & PAINT - PLASTER      & (40.63718891788018, -73.90757435445164)  & 2004-05-29 & NA &  NA & NA\\\\\n",
       "\\end{tabular}\n"
      ],
      "text/html": [
       "<table class=\"dataframe\">\n",
       "<caption>A data.frame: 10 × 9</caption>\n",
       "<thead>\n",
       "\t<tr><th></th><th scope=col>Unique.Key</th><th scope=col>Created.Date</th><th scope=col>Closed.Date</th><th scope=col>Complaint.Type</th><th scope=col>Location</th><th scope=col>opened</th><th scope=col>closed</th><th scope=col>resptime</th><th scope=col>solvedin7</th></tr>\n",
       "\t<tr><th></th><th scope=col>&lt;int&gt;</th><th scope=col>&lt;chr&gt;</th><th scope=col>&lt;chr&gt;</th><th scope=col>&lt;chr&gt;</th><th scope=col>&lt;chr&gt;</th><th scope=col>&lt;date&gt;</th><th scope=col>&lt;date&gt;</th><th scope=col>&lt;dbl&gt;</th><th scope=col>&lt;dbl&gt;</th></tr>\n",
       "</thead>\n",
       "<tbody>\n",
       "\t<tr><th scope=row>30235</th><td> 9119502</td><td>08/16/2007 12:00:00 AM</td><td>08/18/2007 12:00:00 AM</td><td>Industrial Waste    </td><td>(40.6924338169897, -73.76791481654355)  </td><td>2007-08-16</td><td>2007-08-18</td><td>  2</td><td> 1</td></tr>\n",
       "\t<tr><th scope=row>35420</th><td>10017391</td><td>12/07/2007 12:00:00 AM</td><td>12/13/2007 12:00:00 AM</td><td>HEATING             </td><td>(40.691388690509996, -73.93827993449325)</td><td>2007-12-07</td><td>2007-12-13</td><td>  6</td><td> 1</td></tr>\n",
       "\t<tr><th scope=row>57117</th><td>14167032</td><td>06/12/2009 12:00:00 AM</td><td>07/09/2009 12:00:00 AM</td><td>GENERAL CONSTRUCTION</td><td>(40.59682173951916, -73.74713511250768) </td><td>2009-06-12</td><td>2009-07-09</td><td> 27</td><td> 0</td></tr>\n",
       "\t<tr><th scope=row>21730</th><td> 7708695</td><td>10/22/2006 12:00 AM   </td><td>10/23/2006 12:00 AM   </td><td>HEATING             </td><td>(40.68886730172827, -73.82833980080076) </td><td>2006-10-22</td><td>2006-10-23</td><td>  1</td><td> 1</td></tr>\n",
       "\t<tr><th scope=row>15500</th><td> 8649578</td><td>12/04/2005 12:00 AM   </td><td>01/05/2007 12:00 AM   </td><td>GENERAL CONSTRUCTION</td><td>(40.82673859886853, -73.94034406281531) </td><td>2005-12-04</td><td>2007-01-05</td><td>397</td><td> 0</td></tr>\n",
       "\t<tr><th scope=row>12478</th><td>  347498</td><td>08/18/2005 12:00 AM   </td><td>08/18/2005 12:00 AM   </td><td>Derelict Vehicle    </td><td>(40.614853534290404, -73.91703853432448)</td><td>2005-08-18</td><td>2005-08-18</td><td>  0</td><td> 1</td></tr>\n",
       "\t<tr><th scope=row>32767</th><td> 8706092</td><td>01/31/2007 12:00:00 AM</td><td>02/08/2007 12:00:00 AM</td><td>HEATING             </td><td>(40.83353655524185, -73.91701881580157) </td><td>2007-01-31</td><td>2007-02-08</td><td>  8</td><td> 0</td></tr>\n",
       "\t<tr><th scope=row>39613</th><td> 3834490</td><td>03/23/2007 12:00:00 AM</td><td>                      </td><td>Rodent              </td><td>(40.825096598119764, -73.91334384257658)</td><td>2007-03-23</td><td>NA</td><td> NA</td><td>NA</td></tr>\n",
       "\t<tr><th scope=row>57025</th><td>14331411</td><td>07/06/2009 12:00:00 AM</td><td>07/29/2009 12:00:00 AM</td><td>Air Quality         </td><td>(40.825431183120024, -73.89044261279176)</td><td>2009-07-06</td><td>2009-07-29</td><td> 23</td><td> 0</td></tr>\n",
       "\t<tr><th scope=row>3339</th><td> 7550682</td><td>05/29/2004 12:00 AM   </td><td>                      </td><td>PAINT - PLASTER     </td><td>(40.63718891788018, -73.90757435445164) </td><td>2004-05-29</td><td>NA</td><td> NA</td><td>NA</td></tr>\n",
       "</tbody>\n",
       "</table>\n"
      ]
     },
     "metadata": {}
    }
   ],
   "metadata": {}
  },
  {
   "cell_type": "markdown",
   "source": [
    "Ta-da! We cleaned a whole bunch of different datasets and merged them all together in only handful of lines of code!"
   ],
   "metadata": {}
  },
  {
   "cell_type": "markdown",
   "source": [
    "</div>\n",
    "\n",
    "\n"
   ],
   "metadata": {}
  }
 ],
 "metadata": {
  "jupytext": {
   "cell_metadata_filter": "tags,eval,-all",
   "main_language": "R",
   "notebook_metadata_filter": "-all"
  },
  "language_info": {
   "name": "R",
   "codemirror_mode": "r",
   "pygments_lexer": "r",
   "mimetype": "text/x-r-source",
   "file_extension": ".r",
   "version": "4.1.0"
  },
  "kernelspec": {
   "name": "ir",
   "display_name": "R",
   "language": "R"
  }
 },
 "nbformat": 4,
 "nbformat_minor": 5
}