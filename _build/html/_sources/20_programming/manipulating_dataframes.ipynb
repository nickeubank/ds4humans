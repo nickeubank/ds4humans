{
 "cells": [
  {
   "cell_type": "markdown",
   "source": [
    "# Manipulating Dataframes\n",
    "\n",
    "In our previous lessons, we learn how to create dataframes from vectors, and how to load them from files. In this lesson, we will learn how to work with our dataframe once we have it loaded up!\n",
    "\n",
    "Being able to quickly modify datasets -- often referred to as \"data wrangling\" -- is critical to being a social scientist. Indeed, most social scientists and data scientists spend a huge proportion of their time of their time cleaning and organizing their data. ([about 80 percent in surveys](https://www.forbes.com/sites/gilpress/2016/03/23/data-preparation-most-time-consuming-least-enjoyable-data-science-task-survey-says/?sh=44a70ffb6f63)). So this is probably one of the most important readings of the course!\n",
    "\n",
    "Be aware that there will be a **lot** of syntax in this reading. However, the goal of the reading is **not** to have you memorize all the syntax, but rather to understand the *logic* of how dataframes work. To help with that, I've provided a recap section at the end of the reading with examples of all the commands we cover in one place. \n",
    "\n",
    "So as you read, try and focus on the logic of how dataframes work, not the exact syntax. Syntax is something you can always look up later so long as you understand enough about the logic of what's going on to realize what you need to look up!"
   ],
   "metadata": {}
  },
  {
   "cell_type": "markdown",
   "source": [
    "To begin, let's start by recreating the dataframe we had in our last exercise as an example to work with:"
   ],
   "metadata": {}
  },
  {
   "cell_type": "code",
   "execution_count": 1,
   "source": [
    "country <- rep(c(\"USA\", \"China\", \"Sudan\"), 3)\n",
    "year <- c(1994, 1994, 1994, 1995, 1995, 1995, 1996, 1996, 1996)\n",
    "gdp_pc <- round(runif(9, 1000, 20000))\n",
    "\n",
    "countries <- data.frame(country, year, gdp_pc)\n",
    "countries"
   ],
   "outputs": [
    {
     "output_type": "display_data",
     "data": {
      "text/plain": [
       "  country year gdp_pc\n",
       "1 USA     1994 16166 \n",
       "2 China   1994 13804 \n",
       "3 Sudan   1994  5507 \n",
       "4 USA     1995 14966 \n",
       "5 China   1995 19778 \n",
       "6 Sudan   1995 10592 \n",
       "7 USA     1996  6852 \n",
       "8 China   1996  5114 \n",
       "9 Sudan   1996  7966 "
      ],
      "text/markdown": [
       "\n",
       "A data.frame: 9 × 3\n",
       "\n",
       "| country &lt;chr&gt; | year &lt;dbl&gt; | gdp_pc &lt;dbl&gt; |\n",
       "|---|---|---|\n",
       "| USA   | 1994 | 16166 |\n",
       "| China | 1994 | 13804 |\n",
       "| Sudan | 1994 |  5507 |\n",
       "| USA   | 1995 | 14966 |\n",
       "| China | 1995 | 19778 |\n",
       "| Sudan | 1995 | 10592 |\n",
       "| USA   | 1996 |  6852 |\n",
       "| China | 1996 |  5114 |\n",
       "| Sudan | 1996 |  7966 |\n",
       "\n"
      ],
      "text/latex": [
       "A data.frame: 9 × 3\n",
       "\\begin{tabular}{lll}\n",
       " country & year & gdp\\_pc\\\\\n",
       " <chr> & <dbl> & <dbl>\\\\\n",
       "\\hline\n",
       "\t USA   & 1994 & 16166\\\\\n",
       "\t China & 1994 & 13804\\\\\n",
       "\t Sudan & 1994 &  5507\\\\\n",
       "\t USA   & 1995 & 14966\\\\\n",
       "\t China & 1995 & 19778\\\\\n",
       "\t Sudan & 1995 & 10592\\\\\n",
       "\t USA   & 1996 &  6852\\\\\n",
       "\t China & 1996 &  5114\\\\\n",
       "\t Sudan & 1996 &  7966\\\\\n",
       "\\end{tabular}\n"
      ],
      "text/html": [
       "<table class=\"dataframe\">\n",
       "<caption>A data.frame: 9 × 3</caption>\n",
       "<thead>\n",
       "\t<tr><th scope=col>country</th><th scope=col>year</th><th scope=col>gdp_pc</th></tr>\n",
       "\t<tr><th scope=col>&lt;chr&gt;</th><th scope=col>&lt;dbl&gt;</th><th scope=col>&lt;dbl&gt;</th></tr>\n",
       "</thead>\n",
       "<tbody>\n",
       "\t<tr><td>USA  </td><td>1994</td><td>16166</td></tr>\n",
       "\t<tr><td>China</td><td>1994</td><td>13804</td></tr>\n",
       "\t<tr><td>Sudan</td><td>1994</td><td> 5507</td></tr>\n",
       "\t<tr><td>USA  </td><td>1995</td><td>14966</td></tr>\n",
       "\t<tr><td>China</td><td>1995</td><td>19778</td></tr>\n",
       "\t<tr><td>Sudan</td><td>1995</td><td>10592</td></tr>\n",
       "\t<tr><td>USA  </td><td>1996</td><td> 6852</td></tr>\n",
       "\t<tr><td>China</td><td>1996</td><td> 5114</td></tr>\n",
       "\t<tr><td>Sudan</td><td>1996</td><td> 7966</td></tr>\n",
       "</tbody>\n",
       "</table>\n"
      ]
     },
     "metadata": {}
    }
   ],
   "metadata": {}
  },
  {
   "cell_type": "markdown",
   "source": [
    "## Dataframes Are Like Matrices-Plus\n",
    "\n",
    "Dataframes, like matrices, are just two dimensional grids of data. And so everything we learned about matrices also applies to dataframes (hooray!).\n",
    "\n",
    "For example, if we want to get the GDP of China in 1994 from our dataframe, we can subset our dataframe using square brackets and logical / name vectors, just like named matrices:"
   ],
   "metadata": {}
  },
  {
   "cell_type": "code",
   "execution_count": 2,
   "source": [
    "countries[countries[, \"gdp_pc\"] < 10000, \"year\"]"
   ],
   "outputs": [
    {
     "output_type": "display_data",
     "data": {
      "text/plain": [
       "[1] 1994 1996 1996 1996"
      ],
      "text/markdown": [
       "1. 1994\n",
       "2. 1996\n",
       "3. 1996\n",
       "4. 1996\n",
       "\n",
       "\n"
      ],
      "text/latex": [
       "\\begin{enumerate*}\n",
       "\\item 1994\n",
       "\\item 1996\n",
       "\\item 1996\n",
       "\\item 1996\n",
       "\\end{enumerate*}\n"
      ],
      "text/html": [
       "<style>\n",
       ".list-inline {list-style: none; margin:0; padding: 0}\n",
       ".list-inline>li {display: inline-block}\n",
       ".list-inline>li:not(:last-child)::after {content: \"\\00b7\"; padding: 0 .5ex}\n",
       "</style>\n",
       "<ol class=list-inline><li>1994</li><li>1996</li><li>1996</li><li>1996</li></ol>\n"
      ]
     },
     "metadata": {}
    }
   ],
   "metadata": {
    "lines_to_next_cell": 0
   }
  },
  {
   "cell_type": "markdown",
   "source": [
    "So remember that: if you could do it with a matrix, you can do it with a dataframe!\n",
    "\n",
    "As we'll see, though, dataframes *do* have few augmentations designed to make the life of the R users a little easier, and so can kinda be thought of as being like matrices+."
   ],
   "metadata": {}
  },
  {
   "cell_type": "markdown",
   "source": [
    "## Columns Operations\n",
    "\n",
    "Unlike matrices, which could have column names, dataframe columns **always** have names. As a result, we will basically always address columns using their names for reasons will discuss in more detail below.\n",
    "\n",
    "It is also convention that columns in most datasets correspond to variables, so you we'll often want to do things like take the average of a single column (e.g. the average of a single variable), or edit the values in a single column.\n",
    "\n",
    "In fact, accessing a single column is so common with dataframes that there are **two** exactly-identical ways to get a single column, and **one nearly** equivalent way. The equivalent ways are:"
   ],
   "metadata": {}
  },
  {
   "cell_type": "code",
   "execution_count": 3,
   "source": [
    "# What we're used to from matrices\n",
    "countries[, \"gdp_pc\"]"
   ],
   "outputs": [
    {
     "output_type": "display_data",
     "data": {
      "text/plain": [
       "[1] 16166 13804  5507 14966 19778 10592  6852  5114  7966"
      ],
      "text/markdown": [
       "1. 16166\n",
       "2. 13804\n",
       "3. 5507\n",
       "4. 14966\n",
       "5. 19778\n",
       "6. 10592\n",
       "7. 6852\n",
       "8. 5114\n",
       "9. 7966\n",
       "\n",
       "\n"
      ],
      "text/latex": [
       "\\begin{enumerate*}\n",
       "\\item 16166\n",
       "\\item 13804\n",
       "\\item 5507\n",
       "\\item 14966\n",
       "\\item 19778\n",
       "\\item 10592\n",
       "\\item 6852\n",
       "\\item 5114\n",
       "\\item 7966\n",
       "\\end{enumerate*}\n"
      ],
      "text/html": [
       "<style>\n",
       ".list-inline {list-style: none; margin:0; padding: 0}\n",
       ".list-inline>li {display: inline-block}\n",
       ".list-inline>li:not(:last-child)::after {content: \"\\00b7\"; padding: 0 .5ex}\n",
       "</style>\n",
       "<ol class=list-inline><li>16166</li><li>13804</li><li>5507</li><li>14966</li><li>19778</li><li>10592</li><li>6852</li><li>5114</li><li>7966</li></ol>\n"
      ]
     },
     "metadata": {}
    }
   ],
   "metadata": {}
  },
  {
   "cell_type": "code",
   "execution_count": 4,
   "source": [
    "# The shortcut for a single dataframe column\n",
    "countries$gdp_pc"
   ],
   "outputs": [
    {
     "output_type": "display_data",
     "data": {
      "text/plain": [
       "[1] 16166 13804  5507 14966 19778 10592  6852  5114  7966"
      ],
      "text/markdown": [
       "1. 16166\n",
       "2. 13804\n",
       "3. 5507\n",
       "4. 14966\n",
       "5. 19778\n",
       "6. 10592\n",
       "7. 6852\n",
       "8. 5114\n",
       "9. 7966\n",
       "\n",
       "\n"
      ],
      "text/latex": [
       "\\begin{enumerate*}\n",
       "\\item 16166\n",
       "\\item 13804\n",
       "\\item 5507\n",
       "\\item 14966\n",
       "\\item 19778\n",
       "\\item 10592\n",
       "\\item 6852\n",
       "\\item 5114\n",
       "\\item 7966\n",
       "\\end{enumerate*}\n"
      ],
      "text/html": [
       "<style>\n",
       ".list-inline {list-style: none; margin:0; padding: 0}\n",
       ".list-inline>li {display: inline-block}\n",
       ".list-inline>li:not(:last-child)::after {content: \"\\00b7\"; padding: 0 .5ex}\n",
       "</style>\n",
       "<ol class=list-inline><li>16166</li><li>13804</li><li>5507</li><li>14966</li><li>19778</li><li>10592</li><li>6852</li><li>5114</li><li>7966</li></ol>\n"
      ]
     },
     "metadata": {}
    }
   ],
   "metadata": {}
  },
  {
   "cell_type": "markdown",
   "source": [
    "These are exactly equivalent for single columns! But note that you can't always use this trick -- for example, it doesn't work for trying to get several columns from a dataframe. Most of the time, though, it's a very convenient shorthand for single-column manipulations.\n",
    "\n",
    "And the *nearly* equivalent way is the following, which is slightly different from those above in that instead of returning a vector, it returns a dataframe with one column:"
   ],
   "metadata": {}
  },
  {
   "cell_type": "code",
   "execution_count": 5,
   "source": [
    "# And if you don't have a comma, R assumes you're accessing columns\n",
    "countries[\"gdp_pc\"]"
   ],
   "outputs": [
    {
     "output_type": "display_data",
     "data": {
      "text/plain": [
       "  gdp_pc\n",
       "1 16166 \n",
       "2 13804 \n",
       "3  5507 \n",
       "4 14966 \n",
       "5 19778 \n",
       "6 10592 \n",
       "7  6852 \n",
       "8  5114 \n",
       "9  7966 "
      ],
      "text/markdown": [
       "\n",
       "A data.frame: 9 × 1\n",
       "\n",
       "| gdp_pc &lt;dbl&gt; |\n",
       "|---|\n",
       "| 16166 |\n",
       "| 13804 |\n",
       "|  5507 |\n",
       "| 14966 |\n",
       "| 19778 |\n",
       "| 10592 |\n",
       "|  6852 |\n",
       "|  5114 |\n",
       "|  7966 |\n",
       "\n"
      ],
      "text/latex": [
       "A data.frame: 9 × 1\n",
       "\\begin{tabular}{l}\n",
       " gdp\\_pc\\\\\n",
       " <dbl>\\\\\n",
       "\\hline\n",
       "\t 16166\\\\\n",
       "\t 13804\\\\\n",
       "\t  5507\\\\\n",
       "\t 14966\\\\\n",
       "\t 19778\\\\\n",
       "\t 10592\\\\\n",
       "\t  6852\\\\\n",
       "\t  5114\\\\\n",
       "\t  7966\\\\\n",
       "\\end{tabular}\n"
      ],
      "text/html": [
       "<table class=\"dataframe\">\n",
       "<caption>A data.frame: 9 × 1</caption>\n",
       "<thead>\n",
       "\t<tr><th scope=col>gdp_pc</th></tr>\n",
       "\t<tr><th scope=col>&lt;dbl&gt;</th></tr>\n",
       "</thead>\n",
       "<tbody>\n",
       "\t<tr><td>16166</td></tr>\n",
       "\t<tr><td>13804</td></tr>\n",
       "\t<tr><td> 5507</td></tr>\n",
       "\t<tr><td>14966</td></tr>\n",
       "\t<tr><td>19778</td></tr>\n",
       "\t<tr><td>10592</td></tr>\n",
       "\t<tr><td> 6852</td></tr>\n",
       "\t<tr><td> 5114</td></tr>\n",
       "\t<tr><td> 7966</td></tr>\n",
       "</tbody>\n",
       "</table>\n"
      ]
     },
     "metadata": {}
    }
   ],
   "metadata": {}
  },
  {
   "cell_type": "markdown",
   "source": [
    "### Modifying Columns\n",
    "\n",
    "As with matrices, we can use subsetting to make modifications to columns. For example, suppose, as with our matrix version, we wanted to multiple GDP per capita by 1.02 to adjust for inflation. We could either do:"
   ],
   "metadata": {}
  },
  {
   "cell_type": "code",
   "execution_count": 6,
   "source": [
    "# re-create with original gdp_pc \n",
    "countries <- data.frame(country, year, gdp_pc)\n",
    "countries"
   ],
   "outputs": [
    {
     "output_type": "display_data",
     "data": {
      "text/plain": [
       "  country year gdp_pc\n",
       "1 USA     1994 16166 \n",
       "2 China   1994 13804 \n",
       "3 Sudan   1994  5507 \n",
       "4 USA     1995 14966 \n",
       "5 China   1995 19778 \n",
       "6 Sudan   1995 10592 \n",
       "7 USA     1996  6852 \n",
       "8 China   1996  5114 \n",
       "9 Sudan   1996  7966 "
      ],
      "text/markdown": [
       "\n",
       "A data.frame: 9 × 3\n",
       "\n",
       "| country &lt;chr&gt; | year &lt;dbl&gt; | gdp_pc &lt;dbl&gt; |\n",
       "|---|---|---|\n",
       "| USA   | 1994 | 16166 |\n",
       "| China | 1994 | 13804 |\n",
       "| Sudan | 1994 |  5507 |\n",
       "| USA   | 1995 | 14966 |\n",
       "| China | 1995 | 19778 |\n",
       "| Sudan | 1995 | 10592 |\n",
       "| USA   | 1996 |  6852 |\n",
       "| China | 1996 |  5114 |\n",
       "| Sudan | 1996 |  7966 |\n",
       "\n"
      ],
      "text/latex": [
       "A data.frame: 9 × 3\n",
       "\\begin{tabular}{lll}\n",
       " country & year & gdp\\_pc\\\\\n",
       " <chr> & <dbl> & <dbl>\\\\\n",
       "\\hline\n",
       "\t USA   & 1994 & 16166\\\\\n",
       "\t China & 1994 & 13804\\\\\n",
       "\t Sudan & 1994 &  5507\\\\\n",
       "\t USA   & 1995 & 14966\\\\\n",
       "\t China & 1995 & 19778\\\\\n",
       "\t Sudan & 1995 & 10592\\\\\n",
       "\t USA   & 1996 &  6852\\\\\n",
       "\t China & 1996 &  5114\\\\\n",
       "\t Sudan & 1996 &  7966\\\\\n",
       "\\end{tabular}\n"
      ],
      "text/html": [
       "<table class=\"dataframe\">\n",
       "<caption>A data.frame: 9 × 3</caption>\n",
       "<thead>\n",
       "\t<tr><th scope=col>country</th><th scope=col>year</th><th scope=col>gdp_pc</th></tr>\n",
       "\t<tr><th scope=col>&lt;chr&gt;</th><th scope=col>&lt;dbl&gt;</th><th scope=col>&lt;dbl&gt;</th></tr>\n",
       "</thead>\n",
       "<tbody>\n",
       "\t<tr><td>USA  </td><td>1994</td><td>16166</td></tr>\n",
       "\t<tr><td>China</td><td>1994</td><td>13804</td></tr>\n",
       "\t<tr><td>Sudan</td><td>1994</td><td> 5507</td></tr>\n",
       "\t<tr><td>USA  </td><td>1995</td><td>14966</td></tr>\n",
       "\t<tr><td>China</td><td>1995</td><td>19778</td></tr>\n",
       "\t<tr><td>Sudan</td><td>1995</td><td>10592</td></tr>\n",
       "\t<tr><td>USA  </td><td>1996</td><td> 6852</td></tr>\n",
       "\t<tr><td>China</td><td>1996</td><td> 5114</td></tr>\n",
       "\t<tr><td>Sudan</td><td>1996</td><td> 7966</td></tr>\n",
       "</tbody>\n",
       "</table>\n"
      ]
     },
     "metadata": {}
    }
   ],
   "metadata": {}
  },
  {
   "cell_type": "code",
   "execution_count": 7,
   "source": [
    "countries[, \"gdp_pc\"] <- countries[,\"gdp_pc\"] * 1.02"
   ],
   "outputs": [],
   "metadata": {}
  },
  {
   "cell_type": "markdown",
   "source": [
    "Or"
   ],
   "metadata": {}
  },
  {
   "cell_type": "code",
   "execution_count": 8,
   "source": [
    "countries$gdp_pc <- countries$gdp_pc * 1.02"
   ],
   "outputs": [],
   "metadata": {}
  },
  {
   "cell_type": "markdown",
   "source": [
    "### Creating New Columns \n",
    "\n",
    "If we wanted to keep both the original `gdp_pc` column and add a *new* column with the inflation adjusted values, we can do so just by using a *new* column name when we assign our values back into the dataframe:"
   ],
   "metadata": {}
  },
  {
   "cell_type": "code",
   "execution_count": 9,
   "source": [
    "# re-create with original gdp_pc \n",
    "countries <- data.frame(country, year, gdp_pc)"
   ],
   "outputs": [],
   "metadata": {}
  },
  {
   "cell_type": "code",
   "execution_count": 10,
   "source": [
    "# Add new column\n",
    "countries$adjusted_gdp_pc <- countries$gdp_pc * 1.02\n",
    "countries"
   ],
   "outputs": [
    {
     "output_type": "display_data",
     "data": {
      "text/plain": [
       "  country year gdp_pc adjusted_gdp_pc\n",
       "1 USA     1994 16166  16489.32       \n",
       "2 China   1994 13804  14080.08       \n",
       "3 Sudan   1994  5507   5617.14       \n",
       "4 USA     1995 14966  15265.32       \n",
       "5 China   1995 19778  20173.56       \n",
       "6 Sudan   1995 10592  10803.84       \n",
       "7 USA     1996  6852   6989.04       \n",
       "8 China   1996  5114   5216.28       \n",
       "9 Sudan   1996  7966   8125.32       "
      ],
      "text/markdown": [
       "\n",
       "A data.frame: 9 × 4\n",
       "\n",
       "| country &lt;chr&gt; | year &lt;dbl&gt; | gdp_pc &lt;dbl&gt; | adjusted_gdp_pc &lt;dbl&gt; |\n",
       "|---|---|---|---|\n",
       "| USA   | 1994 | 16166 | 16489.32 |\n",
       "| China | 1994 | 13804 | 14080.08 |\n",
       "| Sudan | 1994 |  5507 |  5617.14 |\n",
       "| USA   | 1995 | 14966 | 15265.32 |\n",
       "| China | 1995 | 19778 | 20173.56 |\n",
       "| Sudan | 1995 | 10592 | 10803.84 |\n",
       "| USA   | 1996 |  6852 |  6989.04 |\n",
       "| China | 1996 |  5114 |  5216.28 |\n",
       "| Sudan | 1996 |  7966 |  8125.32 |\n",
       "\n"
      ],
      "text/latex": [
       "A data.frame: 9 × 4\n",
       "\\begin{tabular}{llll}\n",
       " country & year & gdp\\_pc & adjusted\\_gdp\\_pc\\\\\n",
       " <chr> & <dbl> & <dbl> & <dbl>\\\\\n",
       "\\hline\n",
       "\t USA   & 1994 & 16166 & 16489.32\\\\\n",
       "\t China & 1994 & 13804 & 14080.08\\\\\n",
       "\t Sudan & 1994 &  5507 &  5617.14\\\\\n",
       "\t USA   & 1995 & 14966 & 15265.32\\\\\n",
       "\t China & 1995 & 19778 & 20173.56\\\\\n",
       "\t Sudan & 1995 & 10592 & 10803.84\\\\\n",
       "\t USA   & 1996 &  6852 &  6989.04\\\\\n",
       "\t China & 1996 &  5114 &  5216.28\\\\\n",
       "\t Sudan & 1996 &  7966 &  8125.32\\\\\n",
       "\\end{tabular}\n"
      ],
      "text/html": [
       "<table class=\"dataframe\">\n",
       "<caption>A data.frame: 9 × 4</caption>\n",
       "<thead>\n",
       "\t<tr><th scope=col>country</th><th scope=col>year</th><th scope=col>gdp_pc</th><th scope=col>adjusted_gdp_pc</th></tr>\n",
       "\t<tr><th scope=col>&lt;chr&gt;</th><th scope=col>&lt;dbl&gt;</th><th scope=col>&lt;dbl&gt;</th><th scope=col>&lt;dbl&gt;</th></tr>\n",
       "</thead>\n",
       "<tbody>\n",
       "\t<tr><td>USA  </td><td>1994</td><td>16166</td><td>16489.32</td></tr>\n",
       "\t<tr><td>China</td><td>1994</td><td>13804</td><td>14080.08</td></tr>\n",
       "\t<tr><td>Sudan</td><td>1994</td><td> 5507</td><td> 5617.14</td></tr>\n",
       "\t<tr><td>USA  </td><td>1995</td><td>14966</td><td>15265.32</td></tr>\n",
       "\t<tr><td>China</td><td>1995</td><td>19778</td><td>20173.56</td></tr>\n",
       "\t<tr><td>Sudan</td><td>1995</td><td>10592</td><td>10803.84</td></tr>\n",
       "\t<tr><td>USA  </td><td>1996</td><td> 6852</td><td> 6989.04</td></tr>\n",
       "\t<tr><td>China</td><td>1996</td><td> 5114</td><td> 5216.28</td></tr>\n",
       "\t<tr><td>Sudan</td><td>1996</td><td> 7966</td><td> 8125.32</td></tr>\n",
       "</tbody>\n",
       "</table>\n"
      ]
     },
     "metadata": {}
    }
   ],
   "metadata": {}
  },
  {
   "cell_type": "markdown",
   "source": [
    "### Analyzing Columns \n",
    "\n",
    "Finally, as long as we're talking about columns, it's worth emphasizing that once you pull a column out of your dataframe, you can analyze it like any other vector (since it is just a vector!). For example: "
   ],
   "metadata": {}
  },
  {
   "cell_type": "code",
   "execution_count": 11,
   "source": [
    "mean(countries$gdp_pc)"
   ],
   "outputs": [
    {
     "output_type": "display_data",
     "data": {
      "text/plain": [
       "[1] 11193.89"
      ],
      "text/markdown": [
       "11193.8888888889"
      ],
      "text/latex": [
       "11193.8888888889"
      ],
      "text/html": [
       "11193.8888888889"
      ]
     },
     "metadata": {}
    }
   ],
   "metadata": {}
  },
  {
   "cell_type": "markdown",
   "source": [
    "But two summary functions are worth noting here: `table()`, to get the number of observations that have a given value in a vector, and the combination `prop.table(table())`, to get the share of observations with a given value in a vector:"
   ],
   "metadata": {}
  },
  {
   "cell_type": "code",
   "execution_count": 12,
   "source": [
    "# Number of observations by country \n",
    "table(countries$country)"
   ],
   "outputs": [
    {
     "output_type": "display_data",
     "data": {
      "text/plain": [
       "\n",
       "China Sudan   USA \n",
       "    3     3     3 "
      ]
     },
     "metadata": {}
    }
   ],
   "metadata": {}
  },
  {
   "cell_type": "code",
   "execution_count": 13,
   "source": [
    "# Proportion of observations by country \n",
    "prop.table(table(countries$country))"
   ],
   "outputs": [
    {
     "output_type": "display_data",
     "data": {
      "text/plain": [
       "\n",
       "    China     Sudan       USA \n",
       "0.3333333 0.3333333 0.3333333 "
      ]
     },
     "metadata": {}
    }
   ],
   "metadata": {}
  },
  {
   "cell_type": "markdown",
   "source": [
    "### Dropping Columns\n",
    "\n",
    "Dropping columns can be done in a couple ways. The easiest is to just list the columns one wishes to keep:"
   ],
   "metadata": {}
  },
  {
   "cell_type": "code",
   "execution_count": 14,
   "source": [
    "countries[, c(\"gdp_pc\", \"year\")]"
   ],
   "outputs": [
    {
     "output_type": "display_data",
     "data": {
      "text/plain": [
       "  gdp_pc year\n",
       "1 16166  1994\n",
       "2 13804  1994\n",
       "3  5507  1994\n",
       "4 14966  1995\n",
       "5 19778  1995\n",
       "6 10592  1995\n",
       "7  6852  1996\n",
       "8  5114  1996\n",
       "9  7966  1996"
      ],
      "text/markdown": [
       "\n",
       "A data.frame: 9 × 2\n",
       "\n",
       "| gdp_pc &lt;dbl&gt; | year &lt;dbl&gt; |\n",
       "|---|---|\n",
       "| 16166 | 1994 |\n",
       "| 13804 | 1994 |\n",
       "|  5507 | 1994 |\n",
       "| 14966 | 1995 |\n",
       "| 19778 | 1995 |\n",
       "| 10592 | 1995 |\n",
       "|  6852 | 1996 |\n",
       "|  5114 | 1996 |\n",
       "|  7966 | 1996 |\n",
       "\n"
      ],
      "text/latex": [
       "A data.frame: 9 × 2\n",
       "\\begin{tabular}{ll}\n",
       " gdp\\_pc & year\\\\\n",
       " <dbl> & <dbl>\\\\\n",
       "\\hline\n",
       "\t 16166 & 1994\\\\\n",
       "\t 13804 & 1994\\\\\n",
       "\t  5507 & 1994\\\\\n",
       "\t 14966 & 1995\\\\\n",
       "\t 19778 & 1995\\\\\n",
       "\t 10592 & 1995\\\\\n",
       "\t  6852 & 1996\\\\\n",
       "\t  5114 & 1996\\\\\n",
       "\t  7966 & 1996\\\\\n",
       "\\end{tabular}\n"
      ],
      "text/html": [
       "<table class=\"dataframe\">\n",
       "<caption>A data.frame: 9 × 2</caption>\n",
       "<thead>\n",
       "\t<tr><th scope=col>gdp_pc</th><th scope=col>year</th></tr>\n",
       "\t<tr><th scope=col>&lt;dbl&gt;</th><th scope=col>&lt;dbl&gt;</th></tr>\n",
       "</thead>\n",
       "<tbody>\n",
       "\t<tr><td>16166</td><td>1994</td></tr>\n",
       "\t<tr><td>13804</td><td>1994</td></tr>\n",
       "\t<tr><td> 5507</td><td>1994</td></tr>\n",
       "\t<tr><td>14966</td><td>1995</td></tr>\n",
       "\t<tr><td>19778</td><td>1995</td></tr>\n",
       "\t<tr><td>10592</td><td>1995</td></tr>\n",
       "\t<tr><td> 6852</td><td>1996</td></tr>\n",
       "\t<tr><td> 5114</td><td>1996</td></tr>\n",
       "\t<tr><td> 7966</td><td>1996</td></tr>\n",
       "</tbody>\n",
       "</table>\n"
      ]
     },
     "metadata": {}
    }
   ],
   "metadata": {}
  },
  {
   "cell_type": "markdown",
   "source": [
    "But in big dataframes, we sometimes have lots of columns, and don't want to list all the columns *except* the one we want to drop. For that there are two solutions. The first is like this:"
   ],
   "metadata": {}
  },
  {
   "cell_type": "code",
   "execution_count": 15,
   "source": [
    "# Drop columns gdp_pc and year\n",
    "countries[, !(names(countries) %in% c(\"gdp_pc\", \"year\"))]\n"
   ],
   "outputs": [
    {
     "output_type": "display_data",
     "data": {
      "text/plain": [
       "  country adjusted_gdp_pc\n",
       "1 USA     16489.32       \n",
       "2 China   14080.08       \n",
       "3 Sudan    5617.14       \n",
       "4 USA     15265.32       \n",
       "5 China   20173.56       \n",
       "6 Sudan   10803.84       \n",
       "7 USA      6989.04       \n",
       "8 China    5216.28       \n",
       "9 Sudan    8125.32       "
      ],
      "text/markdown": [
       "\n",
       "A data.frame: 9 × 2\n",
       "\n",
       "| country &lt;chr&gt; | adjusted_gdp_pc &lt;dbl&gt; |\n",
       "|---|---|\n",
       "| USA   | 16489.32 |\n",
       "| China | 14080.08 |\n",
       "| Sudan |  5617.14 |\n",
       "| USA   | 15265.32 |\n",
       "| China | 20173.56 |\n",
       "| Sudan | 10803.84 |\n",
       "| USA   |  6989.04 |\n",
       "| China |  5216.28 |\n",
       "| Sudan |  8125.32 |\n",
       "\n"
      ],
      "text/latex": [
       "A data.frame: 9 × 2\n",
       "\\begin{tabular}{ll}\n",
       " country & adjusted\\_gdp\\_pc\\\\\n",
       " <chr> & <dbl>\\\\\n",
       "\\hline\n",
       "\t USA   & 16489.32\\\\\n",
       "\t China & 14080.08\\\\\n",
       "\t Sudan &  5617.14\\\\\n",
       "\t USA   & 15265.32\\\\\n",
       "\t China & 20173.56\\\\\n",
       "\t Sudan & 10803.84\\\\\n",
       "\t USA   &  6989.04\\\\\n",
       "\t China &  5216.28\\\\\n",
       "\t Sudan &  8125.32\\\\\n",
       "\\end{tabular}\n"
      ],
      "text/html": [
       "<table class=\"dataframe\">\n",
       "<caption>A data.frame: 9 × 2</caption>\n",
       "<thead>\n",
       "\t<tr><th scope=col>country</th><th scope=col>adjusted_gdp_pc</th></tr>\n",
       "\t<tr><th scope=col>&lt;chr&gt;</th><th scope=col>&lt;dbl&gt;</th></tr>\n",
       "</thead>\n",
       "<tbody>\n",
       "\t<tr><td>USA  </td><td>16489.32</td></tr>\n",
       "\t<tr><td>China</td><td>14080.08</td></tr>\n",
       "\t<tr><td>Sudan</td><td> 5617.14</td></tr>\n",
       "\t<tr><td>USA  </td><td>15265.32</td></tr>\n",
       "\t<tr><td>China</td><td>20173.56</td></tr>\n",
       "\t<tr><td>Sudan</td><td>10803.84</td></tr>\n",
       "\t<tr><td>USA  </td><td> 6989.04</td></tr>\n",
       "\t<tr><td>China</td><td> 5216.28</td></tr>\n",
       "\t<tr><td>Sudan</td><td> 8125.32</td></tr>\n",
       "</tbody>\n",
       "</table>\n"
      ]
     },
     "metadata": {}
    }
   ],
   "metadata": {}
  },
  {
   "cell_type": "markdown",
   "source": [
    "This is a little weird looking, so it's worth breaking down. \n",
    "\n",
    "First, `names(countries)` returns all the column names of `countries`. "
   ],
   "metadata": {}
  },
  {
   "cell_type": "code",
   "execution_count": 16,
   "source": [
    "names(countries)"
   ],
   "outputs": [
    {
     "output_type": "display_data",
     "data": {
      "text/plain": [
       "[1] \"country\"         \"year\"            \"gdp_pc\"          \"adjusted_gdp_pc\""
      ],
      "text/markdown": [
       "1. 'country'\n",
       "2. 'year'\n",
       "3. 'gdp_pc'\n",
       "4. 'adjusted_gdp_pc'\n",
       "\n",
       "\n"
      ],
      "text/latex": [
       "\\begin{enumerate*}\n",
       "\\item 'country'\n",
       "\\item 'year'\n",
       "\\item 'gdp\\_pc'\n",
       "\\item 'adjusted\\_gdp\\_pc'\n",
       "\\end{enumerate*}\n"
      ],
      "text/html": [
       "<style>\n",
       ".list-inline {list-style: none; margin:0; padding: 0}\n",
       ".list-inline>li {display: inline-block}\n",
       ".list-inline>li:not(:last-child)::after {content: \"\\00b7\"; padding: 0 .5ex}\n",
       "</style>\n",
       "<ol class=list-inline><li>'country'</li><li>'year'</li><li>'gdp_pc'</li><li>'adjusted_gdp_pc'</li></ol>\n"
      ]
     },
     "metadata": {}
    }
   ],
   "metadata": {}
  },
  {
   "cell_type": "markdown",
   "source": [
    "Then `names(countries) %in% c(\"gdp_pc\", \"year\")` returns a logical vector the length of the column names of `countries` that's `TRUE` if the name is in the list, and `FALSE` otherwise:"
   ],
   "metadata": {}
  },
  {
   "cell_type": "code",
   "execution_count": 17,
   "source": [
    "names(countries) %in% c(\"gdp_pc\", \"year\")"
   ],
   "outputs": [
    {
     "output_type": "display_data",
     "data": {
      "text/plain": [
       "[1] FALSE  TRUE  TRUE FALSE"
      ],
      "text/markdown": [
       "1. FALSE\n",
       "2. TRUE\n",
       "3. TRUE\n",
       "4. FALSE\n",
       "\n",
       "\n"
      ],
      "text/latex": [
       "\\begin{enumerate*}\n",
       "\\item FALSE\n",
       "\\item TRUE\n",
       "\\item TRUE\n",
       "\\item FALSE\n",
       "\\end{enumerate*}\n"
      ],
      "text/html": [
       "<style>\n",
       ".list-inline {list-style: none; margin:0; padding: 0}\n",
       ".list-inline>li {display: inline-block}\n",
       ".list-inline>li:not(:last-child)::after {content: \"\\00b7\"; padding: 0 .5ex}\n",
       "</style>\n",
       "<ol class=list-inline><li>FALSE</li><li>TRUE</li><li>TRUE</li><li>FALSE</li></ol>\n"
      ]
     },
     "metadata": {}
    }
   ],
   "metadata": {}
  },
  {
   "cell_type": "markdown",
   "source": [
    "Then finally the `!` before that expression is the logical `NOT`, meaning that it makes all `TRUE` values into `FALSE` and vice-versa. So in the end `!(names(countries) %in% c(\"gdp_pc\", \"year\"))` returns a logical vector that is `TRUE` for all values *not* in the list, and `FALSE` for those in the list. That is then interpreted as a logical subsetting vector, and all columns not in the list are kept, and those not in the list are dropped. \n",
    "\n",
    "I know, it's kinda a lot... but it is a good example of how you can compose simple building blocks to do complicated things in R!\n",
    "\n",
    "Finally, if you're dropping a single columns, you can also assign the value of `NULL` to the column:"
   ],
   "metadata": {}
  },
  {
   "cell_type": "code",
   "execution_count": 18,
   "source": [
    "countries$gdp_pc <- NULL\n",
    "countries"
   ],
   "outputs": [
    {
     "output_type": "display_data",
     "data": {
      "text/plain": [
       "  country year adjusted_gdp_pc\n",
       "1 USA     1994 16489.32       \n",
       "2 China   1994 14080.08       \n",
       "3 Sudan   1994  5617.14       \n",
       "4 USA     1995 15265.32       \n",
       "5 China   1995 20173.56       \n",
       "6 Sudan   1995 10803.84       \n",
       "7 USA     1996  6989.04       \n",
       "8 China   1996  5216.28       \n",
       "9 Sudan   1996  8125.32       "
      ],
      "text/markdown": [
       "\n",
       "A data.frame: 9 × 3\n",
       "\n",
       "| country &lt;chr&gt; | year &lt;dbl&gt; | adjusted_gdp_pc &lt;dbl&gt; |\n",
       "|---|---|---|\n",
       "| USA   | 1994 | 16489.32 |\n",
       "| China | 1994 | 14080.08 |\n",
       "| Sudan | 1994 |  5617.14 |\n",
       "| USA   | 1995 | 15265.32 |\n",
       "| China | 1995 | 20173.56 |\n",
       "| Sudan | 1995 | 10803.84 |\n",
       "| USA   | 1996 |  6989.04 |\n",
       "| China | 1996 |  5216.28 |\n",
       "| Sudan | 1996 |  8125.32 |\n",
       "\n"
      ],
      "text/latex": [
       "A data.frame: 9 × 3\n",
       "\\begin{tabular}{lll}\n",
       " country & year & adjusted\\_gdp\\_pc\\\\\n",
       " <chr> & <dbl> & <dbl>\\\\\n",
       "\\hline\n",
       "\t USA   & 1994 & 16489.32\\\\\n",
       "\t China & 1994 & 14080.08\\\\\n",
       "\t Sudan & 1994 &  5617.14\\\\\n",
       "\t USA   & 1995 & 15265.32\\\\\n",
       "\t China & 1995 & 20173.56\\\\\n",
       "\t Sudan & 1995 & 10803.84\\\\\n",
       "\t USA   & 1996 &  6989.04\\\\\n",
       "\t China & 1996 &  5216.28\\\\\n",
       "\t Sudan & 1996 &  8125.32\\\\\n",
       "\\end{tabular}\n"
      ],
      "text/html": [
       "<table class=\"dataframe\">\n",
       "<caption>A data.frame: 9 × 3</caption>\n",
       "<thead>\n",
       "\t<tr><th scope=col>country</th><th scope=col>year</th><th scope=col>adjusted_gdp_pc</th></tr>\n",
       "\t<tr><th scope=col>&lt;chr&gt;</th><th scope=col>&lt;dbl&gt;</th><th scope=col>&lt;dbl&gt;</th></tr>\n",
       "</thead>\n",
       "<tbody>\n",
       "\t<tr><td>USA  </td><td>1994</td><td>16489.32</td></tr>\n",
       "\t<tr><td>China</td><td>1994</td><td>14080.08</td></tr>\n",
       "\t<tr><td>Sudan</td><td>1994</td><td> 5617.14</td></tr>\n",
       "\t<tr><td>USA  </td><td>1995</td><td>15265.32</td></tr>\n",
       "\t<tr><td>China</td><td>1995</td><td>20173.56</td></tr>\n",
       "\t<tr><td>Sudan</td><td>1995</td><td>10803.84</td></tr>\n",
       "\t<tr><td>USA  </td><td>1996</td><td> 6989.04</td></tr>\n",
       "\t<tr><td>China</td><td>1996</td><td> 5216.28</td></tr>\n",
       "\t<tr><td>Sudan</td><td>1996</td><td> 8125.32</td></tr>\n",
       "</tbody>\n",
       "</table>\n"
      ]
     },
     "metadata": {}
    }
   ],
   "metadata": {}
  },
  {
   "cell_type": "markdown",
   "source": [
    "Which... well, just works! :)"
   ],
   "metadata": {}
  },
  {
   "cell_type": "markdown",
   "source": [
    "## Row Operations\n",
    "\n",
    "In most datasets you work with, each row will correspond to a single observation in your data. Given that, we often manipulate rows as a way of manipulating the sample in our analyses. \n",
    "\n",
    "### Subsetting\n",
    "\n",
    "Subsetting with logicals is exactly the same with dataframes as it was with matrices, except that we can access column names with the `$` notation:"
   ],
   "metadata": {}
  },
  {
   "cell_type": "code",
   "execution_count": 19,
   "source": [
    "countries[countries$year == 1995 & countries$country == \"USA\", ]"
   ],
   "outputs": [
    {
     "output_type": "display_data",
     "data": {
      "text/plain": [
       "  country year adjusted_gdp_pc\n",
       "4 USA     1995 15265.32       "
      ],
      "text/markdown": [
       "\n",
       "A data.frame: 1 × 3\n",
       "\n",
       "| <!--/--> | country &lt;chr&gt; | year &lt;dbl&gt; | adjusted_gdp_pc &lt;dbl&gt; |\n",
       "|---|---|---|---|\n",
       "| 4 | USA | 1995 | 15265.32 |\n",
       "\n"
      ],
      "text/latex": [
       "A data.frame: 1 × 3\n",
       "\\begin{tabular}{r|lll}\n",
       "  & country & year & adjusted\\_gdp\\_pc\\\\\n",
       "  & <chr> & <dbl> & <dbl>\\\\\n",
       "\\hline\n",
       "\t4 & USA & 1995 & 15265.32\\\\\n",
       "\\end{tabular}\n"
      ],
      "text/html": [
       "<table class=\"dataframe\">\n",
       "<caption>A data.frame: 1 × 3</caption>\n",
       "<thead>\n",
       "\t<tr><th></th><th scope=col>country</th><th scope=col>year</th><th scope=col>adjusted_gdp_pc</th></tr>\n",
       "\t<tr><th></th><th scope=col>&lt;chr&gt;</th><th scope=col>&lt;dbl&gt;</th><th scope=col>&lt;dbl&gt;</th></tr>\n",
       "</thead>\n",
       "<tbody>\n",
       "\t<tr><th scope=row>4</th><td>USA</td><td>1995</td><td>15265.32</td></tr>\n",
       "</tbody>\n",
       "</table>\n"
      ]
     },
     "metadata": {}
    }
   ],
   "metadata": {
    "lines_to_next_cell": 0
   }
  },
  {
   "cell_type": "markdown",
   "source": [
    "### Sorting Dataframes\n",
    "\n",
    "Often, we'll want to sort the rows of our dataframe by the values in one of our columns. To do so, we use the `order` command:"
   ],
   "metadata": {}
  },
  {
   "cell_type": "code",
   "execution_count": 20,
   "source": [
    "# Sort by GDP\n",
    "countries[order(countries$adjusted_gdp_pc),]"
   ],
   "outputs": [
    {
     "output_type": "display_data",
     "data": {
      "text/plain": [
       "  country year adjusted_gdp_pc\n",
       "8 China   1996  5216.28       \n",
       "3 Sudan   1994  5617.14       \n",
       "7 USA     1996  6989.04       \n",
       "9 Sudan   1996  8125.32       \n",
       "6 Sudan   1995 10803.84       \n",
       "2 China   1994 14080.08       \n",
       "4 USA     1995 15265.32       \n",
       "1 USA     1994 16489.32       \n",
       "5 China   1995 20173.56       "
      ],
      "text/markdown": [
       "\n",
       "A data.frame: 9 × 3\n",
       "\n",
       "| <!--/--> | country &lt;chr&gt; | year &lt;dbl&gt; | adjusted_gdp_pc &lt;dbl&gt; |\n",
       "|---|---|---|---|\n",
       "| 8 | China | 1996 |  5216.28 |\n",
       "| 3 | Sudan | 1994 |  5617.14 |\n",
       "| 7 | USA   | 1996 |  6989.04 |\n",
       "| 9 | Sudan | 1996 |  8125.32 |\n",
       "| 6 | Sudan | 1995 | 10803.84 |\n",
       "| 2 | China | 1994 | 14080.08 |\n",
       "| 4 | USA   | 1995 | 15265.32 |\n",
       "| 1 | USA   | 1994 | 16489.32 |\n",
       "| 5 | China | 1995 | 20173.56 |\n",
       "\n"
      ],
      "text/latex": [
       "A data.frame: 9 × 3\n",
       "\\begin{tabular}{r|lll}\n",
       "  & country & year & adjusted\\_gdp\\_pc\\\\\n",
       "  & <chr> & <dbl> & <dbl>\\\\\n",
       "\\hline\n",
       "\t8 & China & 1996 &  5216.28\\\\\n",
       "\t3 & Sudan & 1994 &  5617.14\\\\\n",
       "\t7 & USA   & 1996 &  6989.04\\\\\n",
       "\t9 & Sudan & 1996 &  8125.32\\\\\n",
       "\t6 & Sudan & 1995 & 10803.84\\\\\n",
       "\t2 & China & 1994 & 14080.08\\\\\n",
       "\t4 & USA   & 1995 & 15265.32\\\\\n",
       "\t1 & USA   & 1994 & 16489.32\\\\\n",
       "\t5 & China & 1995 & 20173.56\\\\\n",
       "\\end{tabular}\n"
      ],
      "text/html": [
       "<table class=\"dataframe\">\n",
       "<caption>A data.frame: 9 × 3</caption>\n",
       "<thead>\n",
       "\t<tr><th></th><th scope=col>country</th><th scope=col>year</th><th scope=col>adjusted_gdp_pc</th></tr>\n",
       "\t<tr><th></th><th scope=col>&lt;chr&gt;</th><th scope=col>&lt;dbl&gt;</th><th scope=col>&lt;dbl&gt;</th></tr>\n",
       "</thead>\n",
       "<tbody>\n",
       "\t<tr><th scope=row>8</th><td>China</td><td>1996</td><td> 5216.28</td></tr>\n",
       "\t<tr><th scope=row>3</th><td>Sudan</td><td>1994</td><td> 5617.14</td></tr>\n",
       "\t<tr><th scope=row>7</th><td>USA  </td><td>1996</td><td> 6989.04</td></tr>\n",
       "\t<tr><th scope=row>9</th><td>Sudan</td><td>1996</td><td> 8125.32</td></tr>\n",
       "\t<tr><th scope=row>6</th><td>Sudan</td><td>1995</td><td>10803.84</td></tr>\n",
       "\t<tr><th scope=row>2</th><td>China</td><td>1994</td><td>14080.08</td></tr>\n",
       "\t<tr><th scope=row>4</th><td>USA  </td><td>1995</td><td>15265.32</td></tr>\n",
       "\t<tr><th scope=row>1</th><td>USA  </td><td>1994</td><td>16489.32</td></tr>\n",
       "\t<tr><th scope=row>5</th><td>China</td><td>1995</td><td>20173.56</td></tr>\n",
       "</tbody>\n",
       "</table>\n"
      ]
     },
     "metadata": {}
    }
   ],
   "metadata": {}
  },
  {
   "cell_type": "markdown",
   "source": [
    "What's happening? `order()` returns a vector with the indices of the rows of the dataset in sorted order:"
   ],
   "metadata": {}
  },
  {
   "cell_type": "code",
   "execution_count": 21,
   "source": [
    "order(countries$adjusted_gdp_pc)"
   ],
   "outputs": [
    {
     "output_type": "display_data",
     "data": {
      "text/plain": [
       "[1] 8 3 7 9 6 2 4 1 5"
      ],
      "text/markdown": [
       "1. 8\n",
       "2. 3\n",
       "3. 7\n",
       "4. 9\n",
       "5. 6\n",
       "6. 2\n",
       "7. 4\n",
       "8. 1\n",
       "9. 5\n",
       "\n",
       "\n"
      ],
      "text/latex": [
       "\\begin{enumerate*}\n",
       "\\item 8\n",
       "\\item 3\n",
       "\\item 7\n",
       "\\item 9\n",
       "\\item 6\n",
       "\\item 2\n",
       "\\item 4\n",
       "\\item 1\n",
       "\\item 5\n",
       "\\end{enumerate*}\n"
      ],
      "text/html": [
       "<style>\n",
       ".list-inline {list-style: none; margin:0; padding: 0}\n",
       ".list-inline>li {display: inline-block}\n",
       ".list-inline>li:not(:last-child)::after {content: \"\\00b7\"; padding: 0 .5ex}\n",
       "</style>\n",
       "<ol class=list-inline><li>8</li><li>3</li><li>7</li><li>9</li><li>6</li><li>2</li><li>4</li><li>1</li><li>5</li></ol>\n"
      ]
     },
     "metadata": {}
    }
   ],
   "metadata": {}
  },
  {
   "cell_type": "markdown",
   "source": [
    "And then, because it's a vector of indices being passed in the first position of our square brackets, we get all the rows of `countries` \"subset\" by index (though obviously it's not really a subset, since all row indices appear in the vector -- just a re-ordering)!"
   ],
   "metadata": {}
  },
  {
   "cell_type": "markdown",
   "source": [
    "We can also sort by multiple columns:"
   ],
   "metadata": {}
  },
  {
   "cell_type": "code",
   "execution_count": 22,
   "source": [
    "countries[order(countries$year, countries$country),]"
   ],
   "outputs": [
    {
     "output_type": "display_data",
     "data": {
      "text/plain": [
       "  country year adjusted_gdp_pc\n",
       "2 China   1994 14080.08       \n",
       "3 Sudan   1994  5617.14       \n",
       "1 USA     1994 16489.32       \n",
       "5 China   1995 20173.56       \n",
       "6 Sudan   1995 10803.84       \n",
       "4 USA     1995 15265.32       \n",
       "8 China   1996  5216.28       \n",
       "9 Sudan   1996  8125.32       \n",
       "7 USA     1996  6989.04       "
      ],
      "text/markdown": [
       "\n",
       "A data.frame: 9 × 3\n",
       "\n",
       "| <!--/--> | country &lt;chr&gt; | year &lt;dbl&gt; | adjusted_gdp_pc &lt;dbl&gt; |\n",
       "|---|---|---|---|\n",
       "| 2 | China | 1994 | 14080.08 |\n",
       "| 3 | Sudan | 1994 |  5617.14 |\n",
       "| 1 | USA   | 1994 | 16489.32 |\n",
       "| 5 | China | 1995 | 20173.56 |\n",
       "| 6 | Sudan | 1995 | 10803.84 |\n",
       "| 4 | USA   | 1995 | 15265.32 |\n",
       "| 8 | China | 1996 |  5216.28 |\n",
       "| 9 | Sudan | 1996 |  8125.32 |\n",
       "| 7 | USA   | 1996 |  6989.04 |\n",
       "\n"
      ],
      "text/latex": [
       "A data.frame: 9 × 3\n",
       "\\begin{tabular}{r|lll}\n",
       "  & country & year & adjusted\\_gdp\\_pc\\\\\n",
       "  & <chr> & <dbl> & <dbl>\\\\\n",
       "\\hline\n",
       "\t2 & China & 1994 & 14080.08\\\\\n",
       "\t3 & Sudan & 1994 &  5617.14\\\\\n",
       "\t1 & USA   & 1994 & 16489.32\\\\\n",
       "\t5 & China & 1995 & 20173.56\\\\\n",
       "\t6 & Sudan & 1995 & 10803.84\\\\\n",
       "\t4 & USA   & 1995 & 15265.32\\\\\n",
       "\t8 & China & 1996 &  5216.28\\\\\n",
       "\t9 & Sudan & 1996 &  8125.32\\\\\n",
       "\t7 & USA   & 1996 &  6989.04\\\\\n",
       "\\end{tabular}\n"
      ],
      "text/html": [
       "<table class=\"dataframe\">\n",
       "<caption>A data.frame: 9 × 3</caption>\n",
       "<thead>\n",
       "\t<tr><th></th><th scope=col>country</th><th scope=col>year</th><th scope=col>adjusted_gdp_pc</th></tr>\n",
       "\t<tr><th></th><th scope=col>&lt;chr&gt;</th><th scope=col>&lt;dbl&gt;</th><th scope=col>&lt;dbl&gt;</th></tr>\n",
       "</thead>\n",
       "<tbody>\n",
       "\t<tr><th scope=row>2</th><td>China</td><td>1994</td><td>14080.08</td></tr>\n",
       "\t<tr><th scope=row>3</th><td>Sudan</td><td>1994</td><td> 5617.14</td></tr>\n",
       "\t<tr><th scope=row>1</th><td>USA  </td><td>1994</td><td>16489.32</td></tr>\n",
       "\t<tr><th scope=row>5</th><td>China</td><td>1995</td><td>20173.56</td></tr>\n",
       "\t<tr><th scope=row>6</th><td>Sudan</td><td>1995</td><td>10803.84</td></tr>\n",
       "\t<tr><th scope=row>4</th><td>USA  </td><td>1995</td><td>15265.32</td></tr>\n",
       "\t<tr><th scope=row>8</th><td>China</td><td>1996</td><td> 5216.28</td></tr>\n",
       "\t<tr><th scope=row>9</th><td>Sudan</td><td>1996</td><td> 8125.32</td></tr>\n",
       "\t<tr><th scope=row>7</th><td>USA  </td><td>1996</td><td> 6989.04</td></tr>\n",
       "</tbody>\n",
       "</table>\n"
      ]
     },
     "metadata": {}
    }
   ],
   "metadata": {}
  },
  {
   "cell_type": "markdown",
   "source": [
    "And we can use `-` to sort any variable in descending order rather than ascending order:"
   ],
   "metadata": {}
  },
  {
   "cell_type": "code",
   "execution_count": 23,
   "source": [
    "countries[order(-countries$adjusted_gdp_pc), ]"
   ],
   "outputs": [
    {
     "output_type": "display_data",
     "data": {
      "text/plain": [
       "  country year adjusted_gdp_pc\n",
       "5 China   1995 20173.56       \n",
       "1 USA     1994 16489.32       \n",
       "4 USA     1995 15265.32       \n",
       "2 China   1994 14080.08       \n",
       "6 Sudan   1995 10803.84       \n",
       "9 Sudan   1996  8125.32       \n",
       "7 USA     1996  6989.04       \n",
       "3 Sudan   1994  5617.14       \n",
       "8 China   1996  5216.28       "
      ],
      "text/markdown": [
       "\n",
       "A data.frame: 9 × 3\n",
       "\n",
       "| <!--/--> | country &lt;chr&gt; | year &lt;dbl&gt; | adjusted_gdp_pc &lt;dbl&gt; |\n",
       "|---|---|---|---|\n",
       "| 5 | China | 1995 | 20173.56 |\n",
       "| 1 | USA   | 1994 | 16489.32 |\n",
       "| 4 | USA   | 1995 | 15265.32 |\n",
       "| 2 | China | 1994 | 14080.08 |\n",
       "| 6 | Sudan | 1995 | 10803.84 |\n",
       "| 9 | Sudan | 1996 |  8125.32 |\n",
       "| 7 | USA   | 1996 |  6989.04 |\n",
       "| 3 | Sudan | 1994 |  5617.14 |\n",
       "| 8 | China | 1996 |  5216.28 |\n",
       "\n"
      ],
      "text/latex": [
       "A data.frame: 9 × 3\n",
       "\\begin{tabular}{r|lll}\n",
       "  & country & year & adjusted\\_gdp\\_pc\\\\\n",
       "  & <chr> & <dbl> & <dbl>\\\\\n",
       "\\hline\n",
       "\t5 & China & 1995 & 20173.56\\\\\n",
       "\t1 & USA   & 1994 & 16489.32\\\\\n",
       "\t4 & USA   & 1995 & 15265.32\\\\\n",
       "\t2 & China & 1994 & 14080.08\\\\\n",
       "\t6 & Sudan & 1995 & 10803.84\\\\\n",
       "\t9 & Sudan & 1996 &  8125.32\\\\\n",
       "\t7 & USA   & 1996 &  6989.04\\\\\n",
       "\t3 & Sudan & 1994 &  5617.14\\\\\n",
       "\t8 & China & 1996 &  5216.28\\\\\n",
       "\\end{tabular}\n"
      ],
      "text/html": [
       "<table class=\"dataframe\">\n",
       "<caption>A data.frame: 9 × 3</caption>\n",
       "<thead>\n",
       "\t<tr><th></th><th scope=col>country</th><th scope=col>year</th><th scope=col>adjusted_gdp_pc</th></tr>\n",
       "\t<tr><th></th><th scope=col>&lt;chr&gt;</th><th scope=col>&lt;dbl&gt;</th><th scope=col>&lt;dbl&gt;</th></tr>\n",
       "</thead>\n",
       "<tbody>\n",
       "\t<tr><th scope=row>5</th><td>China</td><td>1995</td><td>20173.56</td></tr>\n",
       "\t<tr><th scope=row>1</th><td>USA  </td><td>1994</td><td>16489.32</td></tr>\n",
       "\t<tr><th scope=row>4</th><td>USA  </td><td>1995</td><td>15265.32</td></tr>\n",
       "\t<tr><th scope=row>2</th><td>China</td><td>1994</td><td>14080.08</td></tr>\n",
       "\t<tr><th scope=row>6</th><td>Sudan</td><td>1995</td><td>10803.84</td></tr>\n",
       "\t<tr><th scope=row>9</th><td>Sudan</td><td>1996</td><td> 8125.32</td></tr>\n",
       "\t<tr><th scope=row>7</th><td>USA  </td><td>1996</td><td> 6989.04</td></tr>\n",
       "\t<tr><th scope=row>3</th><td>Sudan</td><td>1994</td><td> 5617.14</td></tr>\n",
       "\t<tr><th scope=row>8</th><td>China</td><td>1996</td><td> 5216.28</td></tr>\n",
       "</tbody>\n",
       "</table>\n"
      ]
     },
     "metadata": {}
    }
   ],
   "metadata": {}
  },
  {
   "cell_type": "markdown",
   "source": [
    "## Avoiding Subsetting by Index\n",
    "\n",
    "As you've seen, we almost always access columns by name rather than by using their index numbers. That's because when working with real data, there's always a possibility that the order of columns gets jumbled up -- maybe you get an updated version of the data set you're working with that has the columns in different orders, or maybe in a large research project one of your collaborators has modified the order of columns in some of the code that runs before your code.\n",
    "\n",
    "In these situations, trying to extract a column using its index may give you the wrong answer, while pulling out a column by name will and sure you're always getting the variable that you intended!"
   ],
   "metadata": {}
  },
  {
   "cell_type": "markdown",
   "source": [
    "The same logic also applies to subsetting by rows. While subsetting by row index *works*, we generally avoid using indices for the same reason we avoid subsetting columns by index -- if the order or our data changes (say, it gets sorted unexpectedly), we can't predict how our index subsets will change! That's why in nearly all the examples above we subset with a logical vector. \n",
    "\n",
    "Obviously there are exceptions to this rule -- `order()` and `sample()` are both implicitly subsetting by index. But those functions generate the indices they use from the values of row immediately before they use them, so there is no opportunity for the order of row to change between when those indices are generated and when they are used."
   ],
   "metadata": {}
  },
  {
   "cell_type": "markdown",
   "source": [
    "## Recap\n",
    "\n",
    "Phew. OK, I know this reading covered *a lot*, so here's a quick recap and a summary table for reference. \n",
    "\n",
    "- Dataframes really are just like matrices. The main difference is that each column can be a different type, and dataframes always have column names.\n",
    "- We subset single dataframe columns using `$`, but that's just a shorthand for the syntax we learned before (`df[, \"colname\"]`).\n",
    "- The columns of a dataframe are just vectors.\n",
    "- We usually subset dataframes with logicals (for rows) or by name (columns) for safety. \n",
    "\n",
    "And now a reference table, written with a toy dataset called `df` with columns `col1`, `col2`, and `col3` in mind: "
   ],
   "metadata": {}
  },
  {
   "cell_type": "markdown",
   "source": [
    "**Looking at your dataframe:**\n",
    "\n",
    "- Number of rows: `nrow(df)`\n",
    "- Number of columns: `ncol(df)`\n",
    "- First six rows: `head(df)`\n",
    "- Last six rows: `tail(df)`\n",
    "- Quick summary of all data: `summary(df)`\n",
    "\n",
    "**Row Operations**\n",
    "\n",
    "- Subset rows by logical: `df[df$col1 < 42, ]` or `df[df[, col1] < 42, ]`\n",
    "- Random sample of N rows: `df[sample(nrow(df), N), ]`\n",
    "- Sort rows (ascending, one column): `df[order(df$col1), ]`\n",
    "- Sort rows (descending, one column): `df[order(-df$col1), ]`\n",
    "- Sort rows (multiple columns): `df[order(df$col1, df$col2), ]`\n",
    "\n",
    "**Column Operations**\n",
    "\n",
    "- Subset one column by name: `df$col1` or `df[, \"col1\"]`\n",
    "- Subset multiple columns by name: `df[ , c(\"col1\", \"col2\")]`\n",
    "- Drop one column: `df$col1 <- NULL`\n",
    "- Drop set of columns: `df[ , !(names(df) %in% c(\"col1\", \"col2\"))]`\n",
    "- Editing a single column: `df$col1 <- df$col1 * 42` or `df[, \"col1\"] <- df[, \"col1\"] * 42`\n",
    "- Create new column: `df$newcol <- df$col1 * 42` or `df[, \"newcol\"] <- df[, \"col1\"] * 42`\n",
    "\n",
    "**Learn About a Column:**\n",
    "\n",
    "- Tabulate number of observations of each value: `table(df$col1)`\n",
    "- Share of observations of each value: `prop.table(table(df$col1))`\n",
    "- Quick summary of one column: `summary(df$col1)`\n"
   ],
   "metadata": {}
  },
  {
   "cell_type": "markdown",
   "source": [
    "## Exercises for Class\n",
    "\n",
    "And now it's time to put these new [skills into action with some exercises!](exercises/exercise_dataframe.ipynb) As usual, if you are a synchronous student, **please don't start these before class!**"
   ],
   "metadata": {}
  }
 ],
 "metadata": {
  "jupytext": {
   "cell_metadata_filter": "tags,eval,-all",
   "main_language": "R",
   "notebook_metadata_filter": "-all"
  },
  "language_info": {
   "name": "R",
   "codemirror_mode": "r",
   "pygments_lexer": "r",
   "mimetype": "text/x-r-source",
   "file_extension": ".r",
   "version": "4.1.0"
  },
  "kernelspec": {
   "name": "ir",
   "display_name": "R",
   "language": "R"
  }
 },
 "nbformat": 4,
 "nbformat_minor": 5
}