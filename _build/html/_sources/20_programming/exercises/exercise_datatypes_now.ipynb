{
    "cells": [
        {
            "cell_type": "markdown",
            "source": [
                "# Practicing Assignment and Data Types"
            ],
            "metadata": {}
        },
        {
            "cell_type": "markdown",
            "source": [
                "Hello and welcome to your first R exercises!\n",
                "\n",
                "To complete these, please open RSTudio and create a NEW text file. Make sure that you save it with a `.R` at the end of the file name, since that's how RStudio knows the file is for R code. \n",
                "\n",
                "Then complete the following exercises in that text file, using comments (lines that start with `#`) to explain what each line does. \n",
                "\n",
                "## Exercise 1: Assigning values\n",
                "\n",
                "1. Assign the numeric value of your age to a variable called `my_age`. \n",
                "2. The average life span of for a person in the world is about 72 years. Create a new variable (you can call it whatever you want) that stores what proportion of that average life span you've already lived. A little morbid, I know, sorry! Inventing exercises is hard! :)\n",
                "\n",
                "## Exercise 2: Functions!\n",
                "\n",
                "1. Use `print()` to print out the value you calculated above.\n",
                "2. Multiple that share by 100 to get the *percentage* of the average life span you've lived. Use `print()` and `round()` to print out that percentage with no decimal places. \n",
                "\n",
                "## Exercise 3: Different types\n",
                "\n",
                "1. Create a variable called `my_name` and assign your name to it.\n",
                "2. Check the class of `my_name` using the `class()` function.\n",
                "3. Now a weird one. Create a variable called `ten` and assign in the value `\"10\"` in quotes. What's the class of `ten`? Why is it not numeric?\n",
                "4. What happens if you add `my_age` and `ten`?\n",
                "5. To convert `ten` to a numeric type, type `ten = as.numeric(ten)`. Now check it's class again.\n",
                "6. Now can you add `my_age` to `ten`?"
            ],
            "metadata": {}
        },
        {
            "cell_type": "markdown",
            "source": [
                "## Solutions\n",
                "\n",
                "Here’s the deal with programming: the only way to learn to program is to wrestle with solving your own problems. The [best way to learn is to do so actively](https://cft.vanderbilt.edu/wp-content/uploads/sites/59/Active-Learning.pdf) – if you just look at answers as soon as you get stuck, your process is more passive. You may feel like you’re learning more, but research shows that that’s an illusion – students who learn passively think they’re learning more than they are ([a summary of work in this area is here](https://news.harvard.edu/gazette/story/2019/09/study-shows-that-students-learn-more-when-taking-part-in-classrooms-that-employ-active-learning-strategies/)). \n",
                "\n",
                "Moreover, in coding in particular, the process of debugging your code is a critical skill in and of itself, and the only way you will learn to do it is by literally spending hours working through your own problems. And once you’ve seen an answer, there’s no way to unsee it, so proceed only if you absolutely have to.\n",
                "\n",
                "OK, if you still want to proceed, you can find [solutions here](solutions/solution_datatypes_now.ipynb)."
            ],
            "metadata": {}
        }
    ],
    "metadata": {
        "orig_nbformat": 4,
        "language_info": {
            "name": "r"
        }
    },
    "nbformat": 4,
    "nbformat_minor": 2
}