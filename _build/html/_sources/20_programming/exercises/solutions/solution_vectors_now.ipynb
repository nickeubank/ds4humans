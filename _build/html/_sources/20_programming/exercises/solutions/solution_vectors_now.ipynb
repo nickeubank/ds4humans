{
    "cells": [
        {
            "cell_type": "markdown",
            "source": [
                "# Vector Exercises"
            ],
            "metadata": {}
        },
        {
            "cell_type": "markdown",
            "source": [
                "## Exercise 1: Favorite Numbers\n",
                "\n",
                "1. make a vector called `my_favorite_numbers` with at least 6 of your favorite numbers. (hint: use the `c()` function to concatenate or combine numbers into a vector)"
            ],
            "metadata": {}
        },
        {
            "cell_type": "code",
            "execution_count": 1,
            "source": [
                "my_favorite_numbers <- c(42, 47, 101, -2, 0, 30)"
            ],
            "outputs": [],
            "metadata": {}
        },
        {
            "cell_type": "markdown",
            "source": [
                "2. use the `mean` function to find out the average of your favorite numbers. "
            ],
            "metadata": {}
        },
        {
            "cell_type": "code",
            "execution_count": 2,
            "source": [
                "mean(my_favorite_numbers)"
            ],
            "outputs": [
                {
                    "output_type": "display_data",
                    "data": {
                        "text/plain": [
                            "[1] 36.33333"
                        ],
                        "text/markdown": [
                            "36.3333333333333"
                        ],
                        "text/latex": [
                            "36.3333333333333"
                        ],
                        "text/html": [
                            "36.3333333333333"
                        ]
                    },
                    "metadata": {}
                }
            ],
            "metadata": {}
        },
        {
            "cell_type": "markdown",
            "source": [
                "3. How many numbers did you put in your vector? Find out using the `length` function!"
            ],
            "metadata": {}
        },
        {
            "cell_type": "code",
            "execution_count": 3,
            "source": [
                "length(my_favorite_numbers)"
            ],
            "outputs": [
                {
                    "output_type": "display_data",
                    "data": {
                        "text/plain": [
                            "[1] 6"
                        ],
                        "text/markdown": [
                            "6"
                        ],
                        "text/latex": [
                            "6"
                        ],
                        "text/html": [
                            "6"
                        ]
                    },
                    "metadata": {}
                }
            ],
            "metadata": {}
        },
        {
            "cell_type": "markdown",
            "source": [
                "4. Create a vector will all the numbers from 1-10 *without* typing out all the numbers from 1 to 10."
            ],
            "metadata": {}
        },
        {
            "cell_type": "code",
            "execution_count": 4,
            "source": [
                "# Either: \n",
                "first_ten <- 1:10"
            ],
            "outputs": [],
            "metadata": {}
        },
        {
            "cell_type": "code",
            "execution_count": 5,
            "source": [
                "# Or:\n",
                "first_ten <- seq(1, 10)"
            ],
            "outputs": [],
            "metadata": {}
        },
        {
            "cell_type": "markdown",
            "source": [
                "5. Now double all the values of `first_ten` in one operation."
            ],
            "metadata": {}
        },
        {
            "cell_type": "code",
            "execution_count": 6,
            "source": [
                "first_ten <- first_ten * 2"
            ],
            "outputs": [],
            "metadata": {}
        },
        {
            "cell_type": "markdown",
            "source": [
                "## Exercise 2: Subsetting Your Favorites"
            ],
            "metadata": {}
        },
        {
            "cell_type": "markdown",
            "source": [
                "Now suppose you only want the big values of `my_favorite_numbers`.\n",
                "\n",
                "1. First, let's make a vector of true/false logical vectors. Create a logical vector that is true if the number is greater than `5` called `big`. If you look at `big`, do the values make sense?\n"
            ],
            "metadata": {}
        },
        {
            "cell_type": "code",
            "execution_count": 7,
            "source": [
                "big <- my_favorite_numbers > 5\n",
                "big"
            ],
            "outputs": [
                {
                    "output_type": "display_data",
                    "data": {
                        "text/plain": [
                            "[1]  TRUE  TRUE  TRUE FALSE FALSE  TRUE"
                        ],
                        "text/markdown": [
                            "1. TRUE\n",
                            "2. TRUE\n",
                            "3. TRUE\n",
                            "4. FALSE\n",
                            "5. FALSE\n",
                            "6. TRUE\n",
                            "\n",
                            "\n"
                        ],
                        "text/latex": [
                            "\\begin{enumerate*}\n",
                            "\\item TRUE\n",
                            "\\item TRUE\n",
                            "\\item TRUE\n",
                            "\\item FALSE\n",
                            "\\item FALSE\n",
                            "\\item TRUE\n",
                            "\\end{enumerate*}\n"
                        ],
                        "text/html": [
                            "<style>\n",
                            ".list-inline {list-style: none; margin:0; padding: 0}\n",
                            ".list-inline>li {display: inline-block}\n",
                            ".list-inline>li:not(:last-child)::after {content: \"\\00b7\"; padding: 0 .5ex}\n",
                            "</style>\n",
                            "<ol class=list-inline><li>TRUE</li><li>TRUE</li><li>TRUE</li><li>FALSE</li><li>FALSE</li><li>TRUE</li></ol>\n"
                        ]
                    },
                    "metadata": {}
                }
            ],
            "metadata": {}
        },
        {
            "cell_type": "markdown",
            "source": [
                "2. Now use `big` to return only the values of `my_favorite_numbers` that are greater than 5."
            ],
            "metadata": {}
        },
        {
            "cell_type": "code",
            "execution_count": 8,
            "source": [
                "my_favorite_numbers[big]"
            ],
            "outputs": [
                {
                    "output_type": "display_data",
                    "data": {
                        "text/plain": [
                            "[1]  42  47 101  30"
                        ],
                        "text/markdown": [
                            "1. 42\n",
                            "2. 47\n",
                            "3. 101\n",
                            "4. 30\n",
                            "\n",
                            "\n"
                        ],
                        "text/latex": [
                            "\\begin{enumerate*}\n",
                            "\\item 42\n",
                            "\\item 47\n",
                            "\\item 101\n",
                            "\\item 30\n",
                            "\\end{enumerate*}\n"
                        ],
                        "text/html": [
                            "<style>\n",
                            ".list-inline {list-style: none; margin:0; padding: 0}\n",
                            ".list-inline>li {display: inline-block}\n",
                            ".list-inline>li:not(:last-child)::after {content: \"\\00b7\"; padding: 0 .5ex}\n",
                            "</style>\n",
                            "<ol class=list-inline><li>42</li><li>47</li><li>101</li><li>30</li></ol>\n"
                        ]
                    },
                    "metadata": {}
                }
            ],
            "metadata": {}
        },
        {
            "cell_type": "markdown",
            "source": [
                "3. Now, using the same logic, try and get all the values of `my_favorite_numbers` that are bigger than the average of `my_favorite_numbers`. (Hint: you'll need to use a function we've seen.)"
            ],
            "metadata": {}
        },
        {
            "cell_type": "code",
            "execution_count": 9,
            "source": [
                "# In separate steps:\n",
                "avg <- mean(my_favorite_numbers)\n",
                "above_avg <- my_favorite_numbers > avg\n",
                "my_favorite_numbers[above_avg]"
            ],
            "outputs": [
                {
                    "output_type": "display_data",
                    "data": {
                        "text/plain": [
                            "[1]  42  47 101"
                        ],
                        "text/markdown": [
                            "1. 42\n",
                            "2. 47\n",
                            "3. 101\n",
                            "\n",
                            "\n"
                        ],
                        "text/latex": [
                            "\\begin{enumerate*}\n",
                            "\\item 42\n",
                            "\\item 47\n",
                            "\\item 101\n",
                            "\\end{enumerate*}\n"
                        ],
                        "text/html": [
                            "<style>\n",
                            ".list-inline {list-style: none; margin:0; padding: 0}\n",
                            ".list-inline>li {display: inline-block}\n",
                            ".list-inline>li:not(:last-child)::after {content: \"\\00b7\"; padding: 0 .5ex}\n",
                            "</style>\n",
                            "<ol class=list-inline><li>42</li><li>47</li><li>101</li></ol>\n"
                        ]
                    },
                    "metadata": {}
                }
            ],
            "metadata": {}
        },
        {
            "cell_type": "markdown",
            "source": [
                "4. Now, if you used more than one line to do number 3, try and do it in one line of code."
            ],
            "metadata": {}
        },
        {
            "cell_type": "code",
            "execution_count": 12,
            "source": [
                "my_favorite_numbers[my_favorite_numbers > mean(my_favorite_numbers)]"
            ],
            "outputs": [
                {
                    "output_type": "display_data",
                    "data": {
                        "text/plain": [
                            "[1]  42  47 101"
                        ],
                        "text/markdown": [
                            "1. 42\n",
                            "2. 47\n",
                            "3. 101\n",
                            "\n",
                            "\n"
                        ],
                        "text/latex": [
                            "\\begin{enumerate*}\n",
                            "\\item 42\n",
                            "\\item 47\n",
                            "\\item 101\n",
                            "\\end{enumerate*}\n"
                        ],
                        "text/html": [
                            "<style>\n",
                            ".list-inline {list-style: none; margin:0; padding: 0}\n",
                            ".list-inline>li {display: inline-block}\n",
                            ".list-inline>li:not(:last-child)::after {content: \"\\00b7\"; padding: 0 .5ex}\n",
                            "</style>\n",
                            "<ol class=list-inline><li>42</li><li>47</li><li>101</li></ol>\n"
                        ]
                    },
                    "metadata": {}
                }
            ],
            "metadata": {}
        }
    ],
    "metadata": {
        "orig_nbformat": 4,
        "language_info": {
            "name": "R",
            "codemirror_mode": "r",
            "pygments_lexer": "r",
            "mimetype": "text/x-r-source",
            "file_extension": ".r",
            "version": "4.1.0"
        },
        "kernelspec": {
            "name": "ir",
            "display_name": "R",
            "language": "R"
        }
    },
    "nbformat": 4,
    "nbformat_minor": 2
}