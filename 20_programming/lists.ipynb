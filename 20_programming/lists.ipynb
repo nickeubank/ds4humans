{
    "cells": [
        {
            "cell_type": "markdown",
            "source": [
                "# Lists\n",
                "\n",
                "Up till now, we've mostly been focused on vectors and matrices in different forms. Arrays like vectors and matrices are *extremely* important in data science, in part because constraining a collection of values to all be of the same time allows R to be much faster than it would be otherwise. \n",
                "\n",
                "**But** sometimes we need a more flexible data structure, and for that R has lists!\n",
                "\n",
                "In terms of how you work with them, lists are very similar to vectors -- the items in the list are ordered along one dimension so you can subset them with indices just like vectors, and you can also subset using logicals or by name. But list have two advantages over vectors:\n",
                "\n",
                "- The entries in a list don't all have to be the same type, and\n",
                "- You can put anything in a list, including big data structures like dataframes or even other lists!\n",
                "\n",
                "## Creating and Adding to Lists\n",
                "\n",
                "To create a list, just use `list()` instead of `c()`:"
            ],
            "metadata": {}
        },
        {
            "cell_type": "code",
            "execution_count": 26,
            "source": [
                "# Create a list with characters, a numeric,\n",
                "# a logical, a longer numeric, end even another list!\n",
                "my_list <- list(\"one\", 2, TRUE, c(1, 2, 3), list(1, 2, 3))\n",
                "my_list"
            ],
            "outputs": [
                {
                    "output_type": "display_data",
                    "data": {
                        "text/plain": [
                            "[[1]]\n",
                            "[1] \"one\"\n",
                            "\n",
                            "[[2]]\n",
                            "[1] 2\n",
                            "\n",
                            "[[3]]\n",
                            "[1] TRUE\n",
                            "\n",
                            "[[4]]\n",
                            "[1] 1 2 3\n",
                            "\n",
                            "[[5]]\n",
                            "[[5]][[1]]\n",
                            "[1] 1\n",
                            "\n",
                            "[[5]][[2]]\n",
                            "[1] 2\n",
                            "\n",
                            "[[5]][[3]]\n",
                            "[1] 3\n",
                            "\n"
                        ],
                        "text/markdown": [
                            "1. 'one'\n",
                            "2. 2\n",
                            "3. TRUE\n",
                            "4. 1. 1\n",
                            "2. 2\n",
                            "3. 3\n",
                            "\n",
                            "\n",
                            "\n",
                            "5. 1. 1\n",
                            "2. 2\n",
                            "3. 3\n",
                            "\n",
                            "\n",
                            "\n",
                            "\n",
                            "\n"
                        ],
                        "text/latex": [
                            "\\begin{enumerate}\n",
                            "\\item 'one'\n",
                            "\\item 2\n",
                            "\\item TRUE\n",
                            "\\item \\begin{enumerate*}\n",
                            "\\item 1\n",
                            "\\item 2\n",
                            "\\item 3\n",
                            "\\end{enumerate*}\n",
                            "\n",
                            "\\item \\begin{enumerate}\n",
                            "\\item 1\n",
                            "\\item 2\n",
                            "\\item 3\n",
                            "\\end{enumerate}\n",
                            "\n",
                            "\\end{enumerate}\n"
                        ],
                        "text/html": [
                            "<ol>\n",
                            "\t<li>'one'</li>\n",
                            "\t<li>2</li>\n",
                            "\t<li>TRUE</li>\n",
                            "\t<li><style>\n",
                            ".list-inline {list-style: none; margin:0; padding: 0}\n",
                            ".list-inline>li {display: inline-block}\n",
                            ".list-inline>li:not(:last-child)::after {content: \"\\00b7\"; padding: 0 .5ex}\n",
                            "</style>\n",
                            "<ol class=list-inline><li>1</li><li>2</li><li>3</li></ol>\n",
                            "</li>\n",
                            "\t<li><ol>\n",
                            "\t<li>1</li>\n",
                            "\t<li>2</li>\n",
                            "\t<li>3</li>\n",
                            "</ol>\n",
                            "</li>\n",
                            "</ol>\n"
                        ]
                    },
                    "metadata": {}
                }
            ],
            "metadata": {}
        },
        {
            "cell_type": "markdown",
            "source": [
                "And you can append things to the end of lists:"
            ],
            "metadata": {}
        },
        {
            "cell_type": "code",
            "execution_count": 16,
            "source": [
                "my_list <- append(my_list, \"five\")"
            ],
            "outputs": [
                {
                    "data": {
                        "text/plain": [
                            "[[1]]\n",
                            "[1] \"one\"\n",
                            "\n",
                            "[[2]]\n",
                            "[1] 2\n",
                            "\n",
                            "[[3]]\n",
                            "[1] \"three\"\n",
                            "\n",
                            "[[4]]\n",
                            "[1] 1 2 3\n",
                            "\n",
                            "[[5]]\n",
                            "[1] \"five\"\n"
                        ],
                        "text/markdown": [
                            "1. 'one'\n",
                            "2. 2\n",
                            "3. 'three'\n",
                            "4. 1. 1\n",
                            "2. 2\n",
                            "3. 3\n",
                            "\n",
                            "\n",
                            "\n",
                            "5. 'five'\n",
                            "\n",
                            "\n"
                        ],
                        "text/latex": [
                            "\\begin{enumerate}\n",
                            "\\item 'one'\n",
                            "\\item 2\n",
                            "\\item 'three'\n",
                            "\\item \\begin{enumerate*}\n",
                            "\\item 1\n",
                            "\\item 2\n",
                            "\\item 3\n",
                            "\\end{enumerate*}\n",
                            "\n",
                            "\\item 'five'\n",
                            "\\end{enumerate}\n"
                        ],
                        "text/html": [
                            "<ol>\n",
                            "\t<li>'one'</li>\n",
                            "\t<li>2</li>\n",
                            "\t<li>'three'</li>\n",
                            "\t<li><style>\n",
                            ".list-inline {list-style: none; margin:0; padding: 0}\n",
                            ".list-inline>li {display: inline-block}\n",
                            ".list-inline>li:not(:last-child)::after {content: \"\\00b7\"; padding: 0 .5ex}\n",
                            "</style>\n",
                            "<ol class=list-inline><li>1</li><li>2</li><li>3</li></ol>\n",
                            "</li>\n",
                            "\t<li>'five'</li>\n",
                            "</ol>\n"
                        ]
                    },
                    "metadata": {},
                    "output_type": "display_data"
                }
            ],
            "metadata": {}
        },
        {
            "cell_type": "markdown",
            "source": [
                "## Subsetting Lists\n",
                "\n",
                "Lists have a concept of order, so you can modify things by index, just like a vector:"
            ],
            "metadata": {}
        },
        {
            "cell_type": "code",
            "execution_count": 15,
            "source": [
                "# Change the third entry\n",
                "my_list[3] <- \"three\"\n",
                "my_list"
            ],
            "outputs": [
                {
                    "output_type": "display_data",
                    "data": {
                        "text/plain": [
                            "[[1]]\n",
                            "[1] \"one\"\n",
                            "\n",
                            "[[2]]\n",
                            "[1] 2\n",
                            "\n",
                            "[[3]]\n",
                            "[1] \"three\"\n",
                            "\n",
                            "[[4]]\n",
                            "[1] 1 2 3\n"
                        ],
                        "text/markdown": [
                            "1. 'one'\n",
                            "2. 2\n",
                            "3. 'three'\n",
                            "4. 1. 1\n",
                            "2. 2\n",
                            "3. 3\n",
                            "\n",
                            "\n",
                            "\n",
                            "\n",
                            "\n"
                        ],
                        "text/latex": [
                            "\\begin{enumerate}\n",
                            "\\item 'one'\n",
                            "\\item 2\n",
                            "\\item 'three'\n",
                            "\\item \\begin{enumerate*}\n",
                            "\\item 1\n",
                            "\\item 2\n",
                            "\\item 3\n",
                            "\\end{enumerate*}\n",
                            "\n",
                            "\\end{enumerate}\n"
                        ],
                        "text/html": [
                            "<ol>\n",
                            "\t<li>'one'</li>\n",
                            "\t<li>2</li>\n",
                            "\t<li>'three'</li>\n",
                            "\t<li><style>\n",
                            ".list-inline {list-style: none; margin:0; padding: 0}\n",
                            ".list-inline>li {display: inline-block}\n",
                            ".list-inline>li:not(:last-child)::after {content: \"\\00b7\"; padding: 0 .5ex}\n",
                            "</style>\n",
                            "<ol class=list-inline><li>1</li><li>2</li><li>3</li></ol>\n",
                            "</li>\n",
                            "</ol>\n"
                        ]
                    },
                    "metadata": {}
                }
            ],
            "metadata": {}
        },
        {
            "cell_type": "markdown",
            "source": [
                "And subsetting with logicals also works the same way. \n",
                "\n",
                "However, there is one odd feature of sub setting with lists: if you access them with single [] brackets, you get back *a list* with the things you wanted, not the things themselves. To just get the entry in the list itself, you have to use double [] brackets:"
            ],
            "metadata": {}
        },
        {
            "cell_type": "code",
            "execution_count": 18,
            "source": [
                "x <- my_list[1]\n",
                "x"
            ],
            "outputs": [
                {
                    "output_type": "display_data",
                    "data": {
                        "text/plain": [
                            "[[1]]\n",
                            "[1] \"one\"\n"
                        ],
                        "text/markdown": [
                            "1. 'one'\n",
                            "\n",
                            "\n"
                        ],
                        "text/latex": [
                            "\\begin{enumerate}\n",
                            "\\item 'one'\n",
                            "\\end{enumerate}\n"
                        ],
                        "text/html": [
                            "<ol>\n",
                            "\t<li>'one'</li>\n",
                            "</ol>\n"
                        ]
                    },
                    "metadata": {}
                }
            ],
            "metadata": {}
        },
        {
            "cell_type": "code",
            "execution_count": 19,
            "source": [
                "class(x)"
            ],
            "outputs": [
                {
                    "output_type": "display_data",
                    "data": {
                        "text/plain": [
                            "[1] \"list\""
                        ],
                        "text/markdown": [
                            "'list'"
                        ],
                        "text/latex": [
                            "'list'"
                        ],
                        "text/html": [
                            "'list'"
                        ]
                    },
                    "metadata": {}
                }
            ],
            "metadata": {}
        },
        {
            "cell_type": "code",
            "execution_count": 20,
            "source": [
                "y <- my_list[[1]]\n",
                "y"
            ],
            "outputs": [
                {
                    "output_type": "display_data",
                    "data": {
                        "text/plain": [
                            "[1] \"one\""
                        ],
                        "text/markdown": [
                            "'one'"
                        ],
                        "text/latex": [
                            "'one'"
                        ],
                        "text/html": [
                            "'one'"
                        ]
                    },
                    "metadata": {}
                }
            ],
            "metadata": {}
        },
        {
            "cell_type": "code",
            "execution_count": 21,
            "source": [
                "class(y)"
            ],
            "outputs": [
                {
                    "output_type": "display_data",
                    "data": {
                        "text/plain": [
                            "[1] \"character\""
                        ],
                        "text/markdown": [
                            "'character'"
                        ],
                        "text/latex": [
                            "'character'"
                        ],
                        "text/html": [
                            "'character'"
                        ]
                    },
                    "metadata": {}
                }
            ],
            "metadata": {}
        },
        {
            "cell_type": "markdown",
            "source": [
                "## Names and Lists\n",
                "\n",
                "List entries can also be named, and you can can get named entries out of list the same way we would with a vector. "
            ],
            "metadata": {}
        },
        {
            "cell_type": "code",
            "execution_count": 22,
            "source": [
                "my_list <- list(first = \"one\", second = \"two\")\n",
                "my_list"
            ],
            "outputs": [
                {
                    "output_type": "display_data",
                    "data": {
                        "text/plain": [
                            "$first\n",
                            "[1] \"one\"\n",
                            "\n",
                            "$second\n",
                            "[1] \"two\"\n"
                        ],
                        "text/markdown": [
                            "$first\n",
                            ":   'one'\n",
                            "$second\n",
                            ":   'two'\n",
                            "\n",
                            "\n"
                        ],
                        "text/latex": [
                            "\\begin{description}\n",
                            "\\item[\\$first] 'one'\n",
                            "\\item[\\$second] 'two'\n",
                            "\\end{description}\n"
                        ],
                        "text/html": [
                            "<dl>\n",
                            "\t<dt>$first</dt>\n",
                            "\t\t<dd>'one'</dd>\n",
                            "\t<dt>$second</dt>\n",
                            "\t\t<dd>'two'</dd>\n",
                            "</dl>\n"
                        ]
                    },
                    "metadata": {}
                }
            ],
            "metadata": {}
        },
        {
            "cell_type": "code",
            "execution_count": 24,
            "source": [
                "my_list[\"first\"]"
            ],
            "outputs": [
                {
                    "output_type": "display_data",
                    "data": {
                        "text/plain": [
                            "$first\n",
                            "[1] \"one\"\n"
                        ],
                        "text/markdown": [
                            "**$first** = 'one'"
                        ],
                        "text/latex": [
                            "\\textbf{\\$first} = 'one'"
                        ],
                        "text/html": [
                            "<strong>$first</strong> = 'one'"
                        ]
                    },
                    "metadata": {}
                }
            ],
            "metadata": {}
        },
        {
            "cell_type": "markdown",
            "source": [
                "However, named entries analyst can also be accessed with the `$` operator:"
            ],
            "metadata": {}
        },
        {
            "cell_type": "code",
            "execution_count": 23,
            "source": [
                "my_list$first"
            ],
            "outputs": [
                {
                    "output_type": "display_data",
                    "data": {
                        "text/plain": [
                            "[1] \"one\""
                        ],
                        "text/markdown": [
                            "'one'"
                        ],
                        "text/latex": [
                            "'one'"
                        ],
                        "text/html": [
                            "'one'"
                        ]
                    },
                    "metadata": {}
                }
            ],
            "metadata": {}
        },
        {
            "cell_type": "markdown",
            "source": [
                "Indeed, if this looks familiar, that's because it is: dataframes are basically just lists of vectors (were each vector in the list forms one of the columns of the dataframe), which is why we can use the `$` operator to get columns out of a dataframe!"
            ],
            "metadata": {}
        },
        {
            "cell_type": "markdown",
            "source": [
                "## Why Don't We Always Use Lists?\n",
                "\n",
                "Because they are slow! The same flexibility that makes less convenient also makes it hard for R to work with them quickly, so you only want to use them for caring around small collections of things, not for data sets.\n",
                "\n",
                "- Lists are great for small collections of heterogeneous data -- they provide great flexibility.\n",
                "- Lists are really valuable when you want to put complicated data structures into a collection -- for example if you want to carry around a couple matrices or a couple dataframes.\n",
                "- The fact that lists can hold other lists means that they are an example of a *recursive data structure*"
            ],
            "metadata": {}
        },
        {
            "cell_type": "markdown",
            "source": [],
            "metadata": {}
        }
    ],
    "metadata": {
        "orig_nbformat": 4,
        "language_info": {
            "name": "R",
            "codemirror_mode": "r",
            "pygments_lexer": "r",
            "mimetype": "text/x-r-source",
            "file_extension": ".r",
            "version": "4.1.0"
        },
        "kernelspec": {
            "name": "ir",
            "display_name": "R",
            "language": "R"
        }
    },
    "nbformat": 4,
    "nbformat_minor": 2
}