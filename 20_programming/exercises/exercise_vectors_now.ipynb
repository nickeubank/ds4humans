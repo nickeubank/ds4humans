{
    "cells": [
        {
            "cell_type": "markdown",
            "source": [
                "# Vector Exercises"
            ],
            "metadata": {}
        },
        {
            "cell_type": "markdown",
            "source": [
                "## Exercise 1: Favorite Numbers\n",
                "\n",
                "1. make a vector called `my_favorite_numbers` with at least 6 of your favorite numbers. (hint: use the `c()` function to concatenate or combine numbers into a vector)\n",
                "2. use the `mean` function to find out the average of your favorite numbers. \n",
                "3. How many numbers did you put in your vector? Find out using the `length` function!\n",
                "4. Create a vector will all the numbers from 1-10 *without* typing out all the numbers from 1 to 10.\n",
                "5. Now double all the values of `first_ten` in one operation.\n",
                "6. Now create a new variable by adding `first_ten` to itself."
            ],
            "metadata": {}
        },
        {
            "cell_type": "markdown",
            "source": [
                "## Exercise 2: Subsetting Your Favorites"
            ],
            "metadata": {}
        },
        {
            "cell_type": "markdown",
            "source": [
                "Now suppose you only want the big values of `my_favorite_numbers`.\n",
                "\n",
                "1. First, let's make a vector of true/false logical vectors. Create a logical vector that is true if the number is greater than `5` called `big`. If you look at `big`, do the values make sense?\n",
                "2. Now use `big` to return only the values of `my_favorite_numbers` that are greater than 5.\n",
                "3. Now, using the same logic, try and get all the values of `my_favorite_numbers` that are bigger than the average of `my_favorite_numbers`. (Hint: you'll need to use a function we've seen.)\n",
                "4. Now, if you used more than one line to do number 3, try and do it in one line of code."
            ],
            "metadata": {}
        },
        {
            "cell_type": "markdown",
            "source": [
                "## Solutions\n",
                "\n",
                "Here’s the deal with programming: the only way to learn to program is to wrestle with solving your own problems. The [best way to learn is to do so actively](https://cft.vanderbilt.edu/wp-content/uploads/sites/59/Active-Learning.pdf) – if you just look at answers as soon as you get stuck, your process is more passive. You may feel like you’re learning more, but research shows that that’s an illusion – students who learn passively think they’re learning more than they are ([a summary of work in this area is here](https://news.harvard.edu/gazette/story/2019/09/study-shows-that-students-learn-more-when-taking-part-in-classrooms-that-employ-active-learning-strategies/)). \n",
                "\n",
                "Moreover, in coding in particular, the process of debugging your code is a critical skill in and of itself, and the only way you will learn to do it is by literally spending hours working through your own problems. And once you’ve seen an answer, there’s no way to unsee it, so proceed only if you absolutely have to.\n",
                "\n",
                "OK, if you still want to proceed, you can find [solutions here](solutions/solution_vectors_now.ipynb)."
            ],
            "metadata": {}
        }
    ],
    "metadata": {
        "orig_nbformat": 4,
        "language_info": {
            "name": "R"
        },
        "kernelspec": {
            "name": "ir",
            "display_name": "R"
        }
    },
    "nbformat": 4,
    "nbformat_minor": 2
}