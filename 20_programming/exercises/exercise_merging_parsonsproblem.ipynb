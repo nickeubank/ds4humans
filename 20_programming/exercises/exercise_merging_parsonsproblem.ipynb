{
    "cells": [
        {
            "cell_type": "markdown",
            "source": [
                "# Economic Inequality Parson's Problem \n",
                "\n",
                "\n",
                "Today we will be borrowing an exercise from [Simon Ejdemyr](https://sejdemyr.github.io/), a former classmate of mine and the author of the set of R tutorials that inspired this page.\n",
                "\n",
                "## Our Goal\n",
                "\n",
                "A prominent economic theory predicts that higher income inequality should be associated with more redistribution from the rich to the poor (Meltzer and Richard 1981). Let’s create a dataset that will allow us to test this prediction using U.S. state-level data. Our goal is to look at the correlation between income inequality and state taxes per capita (i.e. the amount of taxes each state collects from each resident on average). I am happy if we just look at this for one year (say 2010).\n",
                "\n",
                "## Our Data\n",
                "\n",
                "We have four datasets:\n",
                "\n",
                "- State-level measure of inequality (Gini coefficient, and Share of Income Going to Top 1% and 10%s).\n",
                "- Total state taxes and total state income taxes.\n",
                "- State populations.\n",
                "- A dataset that has state names (written out) and state codes (called FIPS codes).\n",
                "\n",
                "## Parson's Problem\n",
                "\n",
                "Our approach to analyzing this data will be a little different from past exercises -- instead of having you write all the code, I'm going to *give* you all the code we need. The catch? It's all out of order. \n",
                "\n",
                "Your job will be to take the jumbled code I give you and put it the correct order to accomplish all the steps required to analyze this data laid out in an outline script. \n",
                "\n",
                "You can find [all the code you'll need here](https://github.com/nickeubank/computational_methods_boot_camp/blob/main/source/exercises/MergingAndAnalyzing_Inequality_Code.R), and [your project outline here](https://github.com/nickeubank/computational_methods_boot_camp/blob/main/source/exercises/MergingAndAnalyzing_Inequality_Outline.R). (You will probably want to click `Raw` and \"Save Page As...\" to save these to your computer as .R files.) Open both in RStudio to get started. "
            ],
            "metadata": {}
        }
    ],
    "metadata": {
        "orig_nbformat": 4,
        "language_info": {
            "name": "r"
        }
    },
    "nbformat": 4,
    "nbformat_minor": 2
}