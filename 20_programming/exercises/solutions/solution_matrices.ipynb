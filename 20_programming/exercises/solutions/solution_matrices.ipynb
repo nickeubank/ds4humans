{
    "cells": [
        {
            "cell_type": "markdown",
            "source": [
                "# Matrix Exercises\n",
                "\n",
                "For the following matrix manipulation exercises, begin by building the following matrix (you'll probably want to just copy-paste this code), which we can imagine is a survey of age, education and income:"
            ],
            "metadata": {}
        },
        {
            "cell_type": "code",
            "execution_count": 1,
            "source": [
                "income <- c(22000, 65000, 19000, 110000, 14000, 0, 35000)\n",
                "age <- c(20, 35, 55, 35, 21, 56, 42)\n",
                "education <- c(12, 16, 11, 22, 12, 8, 12)\n",
                "\n",
                "svy <- cbind(income, age, education)\n",
                "svy"
            ],
            "outputs": [
                {
                    "output_type": "display_data",
                    "data": {
                        "text/plain": [
                            "     income age education\n",
                            "[1,]  22000 20  12       \n",
                            "[2,]  65000 35  16       \n",
                            "[3,]  19000 55  11       \n",
                            "[4,] 110000 35  22       \n",
                            "[5,]  14000 21  12       \n",
                            "[6,]      0 56   8       \n",
                            "[7,]  35000 42  12       "
                        ],
                        "text/markdown": [
                            "\n",
                            "A matrix: 7 × 3 of type dbl\n",
                            "\n",
                            "| income | age | education |\n",
                            "|---|---|---|\n",
                            "|  22000 | 20 | 12 |\n",
                            "|  65000 | 35 | 16 |\n",
                            "|  19000 | 55 | 11 |\n",
                            "| 110000 | 35 | 22 |\n",
                            "|  14000 | 21 | 12 |\n",
                            "|      0 | 56 |  8 |\n",
                            "|  35000 | 42 | 12 |\n",
                            "\n"
                        ],
                        "text/latex": [
                            "A matrix: 7 × 3 of type dbl\n",
                            "\\begin{tabular}{lll}\n",
                            " income & age & education\\\\\n",
                            "\\hline\n",
                            "\t  22000 & 20 & 12\\\\\n",
                            "\t  65000 & 35 & 16\\\\\n",
                            "\t  19000 & 55 & 11\\\\\n",
                            "\t 110000 & 35 & 22\\\\\n",
                            "\t  14000 & 21 & 12\\\\\n",
                            "\t      0 & 56 &  8\\\\\n",
                            "\t  35000 & 42 & 12\\\\\n",
                            "\\end{tabular}\n"
                        ],
                        "text/html": [
                            "<table class=\"dataframe\">\n",
                            "<caption>A matrix: 7 × 3 of type dbl</caption>\n",
                            "<thead>\n",
                            "\t<tr><th scope=col>income</th><th scope=col>age</th><th scope=col>education</th></tr>\n",
                            "</thead>\n",
                            "<tbody>\n",
                            "\t<tr><td> 22000</td><td>20</td><td>12</td></tr>\n",
                            "\t<tr><td> 65000</td><td>35</td><td>16</td></tr>\n",
                            "\t<tr><td> 19000</td><td>55</td><td>11</td></tr>\n",
                            "\t<tr><td>110000</td><td>35</td><td>22</td></tr>\n",
                            "\t<tr><td> 14000</td><td>21</td><td>12</td></tr>\n",
                            "\t<tr><td>     0</td><td>56</td><td> 8</td></tr>\n",
                            "\t<tr><td> 35000</td><td>42</td><td>12</td></tr>\n",
                            "</tbody>\n",
                            "</table>\n"
                        ]
                    },
                    "metadata": {}
                }
            ],
            "metadata": {}
        },
        {
            "cell_type": "markdown",
            "source": [
                "## Exercise 1: Summarizing Data\n",
                "\n",
                "1. What is the average age of all respondents?"
            ],
            "metadata": {}
        },
        {
            "cell_type": "code",
            "execution_count": 2,
            "source": [
                "mean(svy[, \"age\"])"
            ],
            "outputs": [
                {
                    "output_type": "display_data",
                    "data": {
                        "text/plain": [
                            "[1] 37.71429"
                        ],
                        "text/markdown": [
                            "37.7142857142857"
                        ],
                        "text/latex": [
                            "37.7142857142857"
                        ],
                        "text/html": [
                            "37.7142857142857"
                        ]
                    },
                    "metadata": {}
                }
            ],
            "metadata": {}
        },
        {
            "cell_type": "markdown",
            "source": [
                "2. What is the average income of respondents over 30?"
            ],
            "metadata": {}
        },
        {
            "cell_type": "code",
            "execution_count": 3,
            "source": [
                "mean(svy[svy[, \"age\"] > 30, \"income\"])"
            ],
            "outputs": [
                {
                    "output_type": "display_data",
                    "data": {
                        "text/plain": [
                            "[1] 45800"
                        ],
                        "text/markdown": [
                            "45800"
                        ],
                        "text/latex": [
                            "45800"
                        ],
                        "text/html": [
                            "45800"
                        ]
                    },
                    "metadata": {}
                }
            ],
            "metadata": {}
        },
        {
            "cell_type": "markdown",
            "source": [
                "3. What is the average education of respondents with incomes above the average income for all respondents?"
            ],
            "metadata": {}
        },
        {
            "cell_type": "code",
            "execution_count": 4,
            "source": [
                "# Broken out\n",
                "avg_income <- mean(svy[, \"income\"])\n",
                "rows_above_avg <- svy[, \"income\"] > avg_income\n",
                "educs_of_above_avg <- svy[rows_above_avg, \"education\"]\n",
                "mean(educs_of_above_avg)"
            ],
            "outputs": [
                {
                    "output_type": "display_data",
                    "data": {
                        "text/plain": [
                            "[1] 19"
                        ],
                        "text/markdown": [
                            "19"
                        ],
                        "text/latex": [
                            "19"
                        ],
                        "text/html": [
                            "19"
                        ]
                    },
                    "metadata": {}
                }
            ],
            "metadata": {}
        },
        {
            "cell_type": "code",
            "execution_count": 5,
            "source": [
                "# Condensed as much as I'd like\n",
                "avg_income <- mean(svy[, \"income\"])\n",
                "mean(svy[svy[, \"income\"] > avg_income, \"education\"])"
            ],
            "outputs": [
                {
                    "output_type": "display_data",
                    "data": {
                        "text/plain": [
                            "[1] 19"
                        ],
                        "text/markdown": [
                            "19"
                        ],
                        "text/latex": [
                            "19"
                        ],
                        "text/html": [
                            "19"
                        ]
                    },
                    "metadata": {}
                }
            ],
            "metadata": {}
        },
        {
            "cell_type": "markdown",
            "source": [
                "\n",
                "## Exercise 2: Editing Data\n",
                "\n",
                "The US government is thinking about offering a 10,000 tax credit to anyone making less than 20,000 a year. \n",
                "\n",
                "Using `cbind`, add a new column to the matrix called \"after_tax_income\" populated with the incomes individuals will get *after* receiving the tax credit if they are eligible. Hint: you may wish to break this down into several steps."
            ],
            "metadata": {}
        },
        {
            "cell_type": "code",
            "execution_count": 6,
            "source": [
                "after_tax_income <- svy[, \"income\"]\n",
                "updated_survey <- cbind(svy, after_tax_income)\n",
                "updated_survey"
            ],
            "outputs": [
                {
                    "output_type": "display_data",
                    "data": {
                        "text/plain": [
                            "     income age education after_tax_income\n",
                            "[1,]  22000 20  12         22000          \n",
                            "[2,]  65000 35  16         65000          \n",
                            "[3,]  19000 55  11         19000          \n",
                            "[4,] 110000 35  22        110000          \n",
                            "[5,]  14000 21  12         14000          \n",
                            "[6,]      0 56   8             0          \n",
                            "[7,]  35000 42  12         35000          "
                        ],
                        "text/markdown": [
                            "\n",
                            "A matrix: 7 × 4 of type dbl\n",
                            "\n",
                            "| income | age | education | after_tax_income |\n",
                            "|---|---|---|---|\n",
                            "|  22000 | 20 | 12 |  22000 |\n",
                            "|  65000 | 35 | 16 |  65000 |\n",
                            "|  19000 | 55 | 11 |  19000 |\n",
                            "| 110000 | 35 | 22 | 110000 |\n",
                            "|  14000 | 21 | 12 |  14000 |\n",
                            "|      0 | 56 |  8 |      0 |\n",
                            "|  35000 | 42 | 12 |  35000 |\n",
                            "\n"
                        ],
                        "text/latex": [
                            "A matrix: 7 × 4 of type dbl\n",
                            "\\begin{tabular}{llll}\n",
                            " income & age & education & after\\_tax\\_income\\\\\n",
                            "\\hline\n",
                            "\t  22000 & 20 & 12 &  22000\\\\\n",
                            "\t  65000 & 35 & 16 &  65000\\\\\n",
                            "\t  19000 & 55 & 11 &  19000\\\\\n",
                            "\t 110000 & 35 & 22 & 110000\\\\\n",
                            "\t  14000 & 21 & 12 &  14000\\\\\n",
                            "\t      0 & 56 &  8 &      0\\\\\n",
                            "\t  35000 & 42 & 12 &  35000\\\\\n",
                            "\\end{tabular}\n"
                        ],
                        "text/html": [
                            "<table class=\"dataframe\">\n",
                            "<caption>A matrix: 7 × 4 of type dbl</caption>\n",
                            "<thead>\n",
                            "\t<tr><th scope=col>income</th><th scope=col>age</th><th scope=col>education</th><th scope=col>after_tax_income</th></tr>\n",
                            "</thead>\n",
                            "<tbody>\n",
                            "\t<tr><td> 22000</td><td>20</td><td>12</td><td> 22000</td></tr>\n",
                            "\t<tr><td> 65000</td><td>35</td><td>16</td><td> 65000</td></tr>\n",
                            "\t<tr><td> 19000</td><td>55</td><td>11</td><td> 19000</td></tr>\n",
                            "\t<tr><td>110000</td><td>35</td><td>22</td><td>110000</td></tr>\n",
                            "\t<tr><td> 14000</td><td>21</td><td>12</td><td> 14000</td></tr>\n",
                            "\t<tr><td>     0</td><td>56</td><td> 8</td><td>     0</td></tr>\n",
                            "\t<tr><td> 35000</td><td>42</td><td>12</td><td> 35000</td></tr>\n",
                            "</tbody>\n",
                            "</table>\n"
                        ]
                    },
                    "metadata": {}
                }
            ],
            "metadata": {}
        },
        {
            "cell_type": "code",
            "execution_count": 7,
            "source": [
                "under_20000 <- updated_survey[, \"income\"] < 20000\n",
                "updated_survey[under_20000, \"after_tax_income\"] = updated_survey[under_20000, \"after_tax_income\"] + 10000\n",
                "updated_survey"
            ],
            "outputs": [
                {
                    "output_type": "display_data",
                    "data": {
                        "text/plain": [
                            "     income age education after_tax_income\n",
                            "[1,]  22000 20  12         22000          \n",
                            "[2,]  65000 35  16         65000          \n",
                            "[3,]  19000 55  11         29000          \n",
                            "[4,] 110000 35  22        110000          \n",
                            "[5,]  14000 21  12         24000          \n",
                            "[6,]      0 56   8         10000          \n",
                            "[7,]  35000 42  12         35000          "
                        ],
                        "text/markdown": [
                            "\n",
                            "A matrix: 7 × 4 of type dbl\n",
                            "\n",
                            "| income | age | education | after_tax_income |\n",
                            "|---|---|---|---|\n",
                            "|  22000 | 20 | 12 |  22000 |\n",
                            "|  65000 | 35 | 16 |  65000 |\n",
                            "|  19000 | 55 | 11 |  29000 |\n",
                            "| 110000 | 35 | 22 | 110000 |\n",
                            "|  14000 | 21 | 12 |  24000 |\n",
                            "|      0 | 56 |  8 |  10000 |\n",
                            "|  35000 | 42 | 12 |  35000 |\n",
                            "\n"
                        ],
                        "text/latex": [
                            "A matrix: 7 × 4 of type dbl\n",
                            "\\begin{tabular}{llll}\n",
                            " income & age & education & after\\_tax\\_income\\\\\n",
                            "\\hline\n",
                            "\t  22000 & 20 & 12 &  22000\\\\\n",
                            "\t  65000 & 35 & 16 &  65000\\\\\n",
                            "\t  19000 & 55 & 11 &  29000\\\\\n",
                            "\t 110000 & 35 & 22 & 110000\\\\\n",
                            "\t  14000 & 21 & 12 &  24000\\\\\n",
                            "\t      0 & 56 &  8 &  10000\\\\\n",
                            "\t  35000 & 42 & 12 &  35000\\\\\n",
                            "\\end{tabular}\n"
                        ],
                        "text/html": [
                            "<table class=\"dataframe\">\n",
                            "<caption>A matrix: 7 × 4 of type dbl</caption>\n",
                            "<thead>\n",
                            "\t<tr><th scope=col>income</th><th scope=col>age</th><th scope=col>education</th><th scope=col>after_tax_income</th></tr>\n",
                            "</thead>\n",
                            "<tbody>\n",
                            "\t<tr><td> 22000</td><td>20</td><td>12</td><td> 22000</td></tr>\n",
                            "\t<tr><td> 65000</td><td>35</td><td>16</td><td> 65000</td></tr>\n",
                            "\t<tr><td> 19000</td><td>55</td><td>11</td><td> 29000</td></tr>\n",
                            "\t<tr><td>110000</td><td>35</td><td>22</td><td>110000</td></tr>\n",
                            "\t<tr><td> 14000</td><td>21</td><td>12</td><td> 24000</td></tr>\n",
                            "\t<tr><td>     0</td><td>56</td><td> 8</td><td> 10000</td></tr>\n",
                            "\t<tr><td> 35000</td><td>42</td><td>12</td><td> 35000</td></tr>\n",
                            "</tbody>\n",
                            "</table>\n"
                        ]
                    },
                    "metadata": {}
                }
            ],
            "metadata": {}
        }
    ],
    "metadata": {
        "orig_nbformat": 4,
        "language_info": {
            "name": "R",
            "codemirror_mode": "r",
            "pygments_lexer": "r",
            "mimetype": "text/x-r-source",
            "file_extension": ".r",
            "version": "4.1.0"
        },
        "kernelspec": {
            "name": "ir",
            "display_name": "R",
            "language": "R"
        }
    },
    "nbformat": 4,
    "nbformat_minor": 2
}