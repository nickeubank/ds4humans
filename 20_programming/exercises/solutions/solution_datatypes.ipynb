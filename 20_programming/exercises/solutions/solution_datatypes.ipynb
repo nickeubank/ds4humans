{
    "cells": [
        {
            "cell_type": "markdown",
            "source": [
                "# Practicing Assignment and Data Types"
            ],
            "metadata": {}
        },
        {
            "cell_type": "markdown",
            "source": [
                "Hello and welcome to your first R exercises!\n",
                "\n",
                "To complete these, please open RSTudio and create a NEW text file. Make sure that you save it with a `.R` at the end of the file name, since that's how RStudio knows the file is for R code. \n",
                "\n",
                "Then complete the following exercises in that text file, using comments (lines that start with `#`) to explain what each line does. \n",
                "\n",
                "## Exercise 1: Assigning values\n",
                "\n",
                "1. Assign the numeric value 42 to a variable called `the_answer`.\n"
            ],
            "metadata": {}
        },
        {
            "cell_type": "code",
            "execution_count": 2,
            "source": [
                "the_answer <- 42"
            ],
            "outputs": [],
            "metadata": {}
        },
        {
            "cell_type": "markdown",
            "source": [
                "2. Now create a new variable (you can call it whatever you want) that is equal to double `the_answer`."
            ],
            "metadata": {}
        },
        {
            "cell_type": "code",
            "execution_count": 3,
            "source": [
                "doubled <- the_answer * 2"
            ],
            "outputs": [],
            "metadata": {}
        },
        {
            "cell_type": "markdown",
            "source": [
                "\n",
                "## Exercise 2: Functions!\n",
                "\n",
                "1. Use `print()` to print out the value of `the_answer`"
            ],
            "metadata": {}
        },
        {
            "cell_type": "code",
            "execution_count": 4,
            "source": [
                "print(the_answer)"
            ],
            "outputs": [
                {
                    "output_type": "stream",
                    "name": "stdout",
                    "text": [
                        "[1] 42\n"
                    ]
                }
            ],
            "metadata": {}
        },
        {
            "cell_type": "markdown",
            "source": [
                "2. Create a new variable called `answer_divided_by_9` that is `the_answer` divided by 9. "
            ],
            "metadata": {}
        },
        {
            "cell_type": "code",
            "execution_count": 5,
            "source": [
                "answer_divided_by_9 <- the_answer / 9\n",
                "answer_divided_by_9"
            ],
            "outputs": [
                {
                    "output_type": "display_data",
                    "data": {
                        "text/plain": [
                            "[1] 4.666667"
                        ],
                        "text/markdown": [
                            "4.66666666666667"
                        ],
                        "text/latex": [
                            "4.66666666666667"
                        ],
                        "text/html": [
                            "4.66666666666667"
                        ]
                    },
                    "metadata": {}
                }
            ],
            "metadata": {}
        },
        {
            "cell_type": "markdown",
            "source": [
                "3. Using `print()` and `round()`, print out `answer_divided_by_9` rounded to *two* decimal places."
            ],
            "metadata": {}
        },
        {
            "cell_type": "code",
            "execution_count": 7,
            "source": [
                "print(round(answer_divided_by_9, digits = 2))"
            ],
            "outputs": [
                {
                    "output_type": "stream",
                    "name": "stdout",
                    "text": [
                        "[1] 4.67\n"
                    ]
                }
            ],
            "metadata": {}
        },
        {
            "cell_type": "markdown",
            "source": [
                "4. Now create a variable called `answer_divided_by_5` that's `the_answer` divided by 5. Use round to print out `answer_divided_by_5` to two decimal places. Did it work as you expected? Can you tell why things came out differently?"
            ],
            "metadata": {}
        },
        {
            "cell_type": "code",
            "execution_count": 8,
            "source": [
                "answer_divided_by_5 <- the_answer / 5\n",
                "print(round(answer_divided_by_5, digits = 2))"
            ],
            "outputs": [
                {
                    "output_type": "stream",
                    "name": "stdout",
                    "text": [
                        "[1] 8.4\n"
                    ]
                }
            ],
            "metadata": {}
        },
        {
            "cell_type": "code",
            "execution_count": 9,
            "source": [
                "# It only printed one decimal because the\n",
                "# second decimal is 0, and R doesn't print\n",
                "# trailing zeros apparently."
            ],
            "outputs": [],
            "metadata": {}
        },
        {
            "cell_type": "markdown",
            "source": [
                "\n",
                "## Exercise 3: Different types\n",
                "\n",
                "1. Create a variable called `my_age` and set it equal to your age\n"
            ],
            "metadata": {}
        },
        {
            "cell_type": "code",
            "execution_count": 10,
            "source": [
                "my_age <- 35"
            ],
            "outputs": [],
            "metadata": {}
        },
        {
            "cell_type": "markdown",
            "source": [
                "2. Check the class of `my_age` using the `class()` function."
            ],
            "metadata": {}
        },
        {
            "cell_type": "code",
            "execution_count": 11,
            "source": [
                "class(my_age)"
            ],
            "outputs": [
                {
                    "output_type": "display_data",
                    "data": {
                        "text/plain": [
                            "[1] \"numeric\""
                        ],
                        "text/markdown": [
                            "'numeric'"
                        ],
                        "text/latex": [
                            "'numeric'"
                        ],
                        "text/html": [
                            "'numeric'"
                        ]
                    },
                    "metadata": {}
                }
            ],
            "metadata": {}
        },
        {
            "cell_type": "markdown",
            "source": [
                "3. Create a variable called `my_dog` and set it equal to the name of your dog. (If you do not have a dog, pretend you do What's your pretend dog's name?)"
            ],
            "metadata": {}
        },
        {
            "cell_type": "code",
            "execution_count": 12,
            "source": [
                "my_dog <- \"Trillian\""
            ],
            "outputs": [],
            "metadata": {}
        },
        {
            "cell_type": "markdown",
            "source": [
                "4. What's the class of `my_dog`?"
            ],
            "metadata": {}
        },
        {
            "cell_type": "code",
            "execution_count": 13,
            "source": [
                "class(my_dog)"
            ],
            "outputs": [
                {
                    "output_type": "display_data",
                    "data": {
                        "text/plain": [
                            "[1] \"character\""
                        ],
                        "text/markdown": [
                            "'character'"
                        ],
                        "text/latex": [
                            "'character'"
                        ],
                        "text/html": [
                            "'character'"
                        ]
                    },
                    "metadata": {}
                }
            ],
            "metadata": {}
        },
        {
            "cell_type": "markdown",
            "source": [
                "5. Now the weird one. Create a variable called `seven` and assign in the value `\"7\"` in quotes. What's the class of `7`? Why is it not numeric?"
            ],
            "metadata": {}
        },
        {
            "cell_type": "code",
            "execution_count": 14,
            "source": [
                "seven <- \"7\"\n",
                "class(seven)"
            ],
            "outputs": [
                {
                    "output_type": "display_data",
                    "data": {
                        "text/plain": [
                            "[1] \"character\""
                        ],
                        "text/markdown": [
                            "'character'"
                        ],
                        "text/latex": [
                            "'character'"
                        ],
                        "text/html": [
                            "'character'"
                        ]
                    },
                    "metadata": {}
                }
            ],
            "metadata": {}
        },
        {
            "cell_type": "markdown",
            "source": [
                "6. What happens if you add `my_age` and `seven`?"
            ],
            "metadata": {}
        },
        {
            "cell_type": "markdown",
            "source": [
                "```R\n",
                "my_age + seven\n",
                "\n",
                "> ERROR: Error in my_age + seven: non-numeric argument to binary operator\n",
                "> Error in my_age + seven: non-numeric argument to binary operator\n",
                "> Traceback:\n",
                "```"
            ],
            "metadata": {}
        },
        {
            "cell_type": "markdown",
            "source": [
                "7. To convert `seven` to a numeric type, type `seven = as.numeric(seven)`. Now check it's class again."
            ],
            "metadata": {}
        },
        {
            "cell_type": "code",
            "execution_count": 17,
            "source": [
                "seven <- as.numeric(seven)\n",
                "class(seven)"
            ],
            "outputs": [
                {
                    "output_type": "display_data",
                    "data": {
                        "text/plain": [
                            "[1] \"numeric\""
                        ],
                        "text/markdown": [
                            "'numeric'"
                        ],
                        "text/latex": [
                            "'numeric'"
                        ],
                        "text/html": [
                            "'numeric'"
                        ]
                    },
                    "metadata": {}
                }
            ],
            "metadata": {}
        },
        {
            "cell_type": "markdown",
            "source": [
                "\n",
                "\n",
                "8. Now can you add `my_age` to `seven`?"
            ],
            "metadata": {}
        },
        {
            "cell_type": "code",
            "execution_count": 18,
            "source": [
                "my_age + seven"
            ],
            "outputs": [
                {
                    "output_type": "display_data",
                    "data": {
                        "text/plain": [
                            "[1] 42"
                        ],
                        "text/markdown": [
                            "42"
                        ],
                        "text/latex": [
                            "42"
                        ],
                        "text/html": [
                            "42"
                        ]
                    },
                    "metadata": {}
                }
            ],
            "metadata": {}
        }
    ],
    "metadata": {
        "orig_nbformat": 4,
        "language_info": {
            "name": "R",
            "codemirror_mode": "r",
            "pygments_lexer": "r",
            "mimetype": "text/x-r-source",
            "file_extension": ".r",
            "version": "4.1.0"
        },
        "kernelspec": {
            "name": "ir",
            "display_name": "R",
            "language": "R"
        }
    },
    "nbformat": 4,
    "nbformat_minor": 2
}