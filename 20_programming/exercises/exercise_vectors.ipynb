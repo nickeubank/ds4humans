{
    "cells": [
        {
            "cell_type": "markdown",
            "source": [
                "# Vector Exercises: Family and Friends"
            ],
            "metadata": {}
        },
        {
            "cell_type": "markdown",
            "source": [
                "Create a vector that represents the age of at least four different family members or friends. You can name it whatever you want.\n",
                "\n",
                "1. What is the mean age of the people in your vector? Find out in two ways,\n",
                "with and without using the `mean()` command.\n",
                "\n",
                "2. How old is the youngest person in your vector? (Use an R command to find out.)\n",
                "\n",
                "3. What is the age gap between the youngest person and the oldest person in your vector?\n",
                "(Again use R to find out, and try to be as general as possible in the sense that\n",
                "your code should work even if the elements in your vector, or their order, change.)\n",
                "\n",
                "4. How many people in your vector are above age 25? (Again, try to make your code\n",
                "work even in the case that your vector changes.)\n",
                "\n",
                "5. Replace the age of the oldest person in your vector with the age of someone\n",
                "else you know.\n",
                "\n",
                "6. Create a new vector that indicates how old each person in your vector\n",
                "will be in 10 years.\n",
                "\n",
                "7. Create a new vector that indicates what year each person in your vector\n",
                "will turn 100 years old.\n",
                "\n",
                "8. Create a new vector with a random sample of 3 individuals from your\n",
                "original vector. What is the mean age of the people in this new\n",
                "vector?\n"
            ],
            "metadata": {}
        }
    ],
    "metadata": {
        "orig_nbformat": 4,
        "language_info": {
            "name": "R"
        },
        "kernelspec": {
            "name": "ir",
            "display_name": "R",
            "language": "R"
        }
    },
    "nbformat": 4,
    "nbformat_minor": 2
}