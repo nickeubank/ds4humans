{
 "cells": [
  {
   "cell_type": "markdown",
   "source": [
    "# Defensive Programming\n",
    "\n",
    "\n",
    "In recent years, the social sciences have been struggling with a wave of papers that have turned out to have problems not because of problems of theory, or choice of statistical models, but rather because of simple programming errors. In perhaps the most embarassing, Steven Levitt (co-author of the acclaimed Freakonomics, and winner of one of the most prestigious awards in economics) had a paper about the political explosive (at least in the US) topic of abortion and crime that turned out to be wrong [because he hadn't put a set of controls into a regression he thought he had (may require sign-in, though I think you can see without paying).](https://www.economist.com/finance-and-economics/2005/12/01/oops-onomics) Moreover, as some of [my own work has shown](https://thepoliticalmethodologist.com/2014/12/09/a-decade-of-replications-lessons-from-the-quarterly-journal-of-political-science/), the replication packages that come with a substantial number of political science papers have problems, often generating results that do not match those in the published paper. \n",
    "\n",
    "In reading this, it's natural to think that the reason we find problems in the code behind published papers is carelessness or inattention on behalf of authors, and that the key to minimizing problems in our code is to be more careful. The truth, I have come to believe, is more subtle: humans are effectively incapable of writing error-free code, and that if we wish to improve the quality of the code we write, we must start learning and teaching coding skills that help maximize the probability our mistakes will be found and corrected.\n",
    "\n",
    "I myself once firmly believed the fallacy that the key to preventing errors was \"to be more careful.\" Indeed, I fear this belief may have colored the tone of of my past work on this subject in unproductive ways. Over the last several years, however, my research has brought me into close contact with computer scientists, and I discovered that computer scientists' mentality about programming is fundamentally different from the mental model I had been carrying around as a social scientist. Computer scientists *assume* programmers will make mistakes, and instead of chiding people to \"just be careful,\" they have developed a battery of practices to address the problem. These practices – often referred to as \"defensive programming\" skills – are designed to (a) minimize the probability mistakes occur and (b) maximize the probability that mistakes that do occur are caught.\n",
    "\n",
    "In this tutorial, we'll cover a number of these defensive programming practices with an eye towards their application in the context of applied data science. I did not invent any of these practices, but you will likely find that the way I present them (and the use-cases I emphasize) will differ from most other presentations you will find online. That is because in this tutorial, I will focus on the type of applied data analysis common in the social sciences, natural science, or business analysis, rather than the type of \"software engineering\" applications where these methods are most commonly applied. "
   ],
   "metadata": {}
  },
  {
   "cell_type": "markdown",
   "source": [
    "## Style Matters\n",
    "\n",
    "Formatting isn't just about aesthetics, they also make code easier to read. This not only helps other people read your code, but it will also help you recognize potential problems in our own code. \n",
    "\n",
    "Here are a few rules of thumb for good code:\n",
    "\n",
    "- **Use informative variable names.** Don't call something `var212` if you can call it `unemployment_percentage`. Informative names require more typing, but they make your code so much easier to read. Moreover, including units in your variables names (`percentage`, `km`, etc.) can also help avoid confusion.\n",
    "- **Comment!** Comments help in two ways. First, and most obviously, they make it easy to figure out what's going on when you come back to code days, weeks, or months after it was originally written. And second, it forces you to think about what you're doing in _substantive_ terms (\"This section calculates the share of people within each occupation who have college degrees\") rather than just in programming logic, which can help you catch _substantive_ problems with code that may run without problems but will not actually generate the quantity of interest.\n",
    "- **Use indentation.** Indentation is a way of visually representing the logical structure of code -- use it to your advantage!\n",
    "- **Let your code breathe.** In general, you should put a space between every operator in your code, and feel free to use empty lines. Space makes your code more readable, as illustrated in the following examples:"
   ],
   "metadata": {}
  },
  {
   "cell_type": "markdown",
   "source": [
    "To illustrate, here's some bad code for saving someone's income and trying to compute after-tax income:"
   ],
   "metadata": {}
  },
  {
   "cell_type": "code",
   "execution_count": 1,
   "source": [
    "x<-20000\n",
    "y<-x*0.23+1500"
   ],
   "outputs": [],
   "metadata": {}
  },
  {
   "cell_type": "markdown",
   "source": [
    "Here's a much better version of the same code:"
   ],
   "metadata": {}
  },
  {
   "cell_type": "code",
   "execution_count": 2,
   "source": [
    "# Calculate impact of taxes on income\n",
    "\n",
    "# Start with current income and policies\n",
    "pre_tax_income <- 20000\n",
    "tax_rate <- 0.23\n",
    "tax_rebate <- 1500\n",
    "\n",
    "# Calculate final after-tax income\n",
    "after_tax_income <- (pre_tax_income * (1 - tax_rate)) + tax_rebate"
   ],
   "outputs": [],
   "metadata": {}
  },
  {
   "cell_type": "markdown",
   "source": [
    "These two blocks of code do exactly the same thing, but if you wrote them at 1am, guess which one you'd understand better the next morning?\n",
    "\n",
    "You can find a full guide to R styling [here](https://style.tidyverse.org/index.html), but if you use the tools below you won't really need to read that to have well styled code."
   ],
   "metadata": {}
  },
  {
   "cell_type": "markdown",
   "source": [
    "### Auto-Formatting Code in RStudio\n",
    "\n",
    "A really good way to ensure that your code has consistent formatting is to (a) set your editor to check for style problems, and (b) use a program that automatically formats your code. I **love** these tools, and thankfully RStudio has one built in! An auto-formatter won't help ensure your variable names are descriptive, but it will ensure you use consistent spacing and indentation, which can be really helpful recognizing patterns and problems in your code. \n",
    "\n",
    "To use this functionality in RStudio, we'll do two things:\n",
    "\n",
    "**To have RStudio flag style violations:**\n",
    "\n",
    "First open your Global Options by going to the `Tools` menu and selecting `Global Options...`.\n",
    "\n",
    "Then, in these preferences, select Code on the left sidebar, then Diagnostics across the top across the window on the right, turn on \"Provide R style diagnostics\" and click Apply.\n",
    "\n",
    "![style_checking_setting](images/style_checking_setting.png)\n",
    "\n",
    "Now when you violate a style guideline -- like not leave white space around assignment operators, you'll see a blue squiggly warning, and a `i` button on the left you can mouse over for an explanation:\n",
    "\n",
    "![style_violations](images/style_violations.png)\n",
    "\n",
    "**To have RStudio actively format your code:**\n",
    "\n",
    "First, install the `styler` package in R by running `install.packages(\"styler\")` in an active R session. \n",
    "\n",
    "Then click on the \"Add-ons\" menu over your editor and select \"Style Active File\" (note R may ask for permission to install some packages the first time you do this):\n",
    "\n",
    "![use_r_to_format_code](images/use_r_to_format_code.png)"
   ],
   "metadata": {}
  },
  {
   "cell_type": "markdown",
   "source": [
    "## Adding Tests\n",
    "\n",
    "Tests are simple true-false statements users place in their code. A test checks for a certain condition (like whether the sample size in a regression is what you expect), and if the condition is not met, stops your code and alerts you to the problem. \n",
    "\n",
    "*Why do I need to always check things? I know my data!* \n",
    "\n",
    "In most of the exercises we've done in this boot camp, we've been using small data sets that are easy to just look at. In the real world of data science and computational social science, however, you will be working with data sets with hundreds of variables and tens of thousands of observation. So you can never really *know* your data -- you only get to see bits and pieces through your analyses, plots, and summary statistics. \n",
    "\n",
    "I like to think of working with data as being like exploring a dark cave. The documentation for the data is like an old dirty map of the cave system that *in theory* tells me the layout of the cave, but in reality is often out of date wasn't drawn very carefully. I can never see the entire cave system, but I can't turn on my flashlight and check to see if certain features match what I have on the map. If my map matches what I see, great! But sometimes the map won't match what I see, and those are the situations where I'm really glad that I stop to turn on my flashlight and look around. Tests are a way of automating those types of checks.\n",
    "\n",
    "*Yeah, I always check that kind of stuff by hand when I'm writing my code. Why do I need to add tests?* \n",
    "\n",
    "The answer is four-fold:\n",
    "\n",
    "1.  **Tests are executed _every time your code is run_.** Most of us check things the first time we write a piece of code. But days, weeks, or months later, we may come back, modify code the occurs earlier in our code stream, and then just re-run the code. If those changes lead to problems in later files, we don't know about them. If you have tests in place, then those early changes will result in an error in the later files, and you can track down the problem.\n",
    "2.  **It gets you in the habit of always checking.** Most of us only stop to check aspects of our data when we suspect problems. But if you become accustomed to writing a handful of tests at the bottom of every file -- or after ever execution of a certain operation (I'm trying to always including them after a merge), we get into the habit of _always_ stopping to think about what our data should look like.\n",
    "3.  **Catch your problems faster.** This is less about code integrity than sanity, but a great upside to tests is that they ensure that if a mistake slips into your code, you become aware of it quickly, making it easier to identify and fix the changes that caused the problem.\n",
    "4.  **Tests catch more than anticipated problems.** When problems emerge in code, they often manifest in lots of different ways. Duplicate observations, for example, will not only lead to inaccurate observation counts, but may also give rise to bizarre summary statistics, bad subsequent merges, etc. Thus adding tests not only guards against errors we've thought of, but may also guard against errors we don't anticipate during the test writing process.\n",
    "\n",
    "OK, but is this really necessary? **YES.**\n",
    "\n",
    "\n",
    "### Writing Tests\n",
    "\n",
    "\n",
    "In R, I recommend using the `assertthat` package for testing. Once installed, you just use `assert_that()` to test any logical statement:"
   ],
   "metadata": {}
  },
  {
   "cell_type": "code",
   "execution_count": 3,
   "source": [
    "library(assertthat)\n",
    "x <- 7\n",
    "y <- 5\n",
    "\n",
    "# Make sure that x is greater than y\n",
    "assert_that(x > y)"
   ],
   "outputs": [
    {
     "output_type": "display_data",
     "data": {
      "text/plain": [
       "[1] TRUE"
      ],
      "text/markdown": [
       "TRUE"
      ],
      "text/latex": [
       "TRUE"
      ],
      "text/html": [
       "TRUE"
      ]
     },
     "metadata": {}
    }
   ],
   "metadata": {}
  },
  {
   "cell_type": "markdown",
   "source": [
    "If the assertion is TRUE, the code continuous along happily. If it is *not* true, however, you get something like:\n",
    "\n",
    "```r\n",
    "assert_that( x < y)\n",
    "\n",
    "> ERROR: Error: x not less than y\n",
    "> Error: x not less than y\n",
    "> Traceback:\n",
    "> \n",
    "> 1. assert_that(x < y)\n",
    "```"
   ],
   "metadata": {}
  },
  {
   "cell_type": "markdown",
   "source": [
    "`assert_that` can also be used to test properties of vectors, though doing so requires one additional step. \n",
    "\n",
    "Since logical tests applied to vectors return vectors, we have to specify how to evaluate that whole vector using `any()` (returns `TRUE` if any entries in the vector are `TRUE`) or `all()` (only returns `TRUE` if *all* the entries are `TRUE`). For example, if I don't use these helpers, I get:\n",
    "\n",
    "```r\n",
    "x <- c(1, 2, 3)\n",
    "y <- c(4, 1, 3)\n",
    "\n",
    "assert_that( x < y)\n",
    "\n",
    "> ERROR: Error: assert_that: length of assertion is not 1\n",
    "> Error: assert_that: length of assertion is not 1\n",
    "> Traceback:\n",
    "> \n",
    "> 1. assert_that(x < y)\n",
    "> 2. see_if(..., env = env, msg = msg)\n",
    "> 3. check_result(res)\n",
    "> 4. stop(\"assert_that: length of assertion is not 1\", call. = FALSE)\n",
    "```\n",
    "\n",
    "So instead if I want to know if ALL entries of `x` are less than their matching entries in `y`, I can run:\n",
    "\n",
    "```r\n",
    "x <- c(1, 2, 3)\n",
    "y <- c(4, 1, 3)\n",
    "\n",
    "assert_that(all(x < y))\n",
    "```\n",
    "\n",
    "And I'll be told:\n",
    "\n",
    "```r\n",
    "> ERROR: Error: Elements 2, 3 of x < y are not true\n",
    "> Error: Elements 2, 3 of x < y are not true\n",
    "> Traceback:\n",
    "> \n",
    "> 1. assert_that(all(x < y))\n",
    "```"
   ],
   "metadata": {}
  },
  {
   "cell_type": "markdown",
   "source": [
    "My contrast, if I only wanted to be sure that SOME of the entries of `x` were less than `y`, I could do:"
   ],
   "metadata": {}
  },
  {
   "cell_type": "code",
   "execution_count": 4,
   "source": [
    "assert_that(any(x < y))"
   ],
   "outputs": [
    {
     "output_type": "error",
     "ename": "ERROR",
     "evalue": "Error: No elements of x < y are true\n",
     "traceback": [
      "Error: No elements of x < y are true\nTraceback:\n",
      "1. assert_that(any(x < y))"
     ]
    }
   ],
   "metadata": {}
  },
  {
   "cell_type": "markdown",
   "source": [
    "And we'd be good!"
   ],
   "metadata": {}
  },
  {
   "cell_type": "markdown",
   "source": [
    "**WARNING:** Tests and Interactive Programming in R\n",
    "\n",
    "One really important thing to know about: if you run an R file using the source command, an error will stop R in its tracks. But if you’re highlighting a block of code and sending it to R by typing “Command-Return”  (with the standard R GUI text-editor or in RStudio) or clicking the Run button in RStudio, R will throw an error then keep going!\n",
    "\n",
    "There is a weird work around available, but if you don’t want to use it, you need to either (a) watch your output, or (b) make sure to run your code using the source(file.R)command or by clicking the Source button in RStudio instead of the Run button.\n",
    "\n",
    "To see, try the following code:\n",
    "\n",
    "```R\n",
    "x <- 'test'\n",
    "assert_that( is.numeric(x) )\n",
    "print( 'hello world' )\n",
    "```\n",
    "If you run this interactively, you’ll see a red error message, but the print statement will still run. If you save this file and execute it with the source command / Source button, the print statement will never be run."
   ],
   "metadata": {}
  },
  {
   "cell_type": "markdown",
   "source": [
    "## When Should I Write Tests?"
   ],
   "metadata": {}
  },
  {
   "cell_type": "markdown",
   "source": [
    "The best way to get into writing tests is to think about how you check your data interactively to make stuff work. After a `merge` or another complicated command, most people pause to browse the data and/or watch the code step by step, or do a set of quick tabs or plots.  But these are not systematic, and you generally only do them once (when you’re first writing the code).\n",
    "\n",
    "A great way to write tests is to think about what you’re looking for when you do these interactive tests and convert the logic of those interactive interrogations into systematic assert statements. That way they’ll be baked into your code, and will be executed every time your code runs!1\n",
    "\n",
    "- After merging data: No where are problems with data made more clear than in a merge. ALWAYS add tests after a merge! We'll talk more about this in our reading on merging.\n",
    "- After complicated manipulations: If you have to think more than a little about how to get R to do something, there’s a chance you missed something. Add a test or two to make sure you did it right!\n",
    "- Before dropping observations: Dropping observations masks problems. Before you drop variables, add a test to, say, count the number of observations you expect to drop."
   ],
   "metadata": {}
  },
  {
   "cell_type": "markdown",
   "source": [
    "### Common Test Examples\n",
    "\n",
    "Test number of observations is right:"
   ],
   "metadata": {}
  },
  {
   "cell_type": "code",
   "execution_count": null,
   "source": [
    "# We'll use `countries` again:\n",
    "\n",
    "country <- rep(c(\"USA\", \"China\", \"Sudan\"), 3)\n",
    "year <- c(1994, 1994, 1994, 1995, 1995, 1995, 1996, 1996, 1996)\n",
    "gdp_pc <- round(runif(9, 1000, 20000))\n",
    "\n",
    "countries <- data.frame(country, year, gdp_pc)\n",
    "countries"
   ],
   "outputs": [
    {
     "output_type": "display_data",
     "data": {
      "text/plain": [
       "  country year gdp_pc\n",
       "1 USA     1994 16775 \n",
       "2 China   1994 13351 \n",
       "3 Sudan   1994  9909 \n",
       "4 USA     1995 11195 \n",
       "5 China   1995  3323 \n",
       "6 Sudan   1995 15216 \n",
       "7 USA     1996  6113 \n",
       "8 China   1996  2576 \n",
       "9 Sudan   1996 11927 "
      ],
      "text/markdown": [
       "\n",
       "A data.frame: 9 × 3\n",
       "\n",
       "| country &lt;chr&gt; | year &lt;dbl&gt; | gdp_pc &lt;dbl&gt; |\n",
       "|---|---|---|\n",
       "| USA   | 1994 | 16775 |\n",
       "| China | 1994 | 13351 |\n",
       "| Sudan | 1994 |  9909 |\n",
       "| USA   | 1995 | 11195 |\n",
       "| China | 1995 |  3323 |\n",
       "| Sudan | 1995 | 15216 |\n",
       "| USA   | 1996 |  6113 |\n",
       "| China | 1996 |  2576 |\n",
       "| Sudan | 1996 | 11927 |\n",
       "\n"
      ],
      "text/latex": [
       "A data.frame: 9 × 3\n",
       "\\begin{tabular}{lll}\n",
       " country & year & gdp\\_pc\\\\\n",
       " <chr> & <dbl> & <dbl>\\\\\n",
       "\\hline\n",
       "\t USA   & 1994 & 16775\\\\\n",
       "\t China & 1994 & 13351\\\\\n",
       "\t Sudan & 1994 &  9909\\\\\n",
       "\t USA   & 1995 & 11195\\\\\n",
       "\t China & 1995 &  3323\\\\\n",
       "\t Sudan & 1995 & 15216\\\\\n",
       "\t USA   & 1996 &  6113\\\\\n",
       "\t China & 1996 &  2576\\\\\n",
       "\t Sudan & 1996 & 11927\\\\\n",
       "\\end{tabular}\n"
      ],
      "text/html": [
       "<table class=\"dataframe\">\n",
       "<caption>A data.frame: 9 × 3</caption>\n",
       "<thead>\n",
       "\t<tr><th scope=col>country</th><th scope=col>year</th><th scope=col>gdp_pc</th></tr>\n",
       "\t<tr><th scope=col>&lt;chr&gt;</th><th scope=col>&lt;dbl&gt;</th><th scope=col>&lt;dbl&gt;</th></tr>\n",
       "</thead>\n",
       "<tbody>\n",
       "\t<tr><td>USA  </td><td>1994</td><td>16775</td></tr>\n",
       "\t<tr><td>China</td><td>1994</td><td>13351</td></tr>\n",
       "\t<tr><td>Sudan</td><td>1994</td><td> 9909</td></tr>\n",
       "\t<tr><td>USA  </td><td>1995</td><td>11195</td></tr>\n",
       "\t<tr><td>China</td><td>1995</td><td> 3323</td></tr>\n",
       "\t<tr><td>Sudan</td><td>1995</td><td>15216</td></tr>\n",
       "\t<tr><td>USA  </td><td>1996</td><td> 6113</td></tr>\n",
       "\t<tr><td>China</td><td>1996</td><td> 2576</td></tr>\n",
       "\t<tr><td>Sudan</td><td>1996</td><td>11927</td></tr>\n",
       "</tbody>\n",
       "</table>\n"
      ]
     },
     "metadata": {}
    }
   ],
   "metadata": {}
  },
  {
   "cell_type": "code",
   "execution_count": null,
   "source": [
    "assert_that(nrow(countries) == 9)"
   ],
   "outputs": [
    {
     "output_type": "display_data",
     "data": {
      "text/plain": [
       "[1] TRUE"
      ],
      "text/markdown": [
       "TRUE"
      ],
      "text/latex": [
       "TRUE"
      ],
      "text/html": [
       "TRUE"
      ]
     },
     "metadata": {}
    }
   ],
   "metadata": {}
  },
  {
   "cell_type": "markdown",
   "source": [
    "Check var that should have no missing has no missing."
   ],
   "metadata": {}
  },
  {
   "cell_type": "markdown",
   "source": [
    "Make sure values of GDP Per Capita have a reasonable value. Note this is a “reasonableness” test, not an absolute test. It’s possible this would fail and the data is ok, but this way if there’s a problem your attention will be flagged so you can check."
   ],
   "metadata": {}
  },
  {
   "cell_type": "code",
   "execution_count": null,
   "source": [
    "assert_that(all((1000 < countries$gdp_pc) & (countries$gdp_pc < 100000)))"
   ],
   "outputs": [
    {
     "output_type": "display_data",
     "data": {
      "text/plain": [
       "[1] TRUE"
      ],
      "text/markdown": [
       "TRUE"
      ],
      "text/latex": [
       "TRUE"
      ],
      "text/html": [
       "TRUE"
      ]
     },
     "metadata": {}
    }
   ],
   "metadata": {}
  },
  {
   "cell_type": "markdown",
   "source": [
    "## Don't Duplicate Information\n",
    "\n",
    "Tricks to minimize the probability of errors often require a little more sophisticated programming, so they won't be for everyone (tests, I feel, are more accessible to everyone). Nevertheless, here's another valuable practice: **Never replicate information.** \n",
    "\n",
    "Information should only be expressed once in a file. For example, say you want to drop observations from a dataset if a person's income has ever dropped below 20,000. You *could* do this like this:"
   ],
   "metadata": {}
  },
  {
   "cell_type": "code",
   "execution_count": null,
   "source": [
    "df <- data.frame(income_2019 = c(10000, 20000, 30000, 40000, 50000),\n",
    "                   income_2018= c(50000, 40000, 30000, 20000, 10000),\n",
    "                   income_2017= c(50000, 20000, 30000, 40000, 50000))\n",
    "                   \n",
    "df <- df[(df[, \"income_2019\"] < 20000) |\n",
    "        (df[, \"income_2018\"] < 20000) |\n",
    "        (df[, \"income_2017\"] < 20000),]\n",
    "                   \n",
    "df"
   ],
   "outputs": [
    {
     "output_type": "display_data",
     "data": {
      "text/plain": [
       "  income_2019 income_2018 income_2017\n",
       "1 10000       50000       50000      \n",
       "5 50000       10000       50000      "
      ],
      "text/markdown": [
       "\n",
       "A data.frame: 2 × 3\n",
       "\n",
       "| <!--/--> | income_2019 &lt;dbl&gt; | income_2018 &lt;dbl&gt; | income_2017 &lt;dbl&gt; |\n",
       "|---|---|---|---|\n",
       "| 1 | 10000 | 50000 | 50000 |\n",
       "| 5 | 50000 | 10000 | 50000 |\n",
       "\n"
      ],
      "text/latex": [
       "A data.frame: 2 × 3\n",
       "\\begin{tabular}{r|lll}\n",
       "  & income\\_2019 & income\\_2018 & income\\_2017\\\\\n",
       "  & <dbl> & <dbl> & <dbl>\\\\\n",
       "\\hline\n",
       "\t1 & 10000 & 50000 & 50000\\\\\n",
       "\t5 & 50000 & 10000 & 50000\\\\\n",
       "\\end{tabular}\n"
      ],
      "text/html": [
       "<table class=\"dataframe\">\n",
       "<caption>A data.frame: 2 × 3</caption>\n",
       "<thead>\n",
       "\t<tr><th></th><th scope=col>income_2019</th><th scope=col>income_2018</th><th scope=col>income_2017</th></tr>\n",
       "\t<tr><th></th><th scope=col>&lt;dbl&gt;</th><th scope=col>&lt;dbl&gt;</th><th scope=col>&lt;dbl&gt;</th></tr>\n",
       "</thead>\n",
       "<tbody>\n",
       "\t<tr><th scope=row>1</th><td>10000</td><td>50000</td><td>50000</td></tr>\n",
       "\t<tr><th scope=row>5</th><td>50000</td><td>10000</td><td>50000</td></tr>\n",
       "</tbody>\n",
       "</table>\n"
      ]
     },
     "metadata": {}
    }
   ],
   "metadata": {}
  },
  {
   "cell_type": "markdown",
   "source": [
    "And indeed, this would work. But suppose you decided to change that cutoff from 20,000 to 30,000. The way this is written, you've opened yourself up to the possibility that in trying to change these cutoffs, you may change two of these but forget the third (something especially likely if the uses of the cutoff aren't all in exactly the same place in your code). A better way of expressing this that avoids this possibility is:"
   ],
   "metadata": {}
  },
  {
   "cell_type": "code",
   "execution_count": null,
   "source": [
    "df <- data.frame(income_2019 = c(10000, 20000, 30000, 40000, 50000),\n",
    "                 income_2018 = c(50000, 40000, 30000, 20000, 10000),\n",
    "                 income_2017 = c(50000, 20000, 30000, 40000, 50000))\n",
    "\n",
    "income_threshold <- 20000\n",
    "\n",
    "df <- df[(df[, \"income_2019\"] < income_threshold) |\n",
    "        (df[, \"income_2018\"] < income_threshold) |\n",
    "        (df[, \"income_2017\"] < income_threshold), ]\n",
    "df"
   ],
   "outputs": [
    {
     "output_type": "display_data",
     "data": {
      "text/plain": [
       "  income_2019 income_2018 income_2017\n",
       "1 10000       50000       50000      \n",
       "5 50000       10000       50000      "
      ],
      "text/markdown": [
       "\n",
       "A data.frame: 2 × 3\n",
       "\n",
       "| <!--/--> | income_2019 &lt;dbl&gt; | income_2018 &lt;dbl&gt; | income_2017 &lt;dbl&gt; |\n",
       "|---|---|---|---|\n",
       "| 1 | 10000 | 50000 | 50000 |\n",
       "| 5 | 50000 | 10000 | 50000 |\n",
       "\n"
      ],
      "text/latex": [
       "A data.frame: 2 × 3\n",
       "\\begin{tabular}{r|lll}\n",
       "  & income\\_2019 & income\\_2018 & income\\_2017\\\\\n",
       "  & <dbl> & <dbl> & <dbl>\\\\\n",
       "\\hline\n",
       "\t1 & 10000 & 50000 & 50000\\\\\n",
       "\t5 & 50000 & 10000 & 50000\\\\\n",
       "\\end{tabular}\n"
      ],
      "text/html": [
       "<table class=\"dataframe\">\n",
       "<caption>A data.frame: 2 × 3</caption>\n",
       "<thead>\n",
       "\t<tr><th></th><th scope=col>income_2019</th><th scope=col>income_2018</th><th scope=col>income_2017</th></tr>\n",
       "\t<tr><th></th><th scope=col>&lt;dbl&gt;</th><th scope=col>&lt;dbl&gt;</th><th scope=col>&lt;dbl&gt;</th></tr>\n",
       "</thead>\n",
       "<tbody>\n",
       "\t<tr><th scope=row>1</th><td>10000</td><td>50000</td><td>50000</td></tr>\n",
       "\t<tr><th scope=row>5</th><td>50000</td><td>10000</td><td>50000</td></tr>\n",
       "</tbody>\n",
       "</table>\n"
      ]
     },
     "metadata": {}
    }
   ],
   "metadata": {}
  },
  {
   "cell_type": "markdown",
   "source": [
    "Written like this, if you ever decide to go back and change the common cutoff, you only have to make *in one place*, and there's no way to make the change in some cases but forget others."
   ],
   "metadata": {}
  },
  {
   "cell_type": "markdown",
   "source": [
    "## Never Transcribe\n",
    "\n",
    "We've already covered tricks to maximize the probability we catch our mistakes, but how do we minimize the probability they will occur? If there is anything I learned working as the Replication Assistant at the *Quarterly Journal of Political Science* testing people's replication packages, it is that authors should **never** transcribe numbers from their statistical software into their papers by hand. This was _easily_ the largest source of replication issues we encountered, as doing so introduced two types of errors:\n",
    "\n",
    "*   **Mis-transcriptions:** Humans just aren't built to transcribe dozens of numbers by hand reliably. If the error is in the last decimal place, it doesn't mean much, but when a decimal point drifts or a negative sign is dropped, the results are often quite substantively important.\n",
    "*   **Failures to Update:** We are constantly updating our code, and authors who hand transcribe their results often update their code and forget to update all of their results, leaving old results in their paper.\n",
    "\n",
    "So, how do you avoid this problem? Use tools that will directly export your results into plain text or formatted tables you can use in the program where you are working, like [stargazer](https://www.rdocumentation.org/packages/stargazer/versions/5.2.2/topics/stargazer) in R.\n",
    "\n",
    "I also suggest users not only do this for tables - which is increasingly common - but also statistics that appear in text. For example, to put a single number into $\\LaTeX$, you just generate the number you want to put in your paper, convert it to a string, and save it to disk as a `.tex` file (e.g. `exported_statistic.tex`). Then in your paper, simply add a `\\input{exported_statistic.tex}`call, and LaTeX will insert the contents of that `.tex` file verbatim into your paper. "
   ],
   "metadata": {}
  }
 ],
 "metadata": {
  "kernelspec": {
   "display_name": "R",
   "language": "R",
   "name": "ir"
  },
  "language_info": {
   "name": "R",
   "codemirror_mode": "r",
   "pygments_lexer": "r",
   "mimetype": "text/x-r-source",
   "file_extension": ".r",
   "version": "4.1.0"
  }
 },
 "nbformat": 4,
 "nbformat_minor": 4
}