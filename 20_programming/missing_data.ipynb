{
    "cells": [
        {
            "cell_type": "markdown",
            "source": [
                "# Missing Data\n",
                "\n",
                "One of the big differences between real data and toy datasets is that *real* data is almost always incomplete -- governments may not have reported all the data they were supposed to, survey respondents may have hung up before the survey ended, data may have been corrupted, etc.\n",
                "\n",
                "To accommodate this, R has a few very special data types / data values we'll discuss here: `NA`, `NaN`, `NULL`, and `inf`/`-inf`. You've seen these pop up briefly in the past -- when I tried to coerce a character to a number (`as.numeric(\"Nick\")`, we got back an `NA`), and we've used `df$col1 <- NULL` to delete a column -- but I've put off discussing these in detail because they have very special behavior that's a little unintuitive."
            ],
            "metadata": {}
        },
        {
            "cell_type": "markdown",
            "source": [
                "## NA\n",
                "\n",
                "`NA` is the data value you'll come across most in R to represent missing data. It basically means \"I have no meaningful data to put here\". \n",
                "\n",
                "An important feature of NA is that it is said to *poison* anything it touches, meaning that if any operation encounters an NA, it will return an NA. This is considered desirable because, almost by definition, R can't make a guess about what it should do when it encounters an NA; how to handle an NA is something only a human can decide. \n",
                "\n",
                "Here are some examples of NA poisoning:"
            ],
            "metadata": {}
        },
        {
            "cell_type": "code",
            "execution_count": 3,
            "source": [
                "4 + NA"
            ],
            "outputs": [
                {
                    "data": {
                        "text/plain": [
                            "[1] NA"
                        ],
                        "text/markdown": [
                            "&lt;NA&gt;"
                        ],
                        "text/latex": [
                            "<NA>"
                        ],
                        "text/html": [
                            "&lt;NA&gt;"
                        ]
                    },
                    "metadata": {},
                    "output_type": "display_data"
                }
            ],
            "metadata": {}
        },
        {
            "cell_type": "code",
            "execution_count": 2,
            "source": [
                "NA == 4"
            ],
            "outputs": [
                {
                    "data": {
                        "text/plain": [
                            "[1] NA"
                        ],
                        "text/markdown": [
                            "&lt;NA&gt;"
                        ],
                        "text/latex": [
                            "<NA>"
                        ],
                        "text/html": [
                            "&lt;NA&gt;"
                        ]
                    },
                    "metadata": {},
                    "output_type": "display_data"
                }
            ],
            "metadata": {}
        },
        {
            "cell_type": "code",
            "execution_count": 1,
            "source": [
                "mean(c(1, 2, NA))"
            ],
            "outputs": [
                {
                    "output_type": "display_data",
                    "data": {
                        "text/plain": [
                            "[1] NA"
                        ],
                        "text/markdown": [
                            "&lt;NA&gt;"
                        ],
                        "text/latex": [
                            "<NA>"
                        ],
                        "text/html": [
                            "&lt;NA&gt;"
                        ]
                    },
                    "metadata": {}
                }
            ],
            "metadata": {}
        },
        {
            "cell_type": "markdown",
            "source": [
                "Of course, this is sometimes a problem, so most R functions accept an `na.rm` (remove NA) keyword argument, which will calculate results while ignore NAs. But for the reason described above, this is almost never the default behavior:"
            ],
            "metadata": {}
        },
        {
            "cell_type": "code",
            "execution_count": 6,
            "source": [
                "mean(c(1, 2, NA), na.rm = TRUE)"
            ],
            "outputs": [
                {
                    "output_type": "display_data",
                    "data": {
                        "text/plain": [
                            "[1] 1.5"
                        ],
                        "text/markdown": [
                            "1.5"
                        ],
                        "text/latex": [
                            "1.5"
                        ],
                        "text/html": [
                            "1.5"
                        ]
                    },
                    "metadata": {}
                }
            ],
            "metadata": {}
        },
        {
            "cell_type": "markdown",
            "source": [
                "### Checking for NAs"
            ],
            "metadata": {}
        },
        {
            "cell_type": "markdown",
            "source": [
                "Because NA poisons any operation that touches it, you can't directly check for whether something is NA the way you would with any other value, because you'll just get back an NA!:"
            ],
            "metadata": {}
        },
        {
            "cell_type": "code",
            "execution_count": 7,
            "source": [
                "NA == NA"
            ],
            "outputs": [
                {
                    "output_type": "display_data",
                    "data": {
                        "text/plain": [
                            "[1] NA"
                        ],
                        "text/markdown": [
                            "&lt;NA&gt;"
                        ],
                        "text/latex": [
                            "<NA>"
                        ],
                        "text/html": [
                            "&lt;NA&gt;"
                        ]
                    },
                    "metadata": {}
                }
            ],
            "metadata": {}
        },
        {
            "cell_type": "code",
            "execution_count": 3,
            "source": [
                "x <- NA\n",
                "x == NA"
            ],
            "outputs": [
                {
                    "output_type": "display_data",
                    "data": {
                        "text/plain": [
                            "[1] NA"
                        ],
                        "text/markdown": [
                            "&lt;NA&gt;"
                        ],
                        "text/latex": [
                            "<NA>"
                        ],
                        "text/html": [
                            "&lt;NA&gt;"
                        ]
                    },
                    "metadata": {}
                }
            ],
            "metadata": {}
        },
        {
            "cell_type": "markdown",
            "source": [
                "Instead, you have to use a special function: `is.na()`:"
            ],
            "metadata": {}
        },
        {
            "cell_type": "code",
            "execution_count": 4,
            "source": [
                "is.na(x)"
            ],
            "outputs": [
                {
                    "output_type": "display_data",
                    "data": {
                        "text/plain": [
                            "[1] TRUE"
                        ],
                        "text/markdown": [
                            "TRUE"
                        ],
                        "text/latex": [
                            "TRUE"
                        ],
                        "text/html": [
                            "TRUE"
                        ]
                    },
                    "metadata": {}
                }
            ],
            "metadata": {}
        },
        {
            "cell_type": "code",
            "execution_count": 8,
            "source": [
                "!is.na(7)"
            ],
            "outputs": [
                {
                    "output_type": "display_data",
                    "data": {
                        "text/plain": [
                            "[1] TRUE"
                        ],
                        "text/markdown": [
                            "TRUE"
                        ],
                        "text/latex": [
                            "TRUE"
                        ],
                        "text/html": [
                            "TRUE"
                        ]
                    },
                    "metadata": {}
                }
            ],
            "metadata": {}
        },
        {
            "cell_type": "markdown",
            "source": [
                "## NaN, Inf, -Inf\n",
                "\n",
                "`NaN` stands for \"Not a Number\", and is basically like NA. The difference is that NaN is actually implemented by an international standard that dictates how computers deal with a certain kind of number (what R called `numeric`, and most people call \"floats\" or \"floating point number\"). As a result, you may occassionally get NaN back from certain numerical computations when you might otherwise expect a NA:"
            ],
            "metadata": {}
        },
        {
            "cell_type": "code",
            "execution_count": 11,
            "source": [
                "0/0"
            ],
            "outputs": [
                {
                    "output_type": "display_data",
                    "data": {
                        "text/plain": [
                            "[1] NaN"
                        ],
                        "text/markdown": [
                            "NaN"
                        ],
                        "text/latex": [
                            "NaN"
                        ],
                        "text/html": [
                            "NaN"
                        ]
                    },
                    "metadata": {}
                }
            ],
            "metadata": {}
        },
        {
            "cell_type": "markdown",
            "source": [
                "As with NA, NaN will poison any operation is touches:"
            ],
            "metadata": {}
        },
        {
            "cell_type": "code",
            "execution_count": 12,
            "source": [
                "mean(c(1, 2, NaN))"
            ],
            "outputs": [
                {
                    "output_type": "display_data",
                    "data": {
                        "text/plain": [
                            "[1] NaN"
                        ],
                        "text/markdown": [
                            "NaN"
                        ],
                        "text/latex": [
                            "NaN"
                        ],
                        "text/html": [
                            "NaN"
                        ]
                    },
                    "metadata": {}
                }
            ],
            "metadata": {}
        },
        {
            "cell_type": "markdown",
            "source": [
                "And you can't test for it with `==`:"
            ],
            "metadata": {}
        },
        {
            "cell_type": "code",
            "execution_count": 14,
            "source": [
                "NaN == NaN"
            ],
            "outputs": [
                {
                    "output_type": "display_data",
                    "data": {
                        "text/plain": [
                            "[1] NA"
                        ],
                        "text/markdown": [
                            "&lt;NA&gt;"
                        ],
                        "text/latex": [
                            "<NA>"
                        ],
                        "text/html": [
                            "&lt;NA&gt;"
                        ]
                    },
                    "metadata": {}
                }
            ],
            "metadata": {}
        },
        {
            "cell_type": "markdown",
            "source": [
                "Thankfully, while there is a function called `is.nan()` the tests whether something is a NaN (and returns `FALSE` for an NA), `is.na()` will return `TRUE` for a NaN, so in general in R, just use `is.na()` to check for missing data:"
            ],
            "metadata": {}
        },
        {
            "cell_type": "code",
            "execution_count": 17,
            "source": [
                "is.na(NaN)"
            ],
            "outputs": [
                {
                    "output_type": "display_data",
                    "data": {
                        "text/plain": [
                            "[1] TRUE"
                        ],
                        "text/markdown": [
                            "TRUE"
                        ],
                        "text/latex": [
                            "TRUE"
                        ],
                        "text/html": [
                            "TRUE"
                        ]
                    },
                    "metadata": {}
                }
            ],
            "metadata": {}
        },
        {
            "cell_type": "markdown",
            "source": [
                "### Inf and -Inf\n",
                "\n",
                "Inf and -Inf are also implemented in the international specification for floating-point numbers, and are used when a number get so big or so small that it can't be represented with numeric. This is unbelievably hard to do with anything but truly pathological functions, like dividing by zero:"
            ],
            "metadata": {}
        },
        {
            "cell_type": "code",
            "execution_count": 19,
            "source": [
                "7 / 0"
            ],
            "outputs": [
                {
                    "output_type": "display_data",
                    "data": {
                        "text/plain": [
                            "[1] Inf"
                        ],
                        "text/markdown": [
                            "Inf"
                        ],
                        "text/latex": [
                            "Inf"
                        ],
                        "text/html": [
                            "Inf"
                        ]
                    },
                    "metadata": {}
                }
            ],
            "metadata": {}
        },
        {
            "cell_type": "code",
            "execution_count": 20,
            "source": [
                "-7 / 0"
            ],
            "outputs": [
                {
                    "output_type": "display_data",
                    "data": {
                        "text/plain": [
                            "[1] -Inf"
                        ],
                        "text/markdown": [
                            "-Inf"
                        ],
                        "text/latex": [
                            "-Inf"
                        ],
                        "text/html": [
                            "-Inf"
                        ]
                    },
                    "metadata": {}
                }
            ],
            "metadata": {}
        },
        {
            "cell_type": "markdown",
            "source": [
                "If you get an `Inf`, it doesn't mean you're working with really big numbers and R has failed you; it means you did something wrong. :) \n",
                "\n",
                "Like NA and NaN, `Inf` and `-Inf` will also poison values:"
            ],
            "metadata": {}
        },
        {
            "cell_type": "code",
            "execution_count": 21,
            "source": [
                "Inf - 5"
            ],
            "outputs": [
                {
                    "output_type": "display_data",
                    "data": {
                        "text/plain": [
                            "[1] Inf"
                        ],
                        "text/markdown": [
                            "Inf"
                        ],
                        "text/latex": [
                            "Inf"
                        ],
                        "text/html": [
                            "Inf"
                        ]
                    },
                    "metadata": {}
                }
            ],
            "metadata": {}
        },
        {
            "cell_type": "markdown",
            "source": [
                "## NULL\n",
                "\n",
                "NULL is a little different from these other values in that it isn't meant as a stand-in for missing data, and so maybe doesn't belong in this reading (but I have no idea where else to put it). NULL is... programming oblivion? Where a function would return NA if it has been asked to run a computation that doesn't make sense (e.g. `as.numeric(\"Nick\")`), it returns a NULL if it doesn't have anything to return at all. \n",
                "\n",
                "If you try and put NULL into a vector, it isn't kept as a record of bad or missing data, R just views that entry as non-existant:"
            ],
            "metadata": {}
        },
        {
            "cell_type": "code",
            "execution_count": 23,
            "source": [
                "c(1, NULL, 3)"
            ],
            "outputs": [
                {
                    "output_type": "display_data",
                    "data": {
                        "text/plain": [
                            "[1] 1 3"
                        ],
                        "text/markdown": [
                            "1. 1\n",
                            "2. 3\n",
                            "\n",
                            "\n"
                        ],
                        "text/latex": [
                            "\\begin{enumerate*}\n",
                            "\\item 1\n",
                            "\\item 3\n",
                            "\\end{enumerate*}\n"
                        ],
                        "text/html": [
                            "<style>\n",
                            ".list-inline {list-style: none; margin:0; padding: 0}\n",
                            ".list-inline>li {display: inline-block}\n",
                            ".list-inline>li:not(:last-child)::after {content: \"\\00b7\"; padding: 0 .5ex}\n",
                            "</style>\n",
                            "<ol class=list-inline><li>1</li><li>3</li></ol>\n"
                        ]
                    },
                    "metadata": {}
                }
            ],
            "metadata": {}
        },
        {
            "cell_type": "markdown",
            "source": [
                "So yeah, NULL is a programmers tool more than a data scientists tool. "
            ],
            "metadata": {}
        }
    ],
    "metadata": {
        "orig_nbformat": 4,
        "language_info": {
            "name": "R",
            "codemirror_mode": "r",
            "pygments_lexer": "r",
            "mimetype": "text/x-r-source",
            "file_extension": ".r",
            "version": "4.1.0"
        },
        "kernelspec": {
            "name": "ir",
            "display_name": "R",
            "language": "R"
        }
    },
    "nbformat": 4,
    "nbformat_minor": 2
}