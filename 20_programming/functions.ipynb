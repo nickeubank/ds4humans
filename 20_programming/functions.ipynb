{
 "cells": [
  {
   "cell_type": "markdown",
   "source": [
    "# Functions\n",
    "\n",
    "Up to this point in our course, we've mostly *used* functions without really thinking about how they work. And to some degree, that's by design -- as discussed in our earlier reading, you don't actually need to know what's going on inside the function. You only need to know the arguments you need to pass to it to get back the thing that you want. In that sense, function is kind of like a toaster: you put bread in, you get toast back; how the toaster is turning the bread into toast isn't really something you need to worry about.\n",
    "\n",
    "But in your career, you will often find it useful to write your own functions, and to do that we have to understand a little more about how functions work.\n",
    "\n",
    "Why do we care about writing functions? Functions are useful when you want to execute a task over and over again, resulting in less verbose and more easily interpretable code. And as we learned in our [defensive programming reading](defensive_programming.ipynb), that will not only save you time, but it will also make it less likely that you will end up with errors in your code!\n",
    "\n",
    "**But wait... isn't that what you told me loops were for?**\n",
    "\n",
    "Yes! Both loops and functions are, broadly speaking, for the same purpose: helping write more succinct code when you're doing something similar over and over. The big difference is that with a loop you only really get one variable the changes with each pass, whereas with the function, you can generalize behavior a lot more. In addition, as you'll see, functions are a little more flexible and reusable than loops."
   ],
   "metadata": {}
  },
  {
   "cell_type": "markdown",
   "source": [
    "## Defining a Function\n",
    "\n",
    "To illustrate how function works, let's begin with a very simple function that takes a number, adds one to that number, then doubles it. It is admittedly a bit of a contrived example, but it has just enough complexity to be interesting.\n",
    "\n",
    "We would write this function as follows:"
   ],
   "metadata": {}
  },
  {
   "cell_type": "code",
   "execution_count": 6,
   "source": [
    "add_1_and_double <- function(input_number) {\n",
    "    plus_1 <- input_number + 1\n",
    "    doubled <- plus_1 * 2\n",
    "    return(doubled)\n",
    "}"
   ],
   "outputs": [],
   "metadata": {}
  },
  {
   "cell_type": "code",
   "execution_count": 7,
   "source": [
    "x <- 5\n",
    "y <- add_1_and_double(x)\n",
    "y"
   ],
   "outputs": [
    {
     "output_type": "display_data",
     "data": {
      "text/plain": [
       "[1] 17"
      ],
      "text/markdown": [
       "17"
      ],
      "text/latex": [
       "17"
      ],
      "text/html": [
       "17"
      ]
     },
     "metadata": {}
    }
   ],
   "metadata": {}
  },
  {
   "cell_type": "markdown",
   "source": [
    "Let's walk through this line by line to understand what's going on. \n",
    "\n",
    "The first thing we see -- the name to which the function is being assigned -- will become the function name. \n",
    "\n",
    "Text between the parentheses after `function` (here, `input_number`) are the arguments the function will accept. We are writing this function to only accept one argument, so we've only put one thing between the parentheses. This is called the function signature.\n",
    "\n",
    "Then between the curly brackets is the actual function -- the argument passed to the function is referred to by whatever you called the argument in the function signature (here, `input_number`). So here within the function we had one to the input, double that value.\n",
    "\n",
    "Finally, we passed that doubled value to the `return()` function, which means that we want the value assigned to `doubled` to be what the function returns."
   ],
   "metadata": {}
  },
  {
   "cell_type": "markdown",
   "source": [
    "## What Happens When a Function is Called\n",
    "\n",
    "Now that we've seen how to write a function, let's pause for a moment to work through exactly what happens when that function is called. For example, above we ran the code `above_1_and_double(x)` and got back 12. How did that happen? Well...\n",
    "\n",
    "We begin with a simple assignment of `5` to `x`:"
   ],
   "metadata": {}
  },
  {
   "cell_type": "markdown",
   "source": [
    "![function1](images/function1.png)"
   ],
   "metadata": {}
  },
  {
   "cell_type": "markdown",
   "source": [
    "After which, we pass `x` to our function `add_1_and_double()`. When that happens, a new \"stack frame\" is created by R to execute that function, and the value passed to the function -- `5` -- is assigned to a variable with the name it was given in the function signature.\n",
    "\n",
    "![function2](images/function2.png)"
   ],
   "metadata": {}
  },
  {
   "cell_type": "markdown",
   "source": [
    "The function then begins to execute. When `input_number` is added to `1`, a new variable -- `plus_1` -- is created within the function frame. \n",
    "\n",
    "![function3](images/function3.png)\n"
   ],
   "metadata": {}
  },
  {
   "cell_type": "markdown",
   "source": [
    "Then `plus_1` is doubled, and that value is assigned to `doubled`:\n",
    "\n",
    "![function4](images/function4.png)"
   ],
   "metadata": {}
  },
  {
   "cell_type": "markdown",
   "source": [
    "But then things get interesting, as we arrive at the `return` statement: \n",
    "\n",
    "![function5](images/function5.png)\n",
    "\n",
    "The return statement tells R that the function is done. When R encounters a return statement, it does two things: it (a) returns the value given to `return()`, and (b) it ends the function and deletes the function's frame:\n",
    "\n",
    "![function6](images/function6.png)\n",
    "\n",
    "Notice that all the variables that had been defined within the frame `add_1_and_double` (`input_number`, `plus_1`, and `doubled`) are gone -- when a function ends, none of the variables defined within the function live on. All that's left is that the function's memory lives on through its return value, which is now stored in `y`."
   ],
   "metadata": {}
  },
  {
   "cell_type": "markdown",
   "source": [
    "## Function Arguments\n",
    "\n",
    "In the example above, our function accepted a single argument, but of course we've seen functions can accept more than one argument! To accept more than one argument, just recommended the function signature in the first line:"
   ],
   "metadata": {}
  },
  {
   "cell_type": "code",
   "execution_count": 1,
   "source": [
    "add_two_numbers <- function(number1, number2) {\n",
    "    sum <- number1 + number2\n",
    "    return(sum)\n",
    "}\n",
    "add_two_numbers(1, 2)"
   ],
   "outputs": [
    {
     "output_type": "display_data",
     "data": {
      "text/plain": [
       "[1] 3"
      ],
      "text/markdown": [
       "3"
      ],
      "text/latex": [
       "3"
      ],
      "text/html": [
       "3"
      ]
     },
     "metadata": {}
    }
   ],
   "metadata": {}
  },
  {
   "cell_type": "markdown",
   "source": [
    "You can also set default values for arguments by writing `my_argument=\"default value\"` in the function signature. If an argument has a default value, it becomes an optional keyword argument that users *may* specify, but don't have to:"
   ],
   "metadata": {}
  },
  {
   "cell_type": "code",
   "execution_count": 2,
   "source": [
    "add_two_numbers <- function(number1, number2, return_as_character=FALSE) {\n",
    "    sum <- number1 + number2\n",
    "\n",
    "    # If return_as_character is TRUE, then sum will be returned as a character\n",
    "    if (return_as_character == TRUE) {\n",
    "        sum <- as.character(sum)\n",
    "    }\n",
    "\n",
    "    return(sum)\n",
    "}\n",
    "add_two_numbers(1, 2)"
   ],
   "outputs": [
    {
     "output_type": "display_data",
     "data": {
      "text/plain": [
       "[1] 3"
      ],
      "text/markdown": [
       "3"
      ],
      "text/latex": [
       "3"
      ],
      "text/html": [
       "3"
      ]
     },
     "metadata": {}
    }
   ],
   "metadata": {}
  },
  {
   "cell_type": "code",
   "execution_count": 4,
   "source": [
    "add_two_numbers(1, 2, return_as_character = TRUE)"
   ],
   "outputs": [
    {
     "output_type": "display_data",
     "data": {
      "text/plain": [
       "[1] \"3\""
      ],
      "text/markdown": [
       "'3'"
      ],
      "text/latex": [
       "'3'"
      ],
      "text/html": [
       "'3'"
      ]
     },
     "metadata": {}
    }
   ],
   "metadata": {}
  },
  {
   "cell_type": "markdown",
   "source": [
    "## A Note About Scope\n",
    "\n",
    "There's a concept in programming called \"scope\", which refers to what variables are visible at a given moment of execution. If you write a function to only need to work with (a) the arguments given to the function, and (b) the variables that you define within the function, you don't need to worry about scope. And indeed, there's a whole philosophy of programming -- called *functional programming* -- that says that's the only way you should write a function. \n",
    "\n",
    "In general, I would recommend sticking to this approach. However, I would not be doing my duty as an instructor if I did not mention that functions can see variables that exist outside of themselves. For example, in our `add_1_and_double()` example above, if we'd added the line `doubled <- doubled + x` right above our return statement, the function would have been able to \"see\" that there was a variable `x` in the world outside the function, and that it had been assigned the value `5` and increment `doubled` by 5. But... That's a very dangerous method of programming, because if you write a function that way, the behavior of the function now depends on the values assigned to variables outside the function. So `add_1_and_double(5)` would return one thing if you had earlier defined `x <- 2` and something different if you defined `x <- 7`. So... don't do it? I just want to warn you that code written like that will run, but it's something you won't want to use unless you really know what you're doing."
   ],
   "metadata": {}
  },
  {
   "cell_type": "markdown",
   "source": [
    "## Exercises for Now\n",
    "\n",
    "If you want to try out some functions, try the following, or you can just skip ahead to the next reading detailed below.\n",
    "\n",
    "\n",
    "1) Write a function called second_largest that finds the second largest value in a vector of numeric values. That is, the input should be a numeric vector and the output should be the second largest value in the vector. You can assume that the input vector has at least two values. Test your function on the following two vectors:\n",
    "\n",
    "```r\n",
    "v1 <- 1:10\n",
    "v2 <- c(15, 1000, 2, 3, 8)\n",
    "```\n",
    "\n",
    "Modify the `second_largest` function so that it accounts for two special cases: (1) when the user inputs a numeric vector with only one value, the function should return the message “Invalid input: at least two values required”; (2) when the user inputs a vector that is not numeric, the function should return the message “Invalid input: only numeric vectors accepted”. Test your new function on the following vectors:\n",
    "\n",
    "```r\n",
    "v1 <- 1:10\n",
    "v2 <- 2\n",
    "v3 <- c(\"banana\", \"apple\", \"orange\")\n",
    "v4 <- as.factor(1:10)\n",
    "```"
   ],
   "metadata": {}
  },
  {
   "cell_type": "markdown",
   "source": [
    "## Next Steps\n",
    "\n",
    "We have an example of [using functions for a real task!](function_example.ipynb)."
   ],
   "metadata": {}
  }
 ],
 "metadata": {
  "jupytext": {
   "cell_metadata_filter": "tags,eval,-all",
   "main_language": "R",
   "notebook_metadata_filter": "-all"
  },
  "language_info": {
   "name": "R",
   "codemirror_mode": "r",
   "pygments_lexer": "r",
   "mimetype": "text/x-r-source",
   "file_extension": ".r",
   "version": "4.1.0"
  },
  "kernelspec": {
   "name": "ir",
   "display_name": "R",
   "language": "R"
  }
 },
 "nbformat": 4,
 "nbformat_minor": 5
}