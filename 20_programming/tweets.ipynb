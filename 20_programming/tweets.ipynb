{
    "cells": [
        {
            "cell_type": "code",
            "execution_count": 37,
            "source": [
                "# Load a dataset of Trump tweets from \n",
                "setwd(\"/users/nick/github/computational_methods_boot_camp/source/data\")\n",
                "\n",
                "# These are saved in a format called JSON, \n",
                "# so we need to import than with a json package \n",
                "# and then convert them to a dataframe:\n",
                "\n",
                "library(rjson)\n",
                "json_data <- fromJSON(file=\"trump_tweets.json\")\n",
                "tweet_data <- do.call(\"rbind\", lapply(json_data, as.data.frame))\n",
                "\n",
                "# Columns for subsetting\n",
                "names(tweet_data)"
            ],
            "outputs": [
                {
                    "data": {
                        "text/plain": [
                            "[1] \"date\"      \"favorites\" \"id\"        \"isRetweet\" \"retweets\"  \"text\"     "
                        ],
                        "text/markdown": [
                            "1. 'date'\n",
                            "2. 'favorites'\n",
                            "3. 'id'\n",
                            "4. 'isRetweet'\n",
                            "5. 'retweets'\n",
                            "6. 'text'\n",
                            "\n",
                            "\n"
                        ],
                        "text/latex": [
                            "\\begin{enumerate*}\n",
                            "\\item 'date'\n",
                            "\\item 'favorites'\n",
                            "\\item 'id'\n",
                            "\\item 'isRetweet'\n",
                            "\\item 'retweets'\n",
                            "\\item 'text'\n",
                            "\\end{enumerate*}\n"
                        ],
                        "text/html": [
                            "<style>\n",
                            ".list-inline {list-style: none; margin:0; padding: 0}\n",
                            ".list-inline>li {display: inline-block}\n",
                            ".list-inline>li:not(:last-child)::after {content: \"\\00b7\"; padding: 0 .5ex}\n",
                            "</style>\n",
                            "<ol class=list-inline><li>'date'</li><li>'favorites'</li><li>'id'</li><li>'isRetweet'</li><li>'retweets'</li><li>'text'</li></ol>\n"
                        ]
                    },
                    "metadata": {},
                    "output_type": "display_data"
                }
            ],
            "metadata": {}
        },
        {
            "cell_type": "code",
            "execution_count": 38,
            "source": [
                "# Pull out first rows of actual tweets\n",
                "head(tweet_data[, c(\"date\", \"text\")])"
            ],
            "outputs": [
                {
                    "data": {
                        "text/plain": [
                            "  date        \n",
                            "1 1.610065e+12\n",
                            "2 1.609974e+12\n",
                            "3 1.609968e+12\n",
                            "4 1.609964e+12\n",
                            "5 1.609962e+12\n",
                            "6 1.609961e+12\n",
                            "  text                                                                                                                                                                                                                                                                                         \n",
                            "1 https://t.co/csX07ZVWGe                                                                                                                                                                                                                                                                      \n",
                            "2 These are the things and events that happen when a sacred landslide election victory is so unceremoniously &amp; viciously stripped away from great patriots who have been badly &amp; unfairly treated for so long. Go home with love &amp; in peace. Remember this day forever!            \n",
                            "3 https://t.co/Pm2PKV0Fp3                                                                                                                                                                                                                                                                      \n",
                            "4 I am asking for everyone at the U.S. Capitol to remain peaceful. No violence! Remember, WE are the Party of Law &amp; Order <U+2013> respect the Law and our great men and women in Blue. Thank you!                                                                                         \n",
                            "5 Please support our Capitol Police and Law Enforcement. They are truly on the side of our Country. Stay peaceful!                                                                                                                                                                             \n",
                            "6 Mike Pence didn<U+2019>t have the courage to do what should have been done to protect our Country and our Constitution, giving States a chance to certify a corrected set of facts, not the fraudulent or inaccurate ones which they were asked to previously certify. USA demands the truth!"
                        ],
                        "text/markdown": [
                            "\n",
                            "A data.frame: 6 × 2\n",
                            "\n",
                            "| <!--/--> | date &lt;dbl&gt; | text &lt;chr&gt; |\n",
                            "|---|---|---|\n",
                            "| 1 | 1.610065e+12 | https://t.co/csX07ZVWGe                                                                                                                                                                                                                                                                       |\n",
                            "| 2 | 1.609974e+12 | These are the things and events that happen when a sacred landslide election victory is so unceremoniously &amp;amp; viciously stripped away from great patriots who have been badly &amp;amp; unfairly treated for so long. Go home with love &amp;amp; in peace. Remember this day forever!             |\n",
                            "| 3 | 1.609968e+12 | https://t.co/Pm2PKV0Fp3                                                                                                                                                                                                                                                                       |\n",
                            "| 4 | 1.609964e+12 | I am asking for everyone at the U.S. Capitol to remain peaceful. No violence! Remember, WE are the Party of Law &amp;amp; Order &lt;U+2013&gt; respect the Law and our great men and women in Blue. Thank you!                                                                                          |\n",
                            "| 5 | 1.609962e+12 | Please support our Capitol Police and Law Enforcement. They are truly on the side of our Country. Stay peaceful!                                                                                                                                                                              |\n",
                            "| 6 | 1.609961e+12 | Mike Pence didn&lt;U+2019&gt;t have the courage to do what should have been done to protect our Country and our Constitution, giving States a chance to certify a corrected set of facts, not the fraudulent or inaccurate ones which they were asked to previously certify. USA demands the truth! |\n",
                            "\n"
                        ],
                        "text/latex": [
                            "A data.frame: 6 × 2\n",
                            "\\begin{tabular}{r|ll}\n",
                            "  & date & text\\\\\n",
                            "  & <dbl> & <chr>\\\\\n",
                            "\\hline\n",
                            "\t1 & 1.610065e+12 & https://t.co/csX07ZVWGe                                                                                                                                                                                                                                                                      \\\\\n",
                            "\t2 & 1.609974e+12 & These are the things and events that happen when a sacred landslide election victory is so unceremoniously \\&amp; viciously stripped away from great patriots who have been badly \\&amp; unfairly treated for so long. Go home with love \\&amp; in peace. Remember this day forever!            \\\\\n",
                            "\t3 & 1.609968e+12 & https://t.co/Pm2PKV0Fp3                                                                                                                                                                                                                                                                      \\\\\n",
                            "\t4 & 1.609964e+12 & I am asking for everyone at the U.S. Capitol to remain peaceful. No violence! Remember, WE are the Party of Law \\&amp; Order <U+2013> respect the Law and our great men and women in Blue. Thank you!                                                                                         \\\\\n",
                            "\t5 & 1.609962e+12 & Please support our Capitol Police and Law Enforcement. They are truly on the side of our Country. Stay peaceful!                                                                                                                                                                             \\\\\n",
                            "\t6 & 1.609961e+12 & Mike Pence didn<U+2019>t have the courage to do what should have been done to protect our Country and our Constitution, giving States a chance to certify a corrected set of facts, not the fraudulent or inaccurate ones which they were asked to previously certify. USA demands the truth!\\\\\n",
                            "\\end{tabular}\n"
                        ],
                        "text/html": [
                            "<table class=\"dataframe\">\n",
                            "<caption>A data.frame: 6 × 2</caption>\n",
                            "<thead>\n",
                            "\t<tr><th></th><th scope=col>date</th><th scope=col>text</th></tr>\n",
                            "\t<tr><th></th><th scope=col>&lt;dbl&gt;</th><th scope=col>&lt;chr&gt;</th></tr>\n",
                            "</thead>\n",
                            "<tbody>\n",
                            "\t<tr><th scope=row>1</th><td>1.610065e+12</td><td>https://t.co/csX07ZVWGe                                                                                                                                                                                                                                                                      </td></tr>\n",
                            "\t<tr><th scope=row>2</th><td>1.609974e+12</td><td><span style=white-space:pre-wrap>These are the things and events that happen when a sacred landslide election victory is so unceremoniously &amp;amp; viciously stripped away from great patriots who have been badly &amp;amp; unfairly treated for so long. Go home with love &amp;amp; in peace. Remember this day forever!            </span></td></tr>\n",
                            "\t<tr><th scope=row>3</th><td>1.609968e+12</td><td>https://t.co/Pm2PKV0Fp3                                                                                                                                                                                                                                                                      </td></tr>\n",
                            "\t<tr><th scope=row>4</th><td>1.609964e+12</td><td><span style=white-space:pre-wrap>I am asking for everyone at the U.S. Capitol to remain peaceful. No violence! Remember, WE are the Party of Law &amp;amp; Order &lt;U+2013&gt; respect the Law and our great men and women in Blue. Thank you!                                                                                         </span></td></tr>\n",
                            "\t<tr><th scope=row>5</th><td>1.609962e+12</td><td>Please support our Capitol Police and Law Enforcement. They are truly on the side of our Country. Stay peaceful!                                                                                                                                                                             </td></tr>\n",
                            "\t<tr><th scope=row>6</th><td>1.609961e+12</td><td>Mike Pence didn&lt;U+2019&gt;t have the courage to do what should have been done to protect our Country and our Constitution, giving States a chance to certify a corrected set of facts, not the fraudulent or inaccurate ones which they were asked to previously certify. USA demands the truth!</td></tr>\n",
                            "</tbody>\n",
                            "</table>\n"
                        ]
                    },
                    "metadata": {},
                    "output_type": "display_data"
                }
            ],
            "metadata": {}
        },
        {
            "cell_type": "code",
            "execution_count": 39,
            "source": [
                "# Now, just a sample of tweets\n",
                "sample(tweet_data$text, 10)"
            ],
            "outputs": [
                {
                    "data": {
                        "text/plain": [
                            " [1] \"Great! https://t.co/f0nKNPgqWg\"                                                                                                                                                                                                                                                                  \n",
                            " [2] \"SO TRUE. NO WAY WE LOST THIS ELECTION! https://t.co/FC4XtNzuxo\"                                                                                                                                                                                                                                  \n",
                            " [3] \"RINOS @BrianKempGA, @GeoffDuncanGA, &amp; Secretary of State Brad Raffensperger, will be solely responsible for the potential loss of our two GREAT Senators from Georgia, @sendavidperdue &amp; @KLoeffler. Won<U+2019>t call a Special Session or check for Signature Verification! People are ANGRY!\"\n",
                            " [4] \"Massive voter fraud will be shown! https://t.co/F0iGNXtXZP\"                                                                                                                                                                                                                                      \n",
                            " [5] \"RT @MattBraynard: As I said on @LouDobbs, if the issues we raised are not resolved, the nation cannot have confidence that @JoeBiden is the<U+2026>\"                                                                                                                                             \n",
                            " [6] \"Great job Mark! https://t.co/3yc02yFnGV\"                                                                                                                                                                                                                                                         \n",
                            " [7] \"https://t.co/dJniOejwqT\"                                                                                                                                                                                                                                                                         \n",
                            " [8] \"RT @RepDLesko: Virtual learning hurts many students. The results after over a semester of online learning prove that schools NEED to offer<U+2026>\"                                                                                                                                              \n",
                            " [9] \"AMERICA FIRST!!!\"                                                                                                                                                                                                                                                                                \n",
                            "[10] \"I will easily &amp; quickly win Georgia if Governor @BrianKempGA or the Secretary of State permit a simple signature verification. Has not been done and will show large scale discrepancies. Why are these two <U+201C>Republicans<U+201D> saying no? If we win Georgia, everything else falls in place!\""
                        ],
                        "text/markdown": [
                            "1. 'Great! https://t.co/f0nKNPgqWg'\n",
                            "2. 'SO TRUE. NO WAY WE LOST THIS ELECTION! https://t.co/FC4XtNzuxo'\n",
                            "3. 'RINOS @BrianKempGA, @GeoffDuncanGA, &amp;amp; Secretary of State Brad Raffensperger, will be solely responsible for the potential loss of our two GREAT Senators from Georgia, @sendavidperdue &amp;amp; @KLoeffler. Won’t call a Special Session or check for Signature Verification! People are ANGRY!'\n",
                            "4. 'Massive voter fraud will be shown! https://t.co/F0iGNXtXZP'\n",
                            "5. 'RT @MattBraynard: As I said on @LouDobbs, if the issues we raised are not resolved, the nation cannot have confidence that @JoeBiden is the…'\n",
                            "6. 'Great job Mark! https://t.co/3yc02yFnGV'\n",
                            "7. 'https://t.co/dJniOejwqT'\n",
                            "8. 'RT @RepDLesko: Virtual learning hurts many students. The results after over a semester of online learning prove that schools NEED to offer…'\n",
                            "9. 'AMERICA FIRST!!!'\n",
                            "10. 'I will easily &amp;amp; quickly win Georgia if Governor @BrianKempGA or the Secretary of State permit a simple signature verification. Has not been done and will show large scale discrepancies. Why are these two “Republicans” saying no? If we win Georgia, everything else falls in place!'\n",
                            "\n",
                            "\n"
                        ],
                        "text/latex": [
                            "\\begin{enumerate*}\n",
                            "\\item 'Great! https://t.co/f0nKNPgqWg'\n",
                            "\\item 'SO TRUE. NO WAY WE LOST THIS ELECTION! https://t.co/FC4XtNzuxo'\n",
                            "\\item 'RINOS @BrianKempGA, @GeoffDuncanGA, \\&amp; Secretary of State Brad Raffensperger, will be solely responsible for the potential loss of our two GREAT Senators from Georgia, @sendavidperdue \\&amp; @KLoeffler. Won’t call a Special Session or check for Signature Verification! People are ANGRY!'\n",
                            "\\item 'Massive voter fraud will be shown! https://t.co/F0iGNXtXZP'\n",
                            "\\item 'RT @MattBraynard: As I said on @LouDobbs, if the issues we raised are not resolved, the nation cannot have confidence that @JoeBiden is the…'\n",
                            "\\item 'Great job Mark! https://t.co/3yc02yFnGV'\n",
                            "\\item 'https://t.co/dJniOejwqT'\n",
                            "\\item 'RT @RepDLesko: Virtual learning hurts many students. The results after over a semester of online learning prove that schools NEED to offer…'\n",
                            "\\item 'AMERICA FIRST!!!'\n",
                            "\\item 'I will easily \\&amp; quickly win Georgia if Governor @BrianKempGA or the Secretary of State permit a simple signature verification. Has not been done and will show large scale discrepancies. Why are these two “Republicans” saying no? If we win Georgia, everything else falls in place!'\n",
                            "\\end{enumerate*}\n"
                        ],
                        "text/html": [
                            "<style>\n",
                            ".list-inline {list-style: none; margin:0; padding: 0}\n",
                            ".list-inline>li {display: inline-block}\n",
                            ".list-inline>li:not(:last-child)::after {content: \"\\00b7\"; padding: 0 .5ex}\n",
                            "</style>\n",
                            "<ol class=list-inline><li>'Great! https://t.co/f0nKNPgqWg'</li><li>'SO TRUE. NO WAY WE LOST THIS ELECTION! https://t.co/FC4XtNzuxo'</li><li>'RINOS @BrianKempGA, @GeoffDuncanGA, &amp;amp; Secretary of State Brad Raffensperger, will be solely responsible for the potential loss of our two GREAT Senators from Georgia, @sendavidperdue &amp;amp; @KLoeffler. Won’t call a Special Session or check for Signature Verification! People are ANGRY!'</li><li>'Massive voter fraud will be shown! https://t.co/F0iGNXtXZP'</li><li>'RT @MattBraynard: As I said on @LouDobbs, if the issues we raised are not resolved, the nation cannot have confidence that @JoeBiden is the…'</li><li>'Great job Mark! https://t.co/3yc02yFnGV'</li><li>'https://t.co/dJniOejwqT'</li><li>'RT @RepDLesko: Virtual learning hurts many students. The results after over a semester of online learning prove that schools NEED to offer…'</li><li>'AMERICA FIRST!!!'</li><li>'I will easily &amp;amp; quickly win Georgia if Governor @BrianKempGA or the Secretary of State permit a simple signature verification. Has not been done and will show large scale discrepancies. Why are these two “Republicans” saying no? If we win Georgia, everything else falls in place!'</li></ol>\n"
                        ]
                    },
                    "metadata": {},
                    "output_type": "display_data"
                }
            ],
            "metadata": {}
        }
    ],
    "metadata": {
        "orig_nbformat": 4,
        "language_info": {
            "name": "r"
        }
    },
    "nbformat": 4,
    "nbformat_minor": 2
}