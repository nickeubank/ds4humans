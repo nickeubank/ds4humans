{
 "cells": [
  {
   "cell_type": "markdown",
   "source": [
    "# Loops\n",
    "\n",
    "Until this point, the scripts we've been writing are quite straightforward: each line of code runs in sequence, one after another. Moreover, everything we want R to do, we have to write out by hand.\n",
    "\n",
    "In this lesson, we'll learn about loops -- a programming structure ideal for getting R to do LOTS of work with very little code. \n",
    "\n",
    "The basic idea of a loop is that in situations where you want R to do lots of very similar things, we can decompose our code into (a) generic code we want to run over and over, and (b) an input to that code that changes each time we repeat the generic code.\n",
    "\n",
    "Let's start with a simple example -- suppose I wanted to thank my TAs and everyone in class for a great bootcamp.I *could* type it out with:"
   ],
   "metadata": {}
  },
  {
   "cell_type": "markdown",
   "source": [
    "```r\n",
    "print(\"Happy Birthday Yi!\")\n",
    "print(\"Happy Birthday Zoe!\")\n",
    "print(\"Happy Birthday Ishani!\")\n",
    "print(\"Happy Birthday Kelly!\")\n",
    "...\n",
    "```\n",
    "etc. But that'd take FOREVER! Moreover, it's easy to see that most of what I'm typing out is exactly the same on every line. If only there were some way to leverage that information...\n",
    "\n",
    "Enter the loop!\n",
    "\n",
    "## The For-Loop\n",
    "\n",
    "The most basic loop is called a for-loop, and it loops over a collection of items, doing the loop once per item in the collection. \n",
    "\n",
    "In this case, our collection would be a vector with the names of all the students in the class. I won't make you look at the full list, though, so here's a little toy vector:"
   ],
   "metadata": {}
  },
  {
   "cell_type": "code",
   "execution_count": 1,
   "source": [
    "names <- c(\"Yi\", \"Zoe\", \"Ishani\", \"Kelly\")"
   ],
   "outputs": [],
   "metadata": {}
  },
  {
   "cell_type": "markdown",
   "source": [
    "Then we need to write out a for-loop, which looks like this:\n",
    "\n",
    "```r\n",
    "for(i in names) {\n",
    "    [code to repeat here]\n",
    "}\n",
    "```\n",
    "\n",
    "The way this loop works is that it iterates over the names in `names`, and each time it reaches a new name, it sets `i` to equal that name, then runs the code in the middle. For example, I could print all the names like this:"
   ],
   "metadata": {}
  },
  {
   "cell_type": "code",
   "execution_count": 2,
   "source": [
    "for (i in names) {\n",
    "    print(i)\n",
    "}"
   ],
   "outputs": [
    {
     "output_type": "stream",
     "name": "stdout",
     "text": [
      "[1] \"Yi\"\n",
      "[1] \"Zoe\"\n",
      "[1] \"Ishani\"\n",
      "[1] \"Kelly\"\n"
     ]
    }
   ],
   "metadata": {}
  },
  {
   "cell_type": "markdown",
   "source": [
    "But of course, we usually don't just want to print `i`, we want to use it. So let's try and thank everyone in the class with a loop. \n",
    "\n",
    "Before we write code inside our loop, though, we'll start by testing our code *outside* the loop to make it easier to troubleshoot, setting `i <- names[1]` by hand at the top to practice:"
   ],
   "metadata": {}
  },
  {
   "cell_type": "code",
   "execution_count": 3,
   "source": [
    "# Set `i` to first entry in `names`\n",
    "# When we put this inside the loop,\n",
    "# this will be done automatically by the loop\n",
    "i <- names[1]\n",
    "\n",
    "# Now write the code you want to put in your loop.\n",
    "message <- paste0(\"Thank you \", i, \" for a great class! \")\n",
    "print(message)"
   ],
   "outputs": [
    {
     "output_type": "stream",
     "name": "stdout",
     "text": [
      "[1] \"Thank you Yi for a great class! \"\n"
     ]
    }
   ],
   "metadata": {}
  },
  {
   "cell_type": "markdown",
   "source": [
    "If you haven't seen `paste0()` before, it's a function that takes characters and concatenates them (sticks them together). (There's also a function called `paste()` that does the same thing but also adds a space between entries). \n",
    "\n",
    "OK, so now that we've got working code to put in the middle, we can move it into our loop:"
   ],
   "metadata": {}
  },
  {
   "cell_type": "code",
   "execution_count": 4,
   "source": [
    "for (i in names) {\n",
    "    message <- paste0(\"Thank you \", i,\n",
    "                      \" for a great class! \")\n",
    "    print(message)\n",
    "}\n",
    "\n",
    "print(\"OK, bye now!\")"
   ],
   "outputs": [
    {
     "output_type": "stream",
     "name": "stdout",
     "text": [
      "[1] \"Thank you Yi for a great class! \"\n",
      "[1] \"Thank you Zoe for a great class! \"\n",
      "[1] \"Thank you Ishani for a great class! \"\n",
      "[1] \"Thank you Kelly for a great class! \"\n",
      "[1] \"OK, bye now!\"\n"
     ]
    }
   ],
   "metadata": {}
  },
  {
   "cell_type": "markdown",
   "source": [
    "A few things to note about this:\n",
    "\n",
    "- When developing the code to go into our loop, we started by assigning one of our names to `i`. In the real loop, we don't do that because it's done automatically at the top of the loop. \n",
    "- Remember how `print()` always seemed pointless, since you could always just type the name of a variable to see its value? Well that trick doesn't work in loops, which is why we need a tool like `print()`. \n",
    "- I also added a print statement at the end of my code -- as you can see, when the loop has iterated over all the values in `names`, R just moves on and runs the next command it sees. "
   ],
   "metadata": {}
  },
  {
   "cell_type": "markdown",
   "source": [
    "OK, let's take a moment to diagram what's happening here just to make sure everything is clear. For length, though, we'll shorten our name vector to just have Yi and Zoe. \n",
    "\n",
    "![loop1](images/loop1.png)\n",
    "\n",
    "![loop2](images/loop2.png)\n",
    "\n",
    "![loop3](images/loop3.png)\n",
    "\n",
    "![loop4](images/loop4.png)\n",
    "\n",
    "![loop5](images/loop5.png)\n",
    "\n",
    "![loop6](images/loop6.png)\n",
    "\n",
    "![loop7](images/loop7.png)"
   ],
   "metadata": {}
  },
  {
   "cell_type": "markdown",
   "source": [
    "## Building a Loop\n",
    "\n",
    "As noted above, the way to write a loop usually isn't just to write a loop -- troubleshooting code inside a loop is much harder than troubleshooting code that isn't in the loop because you can't run your code one line at a time if it is inside the loop. So when you're writing a loop, I recommend following the following steps:\n",
    "\n",
    "1. Write the first line of your loop. This will help you visualize what you're looping over and what your looping variable (e.g. `i` in the example above) will be. \n",
    "2. Write the code that you want to put inside your loop on its own. So that it runs the same way it will eventually run inside the loop, define your looping variable (`i`) to be equal to the first entry in the vector you're looping over (e.g. `i <- names[1]`). In that way the code you're writing will have access to the same variable that it will have later.\n",
    "3. Move the code you have written separately into the loop (without that initial assignment `i <- names[1]`, obviously). \n",
    "4. If you have problems, put `print()` statements inside your loop to give you information about what's going on."
   ],
   "metadata": {}
  },
  {
   "cell_type": "markdown",
   "source": [
    "## Other For-Loop Idioms\n",
    "\n",
    "There are couple common patterns with for loops to be aware of. Above, we saw how we can loop over vector of predefined values, but another common idiom to be aware of is looping over a vector created with the `1:N` operator (or the `seq()`) operator. For example, if I have a for loop that I want to run 5 times, I could write:"
   ],
   "metadata": {}
  },
  {
   "cell_type": "code",
   "execution_count": 5,
   "source": [
    "for (i in 1:5) {\n",
    "    print(i)\n",
    "}"
   ],
   "outputs": [
    {
     "output_type": "stream",
     "name": "stdout",
     "text": [
      "[1] 1\n",
      "[1] 2\n",
      "[1] 3\n",
      "[1] 4\n",
      "[1] 5\n"
     ]
    }
   ],
   "metadata": {}
  },
  {
   "cell_type": "markdown",
   "source": [
    "## If / Else\n",
    "\n",
    "Another useful tool for loops is `if` / `else`. \n",
    "\n",
    "With `if`, you create a block of code that will only execute if a given condition is true. For example:"
   ],
   "metadata": {}
  },
  {
   "cell_type": "code",
   "execution_count": 6,
   "source": [
    "a <- 5\n",
    "\n",
    "if (a < 10) {\n",
    "    print(a)\n",
    "}"
   ],
   "outputs": [
    {
     "output_type": "stream",
     "name": "stdout",
     "text": [
      "[1] 5\n"
     ]
    }
   ],
   "metadata": {}
  },
  {
   "cell_type": "code",
   "execution_count": 7,
   "source": [
    "a <- 5\n",
    "\n",
    "if (a > 10) {\n",
    "    print(a)\n",
    "}"
   ],
   "outputs": [],
   "metadata": {}
  },
  {
   "cell_type": "markdown",
   "source": [
    "If you *just* use `if`, then the code between the squiggly brackets you write will run if the condition is true, and otherwise the code will move on. But sometimes you want different code to run if the test is false. For that we use an `else` block, written:"
   ],
   "metadata": {}
  },
  {
   "cell_type": "code",
   "execution_count": 8,
   "source": [
    "a <- 5\n",
    "\n",
    "if (a > 10){\n",
    "    print(\"a is greater than 10!\")\n",
    "} else {\n",
    "    print(\"a is less than 10!\")\n",
    "}"
   ],
   "outputs": [
    {
     "output_type": "stream",
     "name": "stdout",
     "text": [
      "[1] \"a is less than 10!\"\n"
     ]
    }
   ],
   "metadata": {}
  },
  {
   "cell_type": "code",
   "execution_count": 9,
   "source": [
    "a <- 20\n",
    "\n",
    "if (a > 10){\n",
    "    print(\"a is greater than 10!\")\n",
    "} else {\n",
    "    print(\"a is less than 10!\")\n",
    "}"
   ],
   "outputs": [
    {
     "output_type": "stream",
     "name": "stdout",
     "text": [
      "[1] \"a is greater than 10!\"\n"
     ]
    }
   ],
   "metadata": {}
  },
  {
   "cell_type": "markdown",
   "source": [
    "How is this helpful in loops? Suppose you want to loop over a bunch of file names and do different things depending on whether the file name starts with `data`, or `code`:"
   ],
   "metadata": {}
  },
  {
   "cell_type": "code",
   "execution_count": 10,
   "source": [
    "files <- c(\"data12.txt\", \"code38978.R\", \"data_2021_08_01.dta\",\n",
    "           \"data_123.csv\", \"code13.R\")\n",
    "for (f in files){\n",
    "\n",
    "    # substr gets a portion of a character,\n",
    "    # starting at the second argument and\n",
    "    # ending at the third. So this will \n",
    "    # get either \"code\" or \"data\"\n",
    "    prefix <- substr(f, 1, 4)\n",
    "\n",
    "    if (prefix == \"data\"){\n",
    "        print(paste0(f, \" is data. So I'd do a data thing here.\"))\n",
    "    } else {\n",
    "        print(paste0(f, \" is code. So I'd do a code thinghere .\"))\n",
    "    }\n",
    "}"
   ],
   "outputs": [
    {
     "output_type": "stream",
     "name": "stdout",
     "text": [
      "[1] \"data12.txt is data. So I'd do a data thing here.\"\n",
      "[1] \"code38978.R is code. So I'd do a code thinghere .\"\n",
      "[1] \"data_2021_08_01.dta is data. So I'd do a data thing here.\"\n",
      "[1] \"data_123.csv is data. So I'd do a data thing here.\"\n",
      "[1] \"code13.R is code. So I'd do a code thinghere .\"\n"
     ]
    }
   ],
   "metadata": {}
  },
  {
   "cell_type": "markdown",
   "source": [
    "## While Loops\n",
    "\n",
    "There's one other kind of loop used in advanced programming I'll mention here, though you probably won't use it for some time: a `while` loop. A `while` loop just keeps iterating until some condition is met. They're useful for things like simulations or numerical optimizers where you want it to keep running till some condition (like convergence) is met. For example, if we wanted to know what $$\\Sigma_{n=1}^{\\infty} \\frac{1}{2^n}$$ equaled, we could just keep guessing and checking, or we could ask R to keep adding on new terms until the total stopping moving much. "
   ],
   "metadata": {}
  },
  {
   "cell_type": "code",
   "execution_count": 11,
   "source": [
    "# Our sum:\n",
    "sum <- 0\n",
    "\n",
    "# Our index n\n",
    "n <- 1\n",
    "\n",
    "# How we measure change. Start with big number. \n",
    "change <- 1\n",
    "\n",
    "while (change > 0.00000001) {\n",
    "    old_sum <- sum\n",
    "    sum <- sum + 1 / (2^n)\n",
    "    change <- abs(sum - old_sum)\n",
    "    n <- n + 1\n",
    "}\n",
    "print(paste0(\"A sum of \", sum, \" was reached after \", n, \" iterations\"))"
   ],
   "outputs": [
    {
     "output_type": "stream",
     "name": "stdout",
     "text": [
      "[1] \"A sum of 0.999999992549419 was reached after 28 iterations\"\n"
     ]
    }
   ],
   "metadata": {}
  },
  {
   "cell_type": "markdown",
   "source": [
    "So we can clearly see we're headed to 1.\n",
    "\n",
    "**WARNING:** Be careful with while loops as they may never stop!\n",
    "\n",
    "A problem with while loops is that if you write them wrong, the condition at the top may never be met, and so they'll just keep running till you force-shutdown your R session. "
   ],
   "metadata": {}
  },
  {
   "cell_type": "markdown",
   "source": [
    "## Loops and the Tidyverse\n",
    "\n",
    "As you may recall from our discussion of dplyr and the tidyverse, most functions in the tidyverse use a form of nonstandard evaluation within their functions -- namely, text appearing within a function is interpreted as data (e.g. the name of a column), not as the name of a variable. As will discuss in the section, that becomes problematic when we start working with loops.\n",
    "\n",
    "\n",
    "To illustrate, suppose we have a dataframe with the columns `a` and `column_to_keep`:"
   ],
   "metadata": {}
  },
  {
   "cell_type": "code",
   "execution_count": 12,
   "source": [
    "df <- data.frame(a = c(1, 2, 3), column_to_keep = c(4, 5, 6))\n",
    "df"
   ],
   "outputs": [
    {
     "output_type": "display_data",
     "data": {
      "text/plain": [
       "  a column_to_keep\n",
       "1 1 4             \n",
       "2 2 5             \n",
       "3 3 6             "
      ],
      "text/markdown": [
       "\n",
       "A data.frame: 3 × 2\n",
       "\n",
       "| a &lt;dbl&gt; | column_to_keep &lt;dbl&gt; |\n",
       "|---|---|\n",
       "| 1 | 4 |\n",
       "| 2 | 5 |\n",
       "| 3 | 6 |\n",
       "\n"
      ],
      "text/latex": [
       "A data.frame: 3 × 2\n",
       "\\begin{tabular}{ll}\n",
       " a & column\\_to\\_keep\\\\\n",
       " <dbl> & <dbl>\\\\\n",
       "\\hline\n",
       "\t 1 & 4\\\\\n",
       "\t 2 & 5\\\\\n",
       "\t 3 & 6\\\\\n",
       "\\end{tabular}\n"
      ],
      "text/html": [
       "<table class=\"dataframe\">\n",
       "<caption>A data.frame: 3 × 2</caption>\n",
       "<thead>\n",
       "\t<tr><th scope=col>a</th><th scope=col>column_to_keep</th></tr>\n",
       "\t<tr><th scope=col>&lt;dbl&gt;</th><th scope=col>&lt;dbl&gt;</th></tr>\n",
       "</thead>\n",
       "<tbody>\n",
       "\t<tr><td>1</td><td>4</td></tr>\n",
       "\t<tr><td>2</td><td>5</td></tr>\n",
       "\t<tr><td>3</td><td>6</td></tr>\n",
       "</tbody>\n",
       "</table>\n"
      ]
     },
     "metadata": {}
    }
   ],
   "metadata": {}
  },
  {
   "cell_type": "markdown",
   "source": [
    "Now, suppose we also created a variable called `column_to_keep` and assigned to it the character `\"a\"`. So we now have a column named `column_to_keep`, and a variable named `column_to_keep` that has the value `\"a\"` assigned to it."
   ],
   "metadata": {}
  },
  {
   "cell_type": "code",
   "execution_count": 13,
   "source": [
    "column_to_keep <- \"a\""
   ],
   "outputs": [],
   "metadata": {}
  },
  {
   "cell_type": "markdown",
   "source": [
    "With normal array indexing, it's not hard to make clear when we're talking about the variable and when we're talking about the column name: if you write `column_to_keep` without quotes, you mean the variable; if you write `\"column_to_keep\"` with quotes, you mean the literal set of characters \"column_to_keep\", which correspond to the name of a column. So:"
   ],
   "metadata": {}
  },
  {
   "cell_type": "code",
   "execution_count": 14,
   "source": [
    "# No quotes -> read as a variable ->\n",
    "# R substitutes the value assigned\n",
    "# to the variable before evaluating,\n",
    "# so this is the same as `df[, \"a\"]`:\n",
    "df[, column_to_keep]"
   ],
   "outputs": [
    {
     "output_type": "display_data",
     "data": {
      "text/plain": [
       "[1] 1 2 3"
      ],
      "text/markdown": [
       "1. 1\n",
       "2. 2\n",
       "3. 3\n",
       "\n",
       "\n"
      ],
      "text/latex": [
       "\\begin{enumerate*}\n",
       "\\item 1\n",
       "\\item 2\n",
       "\\item 3\n",
       "\\end{enumerate*}\n"
      ],
      "text/html": [
       "<style>\n",
       ".list-inline {list-style: none; margin:0; padding: 0}\n",
       ".list-inline>li {display: inline-block}\n",
       ".list-inline>li:not(:last-child)::after {content: \"\\00b7\"; padding: 0 .5ex}\n",
       "</style>\n",
       "<ol class=list-inline><li>1</li><li>2</li><li>3</li></ol>\n"
      ]
     },
     "metadata": {}
    }
   ],
   "metadata": {}
  },
  {
   "cell_type": "code",
   "execution_count": 15,
   "source": [
    "# With quotes -> read as a character ->\n",
    "# get column \"column_to_keep\"\n",
    "df[, \"column_to_keep\"]"
   ],
   "outputs": [
    {
     "output_type": "display_data",
     "data": {
      "text/plain": [
       "[1] 4 5 6"
      ],
      "text/markdown": [
       "1. 4\n",
       "2. 5\n",
       "3. 6\n",
       "\n",
       "\n"
      ],
      "text/latex": [
       "\\begin{enumerate*}\n",
       "\\item 4\n",
       "\\item 5\n",
       "\\item 6\n",
       "\\end{enumerate*}\n"
      ],
      "text/html": [
       "<style>\n",
       ".list-inline {list-style: none; margin:0; padding: 0}\n",
       ".list-inline>li {display: inline-block}\n",
       ".list-inline>li:not(:last-child)::after {content: \"\\00b7\"; padding: 0 .5ex}\n",
       "</style>\n",
       "<ol class=list-inline><li>4</li><li>5</li><li>6</li></ol>\n"
      ]
     },
     "metadata": {}
    }
   ],
   "metadata": {}
  },
  {
   "cell_type": "markdown",
   "source": [
    "But this is harder to deal with in tidyverse functions, because when they see text without quotes they assume you **are not** talking about a variable, you're talking about the actual name of a column:"
   ],
   "metadata": {}
  },
  {
   "cell_type": "code",
   "execution_count": 16,
   "source": [
    "library(dplyr)"
   ],
   "outputs": [
    {
     "output_type": "stream",
     "name": "stderr",
     "text": [
      "\n",
      "Attaching package: 'dplyr'\n",
      "\n",
      "\n",
      "The following objects are masked from 'package:stats':\n",
      "\n",
      "    filter, lag\n",
      "\n",
      "\n",
      "The following objects are masked from 'package:base':\n",
      "\n",
      "    intersect, setdiff, setequal, union\n",
      "\n",
      "\n"
     ]
    }
   ],
   "metadata": {}
  },
  {
   "cell_type": "code",
   "execution_count": 17,
   "source": [
    "# Get column \"column_to_keep\"\n",
    "select(df, column_to_keep)"
   ],
   "outputs": [
    {
     "output_type": "display_data",
     "data": {
      "text/plain": [
       "  column_to_keep\n",
       "1 4             \n",
       "2 5             \n",
       "3 6             "
      ],
      "text/markdown": [
       "\n",
       "A data.frame: 3 × 1\n",
       "\n",
       "| column_to_keep &lt;dbl&gt; |\n",
       "|---|\n",
       "| 4 |\n",
       "| 5 |\n",
       "| 6 |\n",
       "\n"
      ],
      "text/latex": [
       "A data.frame: 3 × 1\n",
       "\\begin{tabular}{l}\n",
       " column\\_to\\_keep\\\\\n",
       " <dbl>\\\\\n",
       "\\hline\n",
       "\t 4\\\\\n",
       "\t 5\\\\\n",
       "\t 6\\\\\n",
       "\\end{tabular}\n"
      ],
      "text/html": [
       "<table class=\"dataframe\">\n",
       "<caption>A data.frame: 3 × 1</caption>\n",
       "<thead>\n",
       "\t<tr><th scope=col>column_to_keep</th></tr>\n",
       "\t<tr><th scope=col>&lt;dbl&gt;</th></tr>\n",
       "</thead>\n",
       "<tbody>\n",
       "\t<tr><td>4</td></tr>\n",
       "\t<tr><td>5</td></tr>\n",
       "\t<tr><td>6</td></tr>\n",
       "</tbody>\n",
       "</table>\n"
      ]
     },
     "metadata": {}
    }
   ],
   "metadata": {}
  },
  {
   "cell_type": "markdown",
   "source": [
    "For normal scripting, this can save you from having to type double quotes around column names all the time. But when we write loops, we *need* to get our tidyverse functions to interpret text as variables, because the whole point of a loop is that we have a variable that's changing every time we go through the loop.\n",
    "\n",
    "For example, if I wanted to loop over the columns of this dataset, with array indexing I could write: "
   ],
   "metadata": {}
  },
  {
   "cell_type": "code",
   "execution_count": 18,
   "source": [
    "for (column_to_keep in c(\"a\", \"column_to_keep\")) {\n",
    "    print(df[, column_to_keep])\n",
    "}"
   ],
   "outputs": [
    {
     "output_type": "stream",
     "name": "stdout",
     "text": [
      "[1] 1 2 3\n",
      "[1] 4 5 6\n"
     ]
    }
   ],
   "metadata": {}
  },
  {
   "cell_type": "markdown",
   "source": [
    "But... how do I do that if I'm using `select`? If I do what I did here, I'd just get `column_to_keep` twice:"
   ],
   "metadata": {}
  },
  {
   "cell_type": "code",
   "execution_count": 19,
   "source": [
    "for (column_to_keep in c(\"a\", \"column_to_keep\")) {\n",
    "    print(select(df, column_to_keep))\n",
    "}"
   ],
   "outputs": [
    {
     "output_type": "stream",
     "name": "stdout",
     "text": [
      "  column_to_keep\n",
      "1              4\n",
      "2              5\n",
      "3              6\n",
      "  column_to_keep\n",
      "1              4\n",
      "2              5\n",
      "3              6\n"
     ]
    }
   ],
   "metadata": {}
  },
  {
   "cell_type": "markdown",
   "source": [
    "\n",
    "To get around this, there are some hacks to make tidyverse work with loops. For example, we can wrap our text in `.data[[]]` if that text refers to a column name to ensure it's interpreted as a variable and not a literal value. For example:"
   ],
   "metadata": {}
  },
  {
   "cell_type": "code",
   "execution_count": 20,
   "source": [
    "for (column_to_keep in c(\"a\", \"column_to_keep\")) {\n",
    "    print(select(df, .data[[column_to_keep]]))\n",
    "}"
   ],
   "outputs": [
    {
     "output_type": "stream",
     "name": "stdout",
     "text": [
      "  a\n",
      "1 1\n",
      "2 2\n",
      "3 3\n",
      "  column_to_keep\n",
      "1              4\n",
      "2              5\n",
      "3              6\n"
     ]
    }
   ],
   "metadata": {}
  },
  {
   "cell_type": "markdown",
   "source": [
    "Of course, that trick doesn't solve all problems from looping over things in the tidyverse... For example, if wanted to do this with `mutate` I couldn't use `.data[[c]]` for the name of the new column:\n",
    "\n",
    "```r\n",
    "for (column_to_keep in c(\"a\", \"column_to_keep\")) {\n",
    "    df <- mutate(df, .data[[column_to_keep]] = .data[[column_to_keep]]/ 1000\n",
    "}\n",
    "\n",
    "> ERROR: Error in parse(text = x, srcfile = src): <text>:2:46: unexpected '='\n",
    "> 1: for (column_to_keep in c(\"a\", \"column_to_keep\")) {\n",
    "> 2:     df <- mutate(df, .data[[column_to_keep]] =\n",
    ">                                                 ^\n",
    "> Error in parse(text = x, srcfile = src): <text>:2:46: unexpected '='\n",
    "> 1: for (column_to_keep in c(\"a\", \"column_to_keep\")) {\n",
    "> 2:     df <- mutate(df, .data[[column_to_keep]] =\n",
    ">                                                 ^\n",
    "> Traceback:\n",
    "```"
   ],
   "metadata": {}
  },
  {
   "cell_type": "markdown",
   "source": [
    "And this is one of the reasons that it's good not to become *over-reliant* on tidyverse libraries -- for basic scripting they can be very convenient, but it's important to be comfortable with traditional tools like array indexing when things break down."
   ],
   "metadata": {}
  },
  {
   "cell_type": "markdown",
   "source": [
    "But we *will* do some less-contrived looping over tidyverse functions in our exercises, so I wanted a simple example here. "
   ],
   "metadata": {}
  },
  {
   "cell_type": "markdown",
   "source": [
    "## Don't Loop Over Your Full Data \n",
    "\n",
    "Finally, a super super important note about loops:"
   ],
   "metadata": {}
  },
  {
   "cell_type": "markdown",
   "source": [
    "<div class=\"alert alert-warning\">\n",
    "\n",
    "**CAUTION** Do not loop over your dataset rows\n",
    "\n",
    "Loops are powerful, but one thing you almost never want to do is loop over the rows of your dataset. The reason is that looping is **much** slower than doing an operation using vector math (a practice called \"vectorization\").\n",
    "\n",
    "</div>"
   ],
   "metadata": {}
  },
  {
   "cell_type": "markdown",
   "source": [
    "To illustrate, suppose I want to add up two vectors, each with 10,000,000 entries, and time the operation:"
   ],
   "metadata": {}
  },
  {
   "cell_type": "code",
   "execution_count": 21,
   "source": [
    "# Two random variables:\n",
    "v1 <- rnorm(10000000)\n",
    "v2 <- rnorm(10000000)\n",
    "\n",
    "# add up with vector math:\n",
    "\n",
    "# Record the current time\n",
    "start <- proc.time()\n",
    "\n",
    "# Multiply entries in two vectors\n",
    "v1 <- v1 / v2 + 20\n",
    "\n",
    "# Record current time\n",
    "stop <- proc.time()\n",
    "\n",
    "# Measure how much time elapsed\n",
    "run_time_vector_addition <- stop - start\n",
    "run_time_vector_addition"
   ],
   "outputs": [],
   "metadata": {}
  },
  {
   "cell_type": "markdown",
   "source": [
    "Note I have to put them in a function to do it because of how "
   ],
   "metadata": {}
  },
  {
   "cell_type": "code",
   "execution_count": null,
   "source": [
    "# Now add them up in a loop.\n",
    "\n",
    "# Record the current time\n",
    "start <- proc.time()\n",
    "\n",
    "# Multiplying entries in a loop\n",
    "for (i in 1:10000000) {\n",
    "    v1[i] <- v1[i] / v2[i] + 20\n",
    "}\n",
    "\n",
    "# Record current time\n",
    "stop <- proc.time()\n",
    "\n",
    "# Measure how much time elapsed\n",
    "run_time_loop_addition <- stop - start\n",
    "run_time_loop_addition"
   ],
   "outputs": [
    {
     "output_type": "display_data",
     "data": {
      "text/plain": [
       "   user  system elapsed \n",
       "  0.655   0.010   0.670 "
      ]
     },
     "metadata": {}
    }
   ],
   "metadata": {}
  },
  {
   "cell_type": "code",
   "execution_count": null,
   "source": [
    "# Looped took about this many time longer:\n",
    "\n",
    "round(run_time_loop_addition[1] / run_time_vector_addition[1], 2)\n"
   ],
   "outputs": [
    {
     "output_type": "display_data",
     "data": {
      "text/plain": [
       "user.self \n",
       "     8.97 "
      ],
      "text/markdown": [
       "**user.self:** 8.97"
      ],
      "text/latex": [
       "\\textbf{user.self:} 8.97"
      ],
      "text/html": [
       "<strong>user.self:</strong> 8.97"
      ]
     },
     "metadata": {}
    }
   ],
   "metadata": {}
  },
  {
   "cell_type": "markdown",
   "source": [
    "So... yeah, >7x slower (the ratio varies over runs depending on things like how many other processes are running on your computer, so the code output may not quite match that text). Don't do it.\n",
    "\n",
    "Of course, in this example, the actual manipulations we're doing are small enough that in absolute terms both operations are fast enough that it wouldn't really matter which one you choose, but as you get into more complicated data manipulations, this kind of 10x speed difference (and often the differences are much much larger, on the order of 100x or more) can be the difference between your code running in a couple of seconds and versus a couple of hours (or the difference between running in a couple minutes and taking a couple days).\n",
    "\n",
    "(If you want to know why, I have an explanation for the [same phenomenon in Python here](https://www.practicaldatascience.org/html/performance_understanding.html). The examples have Python code, but the principles are the same.)\n",
    "\n",
    "So what should you do instead? You always want to write *vectorized code*, meaning code that operates on vectors as a whole rather than on the entries of a vector one at a time."
   ],
   "metadata": {}
  },
  {
   "cell_type": "markdown",
   "source": [
    "## Exercises for Now\n",
    "\n",
    "\n",
    "1. Use a for loop to take the square root of each value in the following \n",
    "vector: `vec1 <- c(4, 9, 81, 100, 1000, 10^6)`. Save the results to a new \n",
    "vector called `vec2`. \n",
    "\n",
    "2. Monte Carlo Simulation (ambitious exercise): Imagine that the values in the vector `pop` below represent vote shares for a presidential candidate across the 3,144 counties in the United States. If we were to take a sample of 50 counties and estimate mean support for the presidential candidate, would we, on average, estimate the vote share across all counties accurately? \n",
    " \n",
    "```R\n",
    "# Draw vector of length 3144 with random vectors\n",
    "# containing values uniformally distributed between\n",
    "# 0 and 1. \n",
    "pop <- runif(n = 3144, min = 0, max = 1)\n",
    "```\n",
    "\n",
    "(Don't worry about the fact that we really should be weighing counties by their population size to estimate overall\n",
    "support.) \n",
    "\n",
    "Draw 10,000 samples of 50 counties from `pop` and estimate mean support for each sample, saving each mean estimate into a vector called `smpl_means`. How does the mean of the sample means compare to the population mean? Do we, on average, do a good job of estimating the population mean? "
   ],
   "metadata": {
    "lines_to_next_cell": 0
   }
  },
  {
   "cell_type": "markdown",
   "source": [
    "## Exercises for Class\n",
    "\n",
    "[Here are some exercises](exercises/exercise_loops.ipynb) we'll be doing in our synchronous class. If you are enrolled in our synchronous sessions, **please do not** do these before class! If you're reading these materials on your own or are enrolled in our asynchronous class, feel free to take a look now."
   ],
   "metadata": {}
  }
 ],
 "metadata": {
  "jupytext": {
   "cell_metadata_filter": "echo,-all",
   "main_language": "R",
   "notebook_metadata_filter": "-all"
  },
  "language_info": {
   "name": "R",
   "codemirror_mode": "r",
   "pygments_lexer": "r",
   "mimetype": "text/x-r-source",
   "file_extension": ".r",
   "version": "4.1.0"
  },
  "kernelspec": {
   "name": "ir",
   "display_name": "R",
   "language": "R"
  }
 },
 "nbformat": 4,
 "nbformat_minor": 5
}