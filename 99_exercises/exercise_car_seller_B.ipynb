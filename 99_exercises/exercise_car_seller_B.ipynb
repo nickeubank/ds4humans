{
 "cells": [
  {
   "cell_type": "markdown",
   "metadata": {},
   "source": [
    "# Car Seller A\n",
    "\n",
    "Hello!\n",
    "\n",
    "You have just graduated from Duke with your Masters of Interdisciplinary Data Science (MIDS) degree. Congratulations! It's been a long two years, but you worked hard, made some great friends, learned a *tremendous* amount, and will be leaving to start your new dream job in a few months. \n",
    "\n",
    "Since you'll be leaving Durham, you've decided to sell the 2012 Toyota Camry you purchased when you first arrived in Durham. It's been a great car and it's full of some good memories, but you're moving to [location of dream job], and it's just not feasible to bring it with you.\n",
    "\n",
    "![stock camry photo](images/camry.jpeg)\n",
    "\n",
    "## Pricing\n",
    "\n",
    "The first thing you do after you decide to sell your car is go to the Kelly Blue Book (KBB) website to see what [2012 Toyota Camry's have been selling for you in your area](https://www.kbb.com/toyota/camry/2012/). KBB is basically the \"go-to\" resource for getting a ballpark value for a used car in the US — they collect records of all used car sales and report the range of prices cars go for based on:\n",
    "\n",
    "- Make (Toyota)\n",
    "- Model (Camry)\n",
    "- Trim (the specific options the car came with, yours is a mid-trim, the SE Sedan 4D)\n",
    "- Model Year (2012)\n",
    "- Mileage on the car (how far it's been driven in its life — let's say 85,000 miles)\n",
    "- Condition, divided into Excellent, Very Good, Good, and Fair. You can see these categories [detailed here](https://auto.howstuffworks.com/buying-selling/kelley-blue-book4.htm). Your car is probably \"Good\":\n",
    "    - \"Good condition means that the vehicle is free of any major defects. This vehicle has a clean Title History, the paint, body and interior have only minor (if any) blemishes, and there are no major mechanical problems. There should be little or no rust on this vehicle. The tires match and have substantial tread wear left. A \"good\" vehicle will need some reconditioning to be sold at retail. Most consumer owned vehicles fall into this category.\"\n",
    "\n",
    "Condition is obviously one of the trickier categories, but Kelly Blue Book has a pretty good questionnaire that asks about things like odor, maintenance records, paint chips, etc. \n",
    "\n",
    "[In fact, why don't you go fill it out to get a feel for things!](https://www.kbb.com/detailed-condition-quiz/) Answer for a real car if you have one or your family recently had one, or just make it up if not.\n",
    "\n",
    "## Putting It On The Market\n",
    "\n",
    "The Kelly Blue Book quiz says your car is in Good condition, and that if you sold the car yourself, you could probably expect to get between \\$5,500 and \\$7,700.\n",
    "\n",
    "![kelly blue book price estimate](images/camry_kbb.png)\n",
    "\n",
    "You want to sell the car, so you put it on the market yourself at what you think is a pretty good price to sell — \\$6,500, the bottom of that price range.\n",
    "\n",
    "But... oh man, you're feeling a little overwhelmed. Everyone who sees the car wants it. See, your car has a custom paint job that's *beautiful* — a gorgeous metallic blue that really makes it stand out from all the other Camry's on the road. Not only that, but the interior is *immaculate* — see, you and the previous owners are total neat freaks, so the leather seats basically look like they just came out of the factory. Before you know it, you're facing a bidding war with people offering you well above Blue Book — up to \\$8,000! And who knows, if you wait a little longer, you may get even more!\n",
    "\n",
    "\n",
    "## Kelly Blue Book Instant Cash Offer\n",
    "\n",
    "Before you started having people come see the car in person, you discovered that you could get an instant, guaranteed cash offer from Kelly Blue Book! They're so confident in their pricing model that they offer car owners a guaranteed cash price based on their answers to their survey questions. So why don't you ask them what they're willing to offer you before you decide whether to take that \\$8,000 offer?"
   ]
  }
 ],
 "metadata": {
  "language_info": {
   "name": "python"
  }
 },
 "nbformat": 4,
 "nbformat_minor": 2
}
